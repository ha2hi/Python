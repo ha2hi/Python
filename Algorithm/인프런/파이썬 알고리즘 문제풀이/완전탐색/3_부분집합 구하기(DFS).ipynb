{
 "cells": [
  {
   "cell_type": "code",
   "execution_count": 18,
   "metadata": {},
   "outputs": [
    {
     "name": "stdout",
     "output_type": "stream",
     "text": [
      "1 2 3 \n",
      "1 2 \n",
      "1 3 \n",
      "1 \n",
      "2 3 \n",
      "2 \n",
      "3 \n",
      "\n"
     ]
    }
   ],
   "source": [
    "def solution(n):\n",
    "    answer = [0] * n\n",
    "    def dfs(l):\n",
    "        if l == n:\n",
    "            for x in answer:\n",
    "                if x != 0:\n",
    "                    print(x, end =  \" \")\n",
    "            print()\n",
    "        else:\n",
    "            answer[l] = l+1\n",
    "            dfs(l+1)\n",
    "            answer[l] = 0\n",
    "            dfs(l+1)\n",
    "\n",
    "    dfs(0)\n",
    "\n",
    "n = 3\n",
    "solution(n)"
   ]
  },
  {
   "cell_type": "code",
   "execution_count": 3,
   "metadata": {},
   "outputs": [
    {
     "name": "stdout",
     "output_type": "stream",
     "text": [
      "1 2 3\n"
     ]
    }
   ],
   "source": [
    "a = [1,2,3]\n",
    "print(*a)"
   ]
  },
  {
   "cell_type": "code",
   "execution_count": null,
   "metadata": {},
   "outputs": [],
   "source": []
  }
 ],
 "metadata": {
  "kernelspec": {
   "display_name": "base",
   "language": "python",
   "name": "python3"
  },
  "language_info": {
   "codemirror_mode": {
    "name": "ipython",
    "version": 3
   },
   "file_extension": ".py",
   "mimetype": "text/x-python",
   "name": "python",
   "nbconvert_exporter": "python",
   "pygments_lexer": "ipython3",
   "version": "3.9.7"
  }
 },
 "nbformat": 4,
 "nbformat_minor": 2
}
