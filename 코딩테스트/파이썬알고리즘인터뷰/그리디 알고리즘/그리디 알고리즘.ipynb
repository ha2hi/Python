{
 "cells": [
  {
   "cell_type": "code",
   "execution_count": 3,
   "metadata": {},
   "outputs": [
    {
     "data": {
      "text/plain": [
       "17.333333333333332"
      ]
     },
     "execution_count": 3,
     "metadata": {},
     "output_type": "execute_result"
    }
   ],
   "source": [
    "### 배낭 문제(짐을 쪼갤 수 있는 경우)\n",
    "# 짐의 가치와 무게가 있는 짐들 중에서 최대값이 정해져 있 을 때 최대 가치를 구하는 방법\n",
    "def fractional_knapsack(cargo):\n",
    "    capacity = 15\n",
    "    pack = []\n",
    "    for c in cargo:\n",
    "        pack.append((c[0]/c[1], c[0], c[1]))\n",
    "    pack.sort(reverse=True) # 단가 기준으로 정렬\n",
    "\n",
    "    total_value: flaot = 0\n",
    "    for p in pack:\n",
    "        if capacity-p[2] >= 0:\n",
    "            capacity -= p[2]\n",
    "            total_value += p[1]\n",
    "        else:\n",
    "            fraction = capacity / p[2]\n",
    "            total_value += fraction * p[1]\n",
    "            break\n",
    "    \n",
    "    return total_value\n",
    "\n",
    "cargo = [\n",
    "    (4,12), # (가치,무게)\n",
    "    (2,1),\n",
    "    (10,4),\n",
    "    (1,1),\n",
    "    (2,2)\n",
    "]\n",
    "fractional_knapsack(cargo)"
   ]
  },
  {
   "cell_type": "code",
   "execution_count": null,
   "metadata": {},
   "outputs": [],
   "source": []
  },
  {
   "cell_type": "code",
   "execution_count": null,
   "metadata": {},
   "outputs": [],
   "source": [
    "### 주식을 사고팔기 가장 좋은 시점2\n",
    "https://leetcode.com/problems/best-time-to-buy-and-sell-stock-ii/submissions/1284937760/\n",
    "\n",
    "여러 번의 거래로 낼 수 있는 최대 이익을 산출하라.\n",
    "- 입력\n",
    "  - prices = [7,1,5,3,6,4]\n",
    "- 출력\n",
    "  - 7"
   ]
  },
  {
   "cell_type": "code",
   "execution_count": 8,
   "metadata": {},
   "outputs": [
    {
     "data": {
      "text/plain": [
       "0"
      ]
     },
     "execution_count": 8,
     "metadata": {},
     "output_type": "execute_result"
    }
   ],
   "source": [
    "# 내풀이\n",
    "from typing import List\n",
    "class Solution:\n",
    "    def maxProfit(self, prices: List[int]) -> int:\n",
    "        n = len(prices)\n",
    "        now = prices[0]\n",
    "        res = 0\n",
    "        for i in range(1,n):\n",
    "            if now <= prices[i]:\n",
    "                res += (prices[i]-now)\n",
    "            now = prices[i]\n",
    "        \n",
    "        return res\n",
    "\n",
    "Solution().maxProfit([7,6,4,3,1])"
   ]
  },
  {
   "cell_type": "code",
   "execution_count": null,
   "metadata": {},
   "outputs": [],
   "source": [
    "#책 풀이 1\n",
    "from typing import List\n",
    "class Solution:\n",
    "    def maxProfit(self, prices: List[int]) -> int:\n",
    "        res = 0\n",
    "        for i in range(len(prices)-1):\n",
    "            if prices[i+1] > prices[i]:\n",
    "                res += prices[i+1] - prices[i]\n",
    "\n",
    "        return res"
   ]
  },
  {
   "cell_type": "code",
   "execution_count": 10,
   "metadata": {},
   "outputs": [
    {
     "data": {
      "text/plain": [
       "7"
      ]
     },
     "execution_count": 10,
     "metadata": {},
     "output_type": "execute_result"
    }
   ],
   "source": [
    "#책 풀이2\n",
    "from typing import List\n",
    "class Solution:\n",
    "    def maxProfit(self, prices: List[int]) -> int:\n",
    "        return sum(max(prices[i+1]-prices[i], 0) for i in range(len(prices)-1))\n",
    "\n",
    "Solution().maxProfit([7,1,5,3,6,4])"
   ]
  },
  {
   "cell_type": "code",
   "execution_count": null,
   "metadata": {},
   "outputs": [],
   "source": []
  }
 ],
 "metadata": {
  "kernelspec": {
   "display_name": "base",
   "language": "python",
   "name": "python3"
  },
  "language_info": {
   "codemirror_mode": {
    "name": "ipython",
    "version": 3
   },
   "file_extension": ".py",
   "mimetype": "text/x-python",
   "name": "python",
   "nbconvert_exporter": "python",
   "pygments_lexer": "ipython3",
   "version": "3.9.7"
  }
 },
 "nbformat": 4,
 "nbformat_minor": 2
}
