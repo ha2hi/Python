{
 "cells": [
  {
   "cell_type": "code",
   "execution_count": 1,
   "metadata": {},
   "outputs": [
    {
     "name": "stdout",
     "output_type": "stream",
     "text": [
      "3\n"
     ]
    }
   ],
   "source": [
    "# https://www.acmicpc.net/problem/5534\n",
    "def check(old_baord):\n",
    "    if board == old_board:\n",
    "        return 1\n",
    "\n",
    "    for i in range(len(old_board)):\n",
    "        if old_board[i] == board[0]:\n",
    "            for j in range(i+1, len(old_board)):\n",
    "                if old_board[j] == board[-1]:\n",
    "                    gap = (j-i) // (len(board)-1)\n",
    "                    now = 0\n",
    "                    while now < len(board):\n",
    "                        if old_board[i+(gap*now)] == board[now]:\n",
    "                            now += 1\n",
    "                        else:\n",
    "                            break\n",
    "                    else:\n",
    "                        return 1\n",
    "    return 0\n",
    "\n",
    "\n",
    "n = int(input())\n",
    "board = input()\n",
    "answer = 0\n",
    "for _ in range(n):\n",
    "    old_board = input()\n",
    "    answer += check(old_board)\n",
    "    \n",
    "print(answer)"
   ]
  }
 ],
 "metadata": {
  "kernelspec": {
   "display_name": "base",
   "language": "python",
   "name": "python3"
  },
  "language_info": {
   "codemirror_mode": {
    "name": "ipython",
    "version": 3
   },
   "file_extension": ".py",
   "mimetype": "text/x-python",
   "name": "python",
   "nbconvert_exporter": "python",
   "pygments_lexer": "ipython3",
   "version": "3.9.7"
  }
 },
 "nbformat": 4,
 "nbformat_minor": 2
}
