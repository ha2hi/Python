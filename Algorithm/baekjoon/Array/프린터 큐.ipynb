{
 "cells": [
  {
   "cell_type": "code",
   "execution_count": 6,
   "metadata": {},
   "outputs": [
    {
     "name": "stdout",
     "output_type": "stream",
     "text": [
      "1\n",
      "2\n",
      "5\n"
     ]
    }
   ],
   "source": [
    "from collections import deque\n",
    "t = int(input())\n",
    "for _ in range(t):\n",
    "    n, m = map(int, input().split())\n",
    "    a = list(map(int, input().split()))\n",
    "    q = deque()\n",
    "    res = 0\n",
    "    for k, v in enumerate(a):\n",
    "        q.append((k,v))\n",
    "\n",
    "    while q:\n",
    "        now_k, now_v = q.popleft()\n",
    "        if not q:\n",
    "            res += 1\n",
    "            break\n",
    "        if now_v >= max([v for k,v in q]):\n",
    "            res += 1\n",
    "            if now_k == m:\n",
    "                break\n",
    "        else:\n",
    "            q.append((now_k, now_v))\n",
    "    print(res)"
   ]
  },
  {
   "cell_type": "code",
   "execution_count": null,
   "metadata": {},
   "outputs": [],
   "source": []
  }
 ],
 "metadata": {
  "kernelspec": {
   "display_name": "base",
   "language": "python",
   "name": "python3"
  },
  "language_info": {
   "codemirror_mode": {
    "name": "ipython",
    "version": 3
   },
   "file_extension": ".py",
   "mimetype": "text/x-python",
   "name": "python",
   "nbconvert_exporter": "python",
   "pygments_lexer": "ipython3",
   "version": "3.9.7"
  }
 },
 "nbformat": 4,
 "nbformat_minor": 2
}
