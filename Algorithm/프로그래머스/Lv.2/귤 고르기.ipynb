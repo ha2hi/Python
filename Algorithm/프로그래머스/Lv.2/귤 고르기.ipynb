{
 "cells": [
  {
   "cell_type": "code",
   "execution_count": 31,
   "metadata": {},
   "outputs": [
    {
     "data": {
      "text/plain": [
       "3"
      ]
     },
     "execution_count": 31,
     "metadata": {},
     "output_type": "execute_result"
    }
   ],
   "source": [
    "# https://school.programmers.co.kr/learn/courses/30/lessons/138476\n",
    "from collections import Counter\n",
    "def solution(k, tangerine):\n",
    "    res = 0\n",
    "    tangerine = Counter(tangerine)\n",
    "    tangerine = sorted(tangerine.items(), key=lambda x : x[1], reverse=True)\n",
    "    for key, val in tangerine:\n",
    "        k -= val\n",
    "        res += 1\n",
    "        if k <= 0:\n",
    "            return res\n",
    "\n",
    "\n",
    "k = 6\n",
    "tangerine = [1, 3, 2, 5, 4, 5, 2, 3]\n",
    "solution(k, tangerine)"
   ]
  },
  {
   "cell_type": "code",
   "execution_count": 29,
   "metadata": {},
   "outputs": [
    {
     "name": "stdout",
     "output_type": "stream",
     "text": [
      "1\n",
      "2\n"
     ]
    }
   ],
   "source": [
    "a = {'a':1, 'b':2}\n",
    "for x in a.values():\n",
    "    print(x)"
   ]
  },
  {
   "cell_type": "code",
   "execution_count": 9,
   "metadata": {},
   "outputs": [
    {
     "ename": "SyntaxError",
     "evalue": "invalid syntax (639855147.py, line 1)",
     "output_type": "error",
     "traceback": [
      "\u001b[0;36m  File \u001b[0;32m\"/var/folders/hs/qgyqqppj281bp7zh9vj3jry40000gn/T/ipykernel_943/639855147.py\"\u001b[0;36m, line \u001b[0;32m1\u001b[0m\n\u001b[0;31m    300 조\u001b[0m\n\u001b[0m        ^\u001b[0m\n\u001b[0;31mSyntaxError\u001b[0m\u001b[0;31m:\u001b[0m invalid syntax\n"
     ]
    }
   ],
   "source": []
  },
  {
   "cell_type": "code",
   "execution_count": null,
   "metadata": {},
   "outputs": [],
   "source": []
  }
 ],
 "metadata": {
  "kernelspec": {
   "display_name": "base",
   "language": "python",
   "name": "python3"
  },
  "language_info": {
   "codemirror_mode": {
    "name": "ipython",
    "version": 3
   },
   "file_extension": ".py",
   "mimetype": "text/x-python",
   "name": "python",
   "nbconvert_exporter": "python",
   "pygments_lexer": "ipython3",
   "version": "3.9.7"
  }
 },
 "nbformat": 4,
 "nbformat_minor": 2
}
