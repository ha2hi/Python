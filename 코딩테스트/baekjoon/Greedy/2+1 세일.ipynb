{
 "cells": [
  {
   "cell_type": "code",
   "execution_count": 8,
   "metadata": {},
   "outputs": [
    {
     "name": "stdout",
     "output_type": "stream",
     "text": [
      "8\n"
     ]
    }
   ],
   "source": [
    "# https://www.acmicpc.net/problem/11508\n",
    "def solution(n, a):\n",
    "    a.sort(reverse=True)\n",
    "    res = 0\n",
    "    for i in range(n):\n",
    "        if (i+1) % 3 == 0:\n",
    "            continue\n",
    "        res += a[i]\n",
    "    return res\n",
    "\n",
    "n = int(input())\n",
    "a = []\n",
    "for _ in range(n):\n",
    "    a.append(int(input()))\n",
    "\n",
    "print(solution(n, a))"
   ]
  },
  {
   "cell_type": "code",
   "execution_count": null,
   "metadata": {},
   "outputs": [],
   "source": []
  }
 ],
 "metadata": {
  "kernelspec": {
   "display_name": "base",
   "language": "python",
   "name": "python3"
  },
  "language_info": {
   "codemirror_mode": {
    "name": "ipython",
    "version": 3
   },
   "file_extension": ".py",
   "mimetype": "text/x-python",
   "name": "python",
   "nbconvert_exporter": "python",
   "pygments_lexer": "ipython3",
   "version": "3.9.7"
  }
 },
 "nbformat": 4,
 "nbformat_minor": 2
}
