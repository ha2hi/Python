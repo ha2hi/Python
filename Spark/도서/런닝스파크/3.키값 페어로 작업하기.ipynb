{
 "cells": [
  {
   "cell_type": "markdown",
   "metadata": {},
   "source": [
    "### 페어 RDD 생성\n",
    "파이썬에서는 키를 가지는 데이터로 동작하는 함수들을 고려해 튜플로 구성된 RDD를 되돌려 주어야한다.\n",
    "```\n",
    "pairs = lines.map(lambda x : (x.split(\" \")[0], x))\n",
    "```\n",
    "### 페어 RDD의 트랜스포메이션\n",
    "1. reduceByKey(func)  \n",
    "동일한 키에 대한 값들을 합친다.\n",
    "```\n",
    "lines = sc.parallelize([(1,2), (3,4), (3,6)])\n",
    "lines.reduceByKey(lambda x, y : x+y).collect()\n",
    "=> [(1, 2), (3, 10)]\n",
    "```\n",
    "2. groupByKey  \n",
    "동일 키에 대한 값들을 그룹화한다.\n",
    "```\n",
    "lines = sc.parallelize([(1,2), (3,4), (3,6)])\n",
    "lines = lines.groupByKey()\n",
    "for key, value in lines.collect():\n",
    "    print(key, list(value))\n",
    "=> 1 [2], 3 [4, 6]\n",
    "```\n",
    "3. mapValues(func)\n",
    "키의 변경 없이 페어 RDD의 각 값에 함수를 적용한다.\n",
    "```\n",
    "lines = sc.parallelize([(1,2), (3,4), (3,6)])\n",
    "lines.mapValues(lambda x : x+1).collect()\n",
    "=> [(1, 3), (3, 5), (3, 7)]\n",
    "```\n",
    "4. keys()\n",
    "RDD가 가진 키들만을 되돌려 준다.\n",
    "```\n",
    "lines = sc.parallelize([(1,2), (3,4), (3,6)])\n",
    "lines.keys().collect()\n",
    "=> [1,3,3]\n",
    "```\n",
    "5. values()\n",
    "RDD가 가진 값들만을 되돌려 준다.\n",
    "```\n",
    "lines = sc.parallelize([(1,2), (3,4), (3,6)])\n",
    "lines.values().collect()\n",
    "=>[2,4,6]\n",
    "```\n",
    "6. sortByKey()\n",
    "키로 정렬된 RDD를 돌려준다.\n",
    "```\n",
    "lines = sc.parallelize([(1,2), (3,4), (3,6)])\n",
    "lines.sortByKey().collect()\n",
    "=>[(1,2),(3,4),(3,6)]\n",
    "```"
   ]
  },
  {
   "cell_type": "code",
   "execution_count": null,
   "metadata": {},
   "outputs": [],
   "source": []
  },
  {
   "cell_type": "markdown",
   "metadata": {},
   "source": [
    "### 두 페어 RDD에 대한 트랜스포메이션\n",
    "1. subtractByKey()\n",
    "키를 기준으로 제거한다.\n",
    "```\n",
    "rdd = sc.parallelize([(1,2), (3,4), (3,6)])\n",
    "other = sc.parallelize([(3,9)])\n",
    "rdd.subtractByKey(other).collect()\n",
    "=> [(1,2)]\n",
    "```\n",
    "2. join\n",
    "키를 기준으로 inner join한다.\n",
    "```\n",
    "rdd = sc.parallelize([(1,2), (3,4), (3,6)])\n",
    "other = sc.parallelize([(3,9)])\n",
    "rdd.join(other).collect()\n",
    "=> [(3, (4, 9)), (3, (6, 9))]\n",
    "```\n",
    "3. leftOuterJoin\n",
    "```\n",
    "rdd = sc.parallelize([(1,2), (3,4), (3,6)])\n",
    "other = sc.parallelize([(3,9)])\n",
    "rdd.leftOuterJoin(other).collect()\n",
    "=> [(1, (2, None)), (3, (4, 9)), (3, (6, 9))]\n",
    "```\n",
    "4. cogroup\n",
    "동일 키에 대해 양쪽 RDD를 그룹화한다.\n",
    "```\n",
    "rdd = sc.parallelize([(1,2), (3,4), (3,6)])\n",
    "other = sc.parallelize([(3,9)])\n",
    "for key, vaule in rdd.cogroup(other).collect():\n",
    "    print(key, list(value), end=\" \")\n",
    "=> [(1, ([2],[])), (3, ([4,6],[9]))]\n",
    "```"
   ]
  },
  {
   "cell_type": "code",
   "execution_count": null,
   "metadata": {},
   "outputs": [],
   "source": []
  },
  {
   "cell_type": "markdown",
   "metadata": {},
   "source": [
    "## 집합 연산\n",
    "### reduceByKey()\n",
    "reduceByKey()는 reduce()와 매우 유사하다. 둘 다 함수를 받아 값들을 합치는 데에 사용한다.\n",
    "- 키 별 평균하기\n",
    "```\n",
    "rdd = sc.parallelize([('panda',0), ('pink',3), ('pirate',3), ('panda',1), ('pink',4)])\n",
    "rdd.mapValues(lambda x : (x,1)).reduceByKey(lambda x, y : (x[0]+y[0], x[1]+y[1])).collect()\n",
    "=> [('panda', (1, 2)), ('pink', (7, 2)), ('pirate', (3, 1))]\n",
    "```\n",
    "### combineByKey()\n",
    "combineByKey()는 키별 집합 연산 중 가장 일반적으로 쓰인다.  \n",
    "aggregate()와 마찬가지로 combineByKey() 또한 입력 데이터와 동일한 타입의 값을 되돌려 줄 필요가 없다.  \n",
    "combineByKey()는 한 파티션 내의 데이터들을 하나 씩 처리하게 되며, 각 데이터는 이전에 나온 적이 없는 키를 갖고 있을 수도 있고 같은 키도 갖을 수 있다.  "
   ]
  },
  {
   "cell_type": "markdown",
   "metadata": {},
   "source": []
  },
  {
   "cell_type": "code",
   "execution_count": null,
   "metadata": {},
   "outputs": [],
   "source": []
  }
 ],
 "metadata": {
  "kernelspec": {
   "display_name": "base",
   "language": "python",
   "name": "python3"
  },
  "language_info": {
   "name": "python",
   "version": "3.9.7"
  }
 },
 "nbformat": 4,
 "nbformat_minor": 2
}
