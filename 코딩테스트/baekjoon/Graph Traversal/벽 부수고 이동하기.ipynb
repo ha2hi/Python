{
 "cells": [
  {
   "cell_type": "code",
   "execution_count": 10,
   "metadata": {},
   "outputs": [
    {
     "name": "stdout",
     "output_type": "stream",
     "text": [
      "15\n"
     ]
    }
   ],
   "source": [
    "# https://www.acmicpc.net/problem/2206\n",
    "from collections import deque\n",
    "def bfs(a,b,c):\n",
    "    q = deque([(a,b,c)])\n",
    "    while q:\n",
    "        x, y, z = q.popleft()\n",
    "        if x == n-1 and y == m-1:\n",
    "            return ch[x][y][z]\n",
    "        \n",
    "        for i in range(4):\n",
    "            xx = x + dx[i]\n",
    "            yy = y + dy[i]\n",
    "            if 0<=xx<n and 0<=yy<m and ch[xx][yy][z] == 0:\n",
    "                if board[xx][yy] == 1 and z == 0:\n",
    "                    ch[xx][yy][1] = ch[x][y][0] + 1\n",
    "                    q.append((xx,yy, 1))\n",
    "                elif board[xx][yy] == 0:\n",
    "                    ch[xx][yy][z] = ch[x][y][z] +1\n",
    "                    q.append((xx,yy, z))\n",
    "    return -1\n",
    "\n",
    "\n",
    "n, m = map(int, input().split())\n",
    "board = [list(map(int, input())) for _ in range(n)]\n",
    "ch = [[[0] * 2 for _ in range(m)] for _ in range(n)]\n",
    "ch[0][0][0] = 1\n",
    "dx = [-1,0,1,0]\n",
    "dy = [0,1,0,-1]\n",
    "\n",
    "print(bfs(0,0,0))"
   ]
  },
  {
   "cell_type": "code",
   "execution_count": null,
   "metadata": {},
   "outputs": [],
   "source": []
  }
 ],
 "metadata": {
  "kernelspec": {
   "display_name": "base",
   "language": "python",
   "name": "python3"
  },
  "language_info": {
   "codemirror_mode": {
    "name": "ipython",
    "version": 3
   },
   "file_extension": ".py",
   "mimetype": "text/x-python",
   "name": "python",
   "nbconvert_exporter": "python",
   "pygments_lexer": "ipython3",
   "version": "3.9.7"
  }
 },
 "nbformat": 4,
 "nbformat_minor": 2
}
