{
 "cells": [
  {
   "cell_type": "code",
   "execution_count": 3,
   "metadata": {},
   "outputs": [
    {
     "name": "stdout",
     "output_type": "stream",
     "text": [
      "1 4 5 3 2\n"
     ]
    }
   ],
   "source": [
    "# https://www.acmicpc.net/problem/22858\n",
    "import copy\n",
    "n, k = map(int, input().split())\n",
    "s = [0] + list(map(int, input().split()))\n",
    "d = [0] + list(map(int, input().split()))\n",
    "\n",
    "p = [0]*(n+1)\n",
    "\n",
    "for _ in range(k):\n",
    "    for i in range(1, n+1):\n",
    "        p[d[i]] = s[i]\n",
    "    \n",
    "    s = copy.deepcopy(p)\n",
    "\n",
    "print(*p[1:])"
   ]
  },
  {
   "cell_type": "code",
   "execution_count": null,
   "metadata": {},
   "outputs": [],
   "source": []
  }
 ],
 "metadata": {
  "kernelspec": {
   "display_name": "base",
   "language": "python",
   "name": "python3"
  },
  "language_info": {
   "codemirror_mode": {
    "name": "ipython",
    "version": 3
   },
   "file_extension": ".py",
   "mimetype": "text/x-python",
   "name": "python",
   "nbconvert_exporter": "python",
   "pygments_lexer": "ipython3",
   "version": "3.9.-1"
  }
 },
 "nbformat": 4,
 "nbformat_minor": 2
}
