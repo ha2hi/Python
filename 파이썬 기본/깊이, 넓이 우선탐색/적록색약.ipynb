{
 "cells": [
  {
   "cell_type": "code",
   "execution_count": null,
   "metadata": {},
   "outputs": [
    {
     "name": "stdout",
     "output_type": "stream",
     "text": [
      "4 3\n"
     ]
    }
   ],
   "source": [
    "# https://www.acmicpc.net/problem/10026\n",
    "from collections import deque\n",
    "def BFS(i, j):\n",
    "    dx = [0,1,0,-1]\n",
    "    dy = [1,0,-1,0]\n",
    "    q = deque([(i,j)])\n",
    "    while q:\n",
    "        x, y = q.popleft()\n",
    "        for k in range(4):\n",
    "            n_x = x + dx[k]\n",
    "            n_y = y + dy[k]\n",
    "            if 0<=n_x<n and 0<=n_y<n and not check[n_x][n_y] and board[x][y] == board[n_x][n_y]:\n",
    "                check[n_x][n_y] = True\n",
    "                q.append((n_x, n_y))\n",
    "    \n",
    "    return 1\n",
    "\n",
    "n = int(input())\n",
    "board = [list(input()) for _ in range(n)]\n",
    "check = [[False] * n for _ in range(n)]\n",
    "cnt1, cnt2 = 0, 0\n",
    "\n",
    "for i in range(n):\n",
    "    for j in range(n):\n",
    "        if not check[i][j]:\n",
    "            check[i][j] = True\n",
    "            cnt1 += BFS(i, j)\n",
    "\n",
    "for i in range(n):\n",
    "    for j in range(n):\n",
    "        if board[i][j] == 'R':\n",
    "            board[i][j] = 'G'\n",
    "\n",
    "check = [[False] * n for _ in range(n)]\n",
    "for i in range(n):\n",
    "    for j in range(n):\n",
    "        if not check[i][j]:\n",
    "            check[i][j] = True\n",
    "            cnt2 += BFS(i, j)\n",
    "\n",
    "print(cnt1, cnt2)"
   ]
  },
  {
   "cell_type": "code",
   "execution_count": null,
   "metadata": {},
   "outputs": [],
   "source": []
  }
 ],
 "metadata": {
  "kernelspec": {
   "display_name": "pyflink_38",
   "language": "python",
   "name": "python3"
  },
  "language_info": {
   "codemirror_mode": {
    "name": "ipython",
    "version": 3
   },
   "file_extension": ".py",
   "mimetype": "text/x-python",
   "name": "python",
   "nbconvert_exporter": "python",
   "pygments_lexer": "ipython3",
   "version": "3.8.20"
  }
 },
 "nbformat": 4,
 "nbformat_minor": 2
}
