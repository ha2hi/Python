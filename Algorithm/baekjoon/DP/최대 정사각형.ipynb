{
 "cells": [
  {
   "cell_type": "code",
   "execution_count": null,
   "metadata": {},
   "outputs": [],
   "source": [
    "# https://www.acmicpc.net/problem/4095\n",
    "while True:\n",
    "    n, m = map(int, input().split())\n",
    "    if n == 0 and m == 0:\n",
    "        break\n",
    "    board = [list(map(int, input().split())) for _ in range(n)]\n",
    "    dp = [[0]*(m+1) for _ in range(n+1)]\n",
    "\n",
    "    res = 0\n",
    "    for i in range(1, n+1):\n",
    "        for j in range(1, m+1):\n",
    "            if board[i-1][j-1] == 1:\n",
    "                dp[i][j] = min(dp[i-1][j], dp[i-1][j-1], dp[i][j-1]) + 1\n",
    "                \n",
    "                if dp[i][j] > res:\n",
    "                    res = dp[i][j]\n",
    "    print(res)"
   ]
  },
  {
   "cell_type": "code",
   "execution_count": null,
   "metadata": {},
   "outputs": [],
   "source": []
  }
 ],
 "metadata": {
  "language_info": {
   "name": "python"
  }
 },
 "nbformat": 4,
 "nbformat_minor": 2
}
