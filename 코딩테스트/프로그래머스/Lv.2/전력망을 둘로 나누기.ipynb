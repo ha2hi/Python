{
 "cells": [
  {
   "cell_type": "code",
   "execution_count": 36,
   "metadata": {},
   "outputs": [
    {
     "data": {
      "text/plain": [
       "3"
      ]
     },
     "execution_count": 36,
     "metadata": {},
     "output_type": "execute_result"
    }
   ],
   "source": [
    "# https://school.programmers.co.kr/learn/courses/30/lessons/86971\n",
    "from collections import deque\n",
    "def bfs(start, g, visited):\n",
    "    cnt = 0\n",
    "    visited[start] = True\n",
    "    q = deque([start])\n",
    "    while q:\n",
    "        now = q.popleft()\n",
    "        cnt += 1\n",
    "        for k in g[now]:\n",
    "            if not visited[k]:\n",
    "                visited[k] = True\n",
    "                q.append(k)\n",
    "    return cnt\n",
    "\n",
    "def solution(n, wires):\n",
    "    res = 101\n",
    "    for i in range(n-1):\n",
    "        tmp = wires.copy()\n",
    "        visited = [False for _ in range(n+1)]\n",
    "        g = [[] for _ in range(n+1)]\n",
    "        tmp.pop(i)\n",
    "        for wire in tmp:\n",
    "            x, y = wire\n",
    "            g[x].append(y)\n",
    "            g[y].append(x)\n",
    "        for j in range(n+1):\n",
    "            if g[j]:\n",
    "                start = j\n",
    "                break\n",
    "        cnt = bfs(start, g, visited)\n",
    "        other = n - cnt\n",
    "        if abs(cnt - other) < res:\n",
    "            res = abs(cnt - other)\n",
    "    return res\n",
    "\n",
    "n = 9\n",
    "wires = [[1,3],[2,3],[3,4],[4,5],[4,6],[4,7],[7,8],[7,9]]\n",
    "solution(n, wires)"
   ]
  },
  {
   "cell_type": "code",
   "execution_count": null,
   "metadata": {},
   "outputs": [],
   "source": []
  }
 ],
 "metadata": {
  "kernelspec": {
   "display_name": "base",
   "language": "python",
   "name": "python3"
  },
  "language_info": {
   "codemirror_mode": {
    "name": "ipython",
    "version": 3
   },
   "file_extension": ".py",
   "mimetype": "text/x-python",
   "name": "python",
   "nbconvert_exporter": "python",
   "pygments_lexer": "ipython3",
   "version": "3.9.7"
  }
 },
 "nbformat": 4,
 "nbformat_minor": 2
}
