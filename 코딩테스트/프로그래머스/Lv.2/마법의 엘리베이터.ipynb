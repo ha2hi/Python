{
 "cells": [
  {
   "cell_type": "code",
   "execution_count": 95,
   "metadata": {},
   "outputs": [
    {
     "data": {
      "text/plain": [
       "6"
      ]
     },
     "execution_count": 95,
     "metadata": {},
     "output_type": "execute_result"
    }
   ],
   "source": [
    "def solution(storey):\n",
    "    cnt = 0\n",
    "    while storey:\n",
    "        if storey % 10 > 5:\n",
    "            cnt += 10 - (storey % 10)\n",
    "            storey += 10\n",
    "        elif storey % 10 < 5:\n",
    "            cnt += storey % 10\n",
    "        else:\n",
    "            if (storey // 10) % 10 >= 5:\n",
    "                storey += 10\n",
    "            cnt += 5\n",
    "        storey //= 10\n",
    "    return cnt\n",
    "storey = 16\n",
    "solution(storey)"
   ]
  },
  {
   "cell_type": "code",
   "execution_count": null,
   "metadata": {},
   "outputs": [],
   "source": []
  },
  {
   "cell_type": "code",
   "execution_count": null,
   "metadata": {},
   "outputs": [],
   "source": []
  }
 ],
 "metadata": {
  "kernelspec": {
   "display_name": "base",
   "language": "python",
   "name": "python3"
  },
  "language_info": {
   "codemirror_mode": {
    "name": "ipython",
    "version": 3
   },
   "file_extension": ".py",
   "mimetype": "text/x-python",
   "name": "python",
   "nbconvert_exporter": "python",
   "pygments_lexer": "ipython3",
   "version": "3.9.7"
  }
 },
 "nbformat": 4,
 "nbformat_minor": 2
}
