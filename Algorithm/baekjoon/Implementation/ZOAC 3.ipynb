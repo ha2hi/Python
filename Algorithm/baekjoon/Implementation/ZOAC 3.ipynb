{
 "cells": [
  {
   "cell_type": "code",
   "execution_count": 7,
   "metadata": {},
   "outputs": [
    {
     "name": "stdout",
     "output_type": "stream",
     "text": [
      "8\n"
     ]
    }
   ],
   "source": [
    "# https://www.acmicpc.net/problem/20436\n",
    "l, r = input().split()\n",
    "string = input()\n",
    "res = 0\n",
    "keyboard = ['qwertyuiop', 'asdfghjkl', 'zxcvbnm']\n",
    "mo = set('yuiophjklbnm')\n",
    "\n",
    "for i in range(3):\n",
    "    if l in keyboard[i]:\n",
    "        xl = i\n",
    "        yl = keyboard[i].index(l)\n",
    "    \n",
    "    if r in keyboard[i]:\n",
    "        xr = i\n",
    "        yr = keyboard[i].index(r)\n",
    "\n",
    "for s in string:\n",
    "    res += 1\n",
    "    if s in mo:\n",
    "        for i in range(3):\n",
    "            if s in keyboard[i]:\n",
    "                nx = i\n",
    "                ny = keyboard[i].index(s)\n",
    "                break\n",
    "        res += abs(xr-nx) + abs(yr-ny)\n",
    "        xr, yr = nx, ny\n",
    "    else:\n",
    "        for i in range(3):zo\n",
    "            if s in keyboard[i]:\n",
    "                nx = i\n",
    "                ny = keyboard[i].index(s)\n",
    "                break\n",
    "        res += abs(xl-nx) + abs(yl-ny)\n",
    "        xl, yl = nx, ny\n",
    "\n",
    "print(res)"
   ]
  },
  {
   "cell_type": "code",
   "execution_count": null,
   "metadata": {},
   "outputs": [],
   "source": []
  }
 ],
 "metadata": {
  "kernelspec": {
   "display_name": "base",
   "language": "python",
   "name": "python3"
  },
  "language_info": {
   "codemirror_mode": {
    "name": "ipython",
    "version": 3
   },
   "file_extension": ".py",
   "mimetype": "text/x-python",
   "name": "python",
   "nbconvert_exporter": "python",
   "pygments_lexer": "ipython3",
   "version": "3.9.-1"
  }
 },
 "nbformat": 4,
 "nbformat_minor": 2
}
