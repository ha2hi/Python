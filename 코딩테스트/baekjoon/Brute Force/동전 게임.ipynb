{
 "cells": [
  {
   "cell_type": "code",
   "execution_count": 15,
   "metadata": {},
   "outputs": [
    {
     "name": "stdout",
     "output_type": "stream",
     "text": [
      "2\n",
      "-1\n",
      "4\n"
     ]
    }
   ],
   "source": [
    "# https://www.acmicpc.net/problem/9079\n",
    "from collections import deque\n",
    "def change(case, arr):\n",
    "    for c in case:\n",
    "        if arr[c] == '0':\n",
    "            arr[c] = '1'\n",
    "        else:\n",
    "            arr[c] = '0'\n",
    "    \n",
    "    return arr\n",
    "\n",
    "t = int(input())\n",
    "for _ in range(t):\n",
    "    board = []\n",
    "    n = 3\n",
    "    board = [list(input().split()) for _ in range(n)]\n",
    "    arr = []\n",
    "    for i in range(n):\n",
    "        for j in range(n):\n",
    "            if board[i][j] == 'H':\n",
    "                arr.append('1')\n",
    "            else:\n",
    "                arr.append('0')\n",
    "\n",
    "    cases = [(0,1,2), (3,4,5), (6,7,8), (0,3,6), (1,4,7), (2,5,8), (0,4,8), (2,4,6)]\n",
    "    visited = [False] * 512\n",
    "    val = int(''.join(arr), 2)\n",
    "    visited[val] = True\n",
    "    q = deque([(val, 0)])\n",
    "\n",
    "    flag = False\n",
    "    while q:\n",
    "        v, cnt = q.popleft()\n",
    "        \n",
    "        if v == 0 or v == 511:\n",
    "            print(cnt)\n",
    "            flag = True\n",
    "            break\n",
    "        \n",
    "        for case in cases:\n",
    "            new_arr = change(case, list(bin(v)[2:].zfill(9)))\n",
    "            val = int(''.join(new_arr), 2)\n",
    "\n",
    "            if not visited[val]:\n",
    "                visited[val] = True\n",
    "                q.append((val, cnt+1))\n",
    "    \n",
    "    if not flag:\n",
    "        print(-1)"
   ]
  },
  {
   "cell_type": "code",
   "execution_count": null,
   "metadata": {},
   "outputs": [],
   "source": []
  }
 ],
 "metadata": {
  "kernelspec": {
   "display_name": "base",
   "language": "python",
   "name": "python3"
  },
  "language_info": {
   "codemirror_mode": {
    "name": "ipython",
    "version": 3
   },
   "file_extension": ".py",
   "mimetype": "text/x-python",
   "name": "python",
   "nbconvert_exporter": "python",
   "pygments_lexer": "ipython3",
   "version": "3.9.7"
  }
 },
 "nbformat": 4,
 "nbformat_minor": 2
}
