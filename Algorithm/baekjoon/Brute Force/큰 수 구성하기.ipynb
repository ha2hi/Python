{
 "cells": [
  {
   "cell_type": "code",
   "execution_count": 18,
   "metadata": {},
   "outputs": [
    {
     "name": "stdout",
     "output_type": "stream",
     "text": [
      "577\n"
     ]
    }
   ],
   "source": [
    "# https://www.acmicpc.net/problem/18511\n",
    "from itertools import product\n",
    "n, k = map(int, input().split())\n",
    "a = sorted(list(input().split()), reverse=True)\n",
    "\n",
    "length = len(str(n))\n",
    "while True:\n",
    "    flag = False\n",
    "    for x in product(a, repeat=length):\n",
    "        tmp = int(''.join(x))\n",
    "        if tmp <= n:\n",
    "            print(tmp)\n",
    "            flag = True\n",
    "            break\n",
    "    \n",
    "    if flag:\n",
    "        break\n",
    "\n",
    "    length -= 1\n"
   ]
  },
  {
   "cell_type": "code",
   "execution_count": null,
   "metadata": {},
   "outputs": [],
   "source": []
  }
 ],
 "metadata": {
  "kernelspec": {
   "display_name": "base",
   "language": "python",
   "name": "python3"
  },
  "language_info": {
   "codemirror_mode": {
    "name": "ipython",
    "version": 3
   },
   "file_extension": ".py",
   "mimetype": "text/x-python",
   "name": "python",
   "nbconvert_exporter": "python",
   "pygments_lexer": "ipython3",
   "version": "3.9.7"
  }
 },
 "nbformat": 4,
 "nbformat_minor": 2
}
