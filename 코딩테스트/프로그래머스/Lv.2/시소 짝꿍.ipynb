{
 "cells": [
  {
   "cell_type": "code",
   "execution_count": 2,
   "metadata": {},
   "outputs": [],
   "source": [
    "# https://school.programmers.co.kr/learn/courses/30/lessons/152996\n",
    "from collections import Counter\n",
    "def solution(weights):\n",
    "    cnt = 0\n",
    "    weights_cnt = Counter(weights)\n",
    "    weights_dict = set(weights)\n",
    "    for sk,v in weights_cnt.items():\n",
    "        if v>=2:\n",
    "            cnt += v*(v-1)//2\n",
    "    for weight in weights_dict:\n",
    "        if weight*2/3 in weights_dict:\n",
    "            cnt += weights_cnt[weight] * weights_cnt[weight*2/3]\n",
    "        if weight*2/4 in weights_dict:\n",
    "            cnt += weights_cnt[weight] * weights_cnt[weight*2/4]\n",
    "        if weight*3/4 in weights_dict:\n",
    "            cnt += weights_cnt[weight] * weights_cnt[weight*3/4]\n",
    "    return cnt"
   ]
  },
  {
   "cell_type": "code",
   "execution_count": null,
   "metadata": {},
   "outputs": [],
   "source": []
  }
 ],
 "metadata": {
  "kernelspec": {
   "display_name": "base",
   "language": "python",
   "name": "python3"
  },
  "language_info": {
   "codemirror_mode": {
    "name": "ipython",
    "version": 3
   },
   "file_extension": ".py",
   "mimetype": "text/x-python",
   "name": "python",
   "nbconvert_exporter": "python",
   "pygments_lexer": "ipython3",
   "version": "3.9.7"
  }
 },
 "nbformat": 4,
 "nbformat_minor": 2
}
