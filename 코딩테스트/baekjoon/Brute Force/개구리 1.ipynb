{
 "cells": [
  {
   "cell_type": "code",
   "execution_count": null,
   "metadata": {},
   "outputs": [],
   "source": [
    "# https://www.acmicpc.net/problem/15566\n",
    "import sys\n",
    "def solution(l):\n",
    "    global tmp\n",
    "    if l == n:\n",
    "        if len(set(tmp)) != n:\n",
    "            return\n",
    "        \n",
    "        flag = True\n",
    "        for a,b,t in bridge:\n",
    "            if frog[tmp.index(a)][t-1] != frog[tmp.index(b)][t-1]:\n",
    "                flag = False\n",
    "                return\n",
    "        \n",
    "        if flag:\n",
    "            print(\"YES\")\n",
    "            print(*tmp)\n",
    "            sys.exit(0)\n",
    "        \n",
    "    else:\n",
    "        for x in wants[l]:\n",
    "            tmp.append(x)\n",
    "            solution(l+1)\n",
    "            tmp.pop()\n",
    "\n",
    "n, m = map(int, input().split())\n",
    "frog = []\n",
    "wants = []\n",
    "bridge = []\n",
    "\n",
    "for _ in range(n):\n",
    "    food, habit, family, philosophy = map(int, input().split())\n",
    "    frog.append([food, habit, family, philosophy])\n",
    "\n",
    "for _ in range(n):\n",
    "    a, b = map(int, input().split())\n",
    "    tmp = set([a,b])\n",
    "    wants.append(list(tmp))\n",
    "\n",
    "for _ in range(m):\n",
    "    a, b, t = map(int, input().split())\n",
    "    bridge.append([a,b,t])\n",
    "\n",
    "tmp = []\n",
    "solution(0)\n",
    "print(\"NO\")"
   ]
  }
 ],
 "metadata": {
  "language_info": {
   "name": "python"
  }
 },
 "nbformat": 4,
 "nbformat_minor": 2
}
