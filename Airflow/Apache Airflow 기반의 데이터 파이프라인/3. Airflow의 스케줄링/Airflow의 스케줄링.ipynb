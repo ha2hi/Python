{
 "cells": [
  {
   "attachments": {},
   "cell_type": "markdown",
   "metadata": {},
   "source": [
    "### 3.2 정기적으로 실행하기\n",
    "- schedule_interval를 입력안하면 None이랑 비슷하다. 수동으로 실행해야됨\n",
    "- @Daily로 설정한 경우 매일 자정에 실행 됨\n",
    "- 종료일이 없으면 DAG를 종료할 때까지 실행됩니다."
   ]
  },
  {
   "cell_type": "code",
   "execution_count": null,
   "metadata": {},
   "outputs": [],
   "source": [
    "from datetime import datetime\n",
    "from pathlib import Path\n",
    "\n",
    "import pandas as pd\n",
    "from airflow import DAG\n",
    "from airflow.operators.bash import BashOperator\n",
    "from airflow.operators.python import PythonOperator\n",
    "\n",
    "dag = DAG(\n",
    "    dag_id=\"01_unscheduled\", \n",
    "    start_date=datetime(2019, 1, 1), # DAG 실행 스케줄을 시작할 날짜/사간\n",
    "    schedule_interval=\"@Daily\"\n",
    ")\n",
    "\n",
    "fetch_events = BashOperator(\n",
    "    task_id=\"fetch_events\",\n",
    "    bash_command=(\n",
    "        \"mkdir -p /data/events && \"\n",
    "        \"curl -o /data/events.json http://events_api:5000/events\"\n",
    "    ),\n",
    "    dag=dag,\n",
    ")\n",
    "\n",
    "\n",
    "def _calculate_stats(input_path, output_path):\n",
    "    \"\"\"Calculates event statistics.\"\"\"\n",
    "\n",
    "    Path(output_path).parent.mkdir(exist_ok=True)\n",
    "\n",
    "    events = pd.read_json(input_path)\n",
    "    stats = events.groupby([\"date\", \"user\"]).size().reset_index()\n",
    "\n",
    "    stats.to_csv(output_path, index=False)\n",
    "\n",
    "\n",
    "calculate_stats = PythonOperator(\n",
    "    task_id=\"calculate_stats\",\n",
    "    python_callable=_calculate_stats,\n",
    "    op_kwargs={\"input_path\": \"/data/events.json\", \"output_path\": \"/data/stats.csv\"},\n",
    "    dag=dag,\n",
    ")\n",
    "\n",
    "fetch_events >> calculate_stats"
   ]
  },
  {
   "attachments": {},
   "cell_type": "markdown",
   "metadata": {},
   "source": [
    "### 3.2.2 Cron 기반의 스케줄 간격 설정하기\n",
    "- *(분) *(시) *(일) *(월) *(요일)\n",
    "- 0 * * * * = 매시간\n",
    "- 0 0 * * * = 매일\n",
    "- 0 0 * * 0 = 매주\n",
    "- 0 0 1 * * = 매월 1일 자정\n",
    "- 45 23 * * SAT = 매주 토요일 23시 45분\n",
    "- @once : 1회만 실행하도록 스케줄\n",
    "- @hourly : 매시간 변경시 1회 실행\n",
    "- @daily : 매일 자정 1회\n",
    "- @weekly : 매주 일요일 자정 1회\n",
    "- @monthly : 매월 1일 자정 1회\n",
    "- @yearly : 매년 1월 1일 자정에 1회"
   ]
  },
  {
   "attachments": {},
   "cell_type": "markdown",
   "metadata": {},
   "source": [
    "### 3.2.3 빈도 기반의 스케줄 간격 설정하기\n",
    "- 예륻 들어 3일에 한 번씩 실행 : schedule_interval = datetime.timedelta(days=3)"
   ]
  },
  {
   "attachments": {},
   "cell_type": "markdown",
   "metadata": {},
   "source": [
    "### 3.3.2 실행날짜를 사용하여 동적 시간 참조하기\n",
    "- DAG가 실행되는 날짜와 시간을 나타내는 매개변수는 excution_date 입니다.\n",
    "- 다음 실행일 next_excution_date입니다.\n",
    "- 과거의 스케줄 간격의 시작은 previous_excution_date\n",
    "- 축약 매개변수를 제공합니다. ds 및 ds_nodash는 각각 YYYY-MM-DD, YYYYMMDD 형식으로 된 excution_date\n",
    "- next_ds, next_ds_nodas, prev_ds, prev_ds_nodash"
   ]
  },
  {
   "cell_type": "code",
   "execution_count": null,
   "metadata": {},
   "outputs": [],
   "source": [
    "\"\"\"\n",
    "fetch_events = BashOperator(\n",
    "    task_id=\"fetch_events\",\n",
    "    bash_command=(\n",
    "        \"mkdir -p /data/events && \"\n",
    "        \"curl -o /data/events.json \"\n",
    "        \"http://events_api:5000/events?\"\n",
    "        \"start_date={{execution_date.strftime('%Y-%m-%d')}}&\"\n",
    "        \"end_date={{next_execution_date.strftime('%Y-%m-%d')}}\"\n",
    "    ),\n",
    "    dag=dag,\n",
    ")\n",
    "\"\"\"\n",
    "\"\"\"\n",
    "fetch_events = BashOperator(\n",
    "    task_id=\"fetch_events\",\n",
    "    bash_command=(\n",
    "        \"mkdir -p /data/events && \"\n",
    "        \"curl -o /data/events.json \"\n",
    "        \"http://events_api:5000/events?\"\n",
    "        \"start_date={{ds}}&\"\n",
    "        \"end_date={{next_ds}}\"\n",
    "    ),\n",
    "    dag=dag,\n",
    ")\n",
    "\"\"\""
   ]
  },
  {
   "cell_type": "code",
   "execution_count": null,
   "metadata": {},
   "outputs": [],
   "source": []
  }
 ],
 "metadata": {
  "language_info": {
   "name": "python"
  },
  "orig_nbformat": 4
 },
 "nbformat": 4,
 "nbformat_minor": 2
}
