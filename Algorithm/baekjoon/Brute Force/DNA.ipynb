{
 "cells": [
  {
   "cell_type": "code",
   "execution_count": 11,
   "metadata": {},
   "outputs": [
    {
     "name": "stdout",
     "output_type": "stream",
     "text": [
      "TAAGATAC\n",
      "7\n"
     ]
    }
   ],
   "source": [
    "n, m = map(int, input().split())\n",
    "stack = []\n",
    "for _ in range(n):\n",
    "    stack.append(input())\n",
    "\n",
    "res = ''\n",
    "cnt = 0\n",
    "for i in range(m):\n",
    "    a, t, g, c = 0, 0, 0, 0\n",
    "    for j in range(n):\n",
    "        if stack[j][i] == 'A':\n",
    "            a += 1\n",
    "        elif stack[j][i] == 'T':\n",
    "            t += 1\n",
    "        elif stack[j][i] == 'G':\n",
    "            g += 1\n",
    "        elif stack[j][i] == 'C':\n",
    "            c += 1   \n",
    "    m_v = max([a,t,g,c])\n",
    "\n",
    "    if m_v == a:\n",
    "        res += 'A'\n",
    "        cnt += t+g+c\n",
    "    elif m_v == c:\n",
    "        res += 'C'\n",
    "        cnt += a+t+g\n",
    "    elif m_v == g:\n",
    "        res += 'G'\n",
    "        cnt += a+t+c\n",
    "    elif m_v == t:\n",
    "        res += 'T'\n",
    "        cnt += a+g+c\n",
    "\n",
    "print(res)\n",
    "print(cnt)"
   ]
  },
  {
   "cell_type": "code",
   "execution_count": null,
   "metadata": {},
   "outputs": [],
   "source": []
  }
 ],
 "metadata": {
  "kernelspec": {
   "display_name": "base",
   "language": "python",
   "name": "python3"
  },
  "language_info": {
   "codemirror_mode": {
    "name": "ipython",
    "version": 3
   },
   "file_extension": ".py",
   "mimetype": "text/x-python",
   "name": "python",
   "nbconvert_exporter": "python",
   "pygments_lexer": "ipython3",
   "version": "3.9.7"
  }
 },
 "nbformat": 4,
 "nbformat_minor": 2
}
