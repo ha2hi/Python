{
 "cells": [
  {
   "cell_type": "code",
   "execution_count": null,
   "id": "2d29e94a",
   "metadata": {},
   "outputs": [],
   "source": [
    "from kafka import KafkaProducer\n",
    "\n",
    "BROKER_LIST = \":9092\"\n",
    "URL = \"https://stream.wikimedia.org/v2/stream/recentchange\"\n",
    "\n"
   ]
  }
 ],
 "metadata": {
  "language_info": {
   "name": "python"
  }
 },
 "nbformat": 4,
 "nbformat_minor": 5
}
