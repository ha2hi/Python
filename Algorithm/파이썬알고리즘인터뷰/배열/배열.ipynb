{
 "cells": [
  {
   "attachments": {},
   "cell_type": "markdown",
   "metadata": {},
   "source": [
    "### 07. 두 수의 합\n",
    "덧셈하여 타겟을 만들 수 있는 배열의 두 숫자 인덱스를 리턴하라.\n",
    "\n",
    "- 입력\n",
    "- nums = [2,7,11,15], target = 9\n",
    "- 출력\n",
    "- [0,1]"
   ]
  },
  {
   "cell_type": "code",
   "execution_count": 1,
   "metadata": {},
   "outputs": [
    {
     "data": {
      "text/plain": [
       "[0, 1]"
      ]
     },
     "execution_count": 1,
     "metadata": {},
     "output_type": "execute_result"
    }
   ],
   "source": [
    "# Two Sum\n",
    "def TwoSum(nums: list[int], target: int) -> list:\n",
    "    nums_dict = {}\n",
    "    for idx, num in enumerate(nums):\n",
    "        nums_dict[num] = idx\n",
    "    \n",
    "    for idx, num in enumerate(nums):\n",
    "        if target-num in nums_dict and idx != nums_dict[target-num]:\n",
    "            return [idx, nums_dict[target-num]]\n",
    "\n",
    "nums = [2,7,11,15]\n",
    "target = 9\n",
    "TwoSum(nums, target)\n"
   ]
  },
  {
   "cell_type": "code",
   "execution_count": null,
   "metadata": {},
   "outputs": [],
   "source": []
  },
  {
   "attachments": {},
   "cell_type": "markdown",
   "metadata": {},
   "source": [
    "### 08. 빗물 트래핑\n",
    "높이를 입력받아 비 온 후 얼마나 많은 물이 쌓일 수 있는지 계산하라.\n",
    "\n",
    "- 입력\n",
    "- height = [0,1,0,2,1,0,1,3,2,1,2,1]\n",
    "- 출력\n",
    "- 6"
   ]
  },
  {
   "cell_type": "code",
   "execution_count": 5,
   "metadata": {},
   "outputs": [
    {
     "data": {
      "text/plain": [
       "6"
      ]
     },
     "execution_count": 5,
     "metadata": {},
     "output_type": "execute_result"
    }
   ],
   "source": [
    "def TrappingRainWater(height: list[int]) -> int:\n",
    "    if not height:\n",
    "        return 0\n",
    "    volume = 0\n",
    "    lt, rt = 0, len(height) - 1\n",
    "    max_lt, max_rt = height[lt], height[rt]\n",
    "    while lt < rt:\n",
    "        max_lt, max_rt = max(max_lt, height[lt]), max(max_rt, height[rt])\n",
    "        if max_lt <= max_rt:\n",
    "            volume += max_lt - height[lt]\n",
    "            lt += 1\n",
    "        else:\n",
    "            volume += max_rt - height[rt]\n",
    "            rt -= 1\n",
    "    return volume\n",
    "\n",
    "\n",
    "\n",
    "height = [0,1,0,2,1,0,1,3,2,1,2,1]\n",
    "TrappingRainWater(height)"
   ]
  },
  {
   "cell_type": "code",
   "execution_count": null,
   "metadata": {},
   "outputs": [],
   "source": []
  },
  {
   "attachments": {},
   "cell_type": "markdown",
   "metadata": {},
   "source": [
    "### 09. 세 수의 합\n",
    "배열을 입력받아 합으로 0을 만들 수 있는 3개의 엘리먼트를 출력하라.\n",
    "\n",
    "- 입력\n",
    "- nums = [-1,0,1,2,-1,-4]\n",
    "\n",
    "- 출력\n",
    "- [\n",
    "    [-1,0,1],\n",
    "    [-1,-1,2]\n",
    "]"
   ]
  },
  {
   "cell_type": "code",
   "execution_count": 31,
   "metadata": {},
   "outputs": [
    {
     "data": {
      "text/plain": [
       "[(-1, -1, 2), (-1, 0, 1)]"
      ]
     },
     "execution_count": 31,
     "metadata": {},
     "output_type": "execute_result"
    }
   ],
   "source": [
    "def threeSum(nums: list[int]) -> list[list[int]]:\n",
    "    res = []\n",
    "    nums.sort()\n",
    "    for i in range(len(nums)-2):\n",
    "        if i > 0 and nums[i] == nums[i-1]:\n",
    "            continue\n",
    "        lt, rt = i+1, len(nums)-1\n",
    "        while lt <rt:\n",
    "            sum = nums[i] + nums[lt] + nums[rt]\n",
    "            if sum < 0:\n",
    "                lt += 1\n",
    "            elif sum > 0:\n",
    "                rt -= 1\n",
    "            else:\n",
    "                res.append((nums[i], nums[lt], nums[rt]))\n",
    "                while lt < rt and nums[lt] == nums[lt+1]:\n",
    "                    lt += 1\n",
    "                while lt < rt and nums[rt] == nums[rt-1]:\n",
    "                    rt -= 1\n",
    "                lt += 1\n",
    "                rt -= 1\n",
    "\n",
    "    return res\n",
    "\n",
    "nums = [-1,0,1,2,-1,-4]\n",
    "threeSum(nums)"
   ]
  },
  {
   "cell_type": "code",
   "execution_count": null,
   "metadata": {},
   "outputs": [],
   "source": []
  },
  {
   "attachments": {},
   "cell_type": "markdown",
   "metadata": {},
   "source": [
    "### 10. 배열 파티션1\n",
    "n개의 페어를 이용한 min(a,b)의 합으로 만들 수 있는 가장 큰 수를 출력하라.\n",
    "- 입력\n",
    "- nums = [1,4,3,2]\n",
    "- 출력\n",
    "- 4\n",
    "- 설명 : n은 2가 되며, 최대 합은 4이다. min(1,2) + min(3,4) = 4"
   ]
  },
  {
   "cell_type": "code",
   "execution_count": 47,
   "metadata": {},
   "outputs": [
    {
     "data": {
      "text/plain": [
       "4"
      ]
     },
     "execution_count": 47,
     "metadata": {},
     "output_type": "execute_result"
    }
   ],
   "source": [
    "# 내풀이\n",
    "def ArrayPartition(nums: list[int]) -> int:\n",
    "    nums.sort()\n",
    "    res = [min(nums[i:i+2]) for i in range(0,len(nums),2)]\n",
    "    return sum(res)\n",
    "\n",
    "nums = [1,4,3,2]\n",
    "ArrayPartition(nums)"
   ]
  },
  {
   "cell_type": "code",
   "execution_count": 49,
   "metadata": {},
   "outputs": [
    {
     "data": {
      "text/plain": [
       "4"
      ]
     },
     "execution_count": 49,
     "metadata": {},
     "output_type": "execute_result"
    }
   ],
   "source": [
    "# 책풀이\n",
    "def ArrayPartition(nums: list[int]) -> int:\n",
    "    return sum(sorted(nums)[::2])\n",
    "\n",
    "nums = [1,4,3,2]\n",
    "ArrayPartition(nums)"
   ]
  },
  {
   "cell_type": "code",
   "execution_count": null,
   "metadata": {},
   "outputs": [],
   "source": []
  },
  {
   "attachments": {},
   "cell_type": "markdown",
   "metadata": {},
   "source": [
    "### 11.자신을 제외한 배열의 곱\n",
    "배열을 입력받아 output[i]가 자신을 제외한 모든 요소의 곱셈 결과가 되도록 출력하라, O(n)에 풀이\n",
    "- 입력\n",
    "- nums = [1,2,3,4]\n",
    "- 출력\n",
    "- [24,12,8,6]"
   ]
  },
  {
   "cell_type": "code",
   "execution_count": 52,
   "metadata": {},
   "outputs": [
    {
     "data": {
      "text/plain": [
       "[24, 12, 8, 6]"
      ]
     },
     "execution_count": 52,
     "metadata": {},
     "output_type": "execute_result"
    }
   ],
   "source": [
    "def productArray(nums: list[int]) -> list[int]:\n",
    "    output = []\n",
    "    p = 1\n",
    "    for i in range(len(nums)):\n",
    "        output.append(p)\n",
    "        p *= nums[i]\n",
    "    p = 1\n",
    "    for j in range(len(nums)-1,-1,-1):\n",
    "        output[j] *= p\n",
    "        p *= nums[j]\n",
    "    return output \n",
    "\n",
    "nums = [1,2,3,4]\n",
    "productArray(nums)"
   ]
  },
  {
   "cell_type": "code",
   "execution_count": null,
   "metadata": {},
   "outputs": [],
   "source": []
  },
  {
   "attachments": {},
   "cell_type": "markdown",
   "metadata": {},
   "source": [
    "### 12.주식을 사고팔기 좋은 시점\n",
    "한 번의 거래로 낼 수 있는 최대 이익을 산출하라.\n",
    "- 입력\n",
    "- nums = [7,1,5,3,6,4]\n",
    "- 출력\n",
    "- 5\n",
    "- 설명 : 1일 때 사서 6일 때 팔면 5의 이익을 얻는다."
   ]
  },
  {
   "cell_type": "code",
   "execution_count": 63,
   "metadata": {},
   "outputs": [
    {
     "data": {
      "text/plain": [
       "5"
      ]
     },
     "execution_count": 63,
     "metadata": {},
     "output_type": "execute_result"
    }
   ],
   "source": [
    "# 내 풀이\n",
    "def BestStock(nums: list[int]) -> int:\n",
    "    res = 0\n",
    "    for _ in range(len(nums)-1):\n",
    "        now = nums.pop(0)\n",
    "        if max(nums) - now > 0:\n",
    "            res = max(res, max(nums) - now)\n",
    "    return res\n",
    "\n",
    "nums = [7,1,5,3,6,4]\n",
    "BestStock(nums)"
   ]
  },
  {
   "cell_type": "code",
   "execution_count": 65,
   "metadata": {},
   "outputs": [
    {
     "data": {
      "text/plain": [
       "5"
      ]
     },
     "execution_count": 65,
     "metadata": {},
     "output_type": "execute_result"
    }
   ],
   "source": [
    "# 책풀이\n",
    "import sys\n",
    "def BestStock(nums: list[int]) -> int:\n",
    "    profit = 0\n",
    "    min_price = sys.maxsize\n",
    "\n",
    "    for num in nums:\n",
    "        min_price = min(min_price, num)\n",
    "        profit = max(profit, num-min_price)\n",
    "    return profit\n",
    "\n",
    "nums = [7,1,5,3,6,4]\n",
    "BestStock(nums)"
   ]
  },
  {
   "cell_type": "code",
   "execution_count": null,
   "metadata": {},
   "outputs": [],
   "source": []
  }
 ],
 "metadata": {
  "kernelspec": {
   "display_name": "base",
   "language": "python",
   "name": "python3"
  },
  "language_info": {
   "codemirror_mode": {
    "name": "ipython",
    "version": 3
   },
   "file_extension": ".py",
   "mimetype": "text/x-python",
   "name": "python",
   "nbconvert_exporter": "python",
   "pygments_lexer": "ipython3",
   "version": "3.9.7"
  },
  "orig_nbformat": 4
 },
 "nbformat": 4,
 "nbformat_minor": 2
}
