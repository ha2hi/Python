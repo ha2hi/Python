{
 "cells": [
  {
   "cell_type": "code",
   "execution_count": 1,
   "metadata": {},
   "outputs": [],
   "source": [
    "from pyspark.sql import SparkSession"
   ]
  },
  {
   "cell_type": "code",
   "execution_count": 2,
   "metadata": {},
   "outputs": [
    {
     "name": "stderr",
     "output_type": "stream",
     "text": [
      "24/04/02 17:45:01 WARN Utils: Your hostname, MZC01-HYUCKSANGCHO.local resolves to a loopback address: 127.0.0.1; using 10.90.8.26 instead (on interface en0)\n",
      "24/04/02 17:45:01 WARN Utils: Set SPARK_LOCAL_IP if you need to bind to another address\n",
      "Setting default log level to \"WARN\".\n",
      "To adjust logging level use sc.setLogLevel(newLevel). For SparkR, use setLogLevel(newLevel).\n",
      "24/04/02 17:45:01 WARN NativeCodeLoader: Unable to load native-hadoop library for your platform... using builtin-java classes where applicable\n"
     ]
    }
   ],
   "source": [
    "spark = SparkSession.builder.master(\"local\").appName(\"learn-sql\").getOrCreate()"
   ]
  },
  {
   "cell_type": "code",
   "execution_count": 4,
   "metadata": {},
   "outputs": [],
   "source": [
    "stocks = [\n",
    "    ('Google', 'GOOGL', 'USA', 2984, 'USD'), \n",
    "    ('Netflix', 'NFLX', 'USA', 645, 'USD'),\n",
    "    ('Amazon', 'AMZN', 'USA', 3518, 'USD'),\n",
    "    ('Tesla', 'TSLA', 'USA', 1222, 'USD'),\n",
    "    ('Tencent', '0700', 'Hong Kong', 483, 'HKD'),\n",
    "    ('Toyota', '7203', 'Japan', 2006, 'JPY'),\n",
    "    ('Samsung', '005930', 'Korea', 70600, 'KRW'),\n",
    "    ('Kakao', '035720', 'Korea', 125000, 'KRW'),\n",
    "]\n",
    "\n",
    "stockSchema = [\"name\", \"ticker\", \"country\", \"price\", \"currency\"]\n",
    "\n",
    "df = spark.createDataFrame(data=stocks, schema = stockSchema)"
   ]
  },
  {
   "cell_type": "code",
   "execution_count": 5,
   "metadata": {},
   "outputs": [
    {
     "data": {
      "text/plain": [
       "[('name', 'string'),\n",
       " ('ticker', 'string'),\n",
       " ('country', 'string'),\n",
       " ('price', 'bigint'),\n",
       " ('currency', 'string')]"
      ]
     },
     "execution_count": 5,
     "metadata": {},
     "output_type": "execute_result"
    }
   ],
   "source": [
    "df.dtypes"
   ]
  },
  {
   "cell_type": "code",
   "execution_count": 6,
   "metadata": {},
   "outputs": [
    {
     "name": "stderr",
     "output_type": "stream",
     "text": [
      "                                                                                \r"
     ]
    },
    {
     "name": "stdout",
     "output_type": "stream",
     "text": [
      "+-------+------+---------+------+--------+\n",
      "|   name|ticker|  country| price|currency|\n",
      "+-------+------+---------+------+--------+\n",
      "| Google| GOOGL|      USA|  2984|     USD|\n",
      "|Netflix|  NFLX|      USA|   645|     USD|\n",
      "| Amazon|  AMZN|      USA|  3518|     USD|\n",
      "|  Tesla|  TSLA|      USA|  1222|     USD|\n",
      "|Tencent|  0700|Hong Kong|   483|     HKD|\n",
      "| Toyota|  7203|    Japan|  2006|     JPY|\n",
      "|Samsung|005930|    Korea| 70600|     KRW|\n",
      "|  Kakao|035720|    Korea|125000|     KRW|\n",
      "+-------+------+---------+------+--------+\n",
      "\n"
     ]
    }
   ],
   "source": [
    "df.show()"
   ]
  },
  {
   "cell_type": "code",
   "execution_count": 7,
   "metadata": {},
   "outputs": [
    {
     "name": "stdout",
     "output_type": "stream",
     "text": [
      "+-------+\n",
      "|   name|\n",
      "+-------+\n",
      "| Google|\n",
      "|Netflix|\n",
      "| Amazon|\n",
      "|  Tesla|\n",
      "|Tencent|\n",
      "| Toyota|\n",
      "|Samsung|\n",
      "|  Kakao|\n",
      "+-------+\n",
      "\n"
     ]
    }
   ],
   "source": [
    "df.createOrReplaceTempView(\"stocks\")\n",
    "spark.sql(\"select name from stocks\").show()"
   ]
  },
  {
   "cell_type": "code",
   "execution_count": 9,
   "metadata": {},
   "outputs": [
    {
     "name": "stdout",
     "output_type": "stream",
     "text": [
      "+-------+\n",
      "|   name|\n",
      "+-------+\n",
      "| Google|\n",
      "|Netflix|\n",
      "| Amazon|\n",
      "|  Tesla|\n",
      "+-------+\n",
      "\n"
     ]
    }
   ],
   "source": [
    "spark.sql(\"select name from stocks where country =  'USA'\").show()"
   ]
  },
  {
   "cell_type": "code",
   "execution_count": 11,
   "metadata": {},
   "outputs": [],
   "source": [
    "from pyspark.sql.types import StringType, FloatType, StructType, StructField\n",
    "\n",
    "earnings = [\n",
    "    ('Google', 27.99, 'USD'), \n",
    "    ('Netflix', 2.56, 'USD'),\n",
    "    ('Amazon', 6.12, 'USD'),\n",
    "    ('Tesla', 1.86, 'USD'),\n",
    "    ('Tencent', 11.01, 'HKD'),\n",
    "    ('Toyota', 224.82, 'JPY'),\n",
    "    ('Samsung', 1780., 'KRW'),\n",
    "    ('Kakao', 705., 'KRW')\n",
    "]\n",
    "\n",
    "earningsSchema = StructType([\n",
    "    StructField(\"name\", StringType(), True),\n",
    "    StructField(\"eps\", FloatType(), True),\n",
    "    StructField(\"currency\", StringType(), True),\n",
    "])\n",
    "\n",
    "earningsDF = spark.createDataFrame(data=earnings, schema=earningsSchema)"
   ]
  },
  {
   "cell_type": "code",
   "execution_count": 12,
   "metadata": {},
   "outputs": [
    {
     "data": {
      "text/plain": [
       "[('name', 'string'), ('eps', 'float'), ('currency', 'string')]"
      ]
     },
     "execution_count": 12,
     "metadata": {},
     "output_type": "execute_result"
    }
   ],
   "source": [
    "earningsDF.dtypes"
   ]
  },
  {
   "cell_type": "code",
   "execution_count": 13,
   "metadata": {},
   "outputs": [
    {
     "name": "stdout",
     "output_type": "stream",
     "text": [
      "+-------+------+--------+\n",
      "|   name|   eps|currency|\n",
      "+-------+------+--------+\n",
      "| Google| 27.99|     USD|\n",
      "|Netflix|  2.56|     USD|\n",
      "| Amazon|  6.12|     USD|\n",
      "|  Tesla|  1.86|     USD|\n",
      "|Tencent| 11.01|     HKD|\n",
      "| Toyota|224.82|     JPY|\n",
      "|Samsung|1780.0|     KRW|\n",
      "|  Kakao| 705.0|     KRW|\n",
      "+-------+------+--------+\n",
      "\n"
     ]
    }
   ],
   "source": [
    "earningsDF.createOrReplaceTempView(\"earnings\")\n",
    "earningsDF.select(\"*\").show()"
   ]
  },
  {
   "cell_type": "code",
   "execution_count": 14,
   "metadata": {},
   "outputs": [
    {
     "name": "stderr",
     "output_type": "stream",
     "text": [
      "[Stage 6:>                                                          (0 + 1) / 1]\r"
     ]
    },
    {
     "name": "stdout",
     "output_type": "stream",
     "text": [
      "+-------+------+---------+------+--------+-------+------+--------+\n",
      "|   name|ticker|  country| price|currency|   name|   eps|currency|\n",
      "+-------+------+---------+------+--------+-------+------+--------+\n",
      "| Amazon|  AMZN|      USA|  3518|     USD| Amazon|  6.12|     USD|\n",
      "| Google| GOOGL|      USA|  2984|     USD| Google| 27.99|     USD|\n",
      "|  Kakao|035720|    Korea|125000|     KRW|  Kakao| 705.0|     KRW|\n",
      "|Netflix|  NFLX|      USA|   645|     USD|Netflix|  2.56|     USD|\n",
      "|Samsung|005930|    Korea| 70600|     KRW|Samsung|1780.0|     KRW|\n",
      "|Tencent|  0700|Hong Kong|   483|     HKD|Tencent| 11.01|     HKD|\n",
      "|  Tesla|  TSLA|      USA|  1222|     USD|  Tesla|  1.86|     USD|\n",
      "| Toyota|  7203|    Japan|  2006|     JPY| Toyota|224.82|     JPY|\n",
      "+-------+------+---------+------+--------+-------+------+--------+\n",
      "\n"
     ]
    },
    {
     "name": "stderr",
     "output_type": "stream",
     "text": [
      "                                                                                \r"
     ]
    }
   ],
   "source": [
    "spark.sql(\"select * from stocks join earnings on stocks.name = earnings.name\").show()"
   ]
  },
  {
   "cell_type": "code",
   "execution_count": null,
   "metadata": {},
   "outputs": [],
   "source": []
  }
 ],
 "metadata": {
  "kernelspec": {
   "display_name": "base",
   "language": "python",
   "name": "python3"
  },
  "language_info": {
   "codemirror_mode": {
    "name": "ipython",
    "version": 3
   },
   "file_extension": ".py",
   "mimetype": "text/x-python",
   "name": "python",
   "nbconvert_exporter": "python",
   "pygments_lexer": "ipython3",
   "version": "3.9.-1"
  }
 },
 "nbformat": 4,
 "nbformat_minor": 2
}
