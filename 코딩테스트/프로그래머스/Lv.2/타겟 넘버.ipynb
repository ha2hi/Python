{
 "cells": [
  {
   "cell_type": "code",
   "execution_count": 23,
   "metadata": {},
   "outputs": [
    {
     "data": {
      "text/plain": [
       "2"
      ]
     },
     "execution_count": 23,
     "metadata": {},
     "output_type": "execute_result"
    }
   ],
   "source": [
    "from itertools import product\n",
    "def solution(numbers, target):\n",
    "    res = 0\n",
    "    result = [list(sublist) for sublist in product([0, 1], repeat=len(numbers))]\n",
    "    for x in result:\n",
    "        k = list(zip(numbers, x))\n",
    "        k = list(map(lambda x : x[0] if x[1] == 1 else -x[0], k))\n",
    "        if sum(k) == target:\n",
    "            res += 1\n",
    "    return res\n",
    "    \n",
    "     \n",
    "numbers = [4,1,2,1]\n",
    "target = 4\n",
    "solution(numbers, target)"
   ]
  },
  {
   "cell_type": "code",
   "execution_count": null,
   "metadata": {},
   "outputs": [],
   "source": []
  }
 ],
 "metadata": {
  "kernelspec": {
   "display_name": "base",
   "language": "python",
   "name": "python3"
  },
  "language_info": {
   "codemirror_mode": {
    "name": "ipython",
    "version": 3
   },
   "file_extension": ".py",
   "mimetype": "text/x-python",
   "name": "python",
   "nbconvert_exporter": "python",
   "pygments_lexer": "ipython3",
   "version": "3.9.7"
  }
 },
 "nbformat": 4,
 "nbformat_minor": 2
}
