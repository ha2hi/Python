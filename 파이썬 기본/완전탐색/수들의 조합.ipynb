{
 "cells": [
  {
   "cell_type": "code",
   "execution_count": null,
   "metadata": {},
   "outputs": [],
   "source": [
    "\"\"\"\n",
    "수들의 조합\n",
    "\n",
    "N개의 정수가 주어지면 그 숫자들 중 K개를 뽑는 조합의 합이 임의의 정수 M의 배수인 개수 는 몇 개가 있는지 출력하는 프로그램을 작성하세요.\n",
    "예를 들면 5개의 숫자 2 4 5 8 12가 주어지고, 3개를 뽑은 조합의 합이 6의 배수인 조합을 찾으면 4+8+12 2+4+12로 2가지가 있습니다.\n",
    "\n",
    "▣ 입력설명\n",
    "첫줄에 정수의 개수 N(3<=N<=20)과 임의의 정수 K(2<=K<=N)가 주어지고, 두 번째 줄에는 N개의 정수가 주어진다.\n",
    "세 번째 줄에 M이 주어집니다.\n",
    "\n",
    "\n",
    "▣ 출력설명\n",
    "총 가지수를 출력합니다.\n",
    "\n",
    "▣ 입력예제 1 \n",
    "5 3\n",
    "2 4 5 8 12\n",
    "6\n",
    "\n",
    "▣ 출력예제 1 \n",
    "2"
   ]
  },
  {
   "cell_type": "code",
   "execution_count": 4,
   "metadata": {},
   "outputs": [
    {
     "name": "stdout",
     "output_type": "stream",
     "text": [
      "2\n"
     ]
    }
   ],
   "source": [
    "def DFS(L,s,sum):\n",
    "    global cnt\n",
    "    if L == k:\n",
    "        if sum % m == 0:\n",
    "            cnt += 1\n",
    "    else:\n",
    "        for i in range(s,n):\n",
    "            DFS(L+1, i+1, sum+a[i])\n",
    "\n",
    "n, k = map(int, input().split())\n",
    "a = list(map(int, input().split()))\n",
    "m = int(input())\n",
    "cnt = 0\n",
    "DFS(0,0,0)\n",
    "print(cnt)"
   ]
  },
  {
   "cell_type": "code",
   "execution_count": null,
   "metadata": {},
   "outputs": [],
   "source": []
  }
 ],
 "metadata": {
  "kernelspec": {
   "display_name": "base",
   "language": "python",
   "name": "python3"
  },
  "language_info": {
   "codemirror_mode": {
    "name": "ipython",
    "version": 3
   },
   "file_extension": ".py",
   "mimetype": "text/x-python",
   "name": "python",
   "nbconvert_exporter": "python",
   "pygments_lexer": "ipython3",
   "version": "3.9.7"
  },
  "orig_nbformat": 4
 },
 "nbformat": 4,
 "nbformat_minor": 2
}
