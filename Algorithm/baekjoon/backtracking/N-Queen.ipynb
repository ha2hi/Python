{
 "cells": [
  {
   "cell_type": "code",
   "execution_count": 2,
   "metadata": {},
   "outputs": [
    {
     "name": "stdout",
     "output_type": "stream",
     "text": [
      "92\n"
     ]
    }
   ],
   "source": [
    "# https://www.acmicpc.net/problem/9663\n",
    "def dfs(n):\n",
    "    global ans\n",
    "    if n == N:\n",
    "        ans += 1\n",
    "        return\n",
    "    else:\n",
    "        for i in range(N):\n",
    "            if v1[i] == 0 and v2[n+i] == 0 and v3[n-i] == 0:\n",
    "                v1[i] = v2[n+i] = v3[n-i] = 1\n",
    "                dfs(n+1)\n",
    "                v1[i] = v2[n+i] = v3[n-i] = 0\n",
    "\n",
    "N = int(input())\n",
    "ans = 0\n",
    "v1 = [0] * N\n",
    "v2 = [0] * (N*2-1)\n",
    "v3 = [0] * (N*2-1)\n",
    "dfs(0)\n",
    "print(ans)"
   ]
  },
  {
   "cell_type": "code",
   "execution_count": null,
   "metadata": {},
   "outputs": [],
   "source": []
  }
 ],
 "metadata": {
  "kernelspec": {
   "display_name": "base",
   "language": "python",
   "name": "python3"
  },
  "language_info": {
   "codemirror_mode": {
    "name": "ipython",
    "version": 3
   },
   "file_extension": ".py",
   "mimetype": "text/x-python",
   "name": "python",
   "nbconvert_exporter": "python",
   "pygments_lexer": "ipython3",
   "version": "3.9.7"
  }
 },
 "nbformat": 4,
 "nbformat_minor": 2
}
