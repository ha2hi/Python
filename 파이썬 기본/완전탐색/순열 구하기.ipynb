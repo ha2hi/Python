{
 "cells": [
  {
   "cell_type": "code",
   "execution_count": null,
   "metadata": {},
   "outputs": [],
   "source": [
    "\"\"\"\n",
    "순열 구하기\n",
    "\n",
    "1부터N까지번호가적힌구슬이있습니다.이중 M개를뽑아일렬로나열하는방법을모두 출력합니다.\n",
    "\n",
    "▣ 입력설명\n",
    "첫 번째 줄에 자연수 N(3<=N<=10)과 M(2<=M<=N) 이 주어집니다.\n",
    "\n",
    "▣ 출력설명\n",
    "첫 번째 줄에 결과를 출력합니다. 맨 마지막 총 경우의 수를 출력합니다. 출력순서는 사전순으로 오름차순으로 출력합니다.\n",
    "\n",
    "▣ 입력예제 1 \n",
    "3 2\n",
    "\n",
    "▣ 출력예제 1 \n",
    "1 2\n",
    "1 3\n",
    "2 1\n",
    "2 3 \n",
    "3 1 \n",
    "3 2 \n",
    "6"
   ]
  },
  {
   "cell_type": "code",
   "execution_count": 3,
   "metadata": {},
   "outputs": [
    {
     "name": "stdout",
     "output_type": "stream",
     "text": [
      "1 2\n",
      "1 3\n",
      "2 1\n",
      "2 3\n",
      "3 1\n",
      "3 2\n"
     ]
    }
   ],
   "source": [
    "def DFS(L):\n",
    "    global cnt\n",
    "    if L == m:\n",
    "        print(*res)\n",
    "        cnt += 1\n",
    "    else:\n",
    "        for i in range(1, n+1):\n",
    "            if ch[i] == 0:\n",
    "                ch[i] = 1\n",
    "                res[L] = i\n",
    "                DFS(L+1)\n",
    "                ch[i] = 0\n",
    "\n",
    "n, m = map(int,input().split())\n",
    "res = [0] * m\n",
    "ch = [0] * (n+1)\n",
    "cnt = 0\n",
    "DFS(0)\n",
    "print(cnt)"
   ]
  },
  {
   "cell_type": "code",
   "execution_count": null,
   "metadata": {},
   "outputs": [],
   "source": []
  }
 ],
 "metadata": {
  "kernelspec": {
   "display_name": "base",
   "language": "python",
   "name": "python3"
  },
  "language_info": {
   "codemirror_mode": {
    "name": "ipython",
    "version": 3
   },
   "file_extension": ".py",
   "mimetype": "text/x-python",
   "name": "python",
   "nbconvert_exporter": "python",
   "pygments_lexer": "ipython3",
   "version": "3.9.7"
  },
  "orig_nbformat": 4
 },
 "nbformat": 4,
 "nbformat_minor": 2
}
