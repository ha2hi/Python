{
 "cells": [
  {
   "cell_type": "code",
   "execution_count": 4,
   "metadata": {},
   "outputs": [
    {
     "data": {
      "text/plain": [
       "242"
      ]
     },
     "execution_count": 4,
     "metadata": {},
     "output_type": "execute_result"
    }
   ],
   "source": [
    "def solution(c,n,a):\n",
    "    res = 0\n",
    "    total = sum(a)\n",
    "    def dfs(l, sum, tsum):\n",
    "        nonlocal res\n",
    "        if sum + (total-tsum) < res:\n",
    "            return\n",
    "        if sum > c:\n",
    "            return\n",
    "        if l == n:\n",
    "            if sum <= c:\n",
    "                res = max(res, sum)\n",
    "        else:\n",
    "            dfs(l+1, sum+a[l], tsum+a[l])\n",
    "            dfs(l+1, sum, tsum+a[l])\n",
    "\n",
    "    dfs(0,0,0)\n",
    "    return res\n",
    "\n",
    "c, n = 259, 5\n",
    "a = [81,58,42,33,61]\n",
    "solution(c,n,a)"
   ]
  },
  {
   "cell_type": "code",
   "execution_count": null,
   "metadata": {},
   "outputs": [],
   "source": []
  }
 ],
 "metadata": {
  "kernelspec": {
   "display_name": "base",
   "language": "python",
   "name": "python3"
  },
  "language_info": {
   "codemirror_mode": {
    "name": "ipython",
    "version": 3
   },
   "file_extension": ".py",
   "mimetype": "text/x-python",
   "name": "python",
   "nbconvert_exporter": "python",
   "pygments_lexer": "ipython3",
   "version": "3.9.7"
  }
 },
 "nbformat": 4,
 "nbformat_minor": 2
}
