{
 "cells": [
  {
   "cell_type": "code",
   "execution_count": null,
   "metadata": {},
   "outputs": [],
   "source": [
    "# https://www.acmicpc.net/problem/16174\n",
    "from collections import deque\n",
    "n = int(input())\n",
    "board = [list(map(int, input().split())) for _ in range(n)]\n",
    "ch = [[False]*n for _ in range(n)]\n",
    "dx = [0,1]\n",
    "dy = [1,0]\n",
    "q = deque([(0,0,board[0][0])])\n",
    "ch[0][0] = True\n",
    "\n",
    "while q:\n",
    "    x, y, c = q.popleft()\n",
    "    if x == n-1 and y == n-1:\n",
    "        print(\"HaruHaru\")\n",
    "        break\n",
    "\n",
    "    for i in range(2):\n",
    "        xx = x + dx[i]*c\n",
    "        yy = y + dy[i]*c\n",
    "        if 0<=xx<n and 0<=yy<n and not ch[xx][yy]:\n",
    "            ch[xx][yy] = True\n",
    "            q.append((xx,yy,board[xx][yy]))\n",
    "else:\n",
    "    print(\"Hing\")"
   ]
  }
 ],
 "metadata": {
  "language_info": {
   "name": "python"
  }
 },
 "nbformat": 4,
 "nbformat_minor": 2
}
