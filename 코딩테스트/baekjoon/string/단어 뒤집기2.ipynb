{
 "cells": [
  {
   "cell_type": "code",
   "execution_count": 26,
   "metadata": {},
   "outputs": [
    {
     "name": "stdout",
     "output_type": "stream",
     "text": [
      "<int><max>7463847412<long long><max>7085774586302733229\n"
     ]
    }
   ],
   "source": [
    "# https://www.acmicpc.net/problem/17413\n",
    "from collections import deque\n",
    "s = input()\n",
    "s = deque(s)\n",
    "res = ''\n",
    "tmp = ''\n",
    "while s:\n",
    "    if s[0] == ' ':\n",
    "        res += tmp[::-1]\n",
    "        res += s.popleft()\n",
    "        tmp = ''\n",
    "    elif s[0] == '<':\n",
    "        res += tmp[::-1]\n",
    "        tmp = ''\n",
    "        while s[0] != '>':\n",
    "            res += s.popleft()\n",
    "        res += s.popleft()\n",
    "    else:\n",
    "        tmp += s.popleft()\n",
    "if tmp:\n",
    "    res += tmp[::-1]\n",
    "print(res)"
   ]
  },
  {
   "cell_type": "code",
   "execution_count": null,
   "metadata": {},
   "outputs": [],
   "source": []
  }
 ],
 "metadata": {
  "kernelspec": {
   "display_name": "base",
   "language": "python",
   "name": "python3"
  },
  "language_info": {
   "codemirror_mode": {
    "name": "ipython",
    "version": 3
   },
   "file_extension": ".py",
   "mimetype": "text/x-python",
   "name": "python",
   "nbconvert_exporter": "python",
   "pygments_lexer": "ipython3",
   "version": "3.9.7"
  }
 },
 "nbformat": 4,
 "nbformat_minor": 2
}
