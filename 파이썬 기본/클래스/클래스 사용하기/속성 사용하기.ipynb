{
 "cells": [
  {
   "cell_type": "code",
   "execution_count": 1,
   "metadata": {},
   "outputs": [
    {
     "name": "stdout",
     "output_type": "stream",
     "text": [
      "안녕하세요\n"
     ]
    }
   ],
   "source": [
    "# 클래스에서 속성을 만들때는 __init__ 메서든 안에서 self.속성에 값을 할당합니다.\n",
    "class Person:\n",
    "    def __init__(self):\n",
    "        self.hello = \"안녕하세요\"\n",
    "\n",
    "    def greeting(self):\n",
    "        print(self.hello)\n",
    "\n",
    "james = Person()\n",
    "james.greeting()"
   ]
  },
  {
   "cell_type": "code",
   "execution_count": null,
   "metadata": {},
   "outputs": [],
   "source": [
    "# __init__ 메서드는 james = Person()처럼 클래스에 ()를 붙여서 인스턴스를 만들 때 호출되는 특별한 메서드입니다.\n",
    "\n",
    "# self의 의미\n",
    "# self는 인스턴스 자기 자신을 의미합니다.\n",
    "# __init__의 매개변수 self에 들어가는 값은 Person()이라고 할 수 있습니다.\n",
    "# 그리고 self가 완성된 뒤 james에 할당됩니다."
   ]
  },
  {
   "cell_type": "code",
   "execution_count": 5,
   "metadata": {},
   "outputs": [
    {
     "name": "stdout",
     "output_type": "stream",
     "text": [
      "안녕하세요 저는 마리아 입니다.\n",
      "마리아\n",
      "20\n"
     ]
    }
   ],
   "source": [
    "# 인스턴스를 만들 때 값 받기\n",
    "# __init__ 메서드에서 self 다음에 값을 받을 매개변수를 지정합니다. 그리고 매개변수를 self.속성에 넣어줍니다.\n",
    "class Person:\n",
    "    def __init__(self, name, age, address):\n",
    "        self.hello = '안녕하세요'\n",
    "        self.name = name\n",
    "        self.age = age\n",
    "        self.address = address\n",
    "    \n",
    "    def greeting(self):\n",
    "        print('{0} 저는 {1} 입니다.'.format(self.hello, self.name))\n",
    "maria = Person('마리아', 20, '서울시 서초구')\n",
    "maria.greeting()\n",
    "\n",
    "print(maria.name)\n",
    "print(maria.age)"
   ]
  },
  {
   "cell_type": "code",
   "execution_count": 6,
   "metadata": {},
   "outputs": [],
   "source": [
    "# 클래스의 위치 인수, 키워드 인수\n",
    "class Person:\n",
    "    def __init__(self, *args):\n",
    "        self.name = args[0]\n",
    "        self.age = args[1]\n",
    "        self.address = args[2]\n",
    "maria = Person(*['마리아', 20, '서울시 서초구'])"
   ]
  },
  {
   "cell_type": "code",
   "execution_count": null,
   "metadata": {},
   "outputs": [],
   "source": [
    "class Person:\n",
    "    def __init__(self, **kwargs):\n",
    "        self.name = kwargs['name']\n",
    "        self.age = kwargs['age']\n",
    "        self.address = kwargs['address']\n",
    "maria1 = Person(name = '마리아', age = 20, address = '서울시 서초구')\n",
    "maria2 = Person(**{'name' : '마리아', 'age' : 20, 'address' : '서울시 서초구'})"
   ]
  },
  {
   "cell_type": "code",
   "execution_count": 7,
   "metadata": {},
   "outputs": [
    {
     "data": {
      "text/plain": [
       "'마리아'"
      ]
     },
     "execution_count": 7,
     "metadata": {},
     "output_type": "execute_result"
    }
   ],
   "source": [
    "# 인스턴스를 생성한 뒤에 속성 추가하기, 특정 속성만 허용하기\n",
    "# 클래스로 인스턴스를 만든 뒤에도 인스턴스.속성 = 값 형식으로 속성을 계속 추가할 수 있습니다.\n",
    "# 이렇게 추가한 속성은 해당 인스턴스에만 생성됩니다.\n",
    "\n",
    "class Person:\n",
    "    pass\n",
    "maria = Person()\n",
    "maria.name = '마리아'\n",
    "maria.name"
   ]
  },
  {
   "cell_type": "code",
   "execution_count": 9,
   "metadata": {},
   "outputs": [
    {
     "data": {
      "text/plain": [
       "'마리아'"
      ]
     },
     "execution_count": 9,
     "metadata": {},
     "output_type": "execute_result"
    }
   ],
   "source": [
    "# __init__ 메서드가 아닌 다른 메서드에서도 속성을 추가할 수 있습니다.\n",
    "# 단, 이때는 메서드를 호출해야 속성이 생성됩니다.\n",
    "class Person:\n",
    "    def greeting(self):\n",
    "        self.name = '마리아'\n",
    "\n",
    "maria = Person()\n",
    "# maria.name # 아직 name 속성이 없음\n",
    "maria.greeting()\n",
    "maria.name"
   ]
  },
  {
   "cell_type": "code",
   "execution_count": 12,
   "metadata": {},
   "outputs": [
    {
     "ename": "AttributeError",
     "evalue": "'Person' object has no attribute 'address'",
     "output_type": "error",
     "traceback": [
      "\u001b[0;31m---------------------------------------------------------------------------\u001b[0m",
      "\u001b[0;31mAttributeError\u001b[0m                            Traceback (most recent call last)",
      "\u001b[0;32m/var/folders/hs/qgyqqppj281bp7zh9vj3jry40000gn/T/ipykernel_73155/3838436421.py\u001b[0m in \u001b[0;36m<module>\u001b[0;34m\u001b[0m\n\u001b[1;32m      5\u001b[0m \u001b[0mmaria\u001b[0m\u001b[0;34m.\u001b[0m\u001b[0mname\u001b[0m \u001b[0;34m=\u001b[0m \u001b[0;34m\"마리아\"\u001b[0m\u001b[0;34m\u001b[0m\u001b[0;34m\u001b[0m\u001b[0m\n\u001b[1;32m      6\u001b[0m \u001b[0mmaria\u001b[0m\u001b[0;34m.\u001b[0m\u001b[0mage\u001b[0m \u001b[0;34m=\u001b[0m \u001b[0;36m20\u001b[0m\u001b[0;34m\u001b[0m\u001b[0;34m\u001b[0m\u001b[0m\n\u001b[0;32m----> 7\u001b[0;31m \u001b[0mmaria\u001b[0m\u001b[0;34m.\u001b[0m\u001b[0maddress\u001b[0m \u001b[0;34m=\u001b[0m \u001b[0;34m\"서울시 서초구\"\u001b[0m\u001b[0;34m\u001b[0m\u001b[0;34m\u001b[0m\u001b[0m\n\u001b[0m",
      "\u001b[0;31mAttributeError\u001b[0m: 'Person' object has no attribute 'address'"
     ]
    }
   ],
   "source": [
    "# 특정 속성만 허용하고 다른 속성은 제한하고 싶을때는 클래스에서 __slots__에 허용할 속성 이름을 리스트로 넣어주면 됩니다.\n",
    "class Person:\n",
    "    __slots__ = ['name','age']\n",
    "maria = Person()\n",
    "maria.name = \"마리아\"\n",
    "maria.age = 20\n",
    "maria.address = \"서울시 서초구\""
   ]
  },
  {
   "cell_type": "code",
   "execution_count": null,
   "metadata": {},
   "outputs": [],
   "source": []
  }
 ],
 "metadata": {
  "kernelspec": {
   "display_name": "base",
   "language": "python",
   "name": "python3"
  },
  "language_info": {
   "codemirror_mode": {
    "name": "ipython",
    "version": 3
   },
   "file_extension": ".py",
   "mimetype": "text/x-python",
   "name": "python",
   "nbconvert_exporter": "python",
   "pygments_lexer": "ipython3",
   "version": "3.9.7"
  },
  "orig_nbformat": 4
 },
 "nbformat": 4,
 "nbformat_minor": 2
}
