{
 "cells": [
  {
   "cell_type": "code",
   "execution_count": 1,
   "metadata": {},
   "outputs": [
    {
     "name": "stdout",
     "output_type": "stream",
     "text": [
      "2\n"
     ]
    }
   ],
   "source": [
    "# https://www.acmicpc.net/problem/5427\n",
    "from collections import deque\n",
    "def BFS(board):\n",
    "    dx = [-1,0,1,0]\n",
    "    dy = [0,1,0,-1]\n",
    "    \n",
    "    fire_q = deque()\n",
    "    board_q = deque()\n",
    "    fire_visited = [[False]*w for _ in range(h)]\n",
    "    board_visited = [[False]*w for _ in range(h)]\n",
    "\n",
    "    for i in range(h):\n",
    "        for j in range(w):\n",
    "            if board[i][j] == '@':\n",
    "                board_q.append((i, j, 0))\n",
    "                board_visited[i][j] = True\n",
    "            elif board[i][j] == '*':\n",
    "                fire_q.append((i,j))\n",
    "                fire_visited[i][j] = True\n",
    "    \n",
    "    while board_q:\n",
    "        for _ in range(len(fire_q)):\n",
    "            x, y = fire_q.popleft()\n",
    "            for i in range(4):\n",
    "                n_x = x + dx[i]\n",
    "                n_y = y + dy[i]\n",
    "                if 0<=n_x<h and 0<=n_y<w and not fire_visited[n_x][n_y] and board[n_x][n_y] == '.':\n",
    "                    fire_visited[n_x][n_y] = True\n",
    "                    fire_q.append((n_x, n_y))\n",
    "        \n",
    "        for _ in range(len(board_q)):\n",
    "            x, y, c = board_q.popleft()\n",
    "            if x + 1 >= h or x - 1 <= -1 or y+1 >= w or y-1 <= -1:\n",
    "                return c + 1\n",
    "\n",
    "            for i in range(4):\n",
    "                n_x = x + dx[i]\n",
    "                n_y = y + dy[i]\n",
    "                if 0<=n_x<h and 0<=n_y<w and not board_visited[n_x][n_y] and not fire_visited[n_x][n_y] and board[n_x][n_y] == '.':\n",
    "                    board_visited[n_x][n_y] = True\n",
    "                    board_q.append((n_x, n_y, c + 1))\n",
    "    \n",
    "    return \"IMPOSSIBLE\"\n",
    "\n",
    "\n",
    "t = int(input())\n",
    "for _ in range(t):\n",
    "    w, h = map(int, input().split())\n",
    "    board = [list(input()) for _ in range(h)]\n",
    "\n",
    "    print(BFS(board))"
   ]
  },
  {
   "cell_type": "code",
   "execution_count": null,
   "metadata": {},
   "outputs": [],
   "source": []
  }
 ],
 "metadata": {
  "kernelspec": {
   "display_name": "pyflink_38",
   "language": "python",
   "name": "python3"
  },
  "language_info": {
   "codemirror_mode": {
    "name": "ipython",
    "version": 3
   },
   "file_extension": ".py",
   "mimetype": "text/x-python",
   "name": "python",
   "nbconvert_exporter": "python",
   "pygments_lexer": "ipython3",
   "version": "3.8.20"
  }
 },
 "nbformat": 4,
 "nbformat_minor": 2
}
