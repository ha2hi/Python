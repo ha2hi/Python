{
 "cells": [
  {
   "cell_type": "code",
   "execution_count": 4,
   "metadata": {},
   "outputs": [
    {
     "name": "stdout",
     "output_type": "stream",
     "text": [
      "A\n",
      "C\n",
      "OC\n",
      "ZOC\n"
     ]
    }
   ],
   "source": [
    "def solution(start, s):\n",
    "    if not s:\n",
    "        return\n",
    "    \n",
    "    min_val = min(s)\n",
    "    min_idx = s.index(min_val)\n",
    "\n",
    "    res[start+min_idx] = min_val\n",
    "    print(''.join(res))\n",
    "    solution(start+min_idx, s[min_idx+1:])\n",
    "\n",
    "    solution(start, s[:min_idx])\n",
    "\n",
    "\n",
    "s = input()\n",
    "res = [''] * len(s)\n",
    "solution(0, s)"
   ]
  },
  {
   "cell_type": "code",
   "execution_count": 11,
   "metadata": {},
   "outputs": [
    {
     "name": "stdout",
     "output_type": "stream",
     "text": [
      "mirkovniz\n"
     ]
    }
   ],
   "source": [
    "s = input()\n",
    "boom = input()\n",
    "while True:\n",
    "    flag = False\n",
    "    if boom in s:\n",
    "        s = s.replace(boom, '')\n",
    "        flag = True\n",
    "    \n",
    "    if not flag:\n",
    "        break\n",
    "\n",
    "if s:\n",
    "    print(s)\n",
    "else:\n",
    "    print('FRULA')"
   ]
  },
  {
   "cell_type": "code",
   "execution_count": 13,
   "metadata": {},
   "outputs": [
    {
     "name": "stdout",
     "output_type": "stream",
     "text": [
      "mirkovniz\n"
     ]
    }
   ],
   "source": [
    "s = input()\n",
    "boom = input()\n",
    "\n",
    "stack = []\n",
    "ex_len = len(boom)\n",
    "for i in range(len(s)):\n",
    "    stack.append(s[i])\n",
    "    if ''.join(stack[-ex_len:]) == boom:\n",
    "        for _ in range(ex_len):\n",
    "            stack.pop()\n",
    "\n",
    "if stack:\n",
    "    print(''.join(stack))\n",
    "else:\n",
    "    print('FRULA')"
   ]
  },
  {
   "cell_type": "code",
   "execution_count": 17,
   "metadata": {},
   "outputs": [
    {
     "data": {
      "text/plain": [
       "190"
      ]
     },
     "execution_count": 17,
     "metadata": {},
     "output_type": "execute_result"
    }
   ],
   "source": [
    "sum([i for i in range(1, 20)])"
   ]
  },
  {
   "cell_type": "markdown",
   "metadata": {},
   "source": []
  },
  {
   "cell_type": "code",
   "execution_count": null,
   "metadata": {},
   "outputs": [],
   "source": []
  }
 ],
 "metadata": {
  "kernelspec": {
   "display_name": "base",
   "language": "python",
   "name": "python3"
  },
  "language_info": {
   "codemirror_mode": {
    "name": "ipython",
    "version": 3
   },
   "file_extension": ".py",
   "mimetype": "text/x-python",
   "name": "python",
   "nbconvert_exporter": "python",
   "pygments_lexer": "ipython3",
   "version": "3.9.7"
  },
  "orig_nbformat": 4
 },
 "nbformat": 4,
 "nbformat_minor": 2
}
