{
 "cells": [
  {
   "cell_type": "code",
   "execution_count": null,
   "metadata": {},
   "outputs": [],
   "source": [
    "# https://www.acmicpc.net/problem/7562\n",
    "from collections import deque\n",
    "dx = [-2, -1, 1, 2, 2, 1, -1, -2]\n",
    "dy = [1, 2, 2, 1, -1, -2, -2, -1]\n",
    "t = int(input())\n",
    "\n",
    "for _ in range(t):\n",
    "    l = int(input())\n",
    "    s_x, s_y = map(int, input().split())\n",
    "    e_x, e_y = map(int, input().split())\n",
    "    ch = [[False] * l for _ in range(l)]\n",
    "\n",
    "    q = deque([(s_x, s_y, 0)])\n",
    "    while q:\n",
    "        x, y, c = q.popleft()\n",
    "        if x == e_x and y == e_y:\n",
    "            print(c)\n",
    "            break\n",
    "\n",
    "        for i in range(8):\n",
    "            xx = x + dx[i]\n",
    "            yy = y + dy[i]\n",
    "            if 0<=xx<l and 0<=yy<l and not ch[xx][yy]:\n",
    "                ch[xx][yy] = True\n",
    "                q.append((xx,yy,c+1))"
   ]
  }
 ],
 "metadata": {
  "language_info": {
   "name": "python"
  }
 },
 "nbformat": 4,
 "nbformat_minor": 2
}
