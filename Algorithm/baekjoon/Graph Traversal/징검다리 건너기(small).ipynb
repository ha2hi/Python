{
 "cells": [
  {
   "cell_type": "code",
   "execution_count": null,
   "metadata": {},
   "outputs": [],
   "source": [
    "# https://www.acmicpc.net/problem/22869\n",
    "from collections import deque\n",
    "import sys\n",
    "n, k = map(int, input().split())\n",
    "bridge = list(map(int, input().split()))\n",
    "ch = [False for _ in range(n)]\n",
    "\n",
    "q = deque([0])\n",
    "ch[0] = True\n",
    "while q:\n",
    "    x = q.popleft()\n",
    "    for y in range(x+1, n):\n",
    "        if (y-x)*(1+abs(bridge[x]-bridge[y])) <= k and not ch[y]:\n",
    "            ch[y] = True\n",
    "            q.append(y)\n",
    "            if y == n-1:\n",
    "                print(\"YES\")\n",
    "                sys.exit()\n",
    "\n",
    "print(\"NO\")"
   ]
  }
 ],
 "metadata": {
  "language_info": {
   "name": "python"
  }
 },
 "nbformat": 4,
 "nbformat_minor": 2
}
