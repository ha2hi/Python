{
 "cells": [
  {
   "cell_type": "code",
   "execution_count": 62,
   "metadata": {},
   "outputs": [],
   "source": [
    "from pyspark.sql import SparkSession, Row\n",
    "from pyspark import SparkConf, SparkContext\n",
    "\n",
    "spark = SparkSession.builder.master(\"local\").appName(\"spark-dataframe-basic\").getOrCreate()"
   ]
  },
  {
   "cell_type": "code",
   "execution_count": 63,
   "metadata": {},
   "outputs": [
    {
     "name": "stderr",
     "output_type": "stream",
     "text": [
      "[Stage 108:==========================================>              (3 + 1) / 4]\r"
     ]
    },
    {
     "name": "stdout",
     "output_type": "stream",
     "text": [
      "+-------------------+----------------+----------+-------------------+-------------+---------+-----+---------+--------------------+\n",
      "|         event_time|      event_type|product_id|        category_id|category_code|    brand|price|  user_id|        user_session|\n",
      "+-------------------+----------------+----------+-------------------+-------------+---------+-----+---------+--------------------+\n",
      "|2019-12-01 09:00:00|remove_from_cart|   5712790|1487580005268456287|         null|    f.o.x| 6.27|576802932|51d85cb0-897f-48d...|\n",
      "|2019-12-01 09:00:00|            view|   5764655|1487580005411062629|         null|      cnd|29.05|412120092|8adff31e-2051-489...|\n",
      "|2019-12-01 09:00:02|            cart|      4958|1487580009471148064|         null|   runail| 1.19|494077766|c99a50e8-2fac-4c4...|\n",
      "|2019-12-01 09:00:05|            view|   5848413|1487580007675986893|         null|freedecor| 0.79|348405118|722ffea5-73c0-492...|\n",
      "|2019-12-01 09:00:07|            view|   5824148|1487580005511725929|         null|     null| 5.56|576005683|28172809-7e4a-45c...|\n",
      "|2019-12-01 09:00:09|            view|   5773361|1487580005134238553|         null|   runail| 2.62|560109803|38cf4ba1-4a0a-4c9...|\n",
      "|2019-12-01 09:00:18|            cart|   5629988|1487580009311764506|         null|     null| 1.19|579966747|1512be50-d0fd-4a9...|\n",
      "|2019-12-01 09:00:22|            view|   5807805|1487580005713052531|         null| ingarden| 4.44|576005683|28172809-7e4a-45c...|\n",
      "|2019-12-01 09:00:27|            view|   5588608|1487580008145748965|         null| roubloff|  5.4|546170008|676d9fcc-2a4f-444...|\n",
      "|2019-12-01 09:00:34|            cart|      5335|1487580009605365797|         null|   runail|  0.4|494077766|c99a50e8-2fac-4c4...|\n",
      "|2019-12-01 09:00:40|            cart|   5755170|1487580009387261981|         null|     null| 2.79|579751441|8de492d7-0937-47a...|\n",
      "|2019-12-01 09:00:44|remove_from_cart|   5650294|1487580007835370453|         null|  metzger| 3.33|576802932|51d85cb0-897f-48d...|\n",
      "|2019-12-01 09:00:45|            cart|   5755170|1487580009387261981|         null|     null| 2.79|579751441|8de492d7-0937-47a...|\n",
      "|2019-12-01 09:00:46|remove_from_cart|   5692261|1487580007835370453|         null|  staleks| 6.35|576802932|51d85cb0-897f-48d...|\n",
      "|2019-12-01 09:00:46|            view|   5798929|1783999068909863670|         null|   zinger| 6.19|579966747|1512be50-d0fd-4a9...|\n",
      "|2019-12-01 09:00:46|            cart|   5755170|1487580009387261981|         null|     null| 2.79|579751441|8de492d7-0937-47a...|\n",
      "|2019-12-01 09:00:49|remove_from_cart|   5694628|1487580007835370453|         null|     yoko| 3.65|576802932|51d85cb0-897f-48d...|\n",
      "|2019-12-01 09:00:50|            view|      3936|1487580005343953762|         null|   entity|10.95|579969717|006dd2fb-ae1e-446...|\n",
      "|2019-12-01 09:00:52|            cart|   5761411|1487580007432717250|         null| ingarden| 2.86|494077766|c99a50e8-2fac-4c4...|\n",
      "|2019-12-01 09:00:58|            cart|   5761411|1487580007432717250|         null| ingarden| 2.86|494077766|c99a50e8-2fac-4c4...|\n",
      "+-------------------+----------------+----------+-------------------+-------------+---------+-----+---------+--------------------+\n",
      "only showing top 20 rows\n",
      "\n"
     ]
    },
    {
     "name": "stderr",
     "output_type": "stream",
     "text": [
      "                                                                                \r"
     ]
    }
   ],
   "source": [
    "from pyspark.sql.types import *\n",
    "from pyspark.sql.functions import *\n",
    "from pyspark.sql.window import Window\n",
    "\n",
    "df = spark.read.load(\"./archive (1)/2019-Dec.csv\",\n",
    "                    format = \"csv\",\n",
    "                    inferSchema = \"true\",\n",
    "                    header = \"true\")\n",
    "\n",
    "df.show()"
   ]
  },
  {
   "cell_type": "code",
   "execution_count": 64,
   "metadata": {},
   "outputs": [
    {
     "name": "stderr",
     "output_type": "stream",
     "text": [
      "                                                                                \r"
     ]
    },
    {
     "data": {
      "text/plain": [
       "3533286"
      ]
     },
     "execution_count": 64,
     "metadata": {},
     "output_type": "execute_result"
    }
   ],
   "source": [
    "df.count()"
   ]
  },
  {
   "cell_type": "code",
   "execution_count": 65,
   "metadata": {},
   "outputs": [
    {
     "name": "stdout",
     "output_type": "stream",
     "text": [
      "root\n",
      " |-- event_time: timestamp (nullable = true)\n",
      " |-- event_type: string (nullable = true)\n",
      " |-- product_id: integer (nullable = true)\n",
      " |-- category_id: long (nullable = true)\n",
      " |-- category_code: string (nullable = true)\n",
      " |-- brand: string (nullable = true)\n",
      " |-- price: double (nullable = true)\n",
      " |-- user_id: integer (nullable = true)\n",
      " |-- user_session: string (nullable = true)\n",
      "\n"
     ]
    }
   ],
   "source": [
    "df.printSchema()"
   ]
  },
  {
   "cell_type": "code",
   "execution_count": 66,
   "metadata": {},
   "outputs": [
    {
     "name": "stderr",
     "output_type": "stream",
     "text": [
      "[Stage 113:============================>                            (2 + 1) / 4]\r"
     ]
    },
    {
     "name": "stdout",
     "output_type": "stream",
     "text": [
      "+-------------------+-------------------+\n",
      "|max(event_time)    |min(event_time)    |\n",
      "+-------------------+-------------------+\n",
      "|2020-01-01 08:59:57|2019-12-01 09:00:00|\n",
      "+-------------------+-------------------+\n",
      "\n"
     ]
    },
    {
     "name": "stderr",
     "output_type": "stream",
     "text": [
      "                                                                                \r"
     ]
    }
   ],
   "source": [
    "df.agg(max(\"event_time\"), min(\"event_time\")).show(truncate=False)"
   ]
  },
  {
   "cell_type": "code",
   "execution_count": 67,
   "metadata": {},
   "outputs": [
    {
     "name": "stderr",
     "output_type": "stream",
     "text": [
      "[Stage 116:==========================================>              (3 + 1) / 4]\r"
     ]
    },
    {
     "name": "stdout",
     "output_type": "stream",
     "text": [
      "+---------+-------------------+--------+\n",
      "|    brand|        category_id|count(1)|\n",
      "+---------+-------------------+--------+\n",
      "|    domix|1487580011970953351|     963|\n",
      "|    domix|1487580007256556476|     828|\n",
      "|  bioaqua|1597770225539875791|     141|\n",
      "|   runail|1487580007936033754|    3436|\n",
      "|     oniq|1487580005092295511|    1778|\n",
      "| ingarden|1487580011996119176|     970|\n",
      "|  markell|1783999067156644376|     138|\n",
      "|    naomi|1487580012524601496|      89|\n",
      "|   missha|1783999073758478650|       4|\n",
      "|     null|1487580008145748965|   15697|\n",
      "|     null|1487580011677352062|    5306|\n",
      "|     null|1998040852064109417|     808|\n",
      "|    estel|1487580013732561106|    2191|\n",
      "|   eunyul|1487580011585077370|    1882|\n",
      "|   matrix|1487580008263189483|     518|\n",
      "|   runail|1487580009051717646|    2417|\n",
      "|      pnb|1487580007457883075|     409|\n",
      "|     kiss|1487580013506068678|     195|\n",
      "|   matrix|1487580010268065854|      60|\n",
      "|veraclara|1783999072332415142|     214|\n",
      "+---------+-------------------+--------+\n",
      "only showing top 20 rows\n",
      "\n"
     ]
    },
    {
     "name": "stderr",
     "output_type": "stream",
     "text": [
      "                                                                                \r"
     ]
    }
   ],
   "source": [
    "df.groupBy(col(\"brand\"), col(\"category_id\")).agg(count(\"*\")).show()"
   ]
  },
  {
   "cell_type": "code",
   "execution_count": 68,
   "metadata": {},
   "outputs": [
    {
     "name": "stderr",
     "output_type": "stream",
     "text": [
      "[Stage 119:==========================================>              (3 + 1) / 4]\r"
     ]
    },
    {
     "name": "stdout",
     "output_type": "stream",
     "text": [
      "+------------+--------------------+-------------+\n",
      "|       brand|       category_code|product_count|\n",
      "+------------+--------------------+-------------+\n",
      "|     beautix|                null|          324|\n",
      "|  dr.gloderm|                null|           29|\n",
      "|     farmona|                null|           38|\n",
      "|      runail|appliances.enviro...|            3|\n",
      "|   profhenna|                null|           54|\n",
      "|     philips|                null|            1|\n",
      "|invisibobble|                null|            3|\n",
      "|       riche|                null|           36|\n",
      "|        oniq|                null|          565|\n",
      "|    lebelage|                null|           44|\n",
      "|     vilenta|                null|           20|\n",
      "|       fancy|                null|           14|\n",
      "|    siberina|                null|          185|\n",
      "|      tertio|                null|           98|\n",
      "|      jaguar|                null|           21|\n",
      "|    nitrimax|       apparel.glove|           19|\n",
      "|   koreatida|                null|            3|\n",
      "|         jas|                null|           16|\n",
      "|rocknailstar|                null|           11|\n",
      "|   depilflax|                null|           42|\n",
      "+------------+--------------------+-------------+\n",
      "only showing top 20 rows\n",
      "\n"
     ]
    },
    {
     "name": "stderr",
     "output_type": "stream",
     "text": [
      "                                                                                \r"
     ]
    }
   ],
   "source": [
    "df.groupBy(col(\"brand\"), col(\"category_code\")).agg(countDistinct(\"product_id\").alias(\"product_count\")).show()"
   ]
  },
  {
   "cell_type": "code",
   "execution_count": 69,
   "metadata": {},
   "outputs": [
    {
     "name": "stderr",
     "output_type": "stream",
     "text": [
      "[Stage 125:============================>                            (2 + 1) / 4]\r"
     ]
    },
    {
     "name": "stdout",
     "output_type": "stream",
     "text": [
      "+----------------+\n",
      "|      event_type|\n",
      "+----------------+\n",
      "|        purchase|\n",
      "|            view|\n",
      "|            cart|\n",
      "|remove_from_cart|\n",
      "+----------------+\n",
      "\n"
     ]
    },
    {
     "name": "stderr",
     "output_type": "stream",
     "text": [
      "                                                                                \r"
     ]
    }
   ],
   "source": [
    "df.select(\"event_type\").distinct().show()"
   ]
  },
  {
   "cell_type": "code",
   "execution_count": 70,
   "metadata": {},
   "outputs": [
    {
     "name": "stderr",
     "output_type": "stream",
     "text": [
      "[Stage 128:==========================================>              (3 + 1) / 4]\r"
     ]
    },
    {
     "name": "stdout",
     "output_type": "stream",
     "text": [
      "+----------+--------------+\n",
      "|event_date|purchase_count|\n",
      "+----------+--------------+\n",
      "|2019-12-01|3938          |\n",
      "|2019-12-02|8719          |\n",
      "|2019-12-03|8949          |\n",
      "|2019-12-04|7941          |\n",
      "|2019-12-05|8222          |\n",
      "|2019-12-06|7608          |\n",
      "|2019-12-07|6124          |\n",
      "|2019-12-08|6185          |\n",
      "|2019-12-09|8280          |\n",
      "|2019-12-10|10105         |\n",
      "|2019-12-11|9205          |\n",
      "|2019-12-12|10016         |\n",
      "|2019-12-13|8163          |\n",
      "|2019-12-14|6274          |\n",
      "|2019-12-15|6597          |\n",
      "|2019-12-16|8883          |\n",
      "|2019-12-17|8383          |\n",
      "|2019-12-18|8243          |\n",
      "|2019-12-19|7624          |\n",
      "|2019-12-20|6544          |\n",
      "+----------+--------------+\n",
      "only showing top 20 rows\n",
      "\n"
     ]
    },
    {
     "name": "stderr",
     "output_type": "stream",
     "text": [
      "                                                                                \r"
     ]
    }
   ],
   "source": [
    "df\\\n",
    "    .selectExpr(\"to_date(event_time) as event_date\", \"event_type\")\\\n",
    "    .where(col(\"event_type\") == lit(\"purchase\"))\\\n",
    "    .groupBy(col(\"event_date\"))\\\n",
    "    .agg(count(col(\"event_type\")).alias(\"purchase_count\"))\\\n",
    "    .orderBy(asc(col(\"event_date\")))\\\n",
    "    .show(truncate=False)"
   ]
  },
  {
   "cell_type": "code",
   "execution_count": 71,
   "metadata": {},
   "outputs": [
    {
     "name": "stderr",
     "output_type": "stream",
     "text": [
      "[Stage 131:==========================================>              (3 + 1) / 4]\r"
     ]
    },
    {
     "name": "stdout",
     "output_type": "stream",
     "text": [
      "+--------+--------------------+\n",
      "|   brand|         sales_price|\n",
      "+--------+--------------------+\n",
      "|    null|1.1286279439998714E7|\n",
      "|  strong|   2102395.009999969|\n",
      "|jessnail|   2054767.029999821|\n",
      "|  runail|   1716416.720000293|\n",
      "|   irisk|  1169752.2900000443|\n",
      "|marathon|   868768.1700000158|\n",
      "| grattol|    856684.059999618|\n",
      "|     cnd|    572103.229999986|\n",
      "|   estel|   513535.1599999732|\n",
      "|  masura|  425557.81999999704|\n",
      "+--------+--------------------+\n",
      "\n"
     ]
    },
    {
     "name": "stderr",
     "output_type": "stream",
     "text": [
      "                                                                                \r"
     ]
    }
   ],
   "source": [
    "df\\\n",
    "    .select(\"brand\", \"price\")\\\n",
    "    .groupBy(\"brand\")\\\n",
    "    .agg(sum(\"price\").alias(\"sales_price\"))\\\n",
    "    .orderBy(desc(\"sales_price\"))\\\n",
    "    .limit(10)\\\n",
    "    .show()"
   ]
  },
  {
   "cell_type": "code",
   "execution_count": 79,
   "metadata": {},
   "outputs": [
    {
     "name": "stderr",
     "output_type": "stream",
     "text": [
      "[Stage 155:=========================================================(1 + 0) / 1]\r"
     ]
    },
    {
     "name": "stdout",
     "output_type": "stream",
     "text": [
      "+--------+------------------+--------------+------------------+-------------------+------------------+\n",
      "|brand   |sales_price       |user_count_all|ARPU              |user_count_purchase|ARPPU             |\n",
      "+--------+------------------+--------------+------------------+-------------------+------------------+\n",
      "|strong  |2102395.009999969 |4659          |451.25456321098284|110                |19112.68190909063 |\n",
      "|jessnail|2054767.029999821 |19018         |108.04327636974556|1073               |1914.973932898249 |\n",
      "|runail  |1716416.720000293 |51516         |33.31812873670885 |7443               |230.6081848717309 |\n",
      "|irisk   |1169752.2900000443|39894         |29.321509249512314|5864               |199.48026773534178|\n",
      "|marathon|868768.1700000158 |3145          |276.2378918918969 |90                 |9652.979666666843 |\n",
      "|grattol |856684.059999618  |31705         |27.0204718498539  |3674               |233.17475775710886|\n",
      "|cnd     |572103.229999986  |8626          |66.32311963830118 |652                |877.4589417177699 |\n",
      "|estel   |513535.1599999732 |23367         |21.976940129240948|2012               |255.23616302185548|\n",
      "|masura  |425557.81999999704|18275         |23.28633761969888 |2136               |199.2311891385754 |\n",
      "|uno     |421874.90000001737|12780         |33.01055555555691 |1690               |249.63011834320554|\n",
      "+--------+------------------+--------------+------------------+-------------------+------------------+\n",
      "\n"
     ]
    },
    {
     "name": "stderr",
     "output_type": "stream",
     "text": [
      "                                                                                \r"
     ]
    }
   ],
   "source": [
    "\"\"\"\n",
    "ARPU (Average Revenue Per User): 전체 사용자 대비 수익입니다.\n",
    "\n",
    "ARPPU (Average Revenue Per Paid User): 결제 사용자 대비 수익입니다.\n",
    "\"\"\"\n",
    "eventPurchase = \"purchase\"\n",
    "\n",
    "df\\\n",
    "    .select(\"brand\", \"category_code\", \"price\", \"user_id\", \"event_type\")\\\n",
    "    .where(\"brand IS NOT NULL\")\\\n",
    "    .groupBy(\"brand\")\\\n",
    "    .agg(\n",
    "        countDistinct(\"user_id\").alias(\"user_count_all\"),\n",
    "        countDistinct(when(col(\"event_type\") == lit(eventPurchase), col(\"user_id\"))).alias(\"user_count_purchase\"),\n",
    "        sum(\"price\").alias(\"sales_price\")\n",
    "        )\\\n",
    "    .selectExpr(\n",
    "        \"brand\", \n",
    "        \"sales_price\", \n",
    "        \"user_count_all\", \n",
    "        \"sales_price / user_count_all as ARPU\",\n",
    "        \"user_count_purchase\",\n",
    "        \"sales_price / user_count_purchase as ARPPU\",\n",
    "    )\\\n",
    "    .orderBy(desc(\"sales_price\"))\\\n",
    "    .limit(10)\\\n",
    "    .show(truncate=False)\n"
   ]
  },
  {
   "cell_type": "code",
   "execution_count": null,
   "metadata": {},
   "outputs": [],
   "source": []
  },
  {
   "cell_type": "code",
   "execution_count": 91,
   "metadata": {},
   "outputs": [
    {
     "name": "stderr",
     "output_type": "stream",
     "text": [
      "[Stage 182:==========================================>              (3 + 1) / 4]\r"
     ]
    },
    {
     "name": "stdout",
     "output_type": "stream",
     "text": [
      "+---------+--------------------+----+\n",
      "|    brand|       category_code|rank|\n",
      "+---------+--------------------+----+\n",
      "| babyliss|appliances.person...|   1|\n",
      "|   benovy|       apparel.glove|   1|\n",
      "|  concept|appliances.enviro...|   1|\n",
      "|   cutrin|appliances.enviro...|   1|\n",
      "|depilflax| stationery.cartrige|   1|\n",
      "|    dewal|appliances.person...|   1|\n",
      "|    domix|furniture.bathroo...|   1|\n",
      "|     emil|appliances.enviro...|   1|\n",
      "|   entity|furniture.bathroo...|   1|\n",
      "|    estel|appliances.enviro...|   1|\n",
      "|farmavita|appliances.enviro...|   1|\n",
      "|  farmona|furniture.bathroo...|   1|\n",
      "|   gehwol|furniture.bathroo...|   1|\n",
      "|    irisk|furniture.bathroo...|   1|\n",
      "|  italwax| stationery.cartrige|   1|\n",
      "|   jaguar|appliances.person...|   1|\n",
      "| jessnail|appliances.enviro...|   1|\n",
      "|   kaaral|appliances.enviro...|   1|\n",
      "| kinetics|furniture.bathroo...|   1|\n",
      "| kosmekka|furniture.living_...|   1|\n",
      "+---------+--------------------+----+\n",
      "only showing top 20 rows\n",
      "\n"
     ]
    },
    {
     "name": "stderr",
     "output_type": "stream",
     "text": [
      "                                                                                \r"
     ]
    }
   ],
   "source": [
    "# 전체 기간동안 브랜드별로 두번째로 많이 팔린 (판매 금액 총합이 높은) 상품 카테고리는 무엇입니까?\n",
    "# SQL 사용\n",
    "df.createOrReplaceTempView(\"PURCHASE\")\n",
    "\n",
    "spark.sql(\"\"\"\n",
    "        WITH CALCULATED AS(\n",
    "            SELECT\n",
    "                brand,\n",
    "                category_code,\n",
    "                sum(price) as sum_price\n",
    "            FROM\n",
    "                PURCHASE\n",
    "            WHERE\n",
    "                brand IS NOT NULL\n",
    "            AND category_code IS NOT NULL\n",
    "            GROUP BY brand, category_code\n",
    "        ),\n",
    "        CAL_RANKED AS(\n",
    "            SELECT\n",
    "                brand,\n",
    "                category_code,\n",
    "                ROW_NUMBER() OVER(PARTITION BY brand ORDER BY sum_price DESC) as rank\n",
    "            FROM\n",
    "                CALCULATED\n",
    "                )\n",
    "        SELECT * \n",
    "        FROM\n",
    "            CAL_RANKED\n",
    "        WHERE rank = 1\n",
    "\"\"\").show()"
   ]
  },
  {
   "cell_type": "code",
   "execution_count": 112,
   "metadata": {},
   "outputs": [
    {
     "name": "stderr",
     "output_type": "stream",
     "text": [
      "[Stage 209:==========================================>              (3 + 1) / 4]\r"
     ]
    },
    {
     "name": "stdout",
     "output_type": "stream",
     "text": [
      "+-------------+-------------------+----+\n",
      "|brand        |category_id        |rank|\n",
      "+-------------+-------------------+----+\n",
      "|airnails     |1487580013950664926|1   |\n",
      "|almea        |1487580013522845895|1   |\n",
      "|andrea       |2089259162625114209|1   |\n",
      "|ardell       |2089259162625114209|1   |\n",
      "|art-visage   |1487580013472514244|1   |\n",
      "|artex        |1487580005092295511|1   |\n",
      "|aura         |2151191059827262021|1   |\n",
      "|australis    |1487580013413793985|1   |\n",
      "|avene        |1783999072332415142|1   |\n",
      "|babyliss     |1487580008053474272|1   |\n",
      "|balbcare     |1487580009672474664|1   |\n",
      "|barbie       |1511892746070131099|1   |\n",
      "|barex        |1487580008246412266|1   |\n",
      "|batiste      |1645114480121610699|1   |\n",
      "|beautific    |2130081478220972046|1   |\n",
      "|beautix      |1487580004832248652|1   |\n",
      "|beauty-free  |1842735758805303837|1   |\n",
      "|beautyblender|1487580013430571202|1   |\n",
      "|beauugreen   |1891434351850160381|1   |\n",
      "|benovy       |2007399943458784057|1   |\n",
      "+-------------+-------------------+----+\n",
      "only showing top 20 rows\n",
      "\n"
     ]
    },
    {
     "name": "stderr",
     "output_type": "stream",
     "text": [
      "                                                                                \r"
     ]
    }
   ],
   "source": [
    "# 전체 기간동안 브랜드별로 두번째로 많이 팔린 (판매 금액 총합이 높은) 상품 카테고리는 무엇입니까?\n",
    "# DataFrame API 사용\n",
    "dfCalculated = df\\\n",
    "    .select(\"brand\", \"category_id\", \"price\")\\\n",
    "    .where(col(\"brand\").isNotNull() & col(\"category_id\").isNotNull())\\\n",
    "    .groupBy(col(\"brand\"), col(\"category_id\"))\\\n",
    "    .agg(sum(col(\"price\")).alias(\"sum_price\"))\n",
    "\n",
    "dfRanked = dfCalculated\\\n",
    "    .select(\n",
    "        col(\"brand\"),\n",
    "        col(\"category_id\"),\n",
    "        rank().over(Window.partitionBy(col(\"brand\")).orderBy(desc(\"sum_price\"))).alias(\"rank\")\n",
    "    )\\\n",
    "    .where(col(\"rank\") == lit(1))\\\n",
    "    .show(truncate=False)"
   ]
  },
  {
   "cell_type": "code",
   "execution_count": null,
   "metadata": {},
   "outputs": [],
   "source": []
  },
  {
   "cell_type": "code",
   "execution_count": 127,
   "metadata": {},
   "outputs": [
    {
     "name": "stderr",
     "output_type": "stream",
     "text": [
      "[Stage 243:==========================================>              (3 + 1) / 4]\r"
     ]
    },
    {
     "name": "stdout",
     "output_type": "stream",
     "text": [
      "+----------+------------+----+\n",
      "|event_date|brand       |rank|\n",
      "+----------+------------+----+\n",
      "|2019-12-01|tazol       |1   |\n",
      "|2019-12-01|bodipure    |2   |\n",
      "|2019-12-01|veraclara   |3   |\n",
      "|2019-12-02|voesh       |1   |\n",
      "|2019-12-02|rocknailstar|2   |\n",
      "|2019-12-02|weaver      |3   |\n",
      "|2019-12-03|barbie      |1   |\n",
      "|2019-12-03|frozen      |2   |\n",
      "|2019-12-03|weaver      |3   |\n",
      "|2019-12-04|rocknailstar|1   |\n",
      "|2019-12-04|uralsoap    |2   |\n",
      "|2019-12-04|skinity     |3   |\n",
      "|2019-12-05|uralsoap    |1   |\n",
      "|2019-12-05|skinity     |2   |\n",
      "|2019-12-05|ovale       |3   |\n",
      "|2019-12-06|candy       |1   |\n",
      "|2019-12-06|cosima      |2   |\n",
      "|2019-12-06|rocknailstar|3   |\n",
      "|2019-12-07|supertan    |1   |\n",
      "|2019-12-07|cosima      |2   |\n",
      "+----------+------------+----+\n",
      "only showing top 20 rows\n",
      "\n"
     ]
    },
    {
     "name": "stderr",
     "output_type": "stream",
     "text": [
      "                                                                                \r"
     ]
    }
   ],
   "source": [
    "# 일별로 많이 팔린 (판매 금액 총합이 높은) 브랜드별 랭킹 Top 3 는 무엇입니까?\n",
    "# SQL 사용\n",
    "df.createOrReplaceTempView(\"PURCHASE\")\n",
    "\n",
    "spark.sql(\"\"\"\n",
    "    WITH CALC_DATE as(\n",
    "    SELECT \n",
    "        TO_DATE(event_time) as event_date,\n",
    "        brand,\n",
    "        sum(price) as sum_price\n",
    "    FROM PURCHASE\n",
    "    WHERE brand IS NOT NULL\n",
    "    GROUP BY event_date, brand\n",
    "    ),\n",
    "    CALC_RANK as (\n",
    "    SELECT\n",
    "        event_date,\n",
    "        brand,\n",
    "        row_number() over(partition by event_date order by sum_price) as rank\n",
    "    FROM\n",
    "        CALC_DATE\n",
    "    )\n",
    "\n",
    "    SELECT\n",
    "        *\n",
    "    FROM\n",
    "        CALC_RANK\n",
    "    WHERE rank <= 3\n",
    "    ORDER BY event_date, rank\n",
    "\"\"\").show(truncate=False)"
   ]
  },
  {
   "cell_type": "code",
   "execution_count": null,
   "metadata": {},
   "outputs": [],
   "source": []
  },
  {
   "cell_type": "code",
   "execution_count": 146,
   "metadata": {},
   "outputs": [
    {
     "name": "stderr",
     "output_type": "stream",
     "text": [
      "24/08/12 11:01:12 WARN WindowExec: No Partition Defined for Window operation! Moving all data to a single partition, this can cause serious performance degradation.\n",
      "24/08/12 11:01:12 WARN WindowExec: No Partition Defined for Window operation! Moving all data to a single partition, this can cause serious performance degradation.\n",
      "24/08/12 11:01:12 WARN WindowExec: No Partition Defined for Window operation! Moving all data to a single partition, this can cause serious performance degradation.\n",
      "24/08/12 11:01:18 WARN WindowExec: No Partition Defined for Window operation! Moving all data to a single partition, this can cause serious performance degradation.\n",
      "24/08/12 11:01:18 WARN WindowExec: No Partition Defined for Window operation! Moving all data to a single partition, this can cause serious performance degradation.\n",
      "24/08/12 11:01:19 WARN WindowExec: No Partition Defined for Window operation! Moving all data to a single partition, this can cause serious performance degradation.\n",
      "24/08/12 11:01:19 WARN WindowExec: No Partition Defined for Window operation! Moving all data to a single partition, this can cause serious performance degradation.\n"
     ]
    },
    {
     "name": "stdout",
     "output_type": "stream",
     "text": [
      "+---------+------------------+------------------+------------------+----+\n",
      "|    brand|    price_sum_prev| price_sum_current|    price_sum_next|rank|\n",
      "+---------+------------------+------------------+------------------+----+\n",
      "|   strong|              null| 2102395.009999969| 2054767.029999821|   1|\n",
      "| jessnail| 2102395.009999969| 2054767.029999821| 1716416.720000293|   2|\n",
      "|   runail| 2054767.029999821| 1716416.720000293|1169752.2900000443|   3|\n",
      "|    irisk| 1716416.720000293|1169752.2900000443| 868768.1700000158|   4|\n",
      "| marathon|1169752.2900000443| 868768.1700000158|  856684.059999618|   5|\n",
      "|  grattol| 868768.1700000158|  856684.059999618|  572103.229999986|   6|\n",
      "|      cnd|  856684.059999618|  572103.229999986| 513535.1599999732|   7|\n",
      "|    estel|  572103.229999986| 513535.1599999732|425557.81999999704|   8|\n",
      "|   masura| 513535.1599999732|425557.81999999704|421874.90000001737|   9|\n",
      "|      uno|425557.81999999704|421874.90000001737| 419586.7600000071|  10|\n",
      "|      max|421874.90000001737| 419586.7600000071|   336664.62000004|  11|\n",
      "| ingarden| 419586.7600000071|   336664.62000004| 334850.5600000026|  12|\n",
      "|  polarus|   336664.62000004| 334850.5600000026|316981.45999999455|  13|\n",
      "|  italwax| 334850.5600000026|316981.45999999455|308178.83999999915|  14|\n",
      "| kosmekka|316981.45999999455|308178.83999999915|270600.15000000154|  15|\n",
      "|      jas|308178.83999999915|270600.15000000154| 267171.5199999731|  16|\n",
      "|   kapous|270600.15000000154| 267171.5199999731|264640.50000000297|  17|\n",
      "|browxenna| 267171.5199999731|264640.50000000297|248931.69000000207|  18|\n",
      "|     shik|264640.50000000297|248931.69000000207|231269.43000001123|  19|\n",
      "|  concept|248931.69000000207|231269.43000001123|218694.34999999552|  20|\n",
      "+---------+------------------+------------------+------------------+----+\n",
      "only showing top 20 rows\n",
      "\n"
     ]
    },
    {
     "name": "stderr",
     "output_type": "stream",
     "text": [
      "                                                                                \r"
     ]
    }
   ],
   "source": [
    "# 전체 기간동안 브랜드별 매출(판매 금액의 합) 을 구하되, 자신보다 한단계 높은 순위 또는 낮은 순위의 매출도 같이 표시하기\n",
    "# SQL 사용\n",
    "df.createOrReplaceTempView(\"PURCHASE\")\n",
    "\n",
    "spark.sql(\"\"\"\n",
    "    WITH CALC as (SELECT\n",
    "        brand,\n",
    "        sum(price) as sum_price\n",
    "    FROM PURCHASE\n",
    "    WHERE brand IS NOT NULL\n",
    "    GROUP BY brand\n",
    "    )\n",
    "    SELECT\n",
    "        brand,\n",
    "        lag(sum_price, 1) OVER(ORDER BY sum_price DESC) as price_sum_prev,\n",
    "        sum_price as price_sum_current,\n",
    "        lead(sum_price, 1) OVER(ORDER BY sum_price DESC) as price_sum_next,\n",
    "        ROW_NUMBER() OVER(ORDER BY sum_price DESC) as rank\n",
    "    FROM\n",
    "        CALC\n",
    "    ORDER BY rank\n",
    "\"\"\").show()"
   ]
  },
  {
   "cell_type": "code",
   "execution_count": null,
   "metadata": {},
   "outputs": [],
   "source": []
  },
  {
   "cell_type": "code",
   "execution_count": 152,
   "metadata": {},
   "outputs": [
    {
     "name": "stderr",
     "output_type": "stream",
     "text": [
      "24/08/12 11:26:44 WARN WindowExec: No Partition Defined for Window operation! Moving all data to a single partition, this can cause serious performance degradation.\n",
      "24/08/12 11:26:44 WARN WindowExec: No Partition Defined for Window operation! Moving all data to a single partition, this can cause serious performance degradation.\n",
      "24/08/12 11:26:44 WARN WindowExec: No Partition Defined for Window operation! Moving all data to a single partition, this can cause serious performance degradation.\n",
      "24/08/12 11:26:56 WARN WindowExec: No Partition Defined for Window operation! Moving all data to a single partition, this can cause serious performance degradation.\n",
      "24/08/12 11:26:56 WARN WindowExec: No Partition Defined for Window operation! Moving all data to a single partition, this can cause serious performance degradation.\n",
      "24/08/12 11:26:57 WARN WindowExec: No Partition Defined for Window operation! Moving all data to a single partition, this can cause serious performance degradation.\n",
      "24/08/12 11:26:57 WARN WindowExec: No Partition Defined for Window operation! Moving all data to a single partition, this can cause serious performance degradation.\n"
     ]
    },
    {
     "name": "stdout",
     "output_type": "stream",
     "text": [
      "+----------+-----------------+--------------------+\n",
      "|event_date|        price_sum|           price_acc|\n",
      "+----------+-----------------+--------------------+\n",
      "|2019-12-01|379024.1699999943|   379024.1699999943|\n",
      "|2019-12-02|770094.4599999458|    1149118.62999994|\n",
      "|2019-12-03|781595.0399999327|  1930713.6699998728|\n",
      "|2019-12-04|787531.4799999163|   2718245.149999789|\n",
      "|2019-12-05|758357.1399999415|  3476602.2899997304|\n",
      "|2019-12-06|699547.9699999529|   4176150.259999683|\n",
      "|2019-12-07|610060.4899999627|   4786210.749999646|\n",
      "|2019-12-08|645167.8099999959|   5431378.559999642|\n",
      "|2019-12-09|779006.3599999349|   6210384.919999577|\n",
      "|2019-12-10|795046.2999999389|   7005431.219999516|\n",
      "|2019-12-11|742134.6999999186|   7747565.919999435|\n",
      "|2019-12-12|728599.1099999169|   8476165.029999351|\n",
      "|2019-12-13|652097.3199999349|   9128262.349999286|\n",
      "|2019-12-14|578012.6099999499|   9706274.959999235|\n",
      "|2019-12-15|666701.7899999392|1.0372976749999175E7|\n",
      "|2019-12-16|791329.3899999056| 1.116430613999908E7|\n",
      "|2019-12-17|782203.0799999245|1.1946509219999004E7|\n",
      "|2019-12-18|759767.5799999604|1.2706276799998965E7|\n",
      "|2019-12-19|708426.9799999157| 1.341470377999888E7|\n",
      "|2019-12-20|629539.0999999505|1.4044242879998831E7|\n",
      "+----------+-----------------+--------------------+\n",
      "only showing top 20 rows\n",
      "\n"
     ]
    },
    {
     "name": "stderr",
     "output_type": "stream",
     "text": [
      "                                                                                \r"
     ]
    }
   ],
   "source": [
    "# 일별로 모든 브랜드를 통틀어, 판매 금액의 합산을 누적으로 구하면 매출의 변화량은 어떤지 살펴보기\n",
    "# SQL 사용\n",
    "df.createOrReplaceTempView(\"PURCHASE\")\n",
    "\n",
    "spark.sql(\"\"\"\n",
    "    WITH CALCULATED AS(SELECT\n",
    "        TO_DATE(event_time) as event_date,\n",
    "        sum(price) as price_sum\n",
    "    FROM\n",
    "        PURCHASE\n",
    "    WHERE brand IS NOT NULL\n",
    "    GROUP BY event_date)\n",
    "    SELECT\n",
    "        event_date,\n",
    "        price_sum,\n",
    "        sum(price_sum) over(order by event_date RANGE BETWEEN UNBOUNDED PRECEDING AND CURRENT ROW) as price_acc\n",
    "    FROM\n",
    "        CALCULATED\n",
    "    ORDER BY event_date\n",
    "\"\"\").show()"
   ]
  },
  {
   "cell_type": "code",
   "execution_count": null,
   "metadata": {},
   "outputs": [],
   "source": []
  },
  {
   "cell_type": "markdown",
   "metadata": {},
   "source": [
    "### Array Type"
   ]
  },
  {
   "cell_type": "code",
   "execution_count": 171,
   "metadata": {},
   "outputs": [
    {
     "name": "stderr",
     "output_type": "stream",
     "text": [
      "                                                                                \r"
     ]
    },
    {
     "name": "stdout",
     "output_type": "stream",
     "text": [
      "+-------------+--------------------+---------------------+--------------------+--------------------+\n",
      "|        brand|     product_id_list|product_id_list_count|      product_id_set|product_id_set_count|\n",
      "+-------------+--------------------+---------------------+--------------------+--------------------+\n",
      "|     airnails|[5699414, 5659900...|                14430|[5659670, 5870652...|                 195|\n",
      "|        almea|[5859284, 5859276...|                  826|[5859299, 5859270...|                  32|\n",
      "|       andrea|[5525802, 5525802...|                   90|  [5525787, 5525802]|                   2|\n",
      "|       ardell|[5808666, 5685404...|                 4969|[5685395, 5808665...|                  55|\n",
      "|   art-visage|[5776130, 5776130...|                10704|[5698281, 5812113...|                  68|\n",
      "|        artex|[5857683, 5857677...|                 4144|[5857672, 5857673...|                  16|\n",
      "|         aura|[5894297, 5894298...|                  220|[5894298, 5894295...|                  10|\n",
      "|    australis|[5811172, 5811189...|                   39|[5811213, 5811184...|                  16|\n",
      "|        avene|[5906914, 5906914...|                  219|[5906912, 5915609...|                  53|\n",
      "|     babyliss|[5915004, 5914991...|                 1233|[5915202, 5915194...|                  41|\n",
      "|     balbcare|[36407, 36407, 36...|                 1594|      [36406, 36407]|                   2|\n",
      "|       barbie|[5756269, 5756269...|                   10|  [5756269, 5852057]|                   2|\n",
      "|        barex|[5910546, 5910548...|                  823|[5910549, 5910962...|                  16|\n",
      "|      batiste|[5810407, 5775258...|                  789|[5775251, 5775258...|                  26|\n",
      "|    beautific|[5916263, 5916263...|                  242|[5916261, 5916973...|                  53|\n",
      "|      beautix|[5716845, 5706777...|                15010|[5885135, 5842735...|                 324|\n",
      "|  beauty-free|[5815789, 5814164...|                 3379|[5814087, 5816150...|                 133|\n",
      "|beautyblender|[5848761, 5848761...|                  199|[5848772, 5848766...|                  16|\n",
      "|   beauugreen|[5851888, 5851888...|                  573|[5851916, 5851887...|                   6|\n",
      "|       benovy|[5873432, 5901987...|                 3658|[5901852, 5873432...|                  24|\n",
      "+-------------+--------------------+---------------------+--------------------+--------------------+\n",
      "only showing top 20 rows\n",
      "\n"
     ]
    }
   ],
   "source": [
    "df\\\n",
    "    .where(col(\"brand\").isNotNull())\\\n",
    "    .groupBy(col(\"brand\"))\\\n",
    "    .agg(\n",
    "        collect_list(\"product_id\").alias(\"product_id_list\"),\n",
    "        size(collect_list(\"product_id\")).alias(\"product_id_list_count\"),\n",
    "        collect_set(\"product_id\").alias(\"product_id_set\"),\n",
    "        size(collect_set(\"product_id\")).alias(\"product_id_set_count\")\n",
    "        \n",
    "    )\\\n",
    "    .show()"
   ]
  },
  {
   "cell_type": "code",
   "execution_count": 191,
   "metadata": {},
   "outputs": [
    {
     "name": "stderr",
     "output_type": "stream",
     "text": [
      "[Stage 377:>                                                        (0 + 1) / 1]\r"
     ]
    },
    {
     "name": "stdout",
     "output_type": "stream",
     "text": [
      "+----------+--------------------+--------------------+\n",
      "|event_date|      product_id_set|        category_set|\n",
      "+----------+--------------------+--------------------+\n",
      "|2019-12-10|[5911195, 5889693...|[[appliances.envi...|\n",
      "+----------+--------------------+--------------------+\n",
      "\n"
     ]
    },
    {
     "name": "stderr",
     "output_type": "stream",
     "text": [
      "                                                                                \r"
     ]
    },
    {
     "name": "stderr",
     "output_type": "stream",
     "text": [
      "24/08/12 13:55:50 ERROR RetryingBlockTransferor: Exception while beginning fetch of 1 outstanding blocks (after 3 retries)\n",
      "java.io.IOException: Failed to connect to /192.168.0.10:56279\n",
      "\tat org.apache.spark.network.client.TransportClientFactory.createClient(TransportClientFactory.java:284)\n",
      "\tat org.apache.spark.network.client.TransportClientFactory.createClient(TransportClientFactory.java:214)\n",
      "\tat org.apache.spark.network.netty.NettyBlockTransferService$$anon$2.createAndStart(NettyBlockTransferService.scala:130)\n",
      "\tat org.apache.spark.network.shuffle.RetryingBlockTransferor.transferAllOutstanding(RetryingBlockTransferor.java:173)\n",
      "\tat org.apache.spark.network.shuffle.RetryingBlockTransferor.lambda$initiateRetry$0(RetryingBlockTransferor.java:206)\n",
      "\tat java.base/java.util.concurrent.Executors$RunnableAdapter.call(Executors.java:515)\n",
      "\tat java.base/java.util.concurrent.FutureTask.run(FutureTask.java:264)\n",
      "\tat java.base/java.util.concurrent.ThreadPoolExecutor.runWorker(ThreadPoolExecutor.java:1130)\n",
      "\tat java.base/java.util.concurrent.ThreadPoolExecutor$Worker.run(ThreadPoolExecutor.java:630)\n",
      "\tat io.netty.util.concurrent.FastThreadLocalRunnable.run(FastThreadLocalRunnable.java:30)\n",
      "\tat java.base/java.lang.Thread.run(Thread.java:831)\n",
      "Caused by: io.netty.channel.AbstractChannel$AnnotatedConnectException: Operation timed out: /192.168.0.10:56279\n",
      "Caused by: java.net.ConnectException: Operation timed out\n",
      "\tat java.base/sun.nio.ch.Net.pollConnect(Native Method)\n",
      "\tat java.base/sun.nio.ch.Net.pollConnectNow(Net.java:669)\n",
      "\tat java.base/sun.nio.ch.SocketChannelImpl.finishConnect(SocketChannelImpl.java:944)\n",
      "\tat io.netty.channel.socket.nio.NioSocketChannel.doFinishConnect(NioSocketChannel.java:337)\n",
      "\tat io.netty.channel.nio.AbstractNioChannel$AbstractNioUnsafe.finishConnect(AbstractNioChannel.java:334)\n",
      "\tat io.netty.channel.nio.NioEventLoop.processSelectedKey(NioEventLoop.java:776)\n",
      "\tat io.netty.channel.nio.NioEventLoop.processSelectedKeysOptimized(NioEventLoop.java:724)\n",
      "\tat io.netty.channel.nio.NioEventLoop.processSelectedKeys(NioEventLoop.java:650)\n",
      "\tat io.netty.channel.nio.NioEventLoop.run(NioEventLoop.java:562)\n",
      "\tat io.netty.util.concurrent.SingleThreadEventExecutor$4.run(SingleThreadEventExecutor.java:997)\n",
      "\tat io.netty.util.internal.ThreadExecutorMap$2.run(ThreadExecutorMap.java:74)\n",
      "\tat io.netty.util.concurrent.FastThreadLocalRunnable.run(FastThreadLocalRunnable.java:30)\n",
      "\tat java.base/java.lang.Thread.run(Thread.java:831)\n",
      "24/08/12 13:55:50 WARN BlockManager: Failed to fetch remote block taskresult_467 from [BlockManagerId(driver, 192.168.0.10, 56279, None)] after 1 fetch failures. Most recent failure cause:\n",
      "org.apache.spark.SparkException: Exception thrown in awaitResult: \n",
      "\tat org.apache.spark.util.ThreadUtils$.awaitResult(ThreadUtils.scala:322)\n",
      "\tat org.apache.spark.network.BlockTransferService.fetchBlockSync(BlockTransferService.scala:103)\n",
      "\tat org.apache.spark.storage.BlockManager.fetchRemoteManagedBuffer(BlockManager.scala:1171)\n",
      "\tat org.apache.spark.storage.BlockManager.$anonfun$getRemoteBlock$8(BlockManager.scala:1115)\n",
      "\tat scala.Option.orElse(Option.scala:447)\n",
      "\tat org.apache.spark.storage.BlockManager.getRemoteBlock(BlockManager.scala:1115)\n",
      "\tat org.apache.spark.storage.BlockManager.getRemoteBytes(BlockManager.scala:1255)\n",
      "\tat org.apache.spark.scheduler.TaskResultGetter$$anon$3.$anonfun$run$1(TaskResultGetter.scala:88)\n",
      "\tat scala.runtime.java8.JFunction0$mcV$sp.apply(JFunction0$mcV$sp.java:23)\n",
      "\tat org.apache.spark.util.Utils$.logUncaughtExceptions(Utils.scala:2088)\n",
      "\tat org.apache.spark.scheduler.TaskResultGetter$$anon$3.run(TaskResultGetter.scala:63)\n",
      "\tat java.base/java.util.concurrent.ThreadPoolExecutor.runWorker(ThreadPoolExecutor.java:1130)\n",
      "\tat java.base/java.util.concurrent.ThreadPoolExecutor$Worker.run(ThreadPoolExecutor.java:630)\n",
      "\tat java.base/java.lang.Thread.run(Thread.java:831)\n",
      "Caused by: java.io.IOException: Failed to connect to /192.168.0.10:56279\n",
      "\tat org.apache.spark.network.client.TransportClientFactory.createClient(TransportClientFactory.java:284)\n",
      "\tat org.apache.spark.network.client.TransportClientFactory.createClient(TransportClientFactory.java:214)\n",
      "\tat org.apache.spark.network.netty.NettyBlockTransferService$$anon$2.createAndStart(NettyBlockTransferService.scala:130)\n",
      "\tat org.apache.spark.network.shuffle.RetryingBlockTransferor.transferAllOutstanding(RetryingBlockTransferor.java:173)\n",
      "\tat org.apache.spark.network.shuffle.RetryingBlockTransferor.lambda$initiateRetry$0(RetryingBlockTransferor.java:206)\n",
      "\tat java.base/java.util.concurrent.Executors$RunnableAdapter.call(Executors.java:515)\n",
      "\tat java.base/java.util.concurrent.FutureTask.run(FutureTask.java:264)\n",
      "\tat java.base/java.util.concurrent.ThreadPoolExecutor.runWorker(ThreadPoolExecutor.java:1130)\n",
      "\tat java.base/java.util.concurrent.ThreadPoolExecutor$Worker.run(ThreadPoolExecutor.java:630)\n",
      "\tat io.netty.util.concurrent.FastThreadLocalRunnable.run(FastThreadLocalRunnable.java:30)\n",
      "\t... 1 more\n",
      "Caused by: io.netty.channel.AbstractChannel$AnnotatedConnectException: Operation timed out: /192.168.0.10:56279\n",
      "Caused by: java.net.ConnectException: Operation timed out\n",
      "\tat java.base/sun.nio.ch.Net.pollConnect(Native Method)\n",
      "\tat java.base/sun.nio.ch.Net.pollConnectNow(Net.java:669)\n",
      "\tat java.base/sun.nio.ch.SocketChannelImpl.finishConnect(SocketChannelImpl.java:944)\n",
      "\tat io.netty.channel.socket.nio.NioSocketChannel.doFinishConnect(NioSocketChannel.java:337)\n",
      "\tat io.netty.channel.nio.AbstractNioChannel$AbstractNioUnsafe.finishConnect(AbstractNioChannel.java:334)\n",
      "\tat io.netty.channel.nio.NioEventLoop.processSelectedKey(NioEventLoop.java:776)\n",
      "\tat io.netty.channel.nio.NioEventLoop.processSelectedKeysOptimized(NioEventLoop.java:724)\n",
      "\tat io.netty.channel.nio.NioEventLoop.processSelectedKeys(NioEventLoop.java:650)\n",
      "\tat io.netty.channel.nio.NioEventLoop.run(NioEventLoop.java:562)\n",
      "\tat io.netty.util.concurrent.SingleThreadEventExecutor$4.run(SingleThreadEventExecutor.java:997)\n",
      "\tat io.netty.util.internal.ThreadExecutorMap$2.run(ThreadExecutorMap.java:74)\n",
      "\tat io.netty.util.concurrent.FastThreadLocalRunnable.run(FastThreadLocalRunnable.java:30)\n",
      "\tat java.base/java.lang.Thread.run(Thread.java:831)\n",
      "24/08/12 13:55:50 WARN TaskSetManager: Lost task 0.0 in stage 377.0 (TID 467) (192.168.0.10 executor driver): TaskResultLost (result lost from block manager)\n",
      "24/08/12 13:55:50 ERROR TaskSetManager: Task 0 in stage 377.0 failed 1 times; aborting job\n"
     ]
    }
   ],
   "source": [
    "df\\\n",
    "    .selectExpr(\"to_date(event_time) as event_date\", \"brand\", \"product_id\", \"ARRAY(category_code, category_id) as category\")\\\n",
    "    .where(col(\"brand\").isNotNull()&col(\"category_code\").isNotNull())\\\n",
    "    .groupBy(col(\"event_date\"))\\\n",
    "    .agg(\n",
    "        collect_set(\"product_id\").alias(\"product_id_set\"),\n",
    "        collect_set(\"category\").alias(\"category_set\")\n",
    "    )\\\n",
    "    .limit(1)\\\n",
    "    .show()"
   ]
  },
  {
   "cell_type": "code",
   "execution_count": null,
   "metadata": {},
   "outputs": [],
   "source": []
  },
  {
   "cell_type": "markdown",
   "metadata": {},
   "source": [
    "### JSON\n",
    "- from_json : 문자열 컬럼과타입을 파라미터로 받아, JSON 타입으로 변경\n",
    "- to_json : 컬럼을 받아, 타입이 있는 데이터 값을 JSON으로 변경"
   ]
  },
  {
   "cell_type": "code",
   "execution_count": 192,
   "metadata": {},
   "outputs": [
    {
     "name": "stdout",
     "output_type": "stream",
     "text": [
      "root\n",
      " |-- event_time: timestamp (nullable = true)\n",
      " |-- event_type: string (nullable = true)\n",
      " |-- product_id: integer (nullable = true)\n",
      " |-- category_id: long (nullable = true)\n",
      " |-- category_code: string (nullable = true)\n",
      " |-- brand: string (nullable = true)\n",
      " |-- price: double (nullable = true)\n",
      " |-- user_id: integer (nullable = true)\n",
      " |-- user_session: string (nullable = true)\n",
      "\n"
     ]
    }
   ],
   "source": [
    "df.printSchema()"
   ]
  },
  {
   "cell_type": "code",
   "execution_count": 194,
   "metadata": {},
   "outputs": [
    {
     "name": "stderr",
     "output_type": "stream",
     "text": [
      "[Stage 390:==========================================>              (3 + 1) / 4]\r"
     ]
    },
    {
     "name": "stdout",
     "output_type": "stream",
     "text": [
      "+---------+----------+-------------+-------------------+\n",
      "|    brand|product_id|category_code|        category_id|\n",
      "+---------+----------+-------------+-------------------+\n",
      "|   runail|      4958|         null|1487580009471148064|\n",
      "| jessnail|   5894907|         null|1487580010100293687|\n",
      "|     null|   5904704|         null|1487580007675986893|\n",
      "|     null|   5608703|         null|1487580005553668971|\n",
      "|   dermal|   5863925|         null|1487580011585077370|\n",
      "| ingarden|   5819231|         null|1487580005713052531|\n",
      "|     null|   5840348|         null|1487580006317032337|\n",
      "|     null|   5823493|         null|1487580004916134735|\n",
      "|     null|   5796819|         null|1487580005092295511|\n",
      "|swarovski|   5707753|         null|1487580011383750769|\n",
      "|    irisk|   5729898|         null|1487580008145748965|\n",
      "|     null|   5867623|         null|1487580004916134735|\n",
      "|     null|   5908242|         null|1487580007675986893|\n",
      "|     null|   5908202|         null|1487580007675986893|\n",
      "|     null|   5853778|         null|1487580008246412266|\n",
      "|     null|   5700094|         null|1487580011652186237|\n",
      "| nagaraku|   5862651|         null|2151191071051219817|\n",
      "|  staleks|   5899158|         null|1487580009286598681|\n",
      "|   masura|   5816145|         null|1487580011853512836|\n",
      "| ingarden|   5838933|         null|1487580005713052531|\n",
      "+---------+----------+-------------+-------------------+\n",
      "only showing top 20 rows\n",
      "\n"
     ]
    },
    {
     "name": "stderr",
     "output_type": "stream",
     "text": [
      "                                                                                \r"
     ]
    }
   ],
   "source": [
    "# dropDuplicates : 중복 제거\n",
    "dfPrepared = df\\\n",
    "    .select(\"brand\", \"product_id\", \"category_code\", \"category_id\")\\\n",
    "    .dropDuplicates()\n",
    "\n",
    "dfPrepared.show()"
   ]
  },
  {
   "cell_type": "code",
   "execution_count": 195,
   "metadata": {},
   "outputs": [
    {
     "name": "stderr",
     "output_type": "stream",
     "text": [
      "                                                                                \r"
     ]
    },
    {
     "name": "stdout",
     "output_type": "stream",
     "text": [
      "3533286\n"
     ]
    },
    {
     "name": "stderr",
     "output_type": "stream",
     "text": [
      "[Stage 398:>                                                        (0 + 1) / 1]\r"
     ]
    },
    {
     "name": "stdout",
     "output_type": "stream",
     "text": [
      "46096\n"
     ]
    },
    {
     "name": "stderr",
     "output_type": "stream",
     "text": [
      "                                                                                \r"
     ]
    }
   ],
   "source": [
    "print(df.count())\n",
    "print(dfPrepared.count())"
   ]
  },
  {
   "cell_type": "code",
   "execution_count": 203,
   "metadata": {},
   "outputs": [
    {
     "name": "stderr",
     "output_type": "stream",
     "text": [
      "[Stage 412:==========================================>              (3 + 1) / 4]\r"
     ]
    },
    {
     "name": "stdout",
     "output_type": "stream",
     "text": [
      "+--------+----------+-------------------------------+-------------------+-------------------------------------------------------------------------------------+\n",
      "|brand   |product_id|category_code                  |category_id        |category                                                                             |\n",
      "+--------+----------+-------------------------------+-------------------+-------------------------------------------------------------------------------------+\n",
      "|null    |5756536   |apparel.glove                  |2007399943458784057|{\"category_id\":2007399943458784057,\"category_code\":\"apparel.glove\"}                  |\n",
      "|emil    |5861764   |appliances.environment.vacuum  |1487580006350586771|{\"category_id\":1487580006350586771,\"category_code\":\"appliances.environment.vacuum\"}  |\n",
      "|italwax |5775813   |stationery.cartrige            |1487580013053083824|{\"category_id\":1487580013053083824,\"category_code\":\"stationery.cartrige\"}            |\n",
      "|benovy  |5911195   |apparel.glove                  |2007399943458784057|{\"category_id\":2007399943458784057,\"category_code\":\"apparel.glove\"}                  |\n",
      "|null    |5856308   |furniture.living_room.chair    |2022622168218599898|{\"category_id\":2022622168218599898,\"category_code\":\"furniture.living_room.chair\"}    |\n",
      "|null    |5910451   |appliances.personal.hair_cutter|1487580008070251489|{\"category_id\":1487580008070251489,\"category_code\":\"appliances.personal.hair_cutter\"}|\n",
      "|max     |5855509   |appliances.environment.vacuum  |1487580006350586771|{\"category_id\":1487580006350586771,\"category_code\":\"appliances.environment.vacuum\"}  |\n",
      "|null    |5813075   |furniture.bathroom.bath        |1487580011970953351|{\"category_id\":1487580011970953351,\"category_code\":\"furniture.bathroom.bath\"}        |\n",
      "|benovy  |5901872   |apparel.glove                  |2007399943458784057|{\"category_id\":2007399943458784057,\"category_code\":\"apparel.glove\"}                  |\n",
      "|nitrile |5889686   |apparel.glove                  |2007399943458784057|{\"category_id\":2007399943458784057,\"category_code\":\"apparel.glove\"}                  |\n",
      "|yoko    |5753699   |stationery.cartrige            |1487580013053083824|{\"category_id\":1487580013053083824,\"category_code\":\"stationery.cartrige\"}            |\n",
      "|jessnail|5877460   |appliances.environment.vacuum  |1487580006350586771|{\"category_id\":1487580006350586771,\"category_code\":\"appliances.environment.vacuum\"}  |\n",
      "|null    |5657896   |stationery.cartrige            |1487580013053083824|{\"category_id\":1487580013053083824,\"category_code\":\"stationery.cartrige\"}            |\n",
      "|null    |5911186   |apparel.glove                  |2007399943458784057|{\"category_id\":2007399943458784057,\"category_code\":\"apparel.glove\"}                  |\n",
      "|profepil|5892334   |stationery.cartrige            |1487580013053083824|{\"category_id\":1487580013053083824,\"category_code\":\"stationery.cartrige\"}            |\n",
      "|nitrimax|5785603   |apparel.glove                  |2007399943458784057|{\"category_id\":2007399943458784057,\"category_code\":\"apparel.glove\"}                  |\n",
      "|kinetics|5829359   |furniture.bathroom.bath        |1487580011970953351|{\"category_id\":1487580011970953351,\"category_code\":\"furniture.bathroom.bath\"}        |\n",
      "|irisk   |5710610   |furniture.bathroom.bath        |1487580011970953351|{\"category_id\":1487580011970953351,\"category_code\":\"furniture.bathroom.bath\"}        |\n",
      "|vosev   |5904212   |accessories.bag                |1487580010695884882|{\"category_id\":1487580010695884882,\"category_code\":\"accessories.bag\"}                |\n",
      "|vosev   |5880245   |accessories.bag                |1487580010695884882|{\"category_id\":1487580010695884882,\"category_code\":\"accessories.bag\"}                |\n",
      "+--------+----------+-------------------------------+-------------------+-------------------------------------------------------------------------------------+\n",
      "only showing top 20 rows\n",
      "\n"
     ]
    },
    {
     "name": "stderr",
     "output_type": "stream",
     "text": [
      "                                                                                \r"
     ]
    }
   ],
   "source": [
    "dfJson = dfPrepared\\\n",
    "    .where(col(\"category_code\").isNotNull())\\\n",
    "    .withColumn(\"category\", to_json(struct(col(\"category_id\"), col(\"category_code\"))))\\\n",
    "\n",
    "dfJson.show(truncate=False)"
   ]
  },
  {
   "cell_type": "code",
   "execution_count": 205,
   "metadata": {},
   "outputs": [
    {
     "name": "stderr",
     "output_type": "stream",
     "text": [
      "[Stage 418:==========================================>              (3 + 1) / 4]\r"
     ]
    },
    {
     "name": "stdout",
     "output_type": "stream",
     "text": [
      "+--------+----------+-------------------------------------------------------------------------------------+\n",
      "|brand   |product_id|category                                                                             |\n",
      "+--------+----------+-------------------------------------------------------------------------------------+\n",
      "|null    |5756536   |{\"category_id\":2007399943458784057,\"category_code\":\"apparel.glove\"}                  |\n",
      "|emil    |5861764   |{\"category_id\":1487580006350586771,\"category_code\":\"appliances.environment.vacuum\"}  |\n",
      "|italwax |5775813   |{\"category_id\":1487580013053083824,\"category_code\":\"stationery.cartrige\"}            |\n",
      "|benovy  |5911195   |{\"category_id\":2007399943458784057,\"category_code\":\"apparel.glove\"}                  |\n",
      "|null    |5856308   |{\"category_id\":2022622168218599898,\"category_code\":\"furniture.living_room.chair\"}    |\n",
      "|null    |5910451   |{\"category_id\":1487580008070251489,\"category_code\":\"appliances.personal.hair_cutter\"}|\n",
      "|max     |5855509   |{\"category_id\":1487580006350586771,\"category_code\":\"appliances.environment.vacuum\"}  |\n",
      "|null    |5813075   |{\"category_id\":1487580011970953351,\"category_code\":\"furniture.bathroom.bath\"}        |\n",
      "|benovy  |5901872   |{\"category_id\":2007399943458784057,\"category_code\":\"apparel.glove\"}                  |\n",
      "|nitrile |5889686   |{\"category_id\":2007399943458784057,\"category_code\":\"apparel.glove\"}                  |\n",
      "|yoko    |5753699   |{\"category_id\":1487580013053083824,\"category_code\":\"stationery.cartrige\"}            |\n",
      "|jessnail|5877460   |{\"category_id\":1487580006350586771,\"category_code\":\"appliances.environment.vacuum\"}  |\n",
      "|null    |5657896   |{\"category_id\":1487580013053083824,\"category_code\":\"stationery.cartrige\"}            |\n",
      "|null    |5911186   |{\"category_id\":2007399943458784057,\"category_code\":\"apparel.glove\"}                  |\n",
      "|profepil|5892334   |{\"category_id\":1487580013053083824,\"category_code\":\"stationery.cartrige\"}            |\n",
      "|nitrimax|5785603   |{\"category_id\":2007399943458784057,\"category_code\":\"apparel.glove\"}                  |\n",
      "|kinetics|5829359   |{\"category_id\":1487580011970953351,\"category_code\":\"furniture.bathroom.bath\"}        |\n",
      "|irisk   |5710610   |{\"category_id\":1487580011970953351,\"category_code\":\"furniture.bathroom.bath\"}        |\n",
      "|vosev   |5904212   |{\"category_id\":1487580010695884882,\"category_code\":\"accessories.bag\"}                |\n",
      "|vosev   |5880245   |{\"category_id\":1487580010695884882,\"category_code\":\"accessories.bag\"}                |\n",
      "+--------+----------+-------------------------------------------------------------------------------------+\n",
      "only showing top 20 rows\n",
      "\n"
     ]
    },
    {
     "name": "stderr",
     "output_type": "stream",
     "text": [
      "                                                                                \r"
     ]
    }
   ],
   "source": [
    "dfCategory = dfJson.select(\"brand\", \"product_id\", \"category\")\n",
    "dfCategory.show(truncate=False)"
   ]
  },
  {
   "cell_type": "code",
   "execution_count": 209,
   "metadata": {},
   "outputs": [
    {
     "name": "stderr",
     "output_type": "stream",
     "text": [
      "[Stage 427:==========================================>              (3 + 1) / 4]\r"
     ]
    },
    {
     "name": "stdout",
     "output_type": "stream",
     "text": [
      "+--------+----------+-------------------------------------------------------------------------------------+-------------------+-------------------------------+\n",
      "|brand   |product_id|category                                                                             |category_id        |category_code                  |\n",
      "+--------+----------+-------------------------------------------------------------------------------------+-------------------+-------------------------------+\n",
      "|null    |5756536   |{\"category_id\":2007399943458784057,\"category_code\":\"apparel.glove\"}                  |2007399943458784057|apparel.glove                  |\n",
      "|emil    |5861764   |{\"category_id\":1487580006350586771,\"category_code\":\"appliances.environment.vacuum\"}  |1487580006350586771|appliances.environment.vacuum  |\n",
      "|italwax |5775813   |{\"category_id\":1487580013053083824,\"category_code\":\"stationery.cartrige\"}            |1487580013053083824|stationery.cartrige            |\n",
      "|benovy  |5911195   |{\"category_id\":2007399943458784057,\"category_code\":\"apparel.glove\"}                  |2007399943458784057|apparel.glove                  |\n",
      "|null    |5856308   |{\"category_id\":2022622168218599898,\"category_code\":\"furniture.living_room.chair\"}    |2022622168218599898|furniture.living_room.chair    |\n",
      "|null    |5910451   |{\"category_id\":1487580008070251489,\"category_code\":\"appliances.personal.hair_cutter\"}|1487580008070251489|appliances.personal.hair_cutter|\n",
      "|max     |5855509   |{\"category_id\":1487580006350586771,\"category_code\":\"appliances.environment.vacuum\"}  |1487580006350586771|appliances.environment.vacuum  |\n",
      "|null    |5813075   |{\"category_id\":1487580011970953351,\"category_code\":\"furniture.bathroom.bath\"}        |1487580011970953351|furniture.bathroom.bath        |\n",
      "|benovy  |5901872   |{\"category_id\":2007399943458784057,\"category_code\":\"apparel.glove\"}                  |2007399943458784057|apparel.glove                  |\n",
      "|nitrile |5889686   |{\"category_id\":2007399943458784057,\"category_code\":\"apparel.glove\"}                  |2007399943458784057|apparel.glove                  |\n",
      "|yoko    |5753699   |{\"category_id\":1487580013053083824,\"category_code\":\"stationery.cartrige\"}            |1487580013053083824|stationery.cartrige            |\n",
      "|jessnail|5877460   |{\"category_id\":1487580006350586771,\"category_code\":\"appliances.environment.vacuum\"}  |1487580006350586771|appliances.environment.vacuum  |\n",
      "|null    |5657896   |{\"category_id\":1487580013053083824,\"category_code\":\"stationery.cartrige\"}            |1487580013053083824|stationery.cartrige            |\n",
      "|null    |5911186   |{\"category_id\":2007399943458784057,\"category_code\":\"apparel.glove\"}                  |2007399943458784057|apparel.glove                  |\n",
      "|profepil|5892334   |{\"category_id\":1487580013053083824,\"category_code\":\"stationery.cartrige\"}            |1487580013053083824|stationery.cartrige            |\n",
      "|nitrimax|5785603   |{\"category_id\":2007399943458784057,\"category_code\":\"apparel.glove\"}                  |2007399943458784057|apparel.glove                  |\n",
      "|kinetics|5829359   |{\"category_id\":1487580011970953351,\"category_code\":\"furniture.bathroom.bath\"}        |1487580011970953351|furniture.bathroom.bath        |\n",
      "|irisk   |5710610   |{\"category_id\":1487580011970953351,\"category_code\":\"furniture.bathroom.bath\"}        |1487580011970953351|furniture.bathroom.bath        |\n",
      "|vosev   |5904212   |{\"category_id\":1487580010695884882,\"category_code\":\"accessories.bag\"}                |1487580010695884882|accessories.bag                |\n",
      "|vosev   |5880245   |{\"category_id\":1487580010695884882,\"category_code\":\"accessories.bag\"}                |1487580010695884882|accessories.bag                |\n",
      "+--------+----------+-------------------------------------------------------------------------------------+-------------------+-------------------------------+\n",
      "only showing top 20 rows\n",
      "\n"
     ]
    },
    {
     "name": "stderr",
     "output_type": "stream",
     "text": [
      "                                                                                \r"
     ]
    }
   ],
   "source": [
    "# get_json_object : json -> object\n",
    "dfRecovered = dfCategory\\\n",
    "    .withColumn(\"category_id\", get_json_object(col(\"category\"), \"$.category_id\").cast(LongType()))\\\n",
    "    .withColumn(\"category_code\", get_json_object(col(\"category\"), \"$.category_code\"))\n",
    "\n",
    "dfRecovered.show(truncate=False)"
   ]
  },
  {
   "cell_type": "code",
   "execution_count": 212,
   "metadata": {},
   "outputs": [
    {
     "name": "stderr",
     "output_type": "stream",
     "text": [
      "[Stage 433:==========================================>              (3 + 1) / 4]\r"
     ]
    },
    {
     "name": "stdout",
     "output_type": "stream",
     "text": [
      "+--------+----------+-------------------------------------------------------------------------------------+------------------------------------------------------+\n",
      "|brand   |product_id|category                                                                             |category_parse                                        |\n",
      "+--------+----------+-------------------------------------------------------------------------------------+------------------------------------------------------+\n",
      "|null    |5756536   |{\"category_id\":2007399943458784057,\"category_code\":\"apparel.glove\"}                  |{2007399943458784057, apparel.glove}                  |\n",
      "|emil    |5861764   |{\"category_id\":1487580006350586771,\"category_code\":\"appliances.environment.vacuum\"}  |{1487580006350586771, appliances.environment.vacuum}  |\n",
      "|italwax |5775813   |{\"category_id\":1487580013053083824,\"category_code\":\"stationery.cartrige\"}            |{1487580013053083824, stationery.cartrige}            |\n",
      "|benovy  |5911195   |{\"category_id\":2007399943458784057,\"category_code\":\"apparel.glove\"}                  |{2007399943458784057, apparel.glove}                  |\n",
      "|null    |5856308   |{\"category_id\":2022622168218599898,\"category_code\":\"furniture.living_room.chair\"}    |{2022622168218599898, furniture.living_room.chair}    |\n",
      "|null    |5910451   |{\"category_id\":1487580008070251489,\"category_code\":\"appliances.personal.hair_cutter\"}|{1487580008070251489, appliances.personal.hair_cutter}|\n",
      "|max     |5855509   |{\"category_id\":1487580006350586771,\"category_code\":\"appliances.environment.vacuum\"}  |{1487580006350586771, appliances.environment.vacuum}  |\n",
      "|null    |5813075   |{\"category_id\":1487580011970953351,\"category_code\":\"furniture.bathroom.bath\"}        |{1487580011970953351, furniture.bathroom.bath}        |\n",
      "|benovy  |5901872   |{\"category_id\":2007399943458784057,\"category_code\":\"apparel.glove\"}                  |{2007399943458784057, apparel.glove}                  |\n",
      "|nitrile |5889686   |{\"category_id\":2007399943458784057,\"category_code\":\"apparel.glove\"}                  |{2007399943458784057, apparel.glove}                  |\n",
      "|yoko    |5753699   |{\"category_id\":1487580013053083824,\"category_code\":\"stationery.cartrige\"}            |{1487580013053083824, stationery.cartrige}            |\n",
      "|jessnail|5877460   |{\"category_id\":1487580006350586771,\"category_code\":\"appliances.environment.vacuum\"}  |{1487580006350586771, appliances.environment.vacuum}  |\n",
      "|null    |5657896   |{\"category_id\":1487580013053083824,\"category_code\":\"stationery.cartrige\"}            |{1487580013053083824, stationery.cartrige}            |\n",
      "|null    |5911186   |{\"category_id\":2007399943458784057,\"category_code\":\"apparel.glove\"}                  |{2007399943458784057, apparel.glove}                  |\n",
      "|profepil|5892334   |{\"category_id\":1487580013053083824,\"category_code\":\"stationery.cartrige\"}            |{1487580013053083824, stationery.cartrige}            |\n",
      "|nitrimax|5785603   |{\"category_id\":2007399943458784057,\"category_code\":\"apparel.glove\"}                  |{2007399943458784057, apparel.glove}                  |\n",
      "|kinetics|5829359   |{\"category_id\":1487580011970953351,\"category_code\":\"furniture.bathroom.bath\"}        |{1487580011970953351, furniture.bathroom.bath}        |\n",
      "|irisk   |5710610   |{\"category_id\":1487580011970953351,\"category_code\":\"furniture.bathroom.bath\"}        |{1487580011970953351, furniture.bathroom.bath}        |\n",
      "|vosev   |5904212   |{\"category_id\":1487580010695884882,\"category_code\":\"accessories.bag\"}                |{1487580010695884882, accessories.bag}                |\n",
      "|vosev   |5880245   |{\"category_id\":1487580010695884882,\"category_code\":\"accessories.bag\"}                |{1487580010695884882, accessories.bag}                |\n",
      "+--------+----------+-------------------------------------------------------------------------------------+------------------------------------------------------+\n",
      "only showing top 20 rows\n",
      "\n"
     ]
    },
    {
     "name": "stderr",
     "output_type": "stream",
     "text": [
      "                                                                                \r"
     ]
    }
   ],
   "source": [
    "structCategory = StructType(\n",
    "    [\n",
    "        StructField(\"category_id\", LongType(), True),\n",
    "        StructField(\"category_code\", StringType(), True)\n",
    "    ]\n",
    ")\n",
    "\n",
    "\n",
    "dfStructed = dfCategory\\\n",
    "    .withColumn(\"category_parse\", from_json(col(\"category\"), structCategory))\n",
    "\n",
    "dfStructed.show(truncate=False)"
   ]
  },
  {
   "cell_type": "code",
   "execution_count": null,
   "metadata": {},
   "outputs": [],
   "source": []
  }
 ],
 "metadata": {
  "kernelspec": {
   "display_name": "base",
   "language": "python",
   "name": "python3"
  },
  "language_info": {
   "codemirror_mode": {
    "name": "ipython",
    "version": 3
   },
   "file_extension": ".py",
   "mimetype": "text/x-python",
   "name": "python",
   "nbconvert_exporter": "python",
   "pygments_lexer": "ipython3",
   "version": "3.9.7"
  }
 },
 "nbformat": 4,
 "nbformat_minor": 2
}
