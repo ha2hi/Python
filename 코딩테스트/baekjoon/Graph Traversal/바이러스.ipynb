{
 "cells": [
  {
   "cell_type": "code",
   "execution_count": 11,
   "metadata": {},
   "outputs": [
    {
     "name": "stdout",
     "output_type": "stream",
     "text": [
      "4\n"
     ]
    }
   ],
   "source": [
    "# https://www.acmicpc.net/problem/2606\n",
    "# BFS\n",
    "from collections import defaultdict, deque\n",
    "\n",
    "def bfs(graph: dict, start: int) -> int:\n",
    "    visited = [0] * (n + 1)\n",
    "    visited[start] = 1\n",
    "    count = 0\n",
    "    queue = deque([start])\n",
    "    \n",
    "    while queue:\n",
    "        node = queue.popleft()\n",
    "        count += 1\n",
    "        \n",
    "        for neighbor in graph[node]:\n",
    "            if not visited[neighbor]:\n",
    "                visited[neighbor] = 1\n",
    "                queue.append(neighbor)\n",
    "    \n",
    "    return count\n",
    "\n",
    "n = int(input())\n",
    "m = int(input())\n",
    "graph = defaultdict(list)\n",
    "\n",
    "for _ in range(m):\n",
    "    a, b = map(int, input().split())\n",
    "    graph[a].append(b)\n",
    "    graph[b].append(a) \n",
    "\n",
    "print(bfs(graph, 1) - 1)"
   ]
  },
  {
   "cell_type": "code",
   "execution_count": null,
   "metadata": {},
   "outputs": [],
   "source": []
  },
  {
   "cell_type": "code",
   "execution_count": 4,
   "metadata": {},
   "outputs": [
    {
     "name": "stdout",
     "output_type": "stream",
     "text": [
      "4\n"
     ]
    }
   ],
   "source": [
    "# DFS\n",
    "from collections import defaultdict\n",
    "def dfs(l: int) -> None:\n",
    "    global res\n",
    "    res.append(l)\n",
    "    for i in range(len(dic[l])):\n",
    "        if dic[l][i] not in res:\n",
    "            dfs(dic[l][i])\n",
    "\n",
    "n = int(input())\n",
    "m = int(input())\n",
    "dic = defaultdict(list)\n",
    "res = []\n",
    "for _ in range(m):\n",
    "    x, y = map(int, input().split())\n",
    "    dic[x].append(y)\n",
    "    dic[y].append(x)\n",
    "dfs(1)\n",
    "print(len(res)-1)"
   ]
  },
  {
   "cell_type": "code",
   "execution_count": null,
   "metadata": {},
   "outputs": [],
   "source": []
  }
 ],
 "metadata": {
  "kernelspec": {
   "display_name": "base",
   "language": "python",
   "name": "python3"
  },
  "language_info": {
   "codemirror_mode": {
    "name": "ipython",
    "version": 3
   },
   "file_extension": ".py",
   "mimetype": "text/x-python",
   "name": "python",
   "nbconvert_exporter": "python",
   "pygments_lexer": "ipython3",
   "version": "3.9.7"
  }
 },
 "nbformat": 4,
 "nbformat_minor": 2
}
