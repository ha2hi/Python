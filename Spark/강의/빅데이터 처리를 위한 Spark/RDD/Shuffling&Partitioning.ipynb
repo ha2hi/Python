{
 "cells": [
  {
   "cell_type": "markdown",
   "metadata": {},
   "source": [
    "# 셔플링\n",
    "- 그룹핑시 데이터를 한 노드에서 다른 노드로 옮길 때 발생\n",
    "- 그룹핑 시 많은 네트워크 연산이 이뤄짐\n",
    "- 다른 RDD 참조시"
   ]
  },
  {
   "cell_type": "markdown",
   "metadata": {},
   "source": [
    "셔플링을 최소화 하려면\n",
    "1. 미리 파티션을 만들어 두고 캐싱 후 reduceByKey 실행\n",
    "2. 미리 파티션을 만들어 두고 캐싱 후 Join 실행"
   ]
  },
  {
   "cell_type": "markdown",
   "metadata": {},
   "source": [
    "파티션의 목적\n",
    "- 데이터를 최대한 균일하게 퍼트리고 쿼리가 같이 되는 데이터를 최대한 옆에 두어 검색 성능을 향상시키는 것\n",
    "\n"
   ]
  }
 ],
 "metadata": {
  "language_info": {
   "name": "python"
  }
 },
 "nbformat": 4,
 "nbformat_minor": 2
}
