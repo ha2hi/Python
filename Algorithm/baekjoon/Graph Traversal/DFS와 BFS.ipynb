{
 "cells": [
  {
   "cell_type": "code",
   "execution_count": 16,
   "metadata": {},
   "outputs": [
    {
     "name": "stdout",
     "output_type": "stream",
     "text": [
      "3 1 2 5 4\n",
      "3 1 4 2 5\n"
     ]
    }
   ],
   "source": [
    "from collections import deque\n",
    "from typing import List\n",
    "\n",
    "def dfs(l: int, res: List) -> List:\n",
    "    dfs_visited[l] = True\n",
    "    res.append(l)\n",
    "    for i in range(1, n+1):\n",
    "        if graph[l][i] == 1 and not dfs_visited[i]:\n",
    "            dfs(i, res)\n",
    "    return res\n",
    "\n",
    "def bfs(l: int, res: List) -> List:\n",
    "    bfs_visited[l] = True\n",
    "    q = deque([l])\n",
    "    while q:\n",
    "        now = q.popleft()\n",
    "        res.append(now)\n",
    "        for i in range(1, n+1):\n",
    "            if graph[now][i] and not bfs_visited[i]:\n",
    "                bfs_visited[i] = True\n",
    "                q.append(i)\n",
    "    return res\n",
    "\n",
    "n, m, v = map(int, input().split())\n",
    "graph = [[0] * (n+1) for _ in range(n+1)]\n",
    "dfs_visited = [False] * (n+1)\n",
    "bfs_visited = [False] * (n+1)\n",
    "\n",
    "for _ in range(m):\n",
    "    x, y = map(int, input().split())\n",
    "    graph[x][y] = 1\n",
    "    graph[y][x] = 1\n",
    "\n",
    "    \n",
    "print(*dfs(v, []))\n",
    "print(*bfs(v, []))"
   ]
  },
  {
   "cell_type": "code",
   "execution_count": null,
   "metadata": {},
   "outputs": [],
   "source": []
  }
 ],
 "metadata": {
  "kernelspec": {
   "display_name": "base",
   "language": "python",
   "name": "python3"
  },
  "language_info": {
   "codemirror_mode": {
    "name": "ipython",
    "version": 3
   },
   "file_extension": ".py",
   "mimetype": "text/x-python",
   "name": "python",
   "nbconvert_exporter": "python",
   "pygments_lexer": "ipython3",
   "version": "3.9.7"
  }
 },
 "nbformat": 4,
 "nbformat_minor": 2
}
