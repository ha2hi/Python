{
 "cells": [
  {
   "cell_type": "code",
   "execution_count": 7,
   "metadata": {},
   "outputs": [
    {
     "name": "stdout",
     "output_type": "stream",
     "text": [
      "3\n",
      "7\n",
      "8\n",
      "9\n"
     ]
    }
   ],
   "source": [
    "# BFS\n",
    "from collections import deque\n",
    "def solution(n):\n",
    "    board = [list(map(int, input().split())) for _ in range(n)]\n",
    "    dx = [-1,0,1,0]\n",
    "    dy = [0,1,0,-1]\n",
    "    res = []\n",
    "    for i in range(n):\n",
    "        for j in range(n):\n",
    "            if board[i][j] == 1:\n",
    "                cnt = 1\n",
    "                board[i][j] = 0\n",
    "                q = deque([(i,j)])\n",
    "                while q:\n",
    "                    now_x, now_y = q.popleft()\n",
    "                    for i in range(4):\n",
    "                        next_x = now_x + dx[i]\n",
    "                        next_y = now_y + dy[i]\n",
    "                        if 0<=next_x<n and 0<=next_y<n and board[next_x][next_y] == 1:\n",
    "                            board[next_x][next_y] = 0\n",
    "                            cnt += 1\n",
    "                            q.append((next_x, next_y))\n",
    "                res.append(cnt)\n",
    "\n",
    "    print(len(res))\n",
    "    for x in res:\n",
    "        print(x)\n",
    "\n",
    "n = int(input())\n",
    "solution(n)"
   ]
  },
  {
   "cell_type": "code",
   "execution_count": 9,
   "metadata": {},
   "outputs": [
    {
     "data": {
      "text/plain": [
       "[7, 8, 9]"
      ]
     },
     "execution_count": 9,
     "metadata": {},
     "output_type": "execute_result"
    }
   ],
   "source": [
    "# DFS\n",
    "def solution(n):\n",
    "    dx = [-1,0,1,0]\n",
    "    dy = [0,1,0,-1]\n",
    "    res = []\n",
    "    board = [list(map(int, input().split())) for _ in range(n)]\n",
    "    def dfs(x ,y):\n",
    "        nonlocal cnt, res\n",
    "        board[x][y] = 0\n",
    "        cnt += 1\n",
    "        for i in range(4):\n",
    "            next_x = x + dx[i]\n",
    "            next_y = y + dy[i]\n",
    "            if 0<=next_x<n and 0<=next_y<n and board[next_x][next_y] == 1:\n",
    "                dfs(next_x, next_y)\n",
    "        return cnt\n",
    "\n",
    "    for i in range(n):\n",
    "        for j in range(n):\n",
    "            if board[i][j] == 1:\n",
    "                cnt = 0\n",
    "                res.append(dfs(i,j))\n",
    "    print(len(res))\n",
    "    for x in res:\n",
    "        print(x)\n",
    "\n",
    "n = int(input())\n",
    "solution(n)"
   ]
  },
  {
   "cell_type": "code",
   "execution_count": null,
   "metadata": {},
   "outputs": [],
   "source": []
  }
 ],
 "metadata": {
  "kernelspec": {
   "display_name": "base",
   "language": "python",
   "name": "python3"
  },
  "language_info": {
   "codemirror_mode": {
    "name": "ipython",
    "version": 3
   },
   "file_extension": ".py",
   "mimetype": "text/x-python",
   "name": "python",
   "nbconvert_exporter": "python",
   "pygments_lexer": "ipython3",
   "version": "3.9.7"
  }
 },
 "nbformat": 4,
 "nbformat_minor": 2
}
