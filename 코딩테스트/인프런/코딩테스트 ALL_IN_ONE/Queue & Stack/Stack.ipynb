{
 "cells": [
  {
   "attachments": {},
   "cell_type": "markdown",
   "metadata": {},
   "source": [
    "Stack\n",
    "\n",
    "stack은 시간 순서상 가장 최근에 추가한 데이터가 가장 먼저 나오는 후입선출 LIFO(Last In First Out)형식으로 데이터를 저장하는 자료구조입니다.  \n",
    "\n",
    "stack의 top에 데이터를 추가하는 것을 push라고 하고 stack의 top에서 데이터를 추출 하는 것은 pop이라고 합니다."
   ]
  },
  {
   "cell_type": "code",
   "execution_count": null,
   "metadata": {},
   "outputs": [],
   "source": [
    "stack = []\n",
    "stack.append(1)\n",
    "stack.append(2)\n",
    "stack.append(3)\n",
    "stack.append(4)\n",
    "stack.pop()\n",
    "stack.pop()\n",
    "stack.pop()"
   ]
  },
  {
   "attachments": {},
   "cell_type": "markdown",
   "metadata": {},
   "source": [
    "코테 적용 방법\n",
    "Stack의 다양한 활용\n",
    "1. LIFO 특성을 활용한 문제\n",
    "2. DSF(깊이 우선 탐색)에 활용\n",
    "\n",
    "문제 이해하기 -> 접근 방법 -> 코드 설계 -> 코드 구현"
   ]
  },
  {
   "cell_type": "code",
   "execution_count": null,
   "metadata": {},
   "outputs": [],
   "source": [
    "\"\"\"\n",
    "'(){}[]'를 포함하고 있는 문자열 s가 주어졌을 때, 괄호가 유효한지 아닌지 판별하시오.\n",
    "문자열 s는 '()[]{}'의 괄호 들로만 구성되어 있다.\n",
    "\"\"\"\n",
    "def isValid(s):\n",
    "    stack = []\n",
    "    for p in s:\n",
    "        if p == '(':\n",
    "            stack.append(')')\n",
    "        elif p == '[':\n",
    "            stack.append(']')\n",
    "        elif p == '{':\n",
    "            stack.append('}')\n",
    "        elif not stack or stack.pop != p:\n",
    "            return False\n",
    "    return not stack"
   ]
  },
  {
   "cell_type": "code",
   "execution_count": null,
   "metadata": {},
   "outputs": [],
   "source": [
    "\"\"\"\n",
    "매일의 온도를 나타내는 int형 배열 temperatures가 주어진다. answer 배열의 원소 answer[i]는 i번 째 날의 온도보다\n",
    "더 따뜻해지기까지 며칠을 기다려야하는지 나타낸다. 만약 더 따뜻해지는 날이 없다면 answer[i] == 0이다. answer\n",
    "배열을 반환하는 함수를 구하시오\n",
    "\"\"\"\n",
    "def dailyTemperatures(temperatures):\n",
    "    ans = [0] * len(temperatures)\n",
    "    stack = []\n",
    "    for cur_day, cur_tmp in enumerate(temperatures):\n",
    "        while stack and stack[-1][1] < cur_tmp:\n",
    "            prev_day, _ = stack.pop()\n",
    "            ans[prev_day] = cur_day - prev_day\n",
    "        stack.append((cur_day, cur_tmp))\n",
    "    return ans\n"
   ]
  },
  {
   "cell_type": "code",
   "execution_count": null,
   "metadata": {},
   "outputs": [],
   "source": [
    "\"\"\"\n",
    "매일의 온도를 나타내는 int형 배열 temperatures가 주어진다. answer 배열의 원소 answer[i]는 i번 째 날의 온도보다\n",
    "더 따뜻해지기까지 며칠을 기다려야하는지 나타낸다. 만약 더 따뜻해지는 날이 없다면 answer[i] == 0이다. answer\n",
    "배열을 반환하는 함수를 구하시오\n",
    "\"\"\"\n",
    "def func(tempeatues):\n",
    "    stack = []\n",
    "    answer = [0] * len(tempeatues)\n",
    "    for idx, val in enumerate(tempeatues):\n",
    "        while stack and stack[-1][1] < val:\n",
    "            prev_idx, _ = stack.pop()\n",
    "            answer[prev_idx] = idx - prev_idx\n",
    "        stack.append((idx,val))\n",
    "    return answer"
   ]
  }
 ],
 "metadata": {
  "kernelspec": {
   "display_name": "base",
   "language": "python",
   "name": "python3"
  },
  "language_info": {
   "codemirror_mode": {
    "name": "ipython",
    "version": 3
   },
   "file_extension": ".py",
   "mimetype": "text/x-python",
   "name": "python",
   "nbconvert_exporter": "python",
   "pygments_lexer": "ipython3",
   "version": "3.9.7"
  },
  "orig_nbformat": 4
 },
 "nbformat": 4,
 "nbformat_minor": 2
}
