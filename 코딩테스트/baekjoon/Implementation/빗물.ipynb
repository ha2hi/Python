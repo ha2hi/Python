{
 "cells": [
  {
   "cell_type": "code",
   "execution_count": 4,
   "metadata": {},
   "outputs": [
    {
     "name": "stdout",
     "output_type": "stream",
     "text": [
      "0\n"
     ]
    }
   ],
   "source": [
    "h, w = map(int, input().split())\n",
    "block = list(map(int, input().split()))\n",
    "lt, rt = 0, w-1\n",
    "lt_max, rt_max = block[lt], block[rt]\n",
    "res = 0\n",
    "\n",
    "while lt < rt:\n",
    "    lt_max = max(lt_max, block[lt])\n",
    "    rt_max = max(rt_max, block[rt])\n",
    "\n",
    "    if lt_max <= rt_max:\n",
    "        res += lt_max - block[lt]\n",
    "        lt += 1\n",
    "    else:\n",
    "        res += rt_max - block[rt]\n",
    "        rt -= 1\n",
    "print(res)"
   ]
  },
  {
   "cell_type": "code",
   "execution_count": null,
   "metadata": {},
   "outputs": [],
   "source": []
  },
  {
   "cell_type": "code",
   "execution_count": null,
   "metadata": {},
   "outputs": [],
   "source": []
  }
 ],
 "metadata": {
  "kernelspec": {
   "display_name": "base",
   "language": "python",
   "name": "python3"
  },
  "language_info": {
   "codemirror_mode": {
    "name": "ipython",
    "version": 3
   },
   "file_extension": ".py",
   "mimetype": "text/x-python",
   "name": "python",
   "nbconvert_exporter": "python",
   "pygments_lexer": "ipython3",
   "version": "3.9.7"
  }
 },
 "nbformat": 4,
 "nbformat_minor": 2
}
