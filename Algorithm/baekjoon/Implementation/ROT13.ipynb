{
 "cells": [
  {
   "cell_type": "code",
   "execution_count": 1,
   "metadata": {},
   "outputs": [
    {
     "name": "stdout",
     "output_type": "stream",
     "text": [
      "One ring to rule them all.\n",
      "\n",
      "\n",
      "\n",
      "\n",
      "\n",
      "\n",
      "\n",
      "\n",
      "1\n"
     ]
    }
   ],
   "source": [
    "# https://www.acmicpc.net/problem/4446\n",
    "small_moeum = 'aiyeou'\n",
    "lagre_moeum = 'AIYEOU'\n",
    "small_jaeum = 'bkxznhdcwgpvjqtsrlmf'\n",
    "large_jaeum = 'BKXZNHDCWGPVJQTSRLMF'\n",
    "\n",
    "while True:\n",
    "    try:\n",
    "        s = input()\n",
    "        res = ''\n",
    "        for x in s:\n",
    "            if x in small_moeum:\n",
    "                idx = small_moeum.index(x)\n",
    "                idx = (idx+3) % 6\n",
    "                res += small_moeum[idx]\n",
    "            elif x in lagre_moeum:\n",
    "                idx = lagre_moeum.index(x)\n",
    "                idx = (idx+3) % 6\n",
    "                res += lagre_moeum[idx]\n",
    "            elif x in small_jaeum:\n",
    "                idx = small_jaeum.index(x)\n",
    "                idx = (idx+10) % 20\n",
    "                res += small_jaeum[idx]\n",
    "            elif x in large_jaeum:\n",
    "                idx = large_jaeum.index(x)\n",
    "                idx = (idx+10) % 20\n",
    "                res += large_jaeum[idx]\n",
    "            else:\n",
    "                res += x\n",
    "        print(res)\n",
    "    except:\n",
    "        break"
   ]
  },
  {
   "cell_type": "code",
   "execution_count": null,
   "metadata": {},
   "outputs": [],
   "source": []
  }
 ],
 "metadata": {
  "kernelspec": {
   "display_name": "base",
   "language": "python",
   "name": "python3"
  },
  "language_info": {
   "codemirror_mode": {
    "name": "ipython",
    "version": 3
   },
   "file_extension": ".py",
   "mimetype": "text/x-python",
   "name": "python",
   "nbconvert_exporter": "python",
   "pygments_lexer": "ipython3",
   "version": "3.9.7"
  }
 },
 "nbformat": 4,
 "nbformat_minor": 2
}
