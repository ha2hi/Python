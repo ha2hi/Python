{
 "cells": [
  {
   "attachments": {},
   "cell_type": "markdown",
   "metadata": {},
   "source": [
    "Queue(Deque)\n",
    "- Array list based(Circular queue)\n",
    "- (*)Linked list based\n",
    "- FIFO\n",
    "=> 큐를 Array List로 구현하는 경우 시간 복잡도가 비효율적이다.\n",
    "\n",
    "Queue : 시간 순서상 먼저 저장한 데이터가 먼저 출력되는 FIFO 형식으로 데이터를 저장하는 자료구조입니다.\n",
    "\n"
   ]
  },
  {
   "cell_type": "code",
   "execution_count": null,
   "metadata": {},
   "outputs": [],
   "source": [
    "from collections import deque\n",
    "queue = deque()\n",
    "queue.append(1)\n",
    "queue.append(2)\n",
    "queue.append(3)\n",
    "queue.append(4)\n",
    "queue.popleft()\n",
    "queue.popleft()\n",
    "queue.popleft()"
   ]
  }
 ],
 "metadata": {
  "language_info": {
   "name": "python"
  },
  "orig_nbformat": 4
 },
 "nbformat": 4,
 "nbformat_minor": 2
}
