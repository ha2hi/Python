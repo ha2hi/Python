{
 "cells": [
  {
   "cell_type": "code",
   "execution_count": 8,
   "metadata": {},
   "outputs": [
    {
     "name": "stdout",
     "output_type": "stream",
     "text": [
      "20\n"
     ]
    }
   ],
   "source": [
    "# https://www.acmicpc.net/problem/2217\n",
    "def solution(N):\n",
    "    res = 0\n",
    "    for x in a:\n",
    "        tmp = x*N\n",
    "        res = max(res, tmp)\n",
    "        N -= 1\n",
    "    return res\n",
    "\n",
    "N = int(input())\n",
    "a = []\n",
    "for _ in range(N):\n",
    "    a.append(int(input()))\n",
    "a.sort()\n",
    "print(solution(N))"
   ]
  },
  {
   "cell_type": "code",
   "execution_count": null,
   "metadata": {},
   "outputs": [],
   "source": []
  }
 ],
 "metadata": {
  "kernelspec": {
   "display_name": "base",
   "language": "python",
   "name": "python3"
  },
  "language_info": {
   "codemirror_mode": {
    "name": "ipython",
    "version": 3
   },
   "file_extension": ".py",
   "mimetype": "text/x-python",
   "name": "python",
   "nbconvert_exporter": "python",
   "pygments_lexer": "ipython3",
   "version": "3.9.7"
  }
 },
 "nbformat": 4,
 "nbformat_minor": 2
}
