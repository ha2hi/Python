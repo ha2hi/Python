{
 "cells": [
  {
   "cell_type": "code",
   "execution_count": 13,
   "metadata": {},
   "outputs": [
    {
     "name": "stdout",
     "output_type": "stream",
     "text": [
      "3\n"
     ]
    }
   ],
   "source": [
    "# https://www.acmicpc.net/problem/2422\n",
    "from itertools import combinations\n",
    "n, m = map(int, input().split())\n",
    "icecream = [[False]*n for _ in range(n)]\n",
    "\n",
    "for i in range(m):\n",
    "    x, y = map(int, input().split())\n",
    "    icecream[x-1][y-1] = True\n",
    "    icecream[y-1][x-1] = True\n",
    "\n",
    "res = 0\n",
    "\n",
    "for i in combinations(range(n), 3):\n",
    "    if icecream[i[0]][i[1]] or icecream[i[0]][i[2]] or icecream[i[1]][i[2]]:\n",
    "        continue\n",
    "    res += 1\n",
    "print(res)"
   ]
  },
  {
   "cell_type": "code",
   "execution_count": null,
   "metadata": {},
   "outputs": [],
   "source": []
  }
 ],
 "metadata": {
  "kernelspec": {
   "display_name": "base",
   "language": "python",
   "name": "python3"
  },
  "language_info": {
   "codemirror_mode": {
    "name": "ipython",
    "version": 3
   },
   "file_extension": ".py",
   "mimetype": "text/x-python",
   "name": "python",
   "nbconvert_exporter": "python",
   "pygments_lexer": "ipython3",
   "version": "3.9.7"
  }
 },
 "nbformat": 4,
 "nbformat_minor": 2
}
