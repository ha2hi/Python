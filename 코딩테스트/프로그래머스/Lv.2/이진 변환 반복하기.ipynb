{
 "cells": [
  {
   "cell_type": "code",
   "execution_count": 12,
   "metadata": {},
   "outputs": [
    {
     "data": {
      "text/plain": [
       "[3, 8]"
      ]
     },
     "execution_count": 12,
     "metadata": {},
     "output_type": "execute_result"
    }
   ],
   "source": [
    "# https://school.programmers.co.kr/learn/courses/30/lessons/70129\n",
    "def solution(s):\n",
    "    answer = 0\n",
    "    cnt = 0\n",
    "    while s != '1':\n",
    "        now_n = len(s)\n",
    "        s = s.replace('0', '')\n",
    "        new_n = len(s)\n",
    "        s = bin(new_n)[2:]\n",
    "        answer += now_n - new_n\n",
    "        cnt += 1\n",
    "    return [cnt, answer]\n",
    "\n",
    "s = \"110010101001\"\n",
    "solution(s)"
   ]
  },
  {
   "cell_type": "code",
   "execution_count": 13,
   "metadata": {},
   "outputs": [
    {
     "data": {
      "text/plain": [
       "[3, 8]"
      ]
     },
     "execution_count": 13,
     "metadata": {},
     "output_type": "execute_result"
    }
   ],
   "source": [
    "def solution(s):\n",
    "    answer = 0\n",
    "    cnt = 0\n",
    "    while s != '1':\n",
    "        cnt += 1\n",
    "        answer += s.count('0')\n",
    "        s = bin(s.count('1'))[2:]\n",
    "    return [cnt, answer]\n",
    "\n",
    "s = \"110010101001\"\n",
    "solution(s)"
   ]
  },
  {
   "cell_type": "code",
   "execution_count": null,
   "metadata": {},
   "outputs": [],
   "source": []
  }
 ],
 "metadata": {
  "kernelspec": {
   "display_name": "base",
   "language": "python",
   "name": "python3"
  },
  "language_info": {
   "codemirror_mode": {
    "name": "ipython",
    "version": 3
   },
   "file_extension": ".py",
   "mimetype": "text/x-python",
   "name": "python",
   "nbconvert_exporter": "python",
   "pygments_lexer": "ipython3",
   "version": "3.9.7"
  }
 },
 "nbformat": 4,
 "nbformat_minor": 2
}
