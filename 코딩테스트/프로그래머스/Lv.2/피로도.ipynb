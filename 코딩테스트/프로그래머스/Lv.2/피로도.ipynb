{
 "cells": [
  {
   "cell_type": "code",
   "execution_count": 13,
   "metadata": {},
   "outputs": [
    {
     "data": {
      "text/plain": [
       "3"
      ]
     },
     "execution_count": 13,
     "metadata": {},
     "output_type": "execute_result"
    }
   ],
   "source": [
    "# https://school.programmers.co.kr/learn/courses/30/lessons/87946\n",
    "from itertools import permutations\n",
    "def solution(k, dungeons):\n",
    "    res = 0\n",
    "    for x in permutations(dungeons, len(dungeons)):\n",
    "        tmp = k\n",
    "        cnt = 0\n",
    "        for min_dungeons, minus_dungeons in x:\n",
    "            if tmp >= min_dungeons:\n",
    "                tmp -= minus_dungeons\n",
    "                cnt += 1\n",
    "        res = max(res, cnt)\n",
    "    return res\n",
    "\n",
    "k = 80\n",
    "dungeons = [[80,20],[50,40],[30,10]]\n",
    "solution(k, dungeons)"
   ]
  },
  {
   "cell_type": "code",
   "execution_count": null,
   "metadata": {},
   "outputs": [],
   "source": []
  }
 ],
 "metadata": {
  "kernelspec": {
   "display_name": "base",
   "language": "python",
   "name": "python3"
  },
  "language_info": {
   "codemirror_mode": {
    "name": "ipython",
    "version": 3
   },
   "file_extension": ".py",
   "mimetype": "text/x-python",
   "name": "python",
   "nbconvert_exporter": "python",
   "pygments_lexer": "ipython3",
   "version": "3.9.7"
  }
 },
 "nbformat": 4,
 "nbformat_minor": 2
}
