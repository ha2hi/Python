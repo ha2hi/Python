{
 "cells": [
  {
   "cell_type": "code",
   "execution_count": null,
   "metadata": {},
   "outputs": [],
   "source": [
    "# https://www.acmicpc.net/problem/16928\n",
    "from collections import deque\n",
    "n, m = map(int, input().split())\n",
    "visitied = [False]*101\n",
    "ladder = {}\n",
    "snake = {}\n",
    "\n",
    "for _ in range(n):\n",
    "    x, y = map(int, input().split())\n",
    "    ladder[x] = y\n",
    "\n",
    "for _ in range(m):\n",
    "    u, v = map(int, input().split())\n",
    "    snake[u] = v\n",
    "\n",
    "q = deque([(1, 0)])\n",
    "visitied[1] = True\n",
    "\n",
    "while q:\n",
    "    d, cnt = q.popleft()\n",
    "    if d == 100:\n",
    "        print(cnt)\n",
    "        break\n",
    "\n",
    "    for i in range(1,7):\n",
    "        new_d = d + i\n",
    "        if new_d in ladder:\n",
    "            new_d = ladder[new_d]\n",
    "        elif new_d in snake:\n",
    "            new_d = snake[new_d]\n",
    "    \n",
    "        if 1<=new_d<=100 and not visitied[new_d]:\n",
    "            q.append((new_d, cnt+1))\n",
    "            visitied[new_d] = True"
   ]
  },
  {
   "cell_type": "code",
   "execution_count": null,
   "metadata": {},
   "outputs": [],
   "source": []
  }
 ],
 "metadata": {
  "language_info": {
   "name": "python"
  }
 },
 "nbformat": 4,
 "nbformat_minor": 2
}
