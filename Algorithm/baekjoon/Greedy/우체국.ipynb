{
 "cells": [
  {
   "cell_type": "code",
   "execution_count": 1,
   "metadata": {},
   "outputs": [
    {
     "name": "stdout",
     "output_type": "stream",
     "text": [
      "2\n"
     ]
    }
   ],
   "source": [
    "# https://www.acmicpc.net/problem/2141\n",
    "def solution(n, a, total):\n",
    "    a.sort(key = lambda x : x[0])\n",
    "    count = 0\n",
    "    for i in range(n):\n",
    "        count += a[i][1]\n",
    "        if count >= total/2:\n",
    "            return a[i][0]\n",
    "\n",
    "\n",
    "n = int(input())\n",
    "a = []\n",
    "total = 0 \n",
    "for _ in range(n):\n",
    "    x, y = map(int, input().split())\n",
    "    a.append((x,y))\n",
    "    total += y\n",
    "\n",
    "print(solution(n, a, total))"
   ]
  },
  {
   "cell_type": "code",
   "execution_count": null,
   "metadata": {},
   "outputs": [],
   "source": []
  }
 ],
 "metadata": {
  "kernelspec": {
   "display_name": "base",
   "language": "python",
   "name": "python3"
  },
  "language_info": {
   "codemirror_mode": {
    "name": "ipython",
    "version": 3
   },
   "file_extension": ".py",
   "mimetype": "text/x-python",
   "name": "python",
   "nbconvert_exporter": "python",
   "pygments_lexer": "ipython3",
   "version": "3.9.undefined"
  }
 },
 "nbformat": 4,
 "nbformat_minor": 2
}
