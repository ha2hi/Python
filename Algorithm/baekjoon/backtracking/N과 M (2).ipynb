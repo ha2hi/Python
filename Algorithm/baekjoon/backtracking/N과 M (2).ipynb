{
 "cells": [
  {
   "cell_type": "code",
   "execution_count": 2,
   "metadata": {},
   "outputs": [
    {
     "name": "stdout",
     "output_type": "stream",
     "text": [
      "1 2 3 4\n"
     ]
    }
   ],
   "source": [
    "# https://www.acmicpc.net/problem/15650\n",
    "def dfs(l, s):\n",
    "    if l== m:\n",
    "        print(*answer)\n",
    "        return\n",
    "    else:\n",
    "        for i in range(s+1, n):\n",
    "            answer[l] = arr[i]\n",
    "            dfs(l+1, i)\n",
    "\n",
    "n, m = map(int, input().split())\n",
    "arr = [i for i in range(1, n+1)]\n",
    "answer = [0] * m\n",
    "dfs(0,-1)"
   ]
  },
  {
   "cell_type": "code",
   "execution_count": null,
   "metadata": {},
   "outputs": [],
   "source": []
  }
 ],
 "metadata": {
  "kernelspec": {
   "display_name": "base",
   "language": "python",
   "name": "python3"
  },
  "language_info": {
   "codemirror_mode": {
    "name": "ipython",
    "version": 3
   },
   "file_extension": ".py",
   "mimetype": "text/x-python",
   "name": "python",
   "nbconvert_exporter": "python",
   "pygments_lexer": "ipython3",
   "version": "3.9.7"
  }
 },
 "nbformat": 4,
 "nbformat_minor": 2
}
