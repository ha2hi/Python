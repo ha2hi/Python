{
 "cells": [
  {
   "cell_type": "markdown",
   "metadata": {},
   "source": [
    "### 유효한 괄호\n",
    "https://leetcode.com/problems/valid-parentheses\n",
    "\n",
    "괄호로 된 입력값이 올바른지 판별하라.\n",
    "- 입력\n",
    "  - ()[]{}\n",
    "- 출력\n",
    "  - true"
   ]
  },
  {
   "cell_type": "code",
   "execution_count": 3,
   "metadata": {},
   "outputs": [
    {
     "data": {
      "text/plain": [
       "False"
      ]
     },
     "execution_count": 3,
     "metadata": {},
     "output_type": "execute_result"
    }
   ],
   "source": [
    "class Solution:\n",
    "    def isValid(self, s: str) -> bool:\n",
    "        stack = []\n",
    "        table = {\n",
    "            ')' : '(',\n",
    "            '}' : '{',\n",
    "            ']' : '['\n",
    "        }\n",
    "        for x in s:\n",
    "            if x not in table:\n",
    "                stack.append(x)\n",
    "            else:\n",
    "                if not stack or stack.pop() != table[x]:\n",
    "                    return False\n",
    "        return len(stack) == 0\n",
    "\n",
    "Solution().isValid('()[]{}')"
   ]
  },
  {
   "cell_type": "code",
   "execution_count": null,
   "metadata": {},
   "outputs": [],
   "source": []
  },
  {
   "cell_type": "markdown",
   "metadata": {},
   "source": [
    "### 중복 문자 제거\n",
    "https://leetcode.com/problems/remove-duplicate-letters/\n",
    "\n",
    "중복된 문자를 제외하고 사전식 순서로 나열하라.\n",
    "- 입력\n",
    "    - \"bcabc\"\n",
    "- 출력\n",
    "    - \"abc\"\n",
    "- 입력\n",
    "    - \"cbacdcbc\"\n",
    "- 출력\n",
    "    - \"acdb\""
   ]
  },
  {
   "cell_type": "code",
   "execution_count": 18,
   "metadata": {},
   "outputs": [
    {
     "data": {
      "text/plain": [
       "['a', 'c', 'd', 'b']"
      ]
     },
     "execution_count": 18,
     "metadata": {},
     "output_type": "execute_result"
    }
   ],
   "source": [
    "from collections import Counter\n",
    "class Solution:\n",
    "    def removeDuplicateLetters(self, s: str) -> str:\n",
    "        counter, seen, stack = Counter(s), set(), []\n",
    "        \n",
    "        for x in s:\n",
    "            counter[x] -= 1\n",
    "            if x in seen:\n",
    "                continue\n",
    "\n",
    "            while stack and x < stack[-1] and counter[stack[-1]] > 0:\n",
    "                seen.remove(stack.pop())\n",
    "            stack.append(x)\n",
    "            seen.add(x)\n",
    "\n",
    "        return \"\".join(stack)\n",
    "\n",
    "\n",
    "Solution().removeDuplicateLetters(s=\"cbacdcbc\")"
   ]
  },
  {
   "cell_type": "code",
   "execution_count": 16,
   "metadata": {},
   "outputs": [
    {
     "data": {
      "text/plain": [
       "True"
      ]
     },
     "execution_count": 16,
     "metadata": {},
     "output_type": "execute_result"
    }
   ],
   "source": [
    "from collections import Counter\n",
    "s=\"cbacdcbc\"\n",
    "counter, stack, seen = Counter(s), [], set()\n",
    "for x in s:\n",
    "    counter[x] -= 1\n",
    "    while stack and x < stack[-1] and counter(x) > 0:\n",
    "        seen.remove(stack.pop())\n",
    "    stack.append(x)\n",
    "    "
   ]
  },
  {
   "cell_type": "code",
   "execution_count": null,
   "metadata": {},
   "outputs": [],
   "source": []
  }
 ],
 "metadata": {
  "kernelspec": {
   "display_name": "base",
   "language": "python",
   "name": "python3"
  },
  "language_info": {
   "codemirror_mode": {
    "name": "ipython",
    "version": 3
   },
   "file_extension": ".py",
   "mimetype": "text/x-python",
   "name": "python",
   "nbconvert_exporter": "python",
   "pygments_lexer": "ipython3",
   "version": "3.9.7"
  }
 },
 "nbformat": 4,
 "nbformat_minor": 2
}
