{
 "cells": [
  {
   "cell_type": "markdown",
   "metadata": {},
   "source": [
    "### Docstrign 사용 이유?\n",
    "Python은 동적 타입 언어이기 때문에 함수의 파라미터와 출력의 타입을 추론할 수 없음\n",
    "따라서 Python에서는 Doctyping을 통해 개발자에게 타입 정보를 제공하기 위한 목적으로 사용  \n",
    "  \n",
    "그외에도 함수 기능에 대한 설명등을 하기 위한 목적으로 사용"
   ]
  },
  {
   "cell_type": "code",
   "execution_count": 2,
   "metadata": {},
   "outputs": [
    {
     "name": "stdout",
     "output_type": "stream",
     "text": [
      "\u001b[0;31mSignature:\u001b[0m \u001b[0mget_user_name\u001b[0m\u001b[0;34m(\u001b[0m\u001b[0muser\u001b[0m\u001b[0;34m)\u001b[0m\u001b[0;34m\u001b[0m\u001b[0;34m\u001b[0m\u001b[0m\n",
      "\u001b[0;31mDocstring:\u001b[0m\n",
      "Description:\n",
      "    유저의 객체를 입력받아 일흠을 알아내는 함수\n",
      "Params:\n",
      "    클래스의 객체를 파라미터로 받음.\n",
      "Return:\n",
      "    UserName 객체를 반환.\n",
      "\u001b[0;31mFile:\u001b[0m      /var/folders/hs/qgyqqppj281bp7zh9vj3jry40000gn/T/ipykernel_51000/12247631.py\n",
      "\u001b[0;31mType:\u001b[0m      function\n"
     ]
    }
   ],
   "source": [
    "def get_user_name(user):\n",
    "    \"\"\"\n",
    "        Description:\n",
    "            유저의 객체를 입력받아 일흠을 알아내는 함수\n",
    "        Params:\n",
    "            클래스의 객체를 파라미터로 받음.\n",
    "        Return:\n",
    "            UserName 객체를 반환.\n",
    "    \"\"\"\n",
    "\n",
    "get_user_name?"
   ]
  },
  {
   "cell_type": "code",
   "execution_count": null,
   "metadata": {},
   "outputs": [],
   "source": []
  }
 ],
 "metadata": {
  "kernelspec": {
   "display_name": "pyflink_38",
   "language": "python",
   "name": "python3"
  },
  "language_info": {
   "codemirror_mode": {
    "name": "ipython",
    "version": 3
   },
   "file_extension": ".py",
   "mimetype": "text/x-python",
   "name": "python",
   "nbconvert_exporter": "python",
   "pygments_lexer": "ipython3",
   "version": "3.8.20"
  }
 },
 "nbformat": 4,
 "nbformat_minor": 2
}
