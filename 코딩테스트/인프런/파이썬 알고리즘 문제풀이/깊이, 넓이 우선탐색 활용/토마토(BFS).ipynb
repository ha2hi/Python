{
 "cells": [
  {
   "cell_type": "code",
   "execution_count": 9,
   "metadata": {},
   "outputs": [
    {
     "data": {
      "text/plain": [
       "4"
      ]
     },
     "execution_count": 9,
     "metadata": {},
     "output_type": "execute_result"
    }
   ],
   "source": [
    "from collections import deque\n",
    "def solution(n, m):\n",
    "    dx = [-1,0,1,0]\n",
    "    dy = [0,1,0,-1]\n",
    "    board = [list(map(int, input().split())) for _ in range(m)]\n",
    "    dis = [[0] * n for _ in range(m)]\n",
    "    res = 0\n",
    "    q = deque()\n",
    "    for x in range(m):\n",
    "        for y in range(n):\n",
    "            if board[x][y] == 1:\n",
    "                q.append((x,y))\n",
    "    while q:\n",
    "        for _ in range(len(q)):\n",
    "            now_x, now_y = q.popleft()\n",
    "            for i in range(4):\n",
    "                next_x = now_x + dx[i]\n",
    "                next_y = now_y + dy[i]\n",
    "                if 0<=next_x<m and 0<=next_y<n and board[next_x][next_y] == 0:\n",
    "                    q.append((next_x, next_y))\n",
    "                    board[next_x][next_y] = 1\n",
    "                    dis[next_x][next_y] = dis[now_x][now_y] + 1\n",
    "\n",
    "    for i in range(m):\n",
    "        for j in range(n):\n",
    "            if board[i][j] == 0:\n",
    "                return -1\n",
    "            elif dis[i][j] > res:\n",
    "                res = dis[i][j]\n",
    "    return res\n",
    "\n",
    "\n",
    "\n",
    "n, m = map(int, input().split())\n",
    "solution(n, m)"
   ]
  },
  {
   "cell_type": "code",
   "execution_count": null,
   "metadata": {},
   "outputs": [],
   "source": []
  }
 ],
 "metadata": {
  "kernelspec": {
   "display_name": "base",
   "language": "python",
   "name": "python3"
  },
  "language_info": {
   "codemirror_mode": {
    "name": "ipython",
    "version": 3
   },
   "file_extension": ".py",
   "mimetype": "text/x-python",
   "name": "python",
   "nbconvert_exporter": "python",
   "pygments_lexer": "ipython3",
   "version": "3.9.7"
  }
 },
 "nbformat": 4,
 "nbformat_minor": 2
}
