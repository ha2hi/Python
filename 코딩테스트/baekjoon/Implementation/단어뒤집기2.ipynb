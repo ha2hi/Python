{
 "cells": [
  {
   "cell_type": "code",
   "execution_count": 21,
   "metadata": {},
   "outputs": [
    {
     "name": "stdout",
     "output_type": "stream",
     "text": [
      "noojkeab enilno egduj\n"
     ]
    }
   ],
   "source": [
    "# https://www.acmicpc.net/problem/17413\n",
    "s = input()\n",
    "res = ''\n",
    "tmp = []\n",
    "for x in s:\n",
    "    if x.isalpha() or x.isdigit():\n",
    "        tmp.append(x)\n",
    "    elif x == '<':\n",
    "        if tmp:\n",
    "            res += ''.join(tmp[::-1])\n",
    "            tmp = ['<']\n",
    "        else:\n",
    "            tmp.append(x)\n",
    "    elif x == '>':\n",
    "        tmp.append(x)\n",
    "        res += ''.join(tmp)\n",
    "        tmp = []\n",
    "    elif x == ' ':\n",
    "        if tmp[0] == '<':\n",
    "            tmp.append(' ')\n",
    "        else:\n",
    "            res += ''.join(tmp[::-1])\n",
    "            res += ' '\n",
    "            tmp = []\n",
    "\n",
    "if tmp:\n",
    "    res += ''.join(tmp[::-1])\n",
    "\n",
    "print(res)"
   ]
  },
  {
   "cell_type": "code",
   "execution_count": null,
   "metadata": {},
   "outputs": [],
   "source": []
  }
 ],
 "metadata": {
  "kernelspec": {
   "display_name": "base",
   "language": "python",
   "name": "python3"
  },
  "language_info": {
   "codemirror_mode": {
    "name": "ipython",
    "version": 3
   },
   "file_extension": ".py",
   "mimetype": "text/x-python",
   "name": "python",
   "nbconvert_exporter": "python",
   "pygments_lexer": "ipython3",
   "version": "3.9.7"
  }
 },
 "nbformat": 4,
 "nbformat_minor": 2
}
