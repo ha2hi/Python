{
 "cells": [
  {
   "cell_type": "code",
   "execution_count": null,
   "metadata": {},
   "outputs": [],
   "source": [
    "def dfs(l, s):\n",
    "    glonal res\n",
    "    if l == n-1:\n",
    "        res = max(res)\n",
    "    else:\n",
    "        dfs(l+calendar[l], s+calendar[l])\n",
    "        dfs(l+1, s)\n",
    "\n",
    "n = int(input())\n",
    "calendar = []\n",
    "for _ in range(n):\n",
    "    t, p = map(int, input().split())\n",
    "    calendar.append((t,p))\n",
    "\n",
    "res = 0\n",
    "dfs(0,0, 0)"
   ]
  },
  {
   "cell_type": "markdown",
   "metadata": {},
   "source": []
  }
 ],
 "metadata": {
  "language_info": {
   "name": "python"
  }
 },
 "nbformat": 4,
 "nbformat_minor": 2
}
