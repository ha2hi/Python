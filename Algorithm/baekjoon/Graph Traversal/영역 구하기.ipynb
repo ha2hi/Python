{
 "cells": [
  {
   "cell_type": "code",
   "execution_count": 2,
   "metadata": {},
   "outputs": [
    {
     "name": "stdout",
     "output_type": "stream",
     "text": [
      "3\n",
      "1 7 13\n"
     ]
    }
   ],
   "source": [
    "# https://www.acmicpc.net/problem/2583\n",
    "\n",
    "from collections import deque\n",
    "m, n, k = map(int, input().split())\n",
    "board = [[0] * n for _ in range(m)]\n",
    "dx = [-1,0,1,0]\n",
    "dy = [0,1,0,-1]\n",
    "\n",
    "for _ in range(k):\n",
    "    l_x, l_y, r_x, r_y = map(int, input().split())\n",
    "    for i in range(l_y, r_y):\n",
    "        for j in range(l_x, r_x):\n",
    "            board[i][j] = 1\n",
    "\n",
    "res = []\n",
    "for i in range(m):\n",
    "    for j in range(n):\n",
    "        if board[i][j] == 0:\n",
    "            board[i][j] = 1\n",
    "            q = deque()\n",
    "            q.append((i, j))\n",
    "            cnt = 1\n",
    "            while q:\n",
    "                x, y = q.popleft()\n",
    "                for k in range(4):\n",
    "                   xx = x + dx[k]\n",
    "                   yy = y + dy[k]\n",
    "                   if 0<=xx<m and 0<=yy<n and board[xx][yy] == 0:\n",
    "                        board[xx][yy] = 1\n",
    "                        q.append((xx, yy))\n",
    "                        cnt += 1\n",
    "\n",
    "            res.append(cnt)\n",
    "\n",
    "print(len(res))\n",
    "print(*sorted(res))"
   ]
  },
  {
   "cell_type": "code",
   "execution_count": null,
   "metadata": {},
   "outputs": [],
   "source": []
  }
 ],
 "metadata": {
  "kernelspec": {
   "display_name": "airflow",
   "language": "python",
   "name": "python3"
  },
  "language_info": {
   "codemirror_mode": {
    "name": "ipython",
    "version": 3
   },
   "file_extension": ".py",
   "mimetype": "text/x-python",
   "name": "python",
   "nbconvert_exporter": "python",
   "pygments_lexer": "ipython3",
   "version": "3.9.12"
  }
 },
 "nbformat": 4,
 "nbformat_minor": 2
}
