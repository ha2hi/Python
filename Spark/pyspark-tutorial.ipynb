{
 "cells": [
  {
   "cell_type": "code",
   "execution_count": 2,
   "metadata": {},
   "outputs": [
    {
     "name": "stderr",
     "output_type": "stream",
     "text": [
      "                                                                                \r"
     ]
    }
   ],
   "source": [
    "from pyspark.sql.functions import *\n",
    "from pyspark.sql.types import *\n",
    "df = spark.read.load(\"./marketing_campaign.csv\",\n",
    "                format=\"csv\",\n",
    "                sep=\"\\t\",\n",
    "                inferchema=\"true\",\n",
    "                header=\"true\")"
   ]
  },
  {
   "cell_type": "code",
   "execution_count": 3,
   "metadata": {},
   "outputs": [
    {
     "name": "stderr",
     "output_type": "stream",
     "text": [
      "24/08/07 10:32:22 WARN package: Truncated the string representation of a plan since it was too large. This behavior can be adjusted by setting 'spark.sql.debug.maxToStringFields'.\n"
     ]
    },
    {
     "name": "stdout",
     "output_type": "stream",
     "text": [
      "+----+----------+----------+--------------+------+-------+--------+-----------+-------+--------+---------+---------------+---------------+----------------+------------+-----------------+---------------+-------------------+-----------------+-----------------+------------+------------+------------+------------+------------+--------+-------------+---------+--------+\n",
      "|  ID|Year_Birth| Education|Marital_Status|Income|Kidhome|Teenhome|Dt_Customer|Recency|MntWines|MntFruits|MntMeatProducts|MntFishProducts|MntSweetProducts|MntGoldProds|NumDealsPurchases|NumWebPurchases|NumCatalogPurchases|NumStorePurchases|NumWebVisitsMonth|AcceptedCmp3|AcceptedCmp4|AcceptedCmp5|AcceptedCmp1|AcceptedCmp2|Complain|Z_CostContact|Z_Revenue|Response|\n",
      "+----+----------+----------+--------------+------+-------+--------+-----------+-------+--------+---------+---------------+---------------+----------------+------------+-----------------+---------------+-------------------+-----------------+-----------------+------------+------------+------------+------------+------------+--------+-------------+---------+--------+\n",
      "|5524|      1957|Graduation|        Single| 58138|      0|       0| 04-09-2012|     58|     635|       88|            546|            172|              88|          88|                3|              8|                 10|                4|                7|           0|           0|           0|           0|           0|       0|            3|       11|       1|\n",
      "|2174|      1954|Graduation|        Single| 46344|      1|       1| 08-03-2014|     38|      11|        1|              6|              2|               1|           6|                2|              1|                  1|                2|                5|           0|           0|           0|           0|           0|       0|            3|       11|       0|\n",
      "|4141|      1965|Graduation|      Together| 71613|      0|       0| 21-08-2013|     26|     426|       49|            127|            111|              21|          42|                1|              8|                  2|               10|                4|           0|           0|           0|           0|           0|       0|            3|       11|       0|\n",
      "|6182|      1984|Graduation|      Together| 26646|      1|       0| 10-02-2014|     26|      11|        4|             20|             10|               3|           5|                2|              2|                  0|                4|                6|           0|           0|           0|           0|           0|       0|            3|       11|       0|\n",
      "|5324|      1981|       PhD|       Married| 58293|      1|       0| 19-01-2014|     94|     173|       43|            118|             46|              27|          15|                5|              5|                  3|                6|                5|           0|           0|           0|           0|           0|       0|            3|       11|       0|\n",
      "|7446|      1967|    Master|      Together| 62513|      0|       1| 09-09-2013|     16|     520|       42|             98|              0|              42|          14|                2|              6|                  4|               10|                6|           0|           0|           0|           0|           0|       0|            3|       11|       0|\n",
      "| 965|      1971|Graduation|      Divorced| 55635|      0|       1| 13-11-2012|     34|     235|       65|            164|             50|              49|          27|                4|              7|                  3|                7|                6|           0|           0|           0|           0|           0|       0|            3|       11|       0|\n",
      "|6177|      1985|       PhD|       Married| 33454|      1|       0| 08-05-2013|     32|      76|       10|             56|              3|               1|          23|                2|              4|                  0|                4|                8|           0|           0|           0|           0|           0|       0|            3|       11|       0|\n",
      "|4855|      1974|       PhD|      Together| 30351|      1|       0| 06-06-2013|     19|      14|        0|             24|              3|               3|           2|                1|              3|                  0|                2|                9|           0|           0|           0|           0|           0|       0|            3|       11|       1|\n",
      "|5899|      1950|       PhD|      Together|  5648|      1|       1| 13-03-2014|     68|      28|        0|              6|              1|               1|          13|                1|              1|                  0|                0|               20|           1|           0|           0|           0|           0|       0|            3|       11|       0|\n",
      "|1994|      1983|Graduation|       Married|  null|      1|       0| 15-11-2013|     11|       5|        5|              6|              0|               2|           1|                1|              1|                  0|                2|                7|           0|           0|           0|           0|           0|       0|            3|       11|       0|\n",
      "| 387|      1976|     Basic|       Married|  7500|      0|       0| 13-11-2012|     59|       6|       16|             11|             11|               1|          16|                1|              2|                  0|                3|                8|           0|           0|           0|           0|           0|       0|            3|       11|       0|\n",
      "|2125|      1959|Graduation|      Divorced| 63033|      0|       0| 15-11-2013|     82|     194|       61|            480|            225|             112|          30|                1|              3|                  4|                8|                2|           0|           0|           0|           0|           0|       0|            3|       11|       0|\n",
      "|8180|      1952|    Master|      Divorced| 59354|      1|       1| 15-11-2013|     53|     233|        2|             53|              3|               5|          14|                3|              6|                  1|                5|                6|           0|           0|           0|           0|           0|       0|            3|       11|       0|\n",
      "|2569|      1987|Graduation|       Married| 17323|      0|       0| 10-10-2012|     38|       3|       14|             17|              6|               1|           5|                1|              1|                  0|                3|                8|           0|           0|           0|           0|           0|       0|            3|       11|       0|\n",
      "|2114|      1946|       PhD|        Single| 82800|      0|       0| 24-11-2012|     23|    1006|       22|            115|             59|              68|          45|                1|              7|                  6|               12|                3|           0|           0|           1|           1|           0|       0|            3|       11|       1|\n",
      "|9736|      1980|Graduation|       Married| 41850|      1|       1| 24-12-2012|     51|      53|        5|             19|              2|              13|           4|                3|              3|                  0|                3|                8|           0|           0|           0|           0|           0|       0|            3|       11|       0|\n",
      "|4939|      1946|Graduation|      Together| 37760|      0|       0| 31-08-2012|     20|      84|        5|             38|            150|              12|          28|                2|              4|                  1|                6|                7|           0|           0|           0|           0|           0|       0|            3|       11|       0|\n",
      "|6565|      1949|    Master|       Married| 76995|      0|       1| 28-03-2013|     91|    1012|       80|            498|              0|              16|         176|                2|             11|                  4|                9|                5|           0|           0|           0|           1|           0|       0|            3|       11|       0|\n",
      "|2278|      1985|  2n Cycle|        Single| 33812|      1|       0| 03-11-2012|     86|       4|       17|             19|             30|              24|          39|                2|              2|                  1|                3|                6|           0|           0|           0|           0|           0|       0|            3|       11|       0|\n",
      "+----+----------+----------+--------------+------+-------+--------+-----------+-------+--------+---------+---------------+---------------+----------------+------------+-----------------+---------------+-------------------+-----------------+-----------------+------------+------------+------------+------------+------------+--------+-------------+---------+--------+\n",
      "only showing top 20 rows\n",
      "\n"
     ]
    }
   ],
   "source": [
    "df.show()"
   ]
  },
  {
   "cell_type": "code",
   "execution_count": 4,
   "metadata": {},
   "outputs": [
    {
     "name": "stdout",
     "output_type": "stream",
     "text": [
      "root\n",
      " |-- ID: string (nullable = true)\n",
      " |-- Year_Birth: string (nullable = true)\n",
      " |-- Education: string (nullable = true)\n",
      " |-- Marital_Status: string (nullable = true)\n",
      " |-- Income: string (nullable = true)\n",
      " |-- Kidhome: string (nullable = true)\n",
      " |-- Teenhome: string (nullable = true)\n",
      " |-- Dt_Customer: string (nullable = true)\n",
      " |-- Recency: string (nullable = true)\n",
      " |-- MntWines: string (nullable = true)\n",
      " |-- MntFruits: string (nullable = true)\n",
      " |-- MntMeatProducts: string (nullable = true)\n",
      " |-- MntFishProducts: string (nullable = true)\n",
      " |-- MntSweetProducts: string (nullable = true)\n",
      " |-- MntGoldProds: string (nullable = true)\n",
      " |-- NumDealsPurchases: string (nullable = true)\n",
      " |-- NumWebPurchases: string (nullable = true)\n",
      " |-- NumCatalogPurchases: string (nullable = true)\n",
      " |-- NumStorePurchases: string (nullable = true)\n",
      " |-- NumWebVisitsMonth: string (nullable = true)\n",
      " |-- AcceptedCmp3: string (nullable = true)\n",
      " |-- AcceptedCmp4: string (nullable = true)\n",
      " |-- AcceptedCmp5: string (nullable = true)\n",
      " |-- AcceptedCmp1: string (nullable = true)\n",
      " |-- AcceptedCmp2: string (nullable = true)\n",
      " |-- Complain: string (nullable = true)\n",
      " |-- Z_CostContact: string (nullable = true)\n",
      " |-- Z_Revenue: string (nullable = true)\n",
      " |-- Response: string (nullable = true)\n",
      "\n"
     ]
    }
   ],
   "source": [
    "df.printSchema()"
   ]
  },
  {
   "cell_type": "code",
   "execution_count": 5,
   "metadata": {},
   "outputs": [
    {
     "data": {
      "text/plain": [
       "2240"
      ]
     },
     "execution_count": 5,
     "metadata": {},
     "output_type": "execute_result"
    }
   ],
   "source": [
    "df.count()"
   ]
  },
  {
   "cell_type": "code",
   "execution_count": 6,
   "metadata": {},
   "outputs": [
    {
     "data": {
      "text/plain": [
       "Row(ID='5524', Year_Birth='1957', Education='Graduation', Marital_Status='Single', Income='58138', Kidhome='0', Teenhome='0', Dt_Customer='04-09-2012', Recency='58', MntWines='635', MntFruits='88', MntMeatProducts='546', MntFishProducts='172', MntSweetProducts='88', MntGoldProds='88', NumDealsPurchases='3', NumWebPurchases='8', NumCatalogPurchases='10', NumStorePurchases='4', NumWebVisitsMonth='7', AcceptedCmp3='0', AcceptedCmp4='0', AcceptedCmp5='0', AcceptedCmp1='0', AcceptedCmp2='0', Complain='0', Z_CostContact='3', Z_Revenue='11', Response='1')"
      ]
     },
     "execution_count": 6,
     "metadata": {},
     "output_type": "execute_result"
    }
   ],
   "source": [
    "df.first()"
   ]
  },
  {
   "cell_type": "code",
   "execution_count": 7,
   "metadata": {},
   "outputs": [
    {
     "name": "stdout",
     "output_type": "stream",
     "text": [
      "+----+----------+----------+---------+----------+-------------+---------------+\n",
      "|  id|year_birth| education|count_kid|count_teen|date_customer|days_last_login|\n",
      "+----+----------+----------+---------+----------+-------------+---------------+\n",
      "|5524|      1957|Graduation|        0|         0|   04-09-2012|             58|\n",
      "|2174|      1954|Graduation|        1|         1|   08-03-2014|             38|\n",
      "|4141|      1965|Graduation|        0|         0|   21-08-2013|             26|\n",
      "|6182|      1984|Graduation|        1|         0|   10-02-2014|             26|\n",
      "|5324|      1981|       PhD|        1|         0|   19-01-2014|             94|\n",
      "|7446|      1967|    Master|        0|         1|   09-09-2013|             16|\n",
      "| 965|      1971|Graduation|        0|         1|   13-11-2012|             34|\n",
      "|6177|      1985|       PhD|        1|         0|   08-05-2013|             32|\n",
      "|4855|      1974|       PhD|        1|         0|   06-06-2013|             19|\n",
      "|5899|      1950|       PhD|        1|         1|   13-03-2014|             68|\n",
      "|1994|      1983|Graduation|        1|         0|   15-11-2013|             11|\n",
      "| 387|      1976|     Basic|        0|         0|   13-11-2012|             59|\n",
      "|2125|      1959|Graduation|        0|         0|   15-11-2013|             82|\n",
      "|8180|      1952|    Master|        1|         1|   15-11-2013|             53|\n",
      "|2569|      1987|Graduation|        0|         0|   10-10-2012|             38|\n",
      "|2114|      1946|       PhD|        0|         0|   24-11-2012|             23|\n",
      "|9736|      1980|Graduation|        1|         1|   24-12-2012|             51|\n",
      "|4939|      1946|Graduation|        0|         0|   31-08-2012|             20|\n",
      "|6565|      1949|    Master|        0|         1|   28-03-2013|             91|\n",
      "|2278|      1985|  2n Cycle|        1|         0|   03-11-2012|             86|\n",
      "+----+----------+----------+---------+----------+-------------+---------------+\n",
      "only showing top 20 rows\n",
      "\n"
     ]
    }
   ],
   "source": [
    "dfSelected = df.select(\n",
    "    col(\"ID\").alias(\"id\"),\n",
    "    col(\"Year_Birth\").alias(\"year_birth\"),\n",
    "    col(\"Education\").alias(\"education\"),\n",
    "    col(\"Kidhome\").alias(\"count_kid\"),\n",
    "    col(\"Teenhome\").alias(\"count_teen\"),\n",
    "    col(\"Dt_Customer\").alias(\"date_customer\"),\n",
    "    col(\"Recency\").alias(\"days_last_login\")\n",
    ")\n",
    "dfSelected.show()"
   ]
  },
  {
   "cell_type": "code",
   "execution_count": 8,
   "metadata": {},
   "outputs": [
    {
     "name": "stdout",
     "output_type": "stream",
     "text": [
      "root\n",
      " |-- id: string (nullable = true)\n",
      " |-- year_birth: string (nullable = true)\n",
      " |-- education: string (nullable = true)\n",
      " |-- count_kid: string (nullable = true)\n",
      " |-- count_teen: string (nullable = true)\n",
      " |-- date_customer: string (nullable = true)\n",
      " |-- days_last_login: string (nullable = true)\n",
      "\n"
     ]
    }
   ],
   "source": [
    "dfSelected.printSchema()"
   ]
  },
  {
   "cell_type": "code",
   "execution_count": 9,
   "metadata": {},
   "outputs": [
    {
     "data": {
      "text/plain": [
       "31"
      ]
     },
     "execution_count": 9,
     "metadata": {},
     "output_type": "execute_result"
    }
   ],
   "source": [
    "df.rdd.id()"
   ]
  },
  {
   "cell_type": "code",
   "execution_count": 12,
   "metadata": {},
   "outputs": [
    {
     "name": "stderr",
     "output_type": "stream",
     "text": [
      "[Stage 9:>                                                          (0 + 1) / 1]\r"
     ]
    },
    {
     "name": "stdout",
     "output_type": "stream",
     "text": [
      "+-------+------------------+------------------+---------+-------------------+------------------+-------------+-----------------+\n",
      "|summary|                id|        year_birth|education|          count_kid|        count_teen|date_customer|  days_last_login|\n",
      "+-------+------------------+------------------+---------+-------------------+------------------+-------------+-----------------+\n",
      "|  count|              2240|              2240|     2240|               2240|              2240|         2240|             2240|\n",
      "|   mean| 5592.159821428571|1968.8058035714287|     null|0.44419642857142855|           0.50625|         null|        49.109375|\n",
      "| stddev|3246.6621975643416|11.984069456885827|     null| 0.5383980977345935|0.5445382307698761|         null|28.96245280837821|\n",
      "|    min|                 0|              1893| 2n Cycle|                  0|                 0|   01-01-2013|                0|\n",
      "|    max|              9999|              1996|      PhD|                  2|                 2|   31-12-2013|               99|\n",
      "+-------+------------------+------------------+---------+-------------------+------------------+-------------+-----------------+\n",
      "\n"
     ]
    },
    {
     "name": "stderr",
     "output_type": "stream",
     "text": [
      "                                                                                \r"
     ]
    }
   ],
   "source": [
    "dfSelected.describe().show()"
   ]
  },
  {
   "cell_type": "code",
   "execution_count": 13,
   "metadata": {},
   "outputs": [
    {
     "name": "stdout",
     "output_type": "stream",
     "text": [
      "+----+----------+----------+---------+----------+-------------+---------------+--------------+\n",
      "|  id|year_birth| education|count_kid|count_teen|date_customer|days_last_login|count_children|\n",
      "+----+----------+----------+---------+----------+-------------+---------------+--------------+\n",
      "|5524|      1957|Graduation|        0|         0|   04-09-2012|             58|           0.0|\n",
      "|2174|      1954|Graduation|        1|         1|   08-03-2014|             38|           2.0|\n",
      "|4141|      1965|Graduation|        0|         0|   21-08-2013|             26|           0.0|\n",
      "|6182|      1984|Graduation|        1|         0|   10-02-2014|             26|           1.0|\n",
      "|5324|      1981|       PhD|        1|         0|   19-01-2014|             94|           1.0|\n",
      "|7446|      1967|    Master|        0|         1|   09-09-2013|             16|           1.0|\n",
      "| 965|      1971|Graduation|        0|         1|   13-11-2012|             34|           1.0|\n",
      "|6177|      1985|       PhD|        1|         0|   08-05-2013|             32|           1.0|\n",
      "|4855|      1974|       PhD|        1|         0|   06-06-2013|             19|           1.0|\n",
      "|5899|      1950|       PhD|        1|         1|   13-03-2014|             68|           2.0|\n",
      "|1994|      1983|Graduation|        1|         0|   15-11-2013|             11|           1.0|\n",
      "| 387|      1976|     Basic|        0|         0|   13-11-2012|             59|           0.0|\n",
      "|2125|      1959|Graduation|        0|         0|   15-11-2013|             82|           0.0|\n",
      "|8180|      1952|    Master|        1|         1|   15-11-2013|             53|           2.0|\n",
      "|2569|      1987|Graduation|        0|         0|   10-10-2012|             38|           0.0|\n",
      "|2114|      1946|       PhD|        0|         0|   24-11-2012|             23|           0.0|\n",
      "|9736|      1980|Graduation|        1|         1|   24-12-2012|             51|           2.0|\n",
      "|4939|      1946|Graduation|        0|         0|   31-08-2012|             20|           0.0|\n",
      "|6565|      1949|    Master|        0|         1|   28-03-2013|             91|           1.0|\n",
      "|2278|      1985|  2n Cycle|        1|         0|   03-11-2012|             86|           1.0|\n",
      "+----+----------+----------+---------+----------+-------------+---------------+--------------+\n",
      "only showing top 20 rows\n",
      "\n"
     ]
    }
   ],
   "source": [
    "dfConverted1 = dfSelected.withColumn(\"count_children\", coalesce(\"count_kid\", lit(0)) + coalesce(\"count_teen\", lit(0)))\n",
    "dfConverted1.show()"
   ]
  },
  {
   "cell_type": "code",
   "execution_count": 14,
   "metadata": {},
   "outputs": [
    {
     "name": "stdout",
     "output_type": "stream",
     "text": [
      "+----+---------+----------+--------------+\n",
      "|  id|count_kid|count_teen|count_children|\n",
      "+----+---------+----------+--------------+\n",
      "|5524|        0|         0|           0.0|\n",
      "|2174|        1|         1|           2.0|\n",
      "|4141|        0|         0|           0.0|\n",
      "|6182|        1|         0|           1.0|\n",
      "|5324|        1|         0|           1.0|\n",
      "+----+---------+----------+--------------+\n",
      "\n"
     ]
    }
   ],
   "source": [
    "dfConverted1.select(\n",
    "    col(\"id\"),\n",
    "    col(\"count_kid\"),\n",
    "    col(\"count_teen\"),\n",
    "    col(\"count_children\")\n",
    ").limit(5).show()"
   ]
  },
  {
   "cell_type": "code",
   "execution_count": 16,
   "metadata": {},
   "outputs": [
    {
     "name": "stdout",
     "output_type": "stream",
     "text": [
      "+----------+\n",
      "| education|\n",
      "+----------+\n",
      "|  2n Cycle|\n",
      "|       PhD|\n",
      "|    Master|\n",
      "|Graduation|\n",
      "|     Basic|\n",
      "+----------+\n",
      "\n"
     ]
    }
   ],
   "source": [
    "dfConverted1\\\n",
    "    .select(\"education\")\\\n",
    "    .distinct()\\\n",
    "    .show()"
   ]
  },
  {
   "cell_type": "code",
   "execution_count": 18,
   "metadata": {},
   "outputs": [
    {
     "name": "stdout",
     "output_type": "stream",
     "text": [
      "+----------+\n",
      "| education|\n",
      "+----------+\n",
      "|       PhD|\n",
      "|    Master|\n",
      "|Graduation|\n",
      "|     Basic|\n",
      "|      NONE|\n",
      "+----------+\n",
      "\n"
     ]
    }
   ],
   "source": [
    "educationInvalid = '2n Cycle'\n",
    "educationDefault = 'NONE'\n",
    "dfConverted2 = dfConverted1.withColumn(\n",
    "    \"education\",\n",
    "    when(col(\"education\") == lit(educationInvalid), educationDefault).otherwise(col(\"education\"))\n",
    ")\n",
    "dfConverted2.select(\"education\").distinct().show()"
   ]
  },
  {
   "cell_type": "code",
   "execution_count": 24,
   "metadata": {},
   "outputs": [
    {
     "name": "stdout",
     "output_type": "stream",
     "text": [
      "+----------+\n",
      "| education|\n",
      "+----------+\n",
      "|       PhD|\n",
      "|    Master|\n",
      "|Graduation|\n",
      "|     Basic|\n",
      "|      NONE|\n",
      "+----------+\n",
      "\n"
     ]
    }
   ],
   "source": [
    "dfConverted2.select(col(\"education\")).distinct().show()"
   ]
  },
  {
   "cell_type": "code",
   "execution_count": 31,
   "metadata": {},
   "outputs": [
    {
     "name": "stdout",
     "output_type": "stream",
     "text": [
      "+----+----------+----------+---------+----------+-------------+---------------+--------------+----------+\n",
      "|  id|year_birth| education|count_kid|count_teen|date_customer|days_last_login|count_children| education|\n",
      "+----+----------+----------+---------+----------+-------------+---------------+--------------+----------+\n",
      "|5524|      1957|Graduation|        0|         0|   04-09-2012|             58|           0.0|Graduation|\n",
      "|2174|      1954|Graduation|        1|         1|   08-03-2014|             38|           2.0|Graduation|\n",
      "|4141|      1965|Graduation|        0|         0|   21-08-2013|             26|           0.0|Graduation|\n",
      "|6182|      1984|Graduation|        1|         0|   10-02-2014|             26|           1.0|Graduation|\n",
      "|5324|      1981|       PhD|        1|         0|   19-01-2014|             94|           1.0|       PhD|\n",
      "|7446|      1967|    Master|        0|         1|   09-09-2013|             16|           1.0|    Master|\n",
      "| 965|      1971|Graduation|        0|         1|   13-11-2012|             34|           1.0|Graduation|\n",
      "|6177|      1985|       PhD|        1|         0|   08-05-2013|             32|           1.0|       PhD|\n",
      "|4855|      1974|       PhD|        1|         0|   06-06-2013|             19|           1.0|       PhD|\n",
      "|5899|      1950|       PhD|        1|         1|   13-03-2014|             68|           2.0|       PhD|\n",
      "|1994|      1983|Graduation|        1|         0|   15-11-2013|             11|           1.0|Graduation|\n",
      "| 387|      1976|     Basic|        0|         0|   13-11-2012|             59|           0.0|     Basic|\n",
      "|2125|      1959|Graduation|        0|         0|   15-11-2013|             82|           0.0|Graduation|\n",
      "|8180|      1952|    Master|        1|         1|   15-11-2013|             53|           2.0|    Master|\n",
      "|2569|      1987|Graduation|        0|         0|   10-10-2012|             38|           0.0|Graduation|\n",
      "|2114|      1946|       PhD|        0|         0|   24-11-2012|             23|           0.0|       PhD|\n",
      "|9736|      1980|Graduation|        1|         1|   24-12-2012|             51|           2.0|Graduation|\n",
      "|4939|      1946|Graduation|        0|         0|   31-08-2012|             20|           0.0|Graduation|\n",
      "|6565|      1949|    Master|        0|         1|   28-03-2013|             91|           1.0|    Master|\n",
      "|2278|      1985|  2n Cycle|        1|         0|   03-11-2012|             86|           1.0|      NONE|\n",
      "+----+----------+----------+---------+----------+-------------+---------------+--------------+----------+\n",
      "only showing top 20 rows\n",
      "\n"
     ]
    }
   ],
   "source": [
    "educationInvalid = '2n Cycle'\n",
    "educationDefault = 'NONE'\n",
    "dfConverted1.selectExpr(\n",
    "    \"*\",\n",
    "    f\"CASE WHEN education == '{educationInvalid}' THEN '{educationDefault}' ELSE education END as education\"\n",
    ").show()"
   ]
  },
  {
   "cell_type": "code",
   "execution_count": null,
   "metadata": {},
   "outputs": [],
   "source": []
  },
  {
   "cell_type": "code",
   "execution_count": 36,
   "metadata": {},
   "outputs": [
    {
     "name": "stdout",
     "output_type": "stream",
     "text": [
      "+----+----------+----------+---------+----------+-------------+---------------+--------------+-----------+\n",
      "|  id|year_birth| education|count_kid|count_teen|date_customer|days_last_login|count_children|date_joined|\n",
      "+----+----------+----------+---------+----------+-------------+---------------+--------------+-----------+\n",
      "|5524|      1957|Graduation|        0|         0|   04-09-2012|             58|           0.0| 2018-09-04|\n",
      "|2174|      1954|Graduation|        1|         1|   08-03-2014|             38|           2.0| 2020-03-08|\n",
      "|4141|      1965|Graduation|        0|         0|   21-08-2013|             26|           0.0| 2019-08-21|\n",
      "+----+----------+----------+---------+----------+-------------+---------------+--------------+-----------+\n",
      "\n"
     ]
    }
   ],
   "source": [
    "# date_customer컬럼에서 6년을 더한 컬럼 생성\n",
    "dfWithJoined = dfConverted2.withColumn(\"date_joined\", add_months(to_date(col(\"date_customer\"), \"d-M-yyyy\"),72))\n",
    "dfWithJoined.limit(3).show()"
   ]
  },
  {
   "cell_type": "code",
   "execution_count": null,
   "metadata": {},
   "outputs": [],
   "source": []
  }
 ],
 "metadata": {
  "kernelspec": {
   "display_name": "base",
   "language": "python",
   "name": "python3"
  },
  "language_info": {
   "codemirror_mode": {
    "name": "ipython",
    "version": 3
   },
   "file_extension": ".py",
   "mimetype": "text/x-python",
   "name": "python",
   "nbconvert_exporter": "python",
   "pygments_lexer": "ipython3",
   "version": "3.9.7"
  }
 },
 "nbformat": 4,
 "nbformat_minor": 2
}
