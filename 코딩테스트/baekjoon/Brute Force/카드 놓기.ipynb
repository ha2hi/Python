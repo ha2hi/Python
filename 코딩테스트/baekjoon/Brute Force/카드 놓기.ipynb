{
 "cells": [
  {
   "cell_type": "code",
   "execution_count": 5,
   "metadata": {},
   "outputs": [
    {
     "name": "stdout",
     "output_type": "stream",
     "text": [
      "68\n"
     ]
    }
   ],
   "source": [
    "# https://www.acmicpc.net/problem/5568\n",
    "from itertools import permutations\n",
    "n = int(input())\n",
    "k = int(input())\n",
    "cards = []\n",
    "\n",
    "for _ in range(n):\n",
    "    cards.append(input())\n",
    "\n",
    "res = set()\n",
    "for x in permutations(cards, k):\n",
    "    res.add(''.join(x))\n",
    "\n",
    "print(len(res))"
   ]
  },
  {
   "cell_type": "code",
   "execution_count": null,
   "metadata": {},
   "outputs": [],
   "source": []
  }
 ],
 "metadata": {
  "kernelspec": {
   "display_name": "base",
   "language": "python",
   "name": "python3"
  },
  "language_info": {
   "codemirror_mode": {
    "name": "ipython",
    "version": 3
   },
   "file_extension": ".py",
   "mimetype": "text/x-python",
   "name": "python",
   "nbconvert_exporter": "python",
   "pygments_lexer": "ipython3",
   "version": "3.9.7"
  }
 },
 "nbformat": 4,
 "nbformat_minor": 2
}
