{
 "cells": [
  {
   "attachments": {},
   "cell_type": "markdown",
   "metadata": {},
   "source": [
    "### 그래프\n",
    "그래프 순회란 그래프 탐색이라도 불리우며, 그래프의 각 정점을 방문하는 과정을 말한다.\n",
    "\n",
    "그래프를 표현하는 방법에는 크게 인접행렬, 입접리스트가 있다.\n",
    "- 인접행렬\n",
    "\n",
    "\n",
    "graph = {1 : [2,3,4], 2:[5], 3: [5], 4:[],5:[6,7],6:[],7:[3]}"
   ]
  },
  {
   "cell_type": "code",
   "execution_count": 2,
   "metadata": {},
   "outputs": [
    {
     "data": {
      "text/plain": [
       "[1, 2, 5, 6, 7, 3, 4]"
      ]
     },
     "execution_count": 2,
     "metadata": {},
     "output_type": "execute_result"
    }
   ],
   "source": [
    "# DFS는 스택으로 구현되며 재귀 방식과 스택 방식이 있다.\n",
    "# 재귀방식\n",
    "def recursive_dfs(v, discoverd = []):\n",
    "    discoverd.append(v)\n",
    "    for w in graph[v]:\n",
    "        if not w in discoverd:\n",
    "            discoverd = recursive_dfs(w, discoverd)\n",
    "    return discoverd\n",
    "\n",
    "\n",
    "graph = {1 : [2,3,4], 2:[5], 3: [5], 4:[],5:[6,7],6:[],7:[3]}\n",
    "recursive_dfs(1)\n"
   ]
  },
  {
   "cell_type": "code",
   "execution_count": 12,
   "metadata": {},
   "outputs": [
    {
     "data": {
      "text/plain": [
       "[1, 2, 3, 4, 5, 6, 7]"
      ]
     },
     "execution_count": 12,
     "metadata": {},
     "output_type": "execute_result"
    }
   ],
   "source": [
    "#BFS\n",
    "def iterative_bfs(start_v):\n",
    "    discoverd = [start_v]\n",
    "    queue = [start_v]\n",
    "    while queue:\n",
    "        v = queue.pop(0)\n",
    "        for w in graph[v]:\n",
    "            if w not in discoverd:\n",
    "                discoverd.append(w)\n",
    "                queue.append(w)\n",
    "    return discoverd\n",
    "\n",
    "graph = {1 : [2,3,4], 2:[5], 3: [5], 4:[],5:[6,7],6:[],7:[3]}\n",
    "iterative_bfs(1)\n"
   ]
  },
  {
   "cell_type": "code",
   "execution_count": null,
   "metadata": {},
   "outputs": [],
   "source": []
  },
  {
   "attachments": {},
   "cell_type": "markdown",
   "metadata": {},
   "source": [
    "### 32. 섬의 개수\n",
    "1을 육지로, 0을 물로 가정한 2D 그리드 맵이 주어졌을때, 섬의 개수를 계산해라\n",
    "- 입력\n",
    "  \n",
    "11110\n",
    "\n",
    "11010\n",
    "\n",
    "11000\n",
    "\n",
    "00000\n",
    "- 출력\n",
    "  \n",
    "1\n"
   ]
  },
  {
   "cell_type": "code",
   "execution_count": 16,
   "metadata": {},
   "outputs": [
    {
     "name": "stdout",
     "output_type": "stream",
     "text": [
      "3\n"
     ]
    }
   ],
   "source": [
    "# 내풀이\n",
    "def number_of_islands(x: int,y: int) -> None:\n",
    "    grid[x][y] = \"0\"\n",
    "    for i in range(4):\n",
    "      xx = x + dx[i]\n",
    "      yy = y + dy[i]\n",
    "      if 0<=xx<len(grid) and 0<=yy<len(grid[0]) and grid[xx][yy] == \"1\":\n",
    "        number_of_islands(xx,yy)\n",
    "\n",
    "dx = [-1,0,1,0]\n",
    "dy = [0,1,0,-1]\n",
    "grid = [\n",
    "  [\"1\",\"1\",\"1\",\"1\",\"0\"],\n",
    "  [\"1\",\"1\",\"0\",\"1\",\"0\"],\n",
    "  [\"1\",\"1\",\"0\",\"0\",\"0\"],\n",
    "  [\"0\",\"0\",\"0\",\"0\",\"0\"]\n",
    "]\n",
    "cnt = 0\n",
    "for i in range(len(grid)):\n",
    "  for j in range(len(grid[0])):\n",
    "    if grid[i][j] == \"1\":\n",
    "      cnt += 1\n",
    "      number_of_islands(i,j)\n",
    "print(cnt)"
   ]
  },
  {
   "cell_type": "code",
   "execution_count": 21,
   "metadata": {},
   "outputs": [
    {
     "data": {
      "text/plain": [
       "1"
      ]
     },
     "execution_count": 21,
     "metadata": {},
     "output_type": "execute_result"
    }
   ],
   "source": [
    "# 책풀이\n",
    "def numIslands(grid: list[list[str]]) -> int:\n",
    "    def dfs(i: int, j: int) -> None:\n",
    "        if i < 0 or i >= len(grid) or j < 0 or j >= len(grid[0]) or grid[i][j] != '1':\n",
    "            return\n",
    "        grid[i][j] = 0\n",
    "        dfs(i+1, j)\n",
    "        dfs(i-1,j)\n",
    "        dfs(i,j+1)\n",
    "        dfs(i, j-1)\n",
    "\n",
    "    count = 0\n",
    "    for i in range(len(grid)):\n",
    "        for j in range(len(grid[0])):\n",
    "            if grid[i][j] == \"1\":\n",
    "                dfs(i,j)\n",
    "                count += 1\n",
    "    return count\n",
    "grid = [\n",
    "  [\"1\",\"1\",\"1\",\"1\",\"0\"],\n",
    "  [\"1\",\"1\",\"0\",\"1\",\"0\"],\n",
    "  [\"1\",\"1\",\"0\",\"0\",\"0\"],\n",
    "  [\"0\",\"0\",\"0\",\"0\",\"0\"]\n",
    "]\n",
    "numIslands(grid)"
   ]
  },
  {
   "cell_type": "code",
   "execution_count": null,
   "metadata": {},
   "outputs": [],
   "source": []
  },
  {
   "attachments": {},
   "cell_type": "markdown",
   "metadata": {},
   "source": [
    "### 33. 전화 번호 문자 조합\n",
    "2에서 9까지 주어졌을 때 전화번호로 조합 가능한 모든 문자를 출력하라.\n",
    "- 입력\n",
    "- \"23\"\n",
    "\n",
    "\n",
    "- 출력\n",
    "[\"ad\", \"ae\", \"af\", \"bd\", \"be\", \"bf\", \"cd\", \"ce\", \"cf\"]\n",
    "\n",
    "\n",
    "- 설명\n",
    "- 2는 abc, 3은 def가 가능하므로 각각 한 문자씩 9개의 문자로 조합 가능하다."
   ]
  },
  {
   "cell_type": "code",
   "execution_count": 29,
   "metadata": {},
   "outputs": [
    {
     "data": {
      "text/plain": [
       "['ad', 'ae', 'af', 'bd', 'be', 'bf', 'cd', 'ce', 'cf']"
      ]
     },
     "execution_count": 29,
     "metadata": {},
     "output_type": "execute_result"
    }
   ],
   "source": [
    "def letterCombinations(digits: str) -> list[str]:\n",
    "    def dfs(index, tmp):\n",
    "        if len(tmp) == len(digits):\n",
    "            res.append(tmp)\n",
    "            return\n",
    "        for i in range(index,len(digits)):\n",
    "            for j in dic[digits[i]]:\n",
    "                dfs(i+1, tmp+j)\n",
    "\n",
    "    if not digits:\n",
    "        return []\n",
    "    dic = {\"2\" : \"abc\", \"3\" : \"def\", \"4\" : \"ghi\", \"5\" : \"jkl\",\n",
    "           \"6\" : \"mno\", \"7\" : \"pqrs\", \"8\": \"tuv\", \"9\" : \"wxyz\"}\n",
    "    res = []\n",
    "    dfs(0,\"\")\n",
    "    \n",
    "    return res\n",
    "letterCombinations(\"23\")"
   ]
  },
  {
   "cell_type": "code",
   "execution_count": null,
   "metadata": {},
   "outputs": [],
   "source": []
  },
  {
   "attachments": {},
   "cell_type": "markdown",
   "metadata": {},
   "source": [
    "### 34. 순열\n",
    "서로 다른 정수를 입력받아 가능한 모든 순열을 리턴하라.\n",
    "\n",
    "- 입력\n",
    "    - [1,2,3]\n",
    "- 출력\n",
    "    - [\n",
    "        [1,2,3],\n",
    "        [1,3,2],\n",
    "        [2,1,3],\n",
    "        [2,3,1],\n",
    "        [3,1,2],\n",
    "        [3,2,1]\n",
    "    ]"
   ]
  },
  {
   "cell_type": "code",
   "execution_count": 36,
   "metadata": {},
   "outputs": [
    {
     "name": "stdout",
     "output_type": "stream",
     "text": [
      "[2, 3]\n",
      "[3]\n",
      "[]\n",
      "[2]\n",
      "[]\n",
      "[1, 3]\n",
      "[3]\n",
      "[]\n",
      "[1]\n",
      "[]\n",
      "[1, 2]\n",
      "[2]\n",
      "[]\n",
      "[1]\n",
      "[]\n"
     ]
    },
    {
     "data": {
      "text/plain": [
       "[[1, 2, 3], [1, 3, 2], [2, 1, 3], [2, 3, 1], [3, 1, 2], [3, 2, 1]]"
      ]
     },
     "execution_count": 36,
     "metadata": {},
     "output_type": "execute_result"
    }
   ],
   "source": [
    "def permute(nums: list[int]) -> list[list[int]]:\n",
    "    res = []\n",
    "    prev_elements = []\n",
    "    \n",
    "    def dfs(elements):\n",
    "        if len(elements) == 0:\n",
    "            res.append(prev_elements[:])\n",
    "        \n",
    "        for e in elements:\n",
    "            next_element = elements[:]\n",
    "            next_element.remove(e)\n",
    "\n",
    "            prev_elements.append(e)\n",
    "            dfs(next_element)\n",
    "            prev_elements.pop()\n",
    "\n",
    "    dfs(nums)\n",
    "    return res\n",
    "\n",
    "permute([1,2,3])"
   ]
  },
  {
   "cell_type": "code",
   "execution_count": null,
   "metadata": {},
   "outputs": [],
   "source": []
  }
 ],
 "metadata": {
  "kernelspec": {
   "display_name": "base",
   "language": "python",
   "name": "python3"
  },
  "language_info": {
   "codemirror_mode": {
    "name": "ipython",
    "version": 3
   },
   "file_extension": ".py",
   "mimetype": "text/x-python",
   "name": "python",
   "nbconvert_exporter": "python",
   "pygments_lexer": "ipython3",
   "version": "3.9.7"
  },
  "orig_nbformat": 4
 },
 "nbformat": 4,
 "nbformat_minor": 2
}
