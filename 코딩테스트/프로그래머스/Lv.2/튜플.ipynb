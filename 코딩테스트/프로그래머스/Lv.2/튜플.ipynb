{
 "cells": [
  {
   "cell_type": "code",
   "execution_count": 69,
   "metadata": {},
   "outputs": [
    {
     "data": {
      "text/plain": [
       "[3, 2, 4, 1]"
      ]
     },
     "execution_count": 69,
     "metadata": {},
     "output_type": "execute_result"
    }
   ],
   "source": [
    "def solution(s):\n",
    "    s = s[2:-2]\n",
    "    s = s.split('},{')\n",
    "    s.sort(key = len)\n",
    "    res = []\n",
    "    ch = set()\n",
    "    for rows in s:\n",
    "        for row in rows.split(','):\n",
    "            if int(row) not in ch:\n",
    "                res.append(int(row))\n",
    "                ch.add(int(row))\n",
    "    return res\n",
    "\n",
    "\n",
    "s = \"{{4,2,3},{3},{2,3,4,1},{2,3}}\"\t\n",
    "solution(s)"
   ]
  },
  {
   "cell_type": "code",
   "execution_count": null,
   "metadata": {},
   "outputs": [],
   "source": []
  }
 ],
 "metadata": {
  "kernelspec": {
   "display_name": "base",
   "language": "python",
   "name": "python3"
  },
  "language_info": {
   "codemirror_mode": {
    "name": "ipython",
    "version": 3
   },
   "file_extension": ".py",
   "mimetype": "text/x-python",
   "name": "python",
   "nbconvert_exporter": "python",
   "pygments_lexer": "ipython3",
   "version": "3.9.7"
  }
 },
 "nbformat": 4,
 "nbformat_minor": 2
}
