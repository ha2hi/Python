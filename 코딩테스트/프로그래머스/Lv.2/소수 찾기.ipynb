{
 "cells": [
  {
   "cell_type": "code",
   "execution_count": 55,
   "metadata": {},
   "outputs": [
    {
     "data": {
      "text/plain": [
       "3"
      ]
     },
     "execution_count": 55,
     "metadata": {},
     "output_type": "execute_result"
    }
   ],
   "source": [
    "# https://school.programmers.co.kr/learn/courses/30/lessons/42839\n",
    "from itertools import permutations\n",
    "def solution(number):\n",
    "    res = 0\n",
    "    numbers = set()\n",
    "    for i in range(1, len(number)+1):\n",
    "        for x in permutations(number, i):\n",
    "            numbers.add(int(''.join(x)))\n",
    "    for x in numbers:\n",
    "        if x < 2:\n",
    "            continue\n",
    "        for i in range(2, x//2):\n",
    "            if x % i ==0:\n",
    "                break\n",
    "        else:\n",
    "            res += 1\n",
    "\n",
    "    return res\n",
    "\n",
    "number = \"17\"\n",
    "solution(number)"
   ]
  },
  {
   "cell_type": "code",
   "execution_count": null,
   "metadata": {},
   "outputs": [],
   "source": []
  }
 ],
 "metadata": {
  "kernelspec": {
   "display_name": "base",
   "language": "python",
   "name": "python3"
  },
  "language_info": {
   "name": "python",
   "version": "3.9.7"
  }
 },
 "nbformat": 4,
 "nbformat_minor": 2
}
