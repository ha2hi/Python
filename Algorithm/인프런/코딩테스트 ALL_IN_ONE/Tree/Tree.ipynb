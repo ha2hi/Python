{
 "cells": [
  {
   "attachments": {},
   "cell_type": "markdown",
   "metadata": {},
   "source": [
    "### Tree\n",
    "Tree는 서로 연결된 Node의 계층형 자료구조로써, root 와 부모-자식 관계의 subtree로 구성되어 있습니다. \n",
    "\n",
    "### Tree 관련 개념\n",
    "- 정점 (Vertex): A,B,C와 같은 값을 갖고 나타내며, 노드로 표현됩니다.\n",
    "- 간선 (Edge): 정점 간에 연결된 선입니다.\n",
    "- 자식 노드 (Child), 부모 노드 (Parent)\n",
    "- 형제 노드(sibling): 같은 부모를 가진 노드를 말합니다.\n",
    "- 리프 노드 (Leef): 더 이상 뻗어나갈 수 없는 마지막 노드를 일컫습니다.\n",
    "- 차수 (degree): 각 노드가 갖는 자식의 수. 모든 노드의 차수가 n개 이하인 트리를 n진 트리라고 합니다.\n",
    "- 조상 (ancestor) 위쪽으로 간선을 따라가면 만나는 노드들 말합니다.\n",
    "- 자손 (descendant): 아래쪽으로 간선을 따라가면 만나는 노드들을 말합니다.\n",
    "- 루트 노드(Root): 트리의 시작 점 입니다.\n",
    "- 높이 (height): 루트 노드에서 가장 멀리 있는 리프 노드 까지의 거리입니다.\n",
    "- 레벨 (level): 루트 노드에서 떨어진 거리입니다."
   ]
  },
  {
   "cell_type": "code",
   "execution_count": null,
   "metadata": {},
   "outputs": [],
   "source": [
    "class Node:\n",
    "    def __init__(self, value = 0, left=None, right=None):\n",
    "        self.value = value\n",
    "        self.left = left\n",
    "        self.right = right\n",
    "\n",
    "class BinaryTree:\n",
    "    def __init__(self):\n",
    "        self.root = None\n",
    "\n",
    "bt = BinaryTree()\n",
    "bt.root = Node(value=1)\n",
    "bt.root.left = Node(value=2)\n",
    "bt.root.right = Node(value=3)\n",
    "bt.root.left.left = Node(value=4)\n",
    "bt.root.left.right = Node(value=5)\n",
    "bt.root.right.right = Node(value=6)"
   ]
  },
  {
   "cell_type": "code",
   "execution_count": null,
   "metadata": {},
   "outputs": [],
   "source": []
  }
 ],
 "metadata": {
  "language_info": {
   "name": "python"
  },
  "orig_nbformat": 4
 },
 "nbformat": 4,
 "nbformat_minor": 2
}
