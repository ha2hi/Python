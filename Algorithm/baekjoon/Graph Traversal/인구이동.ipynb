{
 "cells": [
  {
   "cell_type": "code",
   "execution_count": 1,
   "metadata": {},
   "outputs": [
    {
     "name": "stdout",
     "output_type": "stream",
     "text": [
      "2\n"
     ]
    }
   ],
   "source": [
    "# https://www.acmicpc.net/problem/16234\n",
    "from collections import deque\n",
    "def bfs(i, j,board,ch):\n",
    "    q.append((i,j))\n",
    "    tmp = [(i,j)]\n",
    "    while q:\n",
    "        x, y = q.popleft()\n",
    "        for k in range(4):\n",
    "            xx = x+dx[k]\n",
    "            yy = y+dy[k]\n",
    "            if 0<=xx<n and 0<=yy<n and ch[xx][yy] == 0 and l<=abs(board[x][y]-board[xx][yy])<=r:\n",
    "                ch[xx][yy] = 1\n",
    "                q.append((xx,yy))\n",
    "                tmp.append((xx,yy))\n",
    "\n",
    "    if len(tmp) <= 1:\n",
    "        return 0\n",
    "    c_val = sum(board[x][y] for x,y in tmp) // len(tmp)\n",
    "    for x, y in tmp:\n",
    "        board[x][y] = c_val\n",
    "    return 1\n",
    "\n",
    "    \n",
    "\n",
    "\n",
    "n, l, r = map(int, input().split())\n",
    "board = [list(map(int, input().split())) for _ in range(n)]\n",
    "dx = [-1,0,1,0]\n",
    "dy = [0,1,0,-1]\n",
    "day = 0\n",
    "q = deque()\n",
    "\n",
    "while True:\n",
    "    flag = 0\n",
    "    ch = [[0]*n for _ in range(n)]\n",
    "    for i in range(n):\n",
    "        for j in range(n):\n",
    "            if ch[i][j] == 0:\n",
    "                ch[i][j] = 1\n",
    "                flag += bfs(i,j,board,ch)\n",
    "    if flag == 0:\n",
    "        break\n",
    "\n",
    "    day += 1\n",
    "print(day)"
   ]
  },
  {
   "cell_type": "code",
   "execution_count": null,
   "metadata": {},
   "outputs": [],
   "source": []
  }
 ],
 "metadata": {
  "kernelspec": {
   "display_name": "base",
   "language": "python",
   "name": "python3"
  },
  "language_info": {
   "codemirror_mode": {
    "name": "ipython",
    "version": 3
   },
   "file_extension": ".py",
   "mimetype": "text/x-python",
   "name": "python",
   "nbconvert_exporter": "python",
   "pygments_lexer": "ipython3",
   "version": "3.9.7"
  }
 },
 "nbformat": 4,
 "nbformat_minor": 2
}
