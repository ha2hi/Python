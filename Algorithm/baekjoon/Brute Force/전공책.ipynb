{
 "cells": [
  {
   "cell_type": "code",
   "execution_count": 50,
   "metadata": {},
   "outputs": [
    {
     "name": "stdout",
     "output_type": "stream",
     "text": [
      "65000\n"
     ]
    }
   ],
   "source": [
    "# https://www.acmicpc.net/problem/16508\n",
    "from itertools import product\n",
    "from collections import Counter\n",
    "t = input()\n",
    "n = int(input())\n",
    "books = []\n",
    "\n",
    "for _ in range(n):\n",
    "    price, book = input().split()\n",
    "    books.append([int(price), book])\n",
    "\n",
    "res = float('inf')\n",
    "for i in product([0,1], repeat=n):\n",
    "    tmp = Counter(t)\n",
    "\n",
    "    c_books = [x for x, y in zip(books,i) if y != 0]\n",
    "    total = 0\n",
    "\n",
    "    for price, book in c_books:\n",
    "        total += price\n",
    "        for key in tmp.keys():\n",
    "            if key in book:\n",
    "                tmp[key] -= book.count(key)\n",
    "    \n",
    "    flag = True\n",
    "    for k, v in tmp.items():\n",
    "        if v > 0:\n",
    "            flag = False\n",
    "            break\n",
    "    \n",
    "    if flag:\n",
    "        res = min(res, total)\n",
    "\n",
    "print(-1 if res == float('inf') else res)"
   ]
  },
  {
   "cell_type": "code",
   "execution_count": null,
   "metadata": {},
   "outputs": [],
   "source": []
  }
 ],
 "metadata": {
  "kernelspec": {
   "display_name": "base",
   "language": "python",
   "name": "python3"
  },
  "language_info": {
   "codemirror_mode": {
    "name": "ipython",
    "version": 3
   },
   "file_extension": ".py",
   "mimetype": "text/x-python",
   "name": "python",
   "nbconvert_exporter": "python",
   "pygments_lexer": "ipython3",
   "version": "3.9.7"
  }
 },
 "nbformat": 4,
 "nbformat_minor": 2
}
