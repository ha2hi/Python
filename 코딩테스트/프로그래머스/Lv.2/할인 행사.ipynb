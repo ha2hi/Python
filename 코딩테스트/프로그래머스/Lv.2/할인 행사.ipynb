{
 "cells": [
  {
   "cell_type": "code",
   "execution_count": 13,
   "metadata": {},
   "outputs": [
    {
     "data": {
      "text/plain": [
       "3"
      ]
     },
     "execution_count": 13,
     "metadata": {},
     "output_type": "execute_result"
    }
   ],
   "source": [
    "# https://school.programmers.co.kr/learn/courses/30/lessons/131127\n",
    "from collections import Counter\n",
    "def solution(want, number, discount):\n",
    "    want_number = Counter(dict(zip(want, number)))\n",
    "    cnt = 0\n",
    "    for i in range(len(discount)):\n",
    "        if want_number == Counter(discount[i:10+i]):\n",
    "            cnt += 1\n",
    "    return cnt\n",
    "\n",
    "want = [\"banana\", \"apple\", \"rice\", \"pork\", \"pot\"]\n",
    "number = [3, 2, 2, 2, 1]\n",
    "discount = [\"chicken\", \"apple\", \"apple\", \"banana\", \"rice\", \"apple\", \"pork\", \"banana\", \"pork\", \"rice\", \"pot\", \"banana\", \"apple\", \"banana\"]\n",
    "solution(want, number, discount)\n",
    "\n"
   ]
  },
  {
   "cell_type": "code",
   "execution_count": null,
   "metadata": {},
   "outputs": [],
   "source": []
  }
 ],
 "metadata": {
  "kernelspec": {
   "display_name": "base",
   "language": "python",
   "name": "python3"
  },
  "language_info": {
   "codemirror_mode": {
    "name": "ipython",
    "version": 3
   },
   "file_extension": ".py",
   "mimetype": "text/x-python",
   "name": "python",
   "nbconvert_exporter": "python",
   "pygments_lexer": "ipython3",
   "version": "3.9.7"
  }
 },
 "nbformat": 4,
 "nbformat_minor": 2
}
