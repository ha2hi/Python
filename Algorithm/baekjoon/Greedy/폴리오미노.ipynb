{
 "cells": [
  {
   "cell_type": "code",
   "execution_count": 26,
   "metadata": {},
   "outputs": [
    {
     "name": "stdout",
     "output_type": "stream",
     "text": [
      "BB.AAAAAAAABB..AAAAAAAA...AAAABB\n"
     ]
    }
   ],
   "source": [
    "# https://www.acmicpc.net/problem/1343\n",
    "def solution(a):\n",
    "    a = a.replace('XXXX', 'AAAA')\n",
    "    a = a.replace('XX', 'BB')\n",
    "\n",
    "    if a.count('X') > 0:\n",
    "        return -1\n",
    "    else:\n",
    "        return a\n",
    "\n",
    "a = input()\n",
    "print(solution(a))"
   ]
  },
  {
   "cell_type": "code",
   "execution_count": null,
   "metadata": {},
   "outputs": [],
   "source": []
  }
 ],
 "metadata": {
  "kernelspec": {
   "display_name": "base",
   "language": "python",
   "name": "python3"
  },
  "language_info": {
   "codemirror_mode": {
    "name": "ipython",
    "version": 3
   },
   "file_extension": ".py",
   "mimetype": "text/x-python",
   "name": "python",
   "nbconvert_exporter": "python",
   "pygments_lexer": "ipython3",
   "version": "3.9.7"
  }
 },
 "nbformat": 4,
 "nbformat_minor": 2
}
