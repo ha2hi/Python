{
 "cells": [
  {
   "cell_type": "code",
   "execution_count": 16,
   "metadata": {},
   "outputs": [
    {
     "name": "stdout",
     "output_type": "stream",
     "text": [
      "0 0 0 2 2 4\n"
     ]
    }
   ],
   "source": [
    "n = int(input())\n",
    "a = list(map(int, input().split()))\n",
    "res = []\n",
    "stack = []\n",
    "for i in range(n):\n",
    "    if i == 0:\n",
    "        stack.append((i+1,a[i]))\n",
    "        res.append(0)\n",
    "\n",
    "    if stack[-1][1] > a[i]:\n",
    "        res.append(stack[-1][0])\n",
    "    else:\n",
    "        res.append(0)\n",
    "    \n",
    "    if i+1 < n and a[i] > a[i+1]:\n",
    "        stack.append((i+1, a[i]))\n",
    "print(*res)"
   ]
  },
  {
   "cell_type": "code",
   "execution_count": null,
   "metadata": {},
   "outputs": [],
   "source": []
  }
 ],
 "metadata": {
  "kernelspec": {
   "display_name": "base",
   "language": "python",
   "name": "python3"
  },
  "language_info": {
   "codemirror_mode": {
    "name": "ipython",
    "version": 3
   },
   "file_extension": ".py",
   "mimetype": "text/x-python",
   "name": "python",
   "nbconvert_exporter": "python",
   "pygments_lexer": "ipython3",
   "version": "3.9.7"
  }
 },
 "nbformat": 4,
 "nbformat_minor": 2
}
