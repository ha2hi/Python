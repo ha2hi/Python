{
 "cells": [
  {
   "cell_type": "code",
   "execution_count": 7,
   "metadata": {},
   "outputs": [
    {
     "name": "stdout",
     "output_type": "stream",
     "text": [
      "2\n"
     ]
    }
   ],
   "source": [
    "# https://www.acmicpc.net/problem/15787\n",
    "from collections import deque\n",
    "n, m = map(int,input().split())\n",
    "train = deque([[0] * 20 for _ in range(n)])\n",
    "\n",
    "for _ in range(m):\n",
    "    call = list(map(int, input().split()))\n",
    "    if call[0] == 1:\n",
    "        train[call[1]-1][call[2]-1] = 1\n",
    "    elif call[0] == 2:\n",
    "        train[call[1]-1][call[2]-1] = 0\n",
    "    elif call[0] == 3:\n",
    "        train[call[1]-1] = [0] + train[call[1]-1][:-1]\n",
    "    elif call[0] == 4:\n",
    "        train[call[1]-1] = train[call[1]-1][1:] + [0]\n",
    "\n",
    "tmp = []\n",
    "res = 0\n",
    "for x in train:\n",
    "    if x not in tmp:\n",
    "        tmp.append(x)\n",
    "        res += 1\n",
    "print(res)"
   ]
  },
  {
   "cell_type": "code",
   "execution_count": null,
   "metadata": {},
   "outputs": [],
   "source": []
  }
 ],
 "metadata": {
  "kernelspec": {
   "display_name": "base",
   "language": "python",
   "name": "python3"
  },
  "language_info": {
   "codemirror_mode": {
    "name": "ipython",
    "version": 3
   },
   "file_extension": ".py",
   "mimetype": "text/x-python",
   "name": "python",
   "nbconvert_exporter": "python",
   "pygments_lexer": "ipython3",
   "version": "3.9.7"
  }
 },
 "nbformat": 4,
 "nbformat_minor": 2
}
