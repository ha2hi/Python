{
 "cells": [
  {
   "cell_type": "code",
   "execution_count": null,
   "metadata": {},
   "outputs": [],
   "source": [
    "# 그래프는 G(V,E)는 어떤 자료나 개념을 표현하는 정점(vertex)들의 집합 V와 이들을 연결하는 간선(edge)들의 집합 E로 구성된 자료구조입니다.\n",
    "\"\"\"\n",
    "그래프 종류\n",
    "1. 방향 그패프 vs 무향 그래프(주로)\n",
    "2. 다중 그래프 vs 단순 그래프(주로)\n",
    "3. 가중치 그래프 => 다익스트라\n",
    "\n",
    "그래프 표현방법\n",
    "1. 인접 행렬\n",
    "graph = [\n",
    "    [0,0,0],\n",
    "    [1,0,1],\n",
    "    [1,1,0]\n",
    "]\n",
    "\n",
    "2. 인접 리스트\n",
    "graph = {\n",
    "    1 : [2,3],\n",
    "    2 : [1,3],\n",
    "    3 : [1,2]\n",
    "}\n",
    "\n",
    "3. 암시적 그래프 <- 주로 미로 찾기에서 사용\n",
    "graph = [\n",
    "    [0,0,0],\n",
    "    [1,0,1],\n",
    "    [1,1,0]\n",
    "]\n",
    "\n",
    "\"\"\"\n"
   ]
  },
  {
   "cell_type": "code",
   "execution_count": null,
   "metadata": {},
   "outputs": [],
   "source": []
  },
  {
   "cell_type": "code",
   "execution_count": 2,
   "metadata": {},
   "outputs": [
    {
     "data": {
      "text/plain": [
       "['A', 'B', 'D', 'E', 'C']"
      ]
     },
     "execution_count": 2,
     "metadata": {},
     "output_type": "execute_result"
    }
   ],
   "source": [
    "# BFS\n",
    "graph = {\n",
    "    'A' : ['B','D','E'],\n",
    "    'B' : ['A', 'C', 'D'],\n",
    "    'C' : ['B'],\n",
    "    'D' : ['A', 'B'],\n",
    "    'E' : ['A']\n",
    "}\n",
    "\n",
    "from collections import deque\n",
    "def bfs(graph, start_v):\n",
    "    visited = [start_v]\n",
    "    queue = deque(start_v)\n",
    "    while queue:\n",
    "        cur_v = queue.popleft()\n",
    "        for v in graph[cur_v]:\n",
    "            if v not in visited:\n",
    "                queue.append(v)\n",
    "                visited.append(v)\n",
    "    return visited\n",
    "\n",
    "bfs(graph, 'A')"
   ]
  },
  {
   "cell_type": "code",
   "execution_count": 5,
   "metadata": {},
   "outputs": [
    {
     "data": {
      "text/plain": [
       "['A', 'B', 'C', 'D', 'E']"
      ]
     },
     "execution_count": 5,
     "metadata": {},
     "output_type": "execute_result"
    }
   ],
   "source": [
    "# DFS\n",
    "graph = {\n",
    "    'A' : ['B','D','E'],\n",
    "    'B' : ['A', 'C', 'D'],\n",
    "    'C' : ['B'],\n",
    "    'D' : ['A', 'B'],\n",
    "    'E' : ['A']\n",
    "}\n",
    "visited = []\n",
    "\n",
    "def dfs(cur_v):\n",
    "    visited.append(cur_v)\n",
    "    for v in graph[cur_v]:\n",
    "        if v not in visited:\n",
    "            dfs(v)\n",
    "    return visited\n",
    "\n",
    "dfs('A')"
   ]
  },
  {
   "cell_type": "code",
   "execution_count": null,
   "metadata": {},
   "outputs": [],
   "source": []
  },
  {
   "cell_type": "code",
   "execution_count": 11,
   "metadata": {},
   "outputs": [
    {
     "name": "stdout",
     "output_type": "stream",
     "text": [
      "3\n"
     ]
    }
   ],
   "source": [
    "from collections import deque\n",
    "def numIslands(grid):\n",
    "    number_of_island = 0\n",
    "    row = len(grid)\n",
    "    col = len(grid[0])\n",
    "    visited = [[False] * col for _ in range(row)]\n",
    "\n",
    "    def bfs(x, y):\n",
    "        dx = [1,0,-1,0]\n",
    "        dy = [0,1,0,-1]\n",
    "        q = deque()\n",
    "        q.append((x,y))\n",
    "        while q:\n",
    "            cur_x, cur_y = q.popleft()\n",
    "            for i in range(4):\n",
    "                next_x = cur_x + dx[i]\n",
    "                next_y = cur_y + dy[i]\n",
    "                if 0<=next_x<row and 0<=next_y<col and not visited[next_x][next_y] and grid[next_x][next_y] == \"1\":\n",
    "                    visited[next_x][next_y] = True\n",
    "                    q.append((next_x, next_y))\n",
    "          \n",
    "    for i in range(row):\n",
    "        for j in range(col):\n",
    "            if grid[i][j] == \"1\" and not visited[i][j]:\n",
    "                bfs(i,j)\n",
    "                number_of_island += 1\n",
    "    return number_of_island\n",
    "\n",
    "print(numIslands(grid = [\n",
    "    [\"1\", \"1\", \"0\", \"0\", \"0\"],\n",
    "    [\"1\", \"1\", \"0\", \"0\", \"0\"],\n",
    "    [\"0\", \"0\", \"1\", \"0\", \"0\"],\n",
    "    [\"0\", \"0\", \"0\", \"1\", \"1\"]\n",
    "]))\n"
   ]
  },
  {
   "cell_type": "code",
   "execution_count": null,
   "metadata": {},
   "outputs": [],
   "source": []
  },
  {
   "cell_type": "code",
   "execution_count": 53,
   "metadata": {},
   "outputs": [
    {
     "name": "stdout",
     "output_type": "stream",
     "text": [
      "4\n"
     ]
    }
   ],
   "source": [
    "# 2번문제\n",
    "\"\"\"\n",
    "n x n 행렬에서 출발지에서 목적지까지 도착하는 가장 빠른 경로의 길이를 반환하시오.\n",
    "만약 경로가 없다면 -1 반환\n",
    "\n",
    "- 값이 0인 cell만 지나갈 수 있습니다.\n",
    "- cell끼리는 8가지 방향으로 연결되어 있다.(edge, corner)\n",
    "\"\"\"\n",
    "from collections import deque\n",
    "\n",
    "\n",
    "def shortestPathBinaryMax(grid):\n",
    "    shorthest_path = -1\n",
    "    n = len(grid)\n",
    "    dx = [1,-1,0,0,1,1,-1,-1]\n",
    "    dy = [0,0,1,-1,1,-1,1,-1]\n",
    "    \n",
    "    if grid[0][0] == 1 or grid[n-1][n-1] == 1:\n",
    "        return shorthest_path\n",
    "    visited = [[False] * n for _ in range(n)]\n",
    "\n",
    "    queue = deque()\n",
    "    queue.append((0,0, 1))\n",
    "    visited[0][0] = True\n",
    "\n",
    "    while queue:\n",
    "        cur_r, cur_c, cur_len = queue.popleft()\n",
    "        if cur_r == n-1 and cur_c == n-1:\n",
    "            shorthest_path = cur_len\n",
    "            break\n",
    "\n",
    "        for i in range(8):\n",
    "            next_r = cur_r + dx[i]\n",
    "            next_c = cur_c + dy[i]\n",
    "            if 0<=next_r<n and 0<=next_c<n and grid[next_r][next_c] == 0 and not visited[next_r][next_c]:\n",
    "                queue.append((next_r, next_c, cur_len+1))\n",
    "                visited[next_r][next_c] = True\n",
    "\n",
    "    return shorthest_path\n",
    "\n",
    "print(shortestPathBinaryMax(grid = [[0,0,0],[1,1,0],[1,1,0]]))"
   ]
  },
  {
   "cell_type": "code",
   "execution_count": null,
   "metadata": {},
   "outputs": [],
   "source": []
  },
  {
   "cell_type": "code",
   "execution_count": 24,
   "metadata": {},
   "outputs": [
    {
     "name": "stdout",
     "output_type": "stream",
     "text": [
      "False\n"
     ]
    }
   ],
   "source": [
    "# DFS\n",
    "\"\"\"\n",
    "0번방 부터 n-1번방 까지 총 n개의 방이있다. 0번 방을 제외한 방은 잠겨져있다. 우리의 목표는 모든 방에 방문하는 것이다.\n",
    "하지만 잠겨있는 방은 key가없으면 방문할 수 없다. 각방에 방문할때는 열쇠뭉치가 있다.\n",
    "input : rooms = [[1,3], [2,4], [0], [4], [], [3,4]]\n",
    "ouput : False\n",
    "\"\"\"\n",
    "def canVisitAllRooms(rooms):\n",
    "    visited = set()\n",
    "\n",
    "    def dfs(v):\n",
    "        visited.add(v)\n",
    "        for next_v in rooms[v]:\n",
    "            if next_v not in visited:\n",
    "                dfs(next_v)\n",
    "\n",
    "    dfs(0)\n",
    "\n",
    "    if len(visited) == len(rooms):\n",
    "        return True\n",
    "    else:\n",
    "        return False\n",
    "\n",
    "\n",
    "rooms = [[1,3], [2,4], [0], [4], [], [3,4]]\n",
    "\n",
    "print(canVisitAllRooms(rooms))"
   ]
  },
  {
   "cell_type": "code",
   "execution_count": 32,
   "metadata": {},
   "outputs": [
    {
     "name": "stdout",
     "output_type": "stream",
     "text": [
      "False\n"
     ]
    }
   ],
   "source": [
    "# BFS\n",
    "\"\"\"\n",
    "0번방 부터 n-1번방 까지 총 n개의 방이있다. 0번 방을 제외한 방은 잠겨져있다. 우리의 목표는 모든 방에 방문하는 것이다.\n",
    "하지만 잠겨있는 방은 key가없으면 방문할 수 없다. 각방에 방문할때는 열쇠뭉치가 있다.\n",
    "input : rooms = [[1,3], [2,4], [0], [4], [], [3,4]]\n",
    "ouput : False\n",
    "\"\"\"\n",
    "from collections import deque\n",
    "def canVisitAllRooms(rooms):\n",
    "    visited = set()\n",
    "\n",
    "    def bfs(v):\n",
    "        q = deque()\n",
    "        q.append(v)\n",
    "        visited.add(v)\n",
    "\n",
    "        while q:\n",
    "            cur_v = q.popleft()\n",
    "            for next_v in rooms[cur_v]:\n",
    "                if next_v not in visited:\n",
    "                    q.append(next_v)\n",
    "                    visited.add(next_v)\n",
    "\n",
    "    bfs(0)\n",
    "\n",
    "    if len(visited) == len(rooms):\n",
    "        return True\n",
    "    else:\n",
    "        return False\n",
    "\n",
    "rooms = [[1,3], [2,4], [0], [4], [], [3,4]]\n",
    "print(canVisitAllRooms(rooms))"
   ]
  },
  {
   "cell_type": "code",
   "execution_count": null,
   "metadata": {},
   "outputs": [],
   "source": []
  },
  {
   "cell_type": "code",
   "execution_count": null,
   "metadata": {},
   "outputs": [],
   "source": [
    "from collections import deque\n",
    "def checkRooms(rooms):\n",
    "    check = set(0)\n",
    "    q = deque()\n",
    "    q.append(0)\n",
    "    while q:\n",
    "        cur_v = q.popleft()\n",
    "        for v in rooms[cur_v]:\n",
    "            if v not in check:\n",
    "                check.add(v)\n",
    "                q.append(v)\n",
    "    if len(rooms) - 1 =\n",
    "\n",
    "\n",
    "\n",
    "\n",
    "\n",
    "\n",
    "print(checkRooms(rooms = [[1,3], [2,4], [0], [4], [], [3,4]]))\n"
   ]
  },
  {
   "cell_type": "code",
   "execution_count": null,
   "metadata": {},
   "outputs": [],
   "source": []
  }
 ],
 "metadata": {
  "kernelspec": {
   "display_name": "base",
   "language": "python",
   "name": "python3"
  },
  "language_info": {
   "codemirror_mode": {
    "name": "ipython",
    "version": 3
   },
   "file_extension": ".py",
   "mimetype": "text/x-python",
   "name": "python",
   "nbconvert_exporter": "python",
   "pygments_lexer": "ipython3",
   "version": "3.9.7"
  },
  "orig_nbformat": 4
 },
 "nbformat": 4,
 "nbformat_minor": 2
}
