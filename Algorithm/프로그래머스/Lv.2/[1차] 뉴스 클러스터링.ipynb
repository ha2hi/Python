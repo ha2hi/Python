{
 "cells": [
  {
   "cell_type": "code",
   "execution_count": 114,
   "metadata": {},
   "outputs": [
    {
     "data": {
      "text/plain": [
       "65536"
      ]
     },
     "execution_count": 114,
     "metadata": {},
     "output_type": "execute_result"
    }
   ],
   "source": [
    "import re\n",
    "from collections import Counter\n",
    "def solution(str1, str2):\n",
    "    str1 = str1.upper()\n",
    "    str2 = str2.upper()\n",
    "\n",
    "    str1 = [''.join(x) for x in zip(str1, str1[1:])]\n",
    "    str2 = [''.join(x) for x in zip(str2, str2[1:])]\n",
    "    \n",
    "    n_str1 = []\n",
    "    n_str2 = []\n",
    "\n",
    "    for x in str1:\n",
    "        if len(re.findall('[A-Z]', x)) == 2:\n",
    "            n_str1.append(x)\n",
    "\n",
    "    for x in str2:\n",
    "        if len(re.findall('[A-Z]', x)) == 2:\n",
    "            n_str2.append(x)\n",
    "\n",
    "    str1 = Counter(n_str1)\n",
    "    str2 = Counter(n_str2)\n",
    "   \n",
    "    a = sum([x for x in (str1 & str2).values()])\n",
    "    b = sum([x for x in (str1 | str2).values()])\n",
    "    \n",
    "    if a == 0 and b == 0:\n",
    "        return 65536\n",
    "    else:\n",
    "        return int(a/b*65536)\n",
    "    \n",
    "    \n",
    "str1 = \"handshake\"\n",
    "str2 = \"shake hands\"\n",
    "solution(str1, str2)"
   ]
  },
  {
   "cell_type": "code",
   "execution_count": null,
   "metadata": {},
   "outputs": [],
   "source": []
  }
 ],
 "metadata": {
  "kernelspec": {
   "display_name": "base",
   "language": "python",
   "name": "python3"
  },
  "language_info": {
   "codemirror_mode": {
    "name": "ipython",
    "version": 3
   },
   "file_extension": ".py",
   "mimetype": "text/x-python",
   "name": "python",
   "nbconvert_exporter": "python",
   "pygments_lexer": "ipython3",
   "version": "3.9.7"
  }
 },
 "nbformat": 4,
 "nbformat_minor": 2
}
