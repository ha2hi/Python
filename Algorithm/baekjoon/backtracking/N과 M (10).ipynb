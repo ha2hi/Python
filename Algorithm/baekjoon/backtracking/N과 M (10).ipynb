{
 "cells": [
  {
   "cell_type": "code",
   "execution_count": 1,
   "metadata": {},
   "outputs": [
    {
     "name": "stdout",
     "output_type": "stream",
     "text": [
      "1 7\n",
      "1 9\n",
      "7 9\n",
      "9 9\n"
     ]
    }
   ],
   "source": [
    "from collections import defaultdict\n",
    "def dfs(l, s):\n",
    "    global ans\n",
    "    if l == m:\n",
    "        ans[' '.join(map(str, res))] += 1\n",
    "        return\n",
    "    else:\n",
    "        for i in range(s+1, n):\n",
    "            res[l] = arr[i]\n",
    "            dfs(l+1, s+1)\n",
    "            s += 1\n",
    "\n",
    "\n",
    "n, m = map(int, input().split())\n",
    "arr = sorted(list(map(int, input().split())))\n",
    "res = [0] * m\n",
    "ans = defaultdict(int)\n",
    "dfs(0,-1)\n",
    "\n",
    "for x in ans.keys():\n",
    "    print(x)"
   ]
  },
  {
   "cell_type": "code",
   "execution_count": null,
   "metadata": {},
   "outputs": [],
   "source": []
  }
 ],
 "metadata": {
  "kernelspec": {
   "display_name": "base",
   "language": "python",
   "name": "python3"
  },
  "language_info": {
   "codemirror_mode": {
    "name": "ipython",
    "version": 3
   },
   "file_extension": ".py",
   "mimetype": "text/x-python",
   "name": "python",
   "nbconvert_exporter": "python",
   "pygments_lexer": "ipython3",
   "version": "3.9.7"
  }
 },
 "nbformat": 4,
 "nbformat_minor": 2
}
