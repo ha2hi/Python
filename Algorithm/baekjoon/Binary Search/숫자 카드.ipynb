{
 "cells": [
  {
   "cell_type": "code",
   "execution_count": 1,
   "metadata": {},
   "outputs": [
    {
     "name": "stdout",
     "output_type": "stream",
     "text": [
      "[1, 0, 0, 1, 1, 0, 0, 1]\n"
     ]
    }
   ],
   "source": [
    "# https://www.acmicpc.net/problem/10815\n",
    "n = int(input())\n",
    "cards = set(list(map(int, input().split())))\n",
    "m = int(input())\n",
    "res = [0] * m\n",
    "check = list(map(int, input().split()))\n",
    "\n",
    "for i in range(m):\n",
    "    if check[i] in cards:\n",
    "        res[i] = 1\n",
    "    else:\n",
    "        res[i] = 0\n",
    "print(*res)"
   ]
  },
  {
   "cell_type": "code",
   "execution_count": null,
   "metadata": {},
   "outputs": [],
   "source": []
  },
  {
   "cell_type": "code",
   "execution_count": null,
   "metadata": {},
   "outputs": [],
   "source": []
  }
 ],
 "metadata": {
  "kernelspec": {
   "display_name": "base",
   "language": "python",
   "name": "python3"
  },
  "language_info": {
   "codemirror_mode": {
    "name": "ipython",
    "version": 3
   },
   "file_extension": ".py",
   "mimetype": "text/x-python",
   "name": "python",
   "nbconvert_exporter": "python",
   "pygments_lexer": "ipython3",
   "version": "3.9.7"
  }
 },
 "nbformat": 4,
 "nbformat_minor": 2
}
