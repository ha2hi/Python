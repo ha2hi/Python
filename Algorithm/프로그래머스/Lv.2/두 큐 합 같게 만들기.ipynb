{
 "cells": [
  {
   "cell_type": "code",
   "execution_count": 33,
   "metadata": {},
   "outputs": [
    {
     "data": {
      "text/plain": [
       "2"
      ]
     },
     "execution_count": 33,
     "metadata": {},
     "output_type": "execute_result"
    }
   ],
   "source": [
    "# https://school.programmers.co.kr/learn/courses/30/lessons/118667\n",
    "from collections import deque\n",
    "def solution(queue1, queue2):\n",
    "    q1 = deque(queue1)\n",
    "    q2 = deque(queue2)\n",
    "    sum1, sum2 = sum(q1), sum(q2)\n",
    "    total = sum1 + sum2\n",
    "    if total % 2 == 1:\n",
    "        return -1\n",
    "    limit = len(q1) * 4\n",
    "    res = 0\n",
    "    while True:\n",
    "        if sum1 > sum2:\n",
    "            tmp = q1.popleft()\n",
    "            q2.append(tmp)\n",
    "            sum1 -= tmp\n",
    "            sum2 += tmp\n",
    "            res += 1\n",
    "        elif sum1 < sum2:\n",
    "            tmp = q2.popleft()\n",
    "            q1.append(tmp)\n",
    "            sum2 -= tmp\n",
    "            sum1 += tmp\n",
    "            res += 1\n",
    "        else:\n",
    "            return res\n",
    "        if res >= limit:\n",
    "            return -1\n",
    "queue1 = [3, 2, 7, 2]\n",
    "queue2 = [4, 6, 5, 1]\n",
    "solution(queue1, queue2)"
   ]
  },
  {
   "cell_type": "code",
   "execution_count": 29,
   "metadata": {},
   "outputs": [],
   "source": [
    "a, b = 0, 1\n",
    "while a != 0 and b != 0:\n",
    "    print(b)\n",
    "    b -= 1"
   ]
  },
  {
   "cell_type": "code",
   "execution_count": null,
   "metadata": {},
   "outputs": [],
   "source": []
  }
 ],
 "metadata": {
  "kernelspec": {
   "display_name": "base",
   "language": "python",
   "name": "python3"
  },
  "language_info": {
   "codemirror_mode": {
    "name": "ipython",
    "version": 3
   },
   "file_extension": ".py",
   "mimetype": "text/x-python",
   "name": "python",
   "nbconvert_exporter": "python",
   "pygments_lexer": "ipython3",
   "version": "3.9.7"
  }
 },
 "nbformat": 4,
 "nbformat_minor": 2
}
