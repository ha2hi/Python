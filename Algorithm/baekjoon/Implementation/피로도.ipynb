{
 "cells": [
  {
   "cell_type": "code",
   "execution_count": 1,
   "metadata": {},
   "outputs": [
    {
     "name": "stdout",
     "output_type": "stream",
     "text": [
      "24\n"
     ]
    }
   ],
   "source": [
    "# https://www.acmicpc.net/problem/22864\n",
    "a, b, c, m = map(int, input().split())\n",
    "now_pirodo = 0\n",
    "res = 0\n",
    "i = 0\n",
    "while i != 24:\n",
    "    if now_pirodo + a <= m:\n",
    "        now_pirodo += a\n",
    "        res += b\n",
    "    else:\n",
    "        now_pirodo = now_pirodo-c if now_pirodo-c > 0 else 0\n",
    "\n",
    "    i += 1\n",
    "print(res)"
   ]
  },
  {
   "cell_type": "code",
   "execution_count": null,
   "metadata": {},
   "outputs": [],
   "source": []
  }
 ],
 "metadata": {
  "kernelspec": {
   "display_name": "base",
   "language": "python",
   "name": "python3"
  },
  "language_info": {
   "codemirror_mode": {
    "name": "ipython",
    "version": 3
   },
   "file_extension": ".py",
   "mimetype": "text/x-python",
   "name": "python",
   "nbconvert_exporter": "python",
   "pygments_lexer": "ipython3",
   "version": "3.9.7"
  }
 },
 "nbformat": 4,
 "nbformat_minor": 2
}
