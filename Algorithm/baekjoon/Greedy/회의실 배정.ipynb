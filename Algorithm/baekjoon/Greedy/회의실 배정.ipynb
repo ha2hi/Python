{
 "cells": [
  {
   "cell_type": "code",
   "execution_count": 4,
   "metadata": {},
   "outputs": [
    {
     "data": {
      "text/plain": [
       "4"
      ]
     },
     "execution_count": 4,
     "metadata": {},
     "output_type": "execute_result"
    }
   ],
   "source": [
    "# https://www.acmicpc.net/problem/1931\n",
    "def solution(n, a):\n",
    "    a.sort(key = lambda x : (x[1], x[0]))\n",
    "    res, e_t = 1, a[0][1]\n",
    "    for i in range(1, n):\n",
    "        if a[i][0] >= e_t:\n",
    "            e_t = a[i][1]\n",
    "            res += 1\n",
    "\n",
    "    return res\n",
    "\n",
    "n = int(input())\n",
    "a = []\n",
    "for _ in range(n):\n",
    "    x, y = map(int, input().split())\n",
    "    a.append((x,y))\n",
    "\n",
    "print(solution(n, a))"
   ]
  },
  {
   "cell_type": "code",
   "execution_count": null,
   "metadata": {},
   "outputs": [],
   "source": []
  }
 ],
 "metadata": {
  "kernelspec": {
   "display_name": "base",
   "language": "python",
   "name": "python3"
  },
  "language_info": {
   "codemirror_mode": {
    "name": "ipython",
    "version": 3
   },
   "file_extension": ".py",
   "mimetype": "text/x-python",
   "name": "python",
   "nbconvert_exporter": "python",
   "pygments_lexer": "ipython3",
   "version": "3.9.7"
  }
 },
 "nbformat": 4,
 "nbformat_minor": 2
}
