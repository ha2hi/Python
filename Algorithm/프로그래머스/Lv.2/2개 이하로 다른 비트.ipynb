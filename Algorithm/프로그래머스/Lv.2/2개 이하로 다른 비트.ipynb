{
 "cells": [
  {
   "cell_type": "code",
   "execution_count": 113,
   "metadata": {},
   "outputs": [
    {
     "data": {
      "text/plain": [
       "[3, 11]"
      ]
     },
     "execution_count": 113,
     "metadata": {},
     "output_type": "execute_result"
    }
   ],
   "source": [
    "# https://school.programmers.co.kr/learn/courses/30/lessons/77885\n",
    "def solution(numbers):\n",
    "    res = []\n",
    "    for number in numbers:\n",
    "        bin_num = list('0' + bin(number)[2:])\n",
    "        idx = ''.join(bin_num).rfind('0')\n",
    "        bin_num[idx] = '1'\n",
    "        if number % 2 == 1:\n",
    "            bin_num[idx+1] = '0'\n",
    "        res.append(int(''.join(bin_num),2))\n",
    "    return res\n",
    "    \n",
    "\n",
    "numbers = [2,7]\n",
    "solution(numbers)"
   ]
  },
  {
   "cell_type": "code",
   "execution_count": null,
   "metadata": {},
   "outputs": [],
   "source": []
  }
 ],
 "metadata": {
  "kernelspec": {
   "display_name": "base",
   "language": "python",
   "name": "python3"
  },
  "language_info": {
   "codemirror_mode": {
    "name": "ipython",
    "version": 3
   },
   "file_extension": ".py",
   "mimetype": "text/x-python",
   "name": "python",
   "nbconvert_exporter": "python",
   "pygments_lexer": "ipython3",
   "version": "3.9.7"
  }
 },
 "nbformat": 4,
 "nbformat_minor": 2
}
