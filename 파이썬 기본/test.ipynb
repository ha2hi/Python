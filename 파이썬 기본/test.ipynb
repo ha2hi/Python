{
 "cells": [
  {
   "cell_type": "code",
   "execution_count": 22,
   "metadata": {},
   "outputs": [
    {
     "data": {
      "text/plain": [
       "False"
      ]
     },
     "execution_count": 22,
     "metadata": {},
     "output_type": "execute_result"
    }
   ],
   "source": [
    "class Solution:\n",
    "    def isValid(self, s: str) -> bool:\n",
    "        stack = []\n",
    "        for x in s:\n",
    "            if x in {'(', '{', '['}:\n",
    "                stack.append(x)\n",
    "            elif x == ')':\n",
    "                if not stack or stack[-1] != '(':\n",
    "                    return False\n",
    "                else:\n",
    "                    stack.pop()\n",
    "            elif x == '}':\n",
    "                if not stack or stack[-1] != '{':\n",
    "                    return False\n",
    "                else:\n",
    "                    stack.pop()\n",
    "            elif x == ']':\n",
    "                if not stack or stack[-1] != '[':\n",
    "                    return False\n",
    "                else:\n",
    "                    stack.pop()\n",
    "        if stack:\n",
    "            return False\n",
    "        else:\n",
    "            return True\n",
    "\n",
    "Solution().isValid(s=\"]\")"
   ]
  },
  {
   "cell_type": "code",
   "execution_count": null,
   "metadata": {},
   "outputs": [],
   "source": []
  }
 ],
 "metadata": {
  "kernelspec": {
   "display_name": "base",
   "language": "python",
   "name": "python3"
  },
  "language_info": {
   "codemirror_mode": {
    "name": "ipython",
    "version": 3
   },
   "file_extension": ".py",
   "mimetype": "text/x-python",
   "name": "python",
   "nbconvert_exporter": "python",
   "pygments_lexer": "ipython3",
   "version": "3.9.7"
  },
  "orig_nbformat": 4
 },
 "nbformat": 4,
 "nbformat_minor": 2
}
