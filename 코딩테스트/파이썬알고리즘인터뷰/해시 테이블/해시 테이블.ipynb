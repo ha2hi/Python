{
 "cells": [
  {
   "cell_type": "markdown",
   "metadata": {},
   "source": [
    "### 해시맵 디자인\n",
    "https://leetcode.com/problems/design-hashmap/\n",
    "\n",
    "다음의 기능을 제공하는 해시맵을 디자인하라.\n",
    "- put(key, value) : 키, 값을 해시맵에 삽입한다. 만약 이미 존재하는 키라면 업데이트한다.\n",
    "- get(key) : 키에 해당하는 값을 조회한다. 만약 키가 존재하지 않는 다면 -1을 리턴한다.\n",
    "- remove(key) : 키에 해당하는 키, 값을 해시맵에서 삭제한다."
   ]
  },
  {
   "cell_type": "code",
   "execution_count": null,
   "metadata": {},
   "outputs": [],
   "source": [
    "# 체이닝 방식 : 해시가 같은 경우에 링크드리스트로 구현\n",
    "from collections import defaultdict\n",
    "class ListNode:\n",
    "    def __init__(self, key=Node, value=None):\n",
    "        self.key = key\n",
    "        self.value = value\n",
    "        self.next = None\n",
    "\n",
    "class MyHashMap:\n",
    "\n",
    "    def __init__(self):\n",
    "        self.size = 1000\n",
    "        self.table = defaultdict(ListNode)\n",
    "\n",
    "    def put(self, key: int, value: int) -> None:\n",
    "        index = key % self.size\n",
    "        # 인덱스에 노드가 없다면 삽입 후 종료\n",
    "        if self.table[index].value is None:\n",
    "            self.table[index] = ListNode(key, value)\n",
    "            return\n",
    "\n",
    "        # 인덱스에 노드가 존재하는 경우 링크드 리스트 처리\n",
    "        p = self.table[index]\n",
    "        while p:\n",
    "            if p.key == key:\n",
    "                p.vaule = value\n",
    "                return\n",
    "            if p.next is None:\n",
    "                break\n",
    "            p = p.next\n",
    "        p.next = ListNode(key, value)        \n",
    "\n",
    "    def get(self, key: int) -> int:\n",
    "        index = key % self.size\n",
    "        if self.table[index].value is None:\n",
    "            return -1\n",
    "        p = self.table[index]\n",
    "        while p:\n",
    "            if p.key = key:\n",
    "                return p.value\n",
    "            p = p.next\n",
    "        return -1\n",
    "\n",
    "    def remove(self, key: int) -> None:\n",
    "        index = key % self.size\n",
    "        if self.table[index].value is None:\n",
    "            return -1\n",
    "\n",
    "        p = self.table[index]\n",
    "        if p.key == key:\n",
    "            self.table[index] = ListNode() if p.next is None else p.next\n",
    "            return\n",
    "        \n",
    "        prev = p\n",
    "        while p:\n",
    "            if p.key == key:\n",
    "                prev.next = p.next\n",
    "                return\n",
    "            prev, p = p, p.next"
   ]
  },
  {
   "cell_type": "markdown",
   "metadata": {},
   "source": [
    "### 보석과 돌\n",
    "https://leetcode.com/problems/jewels-and-stones/\n",
    "\n",
    "J는 보석이며, S는 갖고 있는 돌이다. S에는 보석이 몇 개나 있을까? 대소문자는 구분한다.\n",
    "- 입력\n",
    "    - jewels = \"aA\", stones = \"aAAbbbb\"\n",
    "- 출력\n",
    "    - 3"
   ]
  },
  {
   "cell_type": "code",
   "execution_count": 8,
   "metadata": {},
   "outputs": [
    {
     "data": {
      "text/plain": [
       "3"
      ]
     },
     "execution_count": 8,
     "metadata": {},
     "output_type": "execute_result"
    }
   ],
   "source": [
    "from collections import Counter\n",
    "class Solution:\n",
    "    def numJewelsInStones(self, jewels: str, stones: str) -> int:\n",
    "        counter = Counter(stones)\n",
    "        return sum([counter[jewel] for jewel in jewels])\n",
    "\n",
    "Solution().numJewelsInStones(\"aA\", \"aAAbbbb\")"
   ]
  },
  {
   "cell_type": "code",
   "execution_count": 12,
   "metadata": {},
   "outputs": [
    {
     "data": {
      "text/plain": [
       "3"
      ]
     },
     "execution_count": 12,
     "metadata": {},
     "output_type": "execute_result"
    }
   ],
   "source": [
    "class Solution:\n",
    "    def numJewelsInStones(self, jewels: str, stones: str) -> int:\n",
    "        return sum(stone in jewels for stone in stones)\n",
    "\n",
    "Solution().numJewelsInStones(\"aA\", \"aAAbbbb\")"
   ]
  },
  {
   "cell_type": "markdown",
   "metadata": {},
   "source": [
    "### 중복 문자 없는 가장 긴 부분 문자열\n",
    "https://leetcode.com/problems/longest-substring-without-repeating-characters/description/\n",
    "\n",
    "- 입력\n",
    "  - s = \"abcabcbb\"\n",
    "- 출력\n",
    "  - 3\n",
    "- 입력\n",
    "  - s = \"bbbbb\"\n",
    "- 출력\n",
    "  - 1\n",
    "- 입력\n",
    "  - s = \"pwwkew\"\n",
    "- 출력\n",
    "  - 3"
   ]
  },
  {
   "cell_type": "code",
   "execution_count": 20,
   "metadata": {},
   "outputs": [
    {
     "data": {
      "text/plain": [
       "3"
      ]
     },
     "execution_count": 20,
     "metadata": {},
     "output_type": "execute_result"
    }
   ],
   "source": [
    "class Solution:\n",
    "    def lengthOfLongestSubstring(self, s: str) -> int:\n",
    "        used = {}\n",
    "        max_length = start = 0\n",
    "        for i, char in enumerate(s):\n",
    "            if char in used and start <= used[char]:\n",
    "                start = used[char] + 1\n",
    "            else:\n",
    "                max_length = max(max_length, i - start + 1)\n",
    "            used[char] = i\n",
    "\n",
    "        return max_length\n",
    "\n",
    "Solution().lengthOfLongestSubstring(s = \"dvdf\")\n",
    "        "
   ]
  },
  {
   "cell_type": "code",
   "execution_count": null,
   "metadata": {},
   "outputs": [],
   "source": []
  },
  {
   "cell_type": "markdown",
   "metadata": {},
   "source": [
    "### 상위 K빈도 요소\n",
    "https://leetcode.com/problems/top-k-frequent-elements/description/\n",
    "\n",
    "K번 이상 등장하는 요소를 추출하라.\n",
    "- 입력\n",
    "  - nums = [1,1,1,2,2,3], k = 2\n",
    "- 출력\n",
    "  - [1,2]"
   ]
  },
  {
   "cell_type": "code",
   "execution_count": 31,
   "metadata": {},
   "outputs": [
    {
     "data": {
      "text/plain": [
       "(1, 2)"
      ]
     },
     "execution_count": 31,
     "metadata": {},
     "output_type": "execute_result"
    }
   ],
   "source": [
    "from typing import List\n",
    "from collections import Counter\n",
    "class Solution:\n",
    "    def topKFrequent(self, nums: List[int], k: int) -> List[int]:\n",
    "        return list(zip(*Counter(nums).most_common(k)))[0]\n",
    "\n",
    "\n",
    "Solution().topKFrequent(nums=[1,2], k = 2)"
   ]
  },
  {
   "cell_type": "code",
   "execution_count": null,
   "metadata": {},
   "outputs": [],
   "source": []
  }
 ],
 "metadata": {
  "kernelspec": {
   "display_name": "base",
   "language": "python",
   "name": "python3"
  },
  "language_info": {
   "codemirror_mode": {
    "name": "ipython",
    "version": 3
   },
   "file_extension": ".py",
   "mimetype": "text/x-python",
   "name": "python",
   "nbconvert_exporter": "python",
   "pygments_lexer": "ipython3",
   "version": "3.9.7"
  }
 },
 "nbformat": 4,
 "nbformat_minor": 2
}
