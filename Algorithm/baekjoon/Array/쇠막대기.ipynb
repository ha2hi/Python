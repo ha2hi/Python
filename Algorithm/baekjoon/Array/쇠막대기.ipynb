{
 "cells": [
  {
   "cell_type": "code",
   "execution_count": 19,
   "metadata": {},
   "outputs": [
    {
     "name": "stdout",
     "output_type": "stream",
     "text": [
      "17\n"
     ]
    }
   ],
   "source": [
    "# https://www.acmicpc.net/problem/10799\n",
    "k = '()(((()())(())()))(())'\n",
    "stack = []\n",
    "res = 0\n",
    "for i in range(len(k)):\n",
    "    if k[i] == '(':\n",
    "        stack.append('(')\n",
    "    else:\n",
    "        if k[i-1] == '(':\n",
    "            stack.pop()\n",
    "            res += len(stack)\n",
    "        else:\n",
    "            stack.pop()\n",
    "            res += 1\n",
    "print(res)\n"
   ]
  },
  {
   "cell_type": "code",
   "execution_count": null,
   "metadata": {},
   "outputs": [],
   "source": []
  }
 ],
 "metadata": {
  "kernelspec": {
   "display_name": "base",
   "language": "python",
   "name": "python3"
  },
  "language_info": {
   "codemirror_mode": {
    "name": "ipython",
    "version": 3
   },
   "file_extension": ".py",
   "mimetype": "text/x-python",
   "name": "python",
   "nbconvert_exporter": "python",
   "pygments_lexer": "ipython3",
   "version": "3.9.7"
  }
 },
 "nbformat": 4,
 "nbformat_minor": 2
}
