{
 "cells": [
  {
   "cell_type": "code",
   "execution_count": null,
   "metadata": {},
   "outputs": [],
   "source": [
    "# https://www.acmicpc.net/problem/1926\n",
    "from collections import deque\n",
    "n, m = map(int, input().split())\n",
    "board = [list(map(int, input().split())) for _ in range(n)]\n",
    "ch = [[False]*m for _ in range(n)]\n",
    "dx = [-1,0,1,0]\n",
    "dy = [0,1,0,-1]\n",
    "\n",
    "cnt, max_weight = 0, 0\n",
    "for i in range(n):\n",
    "    for j in range(m):\n",
    "        if board[i][j] == 1 and not ch[i][j]:\n",
    "            q = deque([(i,j)])\n",
    "            ch[i][j] = True\n",
    "            cnt += 1\n",
    "            tmp = 1\n",
    "            while q:\n",
    "                x, y = q.popleft()\n",
    "                for k in range(4):\n",
    "                    xx = x + dx[k]\n",
    "                    yy = y + dy[k]\n",
    "                    if 0<=xx<n and 0<=yy<m and board[xx][yy] and not ch[xx][yy]:\n",
    "                        ch[xx][yy] = True\n",
    "                        q.append((xx,yy))\n",
    "                        tmp += 1\n",
    "\n",
    "            max_weight = max(max_weight, tmp)\n",
    "\n",
    "print(cnt)\n",
    "print(max_weight)"
   ]
  },
  {
   "cell_type": "code",
   "execution_count": null,
   "metadata": {},
   "outputs": [],
   "source": []
  }
 ],
 "metadata": {
  "language_info": {
   "name": "python"
  }
 },
 "nbformat": 4,
 "nbformat_minor": 2
}
