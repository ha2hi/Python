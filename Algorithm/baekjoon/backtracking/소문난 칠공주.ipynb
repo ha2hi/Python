{
 "cells": [
  {
   "cell_type": "code",
   "execution_count": null,
   "metadata": {},
   "outputs": [],
   "source": [
    "# https://www.acmicpc.net/problem/1941\n",
    "from collections import deque\n",
    "def bfs(s_x, s_y):\n",
    "    q = deque()\n",
    "    visited = [[0] * 5 for _ in range(5)]\n",
    "    q.append((s_x, s_y))\n",
    "    visited[s_x][s_y] = 1\n",
    "    cnt = 1\n",
    "    dx = [0,1,0,-1]\n",
    "    dy = [-1,0,1,0]\n",
    "    while q:\n",
    "        c_x, c_y = q.popleft()\n",
    "        for i in range(4):\n",
    "            n_x = c_x + dx[i]\n",
    "            n_y = c_y + dy[i]\n",
    "            if 0<=n_x<5 and 0<=n_y<5 and visited[n_x][n_y] == 0 and arr[n_x][n_y] == 1:\n",
    "                visited[n_x][n_y] = 1\n",
    "                cnt += 1\n",
    "                q.append((n_x, n_y))\n",
    "                \n",
    "    return cnt == 7\n",
    "\n",
    "def check():\n",
    "    for i in range(5):\n",
    "        for j in range(5):\n",
    "            if arr[i][j] == 1:\n",
    "                return bfs(i,j)\n",
    "\n",
    "def dfs(n, cnt, scnt):\n",
    "    global ans\n",
    "    if cnt >7:\n",
    "        return\n",
    "\n",
    "    if n == 25:\n",
    "        if cnt == 7 and scnt>=4:\n",
    "            if check():\n",
    "                ans += 1\n",
    "        return\n",
    "        \n",
    "    else:\n",
    "        arr[n//5][n%5] = 1\n",
    "        dfs(n+1, cnt+1, scnt+int(board[n//5][n%5]=='S'))\n",
    "        arr[n//5][n%5] = 0\n",
    "        dfs(n+1, cnt, scnt)\n",
    "\n",
    "board = [input() for _ in range(5)]\n",
    "ans = 0\n",
    "arr = [[0]*5 for _ in range(5)]\n",
    "dfs(0, 0, 0)\n",
    "print(ans)"
   ]
  },
  {
   "cell_type": "code",
   "execution_count": null,
   "metadata": {},
   "outputs": [],
   "source": []
  }
 ],
 "metadata": {
  "language_info": {
   "name": "python"
  }
 },
 "nbformat": 4,
 "nbformat_minor": 2
}
