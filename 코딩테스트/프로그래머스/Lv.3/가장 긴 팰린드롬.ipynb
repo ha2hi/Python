{
 "cells": [
  {
   "cell_type": "code",
   "execution_count": 5,
   "metadata": {},
   "outputs": [
    {
     "data": {
      "text/plain": [
       "1"
      ]
     },
     "execution_count": 5,
     "metadata": {},
     "output_type": "execute_result"
    }
   ],
   "source": [
    "def solution(s):\n",
    "    def expand(left, right):\n",
    "        while left >= 0 and right < len(s) and s[left] == s[right]:\n",
    "            left -= 1\n",
    "            right += 1\n",
    "        return s[left+1:right]\n",
    "    \n",
    "    \n",
    "    if len(s) < 2 and s == s[::-1]:\n",
    "        return len(s)\n",
    "    \n",
    "    res = ''\n",
    "    for i in range(len(s)-1):\n",
    "        res = max(res, expand(i, i+1), expand(i, i+2), key = len)\n",
    "    return len(res)\n",
    "\n",
    "\n",
    "s = \"a\"\n",
    "solution(s)"
   ]
  },
  {
   "cell_type": "code",
   "execution_count": null,
   "metadata": {},
   "outputs": [],
   "source": []
  },
  {
   "cell_type": "code",
   "execution_count": null,
   "metadata": {},
   "outputs": [],
   "source": []
  }
 ],
 "metadata": {
  "kernelspec": {
   "display_name": "base",
   "language": "python",
   "name": "python3"
  },
  "language_info": {
   "codemirror_mode": {
    "name": "ipython",
    "version": 3
   },
   "file_extension": ".py",
   "mimetype": "text/x-python",
   "name": "python",
   "nbconvert_exporter": "python",
   "pygments_lexer": "ipython3",
   "version": "3.9.7"
  }
 },
 "nbformat": 4,
 "nbformat_minor": 2
}
