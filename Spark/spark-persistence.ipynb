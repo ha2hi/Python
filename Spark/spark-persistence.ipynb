{
 "cells": [
  {
   "cell_type": "code",
   "execution_count": 1,
   "metadata": {},
   "outputs": [
    {
     "name": "stderr",
     "output_type": "stream",
     "text": [
      "24/08/12 15:22:49 WARN Utils: Your hostname, MZC01-HYUCKSANGCHO.local resolves to a loopback address: 127.0.0.1; using 10.90.11.150 instead (on interface en0)\n",
      "24/08/12 15:22:49 WARN Utils: Set SPARK_LOCAL_IP if you need to bind to another address\n",
      "Setting default log level to \"WARN\".\n",
      "To adjust logging level use sc.setLogLevel(newLevel). For SparkR, use setLogLevel(newLevel).\n",
      "24/08/12 15:22:50 WARN NativeCodeLoader: Unable to load native-hadoop library for your platform... using builtin-java classes where applicable\n",
      "24/08/12 15:22:51 WARN Utils: Service 'SparkUI' could not bind on port 4040. Attempting port 4041.\n"
     ]
    }
   ],
   "source": [
    "from pyspark.sql import SparkSession, Row\n",
    "from pyspark import SparkConf, SparkContext\n",
    "from pyspark.sql.types import *\n",
    "from pyspark.sql.functions import *\n",
    "from pyspark.sql.window import Window\n",
    "\n",
    "spark = SparkSession.builder.master(\"local\").appName(\"spark-persistence\").getOrCreate()"
   ]
  },
  {
   "cell_type": "markdown",
   "metadata": {},
   "source": [
    "### CSV & JSON"
   ]
  },
  {
   "cell_type": "code",
   "execution_count": 9,
   "metadata": {},
   "outputs": [
    {
     "name": "stdout",
     "output_type": "stream",
     "text": [
      "+------+--------------------+--------------+------------+--------------------+--------------------+--------------------+--------------------+-------------------+---------------------+--------------------+--------------------+--------------------+--------------------+--------------------+-------------+----------+--------------------+--------------+-------+--------------------+-------------------+----------+--------------------+--------------------+------------------+------------------+--------------------+-----------------+--------------------+--------------------+------------------+-------------------+-------------------------+--------------------+--------------------+----------------------+--------------------+---------------+----------------------+----------------------------+---------+-----+-------+------+--------------+------------+-------------+--------+----------+-----------------+-------------+---------------+------------+---------+--------+----+--------+--------------------+-----------+-------+------------+-------------+----------------+------------+---------------+------------+--------------+--------------+----------------------+----------------------+----------------------+----------------------+----------------------+----------------------+----------------+----------------+---------------+---------------+---------------+----------------+---------------------+-----------------+---------------------+------------+-----------+--------------------+----------------------+-------------------------+---------------------+---------------------------+----------------------+-------------------+----------------+--------------------+--------------------+----------------+------------------------+--------------------+-----------------------------+--------------------------------+------------------------------+-------------------------------------------+--------------------------------------------+-------------------------------------------+-----------------+\n",
      "|    id|         listing_url|     scrape_id|last_scraped|                name|             summary|               space|         description|experiences_offered|neighborhood_overview|               notes|             transit|              access|         interaction|         house_rules|thumbnail_url|medium_url|         picture_url|xl_picture_url|host_id|            host_url|          host_name|host_since|       host_location|          host_about|host_response_time|host_response_rate|host_acceptance_rate|host_is_superhost|  host_thumbnail_url|    host_picture_url|host_neighbourhood|host_listings_count|host_total_listings_count|  host_verifications|host_has_profile_pic|host_identity_verified|              street|  neighbourhood|neighbourhood_cleansed|neighbourhood_group_cleansed|     city|state|zipcode|market|smart_location|country_code|      country|latitude| longitude|is_location_exact|property_type|      room_type|accommodates|bathrooms|bedrooms|beds|bed_type|           amenities|square_feet|  price|weekly_price|monthly_price|security_deposit|cleaning_fee|guests_included|extra_people|minimum_nights|maximum_nights|minimum_minimum_nights|maximum_minimum_nights|minimum_maximum_nights|maximum_maximum_nights|minimum_nights_avg_ntm|maximum_nights_avg_ntm|calendar_updated|has_availability|availability_30|availability_60|availability_90|availability_365|calendar_last_scraped|number_of_reviews|number_of_reviews_ltm|first_review|last_review|review_scores_rating|review_scores_accuracy|review_scores_cleanliness|review_scores_checkin|review_scores_communication|review_scores_location|review_scores_value|requires_license|             license|  jurisdiction_names|instant_bookable|is_business_travel_ready| cancellation_policy|require_guest_profile_picture|require_guest_phone_verification|calculated_host_listings_count|calculated_host_listings_count_entire_homes|calculated_host_listings_count_private_rooms|calculated_host_listings_count_shared_rooms|reviews_per_month|\n",
      "+------+--------------------+--------------+------------+--------------------+--------------------+--------------------+--------------------+-------------------+---------------------+--------------------+--------------------+--------------------+--------------------+--------------------+-------------+----------+--------------------+--------------+-------+--------------------+-------------------+----------+--------------------+--------------------+------------------+------------------+--------------------+-----------------+--------------------+--------------------+------------------+-------------------+-------------------------+--------------------+--------------------+----------------------+--------------------+---------------+----------------------+----------------------------+---------+-----+-------+------+--------------+------------+-------------+--------+----------+-----------------+-------------+---------------+------------+---------+--------+----+--------+--------------------+-----------+-------+------------+-------------+----------------+------------+---------------+------------+--------------+--------------+----------------------+----------------------+----------------------+----------------------+----------------------+----------------------+----------------+----------------+---------------+---------------+---------------+----------------+---------------------+-----------------+---------------------+------------+-----------+--------------------+----------------------+-------------------------+---------------------+---------------------------+----------------------+-------------------+----------------+--------------------+--------------------+----------------+------------------------+--------------------+-----------------------------+--------------------------------+------------------------------+-------------------------------------------+--------------------------------------------+-------------------------------------------+-----------------+\n",
      "|   360|https://www.airbn...|20191129210509|  2019-11-30|LoHi Secret garde...|Come enjoy our oa...|Chickadee Cottage...|Come enjoy our oa...|               none| those who are int...|WIFI:  Once  you ...|there are several...|Chickadee is the ...|We live on the pr...|NUMBER ONE HOUSE ...|         null|      null|https://a0.muscac...|          null|    666|https://www.airbn...|Jennifer & Giovanni|2008-07-08|Denver, Colorado,...|We are artists an...|    within an hour|              100%|                 N/A|                t|https://a0.muscac...|https://a0.muscac...|          Highland|                  3|                        3|['email', 'phone'...|                   t|                     t|Denver, CO, Unite...|       Highland|              Highland|                        null|   Denver|   CO|  80211|Denver|    Denver, CO|          US|United States|39.76703|-105.00256|                t|   Guesthouse|Entire home/apt|           4|      1.0|       2|   3|   Futon|{TV,Wifi,\"Air con...|       null|$140.00|        null|         null|         $150.00|      $40.00|              2|      $15.00|             1|            29|                     1|                     2|                    29|                    29|                   1.1|                  29.0|     2 weeks ago|               t|             21|             45|             69|             325|           2019-11-30|               95|                   62|  2018-08-13| 2019-11-11|                 100|                    10|                       10|                   10|                         10|                    10|                 10|               t|    2017-BFN-0002177|{\"Colorado State\"...|               t|                       f|            moderate|                            t|                               t|                             2|                                          2|                                           0|                                          0|              6.0|\n",
      "|   590|https://www.airbn...|20191129210509|  2019-11-30|Comfortable  - an...|Large guest room ...|I have been enjoy...|Large guest room ...|               none| I love the divers...|Denver (and Color...|The number 20 RTD...|You may make your...|I am happy to int...|                null|         null|      null|https://a0.muscac...|          null|    933|https://www.airbn...|               Jill|2008-07-21|Denver, Colorado,...|I am friendly and...|    within an hour|              100%|                 N/A|                t|https://a0.muscac...|https://a0.muscac...|   North Park Hill|                  2|                        2|['email', 'phone'...|                   t|                     t|Denver, CO, Unite...|North Park Hill|       North Park Hill|                        null|   Denver|   CO|  80207|Denver|    Denver, CO|          US|United States|39.75361|-104.91237|                t|        House|   Private room|           3|      1.0|       1|   1|Real Bed|{Internet,Wifi,\"A...|       null| $61.00|     $375.00|    $1,275.00|            null|      $10.00|              1|       $5.00|             1|           300|                     1|                     1|                   300|                   300|                   1.0|                 300.0|     2 weeks ago|               t|              4|             26|             54|             116|           2019-11-30|              589|                   32|  2009-03-29| 2019-11-18|                  97|                    10|                       10|                   10|                         10|                    10|                 10|               t|    2018-BFN-O0O5791|{\"Colorado State\"...|               f|                       f|            flexible|                            f|                               f|                             2|                                          0|                                           2|                                          0|             4.53|\n",
      "|   592|https://www.airbn...|20191129210509|  2019-11-30|             private|This room is in t...|This is a basemen...|This room is in t...|               none|                 null|Denver (and Color...|It's convenient a...|Access to all pub...|I'm happy to inte...|No smoking in or ...|         null|      null|https://a0.muscac...|          null|    933|https://www.airbn...|               Jill|2008-07-21|Denver, Colorado,...|I am friendly and...|    within an hour|              100%|                 N/A|                t|https://a0.muscac...|https://a0.muscac...|   North Park Hill|                  2|                        2|['email', 'phone'...|                   t|                     t|Denver, CO, Unite...|North Park Hill|       North Park Hill|                        null|   Denver|   CO|  80207|Denver|    Denver, CO|          US|United States|39.75438|-104.91156|                t|        House|   Private room|           2|      1.0|       1|   1|Real Bed|{Internet,Wifi,\"A...|       null| $44.00|     $295.00|      $975.00|            null|      $10.00|              1|       $5.00|             3|           365|                     3|                     3|                   365|                   365|                   3.0|                 365.0|      a week ago|               t|             26|             56|             86|             175|           2019-11-30|              178|                    7|  2009-02-21| 2019-11-19|                  97|                    10|                        9|                   10|                         10|                    10|                 10|               t|    2018-BFN-O0O5791|{\"Colorado State\"...|               f|                       f|            flexible|                            f|                               f|                             2|                                          0|                                           2|                                          0|             1.36|\n",
      "|  1940|https://www.airbn...|20191129210509|  2019-11-30|Baker Studio Clos...|Great place for a...|This newly built,...|Great place for a...|               none| Walking through t...|Reservations less...|RTD bus stop is w...|Guests may enjoy ...|The private studi...|- Absolutely no s...|         null|      null|https://a0.muscac...|          null|   2150|https://www.airbn...|             Joanne|2008-08-16|Denver, Colorado,...|I've had the good...|    within an hour|              100%|                 N/A|                t|https://a0.muscac...|https://a0.muscac...|             Baker|                  3|                        3|['email', 'phone'...|                   t|                     t|Denver, CO, Unite...|          Baker|                 Baker|                        null|   Denver|   CO|  80223|Denver|    Denver, CO|          US|United States|39.71981|-104.99649|                t|   Guesthouse|Entire home/apt|           2|      1.0|       0|   1|Real Bed|{TV,Wifi,\"Air con...|       null| $95.00|        null|         null|         $150.00|      $75.00|              2|     $100.00|             1|           120|                     1|                     1|                  1125|                  1125|                   1.0|                1125.0|     2 weeks ago|               t|              0|              0|              6|              95|           2019-11-30|               46|                   22|  2017-01-24| 2019-11-19|                  99|                    10|                       10|                   10|                         10|                    10|                 10|               t|344114-070056   2...|{\"Colorado State\"...|               f|                       f|strict_14_with_gr...|                            f|                               f|                             1|                                          1|                                           0|                                          0|             1.33|\n",
      "|  2086|https://www.airbn...|20191129210509|  2019-11-30|  Garden Level Condo|A furnished, gard...|Furnished one bed...|A furnished, gard...|               none| restaurants and p...|check in with loc...|Close to bus stop...|You will have the...|We are not living...|HOA rules include...|         null|      null|https://a0.muscac...|          null|   2284|https://www.airbn...|               Katy|2008-08-19|Denver, Colorado,...|I am a corporate ...|    within an hour|              100%|                 N/A|                f|https://a0.muscac...|https://a0.muscac...|              null|                  1|                        1|['email', 'phone'...|                   t|                     t|Denver, CO, Unite...|           Hale|                  Hale|                        null|   Denver|   CO|  80220|Denver|    Denver, CO|          US|United States|39.73996|-104.93173|                t|    Apartment|Entire home/apt|           2|      1.0|       1|   1|Real Bed|{TV,\"Cable TV\",Wi...|       null| $76.00|        null|         null|         $100.00|      $30.00|              1|      $25.00|           180|          1125|                   180|                   180|                  1125|                  1125|                 180.0|                1125.0|   10 months ago|               t|             24|             54|             84|             358|           2019-11-30|               12|                    0|  2018-03-11| 2018-10-21|                  96|                    10|                        9|                   10|                         10|                    10|                 10|               t|                null|{\"Colorado State\"...|               f|                       f|strict_14_with_gr...|                            f|                               f|                             1|                                          1|                                           0|                                          0|             0.57|\n",
      "| 31503|https://www.airbn...|20191129210509|  2019-11-30|Highland Park Gue...|                null|Highland Park Gue...|Highland Park Gue...|               none|                 null|                null|                null|                null|                null|As a clarificatio...|         null|      null|https://a0.muscac...|          null| 135298|https://www.airbn...|               Rick|2010-05-30|Denver, Colorado,...|We are world trav...|    within an hour|              100%|                 N/A|                t|https://a0.muscac...|https://a0.muscac...|     West Highland|                  1|                        1|['email', 'phone'...|                   t|                     t|Denver, CO, Unite...|  West Highland|         West Highland|                        null|   Denver|   CO|  80211|Denver|    Denver, CO|          US|United States|39.76216|-105.02866|                t|  Guest suite|Entire home/apt|           2|      1.0|       1|   1|Real Bed|{TV,\"Cable TV\",In...|       null|$110.00|        null|    $1,820.00|           $0.00|       $0.00|              2|     $100.00|             3|           730|                     3|                     3|                   730|                   730|                   3.0|                 730.0|      a week ago|               t|             10|             40|             66|             341|           2019-11-30|               70|                   22|  2010-09-10| 2019-09-20|                  98|                    10|                       10|                   10|                         10|                    10|                 10|               t|    2017-BFN-0000403|{\"Colorado State\"...|               t|                       f|            moderate|                            f|                               f|                             1|                                          1|                                           0|                                          0|             0.62|\n",
      "| 39405|https://www.airbn...|20191129210509|  2019-11-30|LoHi Secret garde...|Come enjoy our oa...|LOCATION:  the co...|Come enjoy our oa...|               none| those who are int...|WIFI:  Once  you ...|there are several...|Mulberry is the m...|We live on the pr...|NUMBER ONE HOUSE ...|         null|      null|https://a0.muscac...|          null|    666|https://www.airbn...|Jennifer & Giovanni|2008-07-08|Denver, Colorado,...|We are artists an...|    within an hour|              100%|                 N/A|                t|https://a0.muscac...|https://a0.muscac...|          Highland|                  3|                        3|['email', 'phone'...|                   t|                     t|Denver, CO, Unite...|       Highland|              Highland|                        null|   Denver|   CO|  80211|Denver|    Denver, CO|          US|United States|39.76588|-105.00545|                t|      Cottage|Entire home/apt|           2|      1.0|       1|   2|Real Bed|{TV,\"Cable TV\",Wi...|        300|$111.00|     $649.00|    $2,200.00|         $150.00|      $35.00|              2|      $20.00|             1|            29|                     1|                     2|                    29|                    29|                   1.1|                  29.0|      a week ago|               t|             14|             39|             53|             299|           2019-11-30|              600|                   75|  2010-08-08| 2019-11-11|                  98|                    10|                       10|                   10|                         10|                    10|                 10|               t|    2017-BFN-0002177|{\"Colorado State\"...|               t|                       f|            moderate|                            t|                               t|                             2|                                          2|                                           0|                                          0|             5.29|\n",
      "| 56185|https://www.airbn...|20191129210509|  2019-11-29|charming home for...|                null|Spend time in Den...|Spend time in Den...|               none|                 null|                null|                null|                null|                null|Please treat our ...|         null|      null|https://a0.muscac...|          null| 266051|https://www.airbn...|               Kate|2010-10-19|Denver, Colorado,...|I am an Airbnb re...|               N/A|               N/A|                 N/A|                f|https://a0.muscac...|https://a0.muscac...|   North Park Hill|                  1|                        1|['email', 'phone'...|                   t|                     f|Denver, CO, Unite...|North Park Hill|       North Park Hill|                        null|   Denver|   CO|  80207|Denver|    Denver, CO|          US|United States|39.75322|-104.93335|                t|        House|Entire home/apt|           8|      3.0|       4|   9|Real Bed|{TV,\"Cable TV\",In...|       2000|$300.00|   $1,800.00|    $4,500.00|           $0.00|     $150.00|              6|      $50.00|             3|           365|                     3|                     3|                   365|                   365|                   3.0|                 365.0|     2 weeks ago|               t|              6|             36|             66|             341|           2019-11-29|               67|                    3|  2011-01-16| 2019-10-06|                  98|                    10|                       10|                   10|                         10|                    10|                 10|               t|    2017-BFN-0000523|{\"Colorado State\"...|               f|                       f|            moderate|                            f|                               f|                             1|                                          1|                                           0|                                          0|             0.62|\n",
      "| 59631|https://www.airbn...|20191129210509|  2019-11-30|VICTORIAN TOWNHOM...|License #2017-BFN...|I am offering my ...|License #2017-BFN...|               none| My close-in neigh...|I have been a suc...|There are several...|You will have acc...|I typically do no...|This property has...|         null|      null|https://a0.muscac...|          null|   1496|https://www.airbn...|              Julie|2008-08-07|Denver, Colorado,...|LICENSE #: (Phone...|    within an hour|              100%|                 N/A|                f|https://a0.muscac...|https://a0.muscac...|       Five Points|                  2|                        2|['email', 'phone'...|                   t|                     t|Denver, CO, Unite...|    Five Points|           Five Points|                        null|   Denver|   CO|  80205|Denver|    Denver, CO|          US|United States|39.74947|-104.97611|                t|    Townhouse|Entire home/apt|           4|      2.5|       2|   2|Real Bed|{TV,Internet,Wifi...|       null|$179.00|   $1,175.00|         null|         $100.00|      $80.00|              4|      $50.00|             1|          1125|                     1|                     1|                  1125|                  1125|                   1.0|                1125.0|     4 weeks ago|               t|              0|              0|              0|               0|           2019-11-30|              141|                    2|  2011-06-07| 2019-06-30|                  96|                    10|                        9|                   10|                         10|                    10|                 10|               t|                null|{\"Colorado State\"...|               f|                       f|strict_14_with_gr...|                            f|                               f|                             2|                                          1|                                           1|                                          0|             1.36|\n",
      "| 74125|https://www.airbn...|20191129210509|  2019-11-29|Spacious Cap Hill...|1000' entire-firs...|Hi! My place is  ...|1000' entire-firs...|               none|                 null|Parking at night ...|Denver was rated ...|You've got access...|                null| No smoking tobacco.|         null|      null|https://a0.muscac...|          null| 385864|https://www.airbn...|                Joe|2011-02-10|Denver, Colorado,...|I enjoy live musi...|    within an hour|              100%|                 N/A|                f|https://a0.muscac...|https://a0.muscac...|      Capitol Hill|                  1|                        1|['email', 'phone'...|                   t|                     t|Denver, CO, Unite...|   Capitol Hill|          Capitol Hill|                        null|   Denver|   CO|  80203|Denver|    Denver, CO|          US|United States|39.73276|-104.98035|                t|    Apartment|Entire home/apt|           3|      1.0|       1|   2|Real Bed|{Internet,Wifi,\"A...|       1000|$130.00|        null|         null|           $0.00|      $20.00|              2|      $50.00|             3|          1124|                     3|                     5|                  1124|                  1124|                   3.1|                1124.0|     4 weeks ago|               t|              0|              0|              0|               0|           2019-11-29|              112|                   18|  2011-07-19| 2019-10-06|                  94|                    10|                        9|                   10|                         10|                    10|                 10|               t|                null|{\"Colorado State\"...|               f|                       f|            flexible|                            t|                               t|                             1|                                          1|                                           0|                                          0|              1.1|\n",
      "| 81540|https://www.airbn...|20191129210509|  2019-11-30|Affordable S. Den...|Bright, sunny 1 b...|Adorable, sunny 1...|Bright, sunny 1 b...|               none| Our neighborhood ...|Always lock your ...|Light rail is abo...|Guests have acces...|We encourage gues...|Check in time is ...|         null|      null|https://a0.muscac...|          null|  98912|https://www.airbn...|               Jess|2010-03-25|Denver, Colorado,...|We live in Mexico...|within a few hours|              100%|                 N/A|                t|https://a0.muscac...|https://a0.muscac...|              null|                  1|                        1|['email', 'phone'...|                   t|                     t|Englewood, CO, Un...|       Overland|              Overland|                        null|Englewood|   CO|  80110|Denver| Englewood, CO|          US|United States|39.66787|-104.98969|                t|   Guesthouse|Entire home/apt|           2|      1.0|       1|   1|Real Bed|{TV,Internet,Wifi...|       null| $75.00|     $399.00|    $1,195.00|           $0.00|      $55.00|              2|      $10.00|             3|           120|                     3|                     3|                   120|                   120|                   3.0|                 120.0|      3 days ago|               t|              9|              9|              9|             239|           2019-11-30|              162|                   18|  2011-03-25| 2019-11-02|                  98|                    10|                       10|                   10|                         10|                    10|                 10|               f|                null|  {\"Colorado State\"}|               f|                       f|            moderate|                            f|                               f|                             1|                                          1|                                           0|                                          0|             1.53|\n",
      "| 90307|https://www.airbn...|20191129210509|  2019-11-30|Comfy King Size R...|                null|This private bedr...|This private bedr...|               none|                 null|                null|                null|Lounge in the liv...|                null|Respectful of env...|         null|      null|https://a0.muscac...|          null| 489506|https://www.airbn...|             Doreen|2011-04-06|Denver, Colorado,...|I like to think o...|    within an hour|              100%|                 N/A|                t|https://a0.muscac...|https://a0.muscac...|   North Park Hill|                  2|                        2|['email', 'phone'...|                   t|                     t|Denver, CO, Unite...|North Park Hill|       South Park Hill|                        null|   Denver|   CO|  80207|Denver|    Denver, CO|          US|United States|39.74955|-104.93239|                t|        House|   Private room|           2|      1.0|       1|   1|Real Bed|{Internet,Wifi,Ki...|       null| $90.00|        null|         null|           $0.00|      $13.00|              2|       $0.00|             1|             7|                     1|                     1|                     7|                     7|                   1.0|                   7.0|     6 weeks ago|               t|              0|              0|              0|               0|           2019-11-30|              188|                   11|  2012-01-03| 2019-10-19|                  98|                    10|                       10|                   10|                         10|                    10|                 10|               t|                null|{\"Colorado State\"...|               t|                       f|            flexible|                            f|                               f|                             2|                                          0|                                           2|                                          0|             1.95|\n",
      "| 98008|https://www.airbn...|20191129210509|  2019-11-29|Beautiful sun fil...|Locaton, location...|Hi Folks!  Welcom...|Locaton, location...|               none|                 null|                null|Close to everythi...|Entire house and ...|Love having a nic...|This is a NO SMOK...|         null|      null|https://a0.muscac...|          null| 297382|https://www.airbn...|              James|2010-11-24|Denver, Colorado,...|Hi folks, I am an...|      within a day|              100%|                 N/A|                t|https://a0.muscac...|https://a0.muscac...|       Five Points|                  3|                        3|['email', 'phone'...|                   t|                     t|Denver, CO, Unite...|    Five Points|           Five Points|                        null|   Denver|   CO|  80218|Denver|    Denver, CO|          US|United States|39.74927|-104.97482|                t|        House|   Private room|           2|      1.0|       1|   1|Real Bed|{TV,\"Cable TV\",In...|       null| $70.00|     $455.00|    $1,200.00|            null|      $20.00|              2|       $0.00|             2|            60|                     2|                     2|                    60|                    60|                   2.0|                  60.0|    2 months ago|               t|              0|              0|              0|             211|           2019-11-29|              220|                   18|  2011-05-11| 2019-11-06|                  99|                    10|                       10|                   10|                         10|                    10|                 10|               t|    2018-BFN-0006407|{\"Colorado State\"...|               f|                       f|            moderate|                            t|                               t|                             3|                                          0|                                           3|                                          0|             2.11|\n",
      "| 98014|https://www.airbn...|20191129210509|  2019-11-29|Beautiful single ...|                null|Hi Folks!  Welcom...|Hi Folks!  Welcom...|               none|                 null|                null|                null|                null|                null|This is a NO SMOK...|         null|      null|https://a0.muscac...|          null| 297382|https://www.airbn...|              James|2010-11-24|Denver, Colorado,...|Hi folks, I am an...|      within a day|              100%|                 N/A|                t|https://a0.muscac...|https://a0.muscac...|       Five Points|                  3|                        3|['email', 'phone'...|                   t|                     t|Denver, CO, Unite...|    Five Points|           Five Points|                        null|   Denver|   CO|  80205|Denver|    Denver, CO|          US|United States|39.74865|-104.97522|                t|        House|   Private room|           1|     null|       1|   1|Real Bed|{TV,\"Cable TV\",In...|       null| $60.00|     $364.00|    $1,000.00|            null|      $20.00|              1|       $0.00|             2|            60|                     2|                     2|                    60|                    60|                   2.0|                  60.0|    3 months ago|               t|              0|              0|              0|             211|           2019-11-29|              218|                   22|  2011-05-10| 2019-10-31|                  98|                    10|                       10|                   10|                         10|                    10|                 10|               t|    2018-BFN-0006407|{\"Colorado State\"...|               f|                       f|            moderate|                            t|                               t|                             3|                                          0|                                           3|                                          0|             2.09|\n",
      "|142683|https://www.airbn...|20191129210509|  2019-11-30|Historic Denver C...|                null|One of three cond...|One of three cond...|               none|                 null|                null|                null|                null|                null|No indoor smoking...|         null|      null|https://a0.muscac...|          null| 692622|https://www.airbn...|              Nancy|2011-06-12|Denver, Colorado,...|Architect with Wi...|    within an hour|               90%|                 N/A|                t|https://a0.muscac...|https://a0.muscac...|         City Park|                  1|                        1|['email', 'phone'...|                   t|                     t|Denver, CO, Unite...|      City Park|             City Park|                        null|   Denver|   CO|  80206|Denver|    Denver, CO|          US|United States|39.74145|-104.94845|                t|        House|Entire home/apt|           4|      1.5|       2|   2|Real Bed|{TV,Internet,Wifi...|       null|$125.00|     $900.00|    $3,200.00|         $150.00|      $80.00|              4|      $10.00|             1|           365|                     1|                     1|                   365|                   365|                   1.0|                 365.0|     3 weeks ago|               t|              0|              0|              0|               0|           2019-11-30|              303|                   36|  2011-07-07| 2019-11-04|                  94|                    10|                       10|                   10|                         10|                    10|                 10|               t|    2016-BFN-0008678|{\"Colorado State\"...|               f|                       f|            moderate|                            f|                               f|                             1|                                          1|                                           0|                                          0|             2.96|\n",
      "|172196|https://www.airbn...|20191129210509|  2019-11-30|Luxury Wash Park ...|Remodeled wash pa...|Remodeled East Wa...|Remodeled wash pa...|               none| Walking distance ...|We ask that you e...|The light rail is...|The entire house ...|As much as needed...|We have a list of...|         null|      null|https://a0.muscac...|          null| 526354|https://www.airbn...|            Michael|2011-04-21|Denver, Colorado,...|Father. Husband. ...|      within a day|              100%|                 N/A|                f|https://a0.muscac...|https://a0.muscac...|   Washington Park|                  1|                        1|['email', 'phone'...|                   t|                     t|Denver, CO, Unite...|Washington Park|       Washington Park|                        null|   Denver|   CO|  80209|Denver|    Denver, CO|          US|United States|39.69688|-104.96232|                t|        House|Entire home/apt|          10|      4.0|       5|   7|Real Bed|{TV,\"Cable TV\",In...|       null|$411.00|   $2,400.00|    $5,500.00|         $500.00|     $150.00|              7|      $50.00|             3|            21|                     3|                     3|                    21|                    21|                   3.0|                  21.0|     5 weeks ago|               t|             15|             37|             65|             340|           2019-11-30|               25|                    3|  2011-09-19| 2019-07-15|                  99|                    10|                       10|                   10|                         10|                    10|                  9|               t|    2017-BFN-0004301|{\"Colorado State\"...|               f|                       f|strict_14_with_gr...|                            t|                               t|                             1|                                          1|                                           0|                                          0|             0.25|\n",
      "|184529|https://www.airbn...|20191129210509|  2019-11-30|HIP SUITE IN  WES...|Private SUIITE   ...|Perfect rental fo...|Private SUIITE   ...|               none| \"Walkable\" to Ten...|Completely furnis...|Five minutes driv...|Guests access sha...|Respectful of eac...|No Smoking. No ca...|         null|      null|https://a0.muscac...|          null| 134798|https://www.airbn...|              Lonna|2010-05-29|Denver, Colorado,...|Fun-loving person...|    within an hour|              100%|                 N/A|                f|https://a0.muscac...|https://a0.muscac...|     West Highland|                  2|                        2|['email', 'phone'...|                   t|                     t|Denver, CO, Unite...|  West Highland|         West Highland|                        null|   Denver|   CO|  80212|Denver|    Denver, CO|          US|United States|39.76716| -105.0435|                t|  Guest suite|   Private room|           1|      1.5|       1|   2|Real Bed|{TV,\"Cable TV\",In...|       null| $35.00|     $900.00|         null|         $200.00|     $150.00|              1|       $0.00|            30|           360|                    30|                    30|                   360|                   360|                  30.0|                 360.0|      a week ago|               t|              0|              0|              0|             166|           2019-11-30|                6|                    0|  2012-05-10| 2016-01-03|                  97|                    10|                       10|                   10|                         10|                    10|                 10|               t|                null|{\"Colorado State\"...|               t|                       f|            moderate|                            f|                               f|                             2|                                          0|                                           2|                                          0|             0.07|\n",
      "|192430|https://www.airbn...|20191129210509|  2019-11-30|TREETOP VIEW ROOM...|Located in the de...|Park Hill neighbo...|Located in the de...|               none| It's a establishe...|                null|Great public tran...|Guests have full ...|I enjoy socializi...|No smoking of any...|         null|      null|https://a0.muscac...|          null| 923646|https://www.airbn...|               Kate|2011-08-04|Denver, Colorado,...|                null|      within a day|               67%|                 N/A|                f|https://a0.muscac...|https://a0.muscac...|   South Park Hill|                  1|                        1|['email', 'phone'...|                   t|                     t|Denver, CO, Unite...|South Park Hill|       South Park Hill|                        null|   Denver|   CO|  80220|Denver|    Denver, CO|          US|United States| 39.7416|-104.93613|                t|  Condominium|   Private room|           1|      1.0|       1|   1|Real Bed|{TV,\"Cable TV\",In...|       null| $32.00|     $350.00|    $1,100.00|         $100.00|      $25.00|              1|       $5.00|            14|            90|                    14|                    14|                    90|                    90|                  14.0|                  90.0|     2 weeks ago|               t|              0|              0|              0|              61|           2019-11-30|              115|                    3|  2011-08-22| 2019-10-26|                  94|                    10|                        9|                    9|                         10|                    10|                  9|               t|                null|{\"Colorado State\"...|               f|                       f|            moderate|                            t|                               t|                             1|                                          0|                                           1|                                          0|             1.14|\n",
      "|217996|https://www.airbn...|20191129210509|  2019-11-30|       Highland Snug|Comfortable and c...|1 bedroom and 1 b...|Comfortable and c...|               none| The Lower Highlan...|                null|New! Plane to Tra...|  Secure parking lot|Owner is on-site ...|                null|         null|      null|https://a0.muscac...|          null|  10730|https://www.airbn...|            William|2009-03-19|Denver, Colorado,...|Self employed com...|               N/A|               N/A|                 N/A|                f|https://a0.muscac...|https://a0.muscac...|          Highland|                  1|                        1|['email', 'phone'...|                   t|                     t|Denver, CO, Unite...|       Highland|              Highland|                        null|   Denver|   CO|  80211|Denver|    Denver, CO|          US|United States|39.75706|-105.01022|                t|  Condominium|   Private room|           4|      1.5|       1|   2|Real Bed|{TV,\"Cable TV\",In...|        900| $66.00|     $950.00|    $3,000.00|         $200.00|      $75.00|              4|       $0.00|            30|           180|                    30|                    30|                   180|                   180|                  30.0|                 180.0|    3 months ago|               t|              0|             29|             59|             333|           2019-11-30|               11|                    0|  2015-08-29| 2017-08-06|                 100|                    10|                       10|                   10|                         10|                    10|                 10|               t|STR 2017-BFN-0002802|{\"Colorado State\"...|               f|                       f|strict_14_with_gr...|                            f|                               f|                             1|                                          0|                                           1|                                          0|             0.21|\n",
      "|236207|https://www.airbn...|20191129210509|  2019-11-30|Denver Penthouse ...|Important Note : ...|Fully Furnished U...|Important Note : ...|               none| It is central to ...|DENVER SHORT TERM...|There is a free s...|Guests have acces...|However much inte...|Please No Pets an...|         null|      null|https://a0.muscac...|          null|1238201|https://www.airbn...|               Dave|2011-10-02|Denver, Colorado,...|I enjoy traveling...|      within a day|              100%|                 N/A|                f|https://a0.muscac...|https://a0.muscac...|              LoDo|                  1|                        1|['email', 'phone'...|                   t|                     t|Denver, CO, Unite...|           LoDo|         Union Station|                        null|   Denver|   CO|  80202|Denver|    Denver, CO|          US|United States|39.75475|-105.00533|                t|         Loft|Entire home/apt|           4|      1.5|       2|   2|Real Bed|{TV,\"Cable TV\",In...|       null|$235.00|   $1,470.00|    $4,500.00|         $400.00|     $115.00|              2|       $0.00|            30|           730|                    30|                    30|                   730|                   730|                  30.0|                 730.0|     4 weeks ago|               t|              0|             25|             55|             144|           2019-11-30|               62|                    4|  2012-06-29| 2019-10-07|                  99|                    10|                       10|                   10|                         10|                    10|                 10|               t|                null|{\"Colorado State\"...|               f|                       f|strict_14_with_gr...|                            t|                               t|                             1|                                          1|                                           0|                                          0|             0.69|\n",
      "+------+--------------------+--------------+------------+--------------------+--------------------+--------------------+--------------------+-------------------+---------------------+--------------------+--------------------+--------------------+--------------------+--------------------+-------------+----------+--------------------+--------------+-------+--------------------+-------------------+----------+--------------------+--------------------+------------------+------------------+--------------------+-----------------+--------------------+--------------------+------------------+-------------------+-------------------------+--------------------+--------------------+----------------------+--------------------+---------------+----------------------+----------------------------+---------+-----+-------+------+--------------+------------+-------------+--------+----------+-----------------+-------------+---------------+------------+---------+--------+----+--------+--------------------+-----------+-------+------------+-------------+----------------+------------+---------------+------------+--------------+--------------+----------------------+----------------------+----------------------+----------------------+----------------------+----------------------+----------------+----------------+---------------+---------------+---------------+----------------+---------------------+-----------------+---------------------+------------+-----------+--------------------+----------------------+-------------------------+---------------------+---------------------------+----------------------+-------------------+----------------+--------------------+--------------------+----------------+------------------------+--------------------+-----------------------------+--------------------------------+------------------------------+-------------------------------------------+--------------------------------------------+-------------------------------------------+-----------------+\n",
      "only showing top 20 rows\n",
      "\n"
     ]
    }
   ],
   "source": [
    "dfListing = spark.read.load(\"./airbnb_data/airbnb_listings.csv\",\n",
    "                        format=\"csv\", inferSchema=True, header=True,\n",
    "                        sep=\",\", quote='\"',escape ='\"',multiline=True)\n",
    "\n",
    "dfListing.show()"
   ]
  },
  {
   "cell_type": "code",
   "execution_count": 10,
   "metadata": {},
   "outputs": [
    {
     "name": "stderr",
     "output_type": "stream",
     "text": [
      "                                                                                \r"
     ]
    },
    {
     "data": {
      "text/plain": [
       "4865"
      ]
     },
     "execution_count": 10,
     "metadata": {},
     "output_type": "execute_result"
    }
   ],
   "source": [
    "dfListing.count()"
   ]
  },
  {
   "cell_type": "code",
   "execution_count": 22,
   "metadata": {},
   "outputs": [
    {
     "name": "stderr",
     "output_type": "stream",
     "text": [
      "                                                                                \r"
     ]
    }
   ],
   "source": [
    "dfListingSelected = dfListing.selectExpr(\n",
    "    \"id as listing_id\",\n",
    "    \"listing_url\", \n",
    "    \"name as listing_name\", \n",
    "    \"summary as listing_summary\", \n",
    "    \"description as listing_desc\"\n",
    ")\n",
    "\n",
    "dfListingSelected\\\n",
    "    .repartition(2)\\\n",
    "    .write\\\n",
    "    .mode(\"overwrite\")\\\n",
    "    .format(\"json\")\\\n",
    "    .option(\"compression\", \"gzip\")\\\n",
    "    .save(\"airbnb_listings\")"
   ]
  },
  {
   "cell_type": "code",
   "execution_count": 30,
   "metadata": {},
   "outputs": [
    {
     "name": "stdout",
     "output_type": "stream",
     "text": [
      "+--------------------+----------+--------------------+--------------------+--------------------+\n",
      "|        listing_desc|listing_id|        listing_name|     listing_summary|         listing_url|\n",
      "+--------------------+----------+--------------------+--------------------+--------------------+\n",
      "|Get ready to kick...|  24180313|Capitol Hill Embe...|Get ready to kick...|https://www.airbn...|\n",
      "|Fun, colorful, re...|  36346977|Entrepreneur's Pa...|Fun, colorful, re...|https://www.airbn...|\n",
      "|Brand New Loft ap...|  30312243|Beautiful Sunny S...|Brand New Loft ap...|https://www.airbn...|\n",
      "|Unwind and enjoy ...|  39116323|Historic N. Park ...|Unwind and enjoy ...|https://www.airbn...|\n",
      "|My place is close...|  16944159|Great New Apartme...|My place is close...|https://www.airbn...|\n",
      "|Step back to the ...|  20169840|Beautiful Denver ...|Step back to the ...|https://www.airbn...|\n",
      "|Astounding townho...|  32446997|Luxurious LoHi To...|Astounding townho...|https://www.airbn...|\n",
      "|Well established ...|  11123088|Denver Highlands ...|Well established ...|https://www.airbn...|\n",
      "|Begin the day in ...|   4545539|Updated Downtown ...|Begin the day in ...|https://www.airbn...|\n",
      "|Located in the he...|  20745699|Modern and Comfor...|Located in the he...|https://www.airbn...|\n",
      "|Beautiful Remodel...|  39362842|Beautiful Neighbo...|Beautiful Remodel...|https://www.airbn...|\n",
      "|Come take a walk ...|  35220979|Modern Guest Suit...|Come take a walk ...|https://www.airbn...|\n",
      "|We love our loft!...|  10040454|Large Loft right ...|We love our loft!...|https://www.airbn...|\n",
      "|My studio is supe...|   5820304|Cozy Studio in Hi...|My studio is supe...|https://www.airbn...|\n",
      "|Modern comfortabl...|  22651424|LoDo/Union Statio...|Modern comfortabl...|https://www.airbn...|\n",
      "|-Recently constru...|  36868978|Steps from Downto...|-Recently constru...|https://www.airbn...|\n",
      "|Close to downtown...|  17405963|Private room & ba...|Close to downtown...|https://www.airbn...|\n",
      "|The Mile High Tow...|  19403739|The Mile High Tow...|The Mile High Tow...|https://www.airbn...|\n",
      "|Important Note : ...|    236207|Denver Penthouse ...|Important Note : ...|https://www.airbn...|\n",
      "|Newly remodeled -...|  20949319|Bright & Airy - B...|Newly remodeled -...|https://www.airbn...|\n",
      "+--------------------+----------+--------------------+--------------------+--------------------+\n",
      "only showing top 20 rows\n",
      "\n"
     ]
    }
   ],
   "source": [
    "dfListingJson = spark.read.format(\"json\").load(\"./airbnb_listings\")\n",
    "\n",
    "dfListingJson.show(truncate=True)"
   ]
  },
  {
   "cell_type": "code",
   "execution_count": 32,
   "metadata": {},
   "outputs": [],
   "source": [
    "dfListingSelected\\\n",
    "    .repartition(1)\\\n",
    "    .write\\\n",
    "    .mode(\"overwrite\")\\\n",
    "    .format(\"csv\")\\\n",
    "    .option(\"header\", \"true\")\\\n",
    "    .save(\"airbnb_listings_selected\")"
   ]
  },
  {
   "cell_type": "code",
   "execution_count": null,
   "metadata": {},
   "outputs": [],
   "source": []
  },
  {
   "cell_type": "markdown",
   "metadata": {},
   "source": [
    "### Parquet\n",
    "Parquet, ORC같은 Columnar Foramt이 필요한 이유는\n",
    "- Column Pruning : 대부분의 경우 몇몇 컬럼만 지정하여 조회하기 때문에 컬럼 기준인 경우 IO 비용을 줄 이 수 있다.\n",
    "- Column Encoding : 타입에 특화된 인코딩을 통해 저장공간을 줄 일 수 있다.\n",
    "- Predicate PushDown : Spark로 가져오기 전에 미리 필터링하여 가져오기 때문에 네트워크 비용을 줄 일 수 있다.\n",
    "- 백터화된 연산이 가능하다."
   ]
  },
  {
   "cell_type": "code",
   "execution_count": 35,
   "metadata": {},
   "outputs": [
    {
     "name": "stderr",
     "output_type": "stream",
     "text": [
      "                                                                                \r"
     ]
    }
   ],
   "source": [
    "dfListingSelected\\\n",
    "    .repartition(1)\\\n",
    "    .write\\\n",
    "    .mode(\"error\")\\\n",
    "    .format(\"parquet\")\\\n",
    "    .option(\"compression\", \"snappy\")\\\n",
    "    .save(\"airbnb_listings_parquet\")"
   ]
  },
  {
   "cell_type": "code",
   "execution_count": 36,
   "metadata": {},
   "outputs": [
    {
     "name": "stdout",
     "output_type": "stream",
     "text": [
      "+----------+--------------------+--------------------+--------------------+--------------------+\n",
      "|listing_id|         listing_url|        listing_name|     listing_summary|        listing_desc|\n",
      "+----------+--------------------+--------------------+--------------------+--------------------+\n",
      "|       360|https://www.airbn...|LoHi Secret garde...|Come enjoy our oa...|Come enjoy our oa...|\n",
      "|       590|https://www.airbn...|Comfortable  - an...|Large guest room ...|Large guest room ...|\n",
      "|       592|https://www.airbn...|             private|This room is in t...|This room is in t...|\n",
      "|      1940|https://www.airbn...|Baker Studio Clos...|Great place for a...|Great place for a...|\n",
      "|      2086|https://www.airbn...|  Garden Level Condo|A furnished, gard...|A furnished, gard...|\n",
      "|     31503|https://www.airbn...|Highland Park Gue...|                null|Highland Park Gue...|\n",
      "|     39405|https://www.airbn...|LoHi Secret garde...|Come enjoy our oa...|Come enjoy our oa...|\n",
      "|     56185|https://www.airbn...|charming home for...|                null|Spend time in Den...|\n",
      "|     59631|https://www.airbn...|VICTORIAN TOWNHOM...|License #2017-BFN...|License #2017-BFN...|\n",
      "|     74125|https://www.airbn...|Spacious Cap Hill...|1000' entire-firs...|1000' entire-firs...|\n",
      "|     81540|https://www.airbn...|Affordable S. Den...|Bright, sunny 1 b...|Bright, sunny 1 b...|\n",
      "|     90307|https://www.airbn...|Comfy King Size R...|                null|This private bedr...|\n",
      "|     98008|https://www.airbn...|Beautiful sun fil...|Locaton, location...|Locaton, location...|\n",
      "|     98014|https://www.airbn...|Beautiful single ...|                null|Hi Folks!  Welcom...|\n",
      "|    142683|https://www.airbn...|Historic Denver C...|                null|One of three cond...|\n",
      "|    172196|https://www.airbn...|Luxury Wash Park ...|Remodeled wash pa...|Remodeled wash pa...|\n",
      "|    184529|https://www.airbn...|HIP SUITE IN  WES...|Private SUIITE   ...|Private SUIITE   ...|\n",
      "|    192430|https://www.airbn...|TREETOP VIEW ROOM...|Located in the de...|Located in the de...|\n",
      "|    217996|https://www.airbn...|       Highland Snug|Comfortable and c...|Comfortable and c...|\n",
      "|    236207|https://www.airbn...|Denver Penthouse ...|Important Note : ...|Important Note : ...|\n",
      "+----------+--------------------+--------------------+--------------------+--------------------+\n",
      "only showing top 20 rows\n",
      "\n"
     ]
    }
   ],
   "source": [
    "dfListingParquet = spark.read.format(\"parquet\").load(\"./airbnb_listings_parquet\")\n",
    "\n",
    "dfListingParquet.show()"
   ]
  },
  {
   "cell_type": "code",
   "execution_count": 37,
   "metadata": {},
   "outputs": [
    {
     "data": {
      "text/plain": [
       "1"
      ]
     },
     "execution_count": 37,
     "metadata": {},
     "output_type": "execute_result"
    }
   ],
   "source": [
    "dfListingParquet.rdd.getNumPartitions()"
   ]
  },
  {
   "cell_type": "code",
   "execution_count": 38,
   "metadata": {},
   "outputs": [
    {
     "name": "stdout",
     "output_type": "stream",
     "text": [
      "root\n",
      " |-- listing_id: integer (nullable = true)\n",
      " |-- listing_url: string (nullable = true)\n",
      " |-- listing_name: string (nullable = true)\n",
      " |-- listing_summary: string (nullable = true)\n",
      " |-- listing_desc: string (nullable = true)\n",
      "\n"
     ]
    }
   ],
   "source": [
    "dfListingParquet.printSchema()"
   ]
  },
  {
   "cell_type": "code",
   "execution_count": 39,
   "metadata": {},
   "outputs": [
    {
     "name": "stderr",
     "output_type": "stream",
     "text": [
      "                                                                                \r"
     ]
    }
   ],
   "source": [
    "# spark.read 로 파일을 읽을 경우에는 파일 사이즈나 숫자에 의해 동적으로 Partition 숫자가 spark.default.parallelism (default = 200) 값에 따라 조절됩니다. \n",
    "dfListingSelected\\\n",
    "    .repartition(2000)\\\n",
    "    .write\\\n",
    "    .mode(\"overwrite\")\\\n",
    "    .format(\"parquet\")\\\n",
    "    .option(\"compression\", \"snappy\")\\\n",
    "    .save(\"airbnb_listings_parquet\")"
   ]
  },
  {
   "cell_type": "code",
   "execution_count": 41,
   "metadata": {},
   "outputs": [],
   "source": [
    "dfListingParquet = spark.read.format(\"parquet\").load(\"./airbnb_listings_parquet\")\n"
   ]
  },
  {
   "cell_type": "code",
   "execution_count": 45,
   "metadata": {},
   "outputs": [
    {
     "data": {
      "text/plain": [
       "63"
      ]
     },
     "execution_count": 45,
     "metadata": {},
     "output_type": "execute_result"
    }
   ],
   "source": [
    "dfListingParquet.rdd.getNumPartitions()"
   ]
  },
  {
   "cell_type": "code",
   "execution_count": null,
   "metadata": {},
   "outputs": [],
   "source": []
  },
  {
   "cell_type": "markdown",
   "metadata": {},
   "source": [
    "### Avro - Data Serialization\n",
    "Avro 타입은 Data Serialization(직렬화)도구 입니다.  \n",
    "JSON으로 데이터를 전송하는 것과 달리 Avro, Protobuf, Thrift와 같은 언어 중립적인 데이터 직렬화 포맷을 사용하는 이유가 있습니다.  \n",
    "1. 다양한 언어로 데이터를 읽고 쓸 수 있습니다.\n",
    "2. 스키마를 미리 정의하기 때문에 실수로 변경되는 것을 방지합니다.\n",
    "3. 타입이 정해져 있으므로 Encoding을 통한 사이즈 축소 및 효율적인 조회가 가능합니다.\n",
    "\n",
    "Column 포맷은 주로 대규모 데이터를 읽고 쓰는 경우에 사용하고, Kafka/API 등 실시간으로 데이터를 주고 받는 경우에는 Avro와 같은 Schema관리가 편한 포맷을 사용합니다.  \n"
   ]
  },
  {
   "cell_type": "code",
   "execution_count": 46,
   "metadata": {},
   "outputs": [
    {
     "ename": "AnalysisException",
     "evalue": "Failed to find data source: avro. Avro is built-in but external data source module since Spark 2.4. Please deploy the application as per the deployment section of Apache Avro Data Source Guide.",
     "output_type": "error",
     "traceback": [
      "\u001b[0;31m---------------------------------------------------------------------------\u001b[0m",
      "\u001b[0;31mAnalysisException\u001b[0m                         Traceback (most recent call last)",
      "\u001b[0;32m/var/folders/hs/qgyqqppj281bp7zh9vj3jry40000gn/T/ipykernel_80758/263296942.py\u001b[0m in \u001b[0;36m<module>\u001b[0;34m\u001b[0m\n\u001b[1;32m     14\u001b[0m \"\"\"\n\u001b[1;32m     15\u001b[0m \u001b[0;34m\u001b[0m\u001b[0m\n\u001b[0;32m---> 16\u001b[0;31m \u001b[0mdfListingSelected\u001b[0m\u001b[0;31m\\\u001b[0m\u001b[0;34m\u001b[0m\u001b[0;34m\u001b[0m\u001b[0m\n\u001b[0m\u001b[1;32m     17\u001b[0m     \u001b[0;34m.\u001b[0m\u001b[0mrepartition\u001b[0m\u001b[0;34m(\u001b[0m\u001b[0;36m2\u001b[0m\u001b[0;34m)\u001b[0m\u001b[0;31m\\\u001b[0m\u001b[0;34m\u001b[0m\u001b[0;34m\u001b[0m\u001b[0m\n\u001b[1;32m     18\u001b[0m     \u001b[0;34m.\u001b[0m\u001b[0mwrite\u001b[0m\u001b[0;31m\\\u001b[0m\u001b[0;34m\u001b[0m\u001b[0;34m\u001b[0m\u001b[0m\n",
      "\u001b[0;32m~/opt/anaconda3/lib/python3.9/site-packages/pyspark/sql/readwriter.py\u001b[0m in \u001b[0;36msave\u001b[0;34m(self, path, format, mode, partitionBy, **options)\u001b[0m\n\u001b[1;32m   1396\u001b[0m             \u001b[0mself\u001b[0m\u001b[0;34m.\u001b[0m\u001b[0m_jwrite\u001b[0m\u001b[0;34m.\u001b[0m\u001b[0msave\u001b[0m\u001b[0;34m(\u001b[0m\u001b[0;34m)\u001b[0m\u001b[0;34m\u001b[0m\u001b[0;34m\u001b[0m\u001b[0m\n\u001b[1;32m   1397\u001b[0m         \u001b[0;32melse\u001b[0m\u001b[0;34m:\u001b[0m\u001b[0;34m\u001b[0m\u001b[0;34m\u001b[0m\u001b[0m\n\u001b[0;32m-> 1398\u001b[0;31m             \u001b[0mself\u001b[0m\u001b[0;34m.\u001b[0m\u001b[0m_jwrite\u001b[0m\u001b[0;34m.\u001b[0m\u001b[0msave\u001b[0m\u001b[0;34m(\u001b[0m\u001b[0mpath\u001b[0m\u001b[0;34m)\u001b[0m\u001b[0;34m\u001b[0m\u001b[0;34m\u001b[0m\u001b[0m\n\u001b[0m\u001b[1;32m   1399\u001b[0m \u001b[0;34m\u001b[0m\u001b[0m\n\u001b[1;32m   1400\u001b[0m     \u001b[0;32mdef\u001b[0m \u001b[0minsertInto\u001b[0m\u001b[0;34m(\u001b[0m\u001b[0mself\u001b[0m\u001b[0;34m,\u001b[0m \u001b[0mtableName\u001b[0m\u001b[0;34m:\u001b[0m \u001b[0mstr\u001b[0m\u001b[0;34m,\u001b[0m \u001b[0moverwrite\u001b[0m\u001b[0;34m:\u001b[0m \u001b[0mOptional\u001b[0m\u001b[0;34m[\u001b[0m\u001b[0mbool\u001b[0m\u001b[0;34m]\u001b[0m \u001b[0;34m=\u001b[0m \u001b[0;32mNone\u001b[0m\u001b[0;34m)\u001b[0m \u001b[0;34m->\u001b[0m \u001b[0;32mNone\u001b[0m\u001b[0;34m:\u001b[0m\u001b[0;34m\u001b[0m\u001b[0;34m\u001b[0m\u001b[0m\n",
      "\u001b[0;32m~/opt/anaconda3/lib/python3.9/site-packages/py4j/java_gateway.py\u001b[0m in \u001b[0;36m__call__\u001b[0;34m(self, *args)\u001b[0m\n\u001b[1;32m   1320\u001b[0m \u001b[0;34m\u001b[0m\u001b[0m\n\u001b[1;32m   1321\u001b[0m         \u001b[0manswer\u001b[0m \u001b[0;34m=\u001b[0m \u001b[0mself\u001b[0m\u001b[0;34m.\u001b[0m\u001b[0mgateway_client\u001b[0m\u001b[0;34m.\u001b[0m\u001b[0msend_command\u001b[0m\u001b[0;34m(\u001b[0m\u001b[0mcommand\u001b[0m\u001b[0;34m)\u001b[0m\u001b[0;34m\u001b[0m\u001b[0;34m\u001b[0m\u001b[0m\n\u001b[0;32m-> 1322\u001b[0;31m         return_value = get_return_value(\n\u001b[0m\u001b[1;32m   1323\u001b[0m             answer, self.gateway_client, self.target_id, self.name)\n\u001b[1;32m   1324\u001b[0m \u001b[0;34m\u001b[0m\u001b[0m\n",
      "\u001b[0;32m~/opt/anaconda3/lib/python3.9/site-packages/pyspark/errors/exceptions/captured.py\u001b[0m in \u001b[0;36mdeco\u001b[0;34m(*a, **kw)\u001b[0m\n\u001b[1;32m    173\u001b[0m                 \u001b[0;31m# Hide where the exception came from that shows a non-Pythonic\u001b[0m\u001b[0;34m\u001b[0m\u001b[0;34m\u001b[0m\u001b[0m\n\u001b[1;32m    174\u001b[0m                 \u001b[0;31m# JVM exception message.\u001b[0m\u001b[0;34m\u001b[0m\u001b[0;34m\u001b[0m\u001b[0m\n\u001b[0;32m--> 175\u001b[0;31m                 \u001b[0;32mraise\u001b[0m \u001b[0mconverted\u001b[0m \u001b[0;32mfrom\u001b[0m \u001b[0;32mNone\u001b[0m\u001b[0;34m\u001b[0m\u001b[0;34m\u001b[0m\u001b[0m\n\u001b[0m\u001b[1;32m    176\u001b[0m             \u001b[0;32melse\u001b[0m\u001b[0;34m:\u001b[0m\u001b[0;34m\u001b[0m\u001b[0;34m\u001b[0m\u001b[0m\n\u001b[1;32m    177\u001b[0m                 \u001b[0;32mraise\u001b[0m\u001b[0;34m\u001b[0m\u001b[0;34m\u001b[0m\u001b[0m\n",
      "\u001b[0;31mAnalysisException\u001b[0m: Failed to find data source: avro. Avro is built-in but external data source module since Spark 2.4. Please deploy the application as per the deployment section of Apache Avro Data Source Guide."
     ]
    }
   ],
   "source": [
    "schemaAvroListingV1 = \"\"\"\n",
    "{\n",
    "    \"type\": \"record\",\n",
    "    \"name\": \"AirbnbListing\",\n",
    "    \"namespace\": \"com.airbnb\",\n",
    "    \"fields\": [\n",
    "    {\"name\": \"listing_id\", \"type\": \"int\"},\n",
    "    {\"name\": \"listing_url\", \"type\": \"string\"},\n",
    "    {\"name\": \"listing_name\", \"type\": \"string\"},\n",
    "    {\"name\": \"listing_summary\", \"type\": [\"string\", \"null\"]},\n",
    "    {\"name\": \"listing_desc\", \"type\": [\"string\", \"null\"]}\n",
    "  ]\n",
    "}\n",
    "\"\"\"\n",
    "\n",
    "dfListingSelected\\\n",
    "    .repartition(2)\\\n",
    "    .write\\\n",
    "    .mode(\"overwrite\")\\\n",
    "    .format(\"avro\")\\\n",
    "    .option(\"avroSchema\", schemaAvroListingV1)\\\n",
    "    .save(\"airbnb_listings_avro\")"
   ]
  },
  {
   "cell_type": "code",
   "execution_count": null,
   "metadata": {},
   "outputs": [],
   "source": []
  }
 ],
 "metadata": {
  "kernelspec": {
   "display_name": "base",
   "language": "python",
   "name": "python3"
  },
  "language_info": {
   "codemirror_mode": {
    "name": "ipython",
    "version": 3
   },
   "file_extension": ".py",
   "mimetype": "text/x-python",
   "name": "python",
   "nbconvert_exporter": "python",
   "pygments_lexer": "ipython3",
   "version": "3.9.7"
  }
 },
 "nbformat": 4,
 "nbformat_minor": 2
}
