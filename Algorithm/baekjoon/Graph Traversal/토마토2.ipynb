{
 "cells": [
  {
   "cell_type": "code",
   "execution_count": 7,
   "metadata": {},
   "outputs": [
    {
     "name": "stdout",
     "output_type": "stream",
     "text": [
      "4\n"
     ]
    }
   ],
   "source": [
    "# https://www.acmicpc.net/problem/7569\n",
    "from collections import deque\n",
    "def check_tomato(q):\n",
    "    for k in range(h):\n",
    "        for i in range(n):\n",
    "            for j in range(m):\n",
    "                if board[k][i][j] == 1:\n",
    "                    q.append((k,i,j))\n",
    "\n",
    "def bfs(board, q):\n",
    "    while q:\n",
    "        nz, nx, ny = q.popleft()\n",
    "        for i in range(6):\n",
    "            zz = nz + dz[i]\n",
    "            xx = nx + dx[i]\n",
    "            yy = ny + dy[i]\n",
    "            if 0<=zz<h and 0<=xx<n and 0<=yy<m and board[zz][xx][yy] == 0:\n",
    "                board[zz][xx][yy] = board[nz][nx][ny] + 1\n",
    "                q.append((zz,xx,yy))\n",
    "\n",
    "def check_valid():\n",
    "    res = 0\n",
    "    for k in range(h):\n",
    "        for i in range(n):\n",
    "            for j in range(m):\n",
    "                if board[k][i][j] == 0:\n",
    "                    return -1\n",
    "                else:\n",
    "                    res = max(res, board[k][i][j])\n",
    "    return res-1\n",
    "\n",
    "m, n, h = map(int, input().split())\n",
    "board = [[list(map(int, input().split())) for _ in range(n)] for _ in range(h)]\n",
    "dx = [1,0,-1,0,0,0]\n",
    "dy = [0,1,0,-1,0,0]\n",
    "dz = [0,0,0,0,1,-1]\n",
    "q = deque()\n",
    "\n",
    "check_tomato(q)\n",
    "bfs(board, q)\n",
    "res = check_valid()\n",
    "print(res)"
   ]
  },
  {
   "cell_type": "code",
   "execution_count": 8,
   "metadata": {},
   "outputs": [
    {
     "data": {
      "text/plain": [
       "[[[5, 4, 3, 4, 5], [4, 3, 2, 3, 4], [5, 4, 3, 4, 5]],\n",
       " [[4, 3, 2, 3, 4], [3, 2, 1, 2, 3], [4, 3, 2, 3, 4]]]"
      ]
     },
     "execution_count": 8,
     "metadata": {},
     "output_type": "execute_result"
    }
   ],
   "source": [
    "board"
   ]
  },
  {
   "cell_type": "code",
   "execution_count": null,
   "metadata": {},
   "outputs": [],
   "source": []
  }
 ],
 "metadata": {
  "kernelspec": {
   "display_name": "base",
   "language": "python",
   "name": "python3"
  },
  "language_info": {
   "codemirror_mode": {
    "name": "ipython",
    "version": 3
   },
   "file_extension": ".py",
   "mimetype": "text/x-python",
   "name": "python",
   "nbconvert_exporter": "python",
   "pygments_lexer": "ipython3",
   "version": "3.9.7"
  }
 },
 "nbformat": 4,
 "nbformat_minor": 2
}
