{
 "cells": [
  {
   "cell_type": "code",
   "execution_count": 13,
   "metadata": {},
   "outputs": [
    {
     "name": "stdout",
     "output_type": "stream",
     "text": [
      "10\n"
     ]
    }
   ],
   "source": [
    "# https://www.acmicpc.net/problem/13305\n",
    "def solution(n, dis, cost):\n",
    "    min_cost, res = cost[0], cost[0] * dis[0]\n",
    "    for i in range(1,n-1):\n",
    "        min_cost = min(min_cost, cost[i])\n",
    "        res += min_cost * dis[i]\n",
    "\n",
    "    return res\n",
    "\n",
    "n = int(input())\n",
    "dis = list(map(int, input().split()))\n",
    "cost = list(map(int, input().split()))\n",
    "print(solution(n, dis, cost))"
   ]
  },
  {
   "cell_type": "code",
   "execution_count": null,
   "metadata": {},
   "outputs": [],
   "source": []
  }
 ],
 "metadata": {
  "kernelspec": {
   "display_name": "base",
   "language": "python",
   "name": "python3"
  },
  "language_info": {
   "codemirror_mode": {
    "name": "ipython",
    "version": 3
   },
   "file_extension": ".py",
   "mimetype": "text/x-python",
   "name": "python",
   "nbconvert_exporter": "python",
   "pygments_lexer": "ipython3",
   "version": "3.9.7"
  }
 },
 "nbformat": 4,
 "nbformat_minor": 2
}
