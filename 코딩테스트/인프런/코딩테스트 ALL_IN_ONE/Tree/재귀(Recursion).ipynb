{
 "cells": [
  {
   "cell_type": "code",
   "execution_count": 2,
   "metadata": {},
   "outputs": [
    {
     "data": {
      "text/plain": [
       "24"
      ]
     },
     "execution_count": 2,
     "metadata": {},
     "output_type": "execute_result"
    }
   ],
   "source": [
    "# 재귀함수란 자신을 정의할때 자기 자신을 재참조하는 함수를 뜻합니다.\n",
    "def factorial(n):\n",
    "    if n == 1:\n",
    "        return 1\n",
    "    return n * factorial(n-1)\n",
    "factorial(4)"
   ]
  },
  {
   "attachments": {},
   "cell_type": "markdown",
   "metadata": {},
   "source": [
    "### 재귀함수 구성요소 2가지\n",
    "1. Recurrence ralation => 점화식\n",
    "\n",
    "- f(n)을 f(n-1), f(n-2), ..., f(1)의 관계식으로 표현하는것을 점화식이라고 합니다.\n",
    "\n",
    "2. base case\n",
    "- 더이상 재귀홈출을 하지 않아도 계산값을 반환할 수 있는 상황(조건)을 말합니다.\n",
    "\n",
    "- 모든 입력이 최종적으로 base case을 이용해서 문제를 해결할 수 있어야 합니다.\n",
    "\n",
    "- basecase가 무조건 있어야 재귀함수의 무한루프를 방지할 수 있습니다."
   ]
  },
  {
   "attachments": {},
   "cell_type": "markdown",
   "metadata": {},
   "source": []
  }
 ],
 "metadata": {
  "kernelspec": {
   "display_name": "base",
   "language": "python",
   "name": "python3"
  },
  "language_info": {
   "codemirror_mode": {
    "name": "ipython",
    "version": 3
   },
   "file_extension": ".py",
   "mimetype": "text/x-python",
   "name": "python",
   "nbconvert_exporter": "python",
   "pygments_lexer": "ipython3",
   "version": "3.9.7"
  },
  "orig_nbformat": 4
 },
 "nbformat": 4,
 "nbformat_minor": 2
}
