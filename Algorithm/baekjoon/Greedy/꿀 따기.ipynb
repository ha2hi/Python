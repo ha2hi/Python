{
 "cells": [
  {
   "cell_type": "code",
   "execution_count": 7,
   "metadata": {},
   "outputs": [
    {
     "name": "stdout",
     "output_type": "stream",
     "text": [
      "54\n"
     ]
    }
   ],
   "source": [
    "# https://www.acmicpc.net/problem/21758\n",
    "from itertools import combinations, permutations\n",
    "def solution(n,a):\n",
    "    ans = 0\n",
    "    calc = [a[0]]\n",
    "    for i in range(1,n):\n",
    "        calc.append(calc[i-1]+a[i])\n",
    "\n",
    "    # 꿀통 왼쪽\n",
    "    for i in range(1, n-1):\n",
    "        ans = max(ans, calc[n-2]-a[i]+calc[i-1])\n",
    "\n",
    "    # 꿀통 오른쪽\n",
    "    for i in range(1, n-1):\n",
    "        ans = max(ans, calc[n-1]-a[0]-a[i]+calc[n-1]-calc[i])\n",
    "    \n",
    "    # 꿀통 가운데\n",
    "    for i in range(1, n-1):\n",
    "        ans = max(ans, calc[n-1]-a[-1]-a[0]+a[i])\n",
    "    \n",
    "    return ans\n",
    "\n",
    "\n",
    "n = int(input())\n",
    "a = list(map(int, input().split()))\n",
    "\n",
    "print(solution(n,a))"
   ]
  },
  {
   "cell_type": "code",
   "execution_count": null,
   "metadata": {},
   "outputs": [],
   "source": []
  }
 ],
 "metadata": {
  "kernelspec": {
   "display_name": "base",
   "language": "python",
   "name": "python3"
  },
  "language_info": {
   "codemirror_mode": {
    "name": "ipython",
    "version": 3
   },
   "file_extension": ".py",
   "mimetype": "text/x-python",
   "name": "python",
   "nbconvert_exporter": "python",
   "pygments_lexer": "ipython3",
   "version": "3.9.7"
  }
 },
 "nbformat": 4,
 "nbformat_minor": 2
}
