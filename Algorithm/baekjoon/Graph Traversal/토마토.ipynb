{
 "cells": [
  {
   "cell_type": "code",
   "execution_count": 9,
   "metadata": {},
   "outputs": [
    {
     "name": "stdout",
     "output_type": "stream",
     "text": [
      "8\n"
     ]
    }
   ],
   "source": [
    "# https://www.acmicpc.net/problem/7576\n",
    "from collections import deque\n",
    "def check_tomato(q):\n",
    "    for i in range(n):\n",
    "        for j in range(m):\n",
    "            if board[i][j] == 1:\n",
    "                q.append((i,j))\n",
    "\n",
    "def bfs(q, board):\n",
    "    while q:\n",
    "        now_x, now_y = q.popleft()\n",
    "        for i in range(4):\n",
    "            xx = now_x + dx[i]\n",
    "            yy = now_y + dy[i]\n",
    "            if 0<=xx<n and 0<=yy<m and board[xx][yy] == 0:\n",
    "                board[xx][yy] = board[now_x][now_y] + 1\n",
    "                ch[xx][yy] = 1\n",
    "                q.append((xx,yy))\n",
    "\n",
    "    return board\n",
    "\n",
    "def check_all_vaild():\n",
    "    res = float('-inf')\n",
    "    for i in range(n):\n",
    "        for j in range(m):\n",
    "            if board[i][j] == 0:\n",
    "                return -1\n",
    "            else:\n",
    "                res = max(res, board[i][j])\n",
    "    return res-1\n",
    "\n",
    "m, n = map(int,input().split())\n",
    "board = [list(map(int, input().split())) for _ in range(n)]\n",
    "dx = [-1,0,1,0]\n",
    "dy = [0,1,0,-1]\n",
    "q = deque()\n",
    "\n",
    "check_tomato(q)\n",
    "bfs(q, board)\n",
    "res = check_all_vaild()\n",
    "print(res)"
   ]
  },
  {
   "cell_type": "code",
   "execution_count": null,
   "metadata": {},
   "outputs": [],
   "source": []
  }
 ],
 "metadata": {
  "kernelspec": {
   "display_name": "base",
   "language": "python",
   "name": "python3"
  },
  "language_info": {
   "codemirror_mode": {
    "name": "ipython",
    "version": 3
   },
   "file_extension": ".py",
   "mimetype": "text/x-python",
   "name": "python",
   "nbconvert_exporter": "python",
   "pygments_lexer": "ipython3",
   "version": "3.9.7"
  }
 },
 "nbformat": 4,
 "nbformat_minor": 2
}
