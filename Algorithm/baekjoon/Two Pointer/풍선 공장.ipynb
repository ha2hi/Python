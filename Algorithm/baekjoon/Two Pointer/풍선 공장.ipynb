{
 "cells": [
  {
   "cell_type": "code",
   "execution_count": null,
   "metadata": {},
   "outputs": [],
   "source": [
    "def check(x):\n",
    "    cnt = 0\n",
    "    for i in a:\n",
    "        cnt += x//i\n",
    "    return cnt\n",
    "\n",
    "n, m = map(int, input().split())\n",
    "a = list(map(int, input().split()))\n",
    "lt, rt = 0, max(a)*m\n",
    "\n",
    "while lt<=rt:\n",
    "    mid = (lt+rt) // 2\n",
    "\n",
    "    if check(mid) >= m:\n",
    "        res = mid\n",
    "        rt = mid - 1\n",
    "    else:\n",
    "        lt = mid + 1\n",
    "\n",
    "print(res)"
   ]
  },
  {
   "cell_type": "code",
   "execution_count": null,
   "metadata": {},
   "outputs": [],
   "source": []
  }
 ],
 "metadata": {
  "language_info": {
   "name": "python"
  }
 },
 "nbformat": 4,
 "nbformat_minor": 2
}
