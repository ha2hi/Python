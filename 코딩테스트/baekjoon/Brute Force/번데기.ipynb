{
 "cells": [
  {
   "cell_type": "code",
   "execution_count": 15,
   "metadata": {},
   "outputs": [
    {
     "name": "stdout",
     "output_type": "stream",
     "text": [
      "3\n"
     ]
    }
   ],
   "source": [
    "# https://www.acmicpc.net/problem/15721\n",
    "a = int(input())\n",
    "t = int(input())\n",
    "k = int(input())\n",
    "\n",
    "bundegi = []\n",
    "bun = degi = 1\n",
    "n = 0\n",
    "\n",
    "while True:\n",
    "    prev = bun\n",
    "    n += 1\n",
    "    \n",
    "    for _ in range(2):\n",
    "        bundegi.append((bun, 0))\n",
    "        bun += 1\n",
    "        bundegi.append((degi, 1))\n",
    "        degi += 1\n",
    "    \n",
    "    for _ in range(n+1):\n",
    "        bundegi.append((bun, 0))\n",
    "        bun += 1\n",
    "    \n",
    "    for _ in range(n+1):\n",
    "        bundegi.append((degi, 1))\n",
    "        degi += 1\n",
    "\n",
    "    if prev<t<=bun:\n",
    "        print(bundegi.index((t, k)) % a)\n",
    "        break"
   ]
  },
  {
   "cell_type": "code",
   "execution_count": null,
   "metadata": {},
   "outputs": [],
   "source": []
  }
 ],
 "metadata": {
  "kernelspec": {
   "display_name": "base",
   "language": "python",
   "name": "python3"
  },
  "language_info": {
   "codemirror_mode": {
    "name": "ipython",
    "version": 3
   },
   "file_extension": ".py",
   "mimetype": "text/x-python",
   "name": "python",
   "nbconvert_exporter": "python",
   "pygments_lexer": "ipython3",
   "version": "3.9.7"
  }
 },
 "nbformat": 4,
 "nbformat_minor": 2
}
