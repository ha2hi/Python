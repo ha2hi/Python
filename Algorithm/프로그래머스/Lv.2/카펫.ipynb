{
 "cells": [
  {
   "cell_type": "code",
   "execution_count": 11,
   "metadata": {},
   "outputs": [
    {
     "data": {
      "text/plain": [
       "[8, 6]"
      ]
     },
     "execution_count": 11,
     "metadata": {},
     "output_type": "execute_result"
    }
   ],
   "source": [
    "# 수학 문제\n",
    "# 가로가 a, 세로가 b인 경우 2개의 방정식이 생김 \n",
    "# brown = 2*a + 2*b - 4, yellow = (a-2)*(a-b)\n",
    "# brown * yellow = a*b\n",
    "def solution(brown, yellow):\n",
    "    total = brown + yellow\n",
    "    for a in range(1, total+1):\n",
    "        if total % a == 0:\n",
    "            b = total//a\n",
    "            if a >= b and total == a*b and (2*a)+(2*b)==brown+4:\n",
    "                return [a, b]\n",
    "\n",
    "brown = 24 \n",
    "yellow = 24\n",
    "solution(brown, yellow)"
   ]
  },
  {
   "cell_type": "code",
   "execution_count": null,
   "metadata": {},
   "outputs": [],
   "source": []
  }
 ],
 "metadata": {
  "kernelspec": {
   "display_name": "base",
   "language": "python",
   "name": "python3"
  },
  "language_info": {
   "codemirror_mode": {
    "name": "ipython",
    "version": 3
   },
   "file_extension": ".py",
   "mimetype": "text/x-python",
   "name": "python",
   "nbconvert_exporter": "python",
   "pygments_lexer": "ipython3",
   "version": "3.9.7"
  }
 },
 "nbformat": 4,
 "nbformat_minor": 2
}
