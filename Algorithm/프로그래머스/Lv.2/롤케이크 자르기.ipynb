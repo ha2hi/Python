{
 "cells": [
  {
   "cell_type": "code",
   "execution_count": 2,
   "metadata": {},
   "outputs": [
    {
     "data": {
      "text/plain": [
       "2"
      ]
     },
     "execution_count": 2,
     "metadata": {},
     "output_type": "execute_result"
    }
   ],
   "source": [
    "from collections import Counter\n",
    "def solution(topping):\n",
    "    topping_c = Counter(topping)\n",
    "    tmp = set()\n",
    "    cnt = 0\n",
    "    for x in topping:\n",
    "        topping_c[x] -= 1\n",
    "        tmp.add(x)\n",
    "        if topping_c[x] == 0:\n",
    "            del topping_c[x]\n",
    "        if len(topping_c) == len(tmp):\n",
    "            cnt += 1\n",
    "    return cnt\n",
    "\n",
    "topping= [1, 2, 1, 3, 1, 4, 1, 2] \n",
    "solution(topping)"
   ]
  },
  {
   "cell_type": "code",
   "execution_count": 9,
   "metadata": {},
   "outputs": [
    {
     "data": {
      "text/plain": [
       "2"
      ]
     },
     "execution_count": 9,
     "metadata": {},
     "output_type": "execute_result"
    }
   ],
   "source": [
    "from collections import Counter\n",
    "def solution(topping):\n",
    "    topping_c = Counter(topping)\n",
    "    tmp = set()\n",
    "    cnt = 0\n",
    "    for x in topping:\n",
    "        topping_c[x] -= 1\n",
    "        tmp.add(x)\n",
    "        if topping_c[x] == 0:\n",
    "            del topping_c[x]\n",
    "        if len(topping_c) == len(tmp):\n",
    "            cnt += 1\n",
    "    return cnt\n",
    "\n",
    "topping = [1, 2, 1, 3, 1, 4, 1, 2] \n",
    "solution(topping)"
   ]
  },
  {
   "cell_type": "code",
   "execution_count": null,
   "metadata": {},
   "outputs": [],
   "source": []
  }
 ],
 "metadata": {
  "kernelspec": {
   "display_name": "base",
   "language": "python",
   "name": "python3"
  },
  "language_info": {
   "codemirror_mode": {
    "name": "ipython",
    "version": 3
   },
   "file_extension": ".py",
   "mimetype": "text/x-python",
   "name": "python",
   "nbconvert_exporter": "python",
   "pygments_lexer": "ipython3",
   "version": "3.9.7"
  }
 },
 "nbformat": 4,
 "nbformat_minor": 2
}
