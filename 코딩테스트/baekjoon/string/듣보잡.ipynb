{
 "cells": [
  {
   "cell_type": "code",
   "execution_count": 1,
   "metadata": {},
   "outputs": [
    {
     "name": "stdout",
     "output_type": "stream",
     "text": [
      "['baesangwook', 'ohhenrie']\n"
     ]
    }
   ],
   "source": [
    "n, m = map(int, input().split())\n",
    "tmp = set()\n",
    "res = []\n",
    "for _ in range(n):\n",
    "    s = input()\n",
    "    tmp.add(s)\n",
    "for _ in range(m):\n",
    "    s = input()\n",
    "    if s in tmp:\n",
    "        res.append(s)\n",
    "print(len(res))\n",
    "res.sort()\n",
    "for x in res:\n",
    "    print(x)"
   ]
  },
  {
   "cell_type": "code",
   "execution_count": null,
   "metadata": {},
   "outputs": [],
   "source": []
  }
 ],
 "metadata": {
  "kernelspec": {
   "display_name": "base",
   "language": "python",
   "name": "python3"
  },
  "language_info": {
   "codemirror_mode": {
    "name": "ipython",
    "version": 3
   },
   "file_extension": ".py",
   "mimetype": "text/x-python",
   "name": "python",
   "nbconvert_exporter": "python",
   "pygments_lexer": "ipython3",
   "version": "3.9.7"
  }
 },
 "nbformat": 4,
 "nbformat_minor": 2
}
