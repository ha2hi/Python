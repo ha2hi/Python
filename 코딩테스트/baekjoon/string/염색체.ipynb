{
 "cells": [
  {
   "cell_type": "code",
   "execution_count": 11,
   "metadata": {},
   "outputs": [
    {
     "name": "stdout",
     "output_type": "stream",
     "text": [
      "Infected!\n",
      "Infected!\n",
      "Infected!\n",
      "Infected!\n",
      "Infected!\n",
      "Good\n",
      "Good\n",
      "Good\n",
      "Good\n",
      "Good\n",
      "Good\n",
      "Good\n",
      "Good\n",
      "Good\n",
      "Good\n"
     ]
    }
   ],
   "source": [
    "import re\n",
    "t = int(input())\n",
    "for _ in range(t):\n",
    "    s = input()\n",
    "    s = re.findall('^[A-F]?A+F+C+[A-F]?$', s)\n",
    "    if s:\n",
    "        print(\"Infected!\")\n",
    "    else:\n",
    "        print(\"Good\")\n"
   ]
  },
  {
   "cell_type": "code",
   "execution_count": null,
   "metadata": {},
   "outputs": [],
   "source": []
  }
 ],
 "metadata": {
  "kernelspec": {
   "display_name": "base",
   "language": "python",
   "name": "python3"
  },
  "language_info": {
   "codemirror_mode": {
    "name": "ipython",
    "version": 3
   },
   "file_extension": ".py",
   "mimetype": "text/x-python",
   "name": "python",
   "nbconvert_exporter": "python",
   "pygments_lexer": "ipython3",
   "version": "3.9.7"
  }
 },
 "nbformat": 4,
 "nbformat_minor": 2
}
