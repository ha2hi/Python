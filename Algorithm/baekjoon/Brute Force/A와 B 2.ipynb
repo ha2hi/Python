{
 "cells": [
  {
   "cell_type": "code",
   "execution_count": 12,
   "metadata": {},
   "outputs": [
    {
     "name": "stdout",
     "output_type": "stream",
     "text": [
      "1\n"
     ]
    },
    {
     "ename": "SystemExit",
     "evalue": "",
     "output_type": "error",
     "traceback": [
      "An exception has occurred, use %tb to see the full traceback.\n",
      "\u001b[0;31mSystemExit\u001b[0m\n"
     ]
    }
   ],
   "source": [
    "import sys\n",
    "def dfs(res):\n",
    "    if res == s:\n",
    "        print(1)\n",
    "        sys.exit()\n",
    "\n",
    "    if len(res) < n:\n",
    "        return 0\n",
    "    \n",
    "    if res[-1] == 'A':\n",
    "        dfs(res[:-1])\n",
    "    \n",
    "    if res[0] == 'B':\n",
    "        dfs(res[1:][::-1])\n",
    "\n",
    "s = input()\n",
    "t = input()\n",
    "\n",
    "n = len(s)\n",
    "dfs(t)\n",
    "print(0)"
   ]
  },
  {
   "cell_type": "code",
   "execution_count": 2,
   "metadata": {},
   "outputs": [],
   "source": [
    "import sys\n",
    "def dfs(res):\n",
    "    if res == s:\n",
    "        print(1)\n",
    "        sys.exit()\n",
    "\n",
    "    if len(res) < n:\n",
    "        return 0\n",
    "    \n",
    "    if res[-1] == 'A':\n",
    "        dfs(res[:-1])\n",
    "    \n",
    "    if res[0] == 'B':\n",
    "        dfs(res[1:][::-1])\n",
    "\n",
    "s = input()\n",
    "t = input()\n",
    "n = len(s)\n",
    "\n",
    "dfs(t)\n",
    "print(0)"
   ]
  },
  {
   "cell_type": "code",
   "execution_count": null,
   "metadata": {},
   "outputs": [],
   "source": []
  }
 ],
 "metadata": {
  "kernelspec": {
   "display_name": "base",
   "language": "python",
   "name": "python3"
  },
  "language_info": {
   "codemirror_mode": {
    "name": "ipython",
    "version": 3
   },
   "file_extension": ".py",
   "mimetype": "text/x-python",
   "name": "python",
   "nbconvert_exporter": "python",
   "pygments_lexer": "ipython3",
   "version": "3.9.7"
  }
 },
 "nbformat": 4,
 "nbformat_minor": 2
}
