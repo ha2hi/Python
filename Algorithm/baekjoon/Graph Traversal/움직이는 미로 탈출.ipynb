{
 "cells": [
  {
   "cell_type": "code",
   "execution_count": 40,
   "metadata": {},
   "outputs": [
    {
     "name": "stdout",
     "output_type": "stream",
     "text": [
      "0\n"
     ]
    }
   ],
   "source": [
    "# https://www.acmicpc.net/problem/16954\n",
    "from collections import deque\n",
    "def bfs():\n",
    "    while q:\n",
    "        x, y = q.popleft()\n",
    "        if board[x][y] == '#':\n",
    "            continue\n",
    "        for i in range(9):\n",
    "            xx = x+dx[i]\n",
    "            yy = y+dy[i]\n",
    "            if 0<=xx<n and 0<=yy<n and board[xx][yy] != '#':\n",
    "                if xx == 0:\n",
    "                    return 1\n",
    "                if not visited[xx-1][yy]:\n",
    "                    visited[xx-1][yy] = True\n",
    "                    q.append((xx-1,yy))\n",
    "    return 0\n",
    "\n",
    "n = 8\n",
    "board = [list(input()) for _ in range(n)]\n",
    "visited = [[False] * n for _ in range(n)]\n",
    "visited[7][0] = True\n",
    "q = deque([(7,0)])\n",
    "dx = [-1,0,1,0,1,1,-1,-1,0]\n",
    "dy = [0,1,0,-1,-1,1,-1,1,0]\n",
    "\n",
    "print(bfs())"
   ]
  },
  {
   "cell_type": "code",
   "execution_count": null,
   "metadata": {},
   "outputs": [],
   "source": []
  }
 ],
 "metadata": {
  "kernelspec": {
   "display_name": "base",
   "language": "python",
   "name": "python3"
  },
  "language_info": {
   "codemirror_mode": {
    "name": "ipython",
    "version": 3
   },
   "file_extension": ".py",
   "mimetype": "text/x-python",
   "name": "python",
   "nbconvert_exporter": "python",
   "pygments_lexer": "ipython3",
   "version": "3.9.7"
  }
 },
 "nbformat": 4,
 "nbformat_minor": 2
}
