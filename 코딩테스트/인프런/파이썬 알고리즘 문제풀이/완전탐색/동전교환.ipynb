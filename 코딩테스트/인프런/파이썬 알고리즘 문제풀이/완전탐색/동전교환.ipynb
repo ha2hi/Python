{
 "cells": [
  {
   "cell_type": "code",
   "execution_count": 2,
   "metadata": {},
   "outputs": [
    {
     "data": {
      "text/plain": [
       "3"
      ]
     },
     "execution_count": 2,
     "metadata": {},
     "output_type": "execute_result"
    }
   ],
   "source": [
    "def solution(n, coin, m):\n",
    "    coin.sort()\n",
    "    res = m\n",
    "    def dfs(l, sum):\n",
    "        nonlocal res\n",
    "        if sum > m:\n",
    "            return\n",
    "        if sum == m:\n",
    "            res = min(res, l)\n",
    "        else:\n",
    "            for i in range(n):\n",
    "                dfs(l+1, sum+coin[i])\n",
    "    dfs(0,0)\n",
    "    return res\n",
    "\n",
    "n = 3\n",
    "coin = [1,2,5]\n",
    "m = 15\n",
    "solution(n, coin, m)"
   ]
  },
  {
   "cell_type": "code",
   "execution_count": null,
   "metadata": {},
   "outputs": [],
   "source": []
  }
 ],
 "metadata": {
  "kernelspec": {
   "display_name": "base",
   "language": "python",
   "name": "python3"
  },
  "language_info": {
   "codemirror_mode": {
    "name": "ipython",
    "version": 3
   },
   "file_extension": ".py",
   "mimetype": "text/x-python",
   "name": "python",
   "nbconvert_exporter": "python",
   "pygments_lexer": "ipython3",
   "version": "3.9.7"
  }
 },
 "nbformat": 4,
 "nbformat_minor": 2
}
