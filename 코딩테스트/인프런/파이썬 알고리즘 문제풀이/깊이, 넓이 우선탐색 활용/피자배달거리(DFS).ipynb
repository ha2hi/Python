{
 "cells": [
  {
   "cell_type": "code",
   "execution_count": 17,
   "metadata": {},
   "outputs": [
    {
     "data": {
      "text/plain": [
       "6"
      ]
     },
     "execution_count": 17,
     "metadata": {},
     "output_type": "execute_result"
    }
   ],
   "source": [
    "from itertools import combinations, permutations\n",
    "def solution(n, m):\n",
    "    board = [list(map(int, input().split())) for _ in range(n)]\n",
    "    res = float('inf')\n",
    "    pizza = []\n",
    "    house = []\n",
    "    cb = [0] * m\n",
    "    for i in range(n):\n",
    "        for j in range(n):\n",
    "            if board[i][j] == 2:\n",
    "                pizza.append((i,j))\n",
    "            elif board[i][j] == 1:\n",
    "                house.append((i,j))\n",
    "\n",
    "    def dfs(l, s):\n",
    "        nonlocal res\n",
    "        if l == m:\n",
    "            sum = 0\n",
    "            for x1, y1 in house:\n",
    "                dis = float('inf')\n",
    "                for j in cb:\n",
    "                    x2 = pizza[j][0]\n",
    "                    y2 = pizza[j][1]\n",
    "                    dis = min(dis, abs(x1-x2)+abs(y1-y2))\n",
    "                sum += dis\n",
    "            res = min(res, sum)\n",
    "\n",
    "        else:\n",
    "            for i in range(s, len(pizza)):\n",
    "                cb[l] = i\n",
    "                dfs(l+1, i+1)    \n",
    "    dfs(0,0)\n",
    "\n",
    "    return res\n",
    "\n",
    "n, m = map(int, input().split())\n",
    "solution(n, m)"
   ]
  },
  {
   "cell_type": "code",
   "execution_count": null,
   "metadata": {},
   "outputs": [],
   "source": []
  }
 ],
 "metadata": {
  "kernelspec": {
   "display_name": "base",
   "language": "python",
   "name": "python3"
  },
  "language_info": {
   "codemirror_mode": {
    "name": "ipython",
    "version": 3
   },
   "file_extension": ".py",
   "mimetype": "text/x-python",
   "name": "python",
   "nbconvert_exporter": "python",
   "pygments_lexer": "ipython3",
   "version": "3.9.7"
  }
 },
 "nbformat": 4,
 "nbformat_minor": 2
}
