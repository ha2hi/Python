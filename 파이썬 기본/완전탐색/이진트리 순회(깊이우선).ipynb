{
 "cells": [
  {
   "cell_type": "code",
   "execution_count": 4,
   "metadata": {},
   "outputs": [
    {
     "name": "stdout",
     "output_type": "stream",
     "text": [
      "1 2 4 5 3 6 7 "
     ]
    }
   ],
   "source": [
    "# 전위 순회\n",
    "class TreeNode:\n",
    "    def __init__(self, v = 0, l = None, r = None):\n",
    "        self.value = v\n",
    "        self.left = l\n",
    "        self.right = r\n",
    "\n",
    "def DFS(root):\n",
    "    if root is None:\n",
    "        return\n",
    "    print(root.value, end = \" \")\n",
    "    DFS(root.left)\n",
    "    DFS(root.right)\n",
    "\n",
    "root = TreeNode(v = 1)\n",
    "root.left = TreeNode(v = 2)\n",
    "root.right = TreeNode(v = 3)\n",
    "root.left.left = TreeNode(v = 4)\n",
    "root.left.right = TreeNode(v = 5)\n",
    "root.right.left = TreeNode(v = 6)\n",
    "root.right.right = TreeNode(v = 7)\n",
    "DFS(root)\n"
   ]
  },
  {
   "cell_type": "code",
   "execution_count": 7,
   "metadata": {},
   "outputs": [
    {
     "name": "stdout",
     "output_type": "stream",
     "text": [
      "1 2 4 5 3 6 7 "
     ]
    }
   ],
   "source": [
    "def DFS(v):\n",
    "    if v > 7:\n",
    "        return\n",
    "    print(v, end = ' ')\n",
    "    DFS(v*2)\n",
    "    DFS(v*2+1)\n",
    "DFS(1)"
   ]
  },
  {
   "cell_type": "code",
   "execution_count": null,
   "metadata": {},
   "outputs": [],
   "source": []
  }
 ],
 "metadata": {
  "kernelspec": {
   "display_name": "base",
   "language": "python",
   "name": "python3"
  },
  "language_info": {
   "codemirror_mode": {
    "name": "ipython",
    "version": 3
   },
   "file_extension": ".py",
   "mimetype": "text/x-python",
   "name": "python",
   "nbconvert_exporter": "python",
   "pygments_lexer": "ipython3",
   "version": "3.9.7"
  },
  "orig_nbformat": 4
 },
 "nbformat": 4,
 "nbformat_minor": 2
}
