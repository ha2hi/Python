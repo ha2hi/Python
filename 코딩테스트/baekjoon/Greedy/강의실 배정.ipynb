{
 "cells": [
  {
   "cell_type": "code",
   "execution_count": 2,
   "metadata": {},
   "outputs": [
    {
     "name": "stdout",
     "output_type": "stream",
     "text": [
      "2\n"
     ]
    }
   ],
   "source": [
    "# https://www.acmicpc.net/problem/11000\n",
    "import heapq\n",
    "def solution(n, a):\n",
    "    tmp = [a[0][1]]\n",
    "    for i in range(1, n):\n",
    "        if a[i][0] >= tmp[0]:\n",
    "            heapq.heappop(tmp)\n",
    "\n",
    "        heapq.heappush(tmp, a[i][1])\n",
    "    \n",
    "    return len(tmp)\n",
    "\n",
    "n = int(input())\n",
    "a = []\n",
    "\n",
    "for _ in range(n):\n",
    "    x, y = map(int, input().split())\n",
    "    a.append((x,y))\n",
    "a.sort(key=lambda x : (x[0], x[1]))\n",
    "\n",
    "print(solution(n, a))"
   ]
  },
  {
   "cell_type": "code",
   "execution_count": null,
   "metadata": {},
   "outputs": [],
   "source": []
  }
 ],
 "metadata": {
  "kernelspec": {
   "display_name": "base",
   "language": "python",
   "name": "python3"
  },
  "language_info": {
   "codemirror_mode": {
    "name": "ipython",
    "version": 3
   },
   "file_extension": ".py",
   "mimetype": "text/x-python",
   "name": "python",
   "nbconvert_exporter": "python",
   "pygments_lexer": "ipython3",
   "version": "3.9.7"
  }
 },
 "nbformat": 4,
 "nbformat_minor": 2
}
