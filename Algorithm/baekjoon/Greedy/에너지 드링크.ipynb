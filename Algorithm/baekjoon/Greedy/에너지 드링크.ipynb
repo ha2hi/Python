{
 "cells": [
  {
   "cell_type": "code",
   "execution_count": 5,
   "metadata": {},
   "outputs": [
    {
     "name": "stdout",
     "output_type": "stream",
     "text": [
      "716.5\n"
     ]
    }
   ],
   "source": [
    "# https://www.acmicpc.net/problem/20115\n",
    "def solution(n,a):\n",
    "    a.sort(reverse=True)\n",
    "    res = a[0]\n",
    "    for i in range(1,n):\n",
    "        res += (a[i]/2)\n",
    "    \n",
    "    return res\n",
    "\n",
    "n = int(input())\n",
    "a = list(map(int, input().split()))\n",
    "print(solution(n,a))\n"
   ]
  },
  {
   "cell_type": "code",
   "execution_count": null,
   "metadata": {},
   "outputs": [],
   "source": []
  }
 ],
 "metadata": {
  "kernelspec": {
   "display_name": "base",
   "language": "python",
   "name": "python3"
  },
  "language_info": {
   "codemirror_mode": {
    "name": "ipython",
    "version": 3
   },
   "file_extension": ".py",
   "mimetype": "text/x-python",
   "name": "python",
   "nbconvert_exporter": "python",
   "pygments_lexer": "ipython3",
   "version": "3.9.7"
  }
 },
 "nbformat": 4,
 "nbformat_minor": 2
}
