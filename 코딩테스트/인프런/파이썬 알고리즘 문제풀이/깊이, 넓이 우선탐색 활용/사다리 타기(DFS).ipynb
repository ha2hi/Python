{
 "cells": [
  {
   "cell_type": "code",
   "execution_count": 5,
   "metadata": {},
   "outputs": [
    {
     "name": "stdout",
     "output_type": "stream",
     "text": [
      "7\n"
     ]
    }
   ],
   "source": [
    "def solution():\n",
    "    board = [list(map(int, input())) for _ in range(10)]\n",
    "    ch = [[0] * 10 for _ in range(10)]\n",
    "    for i in range(10):\n",
    "        if board[9][i] == 2:\n",
    "            s_x = 9\n",
    "            s_y = i\n",
    "    ch[s_x][s_y] = 1\n",
    "    \n",
    "    def dfs(x, y):\n",
    "        if x== 0:\n",
    "            print(y)\n",
    "        else:\n",
    "            if 0<=y-1<10 and board[x][y-1] == 1 and ch[x][y-1] == 0:\n",
    "                ch[x][y-1] = 1\n",
    "                dfs(x,y-1)\n",
    "            elif 0<=y+1<10 and board[x][y+1] == 1 and ch[x][y+1] == 0:\n",
    "                ch[x][y+1] = 1\n",
    "                dfs(x,y+1)\n",
    "            else:\n",
    "                ch[x-1][y] = 1\n",
    "                dfs(x-1,y)\n",
    "    dfs(s_x, s_y)\n",
    "\n",
    "solution()"
   ]
  },
  {
   "cell_type": "code",
   "execution_count": null,
   "metadata": {},
   "outputs": [],
   "source": []
  }
 ],
 "metadata": {
  "kernelspec": {
   "display_name": "base",
   "language": "python",
   "name": "python3"
  },
  "language_info": {
   "codemirror_mode": {
    "name": "ipython",
    "version": 3
   },
   "file_extension": ".py",
   "mimetype": "text/x-python",
   "name": "python",
   "nbconvert_exporter": "python",
   "pygments_lexer": "ipython3",
   "version": "3.9.7"
  }
 },
 "nbformat": 4,
 "nbformat_minor": 2
}
