{
 "cells": [
  {
   "cell_type": "code",
   "execution_count": 6,
   "metadata": {},
   "outputs": [
    {
     "name": "stdout",
     "output_type": "stream",
     "text": [
      "1\n",
      "2\n"
     ]
    }
   ],
   "source": [
    "def solution(j,n,candy):\n",
    "    candy.sort(key=lambda x: x[0]*x[1], reverse=True)\n",
    "    res = 0\n",
    "\n",
    "    for c in candy:\n",
    "        j -= (c[0]*c[1])\n",
    "        res += 1\n",
    "\n",
    "        if j <= 0:\n",
    "            return res\n",
    "\n",
    "t = int(input())\n",
    "for _ in range(t):\n",
    "    j, n = map(int, input().split())\n",
    "    candy = []\n",
    "    for _ in range(n):\n",
    "        candy.append(list(map(int, input().split())))\n",
    "    \n",
    "    print(solution(j,n,candy))"
   ]
  },
  {
   "cell_type": "code",
   "execution_count": null,
   "metadata": {},
   "outputs": [],
   "source": []
  }
 ],
 "metadata": {
  "kernelspec": {
   "display_name": "base",
   "language": "python",
   "name": "python3"
  },
  "language_info": {
   "codemirror_mode": {
    "name": "ipython",
    "version": 3
   },
   "file_extension": ".py",
   "mimetype": "text/x-python",
   "name": "python",
   "nbconvert_exporter": "python",
   "pygments_lexer": "ipython3",
   "version": "3.9.7"
  }
 },
 "nbformat": 4,
 "nbformat_minor": 2
}
