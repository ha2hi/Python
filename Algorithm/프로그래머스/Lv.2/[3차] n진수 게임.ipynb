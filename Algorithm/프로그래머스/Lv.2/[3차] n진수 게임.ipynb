{
 "cells": [
  {
   "cell_type": "code",
   "execution_count": 45,
   "metadata": {},
   "outputs": [
    {
     "data": {
      "text/plain": [
       "'0111'"
      ]
     },
     "execution_count": 45,
     "metadata": {},
     "output_type": "execute_result"
    }
   ],
   "source": [
    "# https://school.programmers.co.kr/learn/courses/30/lessons/17687\n",
    "def prime_number(now, n):\n",
    "    prime = '0123456789ABCDEF'\n",
    "    q, r = divmod(now, n)\n",
    "    if q == 0:\n",
    "        return prime[r]\n",
    "    else:\n",
    "        return prime_number(q, n) + prime[r]\n",
    "\n",
    "def solution(n, t, m, p):\n",
    "    answer = '0'\n",
    "    val = 1\n",
    "    while len(answer) <= t*m:\n",
    "        answer += prime_number(val, n)\n",
    "        val += 1\n",
    "    return answer[p-1:t*m:m]\n",
    "\n",
    "n = 2\n",
    "t = 4\n",
    "m = 2\n",
    "p = 1\n",
    "solution(n, t, m, p)"
   ]
  },
  {
   "cell_type": "code",
   "execution_count": null,
   "metadata": {},
   "outputs": [],
   "source": []
  }
 ],
 "metadata": {
  "kernelspec": {
   "display_name": "base",
   "language": "python",
   "name": "python3"
  },
  "language_info": {
   "codemirror_mode": {
    "name": "ipython",
    "version": 3
   },
   "file_extension": ".py",
   "mimetype": "text/x-python",
   "name": "python",
   "nbconvert_exporter": "python",
   "pygments_lexer": "ipython3",
   "version": "3.9.7"
  }
 },
 "nbformat": 4,
 "nbformat_minor": 2
}
