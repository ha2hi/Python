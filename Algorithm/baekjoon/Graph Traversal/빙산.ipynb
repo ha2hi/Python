{
 "cells": [
  {
   "cell_type": "code",
   "execution_count": 2,
   "metadata": {},
   "outputs": [
    {
     "name": "stdout",
     "output_type": "stream",
     "text": [
      "2\n"
     ]
    }
   ],
   "source": [
    "# https://www.acmicpc.net/problem/2573\n",
    "from collections import deque\n",
    "def bfs(x,y):\n",
    "    q = deque([(x,y)])\n",
    "    ch[x][y] = True\n",
    "    tmp = []\n",
    "    while q:\n",
    "        now_x, now_y = q.popleft()\n",
    "        c = 0\n",
    "        for i in range(4):\n",
    "            xx = now_x + dx[i]\n",
    "            yy = now_y + dy[i]\n",
    "            if 0<=xx<n and 0<=yy<m:\n",
    "                if board[xx][yy] == 0:\n",
    "                    c += 1\n",
    "                elif board[xx][yy] and not ch[xx][yy]:\n",
    "                    ch[xx][yy] = True\n",
    "                    q.append((xx,yy))\n",
    "\n",
    "        if c > 0:\n",
    "            tmp.append((now_x, now_y, c))\n",
    "\n",
    "    for a, b, c in tmp:\n",
    "        board[a][b] = max(0, board[a][b] - c)\n",
    "\n",
    "    return 1\n",
    "\n",
    "n, m = map(int, input().split())\n",
    "board = [list(map(int, input().split())) for _ in range(n)]\n",
    "dx = [1,0,-1,0]\n",
    "dy = [0,1,0,-1]\n",
    "ice = []\n",
    "\n",
    "for i in range(n):\n",
    "    for j in range(m):\n",
    "        if board[i][j] != 0:\n",
    "            ice.append((i,j))\n",
    "\n",
    "flag = False\n",
    "year = 0\n",
    "while ice:\n",
    "    ch = [[False] * m for _ in range(n)]\n",
    "    delList = []\n",
    "    cnt = 0\n",
    "    for x, y in ice:\n",
    "        if not ch[x][y] and board[x][y]:\n",
    "            cnt += bfs(x,y)\n",
    "        if board[x][y] == 0:\n",
    "            delList.append((x,y))\n",
    "    \n",
    "    if cnt > 1:\n",
    "        flag = True\n",
    "        break\n",
    "    \n",
    "    ice = sorted(list(set(ice) - set(delList)))\n",
    "    year += 1\n",
    "\n",
    "if flag:\n",
    "    print(year)\n",
    "else:\n",
    "    print(0)"
   ]
  },
  {
   "cell_type": "markdown",
   "metadata": {},
   "source": []
  },
  {
   "cell_type": "code",
   "execution_count": 15,
   "metadata": {},
   "outputs": [
    {
     "data": {
      "text/plain": [
       "deque([])"
      ]
     },
     "execution_count": 15,
     "metadata": {},
     "output_type": "execute_result"
    }
   ],
   "source": [
    "q"
   ]
  },
  {
   "cell_type": "code",
   "execution_count": null,
   "metadata": {},
   "outputs": [],
   "source": []
  }
 ],
 "metadata": {
  "kernelspec": {
   "display_name": "base",
   "language": "python",
   "name": "python3"
  },
  "language_info": {
   "codemirror_mode": {
    "name": "ipython",
    "version": 3
   },
   "file_extension": ".py",
   "mimetype": "text/x-python",
   "name": "python",
   "nbconvert_exporter": "python",
   "pygments_lexer": "ipython3",
   "version": "3.9.7"
  }
 },
 "nbformat": 4,
 "nbformat_minor": 2
}
