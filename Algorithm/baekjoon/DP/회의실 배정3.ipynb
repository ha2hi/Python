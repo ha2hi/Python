{
 "cells": [
  {
   "cell_type": "code",
   "execution_count": null,
   "metadata": {},
   "outputs": [],
   "source": [
    "# https://www.acmicpc.net/problem/19622\n",
    "n = int(input())\n",
    "mettings = []\n",
    "for _ in range(n):\n",
    "    x,y,z = map(int, input().split())\n",
    "    mettings.append((x,y,z))\n",
    "\n",
    "mettings.sort()\n",
    "\n",
    "dp = [0] * n\n",
    "dp[0] = mettings[0][2]\n",
    "for i in range(1,n):\n",
    "    dp[i] = max(dp[i-1], dp[i-2]+ mettings[i][2])\n",
    "\n",
    "print(dp[n-1])"
   ]
  }
 ],
 "metadata": {
  "language_info": {
   "name": "python"
  }
 },
 "nbformat": 4,
 "nbformat_minor": 2
}
