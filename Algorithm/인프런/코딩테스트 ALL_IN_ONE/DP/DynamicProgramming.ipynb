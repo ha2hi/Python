{
 "cells": [
  {
   "attachments": {},
   "cell_type": "markdown",
   "metadata": {},
   "source": [
    "DP\n",
    "DP란 문제에 대한 정답이 될 가능성이 있는 모든 해결책을 \"체계적\"이고 \"효율적\"으로 탐색하는 풀이법\n",
    "1. 복잡한 문제를 작은 크기의 단위로 나눈다.\n",
    "2. 하위 답을 계산하고 저장한다. <- 메모리제이션\n",
    "3. 전체 답을 구한다.\n",
    "\n",
    "완전 탐색은 중복되는 문제를 여러번 푼다."
   ]
  },
  {
   "cell_type": "code",
   "execution_count": null,
   "metadata": {},
   "outputs": [],
   "source": [
    "# 피보나치\n",
    "# Top-down\n",
    "memo  = {}\n",
    "def fibo(n):\n",
    "    if n == 1 or 2:\n",
    "        return 1\n",
    "    if n not in memo:\n",
    "        memo[n] = fibo(n-1) + fibo(n-2)\n",
    "    return memo[n]"
   ]
  },
  {
   "cell_type": "code",
   "execution_count": null,
   "metadata": {},
   "outputs": [],
   "source": [
    "# 피보나치\n",
    "# Bottom-up\n",
    "memo = {1:1, 2:1}\n",
    "def fibo(n):\n",
    "    if n == 1 or n == 2:\n",
    "        return memo[n]\n",
    "    for i in range(3, n+1):\n",
    "        memo[i] = memo[i-1] + memo[i-2]\n",
    "    return memo[n]"
   ]
  },
  {
   "cell_type": "code",
   "execution_count": null,
   "metadata": {},
   "outputs": [],
   "source": []
  },
  {
   "cell_type": "code",
   "execution_count": 4,
   "metadata": {},
   "outputs": [
    {
     "data": {
      "text/plain": [
       "3"
      ]
     },
     "execution_count": 4,
     "metadata": {},
     "output_type": "execute_result"
    }
   ],
   "source": [
    "\"\"\"\n",
    "https://leetcode.com/problems/climbing-stairs/\n",
    "Climbing staris\n",
    "계단을 올라가고 있다. 이 계단의 꼭대기에 도착하려면 n개의 steps만큼 올라가야 한다. 한 번 올라갈 때\n",
    "마다 1 step 또는 2steps 올라갈 수 있다. 꼭 대기에 도달하는 방법의 개수는 총 몇가지 일까요?\n",
    "\n",
    "input : n = 2\n",
    "output : 2\n",
    "\n",
    "input : n = 3\n",
    "output : 3\n",
    "\"\"\"\n",
    "memo = {}\n",
    "def cs(n):\n",
    "    if n <= 2:\n",
    "        return n\n",
    "    if n not in memo:\n",
    "        memo[n] = cs(n-1) + cs(n-2)\n",
    "    return memo[n]\n",
    "cs(3)"
   ]
  },
  {
   "cell_type": "code",
   "execution_count": null,
   "metadata": {},
   "outputs": [],
   "source": []
  },
  {
   "attachments": {},
   "cell_type": "markdown",
   "metadata": {},
   "source": [
    "DP 정리\n",
    "\n",
    "1. Overlapping subproblem\n",
    "- problem을 작은 Subproplem으로 분해\n",
    "- Subproblem의 계산값을 재사용\n",
    "\n",
    "2. Optimal Substructure\n",
    "- Subproblem의 최적 해법으로 원래 문제의 최적 해법을 구할 수 있다.\n",
    "\n",
    "[문제 적용]\n",
    "1. Optimum value(최대, 최소), 방법의 개수 등을 구할 때\n",
    "- ~의 최소 비용은?\n",
    "- ~의 최대 이익은?\n",
    "- ~의 방법의 개수는?"
   ]
  },
  {
   "cell_type": "code",
   "execution_count": null,
   "metadata": {},
   "outputs": [],
   "source": []
  },
  {
   "cell_type": "code",
   "execution_count": 2,
   "metadata": {},
   "outputs": [
    {
     "data": {
      "text/plain": [
       "31"
      ]
     },
     "execution_count": 2,
     "metadata": {},
     "output_type": "execute_result"
    }
   ],
   "source": [
    "\"\"\"\n",
    "Min Cost Climbing stairs\n",
    "계단을 올라가고 있다. 한 번 올라갈 때마다 1step 또는 2 steps 올라갈 수 있다. 문제에서 정수형 배열 cost가 주어지는데,\n",
    "cost[i]는 i번 째 계단을 밟았을 때 지불해야 하는 비용이다.\n",
    "\n",
    "처음 시작은 index 0 또는 index 1 중 한 곳에서 시작할 수 있다.\n",
    "이계단의 꼭대기에 도착하기 위해 지불해야하는 비용의 최소값을 반환하라.\n",
    "input : cost = [10,15,20,17,1]\n",
    "output : 31\n",
    "\"\"\"\n",
    "# Top-down\n",
    "cost = [10,15,20,17,1]\n",
    "memo = {}\n",
    "def dp(n):\n",
    "    if n == 0 or n == 1:\n",
    "        return 0\n",
    "    if n not in memo:\n",
    "        memo[n] = min(dp(n-1) + cost[n-1], dp(n-2) + cost[n-2])\n",
    "    return memo[n]\n",
    "dp(5)"
   ]
  },
  {
   "cell_type": "code",
   "execution_count": 3,
   "metadata": {},
   "outputs": [
    {
     "data": {
      "text/plain": [
       "31"
      ]
     },
     "execution_count": 3,
     "metadata": {},
     "output_type": "execute_result"
    }
   ],
   "source": [
    "# Bottom-up\n",
    "cost = [10,15,20,17,1]\n",
    "def dp(n):\n",
    "    memo = [-1] * (n+1)\n",
    "    memo[0] = 0\n",
    "    memo[1] = 0\n",
    "    for i in range(2, n+1):\n",
    "        memo[i] = min(memo[i-1] + cost[i-1], memo[i-2] + cost[i-2])\n",
    "    return memo[n]\n",
    "dp(5)"
   ]
  },
  {
   "cell_type": "code",
   "execution_count": null,
   "metadata": {},
   "outputs": [],
   "source": []
  },
  {
   "cell_type": "code",
   "execution_count": null,
   "metadata": {},
   "outputs": [],
   "source": []
  }
 ],
 "metadata": {
  "kernelspec": {
   "display_name": "base",
   "language": "python",
   "name": "python3"
  },
  "language_info": {
   "codemirror_mode": {
    "name": "ipython",
    "version": 3
   },
   "file_extension": ".py",
   "mimetype": "text/x-python",
   "name": "python",
   "nbconvert_exporter": "python",
   "pygments_lexer": "ipython3",
   "version": "3.9.7"
  },
  "orig_nbformat": 4
 },
 "nbformat": 4,
 "nbformat_minor": 2
}
