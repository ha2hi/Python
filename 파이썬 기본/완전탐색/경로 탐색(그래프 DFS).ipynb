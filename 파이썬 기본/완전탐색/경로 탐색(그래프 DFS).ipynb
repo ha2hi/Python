{
 "cells": [
  {
   "cell_type": "code",
   "execution_count": null,
   "metadata": {},
   "outputs": [],
   "source": [
    "\"\"\"\n",
    "경로 탐색(그래프 DFS)\n",
    "방향그래프가 주어지면 1번 정점에서 N번 정점으로 가는 모든 경로의 가지 수를 출력하는 프 로그램을 작성하세요. 아래 그래프에서 1번 정점에서 5번 정점으로 가는 가지 수는\n",
    "1 2 3 4 5\n",
    "1 2 5\n",
    "1 3 4 2 5\n",
    "1 3 4 5\n",
    "1 4 2 5\n",
    "1 4 5\n",
    "\n",
    "총 6가지입니다.\n",
    "\n",
    "▣ 입력설명\n",
    "첫째 줄에는 정점의 수 N(2<=N<=20)와 간선의 수 M가 주어진다. 그 다음부터 M줄에 걸쳐 연 결정보가 주어진다.\n",
    "\n",
    "▣ 출력설명\n",
    "총 가지수를 출력한다.\n",
    "\n",
    "▣ 입력예제 1\n",
    "5 9 \n",
    "1 2 \n",
    "1 3 \n",
    "1 4 \n",
    "2 1 \n",
    "2 3 \n",
    "2 5 \n",
    "3 4 \n",
    "4 2 \n",
    "4 5\n",
    "\n",
    "▣ 출력예제 1 \n",
    "6"
   ]
  },
  {
   "cell_type": "code",
   "execution_count": null,
   "metadata": {},
   "outputs": [],
   "source": [
    "def DFS(v):\n",
    "    global cnt\n",
    "    if v == n:\n",
    "        cnt += 1\n",
    "        print(*path)\n",
    "    else:\n",
    "        for i in range(1, n+1):\n",
    "            if g[v][i] == 1 and ch[i] == 0:\n",
    "                ch[i] = 1\n",
    "                path.append(i)\n",
    "                DFS(i)\n",
    "                path.pop()\n",
    "                ch[i] = 0\n",
    "\n",
    "\n",
    "n, m = map(int, input().split())\n",
    "g = [[0] * (n+1) for _ in range(n+1)]\n",
    "ch = [0] * (n+1)\n",
    "for i in range(m):\n",
    "    a, b = map(int,input().split())\n",
    "    g[a][b] = 1\n",
    "cnt = 0\n",
    "path = []\n",
    "path.append(1)\n",
    "ch[1] = 1\n",
    "DFS(1)\n",
    "print(cnt)"
   ]
  },
  {
   "cell_type": "code",
   "execution_count": null,
   "metadata": {},
   "outputs": [],
   "source": []
  }
 ],
 "metadata": {
  "kernelspec": {
   "display_name": "base",
   "language": "python",
   "name": "python3"
  },
  "language_info": {
   "codemirror_mode": {
    "name": "ipython",
    "version": 3
   },
   "file_extension": ".py",
   "mimetype": "text/x-python",
   "name": "python",
   "nbconvert_exporter": "python",
   "pygments_lexer": "ipython3",
   "version": "3.9.7"
  },
  "orig_nbformat": 4
 },
 "nbformat": 4,
 "nbformat_minor": 2
}
