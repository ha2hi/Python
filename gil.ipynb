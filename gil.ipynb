{
 "cells": [
  {
   "attachments": {},
   "cell_type": "markdown",
   "metadata": {},
   "source": [
    "### GIL 이란?\n",
    "- GIL(Global Interpreter Lock) : 여러 개의 쓰레드가 파이썬 코드를 동시에 실행하지 못하도록 하는 것\n",
    "- 한 프로세스 내에서, Python 인터프리터는 한 시점에서 하나의 쓰레드에 의해서만 실행될 수 있다는 의미"
   ]
  },
  {
   "cell_type": "code",
   "execution_count": 10,
   "metadata": {},
   "outputs": [
    {
     "data": {
      "text/plain": [
       "2"
      ]
     },
     "execution_count": 10,
     "metadata": {},
     "output_type": "execute_result"
    }
   ],
   "source": [
    "# 파이썬의 모든 것은 객체이다.\n",
    "# 각 객체는 참조 횟수(Reference Count)를 저장하기 위한 필드를 갖는다.\n",
    "# GC(Garbage Collection)는 이러한 참조 횟수가 0이 되면 해당 객체를 메모리에서 삭제시키는 메커니즘의 동작하고 있다.\n",
    "# sys 라이브러리의 getrefcount()함수를 사용하면 참조 횟수를 알 수 있다.\n",
    "import sys\n",
    "x = []\n",
    "y = x\n",
    "z = [x]\n",
    "sys.getrefcount(x)"
   ]
  },
  {
   "cell_type": "code",
   "execution_count": null,
   "metadata": {},
   "outputs": [],
   "source": [
    "# 참조 횟수를 기반하여 GC를 진행하는 python 특성상, 여러 개의 쓰레드가 Python 인터프리터를 동시에 실행하면 Race Condition이 발생할 수 있다.\n",
    "# Race Condition이란, 하나의 값에 여러 쓰레드가 동시에 접근함으로써 올바르지 않게 읽히거나 쓰일 수 있는 상태를 말한다.\n",
    "# 이러한 상황을 보고 Thread-safe하지 않다고 표현합니다.\n",
    "# 즉, 여러 쓰레드가 python 인터프리터를 동시에 실행할 수 있게하면 GC가 제대로 동작하지 않을 수 있다는 말이다.\n",
    "# 물론 Race Condition은 뮤텍스(Mutex)를 이용하면 예방할 수 있다.\n",
    "# 뮤텍스란 멀티 쓰레딩 환경에서 여러개의 쓰레드가 어떤 공유 자원에 접근 가능할 때 그 공유 자원에 접근하기 위해 가지고 있어야 하는 일종의 열쇠같은 것이다."
   ]
  }
 ],
 "metadata": {
  "kernelspec": {
   "display_name": "base",
   "language": "python",
   "name": "python3"
  },
  "language_info": {
   "codemirror_mode": {
    "name": "ipython",
    "version": 3
   },
   "file_extension": ".py",
   "mimetype": "text/x-python",
   "name": "python",
   "nbconvert_exporter": "python",
   "pygments_lexer": "ipython3",
   "version": "3.9.7"
  },
  "orig_nbformat": 4
 },
 "nbformat": 4,
 "nbformat_minor": 2
}
