{
 "cells": [
  {
   "cell_type": "code",
   "execution_count": 1,
   "metadata": {},
   "outputs": [
    {
     "name": "stdout",
     "output_type": "stream",
     "text": [
      "3\n"
     ]
    },
    {
     "ename": "SystemExit",
     "evalue": "",
     "output_type": "error",
     "traceback": [
      "An exception has occurred, use %tb to see the full traceback.\n",
      "\u001b[0;31mSystemExit\u001b[0m\n"
     ]
    },
    {
     "name": "stderr",
     "output_type": "stream",
     "text": [
      "/Users/mzc01-hyucksangcho/opt/anaconda3/lib/python3.9/site-packages/IPython/core/interactiveshell.py:3452: UserWarning: To exit: use 'exit', 'quit', or Ctrl-D.\n",
      "  warn(\"To exit: use 'exit', 'quit', or Ctrl-D.\", stacklevel=1)\n"
     ]
    }
   ],
   "source": [
    "import sys\n",
    "def dfs(n, cnt):\n",
    "    global res\n",
    "    if res >= (cnt+(N-n)*2):\n",
    "        return\n",
    "\n",
    "    if n == N:\n",
    "        res = max(res, cnt)\n",
    "        if res ==N:\n",
    "            print(res)\n",
    "            sys.exit()\n",
    "        return\n",
    "\n",
    "    if arr[n][0] <= 0:\n",
    "        dfs(n+1, cnt)\n",
    "    else:\n",
    "        flag = False\n",
    "        for i in range(N):\n",
    "            if n==i or arr[i][0] <= 0:\n",
    "                continue\n",
    "            flag = True\n",
    "            arr[n][0] -= arr[i][1]\n",
    "            arr[i][0] -= arr[n][1]\n",
    "            dfs(n+1, cnt+int(arr[n][0]<=0)+int(arr[i][0]<=0))\n",
    "            arr[n][0] += arr[i][1]\n",
    "            arr[i][0] += arr[n][1]\n",
    "\n",
    "        if not flag:\n",
    "            dfs(n+1, cnt)\n",
    "\n",
    "\n",
    "N = int(input())\n",
    "arr = [list(map(int, input().split())) for _ in range(N)]\n",
    "res = 0\n",
    "\n",
    "dfs(0, 0)\n",
    "print(res)"
   ]
  },
  {
   "cell_type": "code",
   "execution_count": null,
   "metadata": {},
   "outputs": [],
   "source": []
  }
 ],
 "metadata": {
  "kernelspec": {
   "display_name": "base",
   "language": "python",
   "name": "python3"
  },
  "language_info": {
   "codemirror_mode": {
    "name": "ipython",
    "version": 3
   },
   "file_extension": ".py",
   "mimetype": "text/x-python",
   "name": "python",
   "nbconvert_exporter": "python",
   "pygments_lexer": "ipython3",
   "version": "3.9.7"
  }
 },
 "nbformat": 4,
 "nbformat_minor": 2
}
