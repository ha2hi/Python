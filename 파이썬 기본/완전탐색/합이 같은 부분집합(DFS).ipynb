{
 "cells": [
  {
   "cell_type": "code",
   "execution_count": null,
   "metadata": {},
   "outputs": [],
   "source": [
    "\"\"\"\n",
    "합이 같은 부분집합(DFS : 아마존 인터뷰)\n",
    "\n",
    "N개의 원소로 구성된 자연수 집합이 주어지면, 이 집합을 두 개의 부분집합으로 나누었을 때 두 부분집합의 원소의 합이 서로 같은 경우가 존재하면 “YES\"를 출력하고, 그렇지 않으면 ”NO\"를 출력하는 프로그램을 작성하세요.\n",
    "둘로 나뉘는 두 부분집합은 서로소 집합이며, 두 부분집합을 합하면 입력으로 주어진 원래의 집합이 되어 합니다.\n",
    "예를 들어 {1, 3, 5, 6, 7, 10}이 입력되면 {1, 3, 5, 7} = {6, 10} 으로 두 부분집합의 합이 16으로 같은 경우가 존재하는 것을 알 수 있다.\n",
    "\n",
    "▣ 입력설명\n",
    "첫 번째 줄에 자연수 N(1<=N<=10)이 주어집니다.\n",
    "두 번째 줄에 집합의 원소 N개가 주어진다. 각 원소는 중복되지 않는다.\n",
    "\n",
    "▣ 출력설명\n",
    "첫 번째 줄에 “YES\" 또는 ”NO\"를 출력한다.\n",
    "\n",
    "▣ 입력예제 1 \n",
    "6\n",
    "1 3 5 6 7 10\n",
    "\n",
    "▣ 출력예제 1\n",
    "YES\n",
    "\"\"\""
   ]
  },
  {
   "cell_type": "code",
   "execution_count": 9,
   "metadata": {},
   "outputs": [
    {
     "name": "stdout",
     "output_type": "stream",
     "text": [
      "NO\n"
     ]
    }
   ],
   "source": [
    "import sys\n",
    "def DFS(L, sum):\n",
    "    # 시간 복잡도 단축을 위해 사용\n",
    "    if sum > total//2:\n",
    "        return\n",
    "        \n",
    "    if L == n:\n",
    "        if sum == (total-sum):\n",
    "            print(\"YES\")\n",
    "            sys.exit(0)\n",
    "    else:\n",
    "        DFS(L+1, sum + a[L])\n",
    "        DFS(L+1, sum)\n",
    "\n",
    "n = int(input())\n",
    "ch = [0] * (n+1)\n",
    "a = list(map(int, input().split()))\n",
    "total = sum(a)\n",
    "DFS(0,0)\n",
    "print(\"NO\")"
   ]
  },
  {
   "cell_type": "code",
   "execution_count": null,
   "metadata": {},
   "outputs": [],
   "source": []
  },
  {
   "cell_type": "code",
   "execution_count": null,
   "metadata": {},
   "outputs": [],
   "source": []
  }
 ],
 "metadata": {
  "kernelspec": {
   "display_name": "base",
   "language": "python",
   "name": "python3"
  },
  "language_info": {
   "codemirror_mode": {
    "name": "ipython",
    "version": 3
   },
   "file_extension": ".py",
   "mimetype": "text/x-python",
   "name": "python",
   "nbconvert_exporter": "python",
   "pygments_lexer": "ipython3",
   "version": "3.9.7"
  },
  "orig_nbformat": 4
 },
 "nbformat": 4,
 "nbformat_minor": 2
}
