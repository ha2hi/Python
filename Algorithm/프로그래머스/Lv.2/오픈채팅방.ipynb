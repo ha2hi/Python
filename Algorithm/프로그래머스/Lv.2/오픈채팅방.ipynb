{
 "cells": [
  {
   "cell_type": "code",
   "execution_count": 21,
   "metadata": {},
   "outputs": [
    {
     "data": {
      "text/plain": [
       "['Prodo님이 들어왔습니다.', 'Ryan님이 들어왔습니다.', 'Prodo님이 나갔습니다.', 'Prodo님이 들어왔습니다.']"
      ]
     },
     "execution_count": 21,
     "metadata": {},
     "output_type": "execute_result"
    }
   ],
   "source": [
    "def solution(record):\n",
    "    res = []\n",
    "    name = {}\n",
    "    for r in record:\n",
    "        x = r.split()\n",
    "        if x[0] != 'Leave':\n",
    "            name[x[1]] = x[2]\n",
    "    \n",
    "    for r in record:\n",
    "        x = r.split()\n",
    "        if x[0] == 'Enter':\n",
    "            res.append(f'{name[x[1]]}님이 들어왔습니다.')\n",
    "        elif x[0] == 'Leave':\n",
    "            res.append(f'{name[x[1]]}님이 나갔습니다.')\n",
    "    return res\n",
    "\n",
    "record = [\"Enter uid1234 Muzi\", \"Enter uid4567 Prodo\",\"Leave uid1234\",\"Enter uid1234 Prodo\",\"Change uid4567 Ryan\"]\n",
    "solution(record)"
   ]
  },
  {
   "cell_type": "code",
   "execution_count": null,
   "metadata": {},
   "outputs": [],
   "source": []
  }
 ],
 "metadata": {
  "kernelspec": {
   "display_name": "base",
   "language": "python",
   "name": "python3"
  },
  "language_info": {
   "codemirror_mode": {
    "name": "ipython",
    "version": 3
   },
   "file_extension": ".py",
   "mimetype": "text/x-python",
   "name": "python",
   "nbconvert_exporter": "python",
   "pygments_lexer": "ipython3",
   "version": "3.9.7"
  }
 },
 "nbformat": 4,
 "nbformat_minor": 2
}
