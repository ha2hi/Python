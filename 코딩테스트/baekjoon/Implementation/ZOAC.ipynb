{
 "cells": [
  {
   "cell_type": "code",
   "execution_count": 14,
   "metadata": {},
   "outputs": [
    {
     "name": "stdout",
     "output_type": "stream",
     "text": [
      "A\n",
      "AI\n",
      "AIK\n",
      "ALIK\n",
      "ALINK\n",
      "ARLINK\n",
      "SARLINK\n",
      "SARTLINK\n"
     ]
    }
   ],
   "source": [
    "from collections import defaultdict\n",
    "s = input()\n",
    "res = [''] * len(s)\n",
    "tmp = dict()\n",
    "\n",
    "for i, v in enumerate(s):\n",
    "    tmp[v] = i\n",
    "\n",
    "for key, value in sorted(tmp.items()):\n",
    "    res[value] = key\n",
    "    print(''.join(res))"
   ]
  },
  {
   "cell_type": "code",
   "execution_count": null,
   "metadata": {},
   "outputs": [],
   "source": []
  }
 ],
 "metadata": {
  "kernelspec": {
   "display_name": "base",
   "language": "python",
   "name": "python3"
  },
  "language_info": {
   "codemirror_mode": {
    "name": "ipython",
    "version": 3
   },
   "file_extension": ".py",
   "mimetype": "text/x-python",
   "name": "python",
   "nbconvert_exporter": "python",
   "pygments_lexer": "ipython3",
   "version": "3.9.7"
  }
 },
 "nbformat": 4,
 "nbformat_minor": 2
}
