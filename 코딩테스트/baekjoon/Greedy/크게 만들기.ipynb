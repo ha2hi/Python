{
 "cells": [
  {
   "cell_type": "code",
   "execution_count": 17,
   "metadata": {},
   "outputs": [
    {
     "name": "stdout",
     "output_type": "stream",
     "text": [
      "775841\n"
     ]
    }
   ],
   "source": [
    "# https://www.acmicpc.net/problem/2812\n",
    "def solution(n,k,a):\n",
    "    stack = []\n",
    "    t = 0\n",
    "\n",
    "    for i in range(n):\n",
    "        while stack and stack[-1] < a[i] and t < k:\n",
    "            t += 1\n",
    "            stack.pop()\n",
    "\n",
    "        stack.append(a[i])\n",
    "    \n",
    "    while t < k:\n",
    "        stack.pop()\n",
    "        t += 1\n",
    "\n",
    "    return ''.join(stack)\n",
    "\n",
    "\n",
    "\n",
    "n, k = map(int, input().split())\n",
    "a = list(input())\n",
    "\n",
    "print(solution(n,k,a))"
   ]
  },
  {
   "cell_type": "code",
   "execution_count": null,
   "metadata": {},
   "outputs": [],
   "source": []
  }
 ],
 "metadata": {
  "kernelspec": {
   "display_name": "base",
   "language": "python",
   "name": "python3"
  },
  "language_info": {
   "codemirror_mode": {
    "name": "ipython",
    "version": 3
   },
   "file_extension": ".py",
   "mimetype": "text/x-python",
   "name": "python",
   "nbconvert_exporter": "python",
   "pygments_lexer": "ipython3",
   "version": "3.9.7"
  }
 },
 "nbformat": 4,
 "nbformat_minor": 2
}
