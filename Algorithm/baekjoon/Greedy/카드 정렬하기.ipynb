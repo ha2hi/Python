{
 "cells": [
  {
   "cell_type": "code",
   "execution_count": 2,
   "metadata": {},
   "outputs": [
    {
     "name": "stdout",
     "output_type": "stream",
     "text": [
      "100\n"
     ]
    }
   ],
   "source": [
    "# https://www.acmicpc.net/problem/1715\n",
    "import heapq\n",
    "def solution(n, a):\n",
    "    heapq.heapify(a)\n",
    "    res = 0\n",
    "\n",
    "    while len(a) > 1:\n",
    "        x = heapq.heappop(a)\n",
    "        y = heapq.heappop(a)\n",
    "        \n",
    "        tmp = x + y\n",
    "        res += tmp\n",
    "        heapq.heappush(a, tmp)\n",
    "    \n",
    "    return res\n",
    "\n",
    "n = int(input())\n",
    "a = []\n",
    "\n",
    "for _ in range(n):\n",
    "    a.append(int(input()))\n",
    "\n",
    "print(solution(n, a))"
   ]
  },
  {
   "cell_type": "code",
   "execution_count": null,
   "metadata": {},
   "outputs": [],
   "source": []
  }
 ],
 "metadata": {
  "kernelspec": {
   "display_name": "base",
   "language": "python",
   "name": "python3"
  },
  "language_info": {
   "codemirror_mode": {
    "name": "ipython",
    "version": 3
   },
   "file_extension": ".py",
   "mimetype": "text/x-python",
   "name": "python",
   "nbconvert_exporter": "python",
   "pygments_lexer": "ipython3",
   "version": "3.9.7"
  }
 },
 "nbformat": 4,
 "nbformat_minor": 2
}
