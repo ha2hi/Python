{
 "cells": [
  {
   "cell_type": "code",
   "execution_count": 6,
   "metadata": {},
   "outputs": [
    {
     "name": "stdout",
     "output_type": "stream",
     "text": [
      "45\n"
     ]
    }
   ],
   "source": [
    "# https://www.acmicpc.net/problem/14501\n",
    "def dfs(l, s):\n",
    "    global res\n",
    "    if l >= n:\n",
    "        res = max(res, s)\n",
    "        return\n",
    "    if l + calendar[l][0] <= n:\n",
    "        dfs(l + calendar[l][0], s + calendar[l][1])\n",
    "    dfs(l + 1, s)\n",
    "\n",
    "n = int(input())\n",
    "calendar = []\n",
    "for _ in range(n):\n",
    "    t, p = map(int, input().split())\n",
    "    calendar.append((t, p))\n",
    "\n",
    "res = 0\n",
    "dfs(0, 0)\n",
    "print(res)"
   ]
  },
  {
   "cell_type": "code",
   "execution_count": null,
   "metadata": {},
   "outputs": [],
   "source": []
  }
 ],
 "metadata": {
  "kernelspec": {
   "display_name": "base",
   "language": "python",
   "name": "python3"
  },
  "language_info": {
   "codemirror_mode": {
    "name": "ipython",
    "version": 3
   },
   "file_extension": ".py",
   "mimetype": "text/x-python",
   "name": "python",
   "nbconvert_exporter": "python",
   "pygments_lexer": "ipython3",
   "version": "3.9.7"
  }
 },
 "nbformat": 4,
 "nbformat_minor": 2
}
