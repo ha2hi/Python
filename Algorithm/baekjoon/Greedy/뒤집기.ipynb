{
 "cells": [
  {
   "cell_type": "code",
   "execution_count": 13,
   "metadata": {},
   "outputs": [
    {
     "name": "stdout",
     "output_type": "stream",
     "text": [
      "2\n"
     ]
    }
   ],
   "source": [
    "def solution(s):\n",
    "    tmp = {'0' :0, '1': 0}\n",
    "    tmp[s[0]] += 1\n",
    "\n",
    "    if len(s) == s.count('1') or len(s) == s.count('0'):\n",
    "        return 0\n",
    "    \n",
    "    for i in range(1, len(s)):\n",
    "        if s[i] != s[i-1]:\n",
    "            tmp[s[i]] += 1\n",
    "    \n",
    "    return min(tmp.values())\n",
    "    \n",
    "\n",
    "\n",
    "s = input()\n",
    "print(solution(s))"
   ]
  },
  {
   "cell_type": "markdown",
   "metadata": {},
   "source": []
  }
 ],
 "metadata": {
  "kernelspec": {
   "display_name": "base",
   "language": "python",
   "name": "python3"
  },
  "language_info": {
   "codemirror_mode": {
    "name": "ipython",
    "version": 3
   },
   "file_extension": ".py",
   "mimetype": "text/x-python",
   "name": "python",
   "nbconvert_exporter": "python",
   "pygments_lexer": "ipython3",
   "version": "3.9.7"
  }
 },
 "nbformat": 4,
 "nbformat_minor": 2
}
