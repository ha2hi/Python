{
 "cells": [
  {
   "cell_type": "code",
   "execution_count": null,
   "metadata": {},
   "outputs": [],
   "source": [
    "# https://www.acmicpc.net/problem/17142\n",
    "from itertools import combinations\n",
    "from collections import deque\n",
    "def bfs(q, blank):\n",
    "    ch = [[False]*n for _ in range(n)]\n",
    "    days = 0\n",
    "    while q:\n",
    "        if blank == 0:\n",
    "            return days\n",
    "\n",
    "        days += 1\n",
    "        for _ in range(len(q)):\n",
    "            x, y = q.popleft()\n",
    "            for k in range(4):\n",
    "                xx = x + dx[k]\n",
    "                yy = y + dy[k]\n",
    "                if 0<=xx<n and 0<=yy<n and not ch[xx][yy]:\n",
    "                    if board[xx][yy] == 0:\n",
    "                        blank -= 1\n",
    "                        ch[xx][yy] = True\n",
    "                        q.append((xx,yy))\n",
    "                    elif board[xx][yy] == 2:\n",
    "                        ch[xx][yy] = True\n",
    "                        q.append((xx,yy))\n",
    "                        \n",
    "    return float('inf')\n",
    "\n",
    "n, m = map(int, input().split())\n",
    "board = [list(map(int, input().split())) for _ in range(n)]\n",
    "dx = [-1,0,1,0]\n",
    "dy = [0,1,0,-1]\n",
    "virus = []\n",
    "blank_cnt = 0\n",
    "for i in range(n):\n",
    "    for j in range(n):\n",
    "        if board[i][j] == 2:\n",
    "            virus.append((i,j))\n",
    "        elif board[i][j] == 0:\n",
    "            blank_cnt += 1\n",
    "\n",
    "res = float('inf')\n",
    "for comb_virus in combinations(virus, m):\n",
    "    q = deque()\n",
    "    for x, y in comb_virus:\n",
    "        q.append((x, y))\n",
    "    \n",
    "    tmp = bfs(q, blank_cnt)\n",
    "    res = min(res, tmp)\n",
    "\n",
    "if res == float('inf'):\n",
    "    print(-1)\n",
    "else:\n",
    "    print(res)"
   ]
  },
  {
   "cell_type": "code",
   "execution_count": null,
   "metadata": {},
   "outputs": [],
   "source": []
  }
 ],
 "metadata": {
  "language_info": {
   "name": "python"
  }
 },
 "nbformat": 4,
 "nbformat_minor": 2
}
