{
 "cells": [
  {
   "cell_type": "code",
   "execution_count": 14,
   "metadata": {},
   "outputs": [
    {
     "name": "stdout",
     "output_type": "stream",
     "text": [
      "-1\n",
      "-1\n",
      "123\n",
      "123\n",
      "-1\n",
      "-1\n"
     ]
    }
   ],
   "source": [
    "n = int(input())\n",
    "\n",
    "stack=[]\n",
    "for i in range(n):\n",
    "    command = input().split()\n",
    "\n",
    "    if command[0]=='push':\n",
    "        stack.append(command[1])\n",
    "    elif command[0]=='pop':\n",
    "        if len(stack)==0:\n",
    "            print(-1)\n",
    "        else:\n",
    "            print(stack.pop())\n",
    "    elif command[0] == 'size':\n",
    "        print(len(stack))\n",
    "    elif command[0] == 'empty':\n",
    "        if len(stack)==0:\n",
    "            print(1)\n",
    "        else:\n",
    "            print(0)\n",
    "    elif command[0] == 'top':\n",
    "        if len(stack)==0:\n",
    "            print(-1)\n",
    "        else:\n",
    "            print(stack[-1])\n",
    "    "
   ]
  },
  {
   "cell_type": "code",
   "execution_count": null,
   "metadata": {},
   "outputs": [],
   "source": []
  }
 ],
 "metadata": {
  "kernelspec": {
   "display_name": "base",
   "language": "python",
   "name": "python3"
  },
  "language_info": {
   "codemirror_mode": {
    "name": "ipython",
    "version": 3
   },
   "file_extension": ".py",
   "mimetype": "text/x-python",
   "name": "python",
   "nbconvert_exporter": "python",
   "pygments_lexer": "ipython3",
   "version": "3.9.7"
  }
 },
 "nbformat": 4,
 "nbformat_minor": 2
}
