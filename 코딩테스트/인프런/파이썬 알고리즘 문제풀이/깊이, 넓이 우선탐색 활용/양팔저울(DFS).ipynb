{
 "cells": [
  {
   "cell_type": "code",
   "execution_count": 12,
   "metadata": {},
   "outputs": [
    {
     "data": {
      "text/plain": [
       "2"
      ]
     },
     "execution_count": 12,
     "metadata": {},
     "output_type": "execute_result"
    }
   ],
   "source": [
    "def solution(k, a):\n",
    "    res = set()\n",
    "    total = sum(a)\n",
    "    def dfs(l, sum):\n",
    "        if l == k:\n",
    "            if 0 < sum <= total:\n",
    "                res.add(sum)\n",
    "        else:\n",
    "            dfs(l+1, sum+a[l])\n",
    "            dfs(l+1, sum-a[l])\n",
    "            dfs(l+1, sum)\n",
    "    dfs(0,0)\n",
    "    return total - len(res)\n",
    "\n",
    "k = int(input())\n",
    "a = list(map(int, input().split()))\n",
    "solution(k, a)"
   ]
  },
  {
   "cell_type": "code",
   "execution_count": null,
   "metadata": {},
   "outputs": [],
   "source": []
  }
 ],
 "metadata": {
  "kernelspec": {
   "display_name": "base",
   "language": "python",
   "name": "python3"
  },
  "language_info": {
   "codemirror_mode": {
    "name": "ipython",
    "version": 3
   },
   "file_extension": ".py",
   "mimetype": "text/x-python",
   "name": "python",
   "nbconvert_exporter": "python",
   "pygments_lexer": "ipython3",
   "version": "3.9.7"
  }
 },
 "nbformat": 4,
 "nbformat_minor": 2
}
