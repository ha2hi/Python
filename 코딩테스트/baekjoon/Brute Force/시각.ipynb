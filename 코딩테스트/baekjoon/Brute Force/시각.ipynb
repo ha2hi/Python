{
 "cells": [
  {
   "cell_type": "code",
   "execution_count": 12,
   "metadata": {},
   "outputs": [
    {
     "name": "stdout",
     "output_type": "stream",
     "text": [
      "11475\n"
     ]
    }
   ],
   "source": [
    "# https://www.acmicpc.net/problem/18312\n",
    "n, k = map(int, input().split())\n",
    "all_time = (n*60*60) + (59*60) + 59\n",
    "now,res = 0, 0\n",
    "\n",
    "while now <= all_time:\n",
    "    h = now//3600\n",
    "    m = (now%3600)//60\n",
    "    s = (now%3600)%60\n",
    "\n",
    "    if str(k) in str(h).zfill(2)+str(m).zfill(2)+str(s).zfill(2):\n",
    "        res+=1\n",
    "    \n",
    "    now += 1\n",
    "\n",
    "print(res)"
   ]
  },
  {
   "cell_type": "code",
   "execution_count": null,
   "metadata": {},
   "outputs": [],
   "source": []
  }
 ],
 "metadata": {
  "kernelspec": {
   "display_name": "base",
   "language": "python",
   "name": "python3"
  },
  "language_info": {
   "codemirror_mode": {
    "name": "ipython",
    "version": 3
   },
   "file_extension": ".py",
   "mimetype": "text/x-python",
   "name": "python",
   "nbconvert_exporter": "python",
   "pygments_lexer": "ipython3",
   "version": "3.9.7"
  }
 },
 "nbformat": 4,
 "nbformat_minor": 2
}
