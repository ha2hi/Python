{
 "cells": [
  {
   "cell_type": "code",
   "execution_count": 9,
   "metadata": {},
   "outputs": [
    {
     "name": "stdout",
     "output_type": "stream",
     "text": [
      "NO\n",
      "NO\n",
      "YES\n",
      "NO\n",
      "YES\n",
      "NO\n"
     ]
    }
   ],
   "source": [
    "# https://www.acmicpc.net/problem/9012\n",
    "def check(s):\n",
    "    stack = []\n",
    "    for x in s:\n",
    "        if x == \")\":\n",
    "            if not stack:\n",
    "                return \"NO\"\n",
    "            else:\n",
    "                stack.pop()\n",
    "        else:\n",
    "            stack.append(x)\n",
    "    if stack:\n",
    "        return \"NO\"\n",
    "    else:\n",
    "        return \"YES\"\n",
    "\n",
    "n = int(input())\n",
    "for _ in range(n):\n",
    "    s = input()\n",
    "    print(check(s))"
   ]
  },
  {
   "cell_type": "code",
   "execution_count": null,
   "metadata": {},
   "outputs": [],
   "source": []
  }
 ],
 "metadata": {
  "kernelspec": {
   "display_name": "base",
   "language": "python",
   "name": "python3"
  },
  "language_info": {
   "codemirror_mode": {
    "name": "ipython",
    "version": 3
   },
   "file_extension": ".py",
   "mimetype": "text/x-python",
   "name": "python",
   "nbconvert_exporter": "python",
   "pygments_lexer": "ipython3",
   "version": "3.9.7"
  }
 },
 "nbformat": 4,
 "nbformat_minor": 2
}
