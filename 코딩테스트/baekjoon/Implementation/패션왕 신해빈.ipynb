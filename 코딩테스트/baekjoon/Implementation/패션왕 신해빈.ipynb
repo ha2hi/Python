{
 "cells": [
  {
   "cell_type": "code",
   "execution_count": null,
   "metadata": {},
   "outputs": [],
   "source": [
    "# https://www.acmicpc.net/problem/9375\n",
    "from collections import defaultdict\n",
    "t = int(input())\n",
    "for _ in range(t):\n",
    "    n = int(input())\n",
    "    clothes = defaultdict(int)\n",
    "\n",
    "    for _ in range(n):\n",
    "        items, category = input().split()\n",
    "        clothes[category] += 1\n",
    "    \n",
    "    res = 1\n",
    "    for count in clothes.values():\n",
    "        res *= (count+1)\n",
    "\n",
    "    print(res-1)"
   ]
  }
 ],
 "metadata": {
  "language_info": {
   "name": "python"
  }
 },
 "nbformat": 4,
 "nbformat_minor": 2
}
