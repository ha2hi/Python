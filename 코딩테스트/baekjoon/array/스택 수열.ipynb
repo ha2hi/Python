{
 "cells": [
  {
   "cell_type": "code",
   "execution_count": 18,
   "metadata": {},
   "outputs": [
    {
     "name": "stdout",
     "output_type": "stream",
     "text": [
      "['+', '-', '+', '-', '+', '+', '+', '-', '-', '-']\n"
     ]
    }
   ],
   "source": [
    "n = int(input())\n",
    "res = []\n",
    "tmp = []\n",
    "i = 1\n",
    "for _ in range(n):\n",
    "    x = int(input())\n",
    "    if not tmp:\n",
    "        tmp.append(i)\n",
    "        i += 1\n",
    "        res.append('+')\n",
    "        \n",
    "    if tmp[-1] == x:\n",
    "        res.append('-')\n",
    "        tmp.pop()\n",
    "        continue\n",
    "\n",
    "    while tmp[-1] != x and i < n+1:\n",
    "        tmp.append(i)\n",
    "        i += 1\n",
    "        res.append('+')\n",
    "\n",
    "    if i > n+1:\n",
    "        print('NO')\n",
    "        break\n",
    "\n",
    "    tmp.pop()\n",
    "    res.append('-')\n",
    "    \n",
    "print(res)"
   ]
  },
  {
   "cell_type": "code",
   "execution_count": null,
   "metadata": {},
   "outputs": [],
   "source": []
  }
 ],
 "metadata": {
  "kernelspec": {
   "display_name": "base",
   "language": "python",
   "name": "python3"
  },
  "language_info": {
   "codemirror_mode": {
    "name": "ipython",
    "version": 3
   },
   "file_extension": ".py",
   "mimetype": "text/x-python",
   "name": "python",
   "nbconvert_exporter": "python",
   "pygments_lexer": "ipython3",
   "version": "3.9.7"
  }
 },
 "nbformat": 4,
 "nbformat_minor": 2
}
