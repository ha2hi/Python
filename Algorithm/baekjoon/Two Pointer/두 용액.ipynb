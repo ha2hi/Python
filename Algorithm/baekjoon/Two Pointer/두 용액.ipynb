{
 "cells": [
  {
   "cell_type": "code",
   "execution_count": null,
   "metadata": {},
   "outputs": [],
   "source": [
    "# https://www.acmicpc.net/problem/2470\n",
    "n = int(input())\n",
    "materials = list(map(int, input().split()))\n",
    "materials.sort()\n",
    "tmp = float('inf')\n",
    "lt, rt = 0, n-1\n",
    "\n",
    "while lt<rt:\n",
    "    total = materials[lt]+materials[rt]\n",
    "\n",
    "    if abs(total) < tmp:\n",
    "        tmp = abs(total)\n",
    "        res = [materials[lt], materials[rt]]\n",
    "        if tmp == 0:\n",
    "            break\n",
    "\n",
    "    if total < 0:\n",
    "        lt += 1\n",
    "    else:\n",
    "        rt -= 1\n",
    "\n",
    "print(*res)"
   ]
  },
  {
   "cell_type": "code",
   "execution_count": null,
   "metadata": {},
   "outputs": [],
   "source": []
  }
 ],
 "metadata": {
  "language_info": {
   "name": "python"
  }
 },
 "nbformat": 4,
 "nbformat_minor": 2
}
