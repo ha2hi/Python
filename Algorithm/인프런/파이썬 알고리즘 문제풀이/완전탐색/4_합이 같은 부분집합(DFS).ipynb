{
 "cells": [
  {
   "cell_type": "code",
   "execution_count": 14,
   "metadata": {},
   "outputs": [
    {
     "name": "stdout",
     "output_type": "stream",
     "text": [
      "YES\n"
     ]
    },
    {
     "ename": "SystemExit",
     "evalue": "0",
     "output_type": "error",
     "traceback": [
      "An exception has occurred, use %tb to see the full traceback.\n",
      "\u001b[0;31mSystemExit\u001b[0m\u001b[0;31m:\u001b[0m 0\n"
     ]
    },
    {
     "name": "stderr",
     "output_type": "stream",
     "text": [
      "/Users/mzc01-hyucksangcho/opt/anaconda3/lib/python3.9/site-packages/IPython/core/interactiveshell.py:3452: UserWarning: To exit: use 'exit', 'quit', or Ctrl-D.\n",
      "  warn(\"To exit: use 'exit', 'quit', or Ctrl-D.\", stacklevel=1)\n"
     ]
    }
   ],
   "source": [
    "import sys\n",
    "def solution(n, s):\n",
    "    total = sum(s)\n",
    "    def dfs(l, sum):\n",
    "        if sum > total//2:\n",
    "            return\n",
    "            \n",
    "        if l == n:\n",
    "            if sum == total-sum:\n",
    "                print(\"YES\")\n",
    "                sys.exit(0)\n",
    "        else:\n",
    "            dfs(l+1, sum+s[l])\n",
    "            dfs(l+1, sum)\n",
    "\n",
    "    dfs(0,0)\n",
    "    print(\"NO\")\n",
    "\n",
    "n = 6\n",
    "s = [1, 3, 5, 6, 7, 10]\n",
    "solution(n, s)\n"
   ]
  },
  {
   "cell_type": "code",
   "execution_count": null,
   "metadata": {},
   "outputs": [],
   "source": []
  }
 ],
 "metadata": {
  "kernelspec": {
   "display_name": "base",
   "language": "python",
   "name": "python3"
  },
  "language_info": {
   "codemirror_mode": {
    "name": "ipython",
    "version": 3
   },
   "file_extension": ".py",
   "mimetype": "text/x-python",
   "name": "python",
   "nbconvert_exporter": "python",
   "pygments_lexer": "ipython3",
   "version": "3.9.7"
  }
 },
 "nbformat": 4,
 "nbformat_minor": 2
}
