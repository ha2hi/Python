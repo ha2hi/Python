{
 "cells": [
  {
   "cell_type": "code",
   "execution_count": 92,
   "metadata": {},
   "outputs": [
    {
     "data": {
      "text/plain": [
       "[14600, 34400, 5000]"
      ]
     },
     "execution_count": 92,
     "metadata": {},
     "output_type": "execute_result"
    }
   ],
   "source": [
    "from collections import defaultdict\n",
    "import math\n",
    "def solution(fees, records):\n",
    "    default_time, default_fee, over_time, over_fee = fees\n",
    "    res = defaultdict(int)\n",
    "    tmp = dict()\n",
    "    for x in records:\n",
    "        time, number, type = x.split(' ')\n",
    "        if type == 'IN':\n",
    "            tmp[number] = time\n",
    "        else:\n",
    "            prev_H, prev_M = map(int, tmp[number].split(':'))\n",
    "            now_H, now_M = map(int, time.split(':'))\n",
    "            total = (now_H - prev_H) * 60 + (now_M - prev_M)\n",
    "            res[number] += total\n",
    "            del tmp[number]\n",
    "    \n",
    "    for key, val in tmp.items():\n",
    "        prev_H, prev_M = map(int, val.split(':'))\n",
    "        now_H, now_M = 23, 59\n",
    "        total = (now_H - prev_H) * 60 + (now_M - prev_M)\n",
    "        res[key] += total\n",
    "    \n",
    "    for num, tot_time in res.items():\n",
    "        if tot_time > default_time:\n",
    "            res[num] = default_fee + (math.ceil((tot_time-default_time)/over_time) * over_fee)\n",
    "        else:\n",
    "            res[num] = default_fee\n",
    "    sorted_key = sorted(res)\n",
    "    return [res[key] for key in sorted_key]\n",
    "\n",
    "\n",
    "fees = [180, 5000, 10, 600]\n",
    "records = [\"05:34 5961 IN\", \"06:00 0000 IN\", \"06:34 0000 OUT\", \"07:59 5961 OUT\", \"07:59 0148 IN\", \"18:59 0000 IN\", \"19:09 0148 OUT\", \"22:59 5961 IN\", \"23:00 5961 OUT\"]\n",
    "solution(fees, records)"
   ]
  }
 ],
 "metadata": {
  "kernelspec": {
   "display_name": "base",
   "language": "python",
   "name": "python3"
  },
  "language_info": {
   "codemirror_mode": {
    "name": "ipython",
    "version": 3
   },
   "file_extension": ".py",
   "mimetype": "text/x-python",
   "name": "python",
   "nbconvert_exporter": "python",
   "pygments_lexer": "ipython3",
   "version": "3.9.7"
  }
 },
 "nbformat": 4,
 "nbformat_minor": 2
}
