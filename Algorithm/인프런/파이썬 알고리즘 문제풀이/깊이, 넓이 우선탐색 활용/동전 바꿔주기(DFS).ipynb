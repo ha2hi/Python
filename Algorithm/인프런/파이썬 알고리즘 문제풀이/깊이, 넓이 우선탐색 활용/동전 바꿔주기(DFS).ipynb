{
 "cells": [
  {
   "cell_type": "code",
   "execution_count": 13,
   "metadata": {},
   "outputs": [
    {
     "data": {
      "text/plain": [
       "4"
      ]
     },
     "execution_count": 13,
     "metadata": {},
     "output_type": "execute_result"
    }
   ],
   "source": [
    "def solution(t, k):\n",
    "    res = 0\n",
    "    a = []\n",
    "    for _ in range(k):\n",
    "        x, y = map(int, input().split())\n",
    "        a.append((x,y))\n",
    "\n",
    "    def dfs(l, sum):\n",
    "        nonlocal res\n",
    "        if sum > t:\n",
    "            return\n",
    "        if l == k:\n",
    "            if sum == t:\n",
    "                res += 1\n",
    "        else:\n",
    "            for i in range(a[l][1]+1):\n",
    "                dfs(l+1, sum+a[l][0]*i)\n",
    "    dfs(0,0)\n",
    "    return res\n",
    "\n",
    "t = int(input())\n",
    "k = int(input())\n",
    "solution(t, k)"
   ]
  },
  {
   "cell_type": "code",
   "execution_count": null,
   "metadata": {},
   "outputs": [],
   "source": []
  }
 ],
 "metadata": {
  "kernelspec": {
   "display_name": "base",
   "language": "python",
   "name": "python3"
  },
  "language_info": {
   "codemirror_mode": {
    "name": "ipython",
    "version": 3
   },
   "file_extension": ".py",
   "mimetype": "text/x-python",
   "name": "python",
   "nbconvert_exporter": "python",
   "pygments_lexer": "ipython3",
   "version": "3.9.7"
  }
 },
 "nbformat": 4,
 "nbformat_minor": 2
}
