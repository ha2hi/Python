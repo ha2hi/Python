{
 "cells": [
  {
   "cell_type": "code",
   "execution_count": null,
   "metadata": {},
   "outputs": [],
   "source": [
    "# https://www.acmicpc.net/problem/1497\n",
    "from itertools import product\n",
    "n, m = map(int, input().split())\n",
    "guitar = [input().split() for _ in range(n)]\n",
    "\n",
    "res = []\n",
    "for i in product([0,1], repeat=n):\n",
    "    ch = [0] * m\n",
    "    for x, y in zip(guitar, i):\n",
    "        if y == 0:\n",
    "            continue\n",
    "\n",
    "        for j in range(m):\n",
    "            if x[1][j] == 'Y':\n",
    "                ch[j] = 1\n",
    "\n",
    "    res.append((sum(i), sum(ch)))\n",
    "\n",
    "res.sort(key = lambda x : (-x[1], x[0]))\n",
    "\n",
    "if res[0][1] == 0:\n",
    "    print(-1)\n",
    "else:\n",
    "    print(res[0][0])"
   ]
  }
 ],
 "metadata": {
  "language_info": {
   "name": "python"
  }
 },
 "nbformat": 4,
 "nbformat_minor": 2
}
