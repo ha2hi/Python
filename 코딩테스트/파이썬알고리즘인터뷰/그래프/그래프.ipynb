{
 "cells": [
  {
   "attachments": {},
   "cell_type": "markdown",
   "metadata": {},
   "source": [
    "### 그래프\n",
    "그래프 순회란 그래프 탐색이라도 불리우며, 그래프의 각 정점을 방문하는 과정을 말한다.\n",
    "\n",
    "그래프를 표현하는 방법에는 크게 인접행렬, 입접리스트가 있다.\n",
    "- 인접행렬\n",
    "\n",
    "\n",
    "graph = {1 : [2,3,4], 2:[5], 3: [5], 4:[],5:[6,7],6:[],7:[3]}"
   ]
  },
  {
   "cell_type": "code",
   "execution_count": 2,
   "metadata": {},
   "outputs": [
    {
     "data": {
      "text/plain": [
       "[1, 2, 5, 6, 7, 3, 4]"
      ]
     },
     "execution_count": 2,
     "metadata": {},
     "output_type": "execute_result"
    }
   ],
   "source": [
    "# DFS는 스택으로 구현되며 재귀 방식과 스택 방식이 있다.\n",
    "# 재귀방식\n",
    "def recursive_dfs(v, discoverd = []):\n",
    "    discoverd.append(v)\n",
    "    for w in graph[v]:\n",
    "        if not w in discoverd:\n",
    "            discoverd = recursive_dfs(w, discoverd)\n",
    "    return discoverd\n",
    "\n",
    "\n",
    "graph = {1 : [2,3,4], 2:[5], 3: [5], 4:[],5:[6,7],6:[],7:[3]}\n",
    "recursive_dfs(1)\n"
   ]
  },
  {
   "cell_type": "code",
   "execution_count": 12,
   "metadata": {},
   "outputs": [
    {
     "data": {
      "text/plain": [
       "[1, 2, 3, 4, 5, 6, 7]"
      ]
     },
     "execution_count": 12,
     "metadata": {},
     "output_type": "execute_result"
    }
   ],
   "source": [
    "#BFS\n",
    "def iterative_bfs(start_v):\n",
    "    discoverd = [start_v]\n",
    "    queue = [start_v]\n",
    "    while queue:\n",
    "        v = queue.pop(0)\n",
    "        for w in graph[v]:\n",
    "            if w not in discoverd:\n",
    "                discoverd.append(w)\n",
    "                queue.append(w)\n",
    "    return discoverd\n",
    "\n",
    "graph = {1 : [2,3,4], 2:[5], 3: [5], 4:[],5:[6,7],6:[],7:[3]}\n",
    "iterative_bfs(1)\n"
   ]
  },
  {
   "cell_type": "code",
   "execution_count": null,
   "metadata": {},
   "outputs": [],
   "source": []
  },
  {
   "attachments": {},
   "cell_type": "markdown",
   "metadata": {},
   "source": [
    "### 32. 섬의 개수\n",
    "https://leetcode.com/problems/number-of-islands/description/\n",
    "\n",
    "1을 육지로, 0을 물로 가정한 2D 그리드 맵이 주어졌을때, 섬의 개수를 계산해라\n",
    "- 입력\n",
    "    - grid = [\n",
    "  [\"1\",\"1\",\"1\",\"1\",\"0\"],\n",
    "  [\"1\",\"1\",\"0\",\"1\",\"0\"],\n",
    "  [\"1\",\"1\",\"0\",\"0\",\"0\"],\n",
    "  [\"0\",\"0\",\"0\",\"0\",\"0\"]\n",
    "]\n",
    "- 출력\n",
    "    - 1"
   ]
  },
  {
   "cell_type": "code",
   "execution_count": 1,
   "metadata": {},
   "outputs": [
    {
     "data": {
      "text/plain": [
       "3"
      ]
     },
     "execution_count": 1,
     "metadata": {},
     "output_type": "execute_result"
    }
   ],
   "source": [
    "# DFS\n",
    "from typing import List\n",
    "class Solution:\n",
    "    def numIslands(self, grid: List[List[str]]) -> int:\n",
    "        def dfs(x, y):\n",
    "            grid[x][y] = \"0\"\n",
    "            for i in range(4):\n",
    "                next_x = x + dx[i]\n",
    "                next_y = y + dy[i]\n",
    "                if 0<=next_x<n and 0<=next_y<m and grid[next_x][next_y] == \"1\":\n",
    "                    dfs(next_x, next_y)\n",
    "\n",
    "        dx = [-1,0,1,0]\n",
    "        dy = [0,1,0,-1]\n",
    "        res = 0\n",
    "        n, m = len(grid), len(grid[0])\n",
    "        for i in range(n):\n",
    "            for j in range(m):\n",
    "                if grid[i][j] == \"1\":\n",
    "                    res += 1\n",
    "                    dfs(i, j)\n",
    "        return res\n",
    "\n",
    "grid = [\n",
    "  [\"1\",\"1\",\"0\",\"0\",\"0\"],\n",
    "  [\"1\",\"1\",\"0\",\"0\",\"0\"],\n",
    "  [\"0\",\"0\",\"1\",\"0\",\"0\"],\n",
    "  [\"0\",\"0\",\"0\",\"1\",\"1\"]\n",
    "]\n",
    "Solution().numIslands(grid)"
   ]
  },
  {
   "cell_type": "code",
   "execution_count": null,
   "metadata": {},
   "outputs": [],
   "source": []
  },
  {
   "attachments": {},
   "cell_type": "markdown",
   "metadata": {},
   "source": [
    "### 33. 전화 번호 문자 조합\n",
    "https://leetcode.com/problems/letter-combinations-of-a-phone-number/description/\n",
    "\n",
    "2에서 9까지 주어졌을 때 전화번호로 조합 가능한 모든 문자를 출력하라.\n",
    "- 입력\n",
    "  - digits = \"23\"\n",
    "- 출력\n",
    "    - [\"ad\", \"ae\", \"af\", \"bd\", \"be\", \"bf\", \"cd\", \"ce\", \"cf\"]"
   ]
  },
  {
   "cell_type": "code",
   "execution_count": 29,
   "metadata": {},
   "outputs": [
    {
     "data": {
      "text/plain": [
       "['ad', 'ae', 'af', 'bd', 'be', 'bf', 'cd', 'ce', 'cf']"
      ]
     },
     "execution_count": 29,
     "metadata": {},
     "output_type": "execute_result"
    }
   ],
   "source": [
    "from typing import List\n",
    "class Solution:\n",
    "    def letterCombinations(self, digits: str) -> List[str]:\n",
    "        def dfs(l: int, s: str) -> None:\n",
    "            if l ==n:\n",
    "                res.append(s)\n",
    "            else:\n",
    "                for x in digits[l]:\n",
    "                    for y in letters[x]:\n",
    "                        dfs(l+1, s+y)\n",
    "\n",
    "        if not digits:\n",
    "            return []\n",
    "\n",
    "        letters = {\n",
    "            '2' : ['a','b','c'],\n",
    "            '3' : ['d','e','f'],\n",
    "            '4' : ['g','h','i'],\n",
    "            '5' : ['j','k','l'],\n",
    "            '6' : ['m','n','o'],\n",
    "            '7' : ['p','q','r', 's'],\n",
    "            '8' : ['t','u','v'],\n",
    "            '9' : ['w','x','y', 'z']\n",
    "        }\n",
    "        n = len(digits)\n",
    "        res = []\n",
    "\n",
    "        dfs(0, \"\")\n",
    "        \n",
    "        return res\n",
    "\n",
    "\n",
    "Solution().letterCombinations(digits=\"2\")"
   ]
  },
  {
   "cell_type": "code",
   "execution_count": null,
   "metadata": {},
   "outputs": [],
   "source": []
  },
  {
   "attachments": {},
   "cell_type": "markdown",
   "metadata": {},
   "source": [
    "### 34. 순열\n",
    "https://leetcode.com/problems/permutations/\n",
    "\n",
    "서로 다른 정수를 입력받아 가능한 모든 순열을 리턴하라.\n",
    "\n",
    "- 입력\n",
    "    - nums = [1,2,3]\n",
    "- 출력\n",
    "    - [\n",
    "        [1,2,3],\n",
    "        [1,3,2],\n",
    "        [2,1,3],\n",
    "        [2,3,1],\n",
    "        [3,1,2],\n",
    "        [3,2,1]\n",
    "    ]"
   ]
  },
  {
   "cell_type": "code",
   "execution_count": 2,
   "metadata": {},
   "outputs": [
    {
     "data": {
      "text/plain": [
       "[[1, 2, 3], [1, 3, 2], [2, 1, 3], [2, 3, 1], [3, 1, 2], [3, 2, 1]]"
      ]
     },
     "execution_count": 2,
     "metadata": {},
     "output_type": "execute_result"
    }
   ],
   "source": [
    "# DFS\n",
    "from typing import List\n",
    "class Solution:\n",
    "    def permute(self, nums: List[int]) -> List[List[int]]:\n",
    "        def dfs(l: int) -> None:\n",
    "            if l == n:\n",
    "                res.append(tmp[:])\n",
    "            else:\n",
    "                for i in range(n):\n",
    "                    if ch[i] == 0:\n",
    "                        ch[i] = 1\n",
    "                        tmp[l] = nums[i]\n",
    "                        dfs(l+1)\n",
    "                        ch[i] = 0\n",
    "\n",
    "        n = len(nums)\n",
    "\n",
    "        if n == 1:\n",
    "            return [nums]\n",
    "\n",
    "        res = []\n",
    "        tmp, ch = [0] * n, [0] * n\n",
    "        dfs(0)\n",
    "    \n",
    "        return res\n",
    "\n",
    "Solution().permute(nums = [1,2,3])"
   ]
  },
  {
   "cell_type": "code",
   "execution_count": 3,
   "metadata": {},
   "outputs": [
    {
     "data": {
      "text/plain": [
       "[[1, 2, 3], [1, 3, 2], [2, 1, 3], [2, 3, 1], [3, 1, 2], [3, 2, 1]]"
      ]
     },
     "execution_count": 3,
     "metadata": {},
     "output_type": "execute_result"
    }
   ],
   "source": [
    "# 라이브러리 사용\n",
    "from typing import List\n",
    "from itertools import permutations\n",
    "class Solution:\n",
    "    def permute(self, nums: List[int]) -> List[List[int]]:\n",
    "        return list(map(list,permutations(nums)))\n",
    "\n",
    "Solution().permute(nums=[1,2,3])"
   ]
  },
  {
   "cell_type": "code",
   "execution_count": null,
   "metadata": {},
   "outputs": [],
   "source": []
  }
 ],
 "metadata": {
  "kernelspec": {
   "display_name": "base",
   "language": "python",
   "name": "python3"
  },
  "language_info": {
   "codemirror_mode": {
    "name": "ipython",
    "version": 3
   },
   "file_extension": ".py",
   "mimetype": "text/x-python",
   "name": "python",
   "nbconvert_exporter": "python",
   "pygments_lexer": "ipython3",
   "version": "3.9.7"
  },
  "orig_nbformat": 4
 },
 "nbformat": 4,
 "nbformat_minor": 2
}
