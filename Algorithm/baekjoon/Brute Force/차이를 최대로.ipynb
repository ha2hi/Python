{
 "cells": [
  {
   "cell_type": "code",
   "execution_count": null,
   "metadata": {},
   "outputs": [],
   "source": [
    "# https://www.acmicpc.net/problem/10819\n",
    "from itertools import permutations\n",
    "n = int(input())\n",
    "s = list(map(int, input().split()))\n",
    "\n",
    "res = 0\n",
    "for x in permutations(s, n):\n",
    "    tmp = 0\n",
    "    for i in range(1, n):\n",
    "        tmp += abs(x[i-1] - x[i])\n",
    "    \n",
    "    res = max(res, tmp)\n",
    "print(res)"
   ]
  }
 ],
 "metadata": {
  "language_info": {
   "name": "python"
  }
 },
 "nbformat": 4,
 "nbformat_minor": 2
}
