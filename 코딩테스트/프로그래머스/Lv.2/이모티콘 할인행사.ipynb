{
 "cells": [
  {
   "cell_type": "code",
   "execution_count": 49,
   "metadata": {},
   "outputs": [
    {
     "data": {
      "text/plain": [
       "[1, 5400]"
      ]
     },
     "execution_count": 49,
     "metadata": {},
     "output_type": "execute_result"
    }
   ],
   "source": [
    "def dfs(l, discount, tmp_dis, buy_users, users, emoticons):\n",
    "    global res\n",
    "    buy_users = [0] * len(users)\n",
    "    plus_tmp = 0\n",
    "    benefit_tmp  = 0\n",
    "    if l == len(emoticons):\n",
    "        dis_emo = [x*(100-y)//100 for x, y in zip(emoticons, tmp_dis)]\n",
    "        for i in range(len(users)):\n",
    "            for j in range(len(emoticons)):\n",
    "                if users[i][0] <= tmp_dis[j]:\n",
    "                    buy_users[i] += dis_emo[j]\n",
    "        for k in range(len(users)):\n",
    "            if users[k][1] <= buy_users[k]:\n",
    "                plus_tmp += 1\n",
    "            else:\n",
    "                benefit_tmp += buy_users[k]\n",
    "        res.append([plus_tmp, benefit_tmp])\n",
    "\n",
    "\n",
    "    else:\n",
    "        for i in range(4):\n",
    "            tmp_dis[l] = discount[i]\n",
    "            dfs(l+1, discount, tmp_dis, buy_users, users, emoticons)\n",
    "\n",
    "\n",
    "def solution(users, emoticons):\n",
    "    global res\n",
    "    res = []\n",
    "    discount = [10,20,30,40]\n",
    "    tmp_dis = [0] * len(emoticons)\n",
    "    buy_users = [0] * len(users)\n",
    "    dfs(0, discount, tmp_dis, buy_users, users, emoticons)\n",
    "    return sorted(res, key = lambda x : (x[0],x[1]), reverse=True)[0]\n",
    "\n",
    "\n",
    "users = [[40, 10000], [25, 10000]]\n",
    "emoticons = [7000, 9000]\n",
    "solution(users, emoticons)\n",
    "\n"
   ]
  },
  {
   "cell_type": "code",
   "execution_count": null,
   "metadata": {},
   "outputs": [],
   "source": []
  }
 ],
 "metadata": {
  "kernelspec": {
   "display_name": "base",
   "language": "python",
   "name": "python3"
  },
  "language_info": {
   "codemirror_mode": {
    "name": "ipython",
    "version": 3
   },
   "file_extension": ".py",
   "mimetype": "text/x-python",
   "name": "python",
   "nbconvert_exporter": "python",
   "pygments_lexer": "ipython3",
   "version": "3.9.7"
  }
 },
 "nbformat": 4,
 "nbformat_minor": 2
}
