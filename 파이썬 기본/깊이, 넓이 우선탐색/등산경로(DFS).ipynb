{
 "cells": [
  {
   "cell_type": "code",
   "execution_count": 29,
   "metadata": {},
   "outputs": [
    {
     "name": "stdout",
     "output_type": "stream",
     "text": [
      "5\n"
     ]
    }
   ],
   "source": [
    "def DFS(x,y):\n",
    "    global cnt\n",
    "    if x == e_x and y == e_y:\n",
    "        cnt += 1\n",
    "    else:\n",
    "        for i in range(4):\n",
    "            xx = x + dx[i]\n",
    "            yy = y + dy[i]\n",
    "            if 0<=xx<n and 0<=yy<n and ch[xx][yy] == 0 and a[xx][yy] > a[x][y]:\n",
    "                ch[xx][yy] = 1\n",
    "                DFS(xx,yy)\n",
    "                ch[xx][yy] = 0\n",
    "\n",
    "\n",
    "dx = [-1,0,1,0]\n",
    "dy = [0,1,0,-1]\n",
    "n = int(input())\n",
    "a = [list(map(int,input().split())) for _ in range(n)]\n",
    "ch = [[0]*n for _ in range(n)]\n",
    "cnt = 0\n",
    "max_value = max(map(max,a))\n",
    "min_value = min(map(min,a))\n",
    "for i in range(n):\n",
    "    for j in range(n):\n",
    "        if a[i][j] == min_value:\n",
    "            s_x = i\n",
    "            s_y = j\n",
    "        if a[i][j] == max_value:\n",
    "            e_x = i\n",
    "            e_y = j\n",
    "ch[s_x][s_y] = 1\n",
    "DFS(s_x,s_y)\n",
    "print(cnt)"
   ]
  },
  {
   "cell_type": "code",
   "execution_count": null,
   "metadata": {},
   "outputs": [],
   "source": []
  },
  {
   "cell_type": "code",
   "execution_count": null,
   "metadata": {},
   "outputs": [],
   "source": []
  }
 ],
 "metadata": {
  "kernelspec": {
   "display_name": "base",
   "language": "python",
   "name": "python3"
  },
  "language_info": {
   "codemirror_mode": {
    "name": "ipython",
    "version": 3
   },
   "file_extension": ".py",
   "mimetype": "text/x-python",
   "name": "python",
   "nbconvert_exporter": "python",
   "pygments_lexer": "ipython3",
   "version": "3.9.7"
  },
  "orig_nbformat": 4
 },
 "nbformat": 4,
 "nbformat_minor": 2
}
