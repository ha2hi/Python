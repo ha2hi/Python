{
 "cells": [
  {
   "cell_type": "code",
   "execution_count": 15,
   "metadata": {},
   "outputs": [
    {
     "name": "stdout",
     "output_type": "stream",
     "text": [
      "27\n"
     ]
    }
   ],
   "source": [
    "# https://www.acmicpc.net/problem/14502\n",
    "from itertools import combinations\n",
    "import copy\n",
    "def dfs(x, y):\n",
    "    global cnt\n",
    "    for i in range(4):\n",
    "        xx = x + dx[i]\n",
    "        yy = y + dy[i]\n",
    "        if 0<=xx<n and 0<=yy<m and not ch[xx][yy] and tmp_board[xx][yy] == 0:\n",
    "            tmp_board[xx][yy] = 2\n",
    "            ch[x][y] = True\n",
    "            cnt += 1\n",
    "            dfs(xx,yy)\n",
    "    return cnt\n",
    "\n",
    "n, m = map(int, input().split())\n",
    "board = [list(map(int, input().split())) for _ in range(n)]\n",
    "dx = [-1,0,1,0]\n",
    "dy = [0,1,0,-1]\n",
    "direct_zero = []\n",
    "for i in range(n):\n",
    "    for j in range(m):\n",
    "        if board[i][j] == 0:\n",
    "            direct_zero.append((i,j))\n",
    "\n",
    "res = 0\n",
    "for d in combinations(direct_zero,3):\n",
    "    cnt = 0\n",
    "    tmp_board = copy.deepcopy(board)\n",
    "    ch = [[False] * m for _ in range(n)]\n",
    "    tmp_board[d[0][0]][d[0][1]] = 1\n",
    "    tmp_board[d[1][0]][d[1][1]] = 1\n",
    "    tmp_board[d[2][0]][d[2][1]] = 1\n",
    "    for i in range(n):\n",
    "        for j in range(m):\n",
    "            if tmp_board[i][j] == 2:\n",
    "                dfs(i,j)\n",
    "    res = max(res, len(direct_zero)-cnt-3)\n",
    "\n",
    "print(res)"
   ]
  },
  {
   "cell_type": "code",
   "execution_count": null,
   "metadata": {},
   "outputs": [],
   "source": []
  }
 ],
 "metadata": {
  "kernelspec": {
   "display_name": "base",
   "language": "python",
   "name": "python3"
  },
  "language_info": {
   "codemirror_mode": {
    "name": "ipython",
    "version": 3
   },
   "file_extension": ".py",
   "mimetype": "text/x-python",
   "name": "python",
   "nbconvert_exporter": "python",
   "pygments_lexer": "ipython3",
   "version": "3.9.7"
  }
 },
 "nbformat": 4,
 "nbformat_minor": 2
}
