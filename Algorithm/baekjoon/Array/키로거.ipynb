{
 "cells": [
  {
   "cell_type": "code",
   "execution_count": 2,
   "metadata": {},
   "outputs": [
    {
     "name": "stdout",
     "output_type": "stream",
     "text": [
      "BAPC\n",
      "ThIsIsS3Cr3t\n"
     ]
    }
   ],
   "source": [
    "# https://www.acmicpc.net/problem/5397\n",
    "n = int(input())\n",
    "for _ in range(n):ㅌㅈ\n",
    "    stack, sub = [], []\n",
    "    s = input()\n",
    "    for x in s:\n",
    "        if x == '<':\n",
    "            if stack:\n",
    "                sub.append(stack.pop())\n",
    "        elif x == '>':\n",
    "            if sub:\n",
    "                stack.append(sub.pop())\n",
    "        elif x == '-':\n",
    "            stack.pop()\n",
    "        else:\n",
    "            stack.append(x)\n",
    "    print(\"\".join(stack+sub))"
   ]
  },
  {
   "cell_type": "code",
   "execution_count": null,
   "metadata": {},
   "outputs": [],
   "source": []
  }
 ],
 "metadata": {
  "kernelspec": {
   "display_name": "base",
   "language": "python",
   "name": "python3"
  },
  "language_info": {
   "codemirror_mode": {
    "name": "ipython",
    "version": 3
   },
   "file_extension": ".py",
   "mimetype": "text/x-python",
   "name": "python",
   "nbconvert_exporter": "python",
   "pygments_lexer": "ipython3",
   "version": "3.9.7"
  }
 },
 "nbformat": 4,
 "nbformat_minor": 2
}
