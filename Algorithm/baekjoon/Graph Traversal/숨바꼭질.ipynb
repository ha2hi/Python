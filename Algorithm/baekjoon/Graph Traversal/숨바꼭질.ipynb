{
 "cells": [
  {
   "cell_type": "code",
   "execution_count": 11,
   "metadata": {},
   "outputs": [
    {
     "name": "stdout",
     "output_type": "stream",
     "text": [
      "2\n"
     ]
    }
   ],
   "source": [
    "# https://www.acmicpc.net/problem/13549\n",
    "from collections import deque\n",
    "def bfs():\n",
    "    q = deque([n])\n",
    "    while q:\n",
    "        now = q.popleft()\n",
    "        if now == k:\n",
    "            return dis[k]\n",
    "        for next in (now-1, now+1, now*2):\n",
    "            if 0<=next<100001 and not dis[]\n",
    "\n",
    "n, k = map(int, input().split())\n",
    "dis = [0] * 100001\n",
    "res = bfs()\n",
    "print(res)"
   ]
  }
 ],
 "metadata": {
  "kernelspec": {
   "display_name": "base",
   "language": "python",
   "name": "python3"
  },
  "language_info": {
   "codemirror_mode": {
    "name": "ipython",
    "version": 3
   },
   "file_extension": ".py",
   "mimetype": "text/x-python",
   "name": "python",
   "nbconvert_exporter": "python",
   "pygments_lexer": "ipython3",
   "version": "3.9.7"
  }
 },
 "nbformat": 4,
 "nbformat_minor": 2
}
