{
 "cells": [
  {
   "cell_type": "code",
   "execution_count": 3,
   "metadata": {},
   "outputs": [
    {
     "data": {
      "text/plain": [
       "3"
      ]
     },
     "execution_count": 3,
     "metadata": {},
     "output_type": "execute_result"
    }
   ],
   "source": [
    "from collections import deque\n",
    "def solution(s,e):\n",
    "    q = deque()\n",
    "    q.append((s,0))\n",
    "    ch = [0] * 10001\n",
    "    ch[s] = 1\n",
    "    while q:\n",
    "        now, cnt = q.popleft()\n",
    "        if now == e:\n",
    "            break\n",
    "        for i in (now+1, now-1, now+5):\n",
    "            if ch[i] == 0:\n",
    "                ch[i] = 1\n",
    "                q.append((i,cnt+1))\n",
    "        \n",
    "    return cnt\n",
    "\n",
    "s, e = map(int, input().split())\n",
    "solution(s,e)"
   ]
  },
  {
   "cell_type": "code",
   "execution_count": null,
   "metadata": {},
   "outputs": [],
   "source": []
  }
 ],
 "metadata": {
  "kernelspec": {
   "display_name": "base",
   "language": "python",
   "name": "python3"
  },
  "language_info": {
   "codemirror_mode": {
    "name": "ipython",
    "version": 3
   },
   "file_extension": ".py",
   "mimetype": "text/x-python",
   "name": "python",
   "nbconvert_exporter": "python",
   "pygments_lexer": "ipython3",
   "version": "3.9.7"
  }
 },
 "nbformat": 4,
 "nbformat_minor": 2
}
