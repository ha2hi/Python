{
 "cells": [
  {
   "cell_type": "code",
   "execution_count": 9,
   "metadata": {},
   "outputs": [
    {
     "name": "stdout",
     "output_type": "stream",
     "text": [
      "3 1 2 4\n"
     ]
    }
   ],
   "source": [
    "from itertools import permutations\n",
    "def solution(n, m):\n",
    "    a = [i for i in range(1, n+1)]\n",
    "    p = [1]*n\n",
    "    for i in range(1,n):\n",
    "        p[i] = p[i-1] * (n-i) // i\n",
    "    for x in permutations(a, n):\n",
    "        if sum([a[0]*a[1] for a in zip(p,x)]) == m:\n",
    "            return print(*x)\n",
    "\n",
    "        \n",
    "\n",
    "n, m = 4, 16\n",
    "solution(n, m)"
   ]
  },
  {
   "cell_type": "code",
   "execution_count": null,
   "metadata": {},
   "outputs": [],
   "source": []
  }
 ],
 "metadata": {
  "kernelspec": {
   "display_name": "base",
   "language": "python",
   "name": "python3"
  },
  "language_info": {
   "codemirror_mode": {
    "name": "ipython",
    "version": 3
   },
   "file_extension": ".py",
   "mimetype": "text/x-python",
   "name": "python",
   "nbconvert_exporter": "python",
   "pygments_lexer": "ipython3",
   "version": "3.9.7"
  }
 },
 "nbformat": 4,
 "nbformat_minor": 2
}
