{
 "cells": [
  {
   "cell_type": "code",
   "execution_count": 12,
   "metadata": {},
   "outputs": [
    {
     "data": {
      "text/plain": [
       "5"
      ]
     },
     "execution_count": 12,
     "metadata": {},
     "output_type": "execute_result"
    }
   ],
   "source": [
    "from collections import deque\n",
    "def solution(priorities, location):\n",
    "    tmp = []\n",
    "    for i,x in enumerate(priorities):\n",
    "        if i != location:\n",
    "            tmp.append((x,0))\n",
    "        else:\n",
    "            tmp.append((x,1))\n",
    "    tmp = deque(tmp)\n",
    "    res = 0\n",
    "    while tmp:\n",
    "        max_val = max(map(lambda x : x[0], tmp))\n",
    "        now = tmp.popleft()\n",
    "        if max_val == now[0]:\n",
    "            res += 1\n",
    "            if now[1] == 1:\n",
    "                return res\n",
    "        else:\n",
    "            tmp.append(now)\n",
    "\n",
    "\n",
    "priorities = [1, 1, 9, 1, 1, 1]\n",
    "location = 0\n",
    "solution(priorities, location)"
   ]
  },
  {
   "cell_type": "code",
   "execution_count": null,
   "metadata": {},
   "outputs": [],
   "source": []
  }
 ],
 "metadata": {
  "kernelspec": {
   "display_name": "base",
   "language": "python",
   "name": "python3"
  },
  "language_info": {
   "codemirror_mode": {
    "name": "ipython",
    "version": 3
   },
   "file_extension": ".py",
   "mimetype": "text/x-python",
   "name": "python",
   "nbconvert_exporter": "python",
   "pygments_lexer": "ipython3",
   "version": "3.9.7"
  }
 },
 "nbformat": 4,
 "nbformat_minor": 2
}
