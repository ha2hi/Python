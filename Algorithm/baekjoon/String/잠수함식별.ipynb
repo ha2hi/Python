{
 "cells": [
  {
   "cell_type": "code",
   "execution_count": 4,
   "metadata": {},
   "outputs": [
    {
     "name": "stdout",
     "output_type": "stream",
     "text": [
      "SUBMARINE\n"
     ]
    }
   ],
   "source": [
    "# https://www.acmicpc.net/problem/2671\n",
    "import re\n",
    "s = input()\n",
    "re_compile = re.compile('(100+1+|01)+')\n",
    "\n",
    "print(\"SUBMARINE\") if re_compile.fullmatch(s) else print(\"NOISE\")"
   ]
  },
  {
   "cell_type": "code",
   "execution_count": null,
   "metadata": {},
   "outputs": [],
   "source": []
  }
 ],
 "metadata": {
  "kernelspec": {
   "display_name": "base",
   "language": "python",
   "name": "python3"
  },
  "language_info": {
   "codemirror_mode": {
    "name": "ipython",
    "version": 3
   },
   "file_extension": ".py",
   "mimetype": "text/x-python",
   "name": "python",
   "nbconvert_exporter": "python",
   "pygments_lexer": "ipython3",
   "version": "3.9.7"
  }
 },
 "nbformat": 4,
 "nbformat_minor": 2
}
