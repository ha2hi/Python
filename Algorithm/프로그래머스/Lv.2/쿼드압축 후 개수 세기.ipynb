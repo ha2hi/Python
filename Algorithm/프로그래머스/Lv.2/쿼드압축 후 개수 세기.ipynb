{
 "cells": [
  {
   "cell_type": "code",
   "execution_count": null,
   "metadata": {},
   "outputs": [],
   "source": [
    "# https://school.programmers.co.kr/learn/courses/30/lessons/68936\n",
    "\n",
    "def solution(arr):\n",
    "    answer = [0,0]\n",
    "    n = len(arr)\n",
    "\n",
    "    def dfs(x,y,l):\n",
    "        start = arr[x][y]\n",
    "        for i in range(x, x+l):\n",
    "            for j in range(y, y+l):\n",
    "                if start != arr[i][j]:\n",
    "                    l //= 2\n",
    "                    dfs(x,y,l)\n",
    "                    dfs(x,y+l,l)\n",
    "                    dfs(x+l,y,l)\n",
    "                    dfs(x+l,y+l,l)\n",
    "                    return\n",
    "        answer[start] += 1\n",
    "\n",
    "    dfs(0,0,n)\n",
    "    \n",
    "    return answer\n",
    "\n",
    "arr = [[1,1,0,0],[1,0,0,0],[1,0,0,1],[1,1,1,1]]\n",
    "solution(arr)      "
   ]
  }
 ],
 "metadata": {
  "language_info": {
   "name": "python"
  }
 },
 "nbformat": 4,
 "nbformat_minor": 2
}
