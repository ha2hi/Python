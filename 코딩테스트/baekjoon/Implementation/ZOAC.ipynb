{
 "cells": [
  {
   "cell_type": "code",
   "execution_count": 10,
   "metadata": {},
   "outputs": [
    {
     "name": "stdout",
     "output_type": "stream",
     "text": [
      "A\n",
      "AI\n",
      "AIK\n",
      "AINK\n",
      "ALINK\n",
      "ARLINK\n",
      "ARTLINK\n",
      "SARTLINK\n",
      "STARTLINK\n"
     ]
    }
   ],
   "source": [
    "def solution(start, s):\n",
    "    if not s:\n",
    "        return\n",
    "    min_val = min(s)\n",
    "    idx = s.index(min_val)\n",
    "\n",
    "    res[start+idx] = min_val\n",
    "    print(\"\".join(res))\n",
    "    solution(start+idx+1, s[idx+1:])\n",
    "\n",
    "    solution(start, s[:idx])\n",
    "\n",
    "s = input()\n",
    "res = [''] * len(s)\n",
    "solution(0, s)"
   ]
  },
  {
   "cell_type": "code",
   "execution_count": null,
   "metadata": {},
   "outputs": [],
   "source": []
  },
  {
   "cell_type": "code",
   "execution_count": null,
   "metadata": {},
   "outputs": [],
   "source": []
  },
  {
   "cell_type": "code",
   "execution_count": null,
   "metadata": {},
   "outputs": [],
   "source": []
  }
 ],
 "metadata": {
  "kernelspec": {
   "display_name": "base",
   "language": "python",
   "name": "python3"
  },
  "language_info": {
   "codemirror_mode": {
    "name": "ipython",
    "version": 3
   },
   "file_extension": ".py",
   "mimetype": "text/x-python",
   "name": "python",
   "nbconvert_exporter": "python",
   "pygments_lexer": "ipython3",
   "version": "3.9.7"
  }
 },
 "nbformat": 4,
 "nbformat_minor": 2
}
