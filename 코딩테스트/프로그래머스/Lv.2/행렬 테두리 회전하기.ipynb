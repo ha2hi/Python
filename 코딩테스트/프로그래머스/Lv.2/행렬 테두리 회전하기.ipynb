{
 "cells": [
  {
   "cell_type": "code",
   "execution_count": 11,
   "metadata": {},
   "outputs": [
    {
     "data": {
      "text/plain": [
       "[1, 1, 5, 3]"
      ]
     },
     "execution_count": 11,
     "metadata": {},
     "output_type": "execute_result"
    }
   ],
   "source": [
    "# https://school.programmers.co.kr/learn/courses/30/lessons/77485\n",
    "def solution(rows, columns, queries):\n",
    "    answer = []\n",
    "    board = []\n",
    "    cnt = 1\n",
    "    for i in range(rows):\n",
    "        tmp = []\n",
    "        for j in range(columns):\n",
    "            tmp.append(cnt)\n",
    "            cnt += 1\n",
    "        board.append(tmp)\n",
    "    for s_x, s_y, e_x, e_y in queries:\n",
    "        tmp_val = board[s_x-1][s_y-1]\n",
    "        min_val = tmp_val\n",
    "        for k in range(s_x-1, e_x-1):\n",
    "            next_val = board[k+1][s_y-1]\n",
    "            board[k][s_y-1] = next_val\n",
    "            min_val = min(min_val, next_val)\n",
    "        for k in range(s_y-1, e_y-1):\n",
    "            next_val = board[e_x-1][k+1]\n",
    "            board[e_x-1][k] = next_val\n",
    "            min_val = min(min_val, next_val)\n",
    "        for k in range(e_x-1, s_x-1,-1):\n",
    "            next_val = board[k-1][e_y-1]\n",
    "            board[k][e_y-1] = next_val\n",
    "            min_val = min(min_val, next_val)\n",
    "        for k in range(e_y-1, s_y-1, -1):\n",
    "            next_val = board[s_x-1][k-1]\n",
    "            board[s_x-1][k] = next_val\n",
    "            min_val = min(min_val, next_val)\n",
    "        board[s_x-1][s_y] = tmp_val\n",
    "        answer.append(min_val)\n",
    "    return answer\n",
    "\n",
    "rows = 3\n",
    "columns = 3\n",
    "queries = [[1,1,2,2],[1,2,2,3],[2,1,3,2],[2,2,3,3]]\n",
    "solution(rows, columns, queries)"
   ]
  },
  {
   "cell_type": "code",
   "execution_count": null,
   "metadata": {},
   "outputs": [],
   "source": []
  }
 ],
 "metadata": {
  "kernelspec": {
   "display_name": "base",
   "language": "python",
   "name": "python3"
  },
  "language_info": {
   "codemirror_mode": {
    "name": "ipython",
    "version": 3
   },
   "file_extension": ".py",
   "mimetype": "text/x-python",
   "name": "python",
   "nbconvert_exporter": "python",
   "pygments_lexer": "ipython3",
   "version": "3.9.7"
  }
 },
 "nbformat": 4,
 "nbformat_minor": 2
}
