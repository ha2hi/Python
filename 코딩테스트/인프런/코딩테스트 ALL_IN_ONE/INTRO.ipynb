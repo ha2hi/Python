{
 "cells": [
  {
   "attachments": {},
   "cell_type": "markdown",
   "metadata": {},
   "source": [
    "### 메모리\n",
    "- 하드디스크 : 코드를 저장하면 하드디스크에 저장됨\n",
    "- 램메모리 : 코드를 실행하면 램 메모리에 올라감\n",
    "\n",
    "### 시간 복잡도\n",
    "- 일반적으로 시간복잡도는 Worst 혹은 Average case를 의미함.\n",
    "\n",
    "### 코딩테스트 \n",
    "문제이해 -> 접근 방법 -> 코드 설계 -> 코드 구현\n",
    "- 문제이해(제약 조건)\n",
    "    - 제약 조건이 있는 이유는 실행시간이 낮아야된다는 의미다.\n",
    "    - 실행시간이 낮아야된다는 말은 곧 시간 복잡도가 낮아야한다는 의미.\n",
    "    - 제약 조건이 더 커질 수록 더 효율적인 코드를 작성하라는 의미\n"
   ]
  },
  {
   "cell_type": "code",
   "execution_count": null,
   "metadata": {},
   "outputs": [],
   "source": []
  }
 ],
 "metadata": {
  "language_info": {
   "name": "python"
  },
  "orig_nbformat": 4
 },
 "nbformat": 4,
 "nbformat_minor": 2
}
