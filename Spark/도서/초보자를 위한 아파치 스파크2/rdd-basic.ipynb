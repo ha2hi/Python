{
 "cells": [
  {
   "cell_type": "code",
   "execution_count": 2,
   "metadata": {},
   "outputs": [
    {
     "name": "stderr",
     "output_type": "stream",
     "text": [
      "24/08/05 22:16:54 WARN Utils: Your hostname, MZC01-HYUCKSANGCHO.local resolves to a loopback address: 127.0.0.1; using 192.168.0.51 instead (on interface en0)\n",
      "24/08/05 22:16:54 WARN Utils: Set SPARK_LOCAL_IP if you need to bind to another address\n",
      "Setting default log level to \"WARN\".\n",
      "To adjust logging level use sc.setLogLevel(newLevel). For SparkR, use setLogLevel(newLevel).\n",
      "24/08/05 22:16:55 WARN NativeCodeLoader: Unable to load native-hadoop library for your platform... using builtin-java classes where applicable\n"
     ]
    }
   ],
   "source": [
    "from pyspark import SparkConf, SparkContext\n",
    "conf = SparkConf().setMaster('local').setAppName('r')\n",
    "sc = SparkContext(conf = conf)"
   ]
  },
  {
   "cell_type": "code",
   "execution_count": 3,
   "metadata": {},
   "outputs": [
    {
     "name": "stderr",
     "output_type": "stream",
     "text": [
      "                                                                                \r"
     ]
    },
    {
     "data": {
      "text/plain": [
       "['SB10001,1000',\n",
       " 'SB10002,1200',\n",
       " 'SB10003,8000',\n",
       " 'SB10004,400',\n",
       " 'SB10005,300',\n",
       " 'SB10006,10000',\n",
       " 'SB10007,500',\n",
       " 'SB10008,56',\n",
       " 'SB10009,30',\n",
       " 'SB10010,7000',\n",
       " 'CR10001,7000',\n",
       " 'SB10002,-10']"
      ]
     },
     "execution_count": 3,
     "metadata": {},
     "output_type": "execute_result"
    }
   ],
   "source": [
    "# 계좌번호, 거래금액\n",
    "acTransList = [\"SB10001,1000\", \"SB10002,1200\", \"SB10003,8000\", \"SB10004,400\", \"SB10005,300\", \"SB10006,10000\", \"SB10007,500\", \"SB10008,56\", \"SB10009,30\",\"SB10010,7000\", \"CR10001,7000\", \"SB10002,-10\"]\n",
    "acTransRDD = sc.parallelize(acTransList)\n",
    "acTransRDD.collect()"
   ]
  },
  {
   "cell_type": "code",
   "execution_count": 4,
   "metadata": {},
   "outputs": [
    {
     "name": "stderr",
     "output_type": "stream",
     "text": [
      "                                                                                \r"
     ]
    },
    {
     "data": {
      "text/plain": [
       "['SB10001,1000',\n",
       " 'SB10002,1200',\n",
       " 'SB10003,8000',\n",
       " 'SB10004,400',\n",
       " 'SB10005,300',\n",
       " 'SB10006,10000',\n",
       " 'SB10007,500',\n",
       " 'SB10008,56',\n",
       " 'SB10009,30',\n",
       " 'SB10010,7000']"
      ]
     },
     "execution_count": 4,
     "metadata": {},
     "output_type": "execute_result"
    }
   ],
   "source": [
    "# 거래 금액이 0원 이상이고, 계좌번호가 SB로시작하는 데이터\n",
    "from decimal import Decimal\n",
    "goodTransRecords = acTransRDD.filter(lambda trans : Decimal(trans.split(',')[1]) > 0).filter(lambda trans : trans.split(',')[0].startswith('SB') == True)\n",
    "goodTransRecords.collect()"
   ]
  },
  {
   "cell_type": "code",
   "execution_count": 5,
   "metadata": {},
   "outputs": [
    {
     "data": {
      "text/plain": [
       "['SB10001,1000',\n",
       " 'SB10002,1200',\n",
       " 'SB10003,8000',\n",
       " 'SB10006,10000',\n",
       " 'SB10010,7000',\n",
       " 'CR10001,7000']"
      ]
     },
     "execution_count": 5,
     "metadata": {},
     "output_type": "execute_result"
    }
   ],
   "source": [
    "# 거래 금액이 1000이상인 모든 고객\n",
    "upper_1000_Recoard = acTransRDD.filter(lambda trans : Decimal(trans.split(',')[1]) >= 1000)\n",
    "upper_1000_Recoard.collect()"
   ]
  },
  {
   "cell_type": "code",
   "execution_count": 12,
   "metadata": {},
   "outputs": [
    {
     "data": {
      "text/plain": [
       "['CR10001,7000']"
      ]
     },
     "execution_count": 12,
     "metadata": {},
     "output_type": "execute_result"
    }
   ],
   "source": [
    "# 계좌번호 'SB'로 시작하지 않는 계좌만 출력\n",
    "badAcNoLambda = acTransRDD.filter(lambda trans : trans.split(',')[0].startswith('SB') == False)\n",
    "badAcNoLambda.collect()"
   ]
  },
  {
   "cell_type": "code",
   "execution_count": 23,
   "metadata": {},
   "outputs": [
    {
     "data": {
      "text/plain": [
       "Decimal('35476')"
      ]
     },
     "execution_count": 23,
     "metadata": {},
     "output_type": "execute_result"
    }
   ],
   "source": [
    "# 모든 거래 금액의 합계\n",
    "from decimal import Decimal\n",
    "sumAmount = acTransRDD.map(lambda trans : Decimal(trans.split(',')[1])).reduce(lambda x,y : x+y)\n",
    "sumAmount"
   ]
  },
  {
   "cell_type": "code",
   "execution_count": 29,
   "metadata": {},
   "outputs": [
    {
     "data": {
      "text/plain": [
       "Decimal('10000')"
      ]
     },
     "execution_count": 29,
     "metadata": {},
     "output_type": "execute_result"
    }
   ],
   "source": [
    "# 모든 거래 금액의 최댓값\n",
    "maxAmount = acTransRDD.map(lambda trans : Decimal(trans.split(',')[1])).reduce(lambda x, y : x if x>y else y)\n",
    "maxAmount"
   ]
  },
  {
   "cell_type": "code",
   "execution_count": 30,
   "metadata": {},
   "outputs": [
    {
     "data": {
      "text/plain": [
       "Decimal('-10')"
      ]
     },
     "execution_count": 30,
     "metadata": {},
     "output_type": "execute_result"
    }
   ],
   "source": [
    "# 모든 거래 금액의 최솟값\n",
    "minAmount = acTransRDD.map(lambda trans : Decimal(trans.split(',')[1])).reduce(lambda x,y : x if x < y else y)\n",
    "minAmount"
   ]
  },
  {
   "cell_type": "code",
   "execution_count": 37,
   "metadata": {},
   "outputs": [
    {
     "data": {
      "text/plain": [
       "['SB10001',\n",
       " 'SB10002',\n",
       " 'SB10003',\n",
       " 'SB10004',\n",
       " 'SB10005',\n",
       " 'SB10006',\n",
       " 'SB10007',\n",
       " 'SB10008',\n",
       " 'SB10009',\n",
       " 'SB10010',\n",
       " 'SB10002']"
      ]
     },
     "execution_count": 37,
     "metadata": {},
     "output_type": "execute_result"
    }
   ],
   "source": [
    "# 'SB'로 시작하지 않는 계좌만 출력\n",
    "allGoodAccountNos = acTransRDD.flatMap(lambda trans : trans.split(',')).filter(lambda trans : trans.startswith('SB')==True)\n",
    "allGoodAccountNos.collect()"
   ]
  },
  {
   "cell_type": "code",
   "execution_count": null,
   "metadata": {},
   "outputs": [],
   "source": []
  },
  {
   "cell_type": "markdown",
   "metadata": {},
   "source": [
    "### ReduceByKey"
   ]
  },
  {
   "cell_type": "code",
   "execution_count": 39,
   "metadata": {},
   "outputs": [
    {
     "data": {
      "text/plain": [
       "['SB10001,1000',\n",
       " 'SB10002,1200',\n",
       " 'SB10001,8000',\n",
       " 'SB10002,400',\n",
       " 'SB10003,300',\n",
       " 'SB10001,10000',\n",
       " 'SB10004,500',\n",
       " 'SB10005,56',\n",
       " 'SB10003,30',\n",
       " 'SB10002,7000',\n",
       " 'SB10001,-100',\n",
       " 'SB10002,-10']"
      ]
     },
     "execution_count": 39,
     "metadata": {},
     "output_type": "execute_result"
    }
   ],
   "source": [
    "\n",
    "from decimal import Decimal\n",
    "# Creation of the list from where the RDD is going to be created\n",
    "acTransList = [\"SB10001,1000\", \"SB10002,1200\", \"SB10001,8000\", \"SB10002,400\", \"SB10003,300\", \"SB10001,10000\", \"SB10004,500\", \"SB10005,56\", \"SB10003,30\",\"SB10002,7000\", \"SB10001,-100\", \"SB10002,-10\"]\n",
    "acTransRDD = sc.parallelize(acTransList)\n",
    "acTransRDD.collect()"
   ]
  },
  {
   "cell_type": "code",
   "execution_count": 40,
   "metadata": {},
   "outputs": [
    {
     "data": {
      "text/plain": [
       "[('SB10001', Decimal('1000')),\n",
       " ('SB10002', Decimal('1200')),\n",
       " ('SB10001', Decimal('8000')),\n",
       " ('SB10002', Decimal('400')),\n",
       " ('SB10003', Decimal('300')),\n",
       " ('SB10001', Decimal('10000')),\n",
       " ('SB10004', Decimal('500')),\n",
       " ('SB10005', Decimal('56')),\n",
       " ('SB10003', Decimal('30')),\n",
       " ('SB10002', Decimal('7000')),\n",
       " ('SB10001', Decimal('-100')),\n",
       " ('SB10002', Decimal('-10'))]"
      ]
     },
     "execution_count": 40,
     "metadata": {},
     "output_type": "execute_result"
    }
   ],
   "source": [
    "acKeyVal = acTransRDD.map(lambda trans : (trans.split(',')[0], Decimal(trans.split(',')[1])))\n",
    "acKeyVal.collect()"
   ]
  },
  {
   "cell_type": "code",
   "execution_count": 42,
   "metadata": {},
   "outputs": [
    {
     "data": {
      "text/plain": [
       "[('SB10001', Decimal('18900')),\n",
       " ('SB10002', Decimal('8590')),\n",
       " ('SB10003', Decimal('330')),\n",
       " ('SB10004', Decimal('500')),\n",
       " ('SB10005', Decimal('56'))]"
      ]
     },
     "execution_count": 42,
     "metadata": {},
     "output_type": "execute_result"
    }
   ],
   "source": [
    "accSummary = acKeyVal.reduceByKey(lambda x, y : x+y).sortByKey()\n",
    "accSummary.collect()"
   ]
  },
  {
   "cell_type": "code",
   "execution_count": null,
   "metadata": {},
   "outputs": [],
   "source": []
  },
  {
   "cell_type": "markdown",
   "metadata": {},
   "source": [
    "### Join App"
   ]
  },
  {
   "cell_type": "code",
   "execution_count": 43,
   "metadata": {},
   "outputs": [],
   "source": [
    "# Creation of the list from where the RDD is going to be created\n",
    "acMasterList = [\"SB10001,Roger,Federer\", \"SB10002,Pete,Sampras\", \"SB10003,Rafel,Nadal\", \"SB10004,Boris,Becker\", \"SB10005,Ivan,Lendl\"]\n",
    "# Creation of the list from where the RDD is going to be created\n",
    "acBalList = [\"SB10001,50000\", \"SB10002,12000\", \"SB10003,3000\", \"SB10004,8500\", \"SB10005,5000\"]\n",
    "# Create the RDD\n",
    "acMasterRDD = sc.parallelize(acMasterList)\n",
    "# Create the RDD\n",
    "acBalRDD = sc.parallelize(acBalList)"
   ]
  },
  {
   "cell_type": "code",
   "execution_count": 45,
   "metadata": {},
   "outputs": [
    {
     "data": {
      "text/plain": [
       "['SB10001,Roger,Federer',\n",
       " 'SB10002,Pete,Sampras',\n",
       " 'SB10003,Rafel,Nadal',\n",
       " 'SB10004,Boris,Becker',\n",
       " 'SB10005,Ivan,Lendl']"
      ]
     },
     "execution_count": 45,
     "metadata": {},
     "output_type": "execute_result"
    }
   ],
   "source": [
    "acMasterRDD.collect()"
   ]
  },
  {
   "cell_type": "code",
   "execution_count": 46,
   "metadata": {},
   "outputs": [
    {
     "data": {
      "text/plain": [
       "['SB10001,50000',\n",
       " 'SB10002,12000',\n",
       " 'SB10003,3000',\n",
       " 'SB10004,8500',\n",
       " 'SB10005,5000']"
      ]
     },
     "execution_count": 46,
     "metadata": {},
     "output_type": "execute_result"
    }
   ],
   "source": [
    "acBalRDD.collect()"
   ]
  },
  {
   "cell_type": "code",
   "execution_count": 51,
   "metadata": {},
   "outputs": [
    {
     "data": {
      "text/plain": [
       "[('SB10001', 'Roger Federer'),\n",
       " ('SB10002', 'Pete Sampras'),\n",
       " ('SB10003', 'Rafel Nadal'),\n",
       " ('SB10004', 'Boris Becker'),\n",
       " ('SB10005', 'Ivan Lendl')]"
      ]
     },
     "execution_count": 51,
     "metadata": {},
     "output_type": "execute_result"
    }
   ],
   "source": [
    "acMasterTuples = acMasterRDD.map(lambda trans : trans.split(',')).map(lambda trans : (trans[0], trans[1] + ' ' + trans[2]))\n",
    "acMasterTuples.collect()"
   ]
  },
  {
   "cell_type": "code",
   "execution_count": 57,
   "metadata": {},
   "outputs": [
    {
     "data": {
      "text/plain": [
       "[('SB10001', '50000'),\n",
       " ('SB10002', '12000'),\n",
       " ('SB10003', '3000'),\n",
       " ('SB10004', '8500'),\n",
       " ('SB10005', '5000')]"
      ]
     },
     "execution_count": 57,
     "metadata": {},
     "output_type": "execute_result"
    }
   ],
   "source": [
    "acBalTuples = acBalRDD.map(lambda trans : trans.split(',')).map(lambda transList : (transList[0], transList[1]))\n",
    "acBalTuples.collect()"
   ]
  },
  {
   "cell_type": "code",
   "execution_count": 65,
   "metadata": {},
   "outputs": [
    {
     "data": {
      "text/plain": [
       "[('SB10001', 'Roger Federer', '50000'),\n",
       " ('SB10002', 'Pete Sampras', '12000'),\n",
       " ('SB10003', 'Rafel Nadal', '3000'),\n",
       " ('SB10004', 'Boris Becker', '8500'),\n",
       " ('SB10005', 'Ivan Lendl', '5000')]"
      ]
     },
     "execution_count": 65,
     "metadata": {},
     "output_type": "execute_result"
    }
   ],
   "source": [
    "acJoinTuples = acMasterTuples.join(acBalTuples).sortByKey().map(lambda tran : (tran[0], tran[1][0], tran[1][1]))\n",
    "acJoinTuples.collect()"
   ]
  },
  {
   "cell_type": "code",
   "execution_count": 66,
   "metadata": {},
   "outputs": [
    {
     "data": {
      "text/plain": [
       "[('Roger Federer', '50000'),\n",
       " ('Pete Sampras', '12000'),\n",
       " ('Rafel Nadal', '3000'),\n",
       " ('Boris Becker', '8500'),\n",
       " ('Ivan Lendl', '5000')]"
      ]
     },
     "execution_count": 66,
     "metadata": {},
     "output_type": "execute_result"
    }
   ],
   "source": [
    "# Account Name과 Balance 찾기\n",
    "acNameAndBalance = acJoinTuples.map(lambda trans : (trans[1], trans[2]))\n",
    "acNameAndBalance.collect()"
   ]
  },
  {
   "cell_type": "code",
   "execution_count": 68,
   "metadata": {},
   "outputs": [
    {
     "data": {
      "text/plain": [
       "(Decimal('50000'), 'Roger Federer')"
      ]
     },
     "execution_count": 68,
     "metadata": {},
     "output_type": "execute_result"
    }
   ],
   "source": [
    "# Amout가 가장 큰 element 찾기\n",
    "from decimal import Decimal\n",
    "acTuplesByAmount = acNameAndBalance.map(lambda tran: (Decimal(tran[1]), tran[0])).sortByKey(False)\n",
    "acTuplesByAmount.first()"
   ]
  },
  {
   "cell_type": "code",
   "execution_count": 69,
   "metadata": {},
   "outputs": [
    {
     "data": {
      "text/plain": [
       "[(Decimal('50000'), 'Roger Federer'),\n",
       " (Decimal('12000'), 'Pete Sampras'),\n",
       " (Decimal('8500'), 'Boris Becker')]"
      ]
     },
     "execution_count": 69,
     "metadata": {},
     "output_type": "execute_result"
    }
   ],
   "source": [
    "# top3\n",
    "acTuplesByAmount.take(3)"
   ]
  },
  {
   "cell_type": "code",
   "execution_count": 70,
   "metadata": {},
   "outputs": [
    {
     "data": {
      "text/plain": [
       "defaultdict(int,\n",
       "            {'SB10001': 1,\n",
       "             'SB10002': 1,\n",
       "             'SB10003': 1,\n",
       "             'SB10004': 1,\n",
       "             'SB10005': 1})"
      ]
     },
     "execution_count": 70,
     "metadata": {},
     "output_type": "execute_result"
    }
   ],
   "source": [
    "# Count by keys\n",
    "acBalTuples.countByKey()"
   ]
  },
  {
   "cell_type": "code",
   "execution_count": 71,
   "metadata": {},
   "outputs": [
    {
     "data": {
      "text/plain": [
       "5"
      ]
     },
     "execution_count": 71,
     "metadata": {},
     "output_type": "execute_result"
    }
   ],
   "source": [
    "# Count all the records\n",
    "acBalTuples.count()"
   ]
  },
  {
   "cell_type": "code",
   "execution_count": 72,
   "metadata": {},
   "outputs": [
    {
     "name": "stderr",
     "output_type": "stream",
     "text": [
      "('Roger Federer', '50000')\n",
      "('Pete Sampras', '12000')\n",
      "('Rafel Nadal', '3000')\n",
      "('Boris Becker', '8500')\n",
      "('Ivan Lendl', '5000')\n"
     ]
    }
   ],
   "source": [
    "acNameAndBalance.foreach(print)"
   ]
  },
  {
   "cell_type": "code",
   "execution_count": null,
   "metadata": {},
   "outputs": [],
   "source": []
  }
 ],
 "metadata": {
  "kernelspec": {
   "display_name": "base",
   "language": "python",
   "name": "python3"
  },
  "language_info": {
   "codemirror_mode": {
    "name": "ipython",
    "version": 3
   },
   "file_extension": ".py",
   "mimetype": "text/x-python",
   "name": "python",
   "nbconvert_exporter": "python",
   "pygments_lexer": "ipython3",
   "version": "3.9.7"
  }
 },
 "nbformat": 4,
 "nbformat_minor": 2
}
