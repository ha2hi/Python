{
 "cells": [
  {
   "cell_type": "code",
   "execution_count": 71,
   "metadata": {},
   "outputs": [
    {
     "name": "stdout",
     "output_type": "stream",
     "text": [
      "(0/0)\n",
      "0/(0)\n",
      "0/0\n"
     ]
    }
   ],
   "source": [
    "# https://www.acmicpc.net/problem/2800\n",
    "from itertools import combinations\n",
    "k = list(input())\n",
    "stack = []\n",
    "indices = []\n",
    "answer = set()\n",
    "for i in range(len(k)):\n",
    "    if k[i] == '(':\n",
    "        stack.append(i)\n",
    "    elif k[i] == ')':\n",
    "        indices.append((stack.pop(), i))\n",
    "\n",
    "for i in range(1, len(indices)+1):\n",
    "    for comb in combinations(indices,i):\n",
    "        tmp = k[:]\n",
    "        for idx in comb:\n",
    "            tmp[idx[0]] = tmp[idx[1]] = \"\"\n",
    "        answer.add(\"\".join(tmp))\n",
    "        \n",
    "for item in sorted(answer):\n",
    "    print(item)"
   ]
  }
 ],
 "metadata": {
  "kernelspec": {
   "display_name": "base",
   "language": "python",
   "name": "python3"
  },
  "language_info": {
   "codemirror_mode": {
    "name": "ipython",
    "version": 3
   },
   "file_extension": ".py",
   "mimetype": "text/x-python",
   "name": "python",
   "nbconvert_exporter": "python",
   "pygments_lexer": "ipython3",
   "version": "3.9.7"
  }
 },
 "nbformat": 4,
 "nbformat_minor": 2
}
