{
 "cells": [
  {
   "cell_type": "code",
   "execution_count": 1,
   "metadata": {},
   "outputs": [
    {
     "name": "stdout",
     "output_type": "stream",
     "text": [
      "11060446\n"
     ]
    }
   ],
   "source": [
    "# https://www.acmicpc.net/problem/2417\n",
    "s = int(input())\n",
    "lt, rt = 0, s\n",
    "\n",
    "while lt<=rt:\n",
    "    mid = (lt+rt) // 2\n",
    "    if mid ** 2 < s:\n",
    "        lt = mid + 1\n",
    "    else:\n",
    "        rt = mid - 1\n",
    "\n",
    "print(lt)"
   ]
  },
  {
   "cell_type": "code",
   "execution_count": null,
   "metadata": {},
   "outputs": [],
   "source": []
  }
 ],
 "metadata": {
  "kernelspec": {
   "display_name": "base",
   "language": "python",
   "name": "python3"
  },
  "language_info": {
   "codemirror_mode": {
    "name": "ipython",
    "version": 3
   },
   "file_extension": ".py",
   "mimetype": "text/x-python",
   "name": "python",
   "nbconvert_exporter": "python",
   "pygments_lexer": "ipython3",
   "version": "3.9.7"
  }
 },
 "nbformat": 4,
 "nbformat_minor": 2
}
