{
 "cells": [
  {
   "cell_type": "code",
   "execution_count": 1,
   "metadata": {},
   "outputs": [
    {
     "name": "stdout",
     "output_type": "stream",
     "text": [
      "6\n"
     ]
    }
   ],
   "source": [
    "# https://www.acmicpc.net/problem/5014\n",
    "from collections import deque\n",
    "def solution(F, S, G, U, D):\n",
    "    q = deque([(S, 0)])\n",
    "    visited = [0] * (F+1)\n",
    "    visited[S] = 1\n",
    "\n",
    "    while q:\n",
    "        now, cnt = q.popleft()\n",
    "        if now == G:\n",
    "            return cnt\n",
    "        \n",
    "        for x in [now+U, now-D]:\n",
    "            if 0<x<=F and visited[x] == 0:\n",
    "                visited[x] = 1\n",
    "                q.append((x, cnt + 1))\n",
    "    \n",
    "    return \"use the stairs\"  \n",
    "\n",
    "F, S, G, U, D = map(int, input().split())\n",
    "\n",
    "print(solution(F, S, G, U, D))"
   ]
  },
  {
   "cell_type": "code",
   "execution_count": null,
   "metadata": {},
   "outputs": [],
   "source": []
  }
 ],
 "metadata": {
  "kernelspec": {
   "display_name": "airflow",
   "language": "python",
   "name": "python3"
  },
  "language_info": {
   "codemirror_mode": {
    "name": "ipython",
    "version": 3
   },
   "file_extension": ".py",
   "mimetype": "text/x-python",
   "name": "python",
   "nbconvert_exporter": "python",
   "pygments_lexer": "ipython3",
   "version": "3.9.12"
  }
 },
 "nbformat": 4,
 "nbformat_minor": 2
}
