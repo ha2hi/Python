{
 "cells": [
  {
   "cell_type": "code",
   "execution_count": 45,
   "metadata": {},
   "outputs": [
    {
     "name": "stdout",
     "output_type": "stream",
     "text": [
      "deque([3, 2, 1, 1])\n"
     ]
    }
   ],
   "source": [
    "# https://www.acmicpc.net/problem/5430\n",
    "from collections import deque\n",
    "def solution(p,n,a):\n",
    "    a = deque(a)\n",
    "    rev = 0\n",
    "    try:\n",
    "        for x in p:\n",
    "            if x == 'R':\n",
    "                rev += 1\n",
    "            elif x == 'D':\n",
    "                if rev % 2 == 0:\n",
    "                    a.popleft()\n",
    "                else:\n",
    "                    a.pop()\n",
    "        \n",
    "        if rev % 2 == 0:\n",
    "            return a\n",
    "        else:\n",
    "            a.reverse()\n",
    "            return a\n",
    "    except:\n",
    "        return 'error'\n",
    "\n",
    "t = int(input())\n",
    "for _ in range(t):\n",
    "    p = input()\n",
    "    n = int(input())\n",
    "    a = input()\n",
    "    if a == '[]':\n",
    "        a = []\n",
    "    else:\n",
    "        a = list(map(int, a[1:-1].split(',')))\n",
    "\n",
    "    print(solution(p,n,a))"
   ]
  },
  {
   "cell_type": "code",
   "execution_count": null,
   "metadata": {},
   "outputs": [],
   "source": []
  }
 ],
 "metadata": {
  "kernelspec": {
   "display_name": "base",
   "language": "python",
   "name": "python3"
  },
  "language_info": {
   "codemirror_mode": {
    "name": "ipython",
    "version": 3
   },
   "file_extension": ".py",
   "mimetype": "text/x-python",
   "name": "python",
   "nbconvert_exporter": "python",
   "pygments_lexer": "ipython3",
   "version": "3.9.7"
  }
 },
 "nbformat": 4,
 "nbformat_minor": 2
}
