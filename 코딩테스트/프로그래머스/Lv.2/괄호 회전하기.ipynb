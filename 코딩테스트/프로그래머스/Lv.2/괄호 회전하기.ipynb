{
 "cells": [
  {
   "cell_type": "code",
   "execution_count": 45,
   "metadata": {},
   "outputs": [
    {
     "data": {
      "text/plain": [
       "3"
      ]
     },
     "execution_count": 45,
     "metadata": {},
     "output_type": "execute_result"
    }
   ],
   "source": [
    "# https://school.programmers.co.kr/learn/courses/30/lessons/76502\n",
    "from collections import deque\n",
    "def solution(s):\n",
    "    answer = 0\n",
    "    for i in range(len(s)):\n",
    "        tmp = deque(list(s)).copy()\n",
    "        stack = []\n",
    "        flag = True\n",
    "        for _ in range(i):\n",
    "            tmp.append(tmp.popleft())\n",
    "\n",
    "        for x in tmp:\n",
    "            if x in {'(', '[', '{'}:\n",
    "                stack.append(x)\n",
    "            else:\n",
    "                if not stack:\n",
    "                    flag = False\n",
    "                    break\n",
    "                if x == ')' and stack[-1] == '(':\n",
    "                    stack.pop()\n",
    "                elif x == ']' and stack[-1] == '[':\n",
    "                    stack.pop()\n",
    "                elif x == '}' and stack[-1] == '{':\n",
    "                    stack.pop()\n",
    "                else:\n",
    "                    flag = False\n",
    "                    break\n",
    "        if flag and not stack:\n",
    "            answer += 1\n",
    "    return answer\n",
    "    \n",
    "\n",
    "s = \"[](){}\"\n",
    "solution(s)"
   ]
  },
  {
   "cell_type": "code",
   "execution_count": null,
   "metadata": {},
   "outputs": [],
   "source": []
  }
 ],
 "metadata": {
  "kernelspec": {
   "display_name": "base",
   "language": "python",
   "name": "python3"
  },
  "language_info": {
   "codemirror_mode": {
    "name": "ipython",
    "version": 3
   },
   "file_extension": ".py",
   "mimetype": "text/x-python",
   "name": "python",
   "nbconvert_exporter": "python",
   "pygments_lexer": "ipython3",
   "version": "3.9.7"
  }
 },
 "nbformat": 4,
 "nbformat_minor": 2
}
