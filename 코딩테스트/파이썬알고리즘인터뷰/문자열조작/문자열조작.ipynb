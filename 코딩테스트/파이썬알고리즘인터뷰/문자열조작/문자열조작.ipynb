{
 "cells": [
  {
   "attachments": {},
   "cell_type": "markdown",
   "metadata": {},
   "source": [
    "### 문제1. 유효한 팰린드롬\n",
    "\n",
    "주어진 문자열이 팬린드롬인지 확인해라. 대소문자를 구분하지 않으며 영문자와 숫자만을 대상으로 한다.\n"
   ]
  },
  {
   "cell_type": "code",
   "execution_count": 13,
   "metadata": {},
   "outputs": [
    {
     "data": {
      "text/plain": [
       "False"
      ]
     },
     "execution_count": 13,
     "metadata": {},
     "output_type": "execute_result"
    }
   ],
   "source": [
    "# 방법1\n",
    "# 해당 방법은 isalnum()으로 모든 문자를 일일일 점검함\n",
    "def isPalindrome(s: str) -> bool:\n",
    "    s = [x.upper() for x in s if x.isalnum()]\n",
    "    return s == s[::-1]\n",
    "\n",
    "s = input()\n",
    "isPalindrome(s)"
   ]
  },
  {
   "cell_type": "code",
   "execution_count": 15,
   "metadata": {},
   "outputs": [
    {
     "data": {
      "text/plain": [
       "False"
      ]
     },
     "execution_count": 15,
     "metadata": {},
     "output_type": "execute_result"
    }
   ],
   "source": [
    "# 방법2\n",
    "import re\n",
    "def isPalindrome(s: str) -> bool:\n",
    "    s = s.upper()\n",
    "    s = re.sub('[^A-Z0-9]', '',s)\n",
    "    return s == s[::-1]\n",
    "    \n",
    "s = input()\n",
    "isPalindrome(s)"
   ]
  },
  {
   "cell_type": "code",
   "execution_count": null,
   "metadata": {},
   "outputs": [],
   "source": []
  },
  {
   "attachments": {},
   "cell_type": "markdown",
   "metadata": {},
   "source": [
    "### 문제 2\n",
    "\n",
    "문자열을 두집는 함수를 작성하라. 입력값은 문자 배열이며, 리턴없이 리스트 내부를 직접조작하라\n",
    "\n",
    "- 입력\n",
    "- [\"h\", \"e\", \"l\", \"l\", \"o\"]\n",
    "\n",
    "- 출력\n",
    "- [\"o\", \"l\", \"l\", \"e\", \"h\"]"
   ]
  },
  {
   "cell_type": "code",
   "execution_count": 20,
   "metadata": {},
   "outputs": [],
   "source": [
    "# 방법1\n",
    "def reverseString(s: list['srt']) -> None:\n",
    "    lt, rt = 0, len(s) - 1\n",
    "    while lt < rt:\n",
    "        s[lt],s[rt] = s[rt], s[lt]\n",
    "        lt += 1\n",
    "        rt -= 1\n",
    "s = list(input())\n",
    "reverseString(s)"
   ]
  },
  {
   "cell_type": "code",
   "execution_count": 22,
   "metadata": {},
   "outputs": [],
   "source": [
    "# 방법2\n",
    "def reverseString(s: list['srt']) -> None:\n",
    "    s.reverse()\n",
    "\n",
    "s = list(input())\n",
    "reverseString(s)"
   ]
  },
  {
   "cell_type": "code",
   "execution_count": null,
   "metadata": {},
   "outputs": [],
   "source": []
  },
  {
   "attachments": {},
   "cell_type": "markdown",
   "metadata": {},
   "source": [
    "### 문제 3\n",
    "https://leetcode.com/problems/reorder-data-in-log-files/\n",
    "\n",
    "로그를 재정렬하라. 기준은 다음과 같다.\n",
    "1. 로그의 가장 앞 부분은 식별자다.\n",
    "2. 문자로 구성된 로그가 숫자 로그보다 앞에 온다.\n",
    "3. 식별자는 순서에 영향을 끼치지 않지만, 문자가 동일한 경우 실벽자 순으로 한다.\n",
    "4. 숫자 로그는 입력 순서대로한다."
   ]
  },
  {
   "cell_type": "code",
   "execution_count": 27,
   "metadata": {},
   "outputs": [
    {
     "data": {
      "text/plain": [
       "['let1 art can',\n",
       " 'let3 art zero',\n",
       " 'let2 own kit dig',\n",
       " 'dig1 8 1 5 1',\n",
       " 'dig2 3 6']"
      ]
     },
     "execution_count": 27,
     "metadata": {},
     "output_type": "execute_result"
    }
   ],
   "source": [
    "import re\n",
    "def func(logs: list['str']) -> list['str']:\n",
    "    digits, letters = [], []\n",
    "    for log in logs:\n",
    "        if log[0] == 'd':\n",
    "            digits.append(log)\n",
    "        else:\n",
    "            letters.append(log)\n",
    "    letters.sort(key = lambda x : (x.split()[1:], x.split()[0]))\n",
    "    return letters + digits\n",
    "\n",
    "\n",
    "logs = [\"dig1 8 1 5 1\", \"let1 art can\", \"dig2 3 6\", \"let2 own kit dig\", \"let3 art zero\"]\n",
    "func(logs)"
   ]
  },
  {
   "cell_type": "code",
   "execution_count": null,
   "metadata": {},
   "outputs": [],
   "source": []
  },
  {
   "attachments": {},
   "cell_type": "markdown",
   "metadata": {},
   "source": [
    "### 문제4 가장 흔한 단어\n",
    "금지된 단어를 제외한 가장 흔하게 등장하는 단어를 출력하라. 대소문자를 구분을 하지 않으며,\n",
    "구두점(마침표, 쉼표 등) 도한 무시한다.\n",
    "- 입력\n",
    "- paragraph = \"Bob hit a ball, the hit BALL flew far after it was hit.\"\n",
    "- banned = ['hit']\n",
    "\n",
    "- 출력\n",
    "- 'ball'"
   ]
  },
  {
   "cell_type": "code",
   "execution_count": 61,
   "metadata": {},
   "outputs": [
    {
     "data": {
      "text/plain": [
       "('ball', 2)"
      ]
     },
     "execution_count": 61,
     "metadata": {},
     "output_type": "execute_result"
    }
   ],
   "source": [
    "import re\n",
    "from collections import Counter\n",
    "def func(paragraph: str, banned: list['srt']) -> str:\n",
    "    banned = set(banned)\n",
    "    paragraph = [word for word in re.sub('[^\\w]', ' ', paragraph).lower().split() if word not in banned]\n",
    "    res = Counter(paragraph)\n",
    "    return res.most_common(1)[0]\n",
    "\n",
    "\n",
    "paragraph = \"Bob hit a ball, the hit BALL flew far after it was hit.\"\n",
    "banned = ['hit']\n",
    "func(paragraph, banned)"
   ]
  },
  {
   "cell_type": "code",
   "execution_count": null,
   "metadata": {},
   "outputs": [],
   "source": []
  },
  {
   "attachments": {},
   "cell_type": "markdown",
   "metadata": {},
   "source": [
    "### 5.그룹 애너그램\n",
    "문자열 배열을 받아 애너그램 단위로 그룹핑하라.\n",
    "\n",
    "- 입력\n",
    "- [\"eat\", \"tea\", \"tan\", \"ate\", \"nat\", \"bat\"]\n",
    "\n",
    "- 출력\n",
    "- [['eat', 'tea', 'ate'], ['tan', 'nat'], ['bat']]"
   ]
  },
  {
   "cell_type": "code",
   "execution_count": 84,
   "metadata": {},
   "outputs": [
    {
     "data": {
      "text/plain": [
       "dict_values([['eat', 'tea', 'ate'], ['tan', 'nat'], ['bat']])"
      ]
     },
     "execution_count": 84,
     "metadata": {},
     "output_type": "execute_result"
    }
   ],
   "source": [
    "import collections\n",
    "def func(s: list['str']) ->list[list['str']]:\n",
    "    res = collections.defaultdict(list)\n",
    "    for word in s:\n",
    "        res[''.join(sorted(word))].append(word)\n",
    "    return res.values()\n",
    "\n",
    "\n",
    "s = [\"eat\", \"tea\", \"tan\", \"ate\", \"nat\", \"bat\"]\n",
    "func(s)"
   ]
  },
  {
   "cell_type": "code",
   "execution_count": null,
   "metadata": {},
   "outputs": [],
   "source": []
  },
  {
   "attachments": {},
   "cell_type": "markdown",
   "metadata": {},
   "source": [
    "### 6. 가장 긴 팰린드롬 부분 문자열\n",
    "가장 긴 팰린드롬 부분 문자열을 출력하라.\n",
    "\n",
    "- 입력\n",
    "- babbad\n",
    "\n",
    "- 출력\n",
    "- bab"
   ]
  },
  {
   "cell_type": "code",
   "execution_count": 97,
   "metadata": {},
   "outputs": [
    {
     "data": {
      "text/plain": [
       "'bb'"
      ]
     },
     "execution_count": 97,
     "metadata": {},
     "output_type": "execute_result"
    }
   ],
   "source": [
    "# 내풀이\n",
    "def func(s: str) -> str:\n",
    "    lt = 0\n",
    "    rt = len(s)\n",
    "    res = ''\n",
    "    while lt < rt:\n",
    "        for i in range(lt+1, rt):\n",
    "            if s[lt:i+1] == s[lt:i+1][::-1]:\n",
    "                if len(s[lt:i+1]) > len(res):\n",
    "                    res = s[lt:i+1]\n",
    "        lt += 1\n",
    "    return res\n",
    "s = 'cbbd'\n",
    "func(s)"
   ]
  },
  {
   "cell_type": "code",
   "execution_count": 98,
   "metadata": {},
   "outputs": [
    {
     "data": {
      "text/plain": [
       "'bb'"
      ]
     },
     "execution_count": 98,
     "metadata": {},
     "output_type": "execute_result"
    }
   ],
   "source": [
    "#책 풀이\n",
    "def longestPalindrome(s: str) -> str:\n",
    "    def expand(lt: int, rt: int) -> str:\n",
    "        while lt >=0 and lt <= len(s) and s[lt] == s[rt-1]:\n",
    "            lt -= 1\n",
    "            rt += 1\n",
    "        return s[lt+1:rt-1]\n",
    "    if len(s) < 2 or s == s[::-1]:\n",
    "        return s\n",
    "    result = ''\n",
    "    for i in range(len(s) - 1):\n",
    "        result = max(result,\n",
    "                        expand(i, i+1),\n",
    "                        expand(i, i+2),\n",
    "                        key = len)\n",
    "    return result\n",
    "s = 'cbbd'\n",
    "longestPalindrome(s)"
   ]
  },
  {
   "cell_type": "code",
   "execution_count": null,
   "metadata": {},
   "outputs": [],
   "source": []
  }
 ],
 "metadata": {
  "kernelspec": {
   "display_name": "base",
   "language": "python",
   "name": "python3"
  },
  "language_info": {
   "codemirror_mode": {
    "name": "ipython",
    "version": 3
   },
   "file_extension": ".py",
   "mimetype": "text/x-python",
   "name": "python",
   "nbconvert_exporter": "python",
   "pygments_lexer": "ipython3",
   "version": "3.9.7"
  },
  "orig_nbformat": 4
 },
 "nbformat": 4,
 "nbformat_minor": 2
}
