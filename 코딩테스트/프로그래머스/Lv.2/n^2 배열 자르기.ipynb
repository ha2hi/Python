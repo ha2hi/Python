{
 "cells": [
  {
   "cell_type": "code",
   "execution_count": 22,
   "metadata": {},
   "outputs": [
    {
     "data": {
      "text/plain": [
       "[3, 2, 2, 3]"
      ]
     },
     "execution_count": 22,
     "metadata": {},
     "output_type": "execute_result"
    }
   ],
   "source": [
    "# https://school.programmers.co.kr/learn/courses/30/lessons/87390\n",
    "from collections import deque\n",
    "import numpy as np\n",
    "def solution(n, left, right):\n",
    "    dx = [1,0,-1,0,-1,1,-1,1]\n",
    "    dy = [0,1,0,-1,1,1,-1,-1]\n",
    "    res = [[1 for _ in range(n)]for _ in range(n)]\n",
    "    ch = [[True for _ in range(n)]for _ in range(n)]\n",
    "    ch[0][0] = False\n",
    "    q = deque()\n",
    "    q.append((0,0))\n",
    "    while q:\n",
    "        cur_x, cur_y = q.popleft()\n",
    "        for i in range(8):\n",
    "            xx = cur_x + dx[i]\n",
    "            yy = cur_y + dy[i]\n",
    "            if 0<=xx<n and 0<=yy<n and ch[xx][yy]:\n",
    "                ch[xx][yy] = False\n",
    "                q.append((xx,yy))\n",
    "                res[xx][yy] = res[cur_x][cur_y] + 1\n",
    "    res =  np.array(res).flatten().tolist()\n",
    "    return res[left:right+1]\n",
    "\n",
    "n = 3\n",
    "left = 2\n",
    "right = 5\n",
    "solution(n, left, right)"
   ]
  },
  {
   "cell_type": "code",
   "execution_count": 23,
   "metadata": {},
   "outputs": [
    {
     "data": {
      "text/plain": [
       "[3, 2, 2, 3]"
      ]
     },
     "execution_count": 23,
     "metadata": {},
     "output_type": "execute_result"
    }
   ],
   "source": [
    "def solution(n, left, right):\n",
    "    answer = []\n",
    "    for i in range(left, right+1):\n",
    "        a = i//n\n",
    "        b = i%n\n",
    "        if a < b:\n",
    "            a, b = b, a\n",
    "        answer.append(a+1)\n",
    "    return answer\n",
    "\n",
    "n = 3\n",
    "left = 2\n",
    "right = 5\n",
    "solution(n, left, right)"
   ]
  },
  {
   "cell_type": "code",
   "execution_count": null,
   "metadata": {},
   "outputs": [],
   "source": []
  }
 ],
 "metadata": {
  "kernelspec": {
   "display_name": "base",
   "language": "python",
   "name": "python3"
  },
  "language_info": {
   "codemirror_mode": {
    "name": "ipython",
    "version": 3
   },
   "file_extension": ".py",
   "mimetype": "text/x-python",
   "name": "python",
   "nbconvert_exporter": "python",
   "pygments_lexer": "ipython3",
   "version": "3.9.7"
  }
 },
 "nbformat": 4,
 "nbformat_minor": 2
}
