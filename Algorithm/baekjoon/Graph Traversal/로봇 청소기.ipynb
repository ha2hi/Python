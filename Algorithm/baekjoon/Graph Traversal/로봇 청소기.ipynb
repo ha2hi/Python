{
 "cells": [
  {
   "cell_type": "code",
   "execution_count": 8,
   "metadata": {},
   "outputs": [
    {
     "name": "stdout",
     "output_type": "stream",
     "text": [
      "57\n"
     ]
    }
   ],
   "source": [
    "# https://www.acmicpc.net/problem/14503\n",
    "# 0 : 북, 1: 동, 2 : 남, 3 : 서\n",
    "n, m = map(int, input().split())\n",
    "r, c, d = map(int, input().split())\n",
    "room = [list(map(int, input().split())) for _ in range(n)]\n",
    "dx = [-1,0,1,0]\n",
    "dy = [0,1,0,-1]\n",
    "cnt = 0\n",
    "\n",
    "while True:\n",
    "    if room[r][c] == 0:\n",
    "        room[r][c] = 2\n",
    "        cnt += 1\n",
    "    \n",
    "    flag = False\n",
    "    for _ in range(4):\n",
    "        d = (d+3)%4\n",
    "        xx = r + dx[d]\n",
    "        yy = c + dy[d]\n",
    "        if 0<=xx<n and 0<=yy<m and room[xx][yy] == 0:\n",
    "            r, c = xx, yy\n",
    "            flag = True\n",
    "            break\n",
    "\n",
    "    if not flag:\n",
    "        tmp = (d+2)%4\n",
    "        if room[r+dx[tmp]][c+dy[tmp]] == 1:\n",
    "            break\n",
    "        else:\n",
    "            r = r + dx[tmp]\n",
    "            c = c + dy[tmp]\n",
    "\n",
    "print(cnt)"
   ]
  },
  {
   "cell_type": "code",
   "execution_count": 3,
   "metadata": {},
   "outputs": [
    {
     "name": "stdout",
     "output_type": "stream",
     "text": [
      "57\n"
     ]
    }
   ],
   "source": [
    "# 0: 북, 1: 동, 2: 남, 3: 서\n",
    "n, m = map(int, input().split())\n",
    "r, c, d = map(int, input().split())\n",
    "room = [list(map(int, input().split())) for _ in range(n)]\n",
    "\n",
    "# 방향 벡터: 북, 동, 남, 서\n",
    "dx = [-1, 0, 1, 0]\n",
    "dy = [0, 1, 0, -1]\n",
    "\n",
    "def turn_left(direction):\n",
    "    return (direction + 3) % 4\n",
    "\n",
    "cleaned = 0\n",
    "\n",
    "while True:\n",
    "    if room[r][c] == 0:\n",
    "        room[r][c] = 2  # 청소 완료\n",
    "        cleaned += 1\n",
    "    \n",
    "    found = False\n",
    "    for _ in range(4):\n",
    "        d = turn_left(d)\n",
    "        nx = r + dx[d]\n",
    "        ny = c + dy[d]\n",
    "        \n",
    "        if 0 <= nx < n and 0 <= ny < m and room[nx][ny] == 0:\n",
    "            r, c = nx, ny\n",
    "            found = True\n",
    "            break\n",
    "    \n",
    "    if not found:\n",
    "        back = (d + 2) % 4\n",
    "        r_back = r + dx[back]\n",
    "        c_back = c + dy[back]\n",
    "        \n",
    "        if room[r_back][c_back] == 1:\n",
    "            break\n",
    "        else:\n",
    "            r, c = r_back, c_back\n",
    "\n",
    "print(cleaned)\n"
   ]
  },
  {
   "cell_type": "code",
   "execution_count": null,
   "metadata": {},
   "outputs": [],
   "source": []
  }
 ],
 "metadata": {
  "kernelspec": {
   "display_name": "base",
   "language": "python",
   "name": "python3"
  },
  "language_info": {
   "codemirror_mode": {
    "name": "ipython",
    "version": 3
   },
   "file_extension": ".py",
   "mimetype": "text/x-python",
   "name": "python",
   "nbconvert_exporter": "python",
   "pygments_lexer": "ipython3",
   "version": "3.9.7"
  }
 },
 "nbformat": 4,
 "nbformat_minor": 2
}
