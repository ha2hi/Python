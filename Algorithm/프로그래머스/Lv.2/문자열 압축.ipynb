{
 "cells": [
  {
   "cell_type": "code",
   "execution_count": 15,
   "metadata": {},
   "outputs": [
    {
     "data": {
      "text/plain": [
       "7"
      ]
     },
     "execution_count": 15,
     "metadata": {},
     "output_type": "execute_result"
    }
   ],
   "source": [
    "def solution(s):\n",
    "    res = []\n",
    "\n",
    "    for i in range(1, len(s)+1):\n",
    "        b = ''\n",
    "        cnt = 1\n",
    "        tmp = s[:i]\n",
    "\n",
    "        for j in range(i, len(s)+i, i):\n",
    "            if tmp == s[j:j+i]:\n",
    "                cnt += 1\n",
    "            else:\n",
    "                if cnt != 1:\n",
    "                    b += str(cnt) + tmp\n",
    "                else:\n",
    "                    b += tmp\n",
    "                tmp = s[j:j+i]\n",
    "                cnt = 1\n",
    "\n",
    "        res.append(len(b))\n",
    "\n",
    "    return min(res)\n",
    "            \n",
    "s = \"aabbaccc\"\n",
    "solution(s)"
   ]
  },
  {
   "cell_type": "code",
   "execution_count": null,
   "metadata": {},
   "outputs": [],
   "source": []
  }
 ],
 "metadata": {
  "kernelspec": {
   "display_name": "base",
   "language": "python",
   "name": "python3"
  },
  "language_info": {
   "codemirror_mode": {
    "name": "ipython",
    "version": 3
   },
   "file_extension": ".py",
   "mimetype": "text/x-python",
   "name": "python",
   "nbconvert_exporter": "python",
   "pygments_lexer": "ipython3",
   "version": "3.9.7"
  }
 },
 "nbformat": 4,
 "nbformat_minor": 2
}
