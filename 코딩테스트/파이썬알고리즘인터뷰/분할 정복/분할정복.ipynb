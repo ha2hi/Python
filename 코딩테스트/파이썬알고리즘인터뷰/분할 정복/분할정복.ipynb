{
 "cells": [
  {
   "cell_type": "markdown",
   "metadata": {},
   "source": [
    "### 문제1.\n",
    "https://leetcode.com/problems/majority-element/description/"
   ]
  },
  {
   "cell_type": "code",
   "execution_count": 8,
   "metadata": {},
   "outputs": [
    {
     "data": {
      "text/plain": [
       "3"
      ]
     },
     "execution_count": 8,
     "metadata": {},
     "output_type": "execute_result"
    }
   ],
   "source": [
    "# 내풀이\n",
    "# Counter를 사용해서 most_common으로 결과를 구하면 되지 않을까?\n",
    "from typing import List\n",
    "from collections import Counter\n",
    "class Solution:\n",
    "    def majorityElement(self, nums: List[int]) -> int:\n",
    "        nums = Counter(nums)\n",
    "\n",
    "        return nums.most_common(1)[0][0]\n",
    "\n",
    "\n",
    "Solution().majorityElement(nums = [3,2,3])"
   ]
  },
  {
   "cell_type": "code",
   "execution_count": 9,
   "metadata": {},
   "outputs": [
    {
     "data": {
      "text/plain": [
       "3"
      ]
     },
     "execution_count": 9,
     "metadata": {},
     "output_type": "execute_result"
    }
   ],
   "source": [
    "# 책풀이 1\n",
    "# DP 풀이\n",
    "from typing import List\n",
    "from collections import defaultdict\n",
    "class Solution:\n",
    "    def majorityElement(self, nums: List[int]) -> int:\n",
    "        dic = defaultdict(int)\n",
    "\n",
    "        for num in nums:\n",
    "            if dic[num] == 0:\n",
    "                dic[num] = nums.count(num)\n",
    "            \n",
    "            if dic[num] > len(nums) // 2:\n",
    "                return num\n",
    "    \n",
    "Solution().majorityElement(nums = [3,2,3])"
   ]
  },
  {
   "cell_type": "code",
   "execution_count": 16,
   "metadata": {},
   "outputs": [
    {
     "data": {
      "text/plain": [
       "3"
      ]
     },
     "execution_count": 16,
     "metadata": {},
     "output_type": "execute_result"
    }
   ],
   "source": [
    "# 책풀이 2\n",
    "# 분할정복 풀이\n",
    "from typing import List\n",
    "class Solution:\n",
    "    def majorityElement(self, nums: List[int]) -> int:\n",
    "        if not nums:\n",
    "            return None\n",
    "        \n",
    "        if len(nums) == 1:\n",
    "            return nums[0]\n",
    "\n",
    "        a = self.majorityElement(nums[len(nums)//2:])\n",
    "        b = self.majorityElement(nums[:len(nums)//2])\n",
    "\n",
    "        return [a, b][nums.count(b) > len(nums)//2]\n",
    "\n",
    "Solution().majorityElement(nums = [3,2,3])"
   ]
  },
  {
   "cell_type": "code",
   "execution_count": null,
   "metadata": {},
   "outputs": [],
   "source": []
  },
  {
   "cell_type": "markdown",
   "metadata": {},
   "source": [
    "### 문제2\n",
    "https://leetcode.com/problems/different-ways-to-add-parentheses/"
   ]
  },
  {
   "cell_type": "code",
   "execution_count": 20,
   "metadata": {},
   "outputs": [
    {
     "data": {
      "text/plain": [
       "[2, 0]"
      ]
     },
     "execution_count": 20,
     "metadata": {},
     "output_type": "execute_result"
    }
   ],
   "source": [
    "from typing import List\n",
    "class Solution:\n",
    "    def diffWaysToCompute(self, expression: str) -> List[int]:\n",
    "        def compute(left, right, op):\n",
    "            result = []\n",
    "            for l in left:\n",
    "                for r in right:\n",
    "                    result.append(eval(str(l)+op+str(r)))\n",
    "\n",
    "            return result\n",
    "\n",
    "        if expression.isdigit():\n",
    "            return [int(expression)]\n",
    "        \n",
    "        results = []\n",
    "        for index, value in enumerate(expression):\n",
    "            if value in \"+-*\":\n",
    "                left = self.diffWaysToCompute(expression[:index])\n",
    "                right = self.diffWaysToCompute(expression[index+1:])\n",
    "\n",
    "                results.extend(compute(left, right, value))\n",
    "\n",
    "        return results\n",
    "\n",
    "Solution().diffWaysToCompute(\"2-1-1\")"
   ]
  },
  {
   "cell_type": "code",
   "execution_count": null,
   "metadata": {},
   "outputs": [],
   "source": []
  }
 ],
 "metadata": {
  "kernelspec": {
   "display_name": "base",
   "language": "python",
   "name": "python3"
  },
  "language_info": {
   "codemirror_mode": {
    "name": "ipython",
    "version": 3
   },
   "file_extension": ".py",
   "mimetype": "text/x-python",
   "name": "python",
   "nbconvert_exporter": "python",
   "pygments_lexer": "ipython3",
   "version": "3.9.7"
  }
 },
 "nbformat": 4,
 "nbformat_minor": 2
}
