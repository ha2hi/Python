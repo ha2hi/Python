{
 "cells": [
  {
   "cell_type": "code",
   "execution_count": 6,
   "metadata": {},
   "outputs": [
    {
     "data": {
      "text/plain": [
       "[[1, 2],\n",
       " [1, 3],\n",
       " [2, 3],\n",
       " [1, 2],\n",
       " [3, 1],\n",
       " [3, 2],\n",
       " [1, 2],\n",
       " [1, 3],\n",
       " [2, 3],\n",
       " [2, 1],\n",
       " [3, 1],\n",
       " [2, 3],\n",
       " [1, 2],\n",
       " [1, 3],\n",
       " [2, 3]]"
      ]
     },
     "execution_count": 6,
     "metadata": {},
     "output_type": "execute_result"
    }
   ],
   "source": [
    "def solution(n):\n",
    "    answer = []\n",
    "    def hanoi(src, tgt, inter, n):\n",
    "        if n == 1:\n",
    "            answer.append([src, tgt])\n",
    "        else:\n",
    "            hanoi(src, inter, tgt, n-1)\n",
    "            hanoi(src, tgt, inter, 1)\n",
    "            hanoi(inter, tgt, src, n-1)\n",
    "    hanoi(1,3,2,n)\n",
    "\n",
    "    return answer\n",
    "\n",
    "\n",
    "n = 4\n",
    "solution(n)"
   ]
  },
  {
   "cell_type": "code",
   "execution_count": null,
   "metadata": {},
   "outputs": [],
   "source": []
  }
 ],
 "metadata": {
  "kernelspec": {
   "display_name": "base",
   "language": "python",
   "name": "python3"
  },
  "language_info": {
   "codemirror_mode": {
    "name": "ipython",
    "version": 3
   },
   "file_extension": ".py",
   "mimetype": "text/x-python",
   "name": "python",
   "nbconvert_exporter": "python",
   "pygments_lexer": "ipython3",
   "version": "3.9.7"
  }
 },
 "nbformat": 4,
 "nbformat_minor": 2
}
