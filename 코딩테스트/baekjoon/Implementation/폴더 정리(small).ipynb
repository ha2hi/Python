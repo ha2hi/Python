{
 "cells": [
  {
   "cell_type": "code",
   "execution_count": 25,
   "metadata": {},
   "outputs": [
    {
     "name": "stdout",
     "output_type": "stream",
     "text": [
      "1 1\n",
      "1 1\n",
      "1 1\n"
     ]
    }
   ],
   "source": [
    "from collections import defaultdict\n",
    "import sys\n",
    "sys.setrecursionlimit(10**5)\n",
    "\n",
    "def solution(folder):\n",
    "    if folder not in dic:\n",
    "        return\n",
    "    \n",
    "    for a, b in dic[folder]:\n",
    "        if b == '0':\n",
    "            files.append(a)\n",
    "        else:\n",
    "            solution(a)\n",
    "\n",
    "\n",
    "n, m = map(int, input().split())\n",
    "dic = defaultdict(list)\n",
    "\n",
    "for _ in range(n+m):\n",
    "    p, f, c = input().split()\n",
    "    dic[p].append([f,c])\n",
    "\n",
    "q = int(input())\n",
    "for _ in range(q):\n",
    "    folder = input().split('/')[-1]\n",
    "    files = []\n",
    "    solution(folder)\n",
    "\n",
    "    print(len(set(files)), len(files))"
   ]
  },
  {
   "cell_type": "code",
   "execution_count": null,
   "metadata": {},
   "outputs": [],
   "source": []
  }
 ],
 "metadata": {
  "kernelspec": {
   "display_name": "base",
   "language": "python",
   "name": "python3"
  },
  "language_info": {
   "codemirror_mode": {
    "name": "ipython",
    "version": 3
   },
   "file_extension": ".py",
   "mimetype": "text/x-python",
   "name": "python",
   "nbconvert_exporter": "python",
   "pygments_lexer": "ipython3",
   "version": "3.9.-1"
  }
 },
 "nbformat": 4,
 "nbformat_minor": 2
}
