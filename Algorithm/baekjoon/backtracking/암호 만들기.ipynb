{
 "cells": [
  {
   "cell_type": "code",
   "execution_count": 1,
   "metadata": {},
   "outputs": [
    {
     "name": "stdout",
     "output_type": "stream",
     "text": [
      "acis\n",
      "acit\n",
      "aciw\n",
      "acst\n",
      "acsw\n",
      "actw\n",
      "aist\n",
      "aisw\n",
      "aitw\n",
      "astw\n",
      "cist\n",
      "cisw\n",
      "citw\n",
      "istw\n"
     ]
    }
   ],
   "source": [
    "# https://www.acmicpc.net/problem/1759\n",
    "def dfs(l, s, v):\n",
    "    if l == L:\n",
    "        mo = sum(1 for val in v if val in 'aeiou')\n",
    "        ja = L-mo\n",
    "        if mo >= 1 and ja >= 2:\n",
    "            print(v)\n",
    "            return\n",
    "    else:\n",
    "        for i in range(s+1, C):\n",
    "            dfs(l+1, s+1, v+arr[i])\n",
    "            s+=1\n",
    "\n",
    "L, C = map(int, input().split())\n",
    "arr = sorted(list(input().split()))\n",
    "dfs(0, -1, '')"
   ]
  },
  {
   "cell_type": "code",
   "execution_count": null,
   "metadata": {},
   "outputs": [],
   "source": []
  }
 ],
 "metadata": {
  "kernelspec": {
   "display_name": "base",
   "language": "python",
   "name": "python3"
  },
  "language_info": {
   "codemirror_mode": {
    "name": "ipython",
    "version": 3
   },
   "file_extension": ".py",
   "mimetype": "text/x-python",
   "name": "python",
   "nbconvert_exporter": "python",
   "pygments_lexer": "ipython3",
   "version": "3.9.7"
  }
 },
 "nbformat": 4,
 "nbformat_minor": 2
}
