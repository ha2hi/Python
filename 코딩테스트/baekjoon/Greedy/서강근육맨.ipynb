{
 "cells": [
  {
   "cell_type": "code",
   "execution_count": 5,
   "metadata": {},
   "outputs": [
    {
     "name": "stdout",
     "output_type": "stream",
     "text": [
      "5\n"
     ]
    }
   ],
   "source": [
    "# https://www.acmicpc.net/problem/20300\n",
    "def solution(n,a):\n",
    "    a.sort()\n",
    "    res = []\n",
    "    if (n % 2) == 1:\n",
    "        res.append(a.pop())\n",
    "        n -= 1\n",
    "    lt, rt = 0, n-1\n",
    "    while lt < rt:\n",
    "        res.append(a[lt]+a[rt])\n",
    "        lt += 1\n",
    "        rt -= 1\n",
    "\n",
    "    return max(res)\n",
    "    \n",
    "n = int(input())\n",
    "a = list(map(int, input().split()))\n",
    "print(solution(n,a))"
   ]
  },
  {
   "cell_type": "code",
   "execution_count": null,
   "metadata": {},
   "outputs": [],
   "source": []
  }
 ],
 "metadata": {
  "kernelspec": {
   "display_name": "base",
   "language": "python",
   "name": "python3"
  },
  "language_info": {
   "codemirror_mode": {
    "name": "ipython",
    "version": 3
   },
   "file_extension": ".py",
   "mimetype": "text/x-python",
   "name": "python",
   "nbconvert_exporter": "python",
   "pygments_lexer": "ipython3",
   "version": "3.9.7"
  }
 },
 "nbformat": 4,
 "nbformat_minor": 2
}
