{
 "cells": [
  {
   "cell_type": "code",
   "execution_count": 75,
   "metadata": {},
   "outputs": [
    {
     "data": {
      "text/plain": [
       "7"
      ]
     },
     "execution_count": 75,
     "metadata": {},
     "output_type": "execute_result"
    }
   ],
   "source": [
    "# 내풀이\n",
    "def solution(dirs):\n",
    "    direct = {'U' : (-1,0), 'D' : (1, 0), 'R' : (0,1), 'L' : (0,-1)}\n",
    "    res = set()\n",
    "    now_x = now_y = 0\n",
    "    for dir in dirs:\n",
    "        if dir == 'U':\n",
    "            next_x = now_x + direct['U'][0]\n",
    "            next_y = now_y + direct['U'][1]\n",
    "            if -5<=next_x<=5 and -5<=next_y<=5:\n",
    "                if (next_x,next_y,now_x,now_y) not in res:\n",
    "                    res.add((now_x, now_y, next_x, next_y))\n",
    "                    now_x = next_x\n",
    "                    now_y = next_y\n",
    "                else:\n",
    "                    now_x = next_x\n",
    "                    now_y = next_y\n",
    "        elif dir == 'D':\n",
    "            next_x = now_x + direct['D'][0]\n",
    "            next_y = now_y + direct['D'][1]\n",
    "            if -5<=next_x<=5 and -5<=next_y<=5:\n",
    "                if (next_x,next_y,now_x,now_y) not in res:\n",
    "                    res.add((now_x, now_y, next_x, next_y))\n",
    "                    now_x = next_x\n",
    "                    now_y = next_y\n",
    "                else:\n",
    "                    now_x = next_x\n",
    "                    now_y = next_y\n",
    "        elif dir == 'R':\n",
    "            next_x = now_x + direct['R'][0]\n",
    "            next_y = now_y + direct['R'][1]\n",
    "            if -5<=next_x<=5 and -5<=next_y<=5:\n",
    "                if (next_x,next_y,now_x,now_y) not in res:\n",
    "                    res.add((now_x, now_y, next_x, next_y))\n",
    "                    now_x = next_x\n",
    "                    now_y = next_y\n",
    "                else:\n",
    "                    now_x = next_x\n",
    "                    now_y = next_y\n",
    "        elif dir == 'L':\n",
    "            next_x = now_x + direct['L'][0]\n",
    "            next_y = now_y + direct['L'][1]\n",
    "            if -5<=next_x<=5 and -5<=next_y<=5:\n",
    "                if (next_x,next_y,now_x,now_y) not in res:\n",
    "                    res.add((now_x, now_y, next_x, next_y))\n",
    "                    now_x = next_x\n",
    "                    now_y = next_y\n",
    "                else:\n",
    "                    now_x = next_x\n",
    "                    now_y = next_y\n",
    "    return len(res)\n",
    "\n",
    "dirs = 'LULLLLLLU'\n",
    "solution(dirs)"
   ]
  },
  {
   "cell_type": "code",
   "execution_count": null,
   "metadata": {},
   "outputs": [],
   "source": [
    "# 다른 사람 풀이\n",
    "def solution(dirs):\n",
    "    sets = set()\n",
    "    y, x = 0, 0\n",
    "    udrl = {'U': (1, 0), 'D': (-1, 0), 'R': (0, 1), 'L': (0, -1)}\n",
    "    \n",
    "    for d in dirs:\n",
    "        dy, dx = udrl[d]\n",
    "        ny = y + dy\n",
    "        nx = x + dx\n",
    "        if -5 <= ny <= 5 and -5 <= nx <= 5:\n",
    "            sets.add(((y, x), (ny, nx)))\n",
    "            sets.add(((ny, nx), (y, x)))\n",
    "            y = ny\n",
    "            x = nx\n",
    "    return len(sets) // 2"
   ]
  }
 ],
 "metadata": {
  "kernelspec": {
   "display_name": "base",
   "language": "python",
   "name": "python3"
  },
  "language_info": {
   "codemirror_mode": {
    "name": "ipython",
    "version": 3
   },
   "file_extension": ".py",
   "mimetype": "text/x-python",
   "name": "python",
   "nbconvert_exporter": "python",
   "pygments_lexer": "ipython3",
   "version": "3.9.7"
  }
 },
 "nbformat": 4,
 "nbformat_minor": 2
}
