{
 "cells": [
  {
   "cell_type": "code",
   "execution_count": 26,
   "metadata": {},
   "outputs": [
    {
     "data": {
      "text/plain": [
       "[1, 3]"
      ]
     },
     "execution_count": 26,
     "metadata": {},
     "output_type": "execute_result"
    }
   ],
   "source": [
    "# https://school.programmers.co.kr/learn/courses/30/lessons/12981\n",
    "def solution(n, words):\n",
    "    m = len(words)\n",
    "    tmp = {words[0]}\n",
    "    prev = words[0]\n",
    "    for i in range(1, m):\n",
    "        if prev[-1] == words[i][0] and words[i] not in tmp:\n",
    "            prev = words[i]\n",
    "            tmp.add(words[i])\n",
    "        else:\n",
    "            return [(i%n)+1, (i//n)+1]\n",
    "    else:\n",
    "        return [0,0]\n",
    "\n",
    "\n",
    "\n",
    "n = 2\n",
    "words = [\"hello\", \"one\", \"even\", \"never\", \"now\", \"world\", \"draw\"]\n",
    "solution(n, words)"
   ]
  },
  {
   "cell_type": "code",
   "execution_count": null,
   "metadata": {},
   "outputs": [],
   "source": []
  }
 ],
 "metadata": {
  "kernelspec": {
   "display_name": "base",
   "language": "python",
   "name": "python3"
  },
  "language_info": {
   "codemirror_mode": {
    "name": "ipython",
    "version": 3
   },
   "file_extension": ".py",
   "mimetype": "text/x-python",
   "name": "python",
   "nbconvert_exporter": "python",
   "pygments_lexer": "ipython3",
   "version": "3.9.7"
  }
 },
 "nbformat": 4,
 "nbformat_minor": 2
}
