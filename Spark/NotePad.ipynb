{
 "cells": [
  {
   "cell_type": "code",
   "execution_count": 1,
   "metadata": {},
   "outputs": [
    {
     "name": "stderr",
     "output_type": "stream",
     "text": [
      "24/07/12 13:23:50 WARN Utils: Your hostname, MZC01-HYUCKSANGCHO.local resolves to a loopback address: 127.0.0.1; using 10.90.9.46 instead (on interface en0)\n",
      "24/07/12 13:23:50 WARN Utils: Set SPARK_LOCAL_IP if you need to bind to another address\n",
      "Setting default log level to \"WARN\".\n",
      "To adjust logging level use sc.setLogLevel(newLevel). For SparkR, use setLogLevel(newLevel).\n",
      "24/07/12 13:23:51 WARN NativeCodeLoader: Unable to load native-hadoop library for your platform... using builtin-java classes where applicable\n",
      "24/07/12 13:23:52 WARN Utils: Service 'SparkUI' could not bind on port 4040. Attempting port 4041.\n"
     ]
    }
   ],
   "source": [
    "from pyspark.sql import SparkSession\n",
    "spark = SparkSession.builder.master('local').appName('udf').getOrCreate()"
   ]
  },
  {
   "cell_type": "markdown",
   "metadata": {},
   "source": []
  },
  {
   "cell_type": "code",
   "execution_count": 4,
   "metadata": {},
   "outputs": [],
   "source": [
    "trip_files = \"/Users/mzc01-hyucksangcho/Downloads/trips/*\"\n",
    "zone_file = \"/Users/mzc01-hyucksangcho/Downloads/taxi_zone_lookup.csv\"\n",
    "\n",
    "trips_df = spark.read.parquet(f\"file:///{trip_files}\", inferSchema=True, header = True)\n",
    "zone_df = spark.read.csv(f\"file:///{zone_file}\", inferSchema=True, header = True)"
   ]
  },
  {
   "cell_type": "code",
   "execution_count": 16,
   "metadata": {},
   "outputs": [],
   "source": [
    "trips_df.createOrReplaceTempView(\"trips\")\n",
    "zone_df.createOrReplaceTempView(\"zone\")"
   ]
  },
  {
   "cell_type": "code",
   "execution_count": 18,
   "metadata": {},
   "outputs": [
    {
     "name": "stderr",
     "output_type": "stream",
     "text": [
      "                                                                                \r"
     ]
    },
    {
     "name": "stdout",
     "output_type": "stream",
     "text": [
      "+---------+-----------+------------+-----------+------------+---------------+-------------+-----------+----------+------------+------------+------------+-------------------+--------------------+--------------------+\n",
      "|vendor_id|pickup_date|dropoff_date|pickup_time|dropoff_time|passenger_count|trip_distance|fare_amount|tip_amount|tolls_amount|total_amount|payment_type|    pickup_datetime|         pickup_zone|        dropoff_zone|\n",
      "+---------+-----------+------------+-----------+------------+---------------+-------------+-----------+----------+------------+------------+------------+-------------------+--------------------+--------------------+\n",
      "|        1| 2021-06-01|  2021-06-01|          0|           0|            1.0|          0.9|        5.0|       2.2|         0.0|        11.0|           1|2021-06-01 00:13:26|Penn Station/Madi...|        Clinton West|\n",
      "|        1| 2021-06-01|  2021-06-01|          0|           1|            1.0|         23.0|       61.5|       0.0|        6.55|        70.6|           2|2021-06-01 00:32:23|         JFK Airport|        Bedford Park|\n",
      "|        1| 2021-06-01|  2021-06-01|          0|           0|            0.0|          0.9|        5.0|       0.0|         0.0|        7.55|           2|2021-06-01 00:12:15|   LaGuardia Airport|       East Elmhurst|\n",
      "|        1| 2021-06-01|  2021-06-01|          0|           0|            0.0|         11.2|       31.5|       8.5|         0.0|       42.55|           1|2021-06-01 00:35:00|   LaGuardia Airport|    Prospect Heights|\n",
      "|        2| 2021-06-01|  2021-06-01|          0|           0|            1.0|         9.49|       28.5|      7.77|        6.55|       47.87|           1|2021-06-01 00:31:01|   LaGuardia Airport| Lincoln Square East|\n",
      "|        1| 2021-06-01|  2021-06-01|          0|           0|            1.0|          9.3|       27.5|       7.8|        6.55|        46.9|           1|2021-06-01 00:20:05|   LaGuardia Airport|            Kips Bay|\n",
      "|        2| 2021-06-01|  2021-06-01|         18|          18|            1.0|         6.72|       25.0|      6.01|         0.0|       36.06|           1|2021-06-01 18:08:35|   LaGuardia Airport|Sutton Place/Turt...|\n",
      "|        2| 2021-06-01|  2021-06-01|          0|           0|            4.0|         9.48|       26.0|       3.0|         0.0|        30.3|           1|2021-06-01 00:29:34|Flushing Meadows-...|Springfield Garde...|\n",
      "|        2| 2021-06-01|  2021-06-01|          0|           0|            1.0|         5.25|       18.5|      4.46|         0.0|       26.76|           1|2021-06-01 00:00:14|Upper West Side S...|       Alphabet City|\n",
      "|        2| 2021-06-01|  2021-06-01|          0|           0|            1.0|         1.74|        8.0|       0.0|         0.0|        11.8|           2|2021-06-01 00:28:48|            Kips Bay|        East Village|\n",
      "|        1| 2021-06-01|  2021-06-01|          0|           0|            2.0|         21.6|       52.0|       5.0|        6.55|        65.6|           1|2021-06-01 00:12:30|         JFK Airport|              Inwood|\n",
      "|        1| 2021-06-01|  2021-06-01|          0|           0|            3.0|          4.3|       14.0|      3.55|         0.0|       21.35|           1|2021-06-01 00:23:35|        Clinton West|      Manhattanville|\n",
      "|        2| 2021-06-01|  2021-06-01|          0|           0|            2.0|        13.16|       43.0|      9.11|         0.0|       54.66|           1|2021-06-01 00:02:51|         JFK Airport|Flatbush/Ditmas Park|\n",
      "|        2| 2021-06-01|  2021-06-01|          0|           1|            2.0|         1.17|        5.5|       0.0|         0.0|         6.8|           2|2021-06-01 00:56:04|Prospect-Lefferts...|             Erasmus|\n",
      "|        1| 2021-06-01|  2021-06-01|          0|           1|            1.0|         19.8|       53.5|      11.2|         0.0|       67.25|           1|2021-06-01 00:49:23|         JFK Airport|    Brooklyn Heights|\n",
      "|        1| 2021-06-01|  2021-06-01|          0|           0|            1.0|          0.9|        5.0|       0.0|         0.0|         8.8|           2|2021-06-01 00:01:08|    Hamilton Heights| Morningside Heights|\n",
      "|        1| 2021-06-01|  2021-06-01|          0|           0|            1.0|          4.4|       14.5|      3.65|         0.0|       21.95|           1|2021-06-01 00:31:25|Upper East Side N...|        West Village|\n",
      "|        2| 2021-06-01|  2021-06-01|          0|           0|            1.0|         4.51|       16.5|       2.0|         0.0|        22.3|           1|2021-06-01 00:22:15|        Clinton East|       Alphabet City|\n",
      "|        2| 2021-06-01|  2021-06-01|          0|           1|            1.0|         7.79|       24.5|       0.0|         0.0|        28.3|           2|2021-06-01 00:50:10|            Kips Bay|           Ridgewood|\n",
      "|        2| 2021-06-01|  2021-06-01|          0|           1|            2.0|          7.8|       32.5|       0.0|         0.0|        33.8|           2|2021-06-01 00:39:05|         JFK Airport|      Outside of NYC|\n",
      "+---------+-----------+------------+-----------+------------+---------------+-------------+-----------+----------+------------+------------+------------+-------------------+--------------------+--------------------+\n",
      "only showing top 20 rows\n",
      "\n"
     ]
    }
   ],
   "source": [
    "query = \"\"\"\n",
    "SELECT\n",
    "    t.VendorID as vendor_id,\n",
    "    TO_DATE(t.tpep_pickup_datetime) as pickup_date,\n",
    "    TO_DATE(t.tpep_dropoff_datetime) as dropoff_date,\n",
    "    HOUR(t.tpep_pickup_datetime) as pickup_time,\n",
    "    HOUR(t.tpep_dropoff_datetime) as dropoff_time,\n",
    "    t.passenger_count,\n",
    "    t.trip_distance,\n",
    "    t.fare_amount,\n",
    "    t.tip_amount,\n",
    "    t.tolls_amount,\n",
    "    t.total_amount,\n",
    "    t.payment_type,\n",
    "    t.tpep_pickup_datetime as pickup_datetime,\n",
    "    pz.Zone as pickup_zone,\n",
    "    dz.Zone as dropoff_zone\n",
    "from\n",
    "    trips t\n",
    "    LEFT JOIN\n",
    "        zone pz\n",
    "    ON\n",
    "        t.PULocationID = pz.LocationID\n",
    "    LEFT JOIN\n",
    "        zone dz\n",
    "    ON\n",
    "        t.DOLocationID = dz.LocationID\n",
    "\"\"\"\n",
    "comb_df = spark.sql(query)\n",
    "comb_df.show()\n"
   ]
  },
  {
   "cell_type": "code",
   "execution_count": 19,
   "metadata": {},
   "outputs": [
    {
     "name": "stdout",
     "output_type": "stream",
     "text": [
      "+---------+-----------+------------+-----------+------------+---------------+-------------+-----------+----------+------------+------------+------------+-------------------+--------------------+--------------------+\n",
      "|vendor_id|pickup_date|dropoff_date|pickup_time|dropoff_time|passenger_count|trip_distance|fare_amount|tip_amount|tolls_amount|total_amount|payment_type|    pickup_datetime|         pickup_zone|        dropoff_zone|\n",
      "+---------+-----------+------------+-----------+------------+---------------+-------------+-----------+----------+------------+------------+------------+-------------------+--------------------+--------------------+\n",
      "|        1| 2021-06-01|  2021-06-01|          0|           0|            1.0|          0.9|        5.0|       2.2|         0.0|        11.0|           1|2021-06-01 00:13:26|Penn Station/Madi...|        Clinton West|\n",
      "|        1| 2021-06-01|  2021-06-01|          0|           1|            1.0|         23.0|       61.5|       0.0|        6.55|        70.6|           2|2021-06-01 00:32:23|         JFK Airport|        Bedford Park|\n",
      "|        1| 2021-06-01|  2021-06-01|          0|           0|            0.0|          0.9|        5.0|       0.0|         0.0|        7.55|           2|2021-06-01 00:12:15|   LaGuardia Airport|       East Elmhurst|\n",
      "|        1| 2021-06-01|  2021-06-01|          0|           0|            0.0|         11.2|       31.5|       8.5|         0.0|       42.55|           1|2021-06-01 00:35:00|   LaGuardia Airport|    Prospect Heights|\n",
      "|        2| 2021-06-01|  2021-06-01|          0|           0|            1.0|         9.49|       28.5|      7.77|        6.55|       47.87|           1|2021-06-01 00:31:01|   LaGuardia Airport| Lincoln Square East|\n",
      "|        1| 2021-06-01|  2021-06-01|          0|           0|            1.0|          9.3|       27.5|       7.8|        6.55|        46.9|           1|2021-06-01 00:20:05|   LaGuardia Airport|            Kips Bay|\n",
      "|        2| 2021-06-01|  2021-06-01|         18|          18|            1.0|         6.72|       25.0|      6.01|         0.0|       36.06|           1|2021-06-01 18:08:35|   LaGuardia Airport|Sutton Place/Turt...|\n",
      "|        2| 2021-06-01|  2021-06-01|          0|           0|            4.0|         9.48|       26.0|       3.0|         0.0|        30.3|           1|2021-06-01 00:29:34|Flushing Meadows-...|Springfield Garde...|\n",
      "|        2| 2021-06-01|  2021-06-01|          0|           0|            1.0|         5.25|       18.5|      4.46|         0.0|       26.76|           1|2021-06-01 00:00:14|Upper West Side S...|       Alphabet City|\n",
      "|        2| 2021-06-01|  2021-06-01|          0|           0|            1.0|         1.74|        8.0|       0.0|         0.0|        11.8|           2|2021-06-01 00:28:48|            Kips Bay|        East Village|\n",
      "|        1| 2021-06-01|  2021-06-01|          0|           0|            2.0|         21.6|       52.0|       5.0|        6.55|        65.6|           1|2021-06-01 00:12:30|         JFK Airport|              Inwood|\n",
      "|        1| 2021-06-01|  2021-06-01|          0|           0|            3.0|          4.3|       14.0|      3.55|         0.0|       21.35|           1|2021-06-01 00:23:35|        Clinton West|      Manhattanville|\n",
      "|        2| 2021-06-01|  2021-06-01|          0|           0|            2.0|        13.16|       43.0|      9.11|         0.0|       54.66|           1|2021-06-01 00:02:51|         JFK Airport|Flatbush/Ditmas Park|\n",
      "|        2| 2021-06-01|  2021-06-01|          0|           1|            2.0|         1.17|        5.5|       0.0|         0.0|         6.8|           2|2021-06-01 00:56:04|Prospect-Lefferts...|             Erasmus|\n",
      "|        1| 2021-06-01|  2021-06-01|          0|           1|            1.0|         19.8|       53.5|      11.2|         0.0|       67.25|           1|2021-06-01 00:49:23|         JFK Airport|    Brooklyn Heights|\n",
      "|        1| 2021-06-01|  2021-06-01|          0|           0|            1.0|          0.9|        5.0|       0.0|         0.0|         8.8|           2|2021-06-01 00:01:08|    Hamilton Heights| Morningside Heights|\n",
      "|        1| 2021-06-01|  2021-06-01|          0|           0|            1.0|          4.4|       14.5|      3.65|         0.0|       21.95|           1|2021-06-01 00:31:25|Upper East Side N...|        West Village|\n",
      "|        2| 2021-06-01|  2021-06-01|          0|           0|            1.0|         4.51|       16.5|       2.0|         0.0|        22.3|           1|2021-06-01 00:22:15|        Clinton East|       Alphabet City|\n",
      "|        2| 2021-06-01|  2021-06-01|          0|           1|            1.0|         7.79|       24.5|       0.0|         0.0|        28.3|           2|2021-06-01 00:50:10|            Kips Bay|           Ridgewood|\n",
      "|        2| 2021-06-01|  2021-06-01|          0|           1|            2.0|          7.8|       32.5|       0.0|         0.0|        33.8|           2|2021-06-01 00:39:05|         JFK Airport|      Outside of NYC|\n",
      "+---------+-----------+------------+-----------+------------+---------------+-------------+-----------+----------+------------+------------+------------+-------------------+--------------------+--------------------+\n",
      "only showing top 20 rows\n",
      "\n"
     ]
    }
   ],
   "source": [
    "comb_df.show()"
   ]
  },
  {
   "cell_type": "code",
   "execution_count": 22,
   "metadata": {},
   "outputs": [
    {
     "name": "stdout",
     "output_type": "stream",
     "text": [
      "+-------+\n",
      "|summary|\n",
      "+-------+\n",
      "|  count|\n",
      "|   mean|\n",
      "| stddev|\n",
      "|    min|\n",
      "|    max|\n",
      "+-------+\n",
      "\n"
     ]
    }
   ],
   "source": [
    "comb_df.select('pickup_date').describe().show()"
   ]
  },
  {
   "cell_type": "code",
   "execution_count": null,
   "metadata": {},
   "outputs": [],
   "source": []
  }
 ],
 "metadata": {
  "kernelspec": {
   "display_name": "base",
   "language": "python",
   "name": "python3"
  },
  "language_info": {
   "codemirror_mode": {
    "name": "ipython",
    "version": 3
   },
   "file_extension": ".py",
   "mimetype": "text/x-python",
   "name": "python",
   "nbconvert_exporter": "python",
   "pygments_lexer": "ipython3",
   "version": "3.9.7"
  }
 },
 "nbformat": 4,
 "nbformat_minor": 2
}
