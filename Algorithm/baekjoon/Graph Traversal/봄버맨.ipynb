{
 "cells": [
  {
   "cell_type": "code",
   "execution_count": 21,
   "metadata": {},
   "outputs": [
    {
     "name": "stdout",
     "output_type": "stream",
     "text": [
      "OOO.OOO\n",
      "OO...OO\n",
      "OOO...O\n",
      "..OO.OO\n",
      "...OOOO\n",
      "...OOOO\n"
     ]
    }
   ],
   "source": [
    "# https://www.acmicpc.net/problem/16918\n",
    "from collections import deque\n",
    "def bfs(q, board):\n",
    "    while q:\n",
    "        x, y = q.popleft()\n",
    "        board[x][y] = '.'\n",
    "        for i in range(4):\n",
    "            nx,ny = x+dx[i],y+dy[i]\n",
    "            if 0<=nx<r and 0<=ny<c and board[nx][ny] =='O':\n",
    "                board[nx][ny] = '.'\n",
    "\n",
    "def simulate(t):\n",
    "    global q, board\n",
    "    if t == 1:\n",
    "        for i in range(r):\n",
    "            for j in range(c):\n",
    "                if board[i][j] == 'O':\n",
    "                    q.append((i,j))\n",
    "    elif t % 2 == 1:\n",
    "        bfs(q, board)\n",
    "        for i in range(r):\n",
    "            for j in range(c):\n",
    "                if board[i][j] == 'O':\n",
    "                    q.append((i,j))\n",
    "    else:\n",
    "        board = [['O']*c for _ in range(r)]\n",
    "\n",
    "\n",
    "dx = [-1,0,1,0]\n",
    "dy = [0,-1,0,1]\n",
    "r, c, n = map(int, input().split())\n",
    "board = [list(input()) for _ in range(r)]\n",
    "q = deque()\n",
    "\n",
    "for i in range(1, n+1):\n",
    "    simulate(i)\n",
    "\n",
    "for row in board:\n",
    "    print(''.join(row))"
   ]
  },
  {
   "cell_type": "code",
   "execution_count": null,
   "metadata": {},
   "outputs": [],
   "source": []
  }
 ],
 "metadata": {
  "kernelspec": {
   "display_name": "airflow",
   "language": "python",
   "name": "python3"
  },
  "language_info": {
   "codemirror_mode": {
    "name": "ipython",
    "version": 3
   },
   "file_extension": ".py",
   "mimetype": "text/x-python",
   "name": "python",
   "nbconvert_exporter": "python",
   "pygments_lexer": "ipython3",
   "version": "3.9.7"
  }
 },
 "nbformat": 4,
 "nbformat_minor": 2
}
