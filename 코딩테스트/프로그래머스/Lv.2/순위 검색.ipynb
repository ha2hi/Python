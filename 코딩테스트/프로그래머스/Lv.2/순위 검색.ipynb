{
 "cells": [
  {
   "cell_type": "code",
   "execution_count": 79,
   "metadata": {},
   "outputs": [
    {
     "data": {
      "text/plain": [
       "[1, 1, 1, 1, 2, 4]"
      ]
     },
     "execution_count": 79,
     "metadata": {},
     "output_type": "execute_result"
    }
   ],
   "source": [
    "# https://school.programmers.co.kr/learn/courses/30/lessons/72412\n",
    "# 내 풀이 <- 효율성 테스트 실패\n",
    "def solution(info, query):\n",
    "    answer = []\n",
    "    for q in query:\n",
    "        val = 0\n",
    "        tmp = q.split(' ')\n",
    "        lang, sep, career, food, score = tmp[0], tmp[2], tmp[4], tmp[6], tmp[7]\n",
    "        for x in info:\n",
    "            s = x.split()\n",
    "            flag = True\n",
    "            if s[0] != lang and lang != '-':\n",
    "                flag = False\n",
    "            elif s[1] != sep and sep != '-':\n",
    "                flag = False\n",
    "            elif s[2] != career and career != '-':\n",
    "                flag = False\n",
    "            elif s[3] != food and food != '-':\n",
    "                flag = False\n",
    "            elif int(s[4]) < int(score):\n",
    "                flag = False\n",
    "            if flag:\n",
    "                val += 1\n",
    "        answer.append(val)\n",
    "    return answer\n",
    "\n",
    "info = [\"java backend junior pizza 150\",\"python frontend senior chicken 210\",\"python frontend senior chicken 150\",\"cpp backend senior pizza 260\",\"java backend junior chicken 80\",\"python backend senior chicken 50\"]\n",
    "query = [\"java and backend and junior and pizza 100\",\"python and frontend and senior and chicken 200\",\"cpp and - and senior and pizza 250\",\"- and backend and senior and - 150\",\"- and - and - and chicken 100\",\"- and - and - and - 150\"]\n",
    "solution(info, query)"
   ]
  },
  {
   "cell_type": "code",
   "execution_count": null,
   "metadata": {},
   "outputs": [],
   "source": []
  }
 ],
 "metadata": {
  "kernelspec": {
   "display_name": "base",
   "language": "python",
   "name": "python3"
  },
  "language_info": {
   "codemirror_mode": {
    "name": "ipython",
    "version": 3
   },
   "file_extension": ".py",
   "mimetype": "text/x-python",
   "name": "python",
   "nbconvert_exporter": "python",
   "pygments_lexer": "ipython3",
   "version": "3.9.7"
  }
 },
 "nbformat": 4,
 "nbformat_minor": 2
}
