{
 "cells": [
  {
   "cell_type": "code",
   "execution_count": 3,
   "metadata": {},
   "outputs": [
    {
     "data": {
      "text/plain": [
       "41"
      ]
     },
     "execution_count": 3,
     "metadata": {},
     "output_type": "execute_result"
    }
   ],
   "source": [
    "def solution(n, m):\n",
    "    res = float('-inf')\n",
    "    a = []\n",
    "    for _ in range(n):\n",
    "        x, y = map(int, input().split())\n",
    "        a.append((x,y))\n",
    "\n",
    "    def dfs(l, sum, time):\n",
    "        nonlocal res\n",
    "        if l == n:\n",
    "            if time <= m:\n",
    "                res = max(res, sum)\n",
    "        else:\n",
    "            dfs(l+1, sum+a[l][0], time+a[l][1])\n",
    "            dfs(l+1, sum, time)\n",
    "\n",
    "    dfs(0,0,0)\n",
    "\n",
    "    return res\n",
    "\n",
    "\n",
    "n, m = map(int, input().split())\n",
    "solution(n, m)"
   ]
  },
  {
   "cell_type": "code",
   "execution_count": null,
   "metadata": {},
   "outputs": [],
   "source": []
  }
 ],
 "metadata": {
  "kernelspec": {
   "display_name": "base",
   "language": "python",
   "name": "python3"
  },
  "language_info": {
   "codemirror_mode": {
    "name": "ipython",
    "version": 3
   },
   "file_extension": ".py",
   "mimetype": "text/x-python",
   "name": "python",
   "nbconvert_exporter": "python",
   "pygments_lexer": "ipython3",
   "version": "3.9.7"
  }
 },
 "nbformat": 4,
 "nbformat_minor": 2
}
