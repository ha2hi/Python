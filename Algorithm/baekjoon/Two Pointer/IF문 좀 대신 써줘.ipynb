{
 "cells": [
  {
   "cell_type": "code",
   "execution_count": null,
   "metadata": {},
   "outputs": [],
   "source": [
    "# https://www.acmicpc.net/problem/19637\n",
    "n, m = map(int, input().split())\n",
    "check = []\n",
    "for _ in range(n):\n",
    "    x, y = input().split()\n",
    "    check.append((x, int(y)))\n",
    "\n",
    "check.sort(key=lambda x : x[1])\n",
    "\n",
    "for _ in range(m):\n",
    "    x = int(input())\n",
    "    lt, rt = 0, n-1\n",
    "    res = 0\n",
    "    while lt <= rt:\n",
    "        mid = (lt+rt) // 2\n",
    "        if check[mid][1] >= x:\n",
    "            res = check[mid][0]\n",
    "            rt = mid - 1\n",
    "        else:\n",
    "            lt = mid + 1\n",
    "    print(res)\n"
   ]
  }
 ],
 "metadata": {
  "language_info": {
   "name": "python"
  }
 },
 "nbformat": 4,
 "nbformat_minor": 2
}
