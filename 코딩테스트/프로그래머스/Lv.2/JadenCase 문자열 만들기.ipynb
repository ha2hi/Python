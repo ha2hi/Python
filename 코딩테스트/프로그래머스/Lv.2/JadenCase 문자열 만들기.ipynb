{
 "cells": [
  {
   "cell_type": "code",
   "execution_count": 13,
   "metadata": {},
   "outputs": [
    {
     "data": {
      "text/plain": [
       "'3people Unfollowed Me'"
      ]
     },
     "execution_count": 13,
     "metadata": {},
     "output_type": "execute_result"
    }
   ],
   "source": [
    "# https://school.programmers.co.kr/learn/courses/30/lessons/12951\n",
    "# 내코드\n",
    "def solution(s):\n",
    "    answer = ''\n",
    "    s = list(s)\n",
    "    stack = []\n",
    "    while s:\n",
    "        tmp = s.pop(0)\n",
    "        if tmp == ' ':\n",
    "            answer += ''.join(stack)\n",
    "            stack = []\n",
    "            answer += ' '\n",
    "            continue\n",
    "        else:\n",
    "            if not stack:\n",
    "                stack.append(tmp.upper())\n",
    "            else:\n",
    "                stack.append(tmp.lower())\n",
    "    if stack:\n",
    "        answer += ''.join(stack)\n",
    "    return answer\n",
    "\n",
    "\n",
    "s = \"3people unFollowed me\"\n",
    "solution(s)"
   ]
  },
  {
   "cell_type": "code",
   "execution_count": 14,
   "metadata": {},
   "outputs": [
    {
     "data": {
      "text/plain": [
       "'3people Unfollowed Me'"
      ]
     },
     "execution_count": 14,
     "metadata": {},
     "output_type": "execute_result"
    }
   ],
   "source": [
    "# 다른 사람 코드\n",
    "def solution(s):\n",
    "    answer = ''\n",
    "    flag = True\n",
    "    for x in s:\n",
    "        if x == ' ':\n",
    "            answer += ' '\n",
    "            flag = True\n",
    "        elif flag:\n",
    "            answer += x.upper()\n",
    "            flag = False\n",
    "        else:\n",
    "            answer += x.lower()\n",
    "    return answer\n",
    "\n",
    "\n",
    "s = \"3people unFollowed me\"\n",
    "solution(s)"
   ]
  },
  {
   "cell_type": "code",
   "execution_count": null,
   "metadata": {},
   "outputs": [],
   "source": []
  }
 ],
 "metadata": {
  "kernelspec": {
   "display_name": "base",
   "language": "python",
   "name": "python3"
  },
  "language_info": {
   "codemirror_mode": {
    "name": "ipython",
    "version": 3
   },
   "file_extension": ".py",
   "mimetype": "text/x-python",
   "name": "python",
   "nbconvert_exporter": "python",
   "pygments_lexer": "ipython3",
   "version": "3.9.7"
  }
 },
 "nbformat": 4,
 "nbformat_minor": 2
}
