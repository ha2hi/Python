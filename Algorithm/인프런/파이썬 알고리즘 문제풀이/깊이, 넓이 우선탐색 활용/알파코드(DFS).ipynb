{
 "cells": [
  {
   "cell_type": "code",
   "execution_count": 28,
   "metadata": {},
   "outputs": [
    {
     "name": "stdout",
     "output_type": "stream",
     "text": [
      "BEAAD\n",
      "BEAN\n",
      "BEKD\n",
      "YAAD\n",
      "YAN\n",
      "YKD\n"
     ]
    },
    {
     "data": {
      "text/plain": [
       "6"
      ]
     },
     "execution_count": 28,
     "metadata": {},
     "output_type": "execute_result"
    }
   ],
   "source": [
    "def solution(code):\n",
    "    cnt = 0\n",
    "    n = len(code)\n",
    "    res = [0] * n\n",
    "    def dfs(l, p):\n",
    "        nonlocal cnt\n",
    "        if l == n:\n",
    "            cnt += 1\n",
    "            for j in range(p):\n",
    "                print(res[j], end = \"\")\n",
    "            print()\n",
    "        else:\n",
    "            for i in range(1,27):\n",
    "                if code[l] == i:\n",
    "                    res[p] = chr(64+i)\n",
    "                    dfs(l+1, p+1)\n",
    "                elif i >= 10 and code[l] == i//10 and code[l+1] == i%10:\n",
    "                    res[p] = chr(64+i)\n",
    "                    dfs(l+2,p+1)\n",
    "    dfs(0,0)\n",
    "    \n",
    "    return cnt\n",
    "\n",
    "\n",
    "code = list(map(int, input()))\n",
    "solution(code)"
   ]
  },
  {
   "cell_type": "code",
   "execution_count": null,
   "metadata": {},
   "outputs": [],
   "source": []
  }
 ],
 "metadata": {
  "kernelspec": {
   "display_name": "base",
   "language": "python",
   "name": "python3"
  },
  "language_info": {
   "codemirror_mode": {
    "name": "ipython",
    "version": 3
   },
   "file_extension": ".py",
   "mimetype": "text/x-python",
   "name": "python",
   "nbconvert_exporter": "python",
   "pygments_lexer": "ipython3",
   "version": "3.9.7"
  }
 },
 "nbformat": 4,
 "nbformat_minor": 2
}
