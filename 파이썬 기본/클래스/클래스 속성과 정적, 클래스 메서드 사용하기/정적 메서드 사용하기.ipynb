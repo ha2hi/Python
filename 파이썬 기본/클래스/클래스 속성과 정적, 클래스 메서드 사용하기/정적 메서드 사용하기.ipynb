{
 "cells": [
  {
   "cell_type": "code",
   "execution_count": 1,
   "metadata": {},
   "outputs": [
    {
     "name": "stdout",
     "output_type": "stream",
     "text": [
      "30\n",
      "200\n"
     ]
    }
   ],
   "source": [
    "# 인스턴스를 통하지 않고 클래스에서 바로 호출할 수 있는 정적 메서드와 클래스 메서드를 알아보겠습니다.\n",
    "# 정적 메서드는 메서드 위에 @staticmethod를 붙입니다. 이때 정적메서드는 매개변수에 self를 지정하지 않습니다.\n",
    "# 클래스.메서드()\n",
    "# 정적 메서드는 self를 받지 않으므로 인스턴스 속성에는 접근할 수 없습니다.\n",
    "# 정적 메서드는 보통 인스턴스 속성, 인스턴스 메서드가 필요 없을 때 사용합니다.\n",
    "class Calc:\n",
    "    @staticmethod\n",
    "    def add(a, b):\n",
    "        print(a+b)\n",
    "    \n",
    "    @staticmethod\n",
    "    def mul(a, b):\n",
    "        print(a*b)\n",
    "\n",
    "Calc.add(10, 20)\n",
    "Calc.mul(10, 20)"
   ]
  },
  {
   "cell_type": "code",
   "execution_count": null,
   "metadata": {},
   "outputs": [],
   "source": []
  }
 ],
 "metadata": {
  "kernelspec": {
   "display_name": "base",
   "language": "python",
   "name": "python3"
  },
  "language_info": {
   "codemirror_mode": {
    "name": "ipython",
    "version": 3
   },
   "file_extension": ".py",
   "mimetype": "text/x-python",
   "name": "python",
   "nbconvert_exporter": "python",
   "pygments_lexer": "ipython3",
   "version": "3.9.7"
  },
  "orig_nbformat": 4
 },
 "nbformat": 4,
 "nbformat_minor": 2
}
