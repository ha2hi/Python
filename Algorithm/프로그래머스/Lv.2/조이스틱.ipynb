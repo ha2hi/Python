{
 "cells": [
  {
   "cell_type": "code",
   "execution_count": 2,
   "metadata": {},
   "outputs": [
    {
     "data": {
      "text/plain": [
       "23"
      ]
     },
     "execution_count": 2,
     "metadata": {},
     "output_type": "execute_result"
    }
   ],
   "source": [
    "def solution(name):\n",
    "    alpha_move = 0\n",
    "    cursor_move = len(name) - 1\n",
    "\n",
    "    for i, spell in enumerate(name):\n",
    "        alpha_move += min(ord(spell) - ord('A'), ord('Z')-ord(spell)+1)\n",
    "\n",
    "        next = i + 1\n",
    "        while next < len(name) and name[next] == 'A':\n",
    "            next += 1\n",
    "        cursor_move = min([cursor_move, 2*i+len(name)-next, i + 2 * (len(name) -next)])\n",
    "    alpha_move += cursor_move\n",
    "    return alpha_move\n",
    "\n",
    "\n",
    "name = \"JAN\"\n",
    "solution(name)"
   ]
  },
  {
   "cell_type": "code",
   "execution_count": null,
   "metadata": {},
   "outputs": [],
   "source": []
  }
 ],
 "metadata": {
  "kernelspec": {
   "display_name": "base",
   "language": "python",
   "name": "python3"
  },
  "language_info": {
   "codemirror_mode": {
    "name": "ipython",
    "version": 3
   },
   "file_extension": ".py",
   "mimetype": "text/x-python",
   "name": "python",
   "nbconvert_exporter": "python",
   "pygments_lexer": "ipython3",
   "version": "3.9.7"
  }
 },
 "nbformat": 4,
 "nbformat_minor": 2
}
