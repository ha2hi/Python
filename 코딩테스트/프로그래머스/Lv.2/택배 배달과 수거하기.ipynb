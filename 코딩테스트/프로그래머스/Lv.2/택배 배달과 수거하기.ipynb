{
 "cells": [
  {
   "cell_type": "code",
   "execution_count": 17,
   "metadata": {},
   "outputs": [
    {
     "data": {
      "text/plain": [
       "16"
      ]
     },
     "execution_count": 17,
     "metadata": {},
     "output_type": "execute_result"
    }
   ],
   "source": [
    "# https://school.programmers.co.kr/learn/courses/30/lessons/150369\n",
    "def solution(cap, n, deliveries, pickups):\n",
    "    res = 0\n",
    "    cap_deli = 0\n",
    "    cap_pick = 0\n",
    "    for i in range(n-1, -1, -1):\n",
    "        cap_deli += deliveries[i]\n",
    "        cap_pick += pickups[i]\n",
    "        while cap_deli > 0 or cap_pick > 0:\n",
    "            cap_deli -= cap\n",
    "            cap_pick -= cap\n",
    "            res += (i+1) * 2\n",
    "    return res\n",
    "\n",
    "cap = 4\n",
    "n = 5\n",
    "deliveries = [1, 0, 3, 1, 2]\n",
    "pickups = [0, 3, 0, 4, 0]\n",
    "solution(cap, n, deliveries, pickups)"
   ]
  },
  {
   "cell_type": "code",
   "execution_count": null,
   "metadata": {},
   "outputs": [],
   "source": []
  }
 ],
 "metadata": {
  "kernelspec": {
   "display_name": "base",
   "language": "python",
   "name": "python3"
  },
  "language_info": {
   "codemirror_mode": {
    "name": "ipython",
    "version": 3
   },
   "file_extension": ".py",
   "mimetype": "text/x-python",
   "name": "python",
   "nbconvert_exporter": "python",
   "pygments_lexer": "ipython3",
   "version": "3.9.7"
  }
 },
 "nbformat": 4,
 "nbformat_minor": 2
}
