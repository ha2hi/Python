{
 "cells": [
  {
   "cell_type": "code",
   "execution_count": 1,
   "metadata": {},
   "outputs": [
    {
     "name": "stdout",
     "output_type": "stream",
     "text": [
      "3\n"
     ]
    }
   ],
   "source": [
    "def solution(nums):\n",
    "    if len(nums) == 0:\n",
    "        return\n",
    "\n",
    "    if len(nums) == 1:\n",
    "        return nums[0]\n",
    "    \n",
    "    a = solution(nums[len(nums)//2:])\n",
    "    b = solution(nums[:len(nums)//2])\n",
    "\n",
    "    return [b, a][nums.count(a) > len(nums)//2]\n",
    "\n",
    "\n",
    "nums=[3,2,3]\n",
    "print(solution(nums))"
   ]
  },
  {
   "cell_type": "code",
   "execution_count": null,
   "metadata": {},
   "outputs": [],
   "source": []
  }
 ],
 "metadata": {
  "kernelspec": {
   "display_name": "base",
   "language": "python",
   "name": "python3"
  },
  "language_info": {
   "codemirror_mode": {
    "name": "ipython",
    "version": 3
   },
   "file_extension": ".py",
   "mimetype": "text/x-python",
   "name": "python",
   "nbconvert_exporter": "python",
   "pygments_lexer": "ipython3",
   "version": "3.9.7"
  },
  "orig_nbformat": 4
 },
 "nbformat": 4,
 "nbformat_minor": 2
}
