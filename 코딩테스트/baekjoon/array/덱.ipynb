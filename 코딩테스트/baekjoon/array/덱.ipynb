{
 "cells": [
  {
   "cell_type": "code",
   "execution_count": 1,
   "metadata": {},
   "outputs": [
    {
     "name": "stdout",
     "output_type": "stream",
     "text": [
      "-1\n",
      "-1\n",
      "-1\n",
      "-1\n",
      "1\n",
      "1\n",
      "2\n",
      "2\n",
      "333\n",
      "10\n",
      "10\n",
      "333\n",
      "20\n",
      "1234\n",
      "1234\n",
      "20\n"
     ]
    }
   ],
   "source": [
    "from collections import deque\n",
    "import sys\n",
    "def push_front(x):\n",
    "    q.appendleft(x)\n",
    "\n",
    "def push_back(x):\n",
    "    q.append(x)\n",
    "\n",
    "def pop_front():\n",
    "    if not q:\n",
    "        return -1\n",
    "    else:\n",
    "        return q.popleft()\n",
    "\n",
    "def pop_back():\n",
    "    if not q:\n",
    "        return -1\n",
    "    else:\n",
    "        return q.pop()\n",
    "\n",
    "def size():\n",
    "    return len(q)\n",
    "\n",
    "def empty():\n",
    "    if not q:\n",
    "        return 1\n",
    "    else:\n",
    "        return 0\n",
    "\n",
    "def front():\n",
    "    if not q:\n",
    "        return -1\n",
    "    else:\n",
    "        return q[0]\n",
    "\n",
    "def back():\n",
    "    if not q:\n",
    "        return -1\n",
    "    else:\n",
    "        return q[-1]\n",
    "\n",
    "n = int(sys.stdin.readline())\n",
    "q = deque()\n",
    "for _ in range(n):\n",
    "    x = sys.stdin.readline().split()\n",
    "    if x[0] == 'push_front':\n",
    "        push_front(x[1])\n",
    "    elif x[0] == 'push_back':\n",
    "        push_back(x[1])\n",
    "    elif x[0] == 'pop_front':\n",
    "        print(pop_front())\n",
    "    elif x[0] == 'pop_back':\n",
    "        print(pop_back())\n",
    "    elif x[0] == 'size':\n",
    "        print(size())\n",
    "    elif x[0] == 'empty':\n",
    "        print(empty())\n",
    "    elif x[0] == 'front':\n",
    "        print(front())\n",
    "    elif x[0] == 'back':\n",
    "        print(back())\n"
   ]
  },
  {
   "cell_type": "code",
   "execution_count": null,
   "metadata": {},
   "outputs": [],
   "source": []
  }
 ],
 "metadata": {
  "kernelspec": {
   "display_name": "base",
   "language": "python",
   "name": "python3"
  },
  "language_info": {
   "codemirror_mode": {
    "name": "ipython",
    "version": 3
   },
   "file_extension": ".py",
   "mimetype": "text/x-python",
   "name": "python",
   "nbconvert_exporter": "python",
   "pygments_lexer": "ipython3",
   "version": "3.9.7"
  }
 },
 "nbformat": 4,
 "nbformat_minor": 2
}
