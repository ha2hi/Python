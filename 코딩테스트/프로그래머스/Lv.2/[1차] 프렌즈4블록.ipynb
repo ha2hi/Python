{
 "cells": [
  {
   "cell_type": "code",
   "execution_count": 4,
   "metadata": {},
   "outputs": [
    {
     "data": {
      "text/plain": [
       "15"
      ]
     },
     "execution_count": 4,
     "metadata": {},
     "output_type": "execute_result"
    }
   ],
   "source": [
    "def solution(m, n, board):\n",
    "    answer = 0\n",
    "    board = [list(x) for x in board]\n",
    "    tmp = set()\n",
    "\n",
    "    while True:\n",
    "        for i in range(m-1):\n",
    "            for j in range(n-1):\n",
    "                val = board[i][j]\n",
    "                if val == []:\n",
    "                    continue\n",
    "                else:\n",
    "                    if board[i][j+1] == board[i+1][j] == board[i+1][j+1] == val:\n",
    "                        tmp.add((i,j))\n",
    "                        tmp.add((i+1,j))\n",
    "                        tmp.add((i,j+1))\n",
    "                        tmp.add((i+1,j+1))\n",
    "        \n",
    "        if tmp:\n",
    "            answer += len(tmp)\n",
    "            for x, y in tmp:\n",
    "                board[x][y] = []\n",
    "            tmp = set()\n",
    "        else:\n",
    "            break\n",
    "        \n",
    "        while True:\n",
    "            flag = True\n",
    "            for i in range(m-1):\n",
    "                for j in range(n):\n",
    "                    if board[i][j] and board[i+1][j] == []:\n",
    "                        board[i][j], board[i+1][j] = board[i+1][j], board[i][j]\n",
    "                        flag = False\n",
    "            if flag:\n",
    "                break\n",
    "    return answer\n",
    "\n",
    "\n",
    "m = 6\n",
    "n = 6\n",
    "board = [\"TTTANT\", \"RRFACC\", \"RRRFCC\", \"TRRRAA\", \"TTMMMF\", \"TMMTTJ\"]\n",
    "solution(m, n, board)"
   ]
  },
  {
   "cell_type": "code",
   "execution_count": null,
   "metadata": {},
   "outputs": [],
   "source": []
  }
 ],
 "metadata": {
  "kernelspec": {
   "display_name": "base",
   "language": "python",
   "name": "python3"
  },
  "language_info": {
   "codemirror_mode": {
    "name": "ipython",
    "version": 3
   },
   "file_extension": ".py",
   "mimetype": "text/x-python",
   "name": "python",
   "nbconvert_exporter": "python",
   "pygments_lexer": "ipython3",
   "version": "3.9.7"
  }
 },
 "nbformat": 4,
 "nbformat_minor": 2
}
