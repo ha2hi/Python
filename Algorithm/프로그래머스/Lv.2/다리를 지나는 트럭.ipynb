{
 "cells": [
  {
   "cell_type": "code",
   "execution_count": 22,
   "metadata": {},
   "outputs": [
    {
     "data": {
      "text/plain": [
       "8"
      ]
     },
     "execution_count": 22,
     "metadata": {},
     "output_type": "execute_result"
    }
   ],
   "source": [
    "from collections import deque\n",
    "def solution(bridge_length, weight, truck_weights):\n",
    "    answer = 0\n",
    "    bridge = deque([0] * bridge_length)\n",
    "    truck_weights = deque(truck_weights)\n",
    "    currentWeight = 0\n",
    "    \n",
    "    while truck_weights:\n",
    "        answer += 1\n",
    "        currentWeight -= bridge.popleft()\n",
    "        \n",
    "        if currentWeight + truck_weights[0] <= weight:\n",
    "            currentWeight += truck_weights[0]\n",
    "            bridge.append(truck_weights.popleft())\n",
    "        else:\n",
    "            bridge.append(0)\n",
    "\n",
    "    return answer + bridge_length\n",
    "\n",
    "\n",
    "bridge_length = 2\n",
    "weight = 10\n",
    "truck_weights = [7,4,5,6]\n",
    "solution(bridge_length, weight, truck_weights)"
   ]
  },
  {
   "cell_type": "code",
   "execution_count": null,
   "metadata": {},
   "outputs": [],
   "source": []
  }
 ],
 "metadata": {
  "kernelspec": {
   "display_name": "base",
   "language": "python",
   "name": "python3"
  },
  "language_info": {
   "codemirror_mode": {
    "name": "ipython",
    "version": 3
   },
   "file_extension": ".py",
   "mimetype": "text/x-python",
   "name": "python",
   "nbconvert_exporter": "python",
   "pygments_lexer": "ipython3",
   "version": "3.9.7"
  }
 },
 "nbformat": 4,
 "nbformat_minor": 2
}
