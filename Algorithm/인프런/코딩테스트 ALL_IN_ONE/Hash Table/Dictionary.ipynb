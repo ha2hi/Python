{
 "cells": [
  {
   "cell_type": "code",
   "execution_count": 10,
   "metadata": {},
   "outputs": [
    {
     "data": {
      "text/plain": [
       "4"
      ]
     },
     "execution_count": 10,
     "metadata": {},
     "output_type": "execute_result"
    }
   ],
   "source": [
    "\"\"\"\n",
    "Longest Consecutive Sequence\n",
    "정렬되어 있지 않은 정수형 배열 nums가 주어졌다. nums 원소를 가지고 만들 수 있는 가장 \n",
    "긴 연속된 수의 갯수는 몇개인지 반환하시오.\n",
    "\n",
    "input : nums = [100,4,200,1,3,2]\n",
    "output : 4 ([1,2,3,4])\n",
    "\n",
    "input : nums = [0,3,7,2,5,8,4,6,0,1]\n",
    "output : 9 ([0,1,2,3,4,5,6,7,8])\n",
    "https://leetcode.com/problems/longest-consecutive-sequence/\n",
    "\"\"\"\n",
    "def longest(nums):\n",
    "    longest = 0\n",
    "    num_set = set(nums)\n",
    "    for num in nums:\n",
    "        if num - 1 not in num_set:\n",
    "            cnt = 1\n",
    "            target = num + 1\n",
    "            while target in num_set:\n",
    "                cnt += 1\n",
    "                target += 1\n",
    "            longest = max(longest, cnt)\n",
    "    return longest\n",
    "longest([6,7,100,5,4,4])\n"
   ]
  },
  {
   "cell_type": "code",
   "execution_count": null,
   "metadata": {},
   "outputs": [],
   "source": []
  }
 ],
 "metadata": {
  "kernelspec": {
   "display_name": "base",
   "language": "python",
   "name": "python3"
  },
  "language_info": {
   "codemirror_mode": {
    "name": "ipython",
    "version": 3
   },
   "file_extension": ".py",
   "mimetype": "text/x-python",
   "name": "python",
   "nbconvert_exporter": "python",
   "pygments_lexer": "ipython3",
   "version": "3.9.7"
  },
  "orig_nbformat": 4
 },
 "nbformat": 4,
 "nbformat_minor": 2
}
