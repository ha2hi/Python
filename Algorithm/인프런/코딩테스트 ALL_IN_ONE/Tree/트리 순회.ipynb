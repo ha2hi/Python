{
 "cells": [
  {
   "cell_type": "code",
   "execution_count": null,
   "metadata": {},
   "outputs": [],
   "source": [
    "# Tree :  넓이 우선(bfs), 깊이 우선(dfs)"
   ]
  },
  {
   "cell_type": "code",
   "execution_count": null,
   "metadata": {},
   "outputs": [],
   "source": [
    "# BFS\n",
    "from collections import deque\n",
    "def bfs(root):\n",
    "    visited = []\n",
    "    if root is None:\n",
    "        return []\n",
    "    q = deque()\n",
    "    q.append(root)\n",
    "    while q:\n",
    "        cur_node = q.popleft()\n",
    "        visited.append(cur_node)\n",
    "\n",
    "        if cur_node.left:\n",
    "            q.append(cur_node.left)\n",
    "        if cur_node.right:\n",
    "            q.append(cur_node.right)\n",
    "    return visited\n",
    "\n",
    "bfs(root)"
   ]
  },
  {
   "cell_type": "code",
   "execution_count": null,
   "metadata": {},
   "outputs": [],
   "source": [
    "# dfs 접근\n",
    "def dfs(cur_node):\n",
    "    if cur_node is None:\n",
    "        return\n",
    "    dfs(cur_node.left)\n",
    "    dfs(cur_node.right)\n",
    "\n",
    "dfs(root)"
   ]
  },
  {
   "cell_type": "code",
   "execution_count": null,
   "metadata": {},
   "outputs": [],
   "source": [
    "# dfs 방문\n",
    "# 1.전위순회\n",
    "def inorder(cur_node):\n",
    "    if cur_node is None:\n",
    "        return\n",
    "    print(cur_node.value)\n",
    "    inorder(cur_node.left)\n",
    "    inorder(cur_node.right)"
   ]
  },
  {
   "cell_type": "code",
   "execution_count": null,
   "metadata": {},
   "outputs": [],
   "source": [
    "# dfs 방문\n",
    "# 2.중위순회\n",
    "def inorder(cur_node):\n",
    "    if cur_node is None:\n",
    "        return\n",
    "    inorder(cur_node.left)\n",
    "    print(cur_node.value)\n",
    "    inorder(cur_node.right)"
   ]
  },
  {
   "cell_type": "code",
   "execution_count": null,
   "metadata": {},
   "outputs": [],
   "source": [
    "# dfs 방문\n",
    "# 3.후위순회\n",
    "def inorder(cur_node):\n",
    "    if cur_node is None:\n",
    "        return\n",
    "    inorder(cur_node.left)\n",
    "    inorder(cur_node.right)\n",
    "    print(cur_node.value)    "
   ]
  },
  {
   "cell_type": "code",
   "execution_count": null,
   "metadata": {},
   "outputs": [],
   "source": []
  },
  {
   "cell_type": "code",
   "execution_count": null,
   "metadata": {},
   "outputs": [],
   "source": [
    "\"\"\"\n",
    "Lowest Common Ancestor of a Binary Tree\n",
    "문제에서 Binary트리 하나와 해당 트리에 속한 노드가 주어진다. 이 때, 두 노드의\n",
    "공통 조상중 가장 낮은 node 즉, the lowest common ancestor (LCA)를 찾아라\n",
    "\"\"\"\n",
    "def LCA(root, p, q):\n",
    "    if root is None:\n",
    "        return None\n",
    "    \n",
    "    left = LCA(root.left, p, q)\n",
    "    right = LCA(root.right, p, q)\n",
    "\n",
    "    if root == left or root == right:\n",
    "        return root\n",
    "    elif left and right:\n",
    "        return root\n",
    "    return left or right"
   ]
  },
  {
   "cell_type": "code",
   "execution_count": null,
   "metadata": {},
   "outputs": [],
   "source": []
  },
  {
   "cell_type": "code",
   "execution_count": null,
   "metadata": {},
   "outputs": [],
   "source": [
    "\"\"\"\n",
    "Maximum Depth of Binary Tree\n",
    "Binary Tree의 최대 깊이를 반환해라\n",
    "\"\"\"\n",
    "\n",
    "from collections import deque\n",
    "def maxDepth(root):\n",
    "    max_depth = 0\n",
    "    if root is None:\n",
    "        return max_depth\n",
    "    q = deque()\n",
    "    q.append((root, 1))\n",
    "    while q:\n",
    "        cur_node, cur_dept = q.popleft()\n",
    "        max_depth = max(max_depth, cur_dept)\n",
    "        if cur_node.left:\n",
    "            q.append((cur_node.left, cur_dept+1))\n",
    "        if cur_node.right:\n",
    "            q.append((cur_node.right, cur_dept+1))\n",
    "\n",
    "    return max_depth\n",
    "    \n"
   ]
  },
  {
   "cell_type": "code",
   "execution_count": null,
   "metadata": {},
   "outputs": [],
   "source": [
    "\"\"\"\n",
    "Tree 구현\n",
    "\"\"\"\n",
    "#root = [3,9,20,None,None,15,7]\n",
    "\n",
    "class TreeNode:\n",
    "    def __init__(self, l=None, r=None, v=0):\n",
    "        self.left = l\n",
    "        self.right = r\n",
    "        self.value = v\n",
    "\n",
    "root = TreeNode(v= 3)\n",
    "root.left = TreeNode(v= 9)\n",
    "root.right = TreeNode(v= 20)\n",
    "root.right.left = TreeNode(v= 15)\n",
    "root.right.right = TreeNode(v= 7)"
   ]
  },
  {
   "cell_type": "code",
   "execution_count": null,
   "metadata": {},
   "outputs": [],
   "source": []
  }
 ],
 "metadata": {
  "kernelspec": {
   "display_name": "base",
   "language": "python",
   "name": "python3"
  },
  "language_info": {
   "codemirror_mode": {
    "name": "ipython",
    "version": 3
   },
   "file_extension": ".py",
   "mimetype": "text/x-python",
   "name": "python",
   "nbconvert_exporter": "python",
   "pygments_lexer": "ipython3",
   "version": "3.9.7"
  },
  "orig_nbformat": 4
 },
 "nbformat": 4,
 "nbformat_minor": 2
}
