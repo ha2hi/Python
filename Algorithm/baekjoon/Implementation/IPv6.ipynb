{
 "cells": [
  {
   "cell_type": "code",
   "execution_count": null,
   "metadata": {},
   "outputs": [],
   "source": [
    "# https://www.acmicpc.net/problem/3107\n",
    "s = input()\n",
    "ip = s.split(':')\n",
    "if ip[0] == '':\n",
    "    ip = ip[1:]\n",
    "elif ip[-1] == '':\n",
    "    ip = ip[:-1]\n",
    "\n",
    "res = ''\n",
    "for i in ip:\n",
    "    if i == '':\n",
    "        res += '0000:'* (8-len(ip)+1)\n",
    "    else:\n",
    "        res += i.zfill(4)+':'\n",
    "\n",
    "print(res[:-1])"
   ]
  }
 ],
 "metadata": {
  "language_info": {
   "name": "python"
  }
 },
 "nbformat": 4,
 "nbformat_minor": 2
}
