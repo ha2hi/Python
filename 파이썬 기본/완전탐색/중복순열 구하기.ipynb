{
 "cells": [
  {
   "cell_type": "code",
   "execution_count": null,
   "metadata": {},
   "outputs": [],
   "source": [
    "\"\"\"\n",
    "중복순열 구하기\n",
    "\n",
    "1부터 N까지 번호가 적힌 구슬이 있습니다. 이 중 중복을 허락하여 M번을 뽑아 일렬로 나열 하는 방법을 모두 출력합니다.\n",
    "\n",
    "▣ 입력설명\n",
    "첫 번째 줄에 자연수 N(3<=N<=10)과 M(2<=M<=N) 이 주어집니다.\n",
    "\n",
    "▣ 출력설명\n",
    "첫 번째 줄에 결과를 출력합니다. 맨 마지막 총 경우의 수를 출력합니다. 출력순서는 사전순으로 오름차순으로 출력합니다.\n",
    "\n",
    "▣ 입력예제 1 \n",
    "3 2\n",
    "▣ 출력예제 1 \n",
    "1 1\n",
    "1 2\n",
    "1 3\n",
    "2 1 \n",
    "2 2 \n",
    "2 3 \n",
    "3 1 \n",
    "3 2 \n",
    "3 3 \n",
    "9"
   ]
  },
  {
   "cell_type": "code",
   "execution_count": 12,
   "metadata": {},
   "outputs": [
    {
     "name": "stdout",
     "output_type": "stream",
     "text": [
      "1 1\n",
      "1 2\n",
      "1 3\n",
      "2 1\n",
      "2 2\n",
      "2 3\n",
      "3 1\n",
      "3 2\n",
      "3 3\n",
      "9\n"
     ]
    }
   ],
   "source": [
    "def DFS(v):\n",
    "    global cnt\n",
    "    if v == m:\n",
    "        print(*ch)\n",
    "        cnt += 1\n",
    "    else:\n",
    "        for i in range(1,n+1):\n",
    "            ch[v] = i\n",
    "            DFS(v+1)\n",
    "\n",
    "\n",
    "n, m = map(int, input().split())\n",
    "ch = [0] * m\n",
    "cnt = 0\n",
    "DFS(0)\n",
    "print(cnt)"
   ]
  },
  {
   "cell_type": "code",
   "execution_count": null,
   "metadata": {},
   "outputs": [],
   "source": []
  }
 ],
 "metadata": {
  "kernelspec": {
   "display_name": "base",
   "language": "python",
   "name": "python3"
  },
  "language_info": {
   "codemirror_mode": {
    "name": "ipython",
    "version": 3
   },
   "file_extension": ".py",
   "mimetype": "text/x-python",
   "name": "python",
   "nbconvert_exporter": "python",
   "pygments_lexer": "ipython3",
   "version": "3.9.7"
  },
  "orig_nbformat": 4
 },
 "nbformat": 4,
 "nbformat_minor": 2
}
