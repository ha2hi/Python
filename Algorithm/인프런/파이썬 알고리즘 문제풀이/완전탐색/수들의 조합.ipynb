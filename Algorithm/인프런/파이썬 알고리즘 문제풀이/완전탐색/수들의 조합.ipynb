{
 "cells": [
  {
   "cell_type": "code",
   "execution_count": 4,
   "metadata": {},
   "outputs": [
    {
     "name": "stdout",
     "output_type": "stream",
     "text": [
      "2\n"
     ]
    }
   ],
   "source": [
    "n, k = map(int, input().split())\n",
    "a = list(map(int, input().split()))\n",
    "m = int(input())\n",
    "cnt = 0\n",
    "def dfs(l, s, sum):\n",
    "    global cnt\n",
    "    if l == k:\n",
    "        if sum % m == 0:\n",
    "            cnt += 1\n",
    "    else:\n",
    "        for i in range(s, n):\n",
    "            dfs(l+1, i+1, sum+a[i])\n",
    "dfs(0,0,0)\n",
    "print(cnt)"
   ]
  },
  {
   "cell_type": "code",
   "execution_count": 5,
   "metadata": {},
   "outputs": [
    {
     "data": {
      "text/plain": [
       "2"
      ]
     },
     "execution_count": 5,
     "metadata": {},
     "output_type": "execute_result"
    }
   ],
   "source": [
    "def solution(n,k,a,m):\n",
    "    cnt = 0\n",
    "    res = [0] * k\n",
    "    def dfs(l, s):\n",
    "        nonlocal cnt\n",
    "        if l == k:\n",
    "            if sum(res) % m == 0:\n",
    "                cnt += 1\n",
    "        else:\n",
    "            for i in range(s, n):\n",
    "                res[l] = a[i]\n",
    "                dfs(l+1, i+1)\n",
    "    dfs(0,0)\n",
    "    return cnt\n",
    "\n",
    "n, k = map(int, input().split())\n",
    "a = list(map(int, input().split()))\n",
    "m = int(input())\n",
    "solution(n,k,a,m)"
   ]
  },
  {
   "cell_type": "code",
   "execution_count": null,
   "metadata": {},
   "outputs": [],
   "source": []
  }
 ],
 "metadata": {
  "kernelspec": {
   "display_name": "base",
   "language": "python",
   "name": "python3"
  },
  "language_info": {
   "codemirror_mode": {
    "name": "ipython",
    "version": 3
   },
   "file_extension": ".py",
   "mimetype": "text/x-python",
   "name": "python",
   "nbconvert_exporter": "python",
   "pygments_lexer": "ipython3",
   "version": "3.9.7"
  }
 },
 "nbformat": 4,
 "nbformat_minor": 2
}
