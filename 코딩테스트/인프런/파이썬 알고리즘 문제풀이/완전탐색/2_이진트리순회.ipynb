{
 "cells": [
  {
   "cell_type": "code",
   "execution_count": 5,
   "metadata": {},
   "outputs": [
    {
     "data": {
      "text/plain": [
       "'1 2 4 5 3 6 7'"
      ]
     },
     "execution_count": 5,
     "metadata": {},
     "output_type": "execute_result"
    }
   ],
   "source": [
    "# 전위순회\n",
    "def solution(n):\n",
    "    answer = []\n",
    "\n",
    "    def dfs(n):\n",
    "        nonlocal answer\n",
    "        if n <= 7:\n",
    "            answer.append(str(n))\n",
    "            dfs(n*2)\n",
    "            dfs(n*2+1)\n",
    "\n",
    "    dfs(n)\n",
    "    return \" \".join(answer)\n",
    "\n",
    "n = 1\n",
    "solution(n)"
   ]
  },
  {
   "cell_type": "code",
   "execution_count": null,
   "metadata": {},
   "outputs": [],
   "source": [
    "# 중위순회\n",
    "def solution(n):\n",
    "    answer = []\n",
    "\n",
    "    def dfs(n):\n",
    "        nonlocal answer\n",
    "        if n <= 7:\n",
    "            dfs(n*2)\n",
    "            answer.append(str(n))\n",
    "            dfs(n*2+1)\n",
    "\n",
    "    dfs(n)\n",
    "    return \" \".join(answer)\n",
    "\n",
    "n = 1\n",
    "solution(n)"
   ]
  },
  {
   "cell_type": "code",
   "execution_count": 7,
   "metadata": {},
   "outputs": [
    {
     "data": {
      "text/plain": [
       "'4 5 2 6 7 3 1'"
      ]
     },
     "execution_count": 7,
     "metadata": {},
     "output_type": "execute_result"
    }
   ],
   "source": [
    "# 후위순회\n",
    "def solution(n):\n",
    "    answer = []\n",
    "\n",
    "    def dfs(n):\n",
    "        nonlocal answer\n",
    "        if n <= 7:\n",
    "            dfs(n*2)\n",
    "            dfs(n*2+1)\n",
    "            answer.append(str(n))\n",
    "\n",
    "    dfs(n)\n",
    "    return \" \".join(answer)\n",
    "\n",
    "n = 1\n",
    "solution(n)"
   ]
  },
  {
   "cell_type": "code",
   "execution_count": null,
   "metadata": {},
   "outputs": [],
   "source": []
  }
 ],
 "metadata": {
  "kernelspec": {
   "display_name": "base",
   "language": "python",
   "name": "python3"
  },
  "language_info": {
   "codemirror_mode": {
    "name": "ipython",
    "version": 3
   },
   "file_extension": ".py",
   "mimetype": "text/x-python",
   "name": "python",
   "nbconvert_exporter": "python",
   "pygments_lexer": "ipython3",
   "version": "3.9.7"
  }
 },
 "nbformat": 4,
 "nbformat_minor": 2
}
