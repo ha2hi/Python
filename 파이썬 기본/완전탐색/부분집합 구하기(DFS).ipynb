{
 "cells": [
  {
   "cell_type": "code",
   "execution_count": null,
   "metadata": {},
   "outputs": [],
   "source": [
    "\"\"\"\n",
    "부분집합 구하기(DFS)\n",
    "\n",
    "자연수 N이 주어지면 1부터 N까지의 원소를 갖는 집합의 부분집합을 모두 출력하는 프로그램 을 작성하세요.\n",
    "\n",
    "\n",
    "▣ 입력설명\n",
    "첫 번째 줄에 자연수 N(1<=N<=10)이 주어집니다.\n",
    "▣ 출력설명\n",
    "첫 번째 줄부터 각 줄에 하나씩 부분집합을 아래와 출력예제와 같은 순서로 출력한다. 단 공집합은 출력하지 않습니다.\n",
    "▣ 입력예제 1 \n",
    "3\n",
    "▣ 출력예제 1 \n",
    "1 2 3\n",
    "1 2\n",
    "1 3\n",
    "1 \n",
    "2 3 \n",
    "2\n",
    "3\n",
    "\"\"\""
   ]
  },
  {
   "cell_type": "code",
   "execution_count": 2,
   "metadata": {},
   "outputs": [
    {
     "name": "stdout",
     "output_type": "stream",
     "text": [
      "1 2 3 \n",
      "1 2 \n",
      "1 3 \n",
      "1 \n",
      "2 3 \n",
      "2 \n",
      "3 \n",
      "\n"
     ]
    }
   ],
   "source": [
    "def DFS(v):\n",
    "    if v == n+1:\n",
    "        for i in range(1, n+1):\n",
    "            if ch[i] == 1:\n",
    "                print(i, end = ' ')\n",
    "        print()\n",
    "    else:\n",
    "        ch[v] = 1\n",
    "        DFS(v+1)\n",
    "        ch[v] = 0\n",
    "        DFS(v+1)\n",
    "\n",
    "\n",
    "n = int(input())\n",
    "ch = [0] * (n+1)\n",
    "DFS(1)"
   ]
  },
  {
   "cell_type": "code",
   "execution_count": null,
   "metadata": {},
   "outputs": [],
   "source": []
  }
 ],
 "metadata": {
  "kernelspec": {
   "display_name": "base",
   "language": "python",
   "name": "python3"
  },
  "language_info": {
   "codemirror_mode": {
    "name": "ipython",
    "version": 3
   },
   "file_extension": ".py",
   "mimetype": "text/x-python",
   "name": "python",
   "nbconvert_exporter": "python",
   "pygments_lexer": "ipython3",
   "version": "3.9.7"
  },
  "orig_nbformat": 4
 },
 "nbformat": 4,
 "nbformat_minor": 2
}
