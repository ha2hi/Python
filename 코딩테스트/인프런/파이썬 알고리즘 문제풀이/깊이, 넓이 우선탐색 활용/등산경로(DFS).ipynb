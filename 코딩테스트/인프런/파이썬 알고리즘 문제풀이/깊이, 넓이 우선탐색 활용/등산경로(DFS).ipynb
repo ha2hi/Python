{
 "cells": [
  {
   "cell_type": "code",
   "execution_count": 6,
   "metadata": {},
   "outputs": [
    {
     "data": {
      "text/plain": [
       "5"
      ]
     },
     "execution_count": 6,
     "metadata": {},
     "output_type": "execute_result"
    }
   ],
   "source": [
    "# BFS\n",
    "from collections import deque\n",
    "def solution(n):\n",
    "    dx = [-1,0,1,0]\n",
    "    dy = [0,1,0,-1]\n",
    "    cnt = 0\n",
    "    board = [list(map(int, input().split())) for _ in range(n)]\n",
    "    q = deque()\n",
    "    q.append((0,0))\n",
    "    while q:\n",
    "        now_x, now_y = q.popleft()\n",
    "        if now_x == n-1 and now_y == n-1:\n",
    "            cnt += 1\n",
    "            continue\n",
    "        for i in range(4):\n",
    "            next_x = now_x + dx[i]\n",
    "            next_y = now_y + dy[i]\n",
    "            if 0<=next_x< n and 0<=next_y<n and board[now_x][now_y] < board[next_x][next_y]:\n",
    "                q.append((next_x, next_y))\n",
    "    return cnt\n",
    "    \n",
    "n = int(input())\n",
    "solution(n)"
   ]
  },
  {
   "cell_type": "code",
   "execution_count": 7,
   "metadata": {},
   "outputs": [
    {
     "data": {
      "text/plain": [
       "5"
      ]
     },
     "execution_count": 7,
     "metadata": {},
     "output_type": "execute_result"
    }
   ],
   "source": [
    "# DFS\n",
    "def solution(n):\n",
    "    dx = [-1,0,1,0]\n",
    "    dy = [0,1,0,-1]\n",
    "    cnt = 0\n",
    "    board = [list(map(int, input().split())) for _ in range(n)]\n",
    "    def dfs(x ,y):\n",
    "        nonlocal cnt\n",
    "        if x == n-1 and y == n-1:\n",
    "            cnt += 1\n",
    "        else:\n",
    "            for i in range(4):\n",
    "                next_x = x + dx[i]\n",
    "                next_y = y + dy[i]\n",
    "                if 0<=next_x<n and 0<=next_y<n and board[x][y] < board[next_x][next_y]:\n",
    "                    dfs(next_x, next_y)\n",
    "    dfs(0,0)\n",
    "    return cnt\n",
    "\n",
    "\n",
    "n = int(input())\n",
    "solution(n)"
   ]
  },
  {
   "cell_type": "code",
   "execution_count": null,
   "metadata": {},
   "outputs": [],
   "source": []
  }
 ],
 "metadata": {
  "kernelspec": {
   "display_name": "base",
   "language": "python",
   "name": "python3"
  },
  "language_info": {
   "codemirror_mode": {
    "name": "ipython",
    "version": 3
   },
   "file_extension": ".py",
   "mimetype": "text/x-python",
   "name": "python",
   "nbconvert_exporter": "python",
   "pygments_lexer": "ipython3",
   "version": "3.9.7"
  }
 },
 "nbformat": 4,
 "nbformat_minor": 2
}
