{
 "cells": [
  {
   "cell_type": "code",
   "execution_count": 3,
   "metadata": {},
   "outputs": [
    {
     "data": {
      "text/plain": [
       "3"
      ]
     },
     "execution_count": 3,
     "metadata": {},
     "output_type": "execute_result"
    }
   ],
   "source": [
    "from collections import deque\n",
    "def solution(people, limit):\n",
    "    res = 0\n",
    "    people.sort()\n",
    "    people = deque(people)\n",
    "    while people:\n",
    "        lt = 0\n",
    "        rt = len(people)-1\n",
    "        if len(people) == 1:\n",
    "            res += 1\n",
    "            break\n",
    "        if people[lt] + people[rt] <= limit:\n",
    "            res += 1\n",
    "            people.pop()\n",
    "            people.popleft()\n",
    "        else:\n",
    "            res += 1\n",
    "            people.pop()\n",
    "    return res\n",
    "\n",
    "\n",
    "people = [70, 50, 80, 50]\n",
    "limit = 100\n",
    "solution(people, limit)"
   ]
  },
  {
   "cell_type": "code",
   "execution_count": 4,
   "metadata": {},
   "outputs": [
    {
     "data": {
      "text/plain": [
       "3"
      ]
     },
     "execution_count": 4,
     "metadata": {},
     "output_type": "execute_result"
    }
   ],
   "source": [
    "def solution(people, limit):\n",
    "    res = 0\n",
    "    people.sort()\n",
    "    lt, rt = 0, len(people)-1\n",
    "    while lt <= rt:\n",
    "        if people[lt] + people[rt] <= limit:\n",
    "            lt += 1\n",
    "            rt -= 1\n",
    "        else:\n",
    "            rt -= 1\n",
    "        res += 1\n",
    "    return res\n",
    "\n",
    "people = [70, 50, 80, 50]\n",
    "limit = 100\n",
    "solution(people, limit)"
   ]
  },
  {
   "cell_type": "code",
   "execution_count": null,
   "metadata": {},
   "outputs": [],
   "source": []
  }
 ],
 "metadata": {
  "kernelspec": {
   "display_name": "base",
   "language": "python",
   "name": "python3"
  },
  "language_info": {
   "codemirror_mode": {
    "name": "ipython",
    "version": 3
   },
   "file_extension": ".py",
   "mimetype": "text/x-python",
   "name": "python",
   "nbconvert_exporter": "python",
   "pygments_lexer": "ipython3",
   "version": "3.9.7"
  }
 },
 "nbformat": 4,
 "nbformat_minor": 2
}
