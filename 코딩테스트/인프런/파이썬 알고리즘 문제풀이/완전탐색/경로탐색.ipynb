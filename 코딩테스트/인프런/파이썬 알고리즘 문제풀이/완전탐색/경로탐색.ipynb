{
 "cells": [
  {
   "cell_type": "code",
   "execution_count": 8,
   "metadata": {},
   "outputs": [
    {
     "data": {
      "text/plain": [
       "6"
      ]
     },
     "execution_count": 8,
     "metadata": {},
     "output_type": "execute_result"
    }
   ],
   "source": [
    "def solution(n, m):\n",
    "    def dfs(l):\n",
    "        nonlocal cnt\n",
    "        if l == n-1:\n",
    "            cnt += 1\n",
    "        else:\n",
    "            for i in range(n):\n",
    "                if board[l][i] == 1 and ch[i] == 0:\n",
    "                    ch[i] = 1\n",
    "                    dfs(i)\n",
    "                    ch[i] = 0\n",
    "\n",
    "    board = [[0] * n for _ in range(n)]\n",
    "    ch = [0] * n\n",
    "    ch[0] = 1\n",
    "    cnt = 0\n",
    "    for _ in range(m):\n",
    "        x, y = map(int, input().split())\n",
    "        board[x-1][y-1] = 1\n",
    "    dfs(0)\n",
    "    return cnt\n",
    "\n",
    "\n",
    "n, m = map(int, input().split())\n",
    "solution(n, m)"
   ]
  },
  {
   "cell_type": "code",
   "execution_count": null,
   "metadata": {},
   "outputs": [],
   "source": []
  }
 ],
 "metadata": {
  "kernelspec": {
   "display_name": "base",
   "language": "python",
   "name": "python3"
  },
  "language_info": {
   "codemirror_mode": {
    "name": "ipython",
    "version": 3
   },
   "file_extension": ".py",
   "mimetype": "text/x-python",
   "name": "python",
   "nbconvert_exporter": "python",
   "pygments_lexer": "ipython3",
   "version": "3.9.7"
  }
 },
 "nbformat": 4,
 "nbformat_minor": 2
}
