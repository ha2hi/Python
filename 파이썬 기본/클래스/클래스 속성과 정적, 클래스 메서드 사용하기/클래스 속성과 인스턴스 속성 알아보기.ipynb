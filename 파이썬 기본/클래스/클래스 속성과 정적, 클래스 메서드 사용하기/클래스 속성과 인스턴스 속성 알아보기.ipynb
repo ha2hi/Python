{
 "cells": [
  {
   "cell_type": "code",
   "execution_count": 1,
   "metadata": {},
   "outputs": [
    {
     "name": "stdout",
     "output_type": "stream",
     "text": [
      "['책', '열쇠']\n",
      "['책', '열쇠']\n"
     ]
    }
   ],
   "source": [
    "# 클래스에 속해 있는 클래스 속성에 대해 알아보겠습니다.\n",
    "# 인스턴스를 만들지 않고 클래스로 호출하는 정적 메서드와 클래스 메서드도 사용해보겠습니다.\n",
    "# 속성에는 클래스 속성과 인스턴스 속성 두 가지 종류가 있습니다.\n",
    "# __init__ 메서드에서 만들었던 속성은 인스턴스 속성입니다.\n",
    "# 클래스 속성은 다음과 같이 클래스에 바로 속성을 만듭니다.\n",
    "# 클래스 속성은 클래스에 속해 있으며 모든 인스턴스에서 공유합니다.\n",
    "\n",
    "class Person:\n",
    "    bag = []\n",
    "    def put_bag(self, stuff):\n",
    "        self.bag.append(stuff)\n",
    "\n",
    "james = Person()\n",
    "james.put_bag('책')\n",
    "\n",
    "maria = Person()\n",
    "maria.put_bag('열쇠')\n",
    "\n",
    "print(james.bag)\n",
    "print(maria.bag)"
   ]
  },
  {
   "cell_type": "code",
   "execution_count": 2,
   "metadata": {},
   "outputs": [
    {
     "name": "stdout",
     "output_type": "stream",
     "text": [
      "[]\n"
     ]
    }
   ],
   "source": [
    "# self는 현재 인스터스를 뜻하므로 클래스 속성을 지칭하기에는 조금 모호합니다.\n",
    "# 그래서 클래스 속성에 접근할 때는 다음과 같이 클래스 이름으로 접근하면 코드가 더 명확해집니다.\n",
    "class Person:\n",
    "    bag = []\n",
    "    def put_bag(self, stuff):\n",
    "        Person.bag.append(stuff) # 클래스 이름으로 클래스 속성에 접근\n",
    "print(Person.bag)"
   ]
  },
  {
   "cell_type": "code",
   "execution_count": 4,
   "metadata": {},
   "outputs": [
    {
     "data": {
      "text/plain": [
       "mappingproxy({'__module__': '__main__',\n",
       "              'bag': [],\n",
       "              'put_bag': <function __main__.Person.put_bag(self, stuff)>,\n",
       "              '__dict__': <attribute '__dict__' of 'Person' objects>,\n",
       "              '__weakref__': <attribute '__weakref__' of 'Person' objects>,\n",
       "              '__doc__': None})"
      ]
     },
     "execution_count": 4,
     "metadata": {},
     "output_type": "execute_result"
    }
   ],
   "source": [
    "# 속성, 메서드 이름을 찾는 순서\n",
    "\"\"\"\n",
    "파이썬에서는 속성, 메서드 이름을 찾을 때 인스턴스, 클래스 순으로 찾습니다. 그래서 인스턴스 속성이 없으면 클래스 속성을 찾게 되므로 james.bag, maria.bag도 문제 없이 동작합니다. 겉보기에는 인스턴스 속성을 사용하는 것 같지만 실제로는 클래스 속성입니다.\n",
    "\n",
    "인스턴스와 클래스에서 __dict__ 속성을 출력해보면 현재 인스턴스와 클래스의 속성을 딕셔너리로 확인할 수 있습니다.\n",
    "\n",
    "\"\"\"\n",
    "james.__dict__\n",
    "Person.__dict__"
   ]
  },
  {
   "cell_type": "code",
   "execution_count": 5,
   "metadata": {},
   "outputs": [
    {
     "name": "stdout",
     "output_type": "stream",
     "text": [
      "['책', '열쇠']\n",
      "['책', '열쇠']\n"
     ]
    }
   ],
   "source": [
    "# 인스턴스 속성 사용하기\n",
    "# 가방을 여러 사람이 공유하지 않으려면 어떻게 해야 할까요? 그냥 인스턴스 속성으로 만들면 됩니다.\n",
    "# 클래스 속성 : 모든 인스턴스가 공유. 인스턴스 전체가 사용해야 하는 값을 저장할 때 사용\n",
    "# 인스턴스 속성 : 인스턴스별로 독립되어 있음. 각 인스턴스 값을 따로 저장해야 할 때 사용\n",
    "class person:\n",
    "    def __init__(self):\n",
    "        self.bag = []\n",
    "    def put_bag(self, stuff):\n",
    "        self.bag.append(stuff)\n",
    "\n",
    "james = Person()\n",
    "james.put_bag('책')\n",
    " \n",
    "maria = Person()\n",
    "maria.put_bag('열쇠')\n",
    " \n",
    "print(james.bag)\n",
    "print(maria.bag)"
   ]
  },
  {
   "cell_type": "code",
   "execution_count": 6,
   "metadata": {},
   "outputs": [
    {
     "name": "stdout",
     "output_type": "stream",
     "text": [
      "10\n"
     ]
    }
   ],
   "source": [
    "# 비공개 클래스 속성\n",
    "# 클래스 속성도 비공개 속성을 만들 수 있음. \n",
    "class Knight:\n",
    "    __itme_limit = 10 # 비공개 클래스 속성\n",
    "\n",
    "    def print_item_limit(self):\n",
    "        print(Knight.__itme_limit) # 클래스 안에서만 접근할 수 있음\n",
    "\n",
    "x = Knight()\n",
    "x.print_item_limit()\n",
    "\n",
    "print(Knight.__itme_limit) # 클래스 바깥에서는 접근할 수 없음"
   ]
  },
  {
   "cell_type": "code",
   "execution_count": 7,
   "metadata": {},
   "outputs": [
    {
     "name": "stdout",
     "output_type": "stream",
     "text": [
      "사람 클래스입니다.\n",
      "인사 메서드입니다.\n",
      "인사 메서드입니다.\n"
     ]
    }
   ],
   "source": [
    "# 클래스와 메서드의 독스트링 사용하기\n",
    "class Person:\n",
    "    '''사람 클래스입니다.'''\n",
    "    \n",
    "    def greeting(self):\n",
    "        '''인사 메서드입니다.'''\n",
    "        print('Hello')\n",
    " \n",
    "print(Person.__doc__)             # 사람 클래스입니다.\n",
    "print(Person.greeting.__doc__)    # 인사 메서드입니다.\n",
    " \n",
    "maria = Person()\n",
    "print(maria.greeting.__doc__)     # 인사 메서드입니다."
   ]
  },
  {
   "cell_type": "code",
   "execution_count": null,
   "metadata": {},
   "outputs": [],
   "source": []
  }
 ],
 "metadata": {
  "kernelspec": {
   "display_name": "base",
   "language": "python",
   "name": "python3"
  },
  "language_info": {
   "codemirror_mode": {
    "name": "ipython",
    "version": 3
   },
   "file_extension": ".py",
   "mimetype": "text/x-python",
   "name": "python",
   "nbconvert_exporter": "python",
   "pygments_lexer": "ipython3",
   "version": "3.9.7"
  },
  "orig_nbformat": 4
 },
 "nbformat": 4,
 "nbformat_minor": 2
}
