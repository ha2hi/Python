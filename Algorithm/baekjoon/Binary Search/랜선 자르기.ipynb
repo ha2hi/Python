{
 "cells": [
  {
   "cell_type": "code",
   "execution_count": 1,
   "metadata": {},
   "outputs": [],
   "source": [
    "def check(mid):\n",
    "    tmp = 0\n",
    "    for x in a:\n",
    "        tmp += x // mid\n",
    "\n",
    "    return tmp\n",
    "\n",
    "k, n = map(int, input().split())\n",
    "a = []\n",
    "for _ in range(k):\n",
    "    a.append(int(input()))\n",
    "\n",
    "res = 0\n",
    "lt, rt = 1, max(a)\n",
    "\n",
    "while lt <= rt:\n",
    "    mid = (lt+rt) // 2\n",
    "    if check(mid) >= n:\n",
    "        res = mid\n",
    "        lt = mid + 1\n",
    "    else:\n",
    "        rt = mid - 1\n",
    "\n",
    "print(res)"
   ]
  },
  {
   "cell_type": "code",
   "execution_count": 2,
   "metadata": {},
   "outputs": [
    {
     "data": {
      "text/plain": [
       "200"
      ]
     },
     "execution_count": 2,
     "metadata": {},
     "output_type": "execute_result"
    }
   ],
   "source": [
    "res"
   ]
  },
  {
   "cell_type": "code",
   "execution_count": null,
   "metadata": {},
   "outputs": [],
   "source": []
  }
 ],
 "metadata": {
  "kernelspec": {
   "display_name": "base",
   "language": "python",
   "name": "python3"
  },
  "language_info": {
   "codemirror_mode": {
    "name": "ipython",
    "version": 3
   },
   "file_extension": ".py",
   "mimetype": "text/x-python",
   "name": "python",
   "nbconvert_exporter": "python",
   "pygments_lexer": "ipython3",
   "version": "3.9.7"
  }
 },
 "nbformat": 4,
 "nbformat_minor": 2
}
