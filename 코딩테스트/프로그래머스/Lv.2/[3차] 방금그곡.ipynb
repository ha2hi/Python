{
 "cells": [
  {
   "cell_type": "code",
   "execution_count": 96,
   "metadata": {},
   "outputs": [
    {
     "data": {
      "text/plain": [
       "'HELLO'"
      ]
     },
     "execution_count": 96,
     "metadata": {},
     "output_type": "execute_result"
    }
   ],
   "source": [
    "# https://school.programmers.co.kr/learn/courses/30/lessons/17683\n",
    "def change(music):\n",
    "    if \"C#\" in music:\n",
    "        music = music.replace('C#', 'c')\n",
    "    if \"D#\" in music:\n",
    "        music = music.replace('D#', 'd')\n",
    "    if \"F#\" in music:\n",
    "        music = music.replace('F#', 'f')\n",
    "    if \"G#\" in music:\n",
    "        music = music.replace('G#', 'g')\n",
    "    if \"A#\" in music:\n",
    "        music = music.replace('A#', 'a')\n",
    "    return music\n",
    "\n",
    "def solution(m, musicinfos):\n",
    "    answer = []\n",
    "    m = change(m)\n",
    "    for idx, musicinfo in enumerate(musicinfos):\n",
    "        s_t, e_t, name, melo = musicinfo.split(',')\n",
    "        s_t_h, s_t_m = map(int, s_t.split(':'))\n",
    "        e_t_h, e_t_m = map(int, e_t.split(':'))\n",
    "        time = (e_t_h*60+e_t_m) - (s_t_h*60+s_t_m)\n",
    "        \n",
    "        melo = change(melo)\n",
    "        n = len(melo)\n",
    "        melo = melo*(time//n)+melo[:time]\n",
    "\n",
    "        if m in melo:\n",
    "            answer.append([time, idx, name])\n",
    "    \n",
    "    if not answer:\n",
    "        return \"(None)\"\n",
    "    elif len(answer) == 1:\n",
    "        return answer[0][2]\n",
    "    else:\n",
    "        return sorted(answer, key = lambda x : (-x[0], x[1]))[0][2]\n",
    "        \n",
    "\n",
    "m = \"ABCDEFG\"\n",
    "musicinfos = [\"12:00,12:14,HELLO,CDEFGAB\", \"13:00,13:05,WORLD,ABCDEF\"]\n",
    "solution(m, musicinfos)"
   ]
  },
  {
   "cell_type": "code",
   "execution_count": null,
   "metadata": {},
   "outputs": [],
   "source": []
  }
 ],
 "metadata": {
  "kernelspec": {
   "display_name": "base",
   "language": "python",
   "name": "python3"
  },
  "language_info": {
   "codemirror_mode": {
    "name": "ipython",
    "version": 3
   },
   "file_extension": ".py",
   "mimetype": "text/x-python",
   "name": "python",
   "nbconvert_exporter": "python",
   "pygments_lexer": "ipython3",
   "version": "3.9.7"
  }
 },
 "nbformat": 4,
 "nbformat_minor": 2
}
