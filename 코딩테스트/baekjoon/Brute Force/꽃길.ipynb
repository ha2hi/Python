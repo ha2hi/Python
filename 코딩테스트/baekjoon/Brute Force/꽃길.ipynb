{
 "cells": [
  {
   "cell_type": "code",
   "execution_count": 6,
   "metadata": {},
   "outputs": [
    {
     "name": "stdout",
     "output_type": "stream",
     "text": [
      "12\n"
     ]
    }
   ],
   "source": [
    "# https://www.acmicpc.net/problem/14620\n",
    "from itertools import combinations\n",
    "n = int(input())\n",
    "board = [list(map(int, input().split())) for _ in range(n)]\n",
    "dx = [-1,0,1,0,0]\n",
    "dy = [0,1,0,-1,0]\n",
    "\n",
    "d = []\n",
    "for i in range(1, n-1):\n",
    "    for j in range(1, n-1):\n",
    "        d.append((i,j))\n",
    "\n",
    "res = float('inf')\n",
    "for x,y,z in combinations(d,3):\n",
    "    ch = [[False] * n for _ in range(n)]\n",
    "    flag = False\n",
    "    tmp = 0\n",
    "    for i in range(5):\n",
    "        if 0<=x[0]+dx[i]<n and 0<=x[1]+dy[i]<n and not ch[x[0]+dx[i]][x[1]+dy[i]]:\n",
    "            ch[x[0]+dx[i]][x[1]+dy[i]] = True\n",
    "            tmp += board[x[0]+dx[i]][x[1]+dy[i]]\n",
    "        else:\n",
    "            flag = True\n",
    "            break\n",
    "        \n",
    "        if 0<=y[0]+dx[i]<n and 0<=y[1]+dy[i]<n and not ch[y[0]+dx[i]][y[1]+dy[i]]:\n",
    "            ch[y[0]+dx[i]][y[1]+dy[i]] = True\n",
    "            tmp += board[y[0]+dx[i]][y[1]+dy[i]]\n",
    "        else:\n",
    "            flag = True\n",
    "            break\n",
    "\n",
    "        if 0<=z[0]+dx[i]<n and 0<=z[1]+dy[i]<n and not ch[z[0]+dx[i]][z[1]+dy[i]]:\n",
    "            ch[z[0]+dx[i]][z[1]+dy[i]] = True\n",
    "            tmp += board[z[0]+dx[i]][z[1]+dy[i]]\n",
    "        else:\n",
    "            flag = True\n",
    "            break\n",
    "    \n",
    "    if not flag:\n",
    "        res = min(res, tmp)\n",
    "\n",
    "print(res)"
   ]
  },
  {
   "cell_type": "code",
   "execution_count": null,
   "metadata": {},
   "outputs": [],
   "source": []
  }
 ],
 "metadata": {
  "kernelspec": {
   "display_name": "base",
   "language": "python",
   "name": "python3"
  },
  "language_info": {
   "codemirror_mode": {
    "name": "ipython",
    "version": 3
   },
   "file_extension": ".py",
   "mimetype": "text/x-python",
   "name": "python",
   "nbconvert_exporter": "python",
   "pygments_lexer": "ipython3",
   "version": "3.9.7"
  }
 },
 "nbformat": 4,
 "nbformat_minor": 2
}
