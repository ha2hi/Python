{
 "cells": [
  {
   "cell_type": "code",
   "execution_count": null,
   "metadata": {},
   "outputs": [],
   "source": [
    "# https://www.acmicpc.net/problem/1316\n",
    "n = int(input())\n",
    "res = 0\n",
    "for _ in range(n):\n",
    "    s = input()\n",
    "    stack = set(s[0])\n",
    "    flag = False\n",
    "    for i in range(1, len(s)):\n",
    "        if s[i-1] == s[i]:\n",
    "            continue\n",
    "\n",
    "        if s[i] not in stack:\n",
    "            stack.add(s[i])\n",
    "        else:\n",
    "            flag = True\n",
    "            break\n",
    "    \n",
    "    if not flag:\n",
    "        res += 1\n",
    "        \n",
    "print(res)"
   ]
  },
  {
   "cell_type": "code",
   "execution_count": null,
   "metadata": {},
   "outputs": [],
   "source": []
  }
 ],
 "metadata": {
  "language_info": {
   "name": "python"
  }
 },
 "nbformat": 4,
 "nbformat_minor": 2
}
