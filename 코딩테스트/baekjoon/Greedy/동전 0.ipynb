{
 "cells": [
  {
   "cell_type": "code",
   "execution_count": 2,
   "metadata": {},
   "outputs": [
    {
     "name": "stdout",
     "output_type": "stream",
     "text": [
      "12\n"
     ]
    }
   ],
   "source": [
    "# https://www.acmicpc.net/problem/11047\n",
    "def solution(n,k,coins):\n",
    "    coins.sort(reverse=True)\n",
    "    res = 0\n",
    "\n",
    "    for coin in coins:\n",
    "        res += (k//coin)\n",
    "        k = k%coin\n",
    "\n",
    "        if k == 0:\n",
    "            return res\n",
    "\n",
    "n, k = map(int, input().split())\n",
    "coins = []\n",
    "\n",
    "for _ in range(n):\n",
    "    coins.append(int(input()))\n",
    "\n",
    "print(solution(n,k,coins))"
   ]
  },
  {
   "cell_type": "code",
   "execution_count": null,
   "metadata": {},
   "outputs": [],
   "source": []
  }
 ],
 "metadata": {
  "kernelspec": {
   "display_name": "base",
   "language": "python",
   "name": "python3"
  },
  "language_info": {
   "codemirror_mode": {
    "name": "ipython",
    "version": 3
   },
   "file_extension": ".py",
   "mimetype": "text/x-python",
   "name": "python",
   "nbconvert_exporter": "python",
   "pygments_lexer": "ipython3",
   "version": "3.9.7"
  }
 },
 "nbformat": 4,
 "nbformat_minor": 2
}
