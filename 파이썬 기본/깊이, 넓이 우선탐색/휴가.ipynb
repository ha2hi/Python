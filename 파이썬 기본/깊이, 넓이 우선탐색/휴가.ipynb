{
 "cells": [
  {
   "cell_type": "code",
   "execution_count": null,
   "metadata": {},
   "outputs": [],
   "source": [
    "\"\"\"\n",
    "휴가(삼성 SW역량평가 기출문제 : DFS활용)\n",
    "\n",
    "카운셀러로 일하고 있는 현수는 오늘부터 N+1일째 되는 날 휴가를 가기 위해서, 남은 N일 동 안 최대한 많은 상담을 해서 휴가비를 넉넉히 만들어 휴가를 떠나려 한다.\n",
    "현수가 다니는 회사에 하루에 하나씩 서로 다른 사람의 상담이 예약되어 있다.\n",
    "각각의 상담은 상담을 완료하는데 걸리는 날수 T와 상담을 했을 때 받을 수 있는 금액 P로 이 루어져 있다.\n",
    "만약 N = 7이고, 아래와 같이 예약이 잡혔있다면\n",
    "\n",
    "1일에 잡혀있는 상담은 총 4일이 걸리며, 상담했을 때 받을 수 있는 금액은 20이다. 만약 1일 에 예약된 상담을 하면 4일까지는 상담을 할 수가 없다.\n",
    "하나의 상담이 하루를 넘어가는 경우가 많기 때문에 현수는 예약된 모든 상담을 혼자 할 수 없어 최대 이익이 나는 상담 스케쥴을 짜기로 했다.\n",
    "휴가를 떠나기 전에 할 수 있는 상담의 최대 이익은 1일, 5일, 7일에 있는 상담을 하는 것이 며, 이때의 이익은 20+30+10=60이다.\n",
    "현수가 휴가를 가기 위해 얻을 수 있는 최대 수익을 구하는 프로그램을 작성하시오.\n",
    "\n",
    "▣ 입력설명\n",
    "첫째 줄에 N (1 ≤ N ≤ 15)이 주어진다.\n",
    "둘째 줄부터 1일부터 N일까지 순서대로 주어진다. (1 ≤ T ≤ 7, 1 ≤ P ≤ 100)\n",
    "\n",
    "▣ 출력설명\n",
    "첫째 줄에 현수가 얻을 수 있는 최대 이익을 출력한다.\n",
    "\n",
    "▣ 입력예제 1 \n",
    "7\n",
    "4 20\n",
    "2 10\n",
    "3 15\n",
    "3 20 2 30 2 20 1 10\n",
    "\n",
    "▣ 출력예제 1 \n",
    "60"
   ]
  },
  {
   "cell_type": "code",
   "execution_count": 9,
   "metadata": {},
   "outputs": [],
   "source": [
    "def DFS(v, sum):\n",
    "    global res\n",
    "    if v == n+1:\n",
    "        res = max(res, sum)\n",
    "    else:\n",
    "        if v+a[v][0] <= n+1:\n",
    "            DFS(v+a[v][0], sum+a[v][1])\n",
    "        DFS(v+1, sum)\n",
    "n = int(input())\n",
    "a = [(0,0)]\n",
    "for _ in range(n):\n",
    "    x, y = map(int, input().split())\n",
    "    a.append((x,y))\n",
    "res = 0\n",
    "DFS(1,0)\n",
    "res"
   ]
  },
  {
   "cell_type": "code",
   "execution_count": null,
   "metadata": {},
   "outputs": [],
   "source": []
  },
  {
   "cell_type": "code",
   "execution_count": 16,
   "metadata": {},
   "outputs": [
    {
     "name": "stdout",
     "output_type": "stream",
     "text": [
      "60\n"
     ]
    }
   ],
   "source": [
    "def DFS(v, sum):\n",
    "    global res\n",
    "    if v >= n+1:\n",
    "        res = max(res, sum)\n",
    "    else:\n",
    "        if v+a[v][0] <= n+1:\n",
    "            DFS(v+a[v][0], sum+a[v][1])\n",
    "        DFS(v+1, sum)\n",
    "\n",
    "n = int(input())\n",
    "a = []\n",
    "a.append((0,0))\n",
    "for _ in range(n):\n",
    "    x, y = map(int, input().split())\n",
    "    a.append((x,y))\n",
    "res = 0\n",
    "DFS(1,0)\n",
    "print(res)"
   ]
  },
  {
   "cell_type": "code",
   "execution_count": 15,
   "metadata": {},
   "outputs": [
    {
     "data": {
      "text/plain": [
       "50"
      ]
     },
     "execution_count": 15,
     "metadata": {},
     "output_type": "execute_result"
    }
   ],
   "source": []
  },
  {
   "cell_type": "code",
   "execution_count": null,
   "metadata": {},
   "outputs": [],
   "source": []
  }
 ],
 "metadata": {
  "kernelspec": {
   "display_name": "base",
   "language": "python",
   "name": "python3"
  },
  "language_info": {
   "codemirror_mode": {
    "name": "ipython",
    "version": 3
   },
   "file_extension": ".py",
   "mimetype": "text/x-python",
   "name": "python",
   "nbconvert_exporter": "python",
   "pygments_lexer": "ipython3",
   "version": "3.9.7"
  },
  "orig_nbformat": 4
 },
 "nbformat": 4,
 "nbformat_minor": 2
}
