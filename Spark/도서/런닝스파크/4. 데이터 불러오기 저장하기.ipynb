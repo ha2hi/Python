{
 "cells": [
  {
   "cell_type": "markdown",
   "metadata": {},
   "source": [
    "### 텍스트 파일\n",
    "- 텍스트 파일 불러오기\n",
    "만약 파티션 개수를 조절하고 싶다면 minPartitions를 지정해줄 수 있다.\n",
    "```\n",
    "input = sc.textFile('file:///directory/file_name')\n",
    "```\n",
    "- 텍스트 파일 저장하기\n",
    "```\n",
    "result.saveAsTextFile(outputFile)\n",
    "```\n",
    "### JSON\n",
    "JSON 데이터를 불러들이는 가장 간단한 방법은 데이터를 텍스트 파일로 불러온 뒤 JSON 파서를 사용하여 매핑하는 것 이다.\n",
    "- JSON 파일 불러오기\n",
    "```\n",
    "import json\n",
    "data =input.map(lambda x : json.loads(x))\n",
    "```\n",
    "- JSON 파일 저장하기\n",
    "```\n",
    "(data.filter(lambda x : x['lovesPandas']).map(lambda x : json.dumps(x)).saveAsTextFile(outputFile))\n",
    "```\n"
   ]
  },
  {
   "cell_type": "markdown",
   "metadata": {},
   "source": []
  }
 ],
 "metadata": {
  "language_info": {
   "name": "python"
  }
 },
 "nbformat": 4,
 "nbformat_minor": 2
}
