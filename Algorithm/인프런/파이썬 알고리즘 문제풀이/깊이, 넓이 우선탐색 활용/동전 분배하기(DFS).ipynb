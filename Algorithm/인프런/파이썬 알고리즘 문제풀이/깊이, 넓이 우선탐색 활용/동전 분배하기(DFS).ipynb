{
 "cells": [
  {
   "cell_type": "code",
   "execution_count": 11,
   "metadata": {},
   "outputs": [
    {
     "data": {
      "text/plain": [
       "5"
      ]
     },
     "execution_count": 11,
     "metadata": {},
     "output_type": "execute_result"
    }
   ],
   "source": [
    "def solution(n):\n",
    "    res = float('inf')\n",
    "    a = []\n",
    "    for _ in range(n):\n",
    "        x = int(input())\n",
    "        a.append(x)\n",
    "\n",
    "    def dfs(l,sum_a,sum_b,sum_c):\n",
    "        nonlocal res\n",
    "        if l == n:\n",
    "            diff = max(sum_a, sum_b, sum_c) - min(sum_a, sum_b, sum_c)\n",
    "            if res > diff and len(set([sum_a, sum_b, sum_c]))==3:\n",
    "                res = diff\n",
    "        else:\n",
    "            dfs(l+1,sum_a+a[l],sum_b,sum_c)\n",
    "            dfs(l+1,sum_a,sum_b+a[l],sum_c)\n",
    "            dfs(l+1,sum_a,sum_b,sum_c+a[l])\n",
    "    \n",
    "    dfs(0,0,0,0)\n",
    "    return res\n",
    "\n",
    "n = int(input())\n",
    "solution(n)"
   ]
  },
  {
   "cell_type": "code",
   "execution_count": 16,
   "metadata": {},
   "outputs": [
    {
     "data": {
      "text/plain": [
       "5"
      ]
     },
     "execution_count": 16,
     "metadata": {},
     "output_type": "execute_result"
    }
   ],
   "source": [
    "def solution(n):\n",
    "    res = float('inf')\n",
    "    coins = []\n",
    "    a = [0] * 3\n",
    "    for _ in range(n):\n",
    "        coin = int(input())\n",
    "        coins.append(coin)\n",
    "    def dfs(l):\n",
    "        nonlocal res\n",
    "        if l == n:\n",
    "            diff = max(a) - min(a)\n",
    "            if res > diff and len(set(a)) == 3:\n",
    "                res = diff\n",
    "        else:\n",
    "            for i in range(3):\n",
    "                a[i] += coins[l]\n",
    "                dfs(l+1)\n",
    "                a[i] -= coins[l]\n",
    "    dfs(0)\n",
    "    return res\n",
    "n = int(input())\n",
    "solution(n)"
   ]
  },
  {
   "cell_type": "code",
   "execution_count": null,
   "metadata": {},
   "outputs": [],
   "source": []
  }
 ],
 "metadata": {
  "kernelspec": {
   "display_name": "base",
   "language": "python",
   "name": "python3"
  },
  "language_info": {
   "codemirror_mode": {
    "name": "ipython",
    "version": 3
   },
   "file_extension": ".py",
   "mimetype": "text/x-python",
   "name": "python",
   "nbconvert_exporter": "python",
   "pygments_lexer": "ipython3",
   "version": "3.9.7"
  }
 },
 "nbformat": 4,
 "nbformat_minor": 2
}
