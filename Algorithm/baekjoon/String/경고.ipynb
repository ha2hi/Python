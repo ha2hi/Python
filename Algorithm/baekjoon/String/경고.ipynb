{
 "cells": [
  {
   "cell_type": "code",
   "execution_count": 45,
   "metadata": {},
   "outputs": [
    {
     "name": "stdout",
     "output_type": "stream",
     "text": [
      "08:00:00\n"
     ]
    }
   ],
   "source": [
    "# https://www.acmicpc.net/problem/3029\n",
    "time1 = input()\n",
    "time2 = input()\n",
    "\n",
    "h1, m1, s1 = map(int, time1.split(\":\"))\n",
    "h2, m2, s2 = map(int, time2.split(\":\"))\n",
    "\n",
    "sum1 = h1*3600 + m1*60 + s1\n",
    "sum2 = h2*3600 + m2*60 + s2\n",
    "\n",
    "t = sum2-sum1 if sum2 > sum1 else sum2+86400 - sum1\n",
    "\n",
    "h = t//3600\n",
    "m = t//60 % 60\n",
    "s = t%60\n",
    "\n",
    "print(\"%02d:%02d:%02d\" %(h,m,s))"
   ]
  },
  {
   "cell_type": "code",
   "execution_count": null,
   "metadata": {},
   "outputs": [],
   "source": []
  }
 ],
 "metadata": {
  "kernelspec": {
   "display_name": "base",
   "language": "python",
   "name": "python3"
  },
  "language_info": {
   "codemirror_mode": {
    "name": "ipython",
    "version": 3
   },
   "file_extension": ".py",
   "mimetype": "text/x-python",
   "name": "python",
   "nbconvert_exporter": "python",
   "pygments_lexer": "ipython3",
   "version": "3.9.7"
  }
 },
 "nbformat": 4,
 "nbformat_minor": 2
}
