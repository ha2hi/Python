{
 "cells": [
  {
   "cell_type": "code",
   "execution_count": 1,
   "metadata": {},
   "outputs": [
    {
     "name": "stderr",
     "output_type": "stream",
     "text": [
      "24/08/07 22:47:08 WARN Utils: Your hostname, MZC01-HYUCKSANGCHO.local resolves to a loopback address: 127.0.0.1; using 192.168.0.66 instead (on interface en0)\n",
      "24/08/07 22:47:08 WARN Utils: Set SPARK_LOCAL_IP if you need to bind to another address\n",
      "Setting default log level to \"WARN\".\n",
      "To adjust logging level use sc.setLogLevel(newLevel). For SparkR, use setLogLevel(newLevel).\n",
      "24/08/07 22:47:09 WARN NativeCodeLoader: Unable to load native-hadoop library for your platform... using builtin-java classes where applicable\n"
     ]
    }
   ],
   "source": [
    "from pyspark.sql import SparkSession, Row\n",
    "from pyspark import SparkConf, SparkContext\n",
    "conf = SparkConf().setMaster('local').setAppName('spark-sql-basic')\n",
    "sc = SparkContext(conf = conf)\n",
    "\n",
    "spark = SparkSession.builder.master(\"local\").appName(\"spark-sql-basic\").getOrCreate()"
   ]
  },
  {
   "cell_type": "code",
   "execution_count": 3,
   "metadata": {},
   "outputs": [
    {
     "name": "stderr",
     "output_type": "stream",
     "text": [
      "                                                                                \r"
     ]
    },
    {
     "data": {
      "text/plain": [
       "[['SB10001', '1000'],\n",
       " ['SB10002', '1200'],\n",
       " ['SB10003', '8000'],\n",
       " ['SB10004', '400'],\n",
       " ['SB10005', '300'],\n",
       " ['SB10006', '10000'],\n",
       " ['SB10007', '500'],\n",
       " ['SB10008', '56'],\n",
       " ['SB10009', '30'],\n",
       " ['SB10010', '7000'],\n",
       " ['CR10001', '7000'],\n",
       " ['SB10002', '-10']]"
      ]
     },
     "execution_count": 3,
     "metadata": {},
     "output_type": "execute_result"
    }
   ],
   "source": [
    "acTransList = [\"SB10001,1000\", \"SB10002,1200\", \"SB10003,8000\", \"SB10004,400\", \"SB10005,300\", \"SB10006,10000\", \"SB10007,500\", \"SB10008,56\", \"SB10009,30\",\"SB10010,7000\", \"CR10001,7000\", \"SB10002,-10\"]\n",
    "sc.parallelize(acTransList).map(lambda trans : trans.split(',')).collect()"
   ]
  },
  {
   "cell_type": "code",
   "execution_count": null,
   "metadata": {},
   "outputs": [],
   "source": []
  },
  {
   "cell_type": "markdown",
   "metadata": {},
   "source": []
  }
 ],
 "metadata": {
  "kernelspec": {
   "display_name": "base",
   "language": "python",
   "name": "python3"
  },
  "language_info": {
   "codemirror_mode": {
    "name": "ipython",
    "version": 3
   },
   "file_extension": ".py",
   "mimetype": "text/x-python",
   "name": "python",
   "nbconvert_exporter": "python",
   "pygments_lexer": "ipython3",
   "version": "3.9.7"
  }
 },
 "nbformat": 4,
 "nbformat_minor": 2
}
