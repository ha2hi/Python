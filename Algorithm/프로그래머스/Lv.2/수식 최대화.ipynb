{
 "cells": [
  {
   "cell_type": "code",
   "execution_count": 38,
   "metadata": {},
   "outputs": [
    {
     "data": {
      "text/plain": [
       "300"
      ]
     },
     "execution_count": 38,
     "metadata": {},
     "output_type": "execute_result"
    }
   ],
   "source": [
    "from itertools import permutations\n",
    "import re\n",
    "def calc(x, y, op):\n",
    "    if op == '+':\n",
    "        return x+y\n",
    "    elif op =='*':\n",
    "        return x*y\n",
    "    elif op =='-':\n",
    "        return x-y\n",
    "\n",
    "def solution(expression):\n",
    "    res = 0\n",
    "    op_lists = list(permutations(['+','-','*'], 3))\n",
    "    expression = re.split('([^0-9])', expression)\n",
    "    for op_list in op_lists:\n",
    "        exp = expression.copy()\n",
    "        for op in op_list:\n",
    "            s = []\n",
    "            for e in exp:\n",
    "                if s and s[-1] == op:\n",
    "                    tmp = s.pop()\n",
    "                    s[-1] = calc(int(s[-1]), int(e), tmp)\n",
    "                else:\n",
    "                    s.append(e)\n",
    "            exp = s\n",
    "        res = max(res, abs(exp[0]))\n",
    "    return res\n",
    "    \n",
    "expression = \"50*6-3*2\"\n",
    "solution(expression)"
   ]
  },
  {
   "cell_type": "code",
   "execution_count": null,
   "metadata": {},
   "outputs": [],
   "source": []
  }
 ],
 "metadata": {
  "kernelspec": {
   "display_name": "base",
   "language": "python",
   "name": "python3"
  },
  "language_info": {
   "codemirror_mode": {
    "name": "ipython",
    "version": 3
   },
   "file_extension": ".py",
   "mimetype": "text/x-python",
   "name": "python",
   "nbconvert_exporter": "python",
   "pygments_lexer": "ipython3",
   "version": "3.9.7"
  }
 },
 "nbformat": 4,
 "nbformat_minor": 2
}
