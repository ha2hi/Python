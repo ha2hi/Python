{
 "cells": [
  {
   "cell_type": "code",
   "execution_count": null,
   "metadata": {},
   "outputs": [],
   "source": [
    "# https://school.programmers.co.kr/learn/courses/30/lessons/12907\n",
    "\n",
    "def solution(n, money):\n",
    "    dp = [0]*(n+1)\n",
    "    dp[0] = 1\n",
    "    for typ in money :\n",
    "        for price in range(typ, n+1) :\n",
    "            dp[price] += dp[price - typ] \n",
    "    return dp[-1] % 1000000007\n",
    "\n"
   ]
  }
 ],
 "metadata": {
  "language_info": {
   "name": "python"
  }
 },
 "nbformat": 4,
 "nbformat_minor": 2
}
