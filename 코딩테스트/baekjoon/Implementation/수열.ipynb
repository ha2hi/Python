{
 "cells": [
  {
   "cell_type": "code",
   "execution_count": 4,
   "metadata": {},
   "outputs": [
    {
     "name": "stdout",
     "output_type": "stream",
     "text": [
      "31\n"
     ]
    }
   ],
   "source": [
    "# https://www.acmicpc.net/problem/2559\n",
    "# 시간 초과\n",
    "n, k = map(int, input().split())\n",
    "tmp = list(map(int, input().split()))\n",
    "res = []\n",
    "\n",
    "for i in range(len(tmp)-k+1):\n",
    "    res.append(sum(tmp[i:i+k]))\n",
    "\n",
    "print(max(res))\n"
   ]
  },
  {
   "cell_type": "code",
   "execution_count": 6,
   "metadata": {},
   "outputs": [
    {
     "name": "stdout",
     "output_type": "stream",
     "text": [
      "31\n"
     ]
    }
   ],
   "source": [
    "# 해결\n",
    "n, k = map(int, input().split())\n",
    "a = list(map(int, input().split()))\n",
    "res = [sum(a[:k])]\n",
    "\n",
    "for i in range(n-k):\n",
    "    res.append(res[i] - a[i] + a[i+k])\n",
    "\n",
    "print(max(res))"
   ]
  },
  {
   "cell_type": "code",
   "execution_count": null,
   "metadata": {},
   "outputs": [],
   "source": []
  },
  {
   "cell_type": "code",
   "execution_count": 1,
   "metadata": {},
   "outputs": [
    {
     "name": "stdout",
     "output_type": "stream",
     "text": [
      "[1, -6, -13, -9, 3, 10, 20, 21, 5]\n"
     ]
    }
   ],
   "source": [
    "n, k = map(int, input().split())\n",
    "a = list(map(int, input().split()))\n",
    "res = [sum(a[:k])]\n",
    "\n",
    "for i in range(n-k):\n",
    "    res.append(res[i] + a[k+i] - a[i])\n",
    "print(res)"
   ]
  },
  {
   "cell_type": "code",
   "execution_count": null,
   "metadata": {},
   "outputs": [],
   "source": []
  }
 ],
 "metadata": {
  "kernelspec": {
   "display_name": "base",
   "language": "python",
   "name": "python3"
  },
  "language_info": {
   "codemirror_mode": {
    "name": "ipython",
    "version": 3
   },
   "file_extension": ".py",
   "mimetype": "text/x-python",
   "name": "python",
   "nbconvert_exporter": "python",
   "pygments_lexer": "ipython3",
   "version": "3.9.7"
  }
 },
 "nbformat": 4,
 "nbformat_minor": 2
}
