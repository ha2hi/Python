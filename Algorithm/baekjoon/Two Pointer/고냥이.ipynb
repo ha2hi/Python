{
 "cells": [
  {
   "cell_type": "code",
   "execution_count": 1,
   "metadata": {},
   "outputs": [
    {
     "name": "stdout",
     "output_type": "stream",
     "text": [
      "4\n"
     ]
    }
   ],
   "source": [
    "# https://www.acmicpc.net/problem/16472\n",
    "N = int(input())\n",
    "alpha = input()\n",
    "\n",
    "lt, res = 0, 0\n",
    "char_count = {}\n",
    "\n",
    "for rt in range(len(alpha)):\n",
    "    char_count[alpha[rt]] = char_count.get(alpha[rt], 0) + 1\n",
    "\n",
    "    while len(char_count) > N:\n",
    "        char_count[alpha[lt]] -= 1\n",
    "\n",
    "        if char_count[alpha[lt]] == 0:\n",
    "            del char_count[alpha[lt]]\n",
    "        \n",
    "        lt += 1\n",
    "    \n",
    "    res = max(res, rt-lt+1)\n",
    "    \n",
    "print(res)"
   ]
  },
  {
   "cell_type": "code",
   "execution_count": null,
   "metadata": {},
   "outputs": [],
   "source": []
  }
 ],
 "metadata": {
  "kernelspec": {
   "display_name": "base",
   "language": "python",
   "name": "python3"
  },
  "language_info": {
   "codemirror_mode": {
    "name": "ipython",
    "version": 3
   },
   "file_extension": ".py",
   "mimetype": "text/x-python",
   "name": "python",
   "nbconvert_exporter": "python",
   "pygments_lexer": "ipython3",
   "version": "3.9.7"
  }
 },
 "nbformat": 4,
 "nbformat_minor": 2
}
