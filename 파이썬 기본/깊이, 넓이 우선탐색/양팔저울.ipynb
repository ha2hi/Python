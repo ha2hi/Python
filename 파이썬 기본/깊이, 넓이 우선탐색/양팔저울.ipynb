{
 "cells": [
  {
   "cell_type": "code",
   "execution_count": 2,
   "metadata": {},
   "outputs": [],
   "source": [
    "def DFS(v, water):\n",
    "    if v == k:\n",
    "        res.add(water)\n",
    "    else:\n",
    "        for i in range(k):\n",
    "            DFS(v+1, water-a[i])\n",
    "            DFS(v+1, water)\n",
    "k = int(input())\n",
    "a = list(map(int, input().split()))\n",
    "res = set()\n",
    "DFS(0, sum(a))"
   ]
  },
  {
   "cell_type": "code",
   "execution_count": null,
   "metadata": {},
   "outputs": [],
   "source": []
  },
  {
   "cell_type": "code",
   "execution_count": null,
   "metadata": {},
   "outputs": [],
   "source": []
  }
 ],
 "metadata": {
  "kernelspec": {
   "display_name": "base",
   "language": "python",
   "name": "python3"
  },
  "language_info": {
   "codemirror_mode": {
    "name": "ipython",
    "version": 3
   },
   "file_extension": ".py",
   "mimetype": "text/x-python",
   "name": "python",
   "nbconvert_exporter": "python",
   "pygments_lexer": "ipython3",
   "version": "3.9.7"
  },
  "orig_nbformat": 4
 },
 "nbformat": 4,
 "nbformat_minor": 2
}
