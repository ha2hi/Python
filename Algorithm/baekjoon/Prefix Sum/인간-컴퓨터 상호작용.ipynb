{
 "cells": [
  {
   "cell_type": "code",
   "execution_count": null,
   "metadata": {},
   "outputs": [],
   "source": [
    "# https://www.acmicpc.net/problem/16139\n",
    "s = input()\n",
    "q = int(input())\n",
    "arr = [[0 for i in range(26)] for i in range(len(s))]\n",
    "arr[0][ord(s[0]) - 97] = 1\n",
    "\n",
    "for i in range(1, len(s)):\n",
    "    arr[i][ord(s[i])-97] = 1\n",
    "    for j in range(26):\n",
    "        arr[i][j] += arr[i-1][j]\n",
    "\n",
    "for _ in range(q):\n",
    "    a, l, r = input().split()\n",
    "    if int(l) > 0:\n",
    "        print(arr[int(r)][ord(a)-97] - arr[int(l)-1][ord(a)-97])\n",
    "    else:\n",
    "        print(arr[int(r)][ord(a)-97])"
   ]
  },
  {
   "cell_type": "code",
   "execution_count": null,
   "metadata": {},
   "outputs": [],
   "source": []
  }
 ],
 "metadata": {
  "language_info": {
   "name": "python"
  }
 },
 "nbformat": 4,
 "nbformat_minor": 2
}
