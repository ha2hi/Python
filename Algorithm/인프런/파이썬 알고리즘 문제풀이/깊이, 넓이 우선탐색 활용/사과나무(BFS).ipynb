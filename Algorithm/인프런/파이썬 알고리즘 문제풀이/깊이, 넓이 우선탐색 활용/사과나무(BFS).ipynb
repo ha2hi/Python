{
 "cells": [
  {
   "cell_type": "code",
   "execution_count": 7,
   "metadata": {},
   "outputs": [
    {
     "data": {
      "text/plain": [
       "379"
      ]
     },
     "execution_count": 7,
     "metadata": {},
     "output_type": "execute_result"
    }
   ],
   "source": [
    "from collections import deque\n",
    "def solution(n):\n",
    "    dx = [-1,0,1,0]\n",
    "    dy = [0,1,0,-1]\n",
    "    a = [list(map(int, input().split())) for _ in range(n)]\n",
    "    ch = [[0] * n for _ in range(n)]\n",
    "    ch[n//2][n//2] = 1\n",
    "    q = deque()\n",
    "    q.append((n//2, n//2))\n",
    "    res = a[n//2][n//2]\n",
    "    t = n//2\n",
    "    while t:\n",
    "        l = len(q)\n",
    "        for _ in range(l):\n",
    "            now_x, now_y = q.popleft()\n",
    "            for i in range(4):\n",
    "                next_x = now_x + dx[i]\n",
    "                next_y = now_y + dy[i]\n",
    "                if 0<=next_x<n and 0<=next_y<n and ch[next_x][next_y] == 0:\n",
    "                    ch[next_x][next_y] = 1\n",
    "                    res += a[next_x][next_y]\n",
    "                    q.append((next_x, next_y))\n",
    "        t -= 1\n",
    "    return res\n",
    "\n",
    "\n",
    "\n",
    "n = int(input())\n",
    "solution(n)"
   ]
  },
  {
   "cell_type": "code",
   "execution_count": null,
   "metadata": {},
   "outputs": [],
   "source": []
  }
 ],
 "metadata": {
  "kernelspec": {
   "display_name": "base",
   "language": "python",
   "name": "python3"
  },
  "language_info": {
   "codemirror_mode": {
    "name": "ipython",
    "version": 3
   },
   "file_extension": ".py",
   "mimetype": "text/x-python",
   "name": "python",
   "nbconvert_exporter": "python",
   "pygments_lexer": "ipython3",
   "version": "3.9.7"
  }
 },
 "nbformat": 4,
 "nbformat_minor": 2
}
