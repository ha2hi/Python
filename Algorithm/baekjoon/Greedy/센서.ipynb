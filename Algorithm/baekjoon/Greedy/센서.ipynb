{
 "cells": [
  {
   "cell_type": "code",
   "execution_count": 4,
   "metadata": {},
   "outputs": [
    {
     "name": "stdout",
     "output_type": "stream",
     "text": [
      "7\n"
     ]
    }
   ],
   "source": [
    "# https://www.acmicpc.net/problem/2212\n",
    "def solution(n, k, a):\n",
    "    a.sort()\n",
    "    diff = []\n",
    "    for i in range(n-1):\n",
    "        diff.append(a[i+1]-a[i])\n",
    "    \n",
    "    return sum(sorted(diff)[:n-k])\n",
    "\n",
    "n = int(input())\n",
    "k = int(input())\n",
    "a = list(map(int, input().split()))\n",
    "\n",
    "print(solution(n, k, a))"
   ]
  },
  {
   "cell_type": "code",
   "execution_count": null,
   "metadata": {},
   "outputs": [],
   "source": []
  }
 ],
 "metadata": {
  "kernelspec": {
   "display_name": "base",
   "language": "python",
   "name": "python3"
  },
  "language_info": {
   "codemirror_mode": {
    "name": "ipython",
    "version": 3
   },
   "file_extension": ".py",
   "mimetype": "text/x-python",
   "name": "python",
   "nbconvert_exporter": "python",
   "pygments_lexer": "ipython3",
   "version": "3.9.7"
  }
 },
 "nbformat": 4,
 "nbformat_minor": 2
}
