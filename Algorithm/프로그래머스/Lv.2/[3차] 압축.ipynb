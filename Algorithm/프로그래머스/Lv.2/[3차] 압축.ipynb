{
 "cells": [
  {
   "cell_type": "code",
   "execution_count": 12,
   "metadata": {},
   "outputs": [
    {
     "data": {
      "text/plain": [
       "[20, 15, 2, 5, 15, 18, 14, 15, 20, 27, 29, 31, 36, 30, 32, 34]"
      ]
     },
     "execution_count": 12,
     "metadata": {},
     "output_type": "execute_result"
    }
   ],
   "source": [
    "# https://school.programmers.co.kr/learn/courses/30/lessons/17684\n",
    "from collections import deque\n",
    "def solution(msg):\n",
    "    answer = []\n",
    "    add_dict = dict()\n",
    "    msg = deque(msg)\n",
    "    add = 1\n",
    "    while msg:\n",
    "        now = msg.popleft()\n",
    "\n",
    "        while msg and now + msg[0] in add_dict:\n",
    "            now += msg.popleft()\n",
    "\n",
    "        if len(now) == 1:\n",
    "            answer.append(ord(now)-64)\n",
    "        else:\n",
    "            answer.append(26+add_dict[now])\n",
    "        \n",
    "        if msg:\n",
    "            add_dict[now+msg[0]] = add\n",
    "            add += 1\n",
    "    return answer\n",
    "\n",
    "\n",
    "msg = \"TOBEORNOTTOBEORTOBEORNOT\"\n",
    "solution(msg)"
   ]
  },
  {
   "cell_type": "code",
   "execution_count": null,
   "metadata": {},
   "outputs": [],
   "source": []
  }
 ],
 "metadata": {
  "kernelspec": {
   "display_name": "base",
   "language": "python",
   "name": "python3"
  },
  "language_info": {
   "codemirror_mode": {
    "name": "ipython",
    "version": 3
   },
   "file_extension": ".py",
   "mimetype": "text/x-python",
   "name": "python",
   "nbconvert_exporter": "python",
   "pygments_lexer": "ipython3",
   "version": "3.9.7"
  }
 },
 "nbformat": 4,
 "nbformat_minor": 2
}
