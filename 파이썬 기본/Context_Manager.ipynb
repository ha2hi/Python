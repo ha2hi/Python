{
 "cells": [
  {
   "cell_type": "markdown",
   "metadata": {},
   "source": [
    "Context Manager는 자원 사용 후 더 이상 자원 사용이 필요하지 않을 때 자동으로 정리해주는 기능\n",
    "- 파이썬에서 주로 `with`문을 사용함.\n",
    "- read csv, s3_client.get_object 등 파일이나 소켓을 열고 자원 사용이 필요하지 않을 때 정리를 안하면 메모리를 계속해서 사용하게 됨.\n"
   ]
  },
  {
   "cell_type": "code",
   "execution_count": null,
   "metadata": {},
   "outputs": [
    {
     "name": "stdout",
     "output_type": "stream",
     "text": [
      "<_io.TextIOWrapper name='test file' mode='w' encoding='UTF-8'>\n"
     ]
    }
   ],
   "source": [
    "# 방법1\n",
    "with open('test.txt', 'w') as opend_file:\n",
    "    opend_file.write('Test')\n",
    "\n",
    "# 방법 2\n",
    "file = open('test.txt', 'w')\n",
    "try:\n",
    "    file.write('Test')\n",
    "finally:\n",
    "    file.close()"
   ]
  },
  {
   "cell_type": "code",
   "execution_count": null,
   "metadata": {},
   "outputs": [],
   "source": []
  },
  {
   "cell_type": "code",
   "execution_count": null,
   "metadata": {},
   "outputs": [],
   "source": [
    "# Class로 Context Manager 향상 시키기\n",
    "# Context Manager는 기본적으로 __enter__와 __exit__ 메소드를 가짐\n",
    "\"\"\"\n",
    "1. with문은 File class의 __exit__ 메소드를 저장합니다.\n",
    "2. 이것은 File class의 __enter__메소드를 호출합니다.\n",
    "3. 'enter` 메소드는 파일을 열고 파일을 반환합니다.\n",
    "4. 열려진 파일 처리는 opened_file을 통과합니다.\n",
    "5. .write()를 사용해서 파일을 쓸 수 있습니다.\n",
    "6. with문은 저장된 __exit__ 문을 호출합니다.\n",
    "7. __exit__문은 파일을 닫습니다.\n",
    "\"\"\"\n",
    "class File(object):\n",
    "    def __init__(self, file_name, method):\n",
    "        self.file_obj = open(file_name, method)\n",
    "    def __enter__(self):\n",
    "        return self.file_obj\n",
    "    def __exit__(self, type, value, trace_back):\n",
    "        self.file_obj.close()\n",
    "\n",
    "with File('test.txt', 'wb') as opened_file:\n",
    "    opened_file.wirte('Test')"
   ]
  },
  {
   "cell_type": "code",
   "execution_count": null,
   "metadata": {},
   "outputs": [],
   "source": []
  },
  {
   "cell_type": "code",
   "execution_count": null,
   "metadata": {},
   "outputs": [],
   "source": []
  }
 ],
 "metadata": {
  "kernelspec": {
   "display_name": "pyflink_38",
   "language": "python",
   "name": "python3"
  },
  "language_info": {
   "codemirror_mode": {
    "name": "ipython",
    "version": 3
   },
   "file_extension": ".py",
   "mimetype": "text/x-python",
   "name": "python",
   "nbconvert_exporter": "python",
   "pygments_lexer": "ipython3",
   "version": "3.8.20"
  }
 },
 "nbformat": 4,
 "nbformat_minor": 2
}
