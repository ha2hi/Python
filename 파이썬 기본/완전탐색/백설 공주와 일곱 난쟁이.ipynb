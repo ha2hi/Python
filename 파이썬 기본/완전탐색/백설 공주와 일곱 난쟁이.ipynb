{
 "cells": [
  {
   "cell_type": "code",
   "execution_count": null,
   "metadata": {},
   "outputs": [],
   "source": [
    "# https://www.acmicpc.net/problem/3040\n",
    "from itertools import combinations\n",
    "nanjange = [int(input()) for _ in range(9)]\n",
    "\n",
    "for x in combinations(nanjange, 7):\n",
    "    if sum(x) == 100:\n",
    "        for y in x:\n",
    "            print(y)\n",
    "        break"
   ]
  },
  {
   "cell_type": "code",
   "execution_count": null,
   "metadata": {},
   "outputs": [],
   "source": []
  }
 ],
 "metadata": {
  "kernelspec": {
   "display_name": "base",
   "language": "python",
   "name": "python3"
  },
  "language_info": {
   "name": "python",
   "version": "3.9.7"
  }
 },
 "nbformat": 4,
 "nbformat_minor": 2
}
