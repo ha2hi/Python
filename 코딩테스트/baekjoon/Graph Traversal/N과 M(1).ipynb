{
 "cells": [
  {
   "cell_type": "code",
   "execution_count": null,
   "metadata": {},
   "outputs": [],
   "source": [
    "# https://www.acmicpc.net/problem/15649\n",
    "from itertools import permutations\n",
    "n, m = map(int, input().split())\n",
    "\n",
    "for x in permutations([i for i in range(1,n+1)], m):\n",
    "    print(*x)"
   ]
  },
  {
   "cell_type": "code",
   "execution_count": null,
   "metadata": {},
   "outputs": [],
   "source": [
    "def DFS(L):\n",
    "    global cnt\n",
    "    if L == m:\n",
    "        print(*res)\n",
    "    else:\n",
    "        for i in range(1, n+1):\n",
    "            if ch[i] == 0:\n",
    "                ch[i] = 1\n",
    "                res[L] = i\n",
    "                DFS(L+1)\n",
    "                ch[i] = 0\n",
    "\n",
    "n, m = map(int,input().split())\n",
    "res = [0] * m\n",
    "ch = [0] * (n+1)\n",
    "DFS(0)"
   ]
  }
 ],
 "metadata": {
  "language_info": {
   "name": "python"
  }
 },
 "nbformat": 4,
 "nbformat_minor": 2
}
