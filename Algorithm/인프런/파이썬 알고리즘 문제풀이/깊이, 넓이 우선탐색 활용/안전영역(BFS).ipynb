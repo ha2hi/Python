{
 "cells": [
  {
   "cell_type": "code",
   "execution_count": 32,
   "metadata": {},
   "outputs": [
    {
     "data": {
      "text/plain": [
       "5"
      ]
     },
     "execution_count": 32,
     "metadata": {},
     "output_type": "execute_result"
    }
   ],
   "source": [
    "from collections import deque\n",
    "def solution(n):\n",
    "    board = [list(map(int, input())) for _ in range(n)]\n",
    "    dx = [-1,0,1,0]\n",
    "    dy = [0,1,0,-1]\n",
    "    res = 0\n",
    "    for h in range(4, 5):\n",
    "        ch = [[0] * n for _ in range(n)]\n",
    "        cnt = 0\n",
    "        for i in range(n):\n",
    "            for j in range(n):\n",
    "                if board[i][j] > h and ch[i][j] == 0:\n",
    "                    ch[i][j] = 1\n",
    "                    cnt += 1\n",
    "                    q = deque([(i,j)])\n",
    "                    while q:\n",
    "                        now_x, now_y = q.popleft()\n",
    "                        for r in range(4):\n",
    "                            next_x = now_x + dx[r]\n",
    "                            next_y = now_y + dy[r]\n",
    "                            if 0<=next_x<n and 0<=next_y<n and board[next_x][next_y] > h and ch[next_x][next_y] == 0:\n",
    "                                ch[next_x][next_y] = 1\n",
    "                                q.append((next_x, next_y))\n",
    "\n",
    "        res = max(res, cnt)\n",
    "        if cnt == 0:\n",
    "            break\n",
    "    return res\n",
    "\n",
    "n = int(input())\n",
    "solution(n)"
   ]
  },
  {
   "cell_type": "code",
   "execution_count": null,
   "metadata": {},
   "outputs": [],
   "source": []
  }
 ],
 "metadata": {
  "kernelspec": {
   "display_name": "base",
   "language": "python",
   "name": "python3"
  },
  "language_info": {
   "codemirror_mode": {
    "name": "ipython",
    "version": 3
   },
   "file_extension": ".py",
   "mimetype": "text/x-python",
   "name": "python",
   "nbconvert_exporter": "python",
   "pygments_lexer": "ipython3",
   "version": "3.9.7"
  }
 },
 "nbformat": 4,
 "nbformat_minor": 2
}
