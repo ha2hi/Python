{
 "cells": [
  {
   "cell_type": "code",
   "execution_count": 26,
   "metadata": {},
   "outputs": [
    {
     "data": {
      "text/plain": [
       "'775841'"
      ]
     },
     "execution_count": 26,
     "metadata": {},
     "output_type": "execute_result"
    }
   ],
   "source": [
    "# 시간 초과\n",
    "from itertools import combinations\n",
    "def solution(number, k):\n",
    "    n = len(number)-k\n",
    "    return max(map(lambda x : ''.join(x), list(combinations(number, n))))\n",
    "\n",
    "number = \"4177252841\"\n",
    "k = 4\n",
    "solution(number, k)"
   ]
  },
  {
   "cell_type": "code",
   "execution_count": 37,
   "metadata": {},
   "outputs": [
    {
     "data": {
      "text/plain": [
       "'775841'"
      ]
     },
     "execution_count": 37,
     "metadata": {},
     "output_type": "execute_result"
    }
   ],
   "source": [
    "# stack 활용\n",
    "def solution(number, k):\n",
    "    stack = []\n",
    "    for n in number:\n",
    "        while k >0 and stack and stack[-1] < n:\n",
    "            stack.pop()\n",
    "            k -= 1\n",
    "        stack.append(n)\n",
    "    return ''.join(stack[:len(stack) - k])\n",
    "\n",
    "number = \"4177252841\"\n",
    "k = 4\n",
    "solution(number, k)"
   ]
  },
  {
   "cell_type": "code",
   "execution_count": null,
   "metadata": {},
   "outputs": [],
   "source": []
  }
 ],
 "metadata": {
  "kernelspec": {
   "display_name": "base",
   "language": "python",
   "name": "python3"
  },
  "language_info": {
   "codemirror_mode": {
    "name": "ipython",
    "version": 3
   },
   "file_extension": ".py",
   "mimetype": "text/x-python",
   "name": "python",
   "nbconvert_exporter": "python",
   "pygments_lexer": "ipython3",
   "version": "3.9.7"
  }
 },
 "nbformat": 4,
 "nbformat_minor": 2
}
