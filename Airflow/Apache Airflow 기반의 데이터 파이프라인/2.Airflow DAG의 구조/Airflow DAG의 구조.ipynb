{
 "cells": [
  {
   "attachments": {},
   "cell_type": "markdown",
   "metadata": {},
   "source": [
    "### 2.2.1 태스크와 오퍼레이터 차이점\n",
    "- 오퍼레이터는 단일 작업 수행 역할을 합니다.\n",
    "- Airflow에서 태스크는 작업의 올바른 실행을 보장하기 위한 오퍼레이터의 래퍼 또는 매니저로 생각해 볼 수 있습니다.\n"
   ]
  },
  {
   "attachments": {},
   "cell_type": "markdown",
   "metadata": {},
   "source": [
    "### 2.3.1 파이썬 환경에서 Airflow 실행\n",
    "1. airflow db init\n",
    "2. airflow users create --username admin --password admin --firstname Anonymous \n",
    "--lastname Admin --role Admin --email admin@example.org\n",
    "3. cp download_rocket_launches.py ~/airflow/dags/\n",
    "4. airflow webserver\n",
    "5. airflow scheduler"
   ]
  },
  {
   "attachments": {},
   "cell_type": "markdown",
   "metadata": {},
   "source": [
    "### 2.5 실패한 태스크에 대한 처리\n",
    "- 태스크가 실패한 경우 전체 워크플로를 다시 시작할 필요 없습니다. 실패한 지점부터 다시 시작할 수 있습니다.\n",
    "- 실패한 태스크를 클릭한 후 팝업에서 'clear' 버튼을 클릭합니다. Airflow는 이 태스크를 재 실행합니다."
   ]
  },
  {
   "attachments": {},
   "cell_type": "markdown",
   "metadata": {},
   "source": [
    "### 요약\n",
    "- Airflow의 워크플로는 DAG로 표시합니다.\n",
    "- 오퍼레이터는 단일 태스크를 나타냅니다.\n",
    "- Airflow는 일반적인 작업과 특정 작업 모두에 대한 오퍼레이터의 집합을 포함합니다.\n",
    "- Airflow UI는 DAG 구조를 확인하기 위한 그래프 뷰와 시간 경과에 따른 DAG 실행 상태를 보기 위한 트리 뷰를 제공합니다.\n",
    "- DAG 안의 있는 태스크는 어디에 위치하든지 재시작할 수 있습니다."
   ]
  },
  {
   "cell_type": "code",
   "execution_count": null,
   "metadata": {},
   "outputs": [],
   "source": []
  }
 ],
 "metadata": {
  "kernelspec": {
   "display_name": "base",
   "language": "python",
   "name": "python3"
  },
  "language_info": {
   "codemirror_mode": {
    "name": "ipython",
    "version": 3
   },
   "file_extension": ".py",
   "mimetype": "text/x-python",
   "name": "python",
   "nbconvert_exporter": "python",
   "pygments_lexer": "ipython3",
   "version": "3.9.7"
  },
  "orig_nbformat": 4
 },
 "nbformat": 4,
 "nbformat_minor": 2
}
