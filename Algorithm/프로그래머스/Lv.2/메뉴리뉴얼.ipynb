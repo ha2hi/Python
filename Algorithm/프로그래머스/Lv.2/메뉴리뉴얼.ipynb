{
 "cells": [
  {
   "cell_type": "code",
   "execution_count": 75,
   "metadata": {},
   "outputs": [
    {
     "data": {
      "text/plain": [
       "['WX', 'XY']"
      ]
     },
     "execution_count": 75,
     "metadata": {},
     "output_type": "execute_result"
    }
   ],
   "source": [
    "# https://school.programmers.co.kr/learn/courses/30/lessons/72411\n",
    "from itertools import combinations\n",
    "from collections import defaultdict\n",
    "def solution(orders, course):\n",
    "    answer = []\n",
    "    orders = list(map(lambda x : ''.join(sorted(x)), orders))\n",
    "    for c in course:\n",
    "        tmp = defaultdict(int)\n",
    "        for order in orders:\n",
    "            order = list(order)\n",
    "            for x in combinations(order, c):\n",
    "                tmp[''.join(x)] += 1\n",
    "        for key, val in tmp.items():\n",
    "            if max(tmp.values()) < 2:\n",
    "                break\n",
    "            if val == max(tmp.values()):\n",
    "                answer.append(key)\n",
    "    return sorted(answer)\n",
    "\n",
    "\n",
    "orders = [\"XYZ\", \"XWY\", \"WXA\"]\n",
    "course = [2,3,4]\n",
    "solution(orders, course)"
   ]
  },
  {
   "cell_type": "code",
   "execution_count": 67,
   "metadata": {},
   "outputs": [
    {
     "data": {
      "text/plain": [
       "['XYZ', 'WXY', 'AWX']"
      ]
     },
     "execution_count": 67,
     "metadata": {},
     "output_type": "execute_result"
    }
   ],
   "source": [
    "orders = [\"XYZ\", \"XWY\", \"WXA\"]\n",
    "orders = list(map(lambda x : ''.join(sorted(x)), orders))\n",
    "orders"
   ]
  },
  {
   "cell_type": "code",
   "execution_count": 33,
   "metadata": {},
   "outputs": [
    {
     "data": {
      "text/plain": [
       "dict_values([1, 4, 3])"
      ]
     },
     "execution_count": 33,
     "metadata": {},
     "output_type": "execute_result"
    }
   ],
   "source": [
    "a = {'AB': 1, 'AC': 4, 'AF': 3}\n",
    "a.values()"
   ]
  },
  {
   "cell_type": "code",
   "execution_count": null,
   "metadata": {},
   "outputs": [],
   "source": []
  }
 ],
 "metadata": {
  "kernelspec": {
   "display_name": "base",
   "language": "python",
   "name": "python3"
  },
  "language_info": {
   "codemirror_mode": {
    "name": "ipython",
    "version": 3
   },
   "file_extension": ".py",
   "mimetype": "text/x-python",
   "name": "python",
   "nbconvert_exporter": "python",
   "pygments_lexer": "ipython3",
   "version": "3.9.7"
  }
 },
 "nbformat": 4,
 "nbformat_minor": 2
}
