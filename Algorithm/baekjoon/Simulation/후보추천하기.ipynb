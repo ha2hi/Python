{
 "cells": [
  {
   "cell_type": "code",
   "execution_count": null,
   "metadata": {},
   "outputs": [],
   "source": [
    "# https://www.acmicpc.net/problem/1713\n",
    "n = int(input())\n",
    "m = int(input())\n",
    "students = list(map(int, input().split()))\n",
    "res = []\n",
    "idx = []\n",
    "\n",
    "for s in students:\n",
    "    if s in res:\n",
    "        idx[res.index(s)] += 1\n",
    "    else:\n",
    "        if len(res) >= n:\n",
    "            index = idx.index(min(idx))\n",
    "            del res[index]\n",
    "            del idx[index]\n",
    "        \n",
    "        res.append(s)\n",
    "        idx.append(1)\n",
    "\n",
    "res.sort()\n",
    "print(' '.join(map(str, res)))"
   ]
  },
  {
   "cell_type": "code",
   "execution_count": null,
   "metadata": {},
   "outputs": [],
   "source": []
  }
 ],
 "metadata": {
  "kernelspec": {
   "display_name": "base",
   "language": "python",
   "name": "python3"
  },
  "language_info": {
   "codemirror_mode": {
    "name": "ipython",
    "version": 3
   },
   "file_extension": ".py",
   "mimetype": "text/x-python",
   "name": "python",
   "nbconvert_exporter": "python",
   "pygments_lexer": "ipython3",
   "version": "3.9.7"
  }
 },
 "nbformat": 4,
 "nbformat_minor": 2
}
