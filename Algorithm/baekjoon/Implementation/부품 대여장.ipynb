{
 "cells": [
  {
   "cell_type": "code",
   "execution_count": 1,
   "metadata": {},
   "outputs": [
    {
     "name": "stdout",
     "output_type": "stream",
     "text": [
      "tony9402 1\n"
     ]
    }
   ],
   "source": [
    "# https://www.acmicpc.net/problem/21942\n",
    "from collections import defaultdict\n",
    "from datetime import datetime\n",
    "\n",
    "n, l, f = input().split()\n",
    "fee_member = defaultdict(int)\n",
    "l_d, l_h, l_m = int(l[:3]), int(l[4:6]), int(l[7:])\n",
    "total_l = (l_d*24*60) + (l_h*60) + l_m\n",
    "\n",
    "check = {}\n",
    "\n",
    "for _ in range(int(n)):\n",
    "    date, time, p, m = input().split()\n",
    "    now_t = datetime.strptime(date + ' ' + time, \"%Y-%m-%d %H:%M\")\n",
    "    \n",
    "    if (m, p) in check:\n",
    "        prev_t = check[(m, p)]\n",
    "        diff_time = now_t - prev_t\n",
    "        total_time = (diff_time.days * 24 * 60) + (diff_time.seconds // 60)\n",
    "\n",
    "        remain_time = total_time - total_l\n",
    "\n",
    "        if remain_time > 0:\n",
    "            fee_member[m] += (remain_time * int(f))\n",
    "\n",
    "        del check[(m, p)]\n",
    "    else:\n",
    "        check[(m, p)] = now_t\n",
    "\n",
    "if fee_member:\n",
    "    for x, y in sorted(fee_member.items()):\n",
    "        print(x, y)\n",
    "else:\n",
    "    print(-1)\n"
   ]
  },
  {
   "cell_type": "code",
   "execution_count": null,
   "metadata": {},
   "outputs": [],
   "source": []
  }
 ],
 "metadata": {
  "kernelspec": {
   "display_name": "base",
   "language": "python",
   "name": "python3"
  },
  "language_info": {
   "codemirror_mode": {
    "name": "ipython",
    "version": 3
   },
   "file_extension": ".py",
   "mimetype": "text/x-python",
   "name": "python",
   "nbconvert_exporter": "python",
   "pygments_lexer": "ipython3",
   "version": "3.9.7"
  }
 },
 "nbformat": 4,
 "nbformat_minor": 2
}
