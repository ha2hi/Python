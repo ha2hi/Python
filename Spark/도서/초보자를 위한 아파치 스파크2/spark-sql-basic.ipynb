{
 "cells": [
  {
   "cell_type": "code",
   "execution_count": 1,
   "metadata": {},
   "outputs": [
    {
     "name": "stderr",
     "output_type": "stream",
     "text": [
      "24/08/08 22:52:31 WARN Utils: Your hostname, MZC01-HYUCKSANGCHO.local resolves to a loopback address: 127.0.0.1; using 192.168.0.14 instead (on interface en0)\n",
      "24/08/08 22:52:31 WARN Utils: Set SPARK_LOCAL_IP if you need to bind to another address\n",
      "Setting default log level to \"WARN\".\n",
      "To adjust logging level use sc.setLogLevel(newLevel). For SparkR, use setLogLevel(newLevel).\n",
      "24/08/08 22:52:32 WARN NativeCodeLoader: Unable to load native-hadoop library for your platform... using builtin-java classes where applicable\n"
     ]
    }
   ],
   "source": [
    "from pyspark.sql import SparkSession, Row\n",
    "from pyspark import SparkConf, SparkContext\n",
    "conf = SparkConf().setMaster('local').setAppName('spark-sql-basic')\n",
    "sc = SparkContext(conf = conf)\n",
    "\n",
    "spark = SparkSession.builder.master(\"local\").appName(\"spark-sql-basic\").getOrCreate()"
   ]
  },
  {
   "cell_type": "markdown",
   "metadata": {},
   "source": [
    "### SQL Processing"
   ]
  },
  {
   "cell_type": "code",
   "execution_count": 2,
   "metadata": {},
   "outputs": [
    {
     "name": "stderr",
     "output_type": "stream",
     "text": [
      "                                                                                \r"
     ]
    }
   ],
   "source": [
    "acTransList = [\"SB10001,1000\", \"SB10002,1200\", \"SB10003,8000\", \"SB10004,400\", \"SB10005,300\", \"SB10006,10000\", \"SB10007,500\", \"SB10008,56\", \"SB10009,30\",\"SB10010,7000\", \"CR10001,7000\", \"SB10002,-10\"]\n",
    "acTransDF = sc.parallelize(acTransList).map(lambda trans : trans.split(',')).map(lambda t : Row(accNo=t[0], tranAmount=float(t[1]))).toDF()"
   ]
  },
  {
   "cell_type": "code",
   "execution_count": 3,
   "metadata": {},
   "outputs": [
    {
     "name": "stdout",
     "output_type": "stream",
     "text": [
      "+-------+----------+\n",
      "|  accNo|tranAmount|\n",
      "+-------+----------+\n",
      "|SB10001|    1000.0|\n",
      "|SB10002|    1200.0|\n",
      "|SB10003|    8000.0|\n",
      "|SB10004|     400.0|\n",
      "|SB10005|     300.0|\n",
      "|SB10006|   10000.0|\n",
      "|SB10007|     500.0|\n",
      "|SB10008|      56.0|\n",
      "|SB10009|      30.0|\n",
      "|SB10010|    7000.0|\n",
      "|CR10001|    7000.0|\n",
      "|SB10002|     -10.0|\n",
      "+-------+----------+\n",
      "\n"
     ]
    }
   ],
   "source": [
    "acTransDF.show()"
   ]
  },
  {
   "cell_type": "code",
   "execution_count": 4,
   "metadata": {},
   "outputs": [
    {
     "name": "stdout",
     "output_type": "stream",
     "text": [
      "root\n",
      " |-- accNo: string (nullable = true)\n",
      " |-- tranAmount: double (nullable = true)\n",
      "\n"
     ]
    }
   ],
   "source": [
    "acTransDF.printSchema()"
   ]
  },
  {
   "cell_type": "code",
   "execution_count": 5,
   "metadata": {},
   "outputs": [],
   "source": [
    "acTransDF.createOrReplaceTempView(\"trans\")"
   ]
  },
  {
   "cell_type": "code",
   "execution_count": 6,
   "metadata": {},
   "outputs": [
    {
     "name": "stdout",
     "output_type": "stream",
     "text": [
      "+-------+----------+\n",
      "|  accNo|tranAmount|\n",
      "+-------+----------+\n",
      "|SB10001|    1000.0|\n",
      "|SB10002|    1200.0|\n",
      "|SB10003|    8000.0|\n",
      "|SB10004|     400.0|\n",
      "|SB10005|     300.0|\n",
      "|SB10006|   10000.0|\n",
      "|SB10007|     500.0|\n",
      "|SB10008|      56.0|\n",
      "|SB10009|      30.0|\n",
      "|SB10010|    7000.0|\n",
      "+-------+----------+\n",
      "\n"
     ]
    }
   ],
   "source": [
    "goodTransRecords = spark.sql(\"SELECT accNo, tranAmount FROM trans WHERE accNo like 'SB%' AND tranAmount > 0\")\n",
    "goodTransRecords.show()"
   ]
  },
  {
   "cell_type": "code",
   "execution_count": 7,
   "metadata": {},
   "outputs": [],
   "source": [
    "goodTransRecords.createOrReplaceTempView(\"goodtrans\")"
   ]
  },
  {
   "cell_type": "code",
   "execution_count": 8,
   "metadata": {},
   "outputs": [
    {
     "name": "stdout",
     "output_type": "stream",
     "text": [
      "+-------+----------+\n",
      "|  accNo|tranAmount|\n",
      "+-------+----------+\n",
      "|SB10002|    1200.0|\n",
      "|SB10003|    8000.0|\n",
      "|SB10006|   10000.0|\n",
      "|SB10010|    7000.0|\n",
      "+-------+----------+\n",
      "\n"
     ]
    }
   ],
   "source": [
    "highValueTransRecords = spark.sql(\"SELECT accNo, tranAmount FROM goodtrans WHERE tranAmount > 1000\")\n",
    "highValueTransRecords.show()"
   ]
  },
  {
   "cell_type": "code",
   "execution_count": 9,
   "metadata": {},
   "outputs": [
    {
     "name": "stdout",
     "output_type": "stream",
     "text": [
      "+-------+----------+\n",
      "|  accNo|tranAmount|\n",
      "+-------+----------+\n",
      "|CR10001|    7000.0|\n",
      "+-------+----------+\n",
      "\n"
     ]
    }
   ],
   "source": [
    "badAccountRecords = spark.sql(\"SELECT accNo, tranAmount FROM trans WHERE accNo NOT like 'SB%'\")\n",
    "badAccountRecords.show()"
   ]
  },
  {
   "cell_type": "code",
   "execution_count": 10,
   "metadata": {},
   "outputs": [
    {
     "name": "stdout",
     "output_type": "stream",
     "text": [
      "+-------+----------+\n",
      "|  accNo|tranAmount|\n",
      "+-------+----------+\n",
      "|SB10002|     -10.0|\n",
      "+-------+----------+\n",
      "\n"
     ]
    }
   ],
   "source": [
    "badAmountRecords = spark.sql(\"SELECT accNo, tranAmount FROM trans WHERE tranAmount < 0\")\n",
    "badAmountRecords.show()"
   ]
  },
  {
   "cell_type": "code",
   "execution_count": 11,
   "metadata": {},
   "outputs": [
    {
     "name": "stdout",
     "output_type": "stream",
     "text": [
      "+-------+----------+\n",
      "|  accNo|tranAmount|\n",
      "+-------+----------+\n",
      "|CR10001|    7000.0|\n",
      "|SB10002|     -10.0|\n",
      "+-------+----------+\n",
      "\n"
     ]
    }
   ],
   "source": [
    "badTransRecords = badAccountRecords.union(badAmountRecords)\n",
    "badTransRecords.show()"
   ]
  },
  {
   "cell_type": "code",
   "execution_count": 12,
   "metadata": {},
   "outputs": [
    {
     "name": "stdout",
     "output_type": "stream",
     "text": [
      "+-------+\n",
      "|    sum|\n",
      "+-------+\n",
      "|28486.0|\n",
      "+-------+\n",
      "\n"
     ]
    }
   ],
   "source": [
    "sumAmount = spark.sql(\"SELECT sum(tranAmount)as sum FROM goodtrans\")\n",
    "sumAmount.show()"
   ]
  },
  {
   "cell_type": "code",
   "execution_count": 13,
   "metadata": {},
   "outputs": [
    {
     "name": "stdout",
     "output_type": "stream",
     "text": [
      "+-------+\n",
      "|    max|\n",
      "+-------+\n",
      "|10000.0|\n",
      "+-------+\n",
      "\n"
     ]
    }
   ],
   "source": [
    "maxAmount = spark.sql(\"SELECT max(tranAmount) as max FROM goodtrans\")\n",
    "maxAmount.show()"
   ]
  },
  {
   "cell_type": "code",
   "execution_count": 14,
   "metadata": {},
   "outputs": [
    {
     "name": "stdout",
     "output_type": "stream",
     "text": [
      "+----+\n",
      "| min|\n",
      "+----+\n",
      "|30.0|\n",
      "+----+\n",
      "\n"
     ]
    }
   ],
   "source": [
    "minAmount = spark.sql(\"SELECT min(tranAmount)as min FROM goodtrans\")\n",
    "minAmount.show()"
   ]
  },
  {
   "cell_type": "code",
   "execution_count": 15,
   "metadata": {},
   "outputs": [
    {
     "name": "stdout",
     "output_type": "stream",
     "text": [
      "+-------+\n",
      "|  accNo|\n",
      "+-------+\n",
      "|SB10001|\n",
      "|SB10002|\n",
      "|SB10003|\n",
      "|SB10004|\n",
      "|SB10005|\n",
      "|SB10006|\n",
      "|SB10007|\n",
      "|SB10008|\n",
      "|SB10009|\n",
      "|SB10010|\n",
      "+-------+\n",
      "\n"
     ]
    }
   ],
   "source": [
    "goodAccNos = spark.sql(\"SELECT DISTINCT accNo FROM trans WHERE accNo like 'SB%' ORDER BY accNo\")\n",
    "goodAccNos.show()"
   ]
  },
  {
   "cell_type": "code",
   "execution_count": null,
   "metadata": {},
   "outputs": [],
   "source": []
  },
  {
   "cell_type": "markdown",
   "metadata": {},
   "source": [
    "### DataFrame to RDD Processing"
   ]
  },
  {
   "cell_type": "code",
   "execution_count": 16,
   "metadata": {},
   "outputs": [
    {
     "name": "stdout",
     "output_type": "stream",
     "text": [
      "+-------+----------+\n",
      "|  accNo|tranAmount|\n",
      "+-------+----------+\n",
      "|SB10001|    1000.0|\n",
      "|SB10002|    1200.0|\n",
      "|SB10003|    8000.0|\n",
      "|SB10004|     400.0|\n",
      "|SB10005|     300.0|\n",
      "|SB10006|   10000.0|\n",
      "|SB10007|     500.0|\n",
      "|SB10008|      56.0|\n",
      "|SB10009|      30.0|\n",
      "|SB10010|    7000.0|\n",
      "+-------+----------+\n",
      "\n"
     ]
    }
   ],
   "source": [
    "goodTransRecords.show()"
   ]
  },
  {
   "cell_type": "code",
   "execution_count": 17,
   "metadata": {},
   "outputs": [
    {
     "data": {
      "text/plain": [
       "28486.0"
      ]
     },
     "execution_count": 17,
     "metadata": {},
     "output_type": "execute_result"
    }
   ],
   "source": [
    "sumAmountByMixing = goodTransRecords.rdd.map(lambda trans : trans.tranAmount).reduce(lambda a, b : a+b)\n",
    "sumAmountByMixing"
   ]
  },
  {
   "cell_type": "code",
   "execution_count": 20,
   "metadata": {},
   "outputs": [
    {
     "data": {
      "text/plain": [
       "10000.0"
      ]
     },
     "execution_count": 20,
     "metadata": {},
     "output_type": "execute_result"
    }
   ],
   "source": [
    "maxAmountByMixing = goodTransRecords.rdd.map(lambda trans : trans.tranAmount).reduce(lambda a, b : a if a > b else b)\n",
    "maxAmountByMixing"
   ]
  },
  {
   "cell_type": "code",
   "execution_count": 22,
   "metadata": {},
   "outputs": [
    {
     "data": {
      "text/plain": [
       "30.0"
      ]
     },
     "execution_count": 22,
     "metadata": {},
     "output_type": "execute_result"
    }
   ],
   "source": [
    "minAmountByMixing = goodTransRecords.rdd.map(lambda trans : trans.tranAmount).reduce(lambda a, b : b if a>b else a)\n",
    "minAmountByMixing"
   ]
  },
  {
   "cell_type": "code",
   "execution_count": null,
   "metadata": {},
   "outputs": [],
   "source": []
  },
  {
   "cell_type": "markdown",
   "metadata": {},
   "source": [
    "### DataFrame API"
   ]
  },
  {
   "cell_type": "code",
   "execution_count": 23,
   "metadata": {},
   "outputs": [
    {
     "name": "stdout",
     "output_type": "stream",
     "text": [
      "+-------+----------+\n",
      "|  accNo|tranAmount|\n",
      "+-------+----------+\n",
      "|SB10001|    1000.0|\n",
      "|SB10002|    1200.0|\n",
      "|SB10003|    8000.0|\n",
      "|SB10004|     400.0|\n",
      "|SB10005|     300.0|\n",
      "|SB10006|   10000.0|\n",
      "|SB10007|     500.0|\n",
      "|SB10008|      56.0|\n",
      "|SB10009|      30.0|\n",
      "|SB10010|    7000.0|\n",
      "|CR10001|    7000.0|\n",
      "|SB10002|     -10.0|\n",
      "+-------+----------+\n",
      "\n"
     ]
    }
   ],
   "source": [
    "acTransDF.show()"
   ]
  },
  {
   "cell_type": "code",
   "execution_count": 24,
   "metadata": {},
   "outputs": [
    {
     "name": "stdout",
     "output_type": "stream",
     "text": [
      "root\n",
      " |-- accNo: string (nullable = true)\n",
      " |-- tranAmount: double (nullable = true)\n",
      "\n"
     ]
    }
   ],
   "source": [
    "acTransDF.printSchema()"
   ]
  },
  {
   "cell_type": "code",
   "execution_count": 29,
   "metadata": {},
   "outputs": [
    {
     "name": "stdout",
     "output_type": "stream",
     "text": [
      "+-------+----------+\n",
      "|  accNo|tranAmount|\n",
      "+-------+----------+\n",
      "|SB10001|    1000.0|\n",
      "|SB10002|    1200.0|\n",
      "|SB10003|    8000.0|\n",
      "|SB10004|     400.0|\n",
      "|SB10005|     300.0|\n",
      "|SB10006|   10000.0|\n",
      "|SB10007|     500.0|\n",
      "|SB10008|      56.0|\n",
      "|SB10009|      30.0|\n",
      "|SB10010|    7000.0|\n",
      "+-------+----------+\n",
      "\n"
     ]
    }
   ],
   "source": [
    "goodTransRecords = acTransDF.filter(\"accNo like 'SB%'\").filter(\"tranAmount>0\")\n",
    "goodTransRecords.show()"
   ]
  },
  {
   "cell_type": "code",
   "execution_count": 30,
   "metadata": {},
   "outputs": [
    {
     "name": "stdout",
     "output_type": "stream",
     "text": [
      "+-------+----------+\n",
      "|  accNo|tranAmount|\n",
      "+-------+----------+\n",
      "|SB10002|    1200.0|\n",
      "|SB10003|    8000.0|\n",
      "|SB10006|   10000.0|\n",
      "|SB10010|    7000.0|\n",
      "+-------+----------+\n",
      "\n"
     ]
    }
   ],
   "source": [
    "highValueTransRecords = goodTransRecords.filter(\"tranAmount > 1000\")\n",
    "highValueTransRecords.show()"
   ]
  },
  {
   "cell_type": "code",
   "execution_count": 32,
   "metadata": {},
   "outputs": [
    {
     "name": "stdout",
     "output_type": "stream",
     "text": [
      "+-------+----------+\n",
      "|  accNo|tranAmount|\n",
      "+-------+----------+\n",
      "|CR10001|    7000.0|\n",
      "+-------+----------+\n",
      "\n"
     ]
    }
   ],
   "source": [
    "badAccountRecords = acTransDF.filter(\"accNo NOT like 'SB%'\")\n",
    "badAccountRecords.show()"
   ]
  },
  {
   "cell_type": "code",
   "execution_count": 33,
   "metadata": {},
   "outputs": [
    {
     "name": "stdout",
     "output_type": "stream",
     "text": [
      "+-------+----------+\n",
      "|  accNo|tranAmount|\n",
      "+-------+----------+\n",
      "|SB10002|     -10.0|\n",
      "+-------+----------+\n",
      "\n"
     ]
    }
   ],
   "source": [
    "badAmountRecords = acTransDF.filter(\"tranAmount<0\")\n",
    "badAmountRecords.show()"
   ]
  },
  {
   "cell_type": "code",
   "execution_count": 35,
   "metadata": {},
   "outputs": [
    {
     "name": "stdout",
     "output_type": "stream",
     "text": [
      "+-------+----------+\n",
      "|  accNo|tranAmount|\n",
      "+-------+----------+\n",
      "|CR10001|    7000.0|\n",
      "|SB10002|     -10.0|\n",
      "+-------+----------+\n",
      "\n"
     ]
    }
   ],
   "source": [
    "badAccountRecords.union(badAmountRecords).show()"
   ]
  },
  {
   "cell_type": "code",
   "execution_count": 41,
   "metadata": {},
   "outputs": [
    {
     "name": "stdout",
     "output_type": "stream",
     "text": [
      "+---------------+\n",
      "|sum(tranAmount)|\n",
      "+---------------+\n",
      "|        28486.0|\n",
      "+---------------+\n",
      "\n"
     ]
    }
   ],
   "source": [
    "sumAmount = goodTransRecords.agg({\"tranAmount\":\"sum\"})\n",
    "sumAmount.show()"
   ]
  },
  {
   "cell_type": "code",
   "execution_count": 43,
   "metadata": {},
   "outputs": [
    {
     "name": "stdout",
     "output_type": "stream",
     "text": [
      "+---------------+\n",
      "|max(tranAmount)|\n",
      "+---------------+\n",
      "|        10000.0|\n",
      "+---------------+\n",
      "\n"
     ]
    }
   ],
   "source": [
    "goodTransRecords.agg({\"tranAmount\":\"max\"}).show()"
   ]
  },
  {
   "cell_type": "code",
   "execution_count": 44,
   "metadata": {},
   "outputs": [
    {
     "name": "stdout",
     "output_type": "stream",
     "text": [
      "+---------------+\n",
      "|min(tranAmount)|\n",
      "+---------------+\n",
      "|           30.0|\n",
      "+---------------+\n",
      "\n"
     ]
    }
   ],
   "source": [
    "goodTransRecords.agg({\"tranAmount\":\"min\"}).show()"
   ]
  },
  {
   "cell_type": "code",
   "execution_count": 54,
   "metadata": {},
   "outputs": [
    {
     "name": "stdout",
     "output_type": "stream",
     "text": [
      "+-------+\n",
      "|  accNo|\n",
      "+-------+\n",
      "|SB10001|\n",
      "|SB10002|\n",
      "|SB10002|\n",
      "|SB10003|\n",
      "|SB10004|\n",
      "|SB10005|\n",
      "|SB10006|\n",
      "|SB10007|\n",
      "|SB10008|\n",
      "|SB10009|\n",
      "|SB10010|\n",
      "+-------+\n",
      "\n"
     ]
    }
   ],
   "source": [
    "acTransDF.filter(\"accNo like 'SB%'\").select(\"accNo\").orderBy(\"accNo\").show()"
   ]
  },
  {
   "cell_type": "code",
   "execution_count": 55,
   "metadata": {},
   "outputs": [
    {
     "name": "stderr",
     "output_type": "stream",
     "text": [
      "                                                                                \r"
     ]
    }
   ],
   "source": [
    "acTransDF.write.parquet(\"python.trans.parquet\")\n"
   ]
  },
  {
   "cell_type": "code",
   "execution_count": 56,
   "metadata": {},
   "outputs": [
    {
     "name": "stdout",
     "output_type": "stream",
     "text": [
      "+-------+----------+\n",
      "|  accNo|tranAmount|\n",
      "+-------+----------+\n",
      "|SB10001|    1000.0|\n",
      "|SB10002|    1200.0|\n",
      "|SB10003|    8000.0|\n",
      "|SB10004|     400.0|\n",
      "|SB10005|     300.0|\n",
      "|SB10006|   10000.0|\n",
      "|SB10007|     500.0|\n",
      "|SB10008|      56.0|\n",
      "|SB10009|      30.0|\n",
      "|SB10010|    7000.0|\n",
      "|CR10001|    7000.0|\n",
      "|SB10002|     -10.0|\n",
      "+-------+----------+\n",
      "\n"
     ]
    }
   ],
   "source": [
    "acTransDFfromParquet = spark.read.parquet(\"python.trans.parquet\")\n",
    "acTransDFfromParquet.show()"
   ]
  },
  {
   "cell_type": "code",
   "execution_count": null,
   "metadata": {},
   "outputs": [],
   "source": []
  },
  {
   "cell_type": "markdown",
   "metadata": {},
   "source": [
    "### 스파크SQL 집계"
   ]
  },
  {
   "cell_type": "code",
   "execution_count": 64,
   "metadata": {},
   "outputs": [
    {
     "name": "stdout",
     "output_type": "stream",
     "text": [
      "+-------+----------+\n",
      "|  accNo|tranAmount|\n",
      "+-------+----------+\n",
      "|SB10001|    1000.0|\n",
      "|SB10002|    1200.0|\n",
      "|SB10001|    8000.0|\n",
      "|SB10002|     400.0|\n",
      "|SB10003|     300.0|\n",
      "|SB10001|   10000.0|\n",
      "|SB10004|     500.0|\n",
      "|SB10005|      56.0|\n",
      "|SB10003|      30.0|\n",
      "|SB10002|    7000.0|\n",
      "|SB10001|    -100.0|\n",
      "|SB10002|     -10.0|\n",
      "+-------+----------+\n",
      "\n"
     ]
    }
   ],
   "source": [
    "from pyspark.sql import Row\n",
    "acTransList = [\"SB10001,1000\", \"SB10002,1200\", \"SB10001,8000\",\"SB10002,400\", \"SB10003,300\", \"SB10001,10000\",\"SB10004,500\",\"SB10005,56\",\"SB10003,30\",\"SB10002,7000\", \"SB10001,-100\",\"SB10002,-10\"]\n",
    "acTransDF = sc.parallelize(acTransList).map(lambda trans : trans.split(\",\")).map(lambda p : Row(accNo = p[0], tranAmount=float(p[1]))).toDF()\n",
    "acTransDF.show()"
   ]
  },
  {
   "cell_type": "code",
   "execution_count": 65,
   "metadata": {},
   "outputs": [],
   "source": [
    "acTransDF.createOrReplaceTempView(\"trans\")"
   ]
  },
  {
   "cell_type": "code",
   "execution_count": 66,
   "metadata": {},
   "outputs": [
    {
     "name": "stdout",
     "output_type": "stream",
     "text": [
      "+-------+----------+\n",
      "|  accNo|transTotal|\n",
      "+-------+----------+\n",
      "|SB10005|      56.0|\n",
      "|SB10004|     500.0|\n",
      "|SB10003|     330.0|\n",
      "|SB10002|    8590.0|\n",
      "|SB10001|   18900.0|\n",
      "+-------+----------+\n",
      "\n"
     ]
    }
   ],
   "source": [
    "acSummary = spark.sql(\"SELECT accNo, sum(tranAmount) as transTotal FROM trans GROUP BY accNo\")\n",
    "acSummary.show()"
   ]
  },
  {
   "cell_type": "code",
   "execution_count": 74,
   "metadata": {},
   "outputs": [
    {
     "name": "stdout",
     "output_type": "stream",
     "text": [
      "+-------+----------+\n",
      "|  accNo|transTotal|\n",
      "+-------+----------+\n",
      "|SB10005|      56.0|\n",
      "|SB10004|     500.0|\n",
      "|SB10003|     330.0|\n",
      "|SB10002|    8590.0|\n",
      "|SB10001|   18900.0|\n",
      "+-------+----------+\n",
      "\n"
     ]
    }
   ],
   "source": [
    "acSummaryViaDFAPI = acTransDF.groupBy(\"accNo\").agg({\"tranAmount\":\"sum\"}).selectExpr(\"accNo\", \"`sum(tranAmount)` as transTotal\")\n",
    "acSummaryViaDFAPI.show()"
   ]
  },
  {
   "cell_type": "code",
   "execution_count": null,
   "metadata": {},
   "outputs": [],
   "source": []
  },
  {
   "cell_type": "code",
   "execution_count": 81,
   "metadata": {},
   "outputs": [],
   "source": [
    "AcMaster = Row('accNo', 'firstName', 'lastName')\n",
    "AcBal = Row('accNo', 'balanceAmount')\n",
    "\n",
    "acMasterList = [\"SB10001,Roger,Federer\",\"SB10002,Pete,Sampras\", \"SB10003,Rafael,Nadal\",\"SB10004,Boris,Becker\", \"SB10005,Ivan,Lendl\"]\n",
    "acBalList = [\"SB10001,50000\", \"SB10002,12000\",\"SB10003,3000\", \"SB10004,8500\", \"SB10005,5000\"]\n",
    "\n",
    "\n",
    "acMasterDF = sc.parallelize(acMasterList).map(lambda trans : trans.split(',')).map(lambda t : AcMaster(*t)).toDF()\n",
    "acBalDF = sc.parallelize(acBalList).map(lambda trans: trans.split(\",\")).map(lambda r: AcBal(r[0], float(r[1]))).toDF()"
   ]
  },
  {
   "cell_type": "code",
   "execution_count": 82,
   "metadata": {},
   "outputs": [
    {
     "name": "stdout",
     "output_type": "stream",
     "text": [
      "+-------+---------+--------+\n",
      "|  accNo|firstName|lastName|\n",
      "+-------+---------+--------+\n",
      "|SB10001|    Roger| Federer|\n",
      "|SB10002|     Pete| Sampras|\n",
      "|SB10003|   Rafael|   Nadal|\n",
      "|SB10004|    Boris|  Becker|\n",
      "|SB10005|     Ivan|   Lendl|\n",
      "+-------+---------+--------+\n",
      "\n"
     ]
    }
   ],
   "source": [
    "acMasterDF.show()"
   ]
  },
  {
   "cell_type": "code",
   "execution_count": 83,
   "metadata": {},
   "outputs": [
    {
     "name": "stdout",
     "output_type": "stream",
     "text": [
      "+-------+-------------+\n",
      "|  accNo|balanceAmount|\n",
      "+-------+-------------+\n",
      "|SB10001|      50000.0|\n",
      "|SB10002|      12000.0|\n",
      "|SB10003|       3000.0|\n",
      "|SB10004|       8500.0|\n",
      "|SB10005|       5000.0|\n",
      "+-------+-------------+\n",
      "\n"
     ]
    }
   ],
   "source": [
    "acBalDF.show()"
   ]
  },
  {
   "cell_type": "code",
   "execution_count": 84,
   "metadata": {},
   "outputs": [],
   "source": [
    "acMasterDF.write.parquet(\"python.master.parquet\")\n",
    "acBalDF.write.json(\"pythonMaster.json\")\n"
   ]
  },
  {
   "cell_type": "code",
   "execution_count": 85,
   "metadata": {},
   "outputs": [],
   "source": [
    "acMasterDFFromFile = spark.read.parquet(\"python.master.parquet\")\n",
    "acMasterDFFromFile.createOrReplaceTempView(\"master\")\n",
    "\n",
    "acBalDFFromFile = spark.read.json(\"pythonMaster.json\")\n",
    "acBalDFFromFile.createOrReplaceTempView(\"balance\")"
   ]
  },
  {
   "cell_type": "code",
   "execution_count": 86,
   "metadata": {},
   "outputs": [
    {
     "name": "stdout",
     "output_type": "stream",
     "text": [
      "+-------+---------+--------+\n",
      "|  accNo|firstName|lastName|\n",
      "+-------+---------+--------+\n",
      "|SB10001|    Roger| Federer|\n",
      "|SB10002|     Pete| Sampras|\n",
      "|SB10003|   Rafael|   Nadal|\n",
      "|SB10004|    Boris|  Becker|\n",
      "|SB10005|     Ivan|   Lendl|\n",
      "+-------+---------+--------+\n",
      "\n"
     ]
    }
   ],
   "source": [
    "acMasterDFFromFile.show()"
   ]
  },
  {
   "cell_type": "code",
   "execution_count": 87,
   "metadata": {},
   "outputs": [
    {
     "name": "stdout",
     "output_type": "stream",
     "text": [
      "+-------+-------------+\n",
      "|  accNo|balanceAmount|\n",
      "+-------+-------------+\n",
      "|SB10001|      50000.0|\n",
      "|SB10002|      12000.0|\n",
      "|SB10003|       3000.0|\n",
      "|SB10004|       8500.0|\n",
      "|SB10005|       5000.0|\n",
      "+-------+-------------+\n",
      "\n"
     ]
    }
   ],
   "source": [
    "acBalDFFromFile.show()"
   ]
  },
  {
   "cell_type": "code",
   "execution_count": 88,
   "metadata": {},
   "outputs": [
    {
     "name": "stdout",
     "output_type": "stream",
     "text": [
      "+-------+---------+--------+-------------+\n",
      "|  accNo|firstName|lastName|balanceAmount|\n",
      "+-------+---------+--------+-------------+\n",
      "|SB10001|    Roger| Federer|      50000.0|\n",
      "|SB10002|     Pete| Sampras|      12000.0|\n",
      "|SB10004|    Boris|  Becker|       8500.0|\n",
      "|SB10005|     Ivan|   Lendl|       5000.0|\n",
      "|SB10003|   Rafael|   Nadal|       3000.0|\n",
      "+-------+---------+--------+-------------+\n",
      "\n"
     ]
    }
   ],
   "source": [
    "acDetail = spark.sql(\"SELECT master.accNo, firstName, lastName, balanceAmount FROM master, balance WHERE master.accNo = balance.accNo ORDER BY balanceAmount DESC\")\n",
    "\n",
    "acDetail.show()"
   ]
  },
  {
   "cell_type": "code",
   "execution_count": 89,
   "metadata": {},
   "outputs": [
    {
     "name": "stdout",
     "output_type": "stream",
     "text": [
      "+-------+---------+--------+-------------+\n",
      "|  accNo|firstName|lastName|balanceAmount|\n",
      "+-------+---------+--------+-------------+\n",
      "|SB10001|    Roger| Federer|      50000.0|\n",
      "|SB10002|     Pete| Sampras|      12000.0|\n",
      "|SB10004|    Boris|  Becker|       8500.0|\n",
      "|SB10005|     Ivan|   Lendl|       5000.0|\n",
      "|SB10003|   Rafael|   Nadal|       3000.0|\n",
      "+-------+---------+--------+-------------+\n",
      "\n"
     ]
    }
   ],
   "source": [
    "acDetailFromAPI = acMasterDFFromFile.join(acBalDFFromFile, acMasterDFFromFile.accNo == acBalDFFromFile.accNo).sort(acBalDFFromFile.balanceAmount, ascending=False).select(acMasterDFFromFile.accNo, acMasterDFFromFile.firstName, acMasterDFFromFile.lastName, acBalDFFromFile.balanceAmount)\n",
    "\n",
    "acDetailFromAPI.show()\n"
   ]
  },
  {
   "cell_type": "code",
   "execution_count": 90,
   "metadata": {},
   "outputs": [
    {
     "name": "stdout",
     "output_type": "stream",
     "text": [
      "+-------+---------+--------+-------------+\n",
      "|  accNo|firstName|lastName|balanceAmount|\n",
      "+-------+---------+--------+-------------+\n",
      "|SB10001|    Roger| Federer|      50000.0|\n",
      "|SB10002|     Pete| Sampras|      12000.0|\n",
      "|SB10004|    Boris|  Becker|       8500.0|\n",
      "+-------+---------+--------+-------------+\n",
      "\n"
     ]
    }
   ],
   "source": [
    "acDetailTop3 = spark.sql(\"SELECT master.accNo, firstName, lastName, balanceAmount FROM master, balance WHERE master.accNo = balance.accNo ORDER BY balanceAmount DESC\").limit(3)\n",
    "\n",
    "acDetailTop3.show()"
   ]
  },
  {
   "cell_type": "code",
   "execution_count": null,
   "metadata": {},
   "outputs": [],
   "source": []
  },
  {
   "cell_type": "markdown",
   "metadata": {},
   "source": [
    "# Spark Catalog"
   ]
  },
  {
   "cell_type": "code",
   "execution_count": 92,
   "metadata": {},
   "outputs": [
    {
     "data": {
      "text/plain": [
       "[Database(name='default', catalog='spark_catalog', description='default database', locationUri='file:/Users/mzc01-hyucksangcho/Desktop/python/Spark/도서/초보자를%2520위한%2520아파치%2520스파크2/spark-warehouse')]"
      ]
     },
     "execution_count": 92,
     "metadata": {},
     "output_type": "execute_result"
    }
   ],
   "source": [
    "catalog = spark.catalog\n",
    "catalog.listDatabases()"
   ]
  },
  {
   "cell_type": "code",
   "execution_count": 93,
   "metadata": {},
   "outputs": [
    {
     "data": {
      "text/plain": [
       "[Table(name='balance', catalog=None, namespace=[], description=None, tableType='TEMPORARY', isTemporary=True),\n",
       " Table(name='goodtrans', catalog=None, namespace=[], description=None, tableType='TEMPORARY', isTemporary=True),\n",
       " Table(name='master', catalog=None, namespace=[], description=None, tableType='TEMPORARY', isTemporary=True),\n",
       " Table(name='trans', catalog=None, namespace=[], description=None, tableType='TEMPORARY', isTemporary=True)]"
      ]
     },
     "execution_count": 93,
     "metadata": {},
     "output_type": "execute_result"
    }
   ],
   "source": [
    "catalog.listTables()"
   ]
  },
  {
   "cell_type": "code",
   "execution_count": null,
   "metadata": {},
   "outputs": [],
   "source": []
  }
 ],
 "metadata": {
  "kernelspec": {
   "display_name": "base",
   "language": "python",
   "name": "python3"
  },
  "language_info": {
   "codemirror_mode": {
    "name": "ipython",
    "version": 3
   },
   "file_extension": ".py",
   "mimetype": "text/x-python",
   "name": "python",
   "nbconvert_exporter": "python",
   "pygments_lexer": "ipython3",
   "version": "3.9.7"
  }
 },
 "nbformat": 4,
 "nbformat_minor": 2
}
