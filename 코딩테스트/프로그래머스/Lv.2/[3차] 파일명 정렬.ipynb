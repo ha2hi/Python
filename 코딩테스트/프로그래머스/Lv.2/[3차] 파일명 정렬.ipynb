{
 "cells": [
  {
   "cell_type": "code",
   "execution_count": 61,
   "metadata": {},
   "outputs": [
    {
     "data": {
      "text/plain": [
       "['A-10 Thunderbolt II',\n",
       " 'B-50 Superfortress',\n",
       " 'F-5 Freedom Fighter',\n",
       " 'F-14 Tomcat']"
      ]
     },
     "execution_count": 61,
     "metadata": {},
     "output_type": "execute_result"
    }
   ],
   "source": [
    "import re\n",
    "def solution(files):\n",
    "    answer = []\n",
    "    for file in files:\n",
    "        alpha = re.split('[0-9]', file)[0].upper()\n",
    "        for x in re.split('[^0-9]', file):\n",
    "            if x.isdigit():\n",
    "                digit = int(x)\n",
    "                break\n",
    "        answer.append([file, alpha, digit])\n",
    "    return [x[0] for x in sorted(answer, key = lambda x : (x[1], x[2]))]\n",
    "\n",
    "\n",
    "files = [\"F-5 Freedom Fighter\", \"B-50 Superfortress\", \"A-10 Thunderbolt II\", \"F-14 Tomcat\"]\n",
    "solution(files)"
   ]
  },
  {
   "cell_type": "code",
   "execution_count": null,
   "metadata": {},
   "outputs": [],
   "source": []
  }
 ],
 "metadata": {
  "kernelspec": {
   "display_name": "base",
   "language": "python",
   "name": "python3"
  },
  "language_info": {
   "codemirror_mode": {
    "name": "ipython",
    "version": 3
   },
   "file_extension": ".py",
   "mimetype": "text/x-python",
   "name": "python",
   "nbconvert_exporter": "python",
   "pygments_lexer": "ipython3",
   "version": "3.9.7"
  }
 },
 "nbformat": 4,
 "nbformat_minor": 2
}
