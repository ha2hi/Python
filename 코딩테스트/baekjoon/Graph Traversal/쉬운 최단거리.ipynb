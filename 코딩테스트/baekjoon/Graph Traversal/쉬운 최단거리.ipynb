{
 "cells": [
  {
   "cell_type": "code",
   "execution_count": 3,
   "metadata": {},
   "outputs": [
    {
     "name": "stdout",
     "output_type": "stream",
     "text": [
      "0 1 2 3 4 5 6 7 8 9 10 11 12 13 14 \n",
      "1 2 3 4 5 6 7 8 9 10 11 12 13 14 15 \n",
      "2 3 4 5 6 7 8 9 10 11 12 13 14 15 16 \n",
      "3 4 5 6 7 8 9 10 11 12 13 14 15 16 17 \n",
      "4 5 6 7 8 9 10 11 12 13 14 15 16 17 18 \n",
      "5 6 7 8 9 10 11 12 13 14 15 16 17 18 19 \n",
      "6 7 8 9 10 11 12 13 14 15 16 17 18 19 20 \n",
      "7 8 9 10 11 12 13 14 15 16 17 18 19 20 21 \n",
      "8 9 10 11 12 13 14 15 16 17 18 19 20 21 22 \n",
      "9 10 11 12 13 14 15 16 17 18 19 20 21 22 23 \n",
      "10 11 12 13 14 15 16 17 18 19 20 21 22 23 24 \n",
      "11 12 13 14 15 16 17 18 19 20 0 0 0 0 25 \n",
      "12 13 14 15 16 17 18 19 20 21 0 29 28 27 26 \n",
      "13 14 15 16 17 18 19 20 21 22 0 30 0 0 0 \n",
      "14 15 16 17 18 19 20 21 22 23 0 31 32 33 34 \n"
     ]
    }
   ],
   "source": [
    "# https://www.acmicpc.net/problem/14940\n",
    "from collections import deque\n",
    "def check(n, m):\n",
    "    for i in range(n):\n",
    "        for j in range(m):\n",
    "            if board[i][j] == 2:\n",
    "                return (i, j) \n",
    "\n",
    "def bfs(x, y, board, ch):\n",
    "    q = deque()\n",
    "    q.append((x,y))\n",
    "    ch[x][y] = 0\n",
    "    while q:\n",
    "        now_x, now_y = q.popleft()\n",
    "        for i in range(4):\n",
    "            xx = now_x + dx[i]\n",
    "            yy = now_y + dy[i]\n",
    "            if 0<=xx<n and 0<=yy<n and ch[xx][yy] == -1:\n",
    "                if board[xx][yy] == 0:\n",
    "                    ch[xx][yy] = 0\n",
    "                elif board[xx][yy] == 1:\n",
    "                    ch[xx][yy] = ch[now_x][now_y] + 1\n",
    "                    q.append((xx,yy))\n",
    "\n",
    "n, m = map(int, input().split())\n",
    "board = [list(map(int, input().split())) for _ in range(n)]\n",
    "ch = [[-1] * m for _ in range(n)]\n",
    "dx = [-1,0,1,0]\n",
    "dy = [0,1,0,-1]\n",
    "x, y = check(n,m)\n",
    "bfs(x, y, board, ch)\n",
    "\n",
    "for i in range(n):\n",
    "    for j in range(m):\n",
    "        print(ch[i][j], end = \" \")\n",
    "    print()"
   ]
  },
  {
   "cell_type": "code",
   "execution_count": 11,
   "metadata": {},
   "outputs": [
    {
     "data": {
      "text/plain": [
       "[[0, 1, 2, 3, 4, 5, 6, 7, 8, 9, 10, 11, 12, 13, 14],\n",
       " [1, 2, 3, 4, 5, 6, 7, 8, 9, 10, 11, 12, 13, 14, 15],\n",
       " [2, 3, 4, 5, 6, 7, 8, 9, 10, 11, 12, 13, 14, 15, 16],\n",
       " [3, 4, 5, 6, 7, 8, 9, 10, 11, 12, 13, 14, 15, 16, 17],\n",
       " [4, 5, 6, 7, 8, 9, 10, 11, 12, 13, 14, 15, 16, 17, 18],\n",
       " [5, 6, 7, 8, 9, 10, 11, 12, 13, 14, 15, 16, 17, 18, 19],\n",
       " [6, 7, 8, 9, 10, 11, 12, 13, 14, 15, 16, 17, 18, 19, 20],\n",
       " [7, 8, 9, 10, 11, 12, 13, 14, 15, 16, 17, 18, 19, 20, 21],\n",
       " [8, 9, 10, 11, 12, 13, 14, 15, 16, 17, 18, 19, 20, 21, 22],\n",
       " [9, 10, 11, 12, 13, 14, 15, 16, 17, 18, 19, 20, 21, 22, 23],\n",
       " [10, 11, 12, 13, 14, 15, 16, 17, 18, 19, 20, 21, 22, 23, 24],\n",
       " [11, 12, 13, 14, 15, 16, 17, 18, 19, 20, 0, 0, 0, 0, 25],\n",
       " [12, 13, 14, 15, 16, 17, 18, 19, 20, 21, 0, 29, 28, 27, 26],\n",
       " [13, 14, 15, 16, 17, 18, 19, 20, 21, 22, 0, 30, 0, 0, 0],\n",
       " [14, 15, 16, 17, 18, 19, 20, 21, 22, 23, 0, 31, 32, 33, 34]]"
      ]
     },
     "execution_count": 11,
     "metadata": {},
     "output_type": "execute_result"
    }
   ],
   "source": [
    "res"
   ]
  },
  {
   "cell_type": "code",
   "execution_count": null,
   "metadata": {},
   "outputs": [],
   "source": []
  }
 ],
 "metadata": {
  "kernelspec": {
   "display_name": "base",
   "language": "python",
   "name": "python3"
  },
  "language_info": {
   "codemirror_mode": {
    "name": "ipython",
    "version": 3
   },
   "file_extension": ".py",
   "mimetype": "text/x-python",
   "name": "python",
   "nbconvert_exporter": "python",
   "pygments_lexer": "ipython3",
   "version": "3.9.7"
  }
 },
 "nbformat": 4,
 "nbformat_minor": 2
}
