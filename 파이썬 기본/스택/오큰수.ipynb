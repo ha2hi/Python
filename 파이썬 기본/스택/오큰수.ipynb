{
 "cells": [
  {
   "cell_type": "code",
   "execution_count": 1,
   "metadata": {},
   "outputs": [
    {
     "name": "stdout",
     "output_type": "stream",
     "text": [
      "5 7 7 -1\n"
     ]
    }
   ],
   "source": [
    "# https://www.acmicpc.net/problem/17298\n",
    "def solution(n, numbers):\n",
    "    answer = [-1] * n\n",
    "    stack = []\n",
    "    for i, num in enumerate(numbers):\n",
    "        if not stack:\n",
    "            stack.append((num, i))\n",
    "            continue\n",
    "        while stack and stack[-1][0] < num:\n",
    "            val, idx = stack.pop()\n",
    "            answer[idx] = num\n",
    "        \n",
    "        stack.append((num,i ))\n",
    "\n",
    "    return ' '.join(map(str, answer))\n",
    "\n",
    "\n",
    "n = int(input())\n",
    "numbers = list(map(int, input().split()))\n",
    "print(solution(n, numbers))"
   ]
  },
  {
   "cell_type": "code",
   "execution_count": null,
   "metadata": {},
   "outputs": [],
   "source": []
  }
 ],
 "metadata": {
  "kernelspec": {
   "display_name": "pyflink_38",
   "language": "python",
   "name": "python3"
  },
  "language_info": {
   "codemirror_mode": {
    "name": "ipython",
    "version": 3
   },
   "file_extension": ".py",
   "mimetype": "text/x-python",
   "name": "python",
   "nbconvert_exporter": "python",
   "pygments_lexer": "ipython3",
   "version": "3.8.20"
  }
 },
 "nbformat": 4,
 "nbformat_minor": 2
}
