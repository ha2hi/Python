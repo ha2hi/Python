{
 "cells": [
  {
   "cell_type": "code",
   "execution_count": 119,
   "metadata": {},
   "outputs": [
    {
     "data": {
      "text/plain": [
       "[4, 9]"
      ]
     },
     "execution_count": 119,
     "metadata": {},
     "output_type": "execute_result"
    }
   ],
   "source": [
    "def solution(arr):\n",
    "    answer = [0,0]\n",
    "    n = len(arr)\n",
    "\n",
    "    def dfs(x,y,l):\n",
    "        start = arr[x][y]\n",
    "        for i in range(x, x+l):\n",
    "            for j in range(y, y+l):\n",
    "                if start != arr[i][j]:\n",
    "                    l //= 2\n",
    "                    dfs(x,y,l)\n",
    "                    dfs(x,y+l,l)\n",
    "                    dfs(x+l,y,l)\n",
    "                    dfs(x+l,y+l,l)\n",
    "                    return\n",
    "        answer[start] += 1\n",
    "\n",
    "    dfs(0,0,n)\n",
    "    \n",
    "    return answer\n",
    "\n",
    "arr = [[1,1,0,0],[1,0,0,0],[1,0,0,1],[1,1,1,1]]\n",
    "solution(arr)      "
   ]
  },
  {
   "cell_type": "code",
   "execution_count": null,
   "metadata": {},
   "outputs": [],
   "source": []
  }
 ],
 "metadata": {
  "kernelspec": {
   "display_name": "base",
   "language": "python",
   "name": "python3"
  },
  "language_info": {
   "codemirror_mode": {
    "name": "ipython",
    "version": 3
   },
   "file_extension": ".py",
   "mimetype": "text/x-python",
   "name": "python",
   "nbconvert_exporter": "python",
   "pygments_lexer": "ipython3",
   "version": "3.9.7"
  },
  "orig_nbformat": 4
 },
 "nbformat": 4,
 "nbformat_minor": 2
}
