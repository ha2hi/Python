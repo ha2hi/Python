{
 "cells": [
  {
   "cell_type": "code",
   "execution_count": 9,
   "metadata": {},
   "outputs": [
    {
     "name": "stdout",
     "output_type": "stream",
     "text": [
      "3\n",
      "7\n",
      "8\n",
      "9\n"
     ]
    }
   ],
   "source": [
    "# https://www.acmicpc.net/problem/2667\n",
    "from typing import List\n",
    "def dfs(x: int, y: int, board: List[List[int]]):\n",
    "    global cnt\n",
    "    board[x][y] = 0\n",
    "    for i in range(4):\n",
    "        next_x = x + dx[i]\n",
    "        next_y = y + dy[i]\n",
    "        if 0<=next_x<n and 0<=next_y<n and board[next_x][next_y] == 1:\n",
    "            cnt += 1\n",
    "            dfs(next_x,next_y,board)\n",
    "    return cnt\n",
    "\n",
    "n = int(input())\n",
    "board = [list(map(int, input())) for _ in range(n)]\n",
    "dx = [-1,0,1,0]\n",
    "dy = [0,1,0,-1]\n",
    "res = []\n",
    "for i in range(n):\n",
    "    for j in range(n):\n",
    "        if board[i][j] == 1:\n",
    "            cnt = 1\n",
    "            res.append(dfs(i,j,board))\n",
    "\n",
    "print(len(res))\n",
    "print(*sorted(res), sep='\\n')"
   ]
  },
  {
   "cell_type": "code",
   "execution_count": 2,
   "metadata": {},
   "outputs": [
    {
     "data": {
      "text/plain": [
       "[[110100], [110101], [1110101], [111], [100000], [111110], [111000]]"
      ]
     },
     "execution_count": 2,
     "metadata": {},
     "output_type": "execute_result"
    }
   ],
   "source": [
    "board"
   ]
  },
  {
   "cell_type": "code",
   "execution_count": null,
   "metadata": {},
   "outputs": [
    {
     "data": {
      "text/plain": [
       "False"
      ]
     },
     "metadata": {},
     "output_type": "display_data"
    }
   ],
   "source": []
  },
  {
   "cell_type": "code",
   "execution_count": null,
   "metadata": {},
   "outputs": [],
   "source": []
  }
 ],
 "metadata": {
  "kernelspec": {
   "display_name": "base",
   "language": "python",
   "name": "python3"
  },
  "language_info": {
   "codemirror_mode": {
    "name": "ipython",
    "version": 3
   },
   "file_extension": ".py",
   "mimetype": "text/x-python",
   "name": "python",
   "nbconvert_exporter": "python",
   "pygments_lexer": "ipython3",
   "version": "3.9.7"
  }
 },
 "nbformat": 4,
 "nbformat_minor": 2
}
