{
 "cells": [
  {
   "cell_type": "markdown",
   "metadata": {},
   "source": [
    "Spark에는 2가지 Operation이 존재\n",
    "1. Transformation\n",
    "- 결과값으로 새로운 RDD를 반환\n",
    "- 지연 실행 - Lazy Execution\n",
    "\n",
    "2. Actions\n",
    "- 결과값을 연산하여 출력하거나 저장\n",
    "- 즉시 실행\n",
    "\n",
    "왜? 연산으로 2가지로 나눴을까? \n",
    "이유는 메모리를 최대한 활용할 수있게하기 위해(디스크, 네트워크 연산을 최소화할 수 있게하기 위해)"
   ]
  },
  {
   "cell_type": "markdown",
   "metadata": {
    "vscode": {
     "languageId": "plaintext"
    }
   },
   "source": [
    "데이터를 메모리에 남겨두고 싶을 때 사용할 수 있는 함수\n",
    "1. Cache()\n",
    "2. Persist()"
   ]
  },
  {
   "cell_type": "markdown",
   "metadata": {},
   "source": [
    "cache()와 persist()로 데이터를 메모리에 저장해두고 사용할 수 있다.\n",
    "이 때 여러 종류의 Storage Level이 있다.\n",
    "1) MEMORY_ONLY - 메모리에만 저장\n",
    "2) MEMORY_AND_DISK - 메모리와 디스크에 저장\n",
    "3) MEMORY_ONLY_SER - 메모리에만 시리얼 라이져 시킨 다음 저장\n",
    "4) MEMORY_AND_DISK_SER - 메모리와 디스크에 시리얼라이져 시킨 다음 저장\n",
    "5) DISK_ONLY - 디스크에만 저장"
   ]
  },
  {
   "cell_type": "markdown",
   "metadata": {},
   "source": [
    "### Cache\n",
    "- Default Storage Level 사용\n",
    "- RDD - MEMORY_ONLY\n",
    "- DataFrame - MEMORY_AND_DISK"
   ]
  },
  {
   "cell_type": "markdown",
   "metadata": {},
   "source": [
    "### Persist\n",
    "- Storage Level을 사용자가 원하는 대로 지정 가능"
   ]
  }
 ],
 "metadata": {
  "language_info": {
   "name": "python"
  }
 },
 "nbformat": 4,
 "nbformat_minor": 2
}
