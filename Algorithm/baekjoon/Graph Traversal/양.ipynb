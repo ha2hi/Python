{
 "cells": [
  {
   "cell_type": "code",
   "execution_count": null,
   "metadata": {},
   "outputs": [],
   "source": [
    "# https://www.acmicpc.net/problem/3184\n",
    "from collections import deque\n",
    "r, c = map(int, input().split())\n",
    "board = [list(input()) for _ in range(r)]\n",
    "ch = [[False]*c for _ in range(r)]\n",
    "dx = [-1,0,1,0]\n",
    "dy = [0,1,0,-1]\n",
    "res = [0, 0]\n",
    "for i in range(r):\n",
    "    for j in range(c):\n",
    "        if (board[i][j] == 'v' or board[i][j] == 'o') and not ch[i][j]:\n",
    "            q = deque([(i, j)])\n",
    "            ch[i][j] = True\n",
    "            o_cnt, v_cnt = 0, 0\n",
    "            while q:\n",
    "                x, y = q.popleft()\n",
    "                if board[x][y] == 'o':\n",
    "                    o_cnt += 1\n",
    "                elif board[x][y] == 'v':\n",
    "                    v_cnt += 1\n",
    "                \n",
    "                for k in range(4):\n",
    "                    xx = x + dx[k]\n",
    "                    yy = y + dy[k]\n",
    "                    if 0<=xx<r and 0<=yy<c and not ch[xx][yy] and board[xx][yy] != '#':\n",
    "                        ch[xx][yy] = True\n",
    "                        q.append((xx,yy))\n",
    "            \n",
    "            if o_cnt > v_cnt:\n",
    "                res[0] += o_cnt\n",
    "            else:\n",
    "                res[1] += v_cnt\n",
    "\n",
    "print(*res)"
   ]
  }
 ],
 "metadata": {
  "language_info": {
   "name": "python"
  }
 },
 "nbformat": 4,
 "nbformat_minor": 2
}
