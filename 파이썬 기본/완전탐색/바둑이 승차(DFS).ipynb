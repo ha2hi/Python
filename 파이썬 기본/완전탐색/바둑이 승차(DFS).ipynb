{
 "cells": [
  {
   "cell_type": "code",
   "execution_count": null,
   "metadata": {},
   "outputs": [],
   "source": [
    "\"\"\"\n",
    "바둑이 승차(DFS)\n",
    "\n",
    "철수는 그의 바둑이들을 데리고 시장에 가려고 한다. 그런데 그의 트럭은 C킬로그램 넘게 태 울수가 없다. 철수는 C를 넘지 않으면서 그의 바둑이들을 가장 무겁게 태우고 싶다.\n",
    "N마리의 바둑이와 각 바둑이의 무게 W가 주어지면, 철수가 트럭에 태울 수 있는 가장 무거운 무게를 구하는 프로그램을 작성하세요.\n",
    "\n",
    "\n",
    "▣ 입력설명\n",
    "첫 번째 줄에 자연수 C(1<=C<=100,000,000)와 N(1<=N<=30)이 주어집니다. 둘째 줄부터 N마리 바둑이의 무게가 주어진다.\n",
    "\n",
    "▣ 출력설명\n",
    "첫 번째 줄에 가장 무거운 무게를 출력한다.\n",
    "\n",
    "▣ 입력예제 1 \n",
    "259 5\n",
    "81\n",
    "58\n",
    "42 \n",
    "33 \n",
    "61\n",
    "\n",
    "▣ 출력예제 1 \n",
    "242"
   ]
  },
  {
   "cell_type": "code",
   "execution_count": 10,
   "metadata": {},
   "outputs": [
    {
     "name": "stdout",
     "output_type": "stream",
     "text": [
      "242\n"
     ]
    }
   ],
   "source": [
    "def DFS(v, sum, tsum):\n",
    "    global res\n",
    "    if sum + (total-tsum) < res:\n",
    "        return\n",
    "    if sum > c:\n",
    "        return\n",
    "\n",
    "    if v == n:\n",
    "        res = max(res, sum)\n",
    "    else:\n",
    "        DFS(v+1,sum+a[v], tsum+a[v])\n",
    "        DFS(v+1, sum, tsum+a[v])\n",
    "\n",
    "\n",
    "c, n = map(int, input().split())\n",
    "a = []\n",
    "for _ in range(n):\n",
    "    x = int(input())\n",
    "    a.append(x)\n",
    "res = 0\n",
    "total = sum(a)\n",
    "DFS(0,0,0)\n",
    "print(res)"
   ]
  },
  {
   "cell_type": "code",
   "execution_count": null,
   "metadata": {},
   "outputs": [],
   "source": []
  }
 ],
 "metadata": {
  "kernelspec": {
   "display_name": "base",
   "language": "python",
   "name": "python3"
  },
  "language_info": {
   "codemirror_mode": {
    "name": "ipython",
    "version": 3
   },
   "file_extension": ".py",
   "mimetype": "text/x-python",
   "name": "python",
   "nbconvert_exporter": "python",
   "pygments_lexer": "ipython3",
   "version": "3.9.7"
  },
  "orig_nbformat": 4
 },
 "nbformat": 4,
 "nbformat_minor": 2
}
