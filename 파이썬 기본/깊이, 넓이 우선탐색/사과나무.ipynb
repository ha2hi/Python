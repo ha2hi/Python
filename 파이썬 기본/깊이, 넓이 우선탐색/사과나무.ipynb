{
 "cells": [
  {
   "cell_type": "code",
   "execution_count": 12,
   "metadata": {},
   "outputs": [
    {
     "name": "stdout",
     "output_type": "stream",
     "text": [
      "379\n"
     ]
    }
   ],
   "source": [
    "from collections import deque\n",
    "dx = [1,0,-1,0]\n",
    "dy = [0,1,0,-1]\n",
    "n = int(input())\n",
    "a = [list(map(int, input().split())) for _ in range(n)]\n",
    "ch = [[0] * n for _ in range(n)]\n",
    "ch[n//2][n//2] = 1\n",
    "res = a[n//2][n//2]\n",
    "q = deque()\n",
    "q.append((n//2, n//2))\n",
    "L = 0\n",
    "while q:\n",
    "    if L == n//2:\n",
    "        break\n",
    "    size = len(q)\n",
    "    for i in range(size):\n",
    "        now_x, now_y = q.popleft()\n",
    "        for j in range(4):\n",
    "            next_x = now_x + dx[j]\n",
    "            next_y = now_y + dy[j]\n",
    "            if ch[next_x][next_y] ==0:\n",
    "                    ch[next_x][next_y] = 1\n",
    "                    q.append((next_x, next_y))\n",
    "                    res += a[next_x][next_y]\n",
    "    L+=1\n",
    "print(res)"
   ]
  },
  {
   "cell_type": "code",
   "execution_count": null,
   "metadata": {},
   "outputs": [],
   "source": []
  }
 ],
 "metadata": {
  "kernelspec": {
   "display_name": "base",
   "language": "python",
   "name": "python3"
  },
  "language_info": {
   "codemirror_mode": {
    "name": "ipython",
    "version": 3
   },
   "file_extension": ".py",
   "mimetype": "text/x-python",
   "name": "python",
   "nbconvert_exporter": "python",
   "pygments_lexer": "ipython3",
   "version": "3.9.7"
  },
  "orig_nbformat": 4
 },
 "nbformat": 4,
 "nbformat_minor": 2
}
