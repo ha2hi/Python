{
 "cells": [
  {
   "cell_type": "code",
   "execution_count": 8,
   "metadata": {},
   "outputs": [
    {
     "name": "stdout",
     "output_type": "stream",
     "text": [
      "-1\n"
     ]
    }
   ],
   "source": [
    "# https://www.acmicpc.net/problem/16953\n",
    "# dfs\n",
    "def solution(a, b):\n",
    "    def dfs(x, c):\n",
    "        if x > b:\n",
    "            return\n",
    "        if x == b:\n",
    "            res.append(c+1)\n",
    "        else:\n",
    "            dfs(x*2, c+1)\n",
    "            dfs(int(str(x)+'1'), c+1)\n",
    "    \n",
    "    res = []\n",
    "    dfs(a, 0)\n",
    "    \n",
    "    if res:\n",
    "        return sorted(res)[0]\n",
    "    else:\n",
    "        return -1\n",
    "\n",
    "a, b = map(int, input().split())\n",
    "print(solution(a,b))"
   ]
  },
  {
   "cell_type": "code",
   "execution_count": null,
   "metadata": {},
   "outputs": [],
   "source": []
  },
  {
   "cell_type": "code",
   "execution_count": 16,
   "metadata": {},
   "outputs": [
    {
     "name": "stdout",
     "output_type": "stream",
     "text": [
      "-1\n"
     ]
    }
   ],
   "source": [
    "# 그리디\n",
    "def solution(a, b):\n",
    "    res = 1\n",
    "    \n",
    "    while a != b:\n",
    "        temp = b\n",
    "        \n",
    "        if b % 10 == 1:\n",
    "            b //= 10\n",
    "        elif b % 2 == 0:\n",
    "            b //= 2\n",
    "        \n",
    "        res += 1\n",
    "        if temp == b:\n",
    "            return -1\n",
    "    \n",
    "    return res\n",
    "\n",
    "a, b = map(int, input().split())\n",
    "print(solution(a,b))"
   ]
  },
  {
   "cell_type": "code",
   "execution_count": null,
   "metadata": {},
   "outputs": [],
   "source": []
  }
 ],
 "metadata": {
  "kernelspec": {
   "display_name": "base",
   "language": "python",
   "name": "python3"
  },
  "language_info": {
   "codemirror_mode": {
    "name": "ipython",
    "version": 3
   },
   "file_extension": ".py",
   "mimetype": "text/x-python",
   "name": "python",
   "nbconvert_exporter": "python",
   "pygments_lexer": "ipython3",
   "version": "3.9.7"
  }
 },
 "nbformat": 4,
 "nbformat_minor": 2
}
