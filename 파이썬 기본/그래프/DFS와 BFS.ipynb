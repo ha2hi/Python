{
 "cells": [
  {
   "cell_type": "code",
   "execution_count": null,
   "metadata": {},
   "outputs": [],
   "source": [
    "from collections import deque\n",
    "def dfs(graph, visited, V, res):\n",
    "    visited[V] = True\n",
    "    res.append(V)\n",
    "\n",
    "    for i in graph[V]:\n",
    "        if not visited[i]:\n",
    "            dfs(graph, visited, i, res)\n",
    "    \n",
    "    return res\n",
    "\n",
    "def bfs(graph, visited, V, res):\n",
    "    visited[V] = True\n",
    "    q = deque([V])\n",
    "\n",
    "    while q:\n",
    "        now = q.popleft()\n",
    "        res.append(now)\n",
    "        for i in graph[now]:\n",
    "            if not visited[i]:\n",
    "                visited[i] = True\n",
    "                q.append(i)\n",
    "    \n",
    "    return res\n",
    "\n",
    "N, M, V = map(int, input().split())\n",
    "graph = {i:[] for i in range(N+1)}\n",
    "\n",
    "for _ in range(M):\n",
    "    a, b = map(int, input().split())\n",
    "    graph[a].append(b)\n",
    "    graph[b].append(a)\n",
    "\n",
    "for key in graph:\n",
    "    graph[key].sort()\n",
    "\n",
    "res = []\n",
    "visited = [False] * (N+1)\n",
    "dfs(graph, visited, V, res)\n",
    "print(*res)\n",
    "\n",
    "res = []\n",
    "visited = [False] * (N+1)\n",
    "bfs(graph, visited, V, res)\n",
    "print(*res)"
   ]
  },
  {
   "cell_type": "code",
   "execution_count": null,
   "metadata": {},
   "outputs": [],
   "source": []
  }
 ],
 "metadata": {
  "language_info": {
   "name": "python"
  }
 },
 "nbformat": 4,
 "nbformat_minor": 2
}
