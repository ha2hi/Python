{
 "cells": [
  {
   "cell_type": "code",
   "execution_count": 9,
   "metadata": {},
   "outputs": [
    {
     "name": "stdout",
     "output_type": "stream",
     "text": [
      "2\n"
     ]
    }
   ],
   "source": [
    "# https://www.acmicpc.net/problem/1092\n",
    "def solution(n,a,m,b):\n",
    "    res = 0\n",
    "    a.sort(reverse=True)\n",
    "    b.sort(reverse=True)\n",
    "\n",
    "    if b[0] > a[0]:\n",
    "        return -1\n",
    "    else:\n",
    "        while b:\n",
    "            for x in a:\n",
    "                if b and x < b[-1]:\n",
    "                    continue\n",
    "                for y in b:\n",
    "                    if x >= y:\n",
    "                        b.remove(y)\n",
    "                        break\n",
    "            res += 1\n",
    "    return res            \n",
    "\n",
    "n = int(input())\n",
    "a = list(map(int, input().split()))\n",
    "m = int(input())\n",
    "b = list(map(int, input().split()))\n",
    "\n",
    "print(solution(n,a,m,b))"
   ]
  },
  {
   "cell_type": "code",
   "execution_count": null,
   "metadata": {},
   "outputs": [],
   "source": []
  }
 ],
 "metadata": {
  "kernelspec": {
   "display_name": "base",
   "language": "python",
   "name": "python3"
  },
  "language_info": {
   "codemirror_mode": {
    "name": "ipython",
    "version": 3
   },
   "file_extension": ".py",
   "mimetype": "text/x-python",
   "name": "python",
   "nbconvert_exporter": "python",
   "pygments_lexer": "ipython3",
   "version": "3.9.7"
  }
 },
 "nbformat": 4,
 "nbformat_minor": 2
}
