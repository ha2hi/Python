{
 "cells": [
  {
   "cell_type": "code",
   "execution_count": 1,
   "metadata": {},
   "outputs": [
    {
     "name": "stderr",
     "output_type": "stream",
     "text": [
      "24/07/12 11:02:22 WARN Utils: Your hostname, MZC01-HYUCKSANGCHO.local resolves to a loopback address: 127.0.0.1; using 10.90.9.46 instead (on interface en0)\n",
      "24/07/12 11:02:22 WARN Utils: Set SPARK_LOCAL_IP if you need to bind to another address\n",
      "Setting default log level to \"WARN\".\n",
      "To adjust logging level use sc.setLogLevel(newLevel). For SparkR, use setLogLevel(newLevel).\n",
      "24/07/12 11:02:23 WARN NativeCodeLoader: Unable to load native-hadoop library for your platform... using builtin-java classes where applicable\n"
     ]
    }
   ],
   "source": [
    "from pyspark.sql import SparkSession\n",
    "spark = SparkSession.builder.appName(\"taxi-analysis\").getOrCreate()"
   ]
  },
  {
   "cell_type": "code",
   "execution_count": 2,
   "metadata": {},
   "outputs": [
    {
     "name": "stderr",
     "output_type": "stream",
     "text": [
      "                                                                                \r"
     ]
    }
   ],
   "source": [
    "trip_files = \"/Users/mzc01-hyucksangcho/Downloads/trips/*\"\n",
    "zone_file = \"/Users/mzc01-hyucksangcho/Downloads/taxi_zone_lookup.csv\"\n",
    "\n",
    "trips_df = spark.read.parquet(f\"file:///{trip_files}\", inferSchema=True, header = True)\n",
    "zone_df = spark.read.csv(f\"file:///{zone_file}\", inferSchema=True, header = True)"
   ]
  },
  {
   "cell_type": "code",
   "execution_count": 3,
   "metadata": {},
   "outputs": [],
   "source": [
    "trips_df.createOrReplaceTempView(\"trips\")\n",
    "zone_df.createOrReplaceTempView(\"zone\")"
   ]
  },
  {
   "cell_type": "code",
   "execution_count": 4,
   "metadata": {},
   "outputs": [
    {
     "name": "stdout",
     "output_type": "stream",
     "text": [
      "root\n",
      " |-- VendorID: long (nullable = true)\n",
      " |-- tpep_pickup_datetime: timestamp_ntz (nullable = true)\n",
      " |-- tpep_dropoff_datetime: timestamp_ntz (nullable = true)\n",
      " |-- passenger_count: double (nullable = true)\n",
      " |-- trip_distance: double (nullable = true)\n",
      " |-- RatecodeID: double (nullable = true)\n",
      " |-- store_and_fwd_flag: string (nullable = true)\n",
      " |-- PULocationID: long (nullable = true)\n",
      " |-- DOLocationID: long (nullable = true)\n",
      " |-- payment_type: long (nullable = true)\n",
      " |-- fare_amount: double (nullable = true)\n",
      " |-- extra: double (nullable = true)\n",
      " |-- mta_tax: double (nullable = true)\n",
      " |-- tip_amount: double (nullable = true)\n",
      " |-- tolls_amount: double (nullable = true)\n",
      " |-- improvement_surcharge: double (nullable = true)\n",
      " |-- total_amount: double (nullable = true)\n",
      " |-- congestion_surcharge: double (nullable = true)\n",
      " |-- airport_fee: double (nullable = true)\n",
      "\n",
      "None\n",
      "root\n",
      " |-- LocationID: integer (nullable = true)\n",
      " |-- Borough: string (nullable = true)\n",
      " |-- Zone: string (nullable = true)\n",
      " |-- service_zone: string (nullable = true)\n",
      "\n",
      "None\n"
     ]
    }
   ],
   "source": [
    "print(trips_df.printSchema())\n",
    "print(zone_df.printSchema())"
   ]
  },
  {
   "cell_type": "code",
   "execution_count": 18,
   "metadata": {},
   "outputs": [
    {
     "name": "stdout",
     "output_type": "stream",
     "text": [
      "+---------+-----------+------------+-----------+------------+---------------+-------------+-----------+----------+------------+------------+------------+-------------------+--------------------+--------------------+\n",
      "|vendor_id|pickup_date|dropoff_date|pickup_time|dropoff_time|passenger_count|trip_distance|fare_amount|tip_amount|tolls_amount|total_amount|payment_type|    pickup_datetime|         pickup_zone|        dropoff_zone|\n",
      "+---------+-----------+------------+-----------+------------+---------------+-------------+-----------+----------+------------+------------+------------+-------------------+--------------------+--------------------+\n",
      "|        1| 2021-04-01|  2021-04-01|          0|           0|            1.0|          8.4|       25.5|      5.85|         0.0|       35.15|           1|2021-04-01 00:00:18|        East Village|    Hamilton Heights|\n",
      "|        1| 2021-04-01|  2021-04-01|          0|           0|            1.0|          0.9|        5.0|       0.0|         0.0|         8.8|           2|2021-04-01 00:42:37|   East Harlem South|Upper East Side N...|\n",
      "|        1| 2021-04-01|  2021-04-01|          0|           1|            1.0|          3.4|       11.5|       0.0|         0.0|        15.3|           2|2021-04-01 00:57:56|Upper East Side N...|Mott Haven/Port M...|\n",
      "|        1| 2021-04-01|  2021-04-01|          0|           0|            1.0|          0.0|       44.2|       0.0|         0.0|        45.0|           1|2021-04-01 00:01:58|  Claremont/Bathgate| Crown Heights North|\n",
      "|        2| 2021-04-01|  2021-04-01|          0|           0|            1.0|         1.96|        9.0|      3.09|         0.0|       13.39|           1|2021-04-01 00:24:55|Upper West Side N...|      Manhattanville|\n",
      "|        2| 2021-04-01|  2021-04-01|          0|           0|            1.0|         0.77|        4.5|      1.24|         0.0|        9.54|           1|2021-04-01 00:19:16| Lincoln Square East|Upper West Side N...|\n",
      "|        2| 2021-04-01|  2021-04-01|          0|           0|            1.0|         3.65|       11.5|      2.56|         0.0|       15.36|           1|2021-04-01 00:25:11|Upper West Side N...|Washington Height...|\n",
      "|        1| 2021-04-01|  2021-04-01|          0|           0|            0.0|          8.9|       26.5|      7.25|        6.12|       43.67|           1|2021-04-01 00:27:53|   LaGuardia Airport|Upper West Side S...|\n",
      "|        2| 2021-04-01|  2021-04-01|          0|           0|            1.0|         2.98|       12.0|       0.0|         0.0|        13.3|           2|2021-04-01 00:24:24|    Manhattan Valley|Washington Height...|\n",
      "|        1| 2021-04-01|  2021-04-01|          0|           0|            1.0|          8.9|       28.0|       0.0|         0.0|        29.3|           2|2021-04-01 00:19:18|         JFK Airport|           Rego Park|\n",
      "|        2| 2021-04-01|  2021-04-01|          0|           0|            1.0|         7.48|       23.5|       4.0|         0.0|        31.3|           1|2021-04-01 00:04:25|     Lenox Hill East|      Bushwick North|\n",
      "|        2| 2021-04-01|  2021-04-01|          0|           0|            5.0|         3.39|       13.5|       0.0|         0.0|        17.3|           2|2021-04-01 00:03:07|TriBeCa/Civic Center|        Clinton East|\n",
      "|        2| 2021-04-01|  2021-04-01|          0|           0|            5.0|         3.51|       14.0|       0.0|         0.0|        17.8|           1|2021-04-01 00:35:44|        Clinton East|      Central Harlem|\n",
      "|        2| 2021-04-01|  2021-04-01|          0|           1|            5.0|         3.42|       12.5|      2.76|         0.0|       16.56|           1|2021-04-01 00:52:32|      Central Harlem|     Highbridge Park|\n",
      "|        2| 2021-04-01|  2021-04-01|          0|           0|            3.0|        12.14|       33.5|     10.44|         0.0|       45.24|           1|2021-04-01 00:28:05|         JFK Airport|      Middle Village|\n",
      "|        1| 2021-04-01|  2021-04-01|          0|           0|            1.0|         11.8|       32.0|       0.0|         0.0|        33.3|           2|2021-04-01 00:39:01|         JFK Airport|           Rego Park|\n",
      "|        2| 2021-04-01|  2021-04-01|          0|           0|            1.0|         1.44|        7.5|       0.0|         0.0|         8.8|           1|2021-04-01 00:15:10|      Manhattanville|Washington Height...|\n",
      "|        2| 2021-04-01|  2021-04-01|          0|           0|            1.0|         1.65|        8.5|      3.08|         0.0|       15.38|           1|2021-04-01 00:30:46|      Midtown Center| Lincoln Square West|\n",
      "|        2| 2021-04-01|  2021-04-01|          0|           1|            2.0|         8.16|       25.0|      5.76|         0.0|       34.56|           1|2021-04-01 00:48:18|            Gramercy|             Gowanus|\n",
      "|        1| 2021-04-01|  2021-04-01|          0|           0|            1.0|          7.4|       21.5|       6.0|        6.12|       34.92|           1|2021-04-01 00:19:42|   LaGuardia Airport|      Central Harlem|\n",
      "+---------+-----------+------------+-----------+------------+---------------+-------------+-----------+----------+------------+------------+------------+-------------------+--------------------+--------------------+\n",
      "only showing top 20 rows\n",
      "\n"
     ]
    }
   ],
   "source": [
    "query = \"\"\"\n",
    "SELECT\n",
    "    t.VendorID as vendor_id,\n",
    "    TO_DATE(t.tpep_pickup_datetime) as pickup_date,\n",
    "    TO_DATE(t.tpep_dropoff_datetime) as dropoff_date,\n",
    "    HOUR(t.tpep_pickup_datetime) as pickup_time,\n",
    "    HOUR(t.tpep_dropoff_datetime) as dropoff_time,\n",
    "    t.passenger_count,\n",
    "    t.trip_distance,\n",
    "    t.fare_amount,\n",
    "    t.tip_amount,\n",
    "    t.tolls_amount,\n",
    "    t.total_amount,\n",
    "    t.payment_type,\n",
    "    t.tpep_pickup_datetime as pickup_datetime,\n",
    "    pz.Zone as pickup_zone,\n",
    "    dz.Zone as dropoff_zone\n",
    "from\n",
    "    trips t\n",
    "    LEFT JOIN\n",
    "        zone pz\n",
    "    ON\n",
    "        t.PULocationID = pz.LocationID\n",
    "    LEFT JOIN\n",
    "        zone dz\n",
    "    ON\n",
    "        t.DOLocationID = dz.LocationID\n",
    "\"\"\"\n",
    "comb_df = spark.sql(query)\n",
    "comb_df.show()"
   ]
  },
  {
   "cell_type": "code",
   "execution_count": 19,
   "metadata": {},
   "outputs": [],
   "source": [
    "comb_df.createOrReplaceTempView(\"comb\")"
   ]
  },
  {
   "cell_type": "code",
   "execution_count": 7,
   "metadata": {},
   "outputs": [
    {
     "name": "stdout",
     "output_type": "stream",
     "text": [
      "root\n",
      " |-- vendor_id: long (nullable = true)\n",
      " |-- pickup_date: date (nullable = true)\n",
      " |-- dropoff_date: date (nullable = true)\n",
      " |-- pickup_time: integer (nullable = true)\n",
      " |-- dropoff_time: integer (nullable = true)\n",
      " |-- trip_distance: double (nullable = true)\n",
      " |-- fare_amount: double (nullable = true)\n",
      " |-- tip_amount: double (nullable = true)\n",
      " |-- tolls_amount: double (nullable = true)\n",
      " |-- total_amount: double (nullable = true)\n",
      " |-- payment_type: long (nullable = true)\n",
      " |-- pickup_datetime: timestamp_ntz (nullable = true)\n",
      " |-- pickup_zone: string (nullable = true)\n",
      " |-- dropoff_zone: string (nullable = true)\n",
      "\n"
     ]
    }
   ],
   "source": [
    "comb_df.printSchema()"
   ]
  },
  {
   "cell_type": "code",
   "execution_count": 8,
   "metadata": {},
   "outputs": [
    {
     "name": "stdout",
     "output_type": "stream",
     "text": [
      "+-----------+-----------+\n",
      "|pickup_date|pickup_time|\n",
      "+-----------+-----------+\n",
      "| 2021-03-31|         23|\n",
      "| 2021-03-31|         23|\n",
      "| 2021-03-31|         23|\n",
      "| 2021-03-31|         23|\n",
      "| 2021-03-31|         23|\n",
      "| 2021-03-31|         23|\n",
      "| 2021-03-31|         23|\n",
      "| 2021-03-31|         23|\n",
      "| 2021-03-31|         23|\n",
      "| 2021-04-01|          1|\n",
      "| 2021-04-01|          1|\n",
      "| 2021-04-01|          1|\n",
      "| 2021-04-01|          1|\n",
      "| 2021-04-01|          1|\n",
      "| 2021-04-01|          1|\n",
      "| 2021-04-01|          1|\n",
      "| 2021-04-01|          1|\n",
      "| 2021-04-01|          1|\n",
      "| 2021-04-01|          1|\n",
      "| 2021-04-01|          1|\n",
      "+-----------+-----------+\n",
      "only showing top 20 rows\n",
      "\n"
     ]
    }
   ],
   "source": [
    "spark.sql(\"SELECT pickup_date, pickup_time FROM comb WHERE pickup_time > 0\").show()"
   ]
  },
  {
   "cell_type": "code",
   "execution_count": 10,
   "metadata": {},
   "outputs": [
    {
     "name": "stderr",
     "output_type": "stream",
     "text": [
      "                                                                                \r"
     ]
    },
    {
     "name": "stdout",
     "output_type": "stream",
     "text": [
      "+-----------+-----------+\n",
      "|pickup_date|pickup_time|\n",
      "+-----------+-----------+\n",
      "| 2009-01-01|          3|\n",
      "| 2009-01-01|         16|\n",
      "| 2009-01-01|         11|\n",
      "| 2009-01-01|         12|\n",
      "| 2009-01-01|         12|\n",
      "| 2008-12-31|         23|\n",
      "| 2008-12-31|         23|\n",
      "| 2009-01-01|          0|\n",
      "| 2009-01-01|          0|\n",
      "| 2009-01-01|          0|\n",
      "| 2009-01-01|          1|\n",
      "| 2009-01-01|          0|\n",
      "| 2009-01-01|          0|\n",
      "| 2009-01-01|         16|\n",
      "| 2009-01-01|         16|\n",
      "| 2009-01-01|          0|\n",
      "| 2009-01-01|          0|\n",
      "| 2009-01-01|          0|\n",
      "| 2009-01-01|         19|\n",
      "| 2009-01-01|         19|\n",
      "+-----------+-----------+\n",
      "only showing top 20 rows\n",
      "\n"
     ]
    }
   ],
   "source": [
    "spark.sql(\"SELECT pickup_date, pickup_time FROM comb WHERE pickup_date < '2020-12-31'\").show()"
   ]
  },
  {
   "cell_type": "code",
   "execution_count": 11,
   "metadata": {},
   "outputs": [
    {
     "name": "stderr",
     "output_type": "stream",
     "text": [
      "[Stage 11:============>                                             (2 + 7) / 9]\r"
     ]
    },
    {
     "name": "stdout",
     "output_type": "stream",
     "text": [
      "+-------+------------------+\n",
      "|summary|      total_amount|\n",
      "+-------+------------------+\n",
      "|  count|          15000936|\n",
      "|   mean| 18.75540051097825|\n",
      "| stddev|145.74310219085984|\n",
      "|    min|            -647.8|\n",
      "|    max|          398469.2|\n",
      "+-------+------------------+\n",
      "\n"
     ]
    },
    {
     "name": "stderr",
     "output_type": "stream",
     "text": [
      "                                                                                \r"
     ]
    }
   ],
   "source": [
    "comb_df.select(\"total_amount\").describe().show()"
   ]
  },
  {
   "cell_type": "code",
   "execution_count": 12,
   "metadata": {},
   "outputs": [
    {
     "name": "stderr",
     "output_type": "stream",
     "text": [
      "[Stage 15:================================>                         (5 + 4) / 9]\r"
     ]
    },
    {
     "name": "stdout",
     "output_type": "stream",
     "text": [
      "+-------+-----------------+\n",
      "|summary|    trip_distance|\n",
      "+-------+-----------------+\n",
      "|  count|         15000936|\n",
      "|   mean|6.628556730059906|\n",
      "| stddev|671.7240645480989|\n",
      "|    min|              0.0|\n",
      "|    max|        332541.19|\n",
      "+-------+-----------------+\n",
      "\n"
     ]
    },
    {
     "name": "stderr",
     "output_type": "stream",
     "text": [
      "                                                                                \r"
     ]
    }
   ],
   "source": [
    "comb_df.select(\"trip_distance\").describe().show()"
   ]
  },
  {
   "cell_type": "code",
   "execution_count": 14,
   "metadata": {},
   "outputs": [
    {
     "name": "stderr",
     "output_type": "stream",
     "text": [
      "[Stage 21:=============================================>            (7 + 2) / 9]\r"
     ]
    },
    {
     "name": "stdout",
     "output_type": "stream",
     "text": [
      "+-------+------------------+\n",
      "|summary|   passenger_count|\n",
      "+-------+------------------+\n",
      "|  count|          14166908|\n",
      "|   mean|1.4253582362502812|\n",
      "| stddev|1.0443336003189165|\n",
      "|    min|               0.0|\n",
      "|    max|               9.0|\n",
      "+-------+------------------+\n",
      "\n"
     ]
    },
    {
     "name": "stderr",
     "output_type": "stream",
     "text": [
      "                                                                                \r"
     ]
    }
   ],
   "source": [
    "comb_df.select(\"passenger_count\").describe().show()"
   ]
  },
  {
   "cell_type": "code",
   "execution_count": 16,
   "metadata": {},
   "outputs": [
    {
     "name": "stderr",
     "output_type": "stream",
     "text": [
      "[Stage 29:===================================================>      (8 + 1) / 9]\r"
     ]
    },
    {
     "name": "stdout",
     "output_type": "stream",
     "text": [
      "+-------------------+-------+\n",
      "|              month|  trips|\n",
      "+-------------------+-------+\n",
      "|2029-05-01 00:00:00|      1|\n",
      "|2021-12-01 00:00:00|      5|\n",
      "|2021-11-01 00:00:00|      5|\n",
      "|2021-10-01 00:00:00|      3|\n",
      "|2021-09-01 00:00:00|      3|\n",
      "|2021-08-01 00:00:00|     36|\n",
      "|2021-07-01 00:00:00|2821661|\n",
      "|2021-06-01 00:00:00|2834204|\n",
      "|2021-05-01 00:00:00|2507075|\n",
      "|2021-04-01 00:00:00|2171215|\n",
      "|2021-03-01 00:00:00|1925130|\n",
      "|2021-02-01 00:00:00|1371689|\n",
      "|2021-01-01 00:00:00|1369753|\n",
      "|2020-12-01 00:00:00|     16|\n",
      "|2009-01-01 00:00:00|    111|\n",
      "|2008-12-01 00:00:00|     26|\n",
      "|2004-04-01 00:00:00|      1|\n",
      "|2003-01-01 00:00:00|      1|\n",
      "|2002-12-01 00:00:00|      1|\n",
      "+-------------------+-------+\n",
      "\n"
     ]
    },
    {
     "name": "stderr",
     "output_type": "stream",
     "text": [
      "                                                                                \r"
     ]
    }
   ],
   "source": [
    "query = \"\"\"\n",
    "SELECT\n",
    "    DATE_TRUNC('MM', c.pickup_date) AS month,\n",
    "    count(*) AS trips\n",
    "FROM\n",
    "    comb c\n",
    "GROUP BY\n",
    "    month\n",
    "ORDER BY\n",
    "    month desc\n",
    "\"\"\"\n",
    "spark.sql(query).show()"
   ]
  },
  {
   "cell_type": "code",
   "execution_count": 20,
   "metadata": {},
   "outputs": [],
   "source": [
    "# Data Cleaning\n",
    "query = \"\"\"\n",
    "SELECT\n",
    "    *\n",
    "FROM\n",
    "    comb c\n",
    "WHERE\n",
    "    c.total_amount < 5000\n",
    "    AND c.total_amount > 9\n",
    "    AND c.trip_distance < 100\n",
    "    AND c.passenger_count < 4\n",
    "    AND c.pickup_date >= '2021-01-01'\n",
    "    AND c.pickup_date < '2021-08-01'\n",
    "\"\"\"\n",
    "clean_df = spark.sql(query)\n",
    "clean_df.createOrReplaceTempView(\"cleaned\")"
   ]
  },
  {
   "cell_type": "code",
   "execution_count": 21,
   "metadata": {},
   "outputs": [
    {
     "name": "stderr",
     "output_type": "stream",
     "text": [
      "24/07/12 11:15:08 WARN package: Truncated the string representation of a plan since it was too large. This behavior can be adjusted by setting 'spark.sql.debug.maxToStringFields'.\n",
      "[Stage 35:===================================================>      (8 + 1) / 9]\r"
     ]
    },
    {
     "name": "stdout",
     "output_type": "stream",
     "text": [
      "+-------+-------------------+------------------+-----------------+------------------+------------------+------------------+-----------------+------------------+------------------+------------------+--------------------+--------------------+\n",
      "|summary|          vendor_id|       pickup_time|     dropoff_time|   passenger_count|     trip_distance|       fare_amount|       tip_amount|      tolls_amount|      total_amount|      payment_type|         pickup_zone|        dropoff_zone|\n",
      "+-------+-------------------+------------------+-----------------+------------------+------------------+------------------+-----------------+------------------+------------------+------------------+--------------------+--------------------+\n",
      "|  count|           12186940|          12186940|         12186940|          12186940|          12186940|          12186940|         12186940|          12186940|          12186940|          12186940|            12186940|            12186940|\n",
      "|   mean| 1.6723880646003015|14.280463922855121|14.37082442352223|1.2119416358823463| 3.039173597309851|12.860234565032613|2.355292504106996|0.2947002446883832|19.016206125598977| 1.207201807836914|                null|                null|\n",
      "| stddev|0.46934249036140147| 5.144419547013404|5.220191953869289|0.5432756329738347|3.7153506488606616|11.213223509100414|2.624006254901142|1.6085089179323673|13.458064361555559|0.4222387347483321|                null|                null|\n",
      "|    min|                  1|                 0|                0|               0.0|               0.0|               0.0|              0.0|               0.0|              9.01|                 1|Allerton/Pelham G...|Allerton/Pelham G...|\n",
      "|    max|                  2|                23|               23|               3.0|             99.96|            4969.0|            700.0|            956.55|            4973.3|                 5|      Yorkville West|      Yorkville West|\n",
      "+-------+-------------------+------------------+-----------------+------------------+------------------+------------------+-----------------+------------------+------------------+------------------+--------------------+--------------------+\n",
      "\n"
     ]
    },
    {
     "name": "stderr",
     "output_type": "stream",
     "text": [
      "                                                                                \r"
     ]
    }
   ],
   "source": [
    "clean_df.describe().show()"
   ]
  },
  {
   "cell_type": "code",
   "execution_count": 23,
   "metadata": {},
   "outputs": [],
   "source": [
    "import numpy as np\n",
    "import pandas as pd\n",
    "import seaborn as sns\n",
    "import matplotlib.pyplot as plt\n",
    "import matplotlib.dates as mdates"
   ]
  },
  {
   "cell_type": "code",
   "execution_count": 25,
   "metadata": {},
   "outputs": [
    {
     "name": "stderr",
     "output_type": "stream",
     "text": [
      "                                                                                \r"
     ]
    },
    {
     "data": {
      "text/html": [
       "<div>\n",
       "<style scoped>\n",
       "    .dataframe tbody tr th:only-of-type {\n",
       "        vertical-align: middle;\n",
       "    }\n",
       "\n",
       "    .dataframe tbody tr th {\n",
       "        vertical-align: top;\n",
       "    }\n",
       "\n",
       "    .dataframe thead th {\n",
       "        text-align: right;\n",
       "    }\n",
       "</style>\n",
       "<table border=\"1\" class=\"dataframe\">\n",
       "  <thead>\n",
       "    <tr style=\"text-align: right;\">\n",
       "      <th></th>\n",
       "      <th>pickup_date</th>\n",
       "      <th>trips</th>\n",
       "    </tr>\n",
       "  </thead>\n",
       "  <tbody>\n",
       "    <tr>\n",
       "      <th>0</th>\n",
       "      <td>2021-04-29</td>\n",
       "      <td>67758</td>\n",
       "    </tr>\n",
       "    <tr>\n",
       "      <th>1</th>\n",
       "      <td>2021-04-24</td>\n",
       "      <td>64373</td>\n",
       "    </tr>\n",
       "    <tr>\n",
       "      <th>2</th>\n",
       "      <td>2021-07-19</td>\n",
       "      <td>73731</td>\n",
       "    </tr>\n",
       "    <tr>\n",
       "      <th>3</th>\n",
       "      <td>2021-04-25</td>\n",
       "      <td>39679</td>\n",
       "    </tr>\n",
       "    <tr>\n",
       "      <th>4</th>\n",
       "      <td>2021-04-21</td>\n",
       "      <td>64938</td>\n",
       "    </tr>\n",
       "  </tbody>\n",
       "</table>\n",
       "</div>"
      ],
      "text/plain": [
       "  pickup_date  trips\n",
       "0  2021-04-29  67758\n",
       "1  2021-04-24  64373\n",
       "2  2021-07-19  73731\n",
       "3  2021-04-25  39679\n",
       "4  2021-04-21  64938"
      ]
     },
     "execution_count": 25,
     "metadata": {},
     "output_type": "execute_result"
    }
   ],
   "source": [
    "query = \"\"\"\n",
    "SELECT\n",
    "    c.pickup_date,\n",
    "    count(*) as trips\n",
    "FROM\n",
    "    cleaned c\n",
    "GROUP BY\n",
    "    c.pickup_date\n",
    "\"\"\"\n",
    "pd_df = spark.sql(query).toPandas()\n",
    "pd_df.head()"
   ]
  },
  {
   "cell_type": "code",
   "execution_count": 27,
   "metadata": {},
   "outputs": [
    {
     "data": {
      "text/plain": [
       "<AxesSubplot:xlabel='pickup_date', ylabel='trips'>"
      ]
     },
     "execution_count": 27,
     "metadata": {},
     "output_type": "execute_result"
    },
    {
     "data": {
      "image/png": "[encoded data removed]",
      "text/plain": [
       "<Figure size 1152x432 with 1 Axes>"
      ]
     },
     "metadata": {
      "needs_background": "light"
     },
     "output_type": "display_data"
    }
   ],
   "source": [
    "fig, ax = plt.subplots(figsize=(16,6))\n",
    "sns.lineplot(x=\"pickup_date\", y=\"trips\", data=pd_df)"
   ]
  },
  {
   "cell_type": "code",
   "execution_count": 29,
   "metadata": {},
   "outputs": [
    {
     "name": "stderr",
     "output_type": "stream",
     "text": [
      "                                                                                \r"
     ]
    },
    {
     "data": {
      "text/html": [
       "<div>\n",
       "<style scoped>\n",
       "    .dataframe tbody tr th:only-of-type {\n",
       "        vertical-align: middle;\n",
       "    }\n",
       "\n",
       "    .dataframe tbody tr th {\n",
       "        vertical-align: top;\n",
       "    }\n",
       "\n",
       "    .dataframe thead th {\n",
       "        text-align: right;\n",
       "    }\n",
       "</style>\n",
       "<table border=\"1\" class=\"dataframe\">\n",
       "  <thead>\n",
       "    <tr style=\"text-align: right;\">\n",
       "      <th></th>\n",
       "      <th>pickup_date</th>\n",
       "      <th>day_of_week</th>\n",
       "      <th>trips</th>\n",
       "    </tr>\n",
       "  </thead>\n",
       "  <tbody>\n",
       "    <tr>\n",
       "      <th>0</th>\n",
       "      <td>2021-04-23</td>\n",
       "      <td>Friday</td>\n",
       "      <td>69456</td>\n",
       "    </tr>\n",
       "    <tr>\n",
       "      <th>1</th>\n",
       "      <td>2021-04-11</td>\n",
       "      <td>Sunday</td>\n",
       "      <td>37386</td>\n",
       "    </tr>\n",
       "    <tr>\n",
       "      <th>2</th>\n",
       "      <td>2021-04-26</td>\n",
       "      <td>Monday</td>\n",
       "      <td>56965</td>\n",
       "    </tr>\n",
       "    <tr>\n",
       "      <th>3</th>\n",
       "      <td>2021-04-10</td>\n",
       "      <td>Saturday</td>\n",
       "      <td>55656</td>\n",
       "    </tr>\n",
       "    <tr>\n",
       "      <th>4</th>\n",
       "      <td>2021-04-22</td>\n",
       "      <td>Thursday</td>\n",
       "      <td>69257</td>\n",
       "    </tr>\n",
       "  </tbody>\n",
       "</table>\n",
       "</div>"
      ],
      "text/plain": [
       "  pickup_date day_of_week  trips\n",
       "0  2021-04-23      Friday  69456\n",
       "1  2021-04-11      Sunday  37386\n",
       "2  2021-04-26      Monday  56965\n",
       "3  2021-04-10    Saturday  55656\n",
       "4  2021-04-22    Thursday  69257"
      ]
     },
     "execution_count": 29,
     "metadata": {},
     "output_type": "execute_result"
    }
   ],
   "source": [
    "query = \"\"\"\n",
    "SELECT\n",
    "    c.pickup_date,\n",
    "    DATE_FORMAT(c.pickup_date, 'EEEE') AS day_of_week,\n",
    "    count(*) as trips\n",
    "FROM\n",
    "    cleaned c\n",
    "GROUP BY\n",
    "    c.pickup_date,\n",
    "    day_of_week\n",
    "\"\"\"\n",
    "pd_df2 = spark.sql(query).toPandas()\n",
    "pd_df2.head()"
   ]
  },
  {
   "cell_type": "code",
   "execution_count": 30,
   "metadata": {},
   "outputs": [],
   "source": [
    "data = pd_df2.groupby(\"day_of_week\").trips.median().to_frame().reset_index()\n",
    "data[\"sort_dow\"] = data['day_of_week'].replace({\n",
    "    \"Sunday\": 0,\n",
    "    \"Monday\": 1,\n",
    "    \"Tuesday\": 2,\n",
    "    \"Wednesday\": 3,\n",
    "    \"Thursday\": 4,\n",
    "    \"Friday\": 5,\n",
    "    \"Saturday\": 6,\n",
    "})"
   ]
  },
  {
   "cell_type": "code",
   "execution_count": 33,
   "metadata": {},
   "outputs": [],
   "source": [
    "data.sort_values(by='sort_dow', inplace=True)"
   ]
  },
  {
   "cell_type": "code",
   "execution_count": 34,
   "metadata": {},
   "outputs": [
    {
     "data": {
      "text/html": [
       "<div>\n",
       "<style scoped>\n",
       "    .dataframe tbody tr th:only-of-type {\n",
       "        vertical-align: middle;\n",
       "    }\n",
       "\n",
       "    .dataframe tbody tr th {\n",
       "        vertical-align: top;\n",
       "    }\n",
       "\n",
       "    .dataframe thead th {\n",
       "        text-align: right;\n",
       "    }\n",
       "</style>\n",
       "<table border=\"1\" class=\"dataframe\">\n",
       "  <thead>\n",
       "    <tr style=\"text-align: right;\">\n",
       "      <th></th>\n",
       "      <th>day_of_week</th>\n",
       "      <th>trips</th>\n",
       "      <th>sort_dow</th>\n",
       "    </tr>\n",
       "  </thead>\n",
       "  <tbody>\n",
       "    <tr>\n",
       "      <th>3</th>\n",
       "      <td>Sunday</td>\n",
       "      <td>38532.5</td>\n",
       "      <td>0</td>\n",
       "    </tr>\n",
       "    <tr>\n",
       "      <th>1</th>\n",
       "      <td>Monday</td>\n",
       "      <td>51058.5</td>\n",
       "      <td>1</td>\n",
       "    </tr>\n",
       "    <tr>\n",
       "      <th>5</th>\n",
       "      <td>Tuesday</td>\n",
       "      <td>61555.5</td>\n",
       "      <td>2</td>\n",
       "    </tr>\n",
       "    <tr>\n",
       "      <th>6</th>\n",
       "      <td>Wednesday</td>\n",
       "      <td>63969.0</td>\n",
       "      <td>3</td>\n",
       "    </tr>\n",
       "    <tr>\n",
       "      <th>4</th>\n",
       "      <td>Thursday</td>\n",
       "      <td>66725.0</td>\n",
       "      <td>4</td>\n",
       "    </tr>\n",
       "    <tr>\n",
       "      <th>0</th>\n",
       "      <td>Friday</td>\n",
       "      <td>67232.0</td>\n",
       "      <td>5</td>\n",
       "    </tr>\n",
       "    <tr>\n",
       "      <th>2</th>\n",
       "      <td>Saturday</td>\n",
       "      <td>55656.0</td>\n",
       "      <td>6</td>\n",
       "    </tr>\n",
       "  </tbody>\n",
       "</table>\n",
       "</div>"
      ],
      "text/plain": [
       "  day_of_week    trips  sort_dow\n",
       "3      Sunday  38532.5         0\n",
       "1      Monday  51058.5         1\n",
       "5     Tuesday  61555.5         2\n",
       "6   Wednesday  63969.0         3\n",
       "4    Thursday  66725.0         4\n",
       "0      Friday  67232.0         5\n",
       "2    Saturday  55656.0         6"
      ]
     },
     "execution_count": 34,
     "metadata": {},
     "output_type": "execute_result"
    }
   ],
   "source": [
    "data"
   ]
  },
  {
   "cell_type": "code",
   "execution_count": 35,
   "metadata": {},
   "outputs": [
    {
     "data": {
      "text/plain": [
       "<AxesSubplot:xlabel='day_of_week', ylabel='trips'>"
      ]
     },
     "execution_count": 35,
     "metadata": {},
     "output_type": "execute_result"
    },
    {
     "data": {
      "image/png": "[encoded data removed]",
      "text/plain": [
       "<Figure size 864x360 with 1 Axes>"
      ]
     },
     "metadata": {
      "needs_background": "light"
     },
     "output_type": "display_data"
    }
   ],
   "source": [
    "fig, ax = plt.subplots(figsize=(12,5))\n",
    "sns.barplot(x=\"day_of_week\", y=\"trips\", data=data)"
   ]
  },
  {
   "cell_type": "code",
   "execution_count": null,
   "metadata": {},
   "outputs": [],
   "source": []
  }
 ],
 "metadata": {
  "kernelspec": {
   "display_name": "base",
   "language": "python",
   "name": "python3"
  },
  "language_info": {
   "codemirror_mode": {
    "name": "ipython",
    "version": 3
   },
   "file_extension": ".py",
   "mimetype": "text/x-python",
   "name": "python",
   "nbconvert_exporter": "python",
   "pygments_lexer": "ipython3",
   "version": "3.9.7"
  }
 },
 "nbformat": 4,
 "nbformat_minor": 2
}
