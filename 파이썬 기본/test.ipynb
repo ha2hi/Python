{
 "cells": [
  {
   "cell_type": "code",
   "execution_count": 15,
   "metadata": {},
   "outputs": [
    {
     "name": "stdout",
     "output_type": "stream",
     "text": [
      "[[-1, -1, 2], [-1, 0, 1]]\n"
     ]
    }
   ],
   "source": [
    "nums = [-1,0,1,2,-1,-4]\n",
    "res = []\n",
    "nums.sort()\n",
    "for i in range(len(nums)-2):\n",
    "    if i > 0 and nums[i] == nums[i-1]:\n",
    "        continue\n",
    "    lt, rt = i+1, len(nums)-1\n",
    "    while lt < rt:\n",
    "        total = nums[i] + nums[lt] + nums[rt]\n",
    "        if total > 0:\n",
    "            rt -= 1\n",
    "        elif total < 0:\n",
    "            lt += 1\n",
    "        else:\n",
    "            res.append([nums[i], nums[lt], nums[rt]])\n",
    "            while lt<rt and nums[lt] == nums[lt+1]:\n",
    "                lt += 1\n",
    "            while lt<rt and nums[rt] == nums[rt-1]:\n",
    "                rt -= 1\n",
    "            lt += 1\n",
    "            rt -= 1\n",
    "print(res)"
   ]
  },
  {
   "cell_type": "code",
   "execution_count": null,
   "metadata": {},
   "outputs": [],
   "source": []
  }
 ],
 "metadata": {
  "kernelspec": {
   "display_name": "base",
   "language": "python",
   "name": "python3"
  },
  "language_info": {
   "codemirror_mode": {
    "name": "ipython",
    "version": 3
   },
   "file_extension": ".py",
   "mimetype": "text/x-python",
   "name": "python",
   "nbconvert_exporter": "python",
   "pygments_lexer": "ipython3",
   "version": "3.9.7"
  },
  "orig_nbformat": 4
 },
 "nbformat": 4,
 "nbformat_minor": 2
}
