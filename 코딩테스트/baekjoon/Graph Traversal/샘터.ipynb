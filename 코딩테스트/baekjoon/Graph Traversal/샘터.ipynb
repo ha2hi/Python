{
 "cells": [
  {
   "cell_type": "code",
   "execution_count": 8,
   "metadata": {},
   "outputs": [
    {
     "name": "stdout",
     "output_type": "stream",
     "text": [
      "6\n"
     ]
    }
   ],
   "source": [
    "# https://www.acmicpc.net/problem/18513\n",
    "from collections import deque\n",
    "n, k = map(int, input().split())\n",
    "a = map(int, input().split())\n",
    "q = deque([])\n",
    "ch = set()\n",
    "\n",
    "for x in a:\n",
    "    q.append((x,1))\n",
    "    ch.add(x)\n",
    "\n",
    "house = 0\n",
    "res = 0\n",
    "while q:\n",
    "    now_d, s = q.popleft()\n",
    "    for x in [now_d-1, now_d+1]:\n",
    "        if x in ch:\n",
    "            continue\n",
    "        ch.add(x)\n",
    "        res += s\n",
    "        house += 1\n",
    "        q.append((x, s+1))\n",
    "        \n",
    "        if house == k:\n",
    "            q = []\n",
    "            break\n",
    "print(res)\n"
   ]
  },
  {
   "cell_type": "code",
   "execution_count": null,
   "metadata": {},
   "outputs": [],
   "source": []
  }
 ],
 "metadata": {
  "kernelspec": {
   "display_name": "base",
   "language": "python",
   "name": "python3"
  },
  "language_info": {
   "codemirror_mode": {
    "name": "ipython",
    "version": 3
   },
   "file_extension": ".py",
   "mimetype": "text/x-python",
   "name": "python",
   "nbconvert_exporter": "python",
   "pygments_lexer": "ipython3",
   "version": "3.9.7"
  }
 },
 "nbformat": 4,
 "nbformat_minor": 2
}
