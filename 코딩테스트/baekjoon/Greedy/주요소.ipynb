{
 "cells": [
  {
   "cell_type": "code",
   "execution_count": 11,
   "metadata": {},
   "outputs": [
    {
     "data": {
      "text/plain": [
       "10"
      ]
     },
     "execution_count": 11,
     "metadata": {},
     "output_type": "execute_result"
    }
   ],
   "source": [
    "# https://www.acmicpc.net/problem/13305\n",
    "def solution(n, dis, cost):\n",
    "    i, res = 0, 0\n",
    "    while i < n-1:\n",
    "        s = i\n",
    "        while i+1 < n-1 and cost[i] < cost[i+1]:\n",
    "            i += 1\n",
    "        res += (cost[s] * sum(dis[s:i+1]))\n",
    "        \n",
    "        i+= 1\n",
    "    return res\n",
    "\n",
    "n = int(input())\n",
    "dis = list(map(int, input().split()))\n",
    "cost = list(map(int, input().split()))\n",
    "print(solution(n, dis, cost))"
   ]
  },
  {
   "cell_type": "code",
   "execution_count": null,
   "metadata": {},
   "outputs": [],
   "source": []
  }
 ],
 "metadata": {
  "kernelspec": {
   "display_name": "base",
   "language": "python",
   "name": "python3"
  },
  "language_info": {
   "codemirror_mode": {
    "name": "ipython",
    "version": 3
   },
   "file_extension": ".py",
   "mimetype": "text/x-python",
   "name": "python",
   "nbconvert_exporter": "python",
   "pygments_lexer": "ipython3",
   "version": "3.9.7"
  }
 },
 "nbformat": 4,
 "nbformat_minor": 2
}
