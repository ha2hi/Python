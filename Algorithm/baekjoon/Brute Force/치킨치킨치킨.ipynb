{
 "cells": [
  {
   "cell_type": "code",
   "execution_count": 2,
   "metadata": {},
   "outputs": [
    {
     "name": "stdout",
     "output_type": "stream",
     "text": [
      "25\n"
     ]
    }
   ],
   "source": [
    "from itertools import combinations\n",
    "n, m = map(int, input().split())\n",
    "chicken = []\n",
    "for _ in range(n):\n",
    "    chicken.append(list(map(int, input().split())))\n",
    "\n",
    "res = 0\n",
    "for i in combinations(range(m), 3):\n",
    "    tmp = 0\n",
    "    for j in range(n):\n",
    "        tmp += max([chicken[j][i[0]], chicken[j][i[1]], chicken[j][i[2]]])\n",
    "    \n",
    "    if tmp > res:\n",
    "        res = tmp\n",
    "\n",
    "print(res)\n"
   ]
  },
  {
   "cell_type": "code",
   "execution_count": null,
   "metadata": {},
   "outputs": [],
   "source": []
  }
 ],
 "metadata": {
  "kernelspec": {
   "display_name": "base",
   "language": "python",
   "name": "python3"
  },
  "language_info": {
   "codemirror_mode": {
    "name": "ipython",
    "version": 3
   },
   "file_extension": ".py",
   "mimetype": "text/x-python",
   "name": "python",
   "nbconvert_exporter": "python",
   "pygments_lexer": "ipython3",
   "version": "3.9.7"
  }
 },
 "nbformat": 4,
 "nbformat_minor": 2
}
