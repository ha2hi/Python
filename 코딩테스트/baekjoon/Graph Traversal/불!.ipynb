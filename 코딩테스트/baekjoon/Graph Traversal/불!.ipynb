{
 "cells": [
  {
   "cell_type": "code",
   "execution_count": 1,
   "metadata": {},
   "outputs": [
    {
     "name": "stdout",
     "output_type": "stream",
     "text": [
      "3\n"
     ]
    }
   ],
   "source": [
    "# https://www.acmicpc.net/problem/4179\n",
    "from collections import deque\n",
    "r, c = map(int, input().split())\n",
    "board, jihoon, fire = [], deque(), deque()\n",
    "for i in range(c):\n",
    "    tmp = list(input())\n",
    "    board.append(tmp)\n",
    "    for j in range(c):\n",
    "        if tmp[j] == 'J':\n",
    "            jihoon.append((i,j))\n",
    "        if tmp[j] == 'F':\n",
    "            fire.append((i,j))\n",
    "\n",
    "q = deque()\n",
    "q.append((jihoon[0][0], jihoon[0][1], 'J'))\n",
    "board[jihoon[0][0]][jihoon[0][1]] = 0\n",
    "\n",
    "if len(fire):\n",
    "    for x, y in fire:\n",
    "        q.append((x,y,'F'))\n",
    "        board[x][y] = '#'\n",
    "\n",
    "def bfs():\n",
    "    dx, dy = [-1,0,1,0], [0,1,0,-1]\n",
    "    while q:\n",
    "        x, y, g = q.popleft()\n",
    "        if g == 'J' and (x == 0 or y == 0 or x == r-1 or y == c-1) and board[x][y] != '#':\n",
    "            return board[x][y] + 1\n",
    "        for i in range(4):\n",
    "            xx = x + dx[i]\n",
    "            yy = y + dy[i]\n",
    "            if 0<=xx<r and 0<=yy<c and board[xx][yy] != '#':\n",
    "                if g == 'J' and board[xx][yy] == '.':\n",
    "                    board[xx][yy] = board[x][y] + 1\n",
    "                    q.append((xx,yy,'J'))\n",
    "                if g == 'F':\n",
    "                    board[xx][yy] = '#'\n",
    "                    q.append((xx,yy,'F'))\n",
    "    \n",
    "    return 'IMPOSSIBLE'\n",
    "\n",
    "\n",
    "print(bfs())"
   ]
  },
  {
   "cell_type": "code",
   "execution_count": null,
   "metadata": {},
   "outputs": [],
   "source": []
  }
 ],
 "metadata": {
  "kernelspec": {
   "display_name": "base",
   "language": "python",
   "name": "python3"
  },
  "language_info": {
   "codemirror_mode": {
    "name": "ipython",
    "version": 3
   },
   "file_extension": ".py",
   "mimetype": "text/x-python",
   "name": "python",
   "nbconvert_exporter": "python",
   "pygments_lexer": "ipython3",
   "version": "3.9.7"
  }
 },
 "nbformat": 4,
 "nbformat_minor": 2
}
