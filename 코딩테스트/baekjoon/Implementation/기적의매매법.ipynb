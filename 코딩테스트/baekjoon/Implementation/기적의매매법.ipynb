{
 "cells": [
  {
   "cell_type": "code",
   "execution_count": 17,
   "metadata": {},
   "outputs": [
    {
     "name": "stdout",
     "output_type": "stream",
     "text": [
      "(10, 39)\n"
     ]
    }
   ],
   "source": [
    "# https://www.acmicpc.net/problem/20546\n",
    "def solution(n, stock):\n",
    "    def calc_joon():\n",
    "        s_j = 0\n",
    "        s_c = n\n",
    "        for s in stock:\n",
    "            if s_c >= s:\n",
    "                s_j += (s_c // s)\n",
    "                s_c %= s\n",
    "        return s_j, s_c\n",
    "    \n",
    "    def calc_sung():\n",
    "        s_s = 0\n",
    "        s_c = n\n",
    "        for i in range(3, len(stock)):\n",
    "            if stock[i-2] < stock[i-3] and stock[i-1] < stock[i-2] and stock[i] < stock[i-1]:\n",
    "                s_s += s_c // stock[i]\n",
    "                s_c %= stock[i]\n",
    "            elif stock[i-2] > stock[i-3] and stock[i-1] > stock[i-2] and stock[i] > stock[i-1]:\n",
    "                s_c += s_s * stock[i]\n",
    "                s_s = 0\n",
    "        return s_s, s_c\n",
    "\n",
    "    joon_stock, joon_cash = calc_joon()\n",
    "    sung_stock, sung_cash = calc_sung()\n",
    "    \n",
    "    joon_wealth = joon_stock * stock[-1] + joon_cash\n",
    "    sung_wealth = sung_stock * stock[-1] + sung_cash\n",
    "    \n",
    "    if joon_wealth > sung_wealth:\n",
    "        return \"BNP\"\n",
    "    elif joon_wealth < sung_wealth:\n",
    "        return \"TIMING\"\n",
    "    else:\n",
    "        return \"SAMESAME\"\n",
    "\n",
    "n = int(input())\n",
    "stock = list(map(int, input().split()))\n",
    "print(solution(n, stock))"
   ]
  },
  {
   "cell_type": "code",
   "execution_count": null,
   "metadata": {},
   "outputs": [],
   "source": []
  }
 ],
 "metadata": {
  "kernelspec": {
   "display_name": "base",
   "language": "python",
   "name": "python3"
  },
  "language_info": {
   "codemirror_mode": {
    "name": "ipython",
    "version": 3
   },
   "file_extension": ".py",
   "mimetype": "text/x-python",
   "name": "python",
   "nbconvert_exporter": "python",
   "pygments_lexer": "ipython3",
   "version": "3.9.7"
  }
 },
 "nbformat": 4,
 "nbformat_minor": 2
}
