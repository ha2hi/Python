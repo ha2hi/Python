{
 "cells": [
  {
   "cell_type": "code",
   "execution_count": 28,
   "metadata": {},
   "outputs": [
    {
     "name": "stdout",
     "output_type": "stream",
     "text": [
      "+\n",
      "+\n",
      "+\n",
      "+\n",
      "-\n",
      "-\n",
      "+\n",
      "+\n",
      "-\n",
      "+\n",
      "+\n",
      "-\n",
      "-\n",
      "-\n",
      "-\n",
      "-\n"
     ]
    }
   ],
   "source": [
    "n = int(input())\n",
    "res = []\n",
    "tmp = []\n",
    "i = 1\n",
    "flag = True\n",
    "for _ in range(n):\n",
    "    x = int(input())\n",
    "\n",
    "    while i <= x:\n",
    "        tmp.append(i)\n",
    "        res.append('+')\n",
    "        i += 1\n",
    "    \n",
    "    if tmp[-1] == x:\n",
    "        tmp.pop()\n",
    "        res.append('-')\n",
    "    else:\n",
    "        flag = False\n",
    "        break\n",
    "if flag:\n",
    "    print(*res, sep = '\\n')\n",
    "else:\n",
    "    print('NO')"
   ]
  },
  {
   "cell_type": "code",
   "execution_count": null,
   "metadata": {},
   "outputs": [],
   "source": []
  }
 ],
 "metadata": {
  "kernelspec": {
   "display_name": "base",
   "language": "python",
   "name": "python3"
  },
  "language_info": {
   "codemirror_mode": {
    "name": "ipython",
    "version": 3
   },
   "file_extension": ".py",
   "mimetype": "text/x-python",
   "name": "python",
   "nbconvert_exporter": "python",
   "pygments_lexer": "ipython3",
   "version": "3.9.7"
  }
 },
 "nbformat": 4,
 "nbformat_minor": 2
}
