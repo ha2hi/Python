{
 "cells": [
  {
   "cell_type": "code",
   "execution_count": 22,
   "metadata": {},
   "outputs": [
    {
     "data": {
      "text/plain": [
       "16"
      ]
     },
     "execution_count": 22,
     "metadata": {},
     "output_type": "execute_result"
    }
   ],
   "source": [
    "from collections import deque\n",
    "def solution(cacheSize, cities):\n",
    "    answer = 5*cacheSize\n",
    "    cache = deque(list(map(lambda x : x.upper(), cities[:cacheSize])))\n",
    "    for i in range(cacheSize, len(cities)):\n",
    "        if cities[i].upper() in cache:\n",
    "            answer += 1\n",
    "            cache.remove(cities[i].upper())\n",
    "        else:\n",
    "            answer += 5\n",
    "            if cache:\n",
    "                cache.popleft()\n",
    "        cache.append(cities[i].upper())\n",
    "    return answer\n",
    "        \n",
    "\n",
    "\n",
    "cacheSize = 2\n",
    "cities = [\"Jeju\", \"Pangyo\", \"NewYork\", \"newyork\"]\n",
    "solution(cacheSize, cities)"
   ]
  },
  {
   "cell_type": "code",
   "execution_count": 25,
   "metadata": {},
   "outputs": [
    {
     "data": {
      "text/plain": [
       "16"
      ]
     },
     "execution_count": 25,
     "metadata": {},
     "output_type": "execute_result"
    }
   ],
   "source": [
    "from collections import deque\n",
    "def solution(cacheSize, cities):\n",
    "    answer = 0\n",
    "    chache = deque([])\n",
    "    if cacheSize == 0:\n",
    "        return len(cities) * 5\n",
    "    \n",
    "    for city in cities:\n",
    "        city = city.upper()\n",
    "        if city in chache:\n",
    "            chache.remove(city)\n",
    "            answer += 1\n",
    "        else:\n",
    "            answer += 5\n",
    "            if len(chache) >= cacheSize:\n",
    "                chache.popleft()\n",
    "        chache.append(city)\n",
    "\n",
    "    return answer \n",
    "\n",
    "cacheSize = 2\n",
    "cities = [\"Jeju\", \"Pangyo\", \"NewYork\", \"newyork\"]\n",
    "solution(cacheSize, cities)"
   ]
  },
  {
   "cell_type": "code",
   "execution_count": null,
   "metadata": {},
   "outputs": [],
   "source": []
  }
 ],
 "metadata": {
  "kernelspec": {
   "display_name": "base",
   "language": "python",
   "name": "python3"
  },
  "language_info": {
   "codemirror_mode": {
    "name": "ipython",
    "version": 3
   },
   "file_extension": ".py",
   "mimetype": "text/x-python",
   "name": "python",
   "nbconvert_exporter": "python",
   "pygments_lexer": "ipython3",
   "version": "3.9.7"
  }
 },
 "nbformat": 4,
 "nbformat_minor": 2
}
