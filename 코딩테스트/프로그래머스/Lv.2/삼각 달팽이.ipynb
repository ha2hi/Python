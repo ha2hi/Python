{
 "cells": [
  {
   "cell_type": "code",
   "execution_count": 3,
   "metadata": {},
   "outputs": [
    {
     "data": {
      "text/plain": [
       "[[1, 0, 0, 0], [2, 9, 0, 0], [3, 10, 8, 0], [4, 5, 6, 7]]"
      ]
     },
     "execution_count": 3,
     "metadata": {},
     "output_type": "execute_result"
    }
   ],
   "source": [
    "# https://school.programmers.co.kr/learn/courses/30/lessons/68645\n",
    "def solution(n):\n",
    "    board = [[0]*n for _ in range(n)]\n",
    "    x, y = -1, 0\n",
    "    answer = []\n",
    "    num = 1\n",
    "\n",
    "    for i in range(n):\n",
    "        for j in range(i, n):\n",
    "            if i % 3 == 0:\n",
    "                x += 1\n",
    "            elif i % 3 == 1:\n",
    "                y += 1\n",
    "            elif i % 3 == 2:\n",
    "                x -= 1\n",
    "                y -= 1\n",
    "            board[x][y] = num\n",
    "            num += 1\n",
    "    for i in range(n):\n",
    "        for j in range(i+1):\n",
    "            answer.append(board[i][j])\n",
    "            \n",
    "    return answer\n",
    "\n",
    "n = 4\n",
    "solution(n)"
   ]
  },
  {
   "cell_type": "code",
   "execution_count": null,
   "metadata": {},
   "outputs": [],
   "source": []
  }
 ],
 "metadata": {
  "kernelspec": {
   "display_name": "base",
   "language": "python",
   "name": "python3"
  },
  "language_info": {
   "codemirror_mode": {
    "name": "ipython",
    "version": 3
   },
   "file_extension": ".py",
   "mimetype": "text/x-python",
   "name": "python",
   "nbconvert_exporter": "python",
   "pygments_lexer": "ipython3",
   "version": "3.9.7"
  }
 },
 "nbformat": 4,
 "nbformat_minor": 2
}
