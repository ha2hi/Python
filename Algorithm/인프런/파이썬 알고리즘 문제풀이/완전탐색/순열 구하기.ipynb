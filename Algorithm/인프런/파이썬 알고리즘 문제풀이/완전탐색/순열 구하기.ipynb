{
 "cells": [
  {
   "cell_type": "code",
   "execution_count": 14,
   "metadata": {},
   "outputs": [
    {
     "name": "stdout",
     "output_type": "stream",
     "text": [
      "1 2\n",
      "1 3\n",
      "2 1\n",
      "2 3\n",
      "3 1\n",
      "3 2\n"
     ]
    },
    {
     "data": {
      "text/plain": [
       "6"
      ]
     },
     "execution_count": 14,
     "metadata": {},
     "output_type": "execute_result"
    }
   ],
   "source": [
    "def solution(n, m):\n",
    "    ch = [0] * (n+1)\n",
    "    res = [0] * m\n",
    "    cnt = 0\n",
    "    def dfs(l):\n",
    "        nonlocal cnt\n",
    "        if l == m:\n",
    "            cnt += 1\n",
    "            print(*res)\n",
    "        else:\n",
    "            for i in range(1, n+1):\n",
    "                if ch[i] == 0:\n",
    "                    ch[i] = 1\n",
    "                    res[l] = i\n",
    "                    dfs(l+1)\n",
    "                    ch[i] = 0\n",
    "                \n",
    "    dfs(0)\n",
    "    return cnt\n",
    "\n",
    "n, m = 3, 2\n",
    "solution(n, m)"
   ]
  },
  {
   "cell_type": "code",
   "execution_count": null,
   "metadata": {},
   "outputs": [],
   "source": []
  }
 ],
 "metadata": {
  "kernelspec": {
   "display_name": "base",
   "language": "python",
   "name": "python3"
  },
  "language_info": {
   "codemirror_mode": {
    "name": "ipython",
    "version": 3
   },
   "file_extension": ".py",
   "mimetype": "text/x-python",
   "name": "python",
   "nbconvert_exporter": "python",
   "pygments_lexer": "ipython3",
   "version": "3.9.7"
  }
 },
 "nbformat": 4,
 "nbformat_minor": 2
}
