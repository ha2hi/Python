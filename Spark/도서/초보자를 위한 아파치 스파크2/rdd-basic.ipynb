{
 "cells": [
  {
   "cell_type": "code",
   "execution_count": 2,
   "metadata": {},
   "outputs": [
    {
     "name": "stderr",
     "output_type": "stream",
     "text": [
      "24/08/05 22:16:54 WARN Utils: Your hostname, MZC01-HYUCKSANGCHO.local resolves to a loopback address: 127.0.0.1; using 192.168.0.51 instead (on interface en0)\n",
      "24/08/05 22:16:54 WARN Utils: Set SPARK_LOCAL_IP if you need to bind to another address\n",
      "Setting default log level to \"WARN\".\n",
      "To adjust logging level use sc.setLogLevel(newLevel). For SparkR, use setLogLevel(newLevel).\n",
      "24/08/05 22:16:55 WARN NativeCodeLoader: Unable to load native-hadoop library for your platform... using builtin-java classes where applicable\n"
     ]
    }
   ],
   "source": [
    "from pyspark import SparkConf, SparkContext\n",
    "conf = SparkConf().setMaster('local').setAppName('r')\n",
    "sc = SparkContext(conf = conf)"
   ]
  },
  {
   "cell_type": "code",
   "execution_count": 3,
   "metadata": {},
   "outputs": [
    {
     "name": "stderr",
     "output_type": "stream",
     "text": [
      "                                                                                \r"
     ]
    },
    {
     "data": {
      "text/plain": [
       "['SB10001,1000',\n",
       " 'SB10002,1200',\n",
       " 'SB10003,8000',\n",
       " 'SB10004,400',\n",
       " 'SB10005,300',\n",
       " 'SB10006,10000',\n",
       " 'SB10007,500',\n",
       " 'SB10008,56',\n",
       " 'SB10009,30',\n",
       " 'SB10010,7000',\n",
       " 'CR10001,7000',\n",
       " 'SB10002,-10']"
      ]
     },
     "execution_count": 3,
     "metadata": {},
     "output_type": "execute_result"
    }
   ],
   "source": [
    "# 계좌번호, 거래금액\n",
    "acTransList = [\"SB10001,1000\", \"SB10002,1200\", \"SB10003,8000\", \"SB10004,400\", \"SB10005,300\", \"SB10006,10000\", \"SB10007,500\", \"SB10008,56\", \"SB10009,30\",\"SB10010,7000\", \"CR10001,7000\", \"SB10002,-10\"]\n",
    "acTransRDD = sc.parallelize(acTransList)\n",
    "acTransRDD.collect()"
   ]
  },
  {
   "cell_type": "code",
   "execution_count": 4,
   "metadata": {},
   "outputs": [
    {
     "name": "stderr",
     "output_type": "stream",
     "text": [
      "                                                                                \r"
     ]
    },
    {
     "data": {
      "text/plain": [
       "['SB10001,1000',\n",
       " 'SB10002,1200',\n",
       " 'SB10003,8000',\n",
       " 'SB10004,400',\n",
       " 'SB10005,300',\n",
       " 'SB10006,10000',\n",
       " 'SB10007,500',\n",
       " 'SB10008,56',\n",
       " 'SB10009,30',\n",
       " 'SB10010,7000']"
      ]
     },
     "execution_count": 4,
     "metadata": {},
     "output_type": "execute_result"
    }
   ],
   "source": [
    "# 거래 금액이 0원 이상이고, 계좌번호가 SB로시작하는 데이터\n",
    "from decimal import Decimal\n",
    "goodTransRecords = acTransRDD.filter(lambda trans : Decimal(trans.split(',')[1]) > 0).filter(lambda trans : trans.split(',')[0].startswith('SB') == True)\n",
    "goodTransRecords.collect()"
   ]
  },
  {
   "cell_type": "code",
   "execution_count": 5,
   "metadata": {},
   "outputs": [
    {
     "data": {
      "text/plain": [
       "['SB10001,1000',\n",
       " 'SB10002,1200',\n",
       " 'SB10003,8000',\n",
       " 'SB10006,10000',\n",
       " 'SB10010,7000',\n",
       " 'CR10001,7000']"
      ]
     },
     "execution_count": 5,
     "metadata": {},
     "output_type": "execute_result"
    }
   ],
   "source": [
    "# 거래 금액이 1000이상인 모든 고객\n",
    "upper_1000_Recoard = acTransRDD.filter(lambda trans : Decimal(trans.split(',')[1]) >= 1000)\n",
    "upper_1000_Recoard.collect()"
   ]
  },
  {
   "cell_type": "code",
   "execution_count": 12,
   "metadata": {},
   "outputs": [
    {
     "data": {
      "text/plain": [
       "['CR10001,7000']"
      ]
     },
     "execution_count": 12,
     "metadata": {},
     "output_type": "execute_result"
    }
   ],
   "source": [
    "# 계좌번호 'SB'로 시작하지 않는 계좌만 출력\n",
    "badAcNoLambda = acTransRDD.filter(lambda trans : trans.split(',')[0].startswith('SB') == False)\n",
    "badAcNoLambda.collect()"
   ]
  },
  {
   "cell_type": "code",
   "execution_count": 23,
   "metadata": {},
   "outputs": [
    {
     "data": {
      "text/plain": [
       "Decimal('35476')"
      ]
     },
     "execution_count": 23,
     "metadata": {},
     "output_type": "execute_result"
    }
   ],
   "source": [
    "# 모든 거래 금액의 합계\n",
    "from decimal import Decimal\n",
    "sumAmount = acTransRDD.map(lambda trans : Decimal(trans.split(',')[1])).reduce(lambda x,y : x+y)\n",
    "sumAmount"
   ]
  },
  {
   "cell_type": "code",
   "execution_count": 29,
   "metadata": {},
   "outputs": [
    {
     "data": {
      "text/plain": [
       "Decimal('10000')"
      ]
     },
     "execution_count": 29,
     "metadata": {},
     "output_type": "execute_result"
    }
   ],
   "source": [
    "# 모든 거래 금액의 최댓값\n",
    "maxAmount = acTransRDD.map(lambda trans : Decimal(trans.split(',')[1])).reduce(lambda x, y : x if x>y else y)\n",
    "maxAmount"
   ]
  },
  {
   "cell_type": "code",
   "execution_count": 30,
   "metadata": {},
   "outputs": [
    {
     "data": {
      "text/plain": [
       "Decimal('-10')"
      ]
     },
     "execution_count": 30,
     "metadata": {},
     "output_type": "execute_result"
    }
   ],
   "source": [
    "# 모든 거래 금액의 최솟값\n",
    "minAmount = acTransRDD.map(lambda trans : Decimal(trans.split(',')[1])).reduce(lambda x,y : x if x < y else y)\n",
    "minAmount"
   ]
  },
  {
   "cell_type": "code",
   "execution_count": 37,
   "metadata": {},
   "outputs": [
    {
     "data": {
      "text/plain": [
       "['SB10001',\n",
       " 'SB10002',\n",
       " 'SB10003',\n",
       " 'SB10004',\n",
       " 'SB10005',\n",
       " 'SB10006',\n",
       " 'SB10007',\n",
       " 'SB10008',\n",
       " 'SB10009',\n",
       " 'SB10010',\n",
       " 'SB10002']"
      ]
     },
     "execution_count": 37,
     "metadata": {},
     "output_type": "execute_result"
    }
   ],
   "source": [
    "# 'SB'로 시작하지 않는 계좌만 출력\n",
    "allGoodAccountNos = acTransRDD.flatMap(lambda trans : trans.split(',')).filter(lambda trans : trans.startswith('SB')==True)\n",
    "allGoodAccountNos.collect()"
   ]
  },
  {
   "cell_type": "code",
   "execution_count": null,
   "metadata": {},
   "outputs": [],
   "source": []
  }
 ],
 "metadata": {
  "kernelspec": {
   "display_name": "base",
   "language": "python",
   "name": "python3"
  },
  "language_info": {
   "codemirror_mode": {
    "name": "ipython",
    "version": 3
   },
   "file_extension": ".py",
   "mimetype": "text/x-python",
   "name": "python",
   "nbconvert_exporter": "python",
   "pygments_lexer": "ipython3",
   "version": "3.9.7"
  }
 },
 "nbformat": 4,
 "nbformat_minor": 2
}
