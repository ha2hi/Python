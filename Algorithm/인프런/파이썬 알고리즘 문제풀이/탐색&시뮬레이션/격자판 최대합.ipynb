{
 "cells": [
  {
   "cell_type": "code",
   "execution_count": 16,
   "metadata": {},
   "outputs": [
    {
     "name": "stdout",
     "output_type": "stream",
     "text": [
      "155\n"
     ]
    }
   ],
   "source": [
    "n = int(input())\n",
    "a = [list(map(int, input().split())) for _ in range(n)]\n",
    "res = 0\n",
    "c_r_sum = 0\n",
    "c_l_sum = 0\n",
    "for i in range(n):\n",
    "    c_sum = sum(map(lambda x : x[i], a))\n",
    "    r_sum = sum(a[i])\n",
    "    c_r_sum += a[i][i]\n",
    "    c_l_sum += a[n-i-1][i]\n",
    "    res = max(res, c_sum, r_sum)\n",
    "res = max(res,c_r_sum,c_l_sum)\n",
    "print(res)\n",
    "\n"
   ]
  },
  {
   "cell_type": "code",
   "execution_count": null,
   "metadata": {},
   "outputs": [],
   "source": []
  }
 ],
 "metadata": {
  "kernelspec": {
   "display_name": "base",
   "language": "python",
   "name": "python3"
  },
  "language_info": {
   "codemirror_mode": {
    "name": "ipython",
    "version": 3
   },
   "file_extension": ".py",
   "mimetype": "text/x-python",
   "name": "python",
   "nbconvert_exporter": "python",
   "pygments_lexer": "ipython3",
   "version": "3.9.7"
  },
  "orig_nbformat": 4
 },
 "nbformat": 4,
 "nbformat_minor": 2
}
