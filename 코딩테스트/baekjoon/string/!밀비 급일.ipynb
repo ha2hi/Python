{
 "cells": [
  {
   "cell_type": "code",
   "execution_count": 1,
   "metadata": {},
   "outputs": [
    {
     "name": "stdout",
     "output_type": "stream",
     "text": [
      "What a good code!\n",
      "obfustication\n",
      "We intend to begin on the first of February unrestricted submarine warfare\n",
      "SNE\n"
     ]
    }
   ],
   "source": [
    "# https://www.acmicpc.net/problem/11365\n",
    "while True:\n",
    "    strs = input()\n",
    "    if strs == \"END\":\n",
    "        break\n",
    "    print(strs[::-1])"
   ]
  },
  {
   "cell_type": "code",
   "execution_count": null,
   "metadata": {},
   "outputs": [],
   "source": []
  }
 ],
 "metadata": {
  "kernelspec": {
   "display_name": "base",
   "language": "python",
   "name": "python3"
  },
  "language_info": {
   "codemirror_mode": {
    "name": "ipython",
    "version": 3
   },
   "file_extension": ".py",
   "mimetype": "text/x-python",
   "name": "python",
   "nbconvert_exporter": "python",
   "pygments_lexer": "ipython3",
   "version": "3.9.7"
  }
 },
 "nbformat": 4,
 "nbformat_minor": 2
}
