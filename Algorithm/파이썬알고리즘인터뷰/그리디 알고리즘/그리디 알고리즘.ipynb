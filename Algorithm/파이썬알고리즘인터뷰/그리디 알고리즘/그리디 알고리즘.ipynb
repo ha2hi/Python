{
 "cells": [
  {
   "cell_type": "code",
   "execution_count": 3,
   "metadata": {},
   "outputs": [
    {
     "data": {
      "text/plain": [
       "17.333333333333332"
      ]
     },
     "execution_count": 3,
     "metadata": {},
     "output_type": "execute_result"
    }
   ],
   "source": [
    "### 배낭 문제(짐을 쪼갤 수 있는 경우)\n",
    "# 짐의 가치와 무게가 있는 짐들 중에서 최대값이 정해져 있 을 때 최대 가치를 구하는 방법\n",
    "def fractional_knapsack(cargo):\n",
    "    capacity = 15\n",
    "    pack = []\n",
    "    for c in cargo:\n",
    "        pack.append((c[0]/c[1], c[0], c[1]))\n",
    "    pack.sort(reverse=True) # 단가 기준으로 정렬\n",
    "\n",
    "    total_value: flaot = 0\n",
    "    for p in pack:\n",
    "        if capacity-p[2] >= 0:\n",
    "            capacity -= p[2]\n",
    "            total_value += p[1]\n",
    "        else:\n",
    "            fraction = capacity / p[2]\n",
    "            total_value += fraction * p[1]\n",
    "            break\n",
    "    \n",
    "    return total_value\n",
    "\n",
    "cargo = [\n",
    "    (4,12), # (가치,무게)\n",
    "    (2,1),\n",
    "    (10,4),\n",
    "    (1,1),\n",
    "    (2,2)\n",
    "]\n",
    "fractional_knapsack(cargo)"
   ]
  },
  {
   "cell_type": "code",
   "execution_count": null,
   "metadata": {},
   "outputs": [],
   "source": []
  },
  {
   "cell_type": "markdown",
   "metadata": {},
   "source": [
    "### 주식을 사고팔기 가장 좋은 시점2\n",
    "https://leetcode.com/problems/best-time-to-buy-and-sell-stock-ii/submissions/1284937760/\n",
    "\n",
    "여러 번의 거래로 낼 수 있는 최대 이익을 산출하라.\n",
    "- 입력\n",
    "  - prices = [7,1,5,3,6,4]\n",
    "- 출력\n",
    "  - 7"
   ]
  },
  {
   "cell_type": "code",
   "execution_count": 8,
   "metadata": {},
   "outputs": [
    {
     "data": {
      "text/plain": [
       "0"
      ]
     },
     "execution_count": 8,
     "metadata": {},
     "output_type": "execute_result"
    }
   ],
   "source": [
    "# 내풀이\n",
    "from typing import List\n",
    "class Solution:\n",
    "    def maxProfit(self, prices: List[int]) -> int:\n",
    "        n = len(prices)\n",
    "        now = prices[0]\n",
    "        res = 0\n",
    "        for i in range(1,n):\n",
    "            if now <= prices[i]:\n",
    "                res += (prices[i]-now)\n",
    "            now = prices[i]\n",
    "        \n",
    "        return res\n",
    "\n",
    "Solution().maxProfit([7,6,4,3,1])"
   ]
  },
  {
   "cell_type": "code",
   "execution_count": null,
   "metadata": {},
   "outputs": [],
   "source": [
    "#책 풀이 1\n",
    "from typing import List\n",
    "class Solution:\n",
    "    def maxProfit(self, prices: List[int]) -> int:\n",
    "        res = 0\n",
    "        for i in range(len(prices)-1):\n",
    "            if prices[i+1] > prices[i]:\n",
    "                res += prices[i+1] - prices[i]\n",
    "\n",
    "        return res"
   ]
  },
  {
   "cell_type": "code",
   "execution_count": 10,
   "metadata": {},
   "outputs": [
    {
     "data": {
      "text/plain": [
       "7"
      ]
     },
     "execution_count": 10,
     "metadata": {},
     "output_type": "execute_result"
    }
   ],
   "source": [
    "#책 풀이2\n",
    "from typing import List\n",
    "class Solution:\n",
    "    def maxProfit(self, prices: List[int]) -> int:\n",
    "        return sum(max(prices[i+1]-prices[i], 0) for i in range(len(prices)-1))\n",
    "\n",
    "Solution().maxProfit([7,1,5,3,6,4])"
   ]
  },
  {
   "cell_type": "code",
   "execution_count": null,
   "metadata": {},
   "outputs": [],
   "source": []
  },
  {
   "cell_type": "markdown",
   "metadata": {},
   "source": [
    "### 키에 따른 대기열 재구성\n",
    "\n",
    "https://leetcode.com/problems/queue-reconstruction-by-height/description/\n",
    "여러 명의 사람들이 줄을 서 있다. 각각의 사람은 (h, k)의 두 정수 쌍을 갖는데,  \n",
    "h는 그 사람의 키, k는 앞에 줄 서 있는 사람들 중 자신의 키 이상인 사람들의 수를 뜻한다.  \n",
    "이 값이 올바르도록 줄을 재정렬하는 알고리즘을 작성하라.  \n",
    "- 입력\n",
    "  - people = [[6,0],[5,0],[4,0],[3,2],[2,2],[1,4]]\n",
    "- 출력\n",
    "  - [[4,0],[5,0],[2,2],[3,2],[1,4],[6,0]]"
   ]
  },
  {
   "cell_type": "code",
   "execution_count": 14,
   "metadata": {},
   "outputs": [
    {
     "data": {
      "text/plain": [
       "[(4, 0), (5, 0), (2, 2), (3, 2), (1, 4), (6, 0)]"
      ]
     },
     "execution_count": 14,
     "metadata": {},
     "output_type": "execute_result"
    }
   ],
   "source": [
    "import heapq\n",
    "from typing import List\n",
    "class Solution:\n",
    "    def reconstructQueue(self, people: List[List[int]]) -> List[List[int]]:\n",
    "        heap = []\n",
    "\n",
    "        for p in people:\n",
    "            heapq.heappush(heap, (-p[0], p[1]))\n",
    "        \n",
    "        res = []\n",
    "        while heap:\n",
    "            person = heapq.heappop(heap)\n",
    "            res.insert(person[1], (-person[0], person[1]))\n",
    "        \n",
    "        return res\n",
    "\n",
    "Solution().reconstructQueue(people=[[6,0],[5,0],[4,0],[3,2],[2,2],[1,4]])"
   ]
  },
  {
   "cell_type": "code",
   "execution_count": null,
   "metadata": {},
   "outputs": [],
   "source": []
  },
  {
   "cell_type": "markdown",
   "metadata": {},
   "source": [
    "### 태스크 스케줄러\n",
    "https://leetcode.com/problems/task-scheduler/description/\n",
    "\n",
    "A에서 Z로 표현된 태스크가 있다. 각 간격 마다 CPU는 한 번의 태스크만 실행할 수 있다.  \n",
    "n번의 간격 내에는 동일한 태스크를 실행할 수 없다.  \n",
    "태스크를 실행할 수 없는 경우 IDLE 상태가 된다. 모든 태스크를 실행하기 위한 최소 간격을 출력하라.  \n",
    "\n",
    "- 입력\n",
    "  - tasks = [\"A\",\"A\",\"A\",\"B\",\"B\",\"B\"], n = 2\n",
    "- 출력\n",
    "  - 8\n",
    "- 설명 : A -> B -> IDLE -> A -> B -> IDLE -> A -> B\n"
   ]
  },
  {
   "cell_type": "code",
   "execution_count": 4,
   "metadata": {},
   "outputs": [
    {
     "data": {
      "text/plain": [
       "8"
      ]
     },
     "execution_count": 4,
     "metadata": {},
     "output_type": "execute_result"
    }
   ],
   "source": [
    "from collections import Counter\n",
    "from typing import List\n",
    "class Solution:\n",
    "    def leastInterval(self, tasks: List[str], n: int) -> int:\n",
    "        counter = Counter(tasks)\n",
    "        res = 0\n",
    "        \n",
    "        while True:\n",
    "            tmp_c = 0\n",
    "            for task, _ in counter.most_common(n+1):\n",
    "                res += 1\n",
    "                tmp_c += 1\n",
    "\n",
    "                counter.subtract(task)\n",
    "                counter += Counter()\n",
    "            \n",
    "            if not counter:\n",
    "                break\n",
    "\n",
    "            res += tmp_c - n + 1\n",
    "        \n",
    "        return res\n",
    "\n",
    "\n",
    "\n",
    "Solution().leastInterval(tasks=[\"A\",\"A\",\"A\",\"B\",\"B\",\"B\"], n = 2)"
   ]
  },
  {
   "cell_type": "code",
   "execution_count": null,
   "metadata": {},
   "outputs": [],
   "source": []
  },
  {
   "cell_type": "markdown",
   "metadata": {},
   "source": [
    "### 주유소\n",
    "https://leetcode.com/problems/gas-station/\n",
    "각 주요소는 gas[i] 만큼의 기름을 갖고 있으며, 다음 주유소를 이동하는데 cost[i]가 필요하다.  \n",
    "모든 주유소를 방문할 수 있는 출발점의 인덱스를 출력하라.  \n",
    "  \n",
    "출발점이 존재하지 않는 경우 -1를 출력하라.\n",
    "\n",
    "- 입력\n",
    "  - gas = [1,2,3,4,5], cost = [3,4,5,1,2]\n",
    "- 출력\n",
    "  - 3"
   ]
  },
  {
   "cell_type": "code",
   "execution_count": null,
   "metadata": {},
   "outputs": [],
   "source": [
    "class Solution:\n",
    "    def canCompleteCircuit(self, gas: List[int], cost: List[int]) -> int:\n",
    "        n = len(gas)\n",
    "        \n",
    "        for start in range(len(gas)):\n",
    "            fuel = 0\n",
    "            for i in range(start, n+start):\n",
    "                index = (i % n)\n",
    "\n",
    "                flag = True\n",
    "                if gas[index] + fuel < cost[index]:\n",
    "                    flag = False\n",
    "                    break\n",
    "                else:\n",
    "                    fuel += gas[index] - cost[index]\n",
    "            \n",
    "            if flag:\n",
    "                return start\n",
    "        \n",
    "        return -1\n",
    "\n"
   ]
  },
  {
   "cell_type": "code",
   "execution_count": null,
   "metadata": {},
   "outputs": [],
   "source": [
    "class Solution:\n",
    "    def canCompleteCircuit(self, gas: List[int], cost: List[int]) -> int:\n",
    "        if sum(gas) < sum(cost):\n",
    "            return -1\n",
    "        \n",
    "        start, fuel = 0, 0\n",
    "        for i in range(len(gas)):\n",
    "            if fuel + gas[i] < cost:\n",
    "                start += 1\n",
    "                fuel = 0\n",
    "            else:\n",
    "                fuel += gas[i] - cost[i]\n",
    "            \n",
    "        return start"
   ]
  }
 ],
 "metadata": {
  "kernelspec": {
   "display_name": "base",
   "language": "python",
   "name": "python3"
  },
  "language_info": {
   "codemirror_mode": {
    "name": "ipython",
    "version": 3
   },
   "file_extension": ".py",
   "mimetype": "text/x-python",
   "name": "python",
   "nbconvert_exporter": "python",
   "pygments_lexer": "ipython3",
   "version": "3.9.7"
  }
 },
 "nbformat": 4,
 "nbformat_minor": 2
}
