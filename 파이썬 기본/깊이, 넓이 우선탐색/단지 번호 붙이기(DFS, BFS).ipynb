{
 "cells": [
  {
   "cell_type": "code",
   "execution_count": 7,
   "metadata": {},
   "outputs": [
    {
     "name": "stdout",
     "output_type": "stream",
     "text": [
      "3\n",
      "7\n",
      "8\n",
      "9\n"
     ]
    }
   ],
   "source": [
    "def DFS(x,y):\n",
    "    global cnt\n",
    "    cnt += 1\n",
    "    a[x][y] = 0\n",
    "    for i in range(4):\n",
    "        xx = x+dx[i]\n",
    "        yy = y+dy[i]\n",
    "        if 0<=xx<n and 0<=yy<n and a[xx][yy] == 1:\n",
    "            DFS(xx,yy)\n",
    "\n",
    "\n",
    "dx = [-1,0,1,0]\n",
    "dy =[0,1,0,-1]\n",
    "n = int(input())\n",
    "a = [list(map(int, input())) for _ in range(n)]\n",
    "res = []\n",
    "for i in range(n):\n",
    "    for j in range(n):\n",
    "        if a[i][j] == 1:\n",
    "            cnt = 0\n",
    "            DFS(i,j)\n",
    "            res.append(cnt)\n",
    "print(len(res))\n",
    "res.sort()\n",
    "for x in res:\n",
    "    print(x)"
   ]
  },
  {
   "cell_type": "code",
   "execution_count": null,
   "metadata": {},
   "outputs": [],
   "source": []
  },
  {
   "cell_type": "code",
   "execution_count": null,
   "metadata": {},
   "outputs": [],
   "source": []
  }
 ],
 "metadata": {
  "kernelspec": {
   "display_name": "base",
   "language": "python",
   "name": "python3"
  },
  "language_info": {
   "codemirror_mode": {
    "name": "ipython",
    "version": 3
   },
   "file_extension": ".py",
   "mimetype": "text/x-python",
   "name": "python",
   "nbconvert_exporter": "python",
   "pygments_lexer": "ipython3",
   "version": "3.9.7"
  },
  "orig_nbformat": 4
 },
 "nbformat": 4,
 "nbformat_minor": 2
}
