{
 "cells": [
  {
   "cell_type": "code",
   "execution_count": 1,
   "metadata": {},
   "outputs": [
    {
     "name": "stdout",
     "output_type": "stream",
     "text": [
      "1 1\n",
      "1 7\n",
      "1 9\n",
      "7 7\n",
      "7 9\n",
      "9 9\n"
     ]
    }
   ],
   "source": [
    "# https://www.acmicpc.net/problem/15666\n",
    "def dfs(l, s):\n",
    "    if l == m:\n",
    "        print(*res)\n",
    "    else:\n",
    "        for i in range(s, len(arr)):\n",
    "            res[l] = arr[i]\n",
    "            dfs(l+1, s)\n",
    "            s+=1\n",
    "\n",
    "\n",
    "n, m = map(int, input().split())\n",
    "arr = sorted(set(map(int, input().split())))\n",
    "res = [0]*m\n",
    "dfs(0,0)\n"
   ]
  },
  {
   "cell_type": "code",
   "execution_count": null,
   "metadata": {},
   "outputs": [],
   "source": []
  }
 ],
 "metadata": {
  "kernelspec": {
   "display_name": "base",
   "language": "python",
   "name": "python3"
  },
  "language_info": {
   "codemirror_mode": {
    "name": "ipython",
    "version": 3
   },
   "file_extension": ".py",
   "mimetype": "text/x-python",
   "name": "python",
   "nbconvert_exporter": "python",
   "pygments_lexer": "ipython3",
   "version": "3.9.7"
  }
 },
 "nbformat": 4,
 "nbformat_minor": 2
}
