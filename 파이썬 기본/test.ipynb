{
 "cells": [
  {
   "cell_type": "code",
   "execution_count": 66,
   "metadata": {},
   "outputs": [
    {
     "data": {
      "text/plain": [
       "[[2, 2, 3], [7]]"
      ]
     },
     "execution_count": 66,
     "metadata": {},
     "output_type": "execute_result"
    }
   ],
   "source": [
    "from typing import List\n",
    "class Solution:\n",
    "    def combinationSum(self, candidates: List[int], target: int) -> List[List[int]]:\n",
    "        res = []\n",
    "        def dfs(csum, index, path):\n",
    "            if csum < 0:\n",
    "                return\n",
    "            if csum == 0:\n",
    "                res.append(path)\n",
    "            else:\n",
    "                for i in range(index, len(candidates)):\n",
    "                    dfs(csum-candidates[i], i, path+[candidates[i]])\n",
    "        \n",
    "        dfs(target, 0, [])\n",
    "\n",
    "        return resqa\n",
    "        xc\n",
    "\n",
    "Solution().combinationSum(candidates = [2,3,6,7], target=7)"
   ]
  },
  {
   "cell_type": "code",
   "execution_count": 12,
   "metadata": {},
   "outputs": [
    {
     "data": {
      "text/plain": [
       "7"
      ]
     },
     "execution_count": 12,
     "metadata": {},
     "output_type": "execute_result"
    }
   ],
   "source": [
    "bin1 = \"100\"\n",
    "bin2 = \"110\"\n",
    "bin3 = \"111\"\n",
    "\n",
    "a = int(bin1,2)\n",
    "b = int(bin2, 2)\n",
    "c = int(bin3, 2)\n",
    "a|b|c       # 3"
   ]
  },
  {
   "cell_type": "code",
   "execution_count": 2,
   "metadata": {},
   "outputs": [
    {
     "name": "stdout",
     "output_type": "stream",
     "text": [
      "hello2\n",
      "0\n"
     ]
    }
   ],
   "source": [
    "import os\n",
    "\n",
    "print(os.system('echo \"hello2\"'))"
   ]
  },
  {
   "cell_type": "code",
   "execution_count": null,
   "metadata": {},
   "outputs": [],
   "source": [
    "$ helm repo add spark-operator https://kubeflow.github.io/spark-operator\n",
    "\n",
    "$ helm install my-release spark-operator/spark-operator --namespace spark-operator --create-namespace\n",
    "\n",
    "$ helm upgrade -i my-release spark-operator/spark-operator --namespace spark-operator --set webhook.enable=true"
   ]
  }
 ],
 "metadata": {
  "kernelspec": {
   "display_name": "base",
   "language": "python",
   "name": "python3"
  },
  "language_info": {
   "codemirror_mode": {
    "name": "ipython",
    "version": 3
   },
   "file_extension": ".py",
   "mimetype": "text/x-python",
   "name": "python",
   "nbconvert_exporter": "python",
   "pygments_lexer": "ipython3",
   "version": "3.9.7"
  },
  "orig_nbformat": 4
 },
 "nbformat": 4,
 "nbformat_minor": 2
}
