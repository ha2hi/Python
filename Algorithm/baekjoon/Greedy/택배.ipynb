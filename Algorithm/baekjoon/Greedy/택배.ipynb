{
 "cells": [
  {
   "cell_type": "code",
   "execution_count": 23,
   "metadata": {},
   "outputs": [
    {
     "name": "stdout",
     "output_type": "stream",
     "text": [
      "150\n"
     ]
    }
   ],
   "source": [
    "# https://www.acmicpc.net/problem/8980\n",
    "def solution(n,c,m,a):\n",
    "    res = 0\n",
    "    a.sort(key=lambda x : x[1])\n",
    "    capacity = [0] * (n+1)\n",
    "\n",
    "    for s, e, v in a:\n",
    "        tmp = 0\n",
    "        for i in range(s,e):\n",
    "            tmp = max(tmp, capacity[i])\n",
    "        \n",
    "        load = min(v, c - tmp)\n",
    "\n",
    "        if load > 0:\n",
    "            for i in range(s,e):\n",
    "                capacity[i] += load\n",
    "            \n",
    "            res += load\n",
    "    \n",
    "    return res\n",
    "\n",
    "\n",
    "n, c = map(int, input().split())\n",
    "m = int(input())\n",
    "a = []\n",
    "for _ in range(m):\n",
    "    x, y, z = map(int, input().split())\n",
    "    a.append((x,y,z))\n",
    "\n",
    "print(solution(n,c,m,a))"
   ]
  },
  {
   "cell_type": "code",
   "execution_count": 15,
   "metadata": {},
   "outputs": [
    {
     "name": "stdout",
     "output_type": "stream",
     "text": [
      "150\n"
     ]
    }
   ],
   "source": [
    "def solution(n, c, m, a):\n",
    "    res = 0\n",
    "    a.sort(key=lambda x: x[1])\n",
    "    \n",
    "    capacity = [0] * (n+1)\n",
    "    \n",
    "    for x,y,z in a:\n",
    "        max_capacity = 0\n",
    "        for i in range(x, y):\n",
    "            max_capacity = max(max_capacity, capacity[i])\n",
    "        \n",
    "        possible_load = min(z, c-max_capacity)\n",
    "\n",
    "        if possible_load > 0:\n",
    "            for i in range(x, y):\n",
    "                capacity[i] += possible_load\n",
    "            res += possible_load\n",
    "    \n",
    "    return res\n",
    "\n",
    "\n",
    "n, c = map(int, input().split())\n",
    "m = int(input())\n",
    "a = [tuple(map(int, input().split())) for _ in range(m)]\n",
    "print(solution(n, c, m, a))\n"
   ]
  },
  {
   "cell_type": "code",
   "execution_count": null,
   "metadata": {},
   "outputs": [],
   "source": []
  }
 ],
 "metadata": {
  "kernelspec": {
   "display_name": "base",
   "language": "python",
   "name": "python3"
  },
  "language_info": {
   "codemirror_mode": {
    "name": "ipython",
    "version": 3
   },
   "file_extension": ".py",
   "mimetype": "text/x-python",
   "name": "python",
   "nbconvert_exporter": "python",
   "pygments_lexer": "ipython3",
   "version": "3.9.7"
  }
 },
 "nbformat": 4,
 "nbformat_minor": 2
}
