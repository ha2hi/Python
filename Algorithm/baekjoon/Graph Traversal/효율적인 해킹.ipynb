{
 "cells": [
  {
   "cell_type": "code",
   "execution_count": 8,
   "metadata": {},
   "outputs": [
    {
     "name": "stdout",
     "output_type": "stream",
     "text": [
      "1 2\n"
     ]
    }
   ],
   "source": [
    "# https://www.acmicpc.net/problem/1325\n",
    "from collections import deque\n",
    "def bfs(v):\n",
    "    q = deque([v])\n",
    "    ch[v] = True\n",
    "    cnt = 0\n",
    "    while q:\n",
    "        now = q.popleft()\n",
    "        for x in graph[now]:\n",
    "            if not ch[x]:\n",
    "                ch[x] = True\n",
    "                q.append(x)\n",
    "                cnt += 1\n",
    "    return cnt\n",
    "\n",
    "n, m = map(int, input().split())\n",
    "graph = [[] for _ in range(n+1)]\n",
    "for _ in range(m):\n",
    "    x, y = map(int, input().split())\n",
    "    graph[y].append(x)\n",
    "\n",
    "res, tmp = [], 0\n",
    "for i in range(1, n+1):\n",
    "    ch = [False] * (n+1)\n",
    "    cnt = bfs(i)\n",
    "\n",
    "    if cnt == tmp:\n",
    "        res.append(i)\n",
    "    elif cnt > tmp:\n",
    "        tmp = cnt\n",
    "        res = [i]\n",
    "\n",
    "print(*res)"
   ]
  },
  {
   "cell_type": "code",
   "execution_count": null,
   "metadata": {},
   "outputs": [],
   "source": []
  }
 ],
 "metadata": {
  "kernelspec": {
   "display_name": "base",
   "language": "python",
   "name": "python3"
  },
  "language_info": {
   "codemirror_mode": {
    "name": "ipython",
    "version": 3
   },
   "file_extension": ".py",
   "mimetype": "text/x-python",
   "name": "python",
   "nbconvert_exporter": "python",
   "pygments_lexer": "ipython3",
   "version": "3.9.7"
  }
 },
 "nbformat": 4,
 "nbformat_minor": 2
}
