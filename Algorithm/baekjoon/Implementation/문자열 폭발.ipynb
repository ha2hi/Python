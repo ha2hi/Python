{
 "cells": [
  {
   "cell_type": "code",
   "execution_count": 2,
   "metadata": {},
   "outputs": [
    {
     "name": "stdout",
     "output_type": "stream",
     "text": [
      "FRULA\n"
     ]
    }
   ],
   "source": [
    "# https://www.acmicpc.net/problem/9935\n",
    "s = input()\n",
    "boom_s = input()\n",
    "boom_len = len(boom_s)\n",
    "stack = []\n",
    "\n",
    "for i in range(len(s)):\n",
    "    stack.append(s[i])\n",
    "    if ''.join(stack[-boom_len:]) == boom_s:\n",
    "        for _ in range(boom_len):\n",
    "            stack.pop()\n",
    "\n",
    "if stack:\n",
    "    print(''.join(stack))\n",
    "else:\n",
    "    print('FRULA')"
   ]
  },
  {
   "cell_type": "code",
   "execution_count": null,
   "metadata": {},
   "outputs": [],
   "source": []
  }
 ],
 "metadata": {
  "kernelspec": {
   "display_name": "base",
   "language": "python",
   "name": "python3"
  },
  "language_info": {
   "codemirror_mode": {
    "name": "ipython",
    "version": 3
   },
   "file_extension": ".py",
   "mimetype": "text/x-python",
   "name": "python",
   "nbconvert_exporter": "python",
   "pygments_lexer": "ipython3",
   "version": "3.9.7"
  }
 },
 "nbformat": 4,
 "nbformat_minor": 2
}
