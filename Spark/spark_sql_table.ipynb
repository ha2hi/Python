{
 "cells": [
  {
   "cell_type": "code",
   "execution_count": 1,
   "metadata": {},
   "outputs": [
    {
     "name": "stderr",
     "output_type": "stream",
     "text": [
      "24/08/15 22:05:31 WARN Utils: Your hostname, MZC01-HYUCKSANGCHO.local resolves to a loopback address: 127.0.0.1; using 192.168.0.3 instead (on interface en0)\n",
      "24/08/15 22:05:31 WARN Utils: Set SPARK_LOCAL_IP if you need to bind to another address\n",
      "Setting default log level to \"WARN\".\n",
      "To adjust logging level use sc.setLogLevel(newLevel). For SparkR, use setLogLevel(newLevel).\n",
      "24/08/15 22:05:32 WARN NativeCodeLoader: Unable to load native-hadoop library for your platform... using builtin-java classes where applicable\n"
     ]
    }
   ],
   "source": [
    "from pyspark.sql import SparkSession\n",
    "from pyspark import SparkConf, SparkContext\n",
    "from pyspark.sql.types import *\n",
    "from pyspark.sql.functions import *\n",
    "from pyspark.sql.window import Window\n",
    "\n",
    "spark = SparkSession.builder.master(\"local\").appName(\"spark-sql-table\").getOrCreate()"
   ]
  },
  {
   "cell_type": "code",
   "execution_count": 2,
   "metadata": {},
   "outputs": [
    {
     "name": "stderr",
     "output_type": "stream",
     "text": [
      "24/08/15 22:05:44 WARN package: Truncated the string representation of a plan since it was too large. This behavior can be adjusted by setting 'spark.sql.debug.maxToStringFields'.\n"
     ]
    }
   ],
   "source": [
    "dfCalendar = spark.read.load(\"airbnb_data/airbnb_calendar.csv\",\n",
    "                     format=\"csv\", inferSchema=True, header=True,\n",
    "                     quote='\"', escape='\"', sep=',', multiline=True)\n",
    "\n",
    "\n",
    "dfListing = spark.read.load(\"airbnb_data/airbnb_listings.csv\",\n",
    "                     format=\"csv\", inferSchema=True, header=True,\n",
    "                     quote='\"', escape='\"', sep=',', multiline=True)\n",
    "\n",
    "dfCalendar = dfCalendar.cache()\n",
    "dfListing = dfListing.cache()"
   ]
  },
  {
   "cell_type": "code",
   "execution_count": 3,
   "metadata": {},
   "outputs": [
    {
     "name": "stdout",
     "output_type": "stream",
     "text": [
      "root\n",
      " |-- listing_id: integer (nullable = true)\n",
      " |-- date: date (nullable = true)\n",
      " |-- available: string (nullable = true)\n",
      " |-- price: string (nullable = true)\n",
      " |-- adjusted_price: string (nullable = true)\n",
      " |-- minimum_nights: integer (nullable = true)\n",
      " |-- maximum_nights: integer (nullable = true)\n",
      "\n"
     ]
    }
   ],
   "source": [
    "dfCalendar.printSchema()"
   ]
  },
  {
   "cell_type": "code",
   "execution_count": 4,
   "metadata": {},
   "outputs": [
    {
     "name": "stderr",
     "output_type": "stream",
     "text": [
      "                                                                                \r"
     ]
    },
    {
     "name": "stdout",
     "output_type": "stream",
     "text": [
      "+----------+----------+---------+-------+--------------+--------------+--------------+\n",
      "|listing_id|      date|available|  price|adjusted_price|minimum_nights|maximum_nights|\n",
      "+----------+----------+---------+-------+--------------+--------------+--------------+\n",
      "|   1153002|2019-11-29|        f|$145.00|       $145.00|            30|            60|\n",
      "|   3138055|2019-11-29|        f|$130.00|       $130.00|             2|          1125|\n",
      "|   3138055|2019-11-30|        f|$130.00|       $130.00|             2|          1125|\n",
      "|   3138055|2019-12-01|        t|$130.00|       $130.00|             2|          1125|\n",
      "|   3138055|2019-12-02|        f|$130.00|       $130.00|             2|          1125|\n",
      "|   3138055|2019-12-03|        f|$130.00|       $130.00|             2|          1125|\n",
      "|   3138055|2019-12-04|        f|$130.00|       $130.00|             2|          1125|\n",
      "|   3138055|2019-12-05|        f|$130.00|       $130.00|             2|          1125|\n",
      "|   3138055|2019-12-06|        f|$130.00|       $130.00|             2|          1125|\n",
      "|   3138055|2019-12-07|        f|$130.00|       $130.00|             2|          1125|\n",
      "|   3138055|2019-12-08|        f|$130.00|       $130.00|             2|          1125|\n",
      "|   3138055|2019-12-09|        f|$130.00|       $130.00|             2|          1125|\n",
      "|   3138055|2019-12-10|        f|$130.00|       $130.00|             2|          1125|\n",
      "|   3138055|2019-12-11|        f|$130.00|       $130.00|             2|          1125|\n",
      "|   3138055|2019-12-12|        f|$130.00|       $130.00|             2|          1125|\n",
      "|   3138055|2019-12-13|        t|$130.00|       $130.00|             2|          1125|\n",
      "|   3138055|2019-12-14|        t|$130.00|       $130.00|             2|          1125|\n",
      "|   3138055|2019-12-15|        t|$130.00|       $130.00|             2|          1125|\n",
      "|   3138055|2019-12-16|        f|$130.00|       $130.00|             2|          1125|\n",
      "|   3138055|2019-12-17|        f|$130.00|       $130.00|             2|          1125|\n",
      "+----------+----------+---------+-------+--------------+--------------+--------------+\n",
      "only showing top 20 rows\n",
      "\n"
     ]
    }
   ],
   "source": [
    "dfCalendar.show()"
   ]
  },
  {
   "cell_type": "code",
   "execution_count": 5,
   "metadata": {},
   "outputs": [
    {
     "name": "stdout",
     "output_type": "stream",
     "text": [
      "root\n",
      " |-- id: integer (nullable = true)\n",
      " |-- listing_url: string (nullable = true)\n",
      " |-- scrape_id: long (nullable = true)\n",
      " |-- last_scraped: date (nullable = true)\n",
      " |-- name: string (nullable = true)\n",
      " |-- summary: string (nullable = true)\n",
      " |-- space: string (nullable = true)\n",
      " |-- description: string (nullable = true)\n",
      " |-- experiences_offered: string (nullable = true)\n",
      " |-- neighborhood_overview: string (nullable = true)\n",
      " |-- notes: string (nullable = true)\n",
      " |-- transit: string (nullable = true)\n",
      " |-- access: string (nullable = true)\n",
      " |-- interaction: string (nullable = true)\n",
      " |-- house_rules: string (nullable = true)\n",
      " |-- thumbnail_url: string (nullable = true)\n",
      " |-- medium_url: string (nullable = true)\n",
      " |-- picture_url: string (nullable = true)\n",
      " |-- xl_picture_url: string (nullable = true)\n",
      " |-- host_id: integer (nullable = true)\n",
      " |-- host_url: string (nullable = true)\n",
      " |-- host_name: string (nullable = true)\n",
      " |-- host_since: date (nullable = true)\n",
      " |-- host_location: string (nullable = true)\n",
      " |-- host_about: string (nullable = true)\n",
      " |-- host_response_time: string (nullable = true)\n",
      " |-- host_response_rate: string (nullable = true)\n",
      " |-- host_acceptance_rate: string (nullable = true)\n",
      " |-- host_is_superhost: string (nullable = true)\n",
      " |-- host_thumbnail_url: string (nullable = true)\n",
      " |-- host_picture_url: string (nullable = true)\n",
      " |-- host_neighbourhood: string (nullable = true)\n",
      " |-- host_listings_count: integer (nullable = true)\n",
      " |-- host_total_listings_count: integer (nullable = true)\n",
      " |-- host_verifications: string (nullable = true)\n",
      " |-- host_has_profile_pic: string (nullable = true)\n",
      " |-- host_identity_verified: string (nullable = true)\n",
      " |-- street: string (nullable = true)\n",
      " |-- neighbourhood: string (nullable = true)\n",
      " |-- neighbourhood_cleansed: string (nullable = true)\n",
      " |-- neighbourhood_group_cleansed: string (nullable = true)\n",
      " |-- city: string (nullable = true)\n",
      " |-- state: string (nullable = true)\n",
      " |-- zipcode: string (nullable = true)\n",
      " |-- market: string (nullable = true)\n",
      " |-- smart_location: string (nullable = true)\n",
      " |-- country_code: string (nullable = true)\n",
      " |-- country: string (nullable = true)\n",
      " |-- latitude: double (nullable = true)\n",
      " |-- longitude: double (nullable = true)\n",
      " |-- is_location_exact: string (nullable = true)\n",
      " |-- property_type: string (nullable = true)\n",
      " |-- room_type: string (nullable = true)\n",
      " |-- accommodates: integer (nullable = true)\n",
      " |-- bathrooms: double (nullable = true)\n",
      " |-- bedrooms: integer (nullable = true)\n",
      " |-- beds: integer (nullable = true)\n",
      " |-- bed_type: string (nullable = true)\n",
      " |-- amenities: string (nullable = true)\n",
      " |-- square_feet: integer (nullable = true)\n",
      " |-- price: string (nullable = true)\n",
      " |-- weekly_price: string (nullable = true)\n",
      " |-- monthly_price: string (nullable = true)\n",
      " |-- security_deposit: string (nullable = true)\n",
      " |-- cleaning_fee: string (nullable = true)\n",
      " |-- guests_included: integer (nullable = true)\n",
      " |-- extra_people: string (nullable = true)\n",
      " |-- minimum_nights: integer (nullable = true)\n",
      " |-- maximum_nights: integer (nullable = true)\n",
      " |-- minimum_minimum_nights: integer (nullable = true)\n",
      " |-- maximum_minimum_nights: integer (nullable = true)\n",
      " |-- minimum_maximum_nights: integer (nullable = true)\n",
      " |-- maximum_maximum_nights: integer (nullable = true)\n",
      " |-- minimum_nights_avg_ntm: double (nullable = true)\n",
      " |-- maximum_nights_avg_ntm: double (nullable = true)\n",
      " |-- calendar_updated: string (nullable = true)\n",
      " |-- has_availability: string (nullable = true)\n",
      " |-- availability_30: integer (nullable = true)\n",
      " |-- availability_60: integer (nullable = true)\n",
      " |-- availability_90: integer (nullable = true)\n",
      " |-- availability_365: integer (nullable = true)\n",
      " |-- calendar_last_scraped: date (nullable = true)\n",
      " |-- number_of_reviews: integer (nullable = true)\n",
      " |-- number_of_reviews_ltm: integer (nullable = true)\n",
      " |-- first_review: date (nullable = true)\n",
      " |-- last_review: date (nullable = true)\n",
      " |-- review_scores_rating: integer (nullable = true)\n",
      " |-- review_scores_accuracy: integer (nullable = true)\n",
      " |-- review_scores_cleanliness: integer (nullable = true)\n",
      " |-- review_scores_checkin: integer (nullable = true)\n",
      " |-- review_scores_communication: integer (nullable = true)\n",
      " |-- review_scores_location: integer (nullable = true)\n",
      " |-- review_scores_value: integer (nullable = true)\n",
      " |-- requires_license: string (nullable = true)\n",
      " |-- license: string (nullable = true)\n",
      " |-- jurisdiction_names: string (nullable = true)\n",
      " |-- instant_bookable: string (nullable = true)\n",
      " |-- is_business_travel_ready: string (nullable = true)\n",
      " |-- cancellation_policy: string (nullable = true)\n",
      " |-- require_guest_profile_picture: string (nullable = true)\n",
      " |-- require_guest_phone_verification: string (nullable = true)\n",
      " |-- calculated_host_listings_count: integer (nullable = true)\n",
      " |-- calculated_host_listings_count_entire_homes: integer (nullable = true)\n",
      " |-- calculated_host_listings_count_private_rooms: integer (nullable = true)\n",
      " |-- calculated_host_listings_count_shared_rooms: integer (nullable = true)\n",
      " |-- reviews_per_month: double (nullable = true)\n",
      "\n"
     ]
    }
   ],
   "source": [
    "dfListing.printSchema()"
   ]
  },
  {
   "cell_type": "code",
   "execution_count": 6,
   "metadata": {},
   "outputs": [
    {
     "name": "stderr",
     "output_type": "stream",
     "text": [
      "[Stage 5:>                                                          (0 + 1) / 1]\r"
     ]
    },
    {
     "name": "stdout",
     "output_type": "stream",
     "text": [
      "+------+--------------------+--------------------+--------------------+-------------+---------+--------------------+-------+\n",
      "|    id|         listing_url|                name|         description|property_type|     city|review_scores_rating|  price|\n",
      "+------+--------------------+--------------------+--------------------+-------------+---------+--------------------+-------+\n",
      "|   360|https://www.airbn...|LoHi Secret garde...|Come enjoy our oa...|   Guesthouse|   Denver|                 100|$140.00|\n",
      "|   590|https://www.airbn...|Comfortable  - an...|Large guest room ...|        House|   Denver|                  97| $61.00|\n",
      "|   592|https://www.airbn...|             private|This room is in t...|        House|   Denver|                  97| $44.00|\n",
      "|  1940|https://www.airbn...|Baker Studio Clos...|Great place for a...|   Guesthouse|   Denver|                  99| $95.00|\n",
      "|  2086|https://www.airbn...|  Garden Level Condo|A furnished, gard...|    Apartment|   Denver|                  96| $76.00|\n",
      "| 31503|https://www.airbn...|Highland Park Gue...|Highland Park Gue...|  Guest suite|   Denver|                  98|$110.00|\n",
      "| 39405|https://www.airbn...|LoHi Secret garde...|Come enjoy our oa...|      Cottage|   Denver|                  98|$111.00|\n",
      "| 56185|https://www.airbn...|charming home for...|Spend time in Den...|        House|   Denver|                  98|$300.00|\n",
      "| 59631|https://www.airbn...|VICTORIAN TOWNHOM...|License #2017-BFN...|    Townhouse|   Denver|                  96|$179.00|\n",
      "| 74125|https://www.airbn...|Spacious Cap Hill...|1000' entire-firs...|    Apartment|   Denver|                  94|$130.00|\n",
      "| 81540|https://www.airbn...|Affordable S. Den...|Bright, sunny 1 b...|   Guesthouse|Englewood|                  98| $75.00|\n",
      "| 90307|https://www.airbn...|Comfy King Size R...|This private bedr...|        House|   Denver|                  98| $90.00|\n",
      "| 98008|https://www.airbn...|Beautiful sun fil...|Locaton, location...|        House|   Denver|                  99| $70.00|\n",
      "| 98014|https://www.airbn...|Beautiful single ...|Hi Folks!  Welcom...|        House|   Denver|                  98| $60.00|\n",
      "|142683|https://www.airbn...|Historic Denver C...|One of three cond...|        House|   Denver|                  94|$125.00|\n",
      "|172196|https://www.airbn...|Luxury Wash Park ...|Remodeled wash pa...|        House|   Denver|                  99|$411.00|\n",
      "|184529|https://www.airbn...|HIP SUITE IN  WES...|Private SUIITE   ...|  Guest suite|   Denver|                  97| $35.00|\n",
      "|192430|https://www.airbn...|TREETOP VIEW ROOM...|Located in the de...|  Condominium|   Denver|                  94| $32.00|\n",
      "|217996|https://www.airbn...|       Highland Snug|Comfortable and c...|  Condominium|   Denver|                 100| $66.00|\n",
      "|236207|https://www.airbn...|Denver Penthouse ...|Important Note : ...|         Loft|   Denver|                  99|$235.00|\n",
      "+------+--------------------+--------------------+--------------------+-------------+---------+--------------------+-------+\n",
      "only showing top 20 rows\n",
      "\n"
     ]
    },
    {
     "name": "stderr",
     "output_type": "stream",
     "text": [
      "                                                                                \r"
     ]
    }
   ],
   "source": [
    "dfListing\\\n",
    "    .select(\"id\", \"listing_url\", \"name\", \"description\", \"property_type\", \"city\", \"review_scores_rating\", \"price\")\\\n",
    "    .show()"
   ]
  },
  {
   "cell_type": "code",
   "execution_count": 7,
   "metadata": {},
   "outputs": [],
   "source": [
    "# createTempView : Spark Session 별로 분리\n",
    "# createGlobalTempVeiw : 서로 다른 Session간 공유\n",
    "dfListing.createOrReplaceTempView(\"LISTING_META\")\n",
    "dfCalendar.createOrReplaceTempView(\"LISTING_CALENDAR\")"
   ]
  },
  {
   "cell_type": "code",
   "execution_count": 11,
   "metadata": {},
   "outputs": [
    {
     "name": "stdout",
     "output_type": "stream",
     "text": [
      "+----------+--------------------+--------------------+----------+---------+-------+\n",
      "|listing_id|         listing_url|        listing_name|      date|available|  price|\n",
      "+----------+--------------------+--------------------+----------+---------+-------+\n",
      "|   3138055|https://www.airbn...|Classic Home on C...|2019-12-01|        t|$130.00|\n",
      "|   3138055|https://www.airbn...|Classic Home on C...|2019-12-13|        t|$130.00|\n",
      "|   3138055|https://www.airbn...|Classic Home on C...|2019-12-14|        t|$130.00|\n",
      "|   3138055|https://www.airbn...|Classic Home on C...|2019-12-15|        t|$130.00|\n",
      "|   3138055|https://www.airbn...|Classic Home on C...|2019-12-21|        t|$130.00|\n",
      "|   3138055|https://www.airbn...|Classic Home on C...|2019-12-22|        t|$130.00|\n",
      "|   3138055|https://www.airbn...|Classic Home on C...|2019-12-26|        t|$130.00|\n",
      "|   3138055|https://www.airbn...|Classic Home on C...|2019-12-27|        t|$130.00|\n",
      "|   3138055|https://www.airbn...|Classic Home on C...|2019-12-28|        t|$130.00|\n",
      "|   3138055|https://www.airbn...|Classic Home on C...|2019-12-29|        t|$130.00|\n",
      "|   3138055|https://www.airbn...|Classic Home on C...|2020-01-03|        t|$130.00|\n",
      "|   3138055|https://www.airbn...|Classic Home on C...|2020-01-04|        t|$130.00|\n",
      "|   3138055|https://www.airbn...|Classic Home on C...|2020-01-05|        t|$130.00|\n",
      "|   3138055|https://www.airbn...|Classic Home on C...|2020-01-10|        t|$130.00|\n",
      "|   3138055|https://www.airbn...|Classic Home on C...|2020-01-11|        t|$130.00|\n",
      "|   3138055|https://www.airbn...|Classic Home on C...|2020-01-12|        t|$130.00|\n",
      "|   3138055|https://www.airbn...|Classic Home on C...|2020-01-17|        t|$130.00|\n",
      "|   3138055|https://www.airbn...|Classic Home on C...|2020-01-18|        t|$130.00|\n",
      "|   3138055|https://www.airbn...|Classic Home on C...|2020-01-19|        t|$130.00|\n",
      "|   3138055|https://www.airbn...|Classic Home on C...|2020-01-24|        t|$130.00|\n",
      "+----------+--------------------+--------------------+----------+---------+-------+\n",
      "only showing top 20 rows\n",
      "\n"
     ]
    }
   ],
   "source": [
    "propertyTypeHouse = 'House'\n",
    "\n",
    "dfListingHouseAvailable = spark.sql(f\"\"\"\n",
    "WITH LISTING_HOUSE AS (\n",
    "    SELECT \n",
    "        id as listing_id,\n",
    "        listing_url,\n",
    "        name\n",
    "    FROM \n",
    "        LISTING_META\n",
    "    WHERE property_type = '{propertyTypeHouse}'\n",
    "    )\n",
    "SELECT\n",
    "    LISTING_CALENDAR.listing_id,\n",
    "    listing_url, \n",
    "    name as listing_name,\n",
    "    date,\n",
    "    available,\n",
    "    price\n",
    "FROM LISTING_CALENDAR, LISTING_HOUSE\n",
    "WHERE LISTING_CALENDAR.listing_id = LISTING_HOUSE.listing_id\n",
    "AND LISTING_CALENDAR.available = 't'\n",
    "\n",
    "\"\"\")\n",
    "dfListingHouseAvailable.show()"
   ]
  },
  {
   "cell_type": "code",
   "execution_count": 12,
   "metadata": {},
   "outputs": [
    {
     "name": "stderr",
     "output_type": "stream",
     "text": [
      "[Stage 9:>                                                          (0 + 1) / 1]\r"
     ]
    },
    {
     "name": "stdout",
     "output_type": "stream",
     "text": [
      "+----------+--------------------+--------------------+--------------------+-------------------+--------------------+----------------------+\n",
      "|listing_id|         listing_url|        listing_name|review_scores_rating|listing_price_basic|count_date_available|count_date_unavailable|\n",
      "+----------+--------------------+--------------------+--------------------+-------------------+--------------------+----------------------+\n",
      "|    192430|https://www.airbn...|TREETOP VIEW ROOM...|                  94|             $32.00|                  61|                   304|\n",
      "|       360|https://www.airbn...|LoHi Secret garde...|                 100|            $140.00|                 325|                    40|\n",
      "|     98014|https://www.airbn...|Beautiful single ...|                  98|             $60.00|                 211|                   154|\n",
      "|       590|https://www.airbn...|Comfortable  - an...|                  97|             $61.00|                 116|                   249|\n",
      "|     74125|https://www.airbn...|Spacious Cap Hill...|                  94|            $130.00|                   0|                   365|\n",
      "|     39405|https://www.airbn...|LoHi Secret garde...|                  98|            $111.00|                 299|                    66|\n",
      "|    172196|https://www.airbn...|Luxury Wash Park ...|                  99|            $411.00|                 340|                    25|\n",
      "|    236207|https://www.airbn...|Denver Penthouse ...|                  99|            $235.00|                 144|                   221|\n",
      "|     59631|https://www.airbn...|VICTORIAN TOWNHOM...|                  96|            $179.00|                 348|                    18|\n",
      "|    283162|https://www.airbn...|2000 SF-Lodo Club...|                  80|          $3,800.00|                 362|                     3|\n",
      "|     81540|https://www.airbn...|Affordable S. Den...|                  98|             $75.00|                 239|                   126|\n",
      "|       592|https://www.airbn...|             private|                  97|             $44.00|                 175|                   190|\n",
      "|    217996|https://www.airbn...|       Highland Snug|                 100|             $66.00|                 333|                    32|\n",
      "|     90307|https://www.airbn...|Comfy King Size R...|                  98|             $90.00|                 175|                   190|\n",
      "|     56185|https://www.airbn...|charming home for...|                  98|            $300.00|                 341|                    24|\n",
      "|    184529|https://www.airbn...|HIP SUITE IN  WES...|                  97|             $35.00|                 166|                   199|\n",
      "|     98008|https://www.airbn...|Beautiful sun fil...|                  99|             $70.00|                 211|                   154|\n",
      "|      1940|https://www.airbn...|Baker Studio Clos...|                  99|             $95.00|                  95|                   270|\n",
      "|     31503|https://www.airbn...|Highland Park Gue...|                  98|            $110.00|                 341|                    24|\n",
      "|    142683|https://www.airbn...|Historic Denver C...|                  94|            $125.00|                  72|                   293|\n",
      "+----------+--------------------+--------------------+--------------------+-------------------+--------------------+----------------------+\n",
      "only showing top 20 rows\n",
      "\n"
     ]
    },
    {
     "name": "stderr",
     "output_type": "stream",
     "text": [
      "                                                                                \r"
     ]
    }
   ],
   "source": [
    "dfListingAvailability = spark.sql(\"\"\"\n",
    "WITH LISTING_GROUPED AS (\n",
    "    SELECT \n",
    "        listing_id, \n",
    "        count(CASE WHEN available = 't' THEN 1 END) as count_date_available,\n",
    "        count(CASE WHEN available <> 't' THEN 1 END) as count_date_unavailable\n",
    "        \n",
    "    FROM LISTING_CALENDAR\n",
    "    GROUP BY listing_id\n",
    ")\n",
    "\n",
    "SELECT \n",
    "    LISTING_META.id as listing_id,\n",
    "    LISTING_META.listing_url as listing_url,\n",
    "    LISTING_META.name as listing_name,\n",
    "    LISTING_META.review_scores_rating as review_scores_rating,\n",
    "    LISTING_META.price as listing_price_basic,\n",
    "    coalesce(LISTING_GROUPED.count_date_available, 0) as count_date_available,\n",
    "    coalesce(LISTING_GROUPED.count_date_unavailable, 0) as count_date_unavailable\n",
    "\n",
    "FROM LISTING_META\n",
    "LEFT JOIN LISTING_GROUPED \n",
    "    ON LISTING_META.id = LISTING_GROUPED.listing_id\n",
    "\"\"\")\n",
    "dfListingAvailability.show()"
   ]
  },
  {
   "cell_type": "code",
   "execution_count": 13,
   "metadata": {},
   "outputs": [
    {
     "name": "stderr",
     "output_type": "stream",
     "text": [
      "                                                                                \r"
     ]
    },
    {
     "name": "stdout",
     "output_type": "stream",
     "text": [
      "+----------+--------------------+--------------------+--------------------+-------------------+--------------------+----------------------+\n",
      "|listing_id|         listing_url|        listing_name|review_scores_rating|listing_price_basic|count_date_available|count_date_unavailable|\n",
      "+----------+--------------------+--------------------+--------------------+-------------------+--------------------+----------------------+\n",
      "|  20425070|https://www.airbn...|Location, locatio...|                  91|            $150.00|                   0|                   366|\n",
      "|  39309393|https://www.airbn...|Guest suite Denve...|                null|             $80.00|                   0|                   366|\n",
      "|  37912396|https://www.airbn...|Happy Travelers W...|                 100|             $75.00|                   0|                   366|\n",
      "|  14154970|https://www.airbn...|Best Location! Gr...|                  99|            $229.00|                   0|                   366|\n",
      "|  27332948|https://www.airbn...|Cozy Modern Bedro...|                 100|             $48.00|                   0|                   366|\n",
      "|  19154631|https://www.airbn...|Newly Remodeled H...|                 100|            $175.00|                   0|                   366|\n",
      "|  23418604|https://www.airbn...|Bright & Cozy Apt...|                 100|            $115.00|                   0|                   366|\n",
      "|  12172692|https://www.airbn...|Open, bright, mou...|                  93|            $145.00|                   0|                   366|\n",
      "|  11533087|https://www.airbn...|Beautiful Home by...|                  96|            $225.00|                   0|                   366|\n",
      "|  18503556|https://www.airbn...|Spacious Studio i...|                 100|            $119.00|                   0|                   366|\n",
      "|  24306031|https://www.airbn...|Historic Duplex L...|                null|             $88.00|                   0|                   366|\n",
      "|  19699920|https://www.airbn...|One bedroom in an...|                  97|             $80.00|                   0|                   366|\n",
      "|  32017055|https://www.airbn...|⭐️ Private & Cent...|                  99|             $49.00|                   0|                   366|\n",
      "|  24373759|https://www.airbn...|Star*Palace- Capi...|                null|            $101.00|                   0|                   365|\n",
      "|  30017893|https://www.airbn...|Cozy Sunnyside ho...|                  98|             $74.00|                   0|                   365|\n",
      "|  26562549|https://www.airbn...|Modern Lower High...|                  99|            $500.00|                   0|                   365|\n",
      "|  23715769|https://www.airbn...|Modern Contempora...|                 100|             $45.00|                   0|                   365|\n",
      "|  28438236|https://www.airbn...|Cozy Denver Farmh...|                 100|             $90.00|                   0|                   365|\n",
      "|  27259874|https://www.airbn...|Shared Denver Hou...|                  87|             $77.00|                   0|                   365|\n",
      "|  10017182|https://www.airbn...|Spacious Clean Su...|                  93|             $48.00|                   0|                   365|\n",
      "+----------+--------------------+--------------------+--------------------+-------------------+--------------------+----------------------+\n",
      "only showing top 20 rows\n",
      "\n"
     ]
    }
   ],
   "source": [
    "dfListingAvailability.orderBy(desc(col(\"count_date_unavailable\"))).show()"
   ]
  },
  {
   "cell_type": "code",
   "execution_count": 15,
   "metadata": {},
   "outputs": [
    {
     "name": "stderr",
     "output_type": "stream",
     "text": [
      "                                                                                \r"
     ]
    },
    {
     "name": "stdout",
     "output_type": "stream",
     "text": [
      "+---------+----------------+-----------+\n",
      "|namespace|       tableName|isTemporary|\n",
      "+---------+----------------+-----------+\n",
      "|         |listing_calendar|       true|\n",
      "|         |    listing_meta|       true|\n",
      "|         |    listing_stat|       true|\n",
      "+---------+----------------+-----------+\n",
      "\n"
     ]
    }
   ],
   "source": [
    "spark.sql(\"\"\"\n",
    "CACHE TABLE LISTING_STAT AS (\n",
    "    SELECT *\n",
    "    FROM LISTING_META\n",
    "    WHERE review_scores_rating IS NOT NULL\n",
    ")\n",
    "\"\"\")\n",
    "\n",
    "spark.sql(\"SHOW TABLES\").show()"
   ]
  },
  {
   "cell_type": "code",
   "execution_count": null,
   "metadata": {},
   "outputs": [],
   "source": []
  },
  {
   "cell_type": "markdown",
   "metadata": {},
   "source": []
  },
  {
   "cell_type": "markdown",
   "metadata": {},
   "source": []
  }
 ],
 "metadata": {
  "kernelspec": {
   "display_name": "base",
   "language": "python",
   "name": "python3"
  },
  "language_info": {
   "codemirror_mode": {
    "name": "ipython",
    "version": 3
   },
   "file_extension": ".py",
   "mimetype": "text/x-python",
   "name": "python",
   "nbconvert_exporter": "python",
   "pygments_lexer": "ipython3",
   "version": "3.9.7"
  }
 },
 "nbformat": 4,
 "nbformat_minor": 2
}
