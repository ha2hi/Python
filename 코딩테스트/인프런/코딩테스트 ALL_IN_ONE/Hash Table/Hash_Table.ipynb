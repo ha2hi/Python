{
 "cells": [
  {
   "attachments": {},
   "cell_type": "markdown",
   "metadata": {},
   "source": [
    "Hash Table\n",
    "1. Array list based(파이썬)\n",
    "2. Array list + Linked list based\n",
    "3. Find key O(1)\n",
    "\n",
    "Hash table은 효율적인 탐색(빠른 탐색)을 위한 자료구조로써 key-value쌍의 데이터를 입력받습니다. hash function h에 key값을 입력으로 넣어 얻은 해시값 h(k)를 위치로 지정하여 key- value 데이터 쌍을 저장합니다. 저장, 삭제, 검색의 시간복잡도는 모두 O(1)입니다.\n",
    "\n",
    "우리가 리스트에서 사용하는 Direct-address는 key값을 index로 받는다.\n",
    "키값이 문자거나 키값이 큰 경우 인덱스 낭비가 발생하기 때문에 해시테이블이 생김\n",
    "\n",
    "Collsion\n",
    "인덱스가 겹치는 경우 다음 인덱스에 데이터 저장\n"
   ]
  }
 ],
 "metadata": {
  "language_info": {
   "name": "python"
  },
  "orig_nbformat": 4
 },
 "nbformat": 4,
 "nbformat_minor": 2
}
