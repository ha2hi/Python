{
 "cells": [
  {
   "cell_type": "code",
   "execution_count": 13,
   "metadata": {},
   "outputs": [
    {
     "name": "stdout",
     "output_type": "stream",
     "text": [
      "49 26 27 28 29 30 31\n",
      "48 25 10 11 12 13 32\n",
      "47 24 9 2 3 14 33\n",
      "46 23 8 1 4 15 34\n",
      "45 22 7 6 5 16 35\n",
      "44 21 20 19 18 17 36\n",
      "43 42 41 40 39 38 37\n",
      "5 7\n"
     ]
    }
   ],
   "source": [
    "# https://www.acmicpc.net/problem/1913\n",
    "n = int(input())\n",
    "m = int(input())\n",
    "board = [[0]*n for _ in range(n)]\n",
    "\n",
    "x, y = (n-1)//2, (n-1)//2\n",
    "board[x][y] = 1\n",
    "\n",
    "dx = [-1,1,0,0]\n",
    "dy = [0,0,-1,1]\n",
    "\n",
    "i = 2\n",
    "start = 3\n",
    "\n",
    "while x!= 0 or y != 0:\n",
    "    while i <= start*start:\n",
    "        if x == y == (n-1)//2:\n",
    "            cnt_up, cnt_down, cnt_left, cnt_right = start, start-1, start-1, start-2\n",
    "            x += dx[0]\n",
    "            y += dy[0]\n",
    "            cnt_up -= 1\n",
    "\n",
    "        elif cnt_right > 0:\n",
    "            x += dx[3]\n",
    "            y += dy[3]\n",
    "            cnt_right -= 1\n",
    "\n",
    "        elif cnt_down > 0:\n",
    "            x += dx[1]\n",
    "            y += dy[1]\n",
    "            cnt_down -= 1\n",
    "\n",
    "        elif cnt_left > 0:\n",
    "            x += dx[2]\n",
    "            y += dy[2]\n",
    "            cnt_left -= 1\n",
    "\n",
    "        elif cnt_up > 0:\n",
    "            x += dx[0]\n",
    "            y += dy[0]\n",
    "            cnt_up -= 1\n",
    "\n",
    "        board[x][y] = i\n",
    "        i += 1\n",
    "    \n",
    "    start += 2\n",
    "    n -= 2\n",
    "\n",
    "for i in range(len(board)):\n",
    "    print(*board[i])\n",
    "    if m in board[i]:\n",
    "        r_x = i+1\n",
    "        r_y = board[i].index(m) + 1\n",
    "print(r_x, r_y)"
   ]
  },
  {
   "cell_type": "code",
   "execution_count": null,
   "metadata": {},
   "outputs": [],
   "source": []
  }
 ],
 "metadata": {
  "kernelspec": {
   "display_name": "base",
   "language": "python",
   "name": "python3"
  },
  "language_info": {
   "codemirror_mode": {
    "name": "ipython",
    "version": 3
   },
   "file_extension": ".py",
   "mimetype": "text/x-python",
   "name": "python",
   "nbconvert_exporter": "python",
   "pygments_lexer": "ipython3",
   "version": "3.9.7"
  }
 },
 "nbformat": 4,
 "nbformat_minor": 2
}
