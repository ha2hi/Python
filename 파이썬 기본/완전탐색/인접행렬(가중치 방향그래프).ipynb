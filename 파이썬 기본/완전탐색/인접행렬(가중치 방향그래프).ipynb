{
 "cells": [
  {
   "cell_type": "code",
   "execution_count": 5,
   "metadata": {},
   "outputs": [
    {
     "name": "stdout",
     "output_type": "stream",
     "text": [
      "0 1 0 0 0 \n",
      "1 0 1 0 0 \n",
      "0 1 0 1 0 \n",
      "0 0 1 0 1 \n",
      "0 0 0 1 1 \n"
     ]
    }
   ],
   "source": [
    "# 무방향 그래프\n",
    "n, m = map(int, input().split())\n",
    "g = [[0] * (n+1) for _ in range(n+1)]\n",
    "for i in range(m):\n",
    "    a, b = map(int, input().split())\n",
    "    g[a][b] = 1\n",
    "    g[b][a] = 1\n",
    "\n",
    "\n",
    "for i in range(1, n+1):\n",
    "    for j in range(1, n+1):\n",
    "        print(g[i][j], end = \" \")\n",
    "    print()"
   ]
  },
  {
   "cell_type": "code",
   "execution_count": null,
   "metadata": {},
   "outputs": [],
   "source": [
    "\"\"\"\n",
    "인접행렬(가중치 방향그래프)\n",
    "\n",
    "▣ 입력설명\n",
    "첫째 줄에는\n",
    "결정보와 거리비용이 주어진다.\n",
    "\n",
    "▣ 출력설명 인접행렬을 출력하세요.\n",
    "\n",
    "▣ 입력예제 1\n",
    "6 9 \n",
    "1 2 7 \n",
    "1 3 4 \n",
    "2 1 2 \n",
    "2 3 5\n",
    "2 5 5 \n",
    "3 4 5 \n",
    "4 2 2 \n",
    "4 5 5 \n",
    "6 4 5\n",
    "▣ 출력예제 1 \n",
    "0 7 4 0 0 0 \n",
    "2 0 5 0 5 0 \n",
    "0 0 0 5 0 0 \n",
    "0 2 0 0 5 0 \n",
    "0 0 0 0 0 0 \n",
    "0 0 0 5 0 0"
   ]
  },
  {
   "cell_type": "code",
   "execution_count": null,
   "metadata": {},
   "outputs": [],
   "source": [
    "# 가중치 방향그래프\n",
    "n, m = map(int, input().split())\n",
    "g = [[0] * (n+1) for _ in range(n+1)]\n",
    "for i in range(m):\n",
    "    a, b, c = map(int, input().split())\n",
    "    g[a][b] = c\n",
    "    \n",
    "for i in range(1, n+1):\n",
    "    for j in range(1, n+1):\n",
    "        print(g[i][j], end = \" \")\n",
    "    print()"
   ]
  }
 ],
 "metadata": {
  "kernelspec": {
   "display_name": "base",
   "language": "python",
   "name": "python3"
  },
  "language_info": {
   "codemirror_mode": {
    "name": "ipython",
    "version": 3
   },
   "file_extension": ".py",
   "mimetype": "text/x-python",
   "name": "python",
   "nbconvert_exporter": "python",
   "pygments_lexer": "ipython3",
   "version": "3.9.7"
  },
  "orig_nbformat": 4
 },
 "nbformat": 4,
 "nbformat_minor": 2
}
