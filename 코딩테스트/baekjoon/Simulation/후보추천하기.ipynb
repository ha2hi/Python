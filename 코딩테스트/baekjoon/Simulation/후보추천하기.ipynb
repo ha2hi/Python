{
 "cells": [
  {
   "cell_type": "code",
   "execution_count": null,
   "metadata": {},
   "outputs": [],
   "source": [
    "# https://www.acmicpc.net/problem/1713\n",
    "N = int(input()) # 사진틀 개수\n",
    "Vote = int(input()) # 총 추천 회수\n",
    "students = list(map(int, input().split())) # 추천 학생 번호\n",
    "picture = [] # 사진틀\n",
    "score = [] # 사진틀 인덱스와 매치해서 추천수 저장할 리스트\n",
    "\n",
    "for i in range(Vote):\n",
    "    if students[i] in picture: # 사진틀에 있으면\n",
    "        for j in range(len(picture)): #이부분 N으로 놓고 계속 틀렸음.. ㅋㅋㅋㅋㅋ\n",
    "            if students[i] == picture[j]:\n",
    "                score[j] += 1 #점수증가\n",
    "    else: # 사진틀에 없고\n",
    "        if len(picture) >= N: # 사진틀 꽉차있으면\n",
    "            for j in range(N):\n",
    "                if score[j] == min(score): #가장 작은 점수 찾고\n",
    "                    del picture[j]\n",
    "                    del score[j]\n",
    "                    break #먼저 찾으면 스탑 왜냐면 오래된거일수록 인덱스 앞에 있음\n",
    "        picture.append(students[i]) #새로운거 뒤에 더해줌\n",
    "        score.append(1)\n",
    "\n",
    "picture.sort()\n",
    "print(' '.join(map(str, picture)))"
   ]
  }
 ],
 "metadata": {
  "language_info": {
   "name": "python"
  }
 },
 "nbformat": 4,
 "nbformat_minor": 2
}
