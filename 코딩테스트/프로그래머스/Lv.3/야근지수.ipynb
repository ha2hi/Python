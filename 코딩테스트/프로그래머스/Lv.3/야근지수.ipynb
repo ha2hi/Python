{
 "cells": [
  {
   "cell_type": "code",
   "execution_count": null,
   "metadata": {},
   "outputs": [],
   "source": [
    "import heapq\n",
    "\n",
    "def solution(n, works):\n",
    "    if n >= sum(works):\n",
    "        return 0\n",
    "    \n",
    "    works = [-w for w in works]\n",
    "    heapq.heapify(works)\n",
    "    for _ in range(n):\n",
    "        i = heapq.heappop(works)\n",
    "        i += 1\n",
    "        heapq.heappush(works, i)\n",
    "    \n",
    "    return sum([w ** 2 for w in works])"
   ]
  }
 ],
 "metadata": {
  "language_info": {
   "name": "python"
  }
 },
 "nbformat": 4,
 "nbformat_minor": 2
}
