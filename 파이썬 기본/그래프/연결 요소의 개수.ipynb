{
 "cells": [
  {
   "cell_type": "code",
   "execution_count": 1,
   "metadata": {},
   "outputs": [
    {
     "name": "stdout",
     "output_type": "stream",
     "text": [
      "2\n"
     ]
    }
   ],
   "source": [
    "def dfs(graph, visited, i):\n",
    "    visited[i] = True\n",
    "    for n in graph[i]:\n",
    "        if not visited[n]:\n",
    "            dfs(graph, visited, n)\n",
    "\n",
    "def solution(N, M):\n",
    "    graph = {i:[] for i in range(N+1)}\n",
    "    visited = {i: False for i in range(N+1)}\n",
    "    res = 0\n",
    "\n",
    "    for _ in range(M):\n",
    "        u, v = map(int, input().split())\n",
    "        graph[u].append(v)\n",
    "        graph[v].append(u)\n",
    "\n",
    "    for i in range(1, N+1):\n",
    "        if not visited[i]:\n",
    "            dfs(graph, visited, i)\n",
    "            res += 1\n",
    "\n",
    "    return res\n",
    "\n",
    "\n",
    "N, M = map(int, input().split())\n",
    "print(solution(N, M))"
   ]
  },
  {
   "cell_type": "code",
   "execution_count": 1,
   "metadata": {},
   "outputs": [
    {
     "name": "stdout",
     "output_type": "stream",
     "text": [
      "2\n"
     ]
    }
   ],
   "source": [
    "def dfs(graph, visited, i):\n",
    "    visited[i] = True\n",
    "\n",
    "    for j in graph[i]:\n",
    "        if not visited[j]:\n",
    "            dfs(graph, visited, j)\n",
    "\n",
    "def solution(n, m, graph, visited):\n",
    "    cnt = 0\n",
    "    for i in range(n):\n",
    "        if not visited[i]:\n",
    "            cnt += 1\n",
    "            dfs(graph, visited, i)\n",
    "\n",
    "    return cnt\n",
    "\n",
    "n, m = map(int, input().split())\n",
    "graph = [[] for _ in range(n)]\n",
    "visited = [False] * n\n",
    "\n",
    "for _ in range(m):\n",
    "    x, y = map(int, input().split())\n",
    "    graph[x-1].append(y-1)\n",
    "    graph[y-1].append(x-1)\n",
    "\n",
    "print(solution(n, m, graph, visited))"
   ]
  },
  {
   "cell_type": "code",
   "execution_count": null,
   "metadata": {},
   "outputs": [],
   "source": []
  }
 ],
 "metadata": {
  "kernelspec": {
   "display_name": "pyflink_38",
   "language": "python",
   "name": "python3"
  },
  "language_info": {
   "codemirror_mode": {
    "name": "ipython",
    "version": 3
   },
   "file_extension": ".py",
   "mimetype": "text/x-python",
   "name": "python",
   "nbconvert_exporter": "python",
   "pygments_lexer": "ipython3",
   "version": "3.8.20"
  }
 },
 "nbformat": 4,
 "nbformat_minor": 2
}
