{
 "cells": [
  {
   "cell_type": "code",
   "execution_count": null,
   "metadata": {},
   "outputs": [],
   "source": [
    "### Apache Airflow\n",
    "- 워크플로우(의존성으로 연결된 작업들의 집합)를 작성하고 스케줄링하고 모니터링 할 수 있는 플랫폼\n",
    "- 오케스트레이션 기능\n",
    "\n",
    "### 장점\n",
    "1. 실패 복구(Backfill)\n",
    "2. 모니터링\n",
    "3. 확장성\n",
    "4. 배포\n",
    "\n",
    "### 컴포넌트\n",
    "- 웹서버 : 웹 대시보드 UI\n",
    "- 스케줄러 : 워크플로우가 언제 실행되는지 관리\n",
    "- MetaStore : 메타데이터 관리\n",
    "- Executor : 테스크가 어떻게 실행되는지 정의\n",
    "- Worker : 테스크를 실행하는 프로세스\n",
    "\n",
    "### Operator\n",
    "작업(Task)를 정의하는데 사용\n",
    "Action Operators : 실제 연산 수행\n",
    "Transfer Operators : 데이터 마이그레이션을 수행\n",
    "Sensor Operator : 트리거를 기다리는 작업 수행\n",
    "\n",
    "Operator를 실행시키면 Task가 된다.\n",
    "Task = Operator Instance\n",
    "\n",
    "### Airflow Architecture\n",
    "1. DAG Directory\n",
    "- DAG 소스 파일을 저장하는 공간이다.\n",
    "2. Scheduler\n",
    "- DAG 파일을 분석하고 DAG Run과 Task들을 스케줄링한다.\n",
    "- 실행할 Task를 결정하고 Task를 대기열에 배치힌다.\n",
    "3. Executor\n",
    "- 실제 작업을 하는 공간\n",
    "- 대기열 Queue에 들어온 Task를 실행하는 역할\n",
    "- Celery Executor\n",
    "  - Celery를 이용하여 실행할 Task를 대기열에 등록한다.\n",
    "  - Worker가 Celery 대기열에 등록된 태스크를 불러와 처리한다.\n",
    "4. Worker\n",
    "- 예약된 태스크를 선택하고 실행한다.\n",
    "- Executor에 의해 만들어지며 Task를 실제로 실행하는 프로세스다.\n",
    "5. Metastore(Metadata)\n",
    "- DAG 정보, 유저, 역할 등 기타 구성에 대한 메타데이터를 저장하는 공간\n",
    "6. Web Server\n",
    "- DAG 상태를 UI환경을 볼 수 있는 공간\n"
   ]
  }
 ],
 "metadata": {
  "language_info": {
   "name": "python"
  }
 },
 "nbformat": 4,
 "nbformat_minor": 2
}
