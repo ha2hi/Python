{
 "cells": [
  {
   "cell_type": "code",
   "execution_count": null,
   "metadata": {},
   "outputs": [],
   "source": [
    "# https://www.acmicpc.net/problem/14675\n",
    "n = int(input())\n",
    "tree = [[] for _ in range(n+1)]\n",
    "for _ in range(n-1):\n",
    "    x, y = map(int, input().split())\n",
    "    tree[x].append(y)\n",
    "    tree[y].append(x)\n",
    "\n",
    "q = int(input())\n",
    "for _ in range(q):\n",
    "    t, k = map(int, input().split())\n",
    "    if t == 1:\n",
    "        if len(tree[k]) < 2:\n",
    "            print(\"no\")\n",
    "        else:\n",
    "            print(\"yes\")\n",
    "    elif t == 2:\n",
    "        print(\"yes\")"
   ]
  }
 ],
 "metadata": {
  "language_info": {
   "name": "python"
  }
 },
 "nbformat": 4,
 "nbformat_minor": 2
}
