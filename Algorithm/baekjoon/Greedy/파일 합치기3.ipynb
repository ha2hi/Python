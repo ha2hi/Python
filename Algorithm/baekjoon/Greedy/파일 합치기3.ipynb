{
 "cells": [
  {
   "cell_type": "code",
   "execution_count": 10,
   "metadata": {},
   "outputs": [
    {
     "name": "stdout",
     "output_type": "stream",
     "text": [
      "826\n"
     ]
    }
   ],
   "source": [
    "# https://www.acmicpc.net/problem/13975\n",
    "import heapq\n",
    "def solution(k, a):\n",
    "    res = 0\n",
    "    heapq.heapify(a)\n",
    "\n",
    "    while len(a) > 1:\n",
    "        x = heapq.heappop(a)\n",
    "        y = heapq.heappop(a)\n",
    "\n",
    "        tmp = x + y\n",
    "        res += tmp\n",
    "        heapq.heappush(a, tmp)\n",
    "\n",
    "    return res\n",
    "\n",
    "\n",
    "t = int(input())\n",
    "for _ in range(t):\n",
    "    k = int(input())\n",
    "    a = list(map(int, input().split()))\n",
    "    \n",
    "    print(solution(k, a))"
   ]
  },
  {
   "cell_type": "code",
   "execution_count": null,
   "metadata": {},
   "outputs": [],
   "source": []
  }
 ],
 "metadata": {
  "kernelspec": {
   "display_name": "base",
   "language": "python",
   "name": "python3"
  },
  "language_info": {
   "codemirror_mode": {
    "name": "ipython",
    "version": 3
   },
   "file_extension": ".py",
   "mimetype": "text/x-python",
   "name": "python",
   "nbconvert_exporter": "python",
   "pygments_lexer": "ipython3",
   "version": "3.9.7"
  }
 },
 "nbformat": 4,
 "nbformat_minor": 2
}
