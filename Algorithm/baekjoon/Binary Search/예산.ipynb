{
 "cells": [
  {
   "cell_type": "code",
   "execution_count": 5,
   "metadata": {},
   "outputs": [
    {
     "name": "stdout",
     "output_type": "stream",
     "text": [
      "127\n"
     ]
    }
   ],
   "source": [
    "# https://www.acmicpc.net/problem/2512\n",
    "n = int(input())\n",
    "a = list(map(int, input().split()))\n",
    "budget = int(input())\n",
    "\n",
    "lt, rt = 0, max(a)\n",
    "while lt <= rt:\n",
    "    mid = (lt+rt)//2\n",
    "    total = 0\n",
    "    for x in a:\n",
    "        if x > mid:\n",
    "            total += mid\n",
    "        else:\n",
    "            total += x\n",
    "    \n",
    "    if total <= budget:\n",
    "        lt = mid + 1\n",
    "    else:\n",
    "        rt = mid - 1\n",
    "\n",
    "print(rt)"
   ]
  },
  {
   "cell_type": "code",
   "execution_count": null,
   "metadata": {},
   "outputs": [],
   "source": []
  }
 ],
 "metadata": {
  "kernelspec": {
   "display_name": "base",
   "language": "python",
   "name": "python3"
  },
  "language_info": {
   "codemirror_mode": {
    "name": "ipython",
    "version": 3
   },
   "file_extension": ".py",
   "mimetype": "text/x-python",
   "name": "python",
   "nbconvert_exporter": "python",
   "pygments_lexer": "ipython3",
   "version": "3.9.7"
  }
 },
 "nbformat": 4,
 "nbformat_minor": 2
}
