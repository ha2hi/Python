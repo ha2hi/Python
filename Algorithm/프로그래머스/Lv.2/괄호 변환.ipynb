{
 "cells": [
  {
   "cell_type": "code",
   "execution_count": 21,
   "metadata": {},
   "outputs": [
    {
     "data": {
      "text/plain": [
       "'()(())()'"
      ]
     },
     "execution_count": 21,
     "metadata": {},
     "output_type": "execute_result"
    }
   ],
   "source": [
    "def divide(p):\n",
    "    left = right = 0\n",
    "    for i in range(len(p)):\n",
    "        if p[i] == '(':\n",
    "            left += 1\n",
    "        else:\n",
    "            right += 1\n",
    "        if left == right:\n",
    "            return p[:i+1], p[i+1:]\n",
    "\n",
    "def chk(u):\n",
    "    stack = []\n",
    "    for x in u:\n",
    "        if x == '(':\n",
    "            stack.append(x)\n",
    "        else:\n",
    "            if not stack:\n",
    "                return False\n",
    "            stack.pop()\n",
    "    return True\n",
    "\n",
    "def solution(p):\n",
    "    if not p:\n",
    "        return \"\"\n",
    "    \n",
    "    u, v = divide(p)\n",
    "\n",
    "    if chk(u):\n",
    "        return u + solution(v)\n",
    "    else:\n",
    "        answer = '('\n",
    "        answer += solution(v)\n",
    "        answer += ')'\n",
    "        n = len(u)\n",
    "        for i in range(1, n-1):\n",
    "            if u[i] == '(':\n",
    "                answer += ')'\n",
    "            else:\n",
    "                answer += '('\n",
    "    return answer\n",
    "\n",
    "p = \"()))((()\"\n",
    "solution(p)"
   ]
  },
  {
   "cell_type": "code",
   "execution_count": null,
   "metadata": {},
   "outputs": [],
   "source": []
  }
 ],
 "metadata": {
  "kernelspec": {
   "display_name": "base",
   "language": "python",
   "name": "python3"
  },
  "language_info": {
   "codemirror_mode": {
    "name": "ipython",
    "version": 3
   },
   "file_extension": ".py",
   "mimetype": "text/x-python",
   "name": "python",
   "nbconvert_exporter": "python",
   "pygments_lexer": "ipython3",
   "version": "3.9.7"
  }
 },
 "nbformat": 4,
 "nbformat_minor": 2
}
