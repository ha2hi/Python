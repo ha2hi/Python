{
 "cells": [
  {
   "cell_type": "code",
   "execution_count": 2,
   "metadata": {},
   "outputs": [],
   "source": [
    "from pyspark.sql import SparkSession, Row\n",
    "from pyspark.sql.types import StructType, StructField, StringType, IntegerType\n",
    "\n",
    "spark = SparkSession.builder.master(\"local\").appName(\"create-dataframe\").getOrCreate()\n",
    "\n",
    "stocks = [\n",
    "    ('Google', 'GOOGL', 'USA', 2984, 'USD'),\n",
    "    ('Netflix', 'NFLX', 'USA', 645, 'USD'),\n",
    "    ('Tesla', 'TSLA', 'USA', 1222, 'USD'),\n",
    "    ('Samsung', '005930', 'Korea', 125000, 'KRW'),\n",
    "    ('Kakao', '035720', 'Korea', 125000, 'USD'),\n",
    "]\n",
    "\n",
    "schema = [\"name\", \"ticker\", \"country\", \"price\", \"currency\"]\n",
    "\n",
    "df=spark.createDataFrame(data=stocks, schema=schema)"
   ]
  },
  {
   "cell_type": "code",
   "execution_count": 3,
   "metadata": {},
   "outputs": [
    {
     "name": "stderr",
     "output_type": "stream",
     "text": [
      "                                                                                \r"
     ]
    },
    {
     "name": "stdout",
     "output_type": "stream",
     "text": [
      "+-------+------+-------+------+--------+\n",
      "|   name|ticker|country| price|currency|\n",
      "+-------+------+-------+------+--------+\n",
      "| Google| GOOGL|    USA|  2984|     USD|\n",
      "|Netflix|  NFLX|    USA|   645|     USD|\n",
      "|  Tesla|  TSLA|    USA|  1222|     USD|\n",
      "|Samsung|005930|  Korea|125000|     KRW|\n",
      "|  Kakao|035720|  Korea|125000|     USD|\n",
      "+-------+------+-------+------+--------+\n",
      "\n"
     ]
    }
   ],
   "source": [
    "df.show()"
   ]
  },
  {
   "cell_type": "code",
   "execution_count": 5,
   "metadata": {},
   "outputs": [
    {
     "name": "stdout",
     "output_type": "stream",
     "text": [
      "+-------+-------+-----+\n",
      "|   name|country|price|\n",
      "+-------+-------+-----+\n",
      "|Netflix|    USA|  645|\n",
      "|  Tesla|    USA| 1222|\n",
      "| Google|    USA| 2984|\n",
      "+-------+-------+-----+\n",
      "\n"
     ]
    }
   ],
   "source": [
    "usaStocksDF = df.select(\"name\", \"country\", \"price\").where(\"country == 'USA'\").orderBy(\"price\")\n",
    "usaStocksDF.show()"
   ]
  },
  {
   "cell_type": "code",
   "execution_count": 6,
   "metadata": {},
   "outputs": [
    {
     "name": "stderr",
     "output_type": "stream",
     "text": [
      "[Stage 2:>                                                          (0 + 1) / 1]\r"
     ]
    },
    {
     "name": "stdout",
     "output_type": "stream",
     "text": [
      "+-------+----------+\n",
      "|country|max(price)|\n",
      "+-------+----------+\n",
      "|    USA|      2984|\n",
      "|  Korea|    125000|\n",
      "+-------+----------+\n",
      "\n"
     ]
    },
    {
     "name": "stderr",
     "output_type": "stream",
     "text": [
      "                                                                                \r"
     ]
    }
   ],
   "source": [
    "df.groupBy(\"country\").max(\"price\").show()"
   ]
  },
  {
   "cell_type": "code",
   "execution_count": 8,
   "metadata": {},
   "outputs": [
    {
     "name": "stdout",
     "output_type": "stream",
     "text": [
      "+--------+----------+\n",
      "|currency|avg(price)|\n",
      "+--------+----------+\n",
      "|     KRW|  125000.0|\n",
      "|     USD|  32462.75|\n",
      "+--------+----------+\n",
      "\n"
     ]
    }
   ],
   "source": [
    "from pyspark.sql.functions import avg, count\n",
    "df.groupBy(\"currency\").agg(avg(\"price\")).show()"
   ]
  },
  {
   "cell_type": "code",
   "execution_count": 10,
   "metadata": {},
   "outputs": [
    {
     "name": "stdout",
     "output_type": "stream",
     "text": [
      "+--------+------------+\n",
      "|currency|count(price)|\n",
      "+--------+------------+\n",
      "|     KRW|           1|\n",
      "|     USD|           4|\n",
      "+--------+------------+\n",
      "\n"
     ]
    }
   ],
   "source": [
    "df.groupBy(\"currency\").agg(count(\"price\")).show()"
   ]
  },
  {
   "cell_type": "code",
   "execution_count": null,
   "metadata": {},
   "outputs": [],
   "source": []
  }
 ],
 "metadata": {
  "kernelspec": {
   "display_name": "base",
   "language": "python",
   "name": "python3"
  },
  "language_info": {
   "codemirror_mode": {
    "name": "ipython",
    "version": 3
   },
   "file_extension": ".py",
   "mimetype": "text/x-python",
   "name": "python",
   "nbconvert_exporter": "python",
   "pygments_lexer": "ipython3",
   "version": "3.9.-1"
  }
 },
 "nbformat": 4,
 "nbformat_minor": 2
}
