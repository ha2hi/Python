{
 "cells": [
  {
   "cell_type": "markdown",
   "metadata": {},
   "source": [
    "### 클로저란?\n",
    "클로저는 함수 안에 내부 함수를 구현하고 그 내부 함수를 리턴하는 함수를 말한다.  \n",
    "이 때 외부 함수의 변수값 등을 내부 함수에 전달할 수 있다."
   ]
  },
  {
   "cell_type": "code",
   "execution_count": 3,
   "metadata": {},
   "outputs": [],
   "source": [
    "# 예를 들어 어떤 수에 3을 곱해 리턴하는 함수와 어떤 수에 5를 곱해서 리턴하는 함수가 있다고 가정하자\n",
    "# 이 때 6,7,8,... 함수를 각각 만드는 것은 비효율적일 것 이다.\n",
    "def mul3(n):\n",
    "    return n * 3\n",
    "\n",
    "def mul5(n):\n",
    "    return n * 5"
   ]
  },
  {
   "cell_type": "code",
   "execution_count": 1,
   "metadata": {},
   "outputs": [
    {
     "name": "stdout",
     "output_type": "stream",
     "text": [
      "30\n",
      "50\n"
     ]
    }
   ],
   "source": [
    "# 이와 같이 클래스를 사용하면 비효율적인 문제를 해결할 수 있다.\n",
    "class Mul:\n",
    "    def __init__(self, m):\n",
    "        self.m = m\n",
    "    \n",
    "    def mul(self, n):\n",
    "        return self.m * n\n",
    "\n",
    "if __name__ == '__main__':\n",
    "    mul3 = Mul(3)\n",
    "    mul5 = Mul(5)\n",
    "\n",
    "    print(mul3.mul(10))\n",
    "    print(mul5.mul(10))"
   ]
  },
  {
   "cell_type": "code",
   "execution_count": 5,
   "metadata": {},
   "outputs": [
    {
     "name": "stdout",
     "output_type": "stream",
     "text": [
      "30\n",
      "50\n"
     ]
    }
   ],
   "source": [
    "# __call__ 메서드를 이용하여 다음과 같이 개선할 수도 있다.\n",
    "class Mul:\n",
    "    def __init__(self, m):\n",
    "        self.m = m\n",
    "\n",
    "    def __call__(self, n):\n",
    "        return self.m * n\n",
    "\n",
    "if __name__ == '__main__':\n",
    "    Mul3 = Mul(3)\n",
    "    Mul5 = Mul(5)\n",
    "\n",
    "    print(Mul3(10))\n",
    "    print(Mul5(10))"
   ]
  },
  {
   "cell_type": "code",
   "execution_count": 9,
   "metadata": {},
   "outputs": [
    {
     "name": "stdout",
     "output_type": "stream",
     "text": [
      "30\n",
      "50\n"
     ]
    }
   ],
   "source": [
    "# __call__ 함수를 사용하는 것이 일반적이긴 하지만, 더 간편한 방법이 있다.\n",
    "# 외부 함수 mul 안에 내부함수 wrapper를 구현했다. 그리고 외부함수는 내부함수 wrapper를 반환한다.\n",
    "# mul함수호출 시 인수로 받은 m 값을 wrapper 함수에 저장하여 리턴한다. 이런 mul과 같은 함수를 파이썬에서는 클로저(closer)라고한다.\n",
    "def mul(m):\n",
    "    def wrapper(n):\n",
    "        return m * n\n",
    "    return wrapper\n",
    "\n",
    "if __name__ == '__main__':\n",
    "    mul3 = mul(3)\n",
    "    mul5 = mul(5)\n",
    "\n",
    "    print(mul3(10))\n",
    "    print(mul5(10))"
   ]
  },
  {
   "cell_type": "code",
   "execution_count": null,
   "metadata": {},
   "outputs": [],
   "source": []
  },
  {
   "cell_type": "markdown",
   "metadata": {},
   "source": [
    "### 데코레이터(Decorator)란?\n",
    "데코레이란 함수나 메서드에 적용되어 기능을 추가, 확장, 변경하는 역할을 합니다."
   ]
  },
  {
   "cell_type": "code",
   "execution_count": 24,
   "metadata": {},
   "outputs": [
    {
     "name": "stdout",
     "output_type": "stream",
     "text": [
      "함수 실행\n",
      "함수 실행시간: 0.000051 초\n"
     ]
    }
   ],
   "source": [
    "# 예를 들어 함수 실행시간을 측정해야되는 코드를 여러 함수에서 사용한다면 클로저를 이용할 수 있을 것이다.\n",
    "import time\n",
    "def elapsed(original_func):\n",
    "    def wrapper():\n",
    "        start = time.time()\n",
    "        result = original_func()\n",
    "        end = time.time()\n",
    "        print(\"함수 실행시간: %f 초\" %(end-start))\n",
    "        return result\n",
    "    return wrapper\n",
    "\n",
    "def myfunc():\n",
    "    print('함수 실행')\n",
    "\n",
    "decorated_myfunc = elapsed(myfunc)\n",
    "decorated_myfunc()"
   ]
  },
  {
   "cell_type": "code",
   "execution_count": 25,
   "metadata": {},
   "outputs": [
    {
     "name": "stdout",
     "output_type": "stream",
     "text": [
      "함수 실행\n",
      "함수 실행시간: 0.000044 초\n"
     ]
    }
   ],
   "source": [
    "# 위에 함수를 데코레이터를 사용하면 간단하게 만들 수 있다.\n",
    "import time\n",
    "def elapsed(original_func):\n",
    "    def wrapper():\n",
    "        start = time.time()\n",
    "        result = original_func()\n",
    "        end = time.time()\n",
    "        print(\"함수 실행시간: %f 초\" %(end-start))\n",
    "        return result\n",
    "    return wrapper\n",
    "\n",
    "@elapsed\n",
    "def myfunc():\n",
    "    print('함수 실행')\n",
    "\n",
    "\n",
    "# decorated_myfunc = elapsed(myfunc) 데코레이터로 인해 필요가 없다.\n",
    "# decorated_myfunc()\n",
    "myfunc()"
   ]
  },
  {
   "cell_type": "code",
   "execution_count": 27,
   "metadata": {},
   "outputs": [
    {
     "name": "stdout",
     "output_type": "stream",
     "text": [
      "Yoo need python을 출력합니다.\n",
      "함수 실행시간: 0.000279 초\n"
     ]
    }
   ],
   "source": [
    "# 이제 myfunc을 수정해보자\n",
    "import time\n",
    "def elapsed(original_func):\n",
    "    def wrapper(*args, **kwargs):\n",
    "        start = time.time()\n",
    "        result = original_func(*args, **kwargs)\n",
    "        end = time.time()\n",
    "        print(\"함수 실행시간: %f 초\" %(end-start))\n",
    "        return result\n",
    "    return wrapper\n",
    "\n",
    "@elapsed\n",
    "def myfunc(msg):\n",
    "    print(f'{msg}을 출력합니다.')\n",
    "\n",
    "myfunc('Yoo need python')"
   ]
  },
  {
   "cell_type": "code",
   "execution_count": 29,
   "metadata": {},
   "outputs": [
    {
     "name": "stdout",
     "output_type": "stream",
     "text": [
      "Yoo need python을 출력합니다.\n"
     ]
    },
    {
     "data": {
      "text/plain": [
       "0.00042510032653808594"
      ]
     },
     "execution_count": 29,
     "metadata": {},
     "output_type": "execute_result"
    }
   ],
   "source": [
    "import time\n",
    "def elapsed(original_func):\n",
    "    def wrapper(*args, **kwagrs):\n",
    "        start = time.time()\n",
    "        result = original_func(*args, **kwagrs)\n",
    "        end = time.time()\n",
    "        return end-start\n",
    "    \n",
    "    return wrapper\n",
    "\n",
    "@elapsed\n",
    "def myfunc(msg):\n",
    "    print(f'{msg}을 출력합니다.')\n",
    "\n",
    "myfunc('Yoo need python')"
   ]
  },
  {
   "cell_type": "code",
   "execution_count": null,
   "metadata": {},
   "outputs": [],
   "source": []
  },
  {
   "cell_type": "markdown",
   "metadata": {},
   "source": [
    "### 제너레이터(Generator)\n",
    "제너레이터(Generator)는 호출될 때 반환되는 iterator(이터레이터)의 일종이다.  \n",
    "`yield 구문을`사용해 데이터를 원하는 시점에 반환하고 처리를 다시 시작할 수 있다.\n",
    "  \n",
    "List, Set, Dict은 iterable(이터러블)하기 때문에 for 표현식에 유용하게 사용된다.  \n",
    "이터러블 객체는 모든 값을 메모리에 담고 있어야하기 때문에 큰 값을 다룰 때는 별로 좋지 않다.  \n",
    "제네레이터를 사용하면 yield 를 통해 그때그때 필요한 값만을 받아 쓰기때문에 모든 값을 메모리에 들고 있을 필요가 없게된다."
   ]
  },
  {
   "cell_type": "code",
   "execution_count": 36,
   "metadata": {},
   "outputs": [
    {
     "name": "stdout",
     "output_type": "stream",
     "text": [
      "1\n",
      "string\n",
      "True\n"
     ]
    },
    {
     "ename": "StopIteration",
     "evalue": "",
     "output_type": "error",
     "traceback": [
      "\u001b[0;31m---------------------------------------------------------------------------\u001b[0m",
      "\u001b[0;31mStopIteration\u001b[0m                             Traceback (most recent call last)",
      "\u001b[0;32m/var/folders/hs/qgyqqppj281bp7zh9vj3jry40000gn/T/ipykernel_17589/2891231520.py\u001b[0m in \u001b[0;36m<module>\u001b[0;34m\u001b[0m\n\u001b[1;32m      8\u001b[0m \u001b[0mprint\u001b[0m\u001b[0;34m(\u001b[0m\u001b[0mnext\u001b[0m\u001b[0;34m(\u001b[0m\u001b[0mgen\u001b[0m\u001b[0;34m)\u001b[0m\u001b[0;34m)\u001b[0m\u001b[0;34m\u001b[0m\u001b[0;34m\u001b[0m\u001b[0m\n\u001b[1;32m      9\u001b[0m \u001b[0mprint\u001b[0m\u001b[0;34m(\u001b[0m\u001b[0mnext\u001b[0m\u001b[0;34m(\u001b[0m\u001b[0mgen\u001b[0m\u001b[0;34m)\u001b[0m\u001b[0;34m)\u001b[0m\u001b[0;34m\u001b[0m\u001b[0;34m\u001b[0m\u001b[0m\n\u001b[0;32m---> 10\u001b[0;31m \u001b[0mprint\u001b[0m\u001b[0;34m(\u001b[0m\u001b[0mnext\u001b[0m\u001b[0;34m(\u001b[0m\u001b[0mgen\u001b[0m\u001b[0;34m)\u001b[0m\u001b[0;34m)\u001b[0m\u001b[0;34m\u001b[0m\u001b[0;34m\u001b[0m\u001b[0m\n\u001b[0m",
      "\u001b[0;31mStopIteration\u001b[0m: "
     ]
    }
   ],
   "source": [
    "def generator():\n",
    "    yield 1\n",
    "    yield 'string'\n",
    "    yield True\n",
    "\n",
    "gen = generator()\n",
    "print(next(gen))\n",
    "print(next(gen))\n",
    "print(next(gen))\n",
    "print(next(gen))"
   ]
  },
  {
   "cell_type": "code",
   "execution_count": 63,
   "metadata": {},
   "outputs": [
    {
     "name": "stdout",
     "output_type": "stream",
     "text": [
      "6\n"
     ]
    }
   ],
   "source": [
    "def infinite_generator():\n",
    "    cnt = 0\n",
    "    while True:\n",
    "        cnt += 1\n",
    "        yield cnt\n",
    "\n",
    "gen = infinite_generator()\n",
    "\n",
    "next(gen)\n",
    "next(gen)\n",
    "next(gen)\n",
    "next(gen)\n",
    "next(gen)\n",
    "print(next(gen))"
   ]
  },
  {
   "cell_type": "code",
   "execution_count": null,
   "metadata": {},
   "outputs": [],
   "source": []
  },
  {
   "cell_type": "markdown",
   "metadata": {},
   "source": [
    "### GIL(Global Interpreter Lock)\n",
    "GIL은 여러 스레드가 동시에 실행되는걸 방지한다.  \n",
    "각 스레드는 다른 스레드에의해 GIL이 해제되기를 기다린 후에 실핼될 수 있다.  \n",
    "즉, 멀티스레드로 구성했어도 본질적으로는 싱글 스레드로 동작한다.  \n",
    "  \n",
    "GIL 존재한다고 멀티 스레딩이 쓸모 없는 것은 아니다. I/O 바운드 작업(파일 읽기/쓰기, 네트워크 통신 등)에서는 GIL이 해제되므로, 이런 작업에서는 멀티 스레딩이 유용하다.  \n",
    "반면, CPU 바운드 작업에서는 멀티 프로세싱을 사용하는 것이 더 효율적이다.(프로세스간의 통신은 고려해야됨)  \n",
    "  \n",
    "GIL을 사용함으로써 레퍼런스 카운팅을 사용하는 메모리 관리 방식에서 오버헤드가 적기 때문에 매모리 관리를 단순화합니다."
   ]
  },
  {
   "cell_type": "markdown",
   "metadata": {},
   "source": []
  },
  {
   "cell_type": "markdown",
   "metadata": {},
   "source": [
    "## GC(Garbage Collection)란?\n",
    "GC는 메모리 관리를 자동으로 해주는 기능입니다.  \n",
    "파이썬의 GC는 주로 2가지 방법을 사용하여 메모리를 관리합니다.\n",
    "1. Reference Counting\n",
    "2. Reference cycles(순환 참조)\n",
    "\n",
    "1. Reference Counting\n",
    "참조 횟수는 각 객체가 몇 번 참조되었는지 세는 방식입니다. 객체가 생성되면 1이 되고, 다른 변수나 객체가 이를 참조할 때마다 카운트가 증가됩니다.  \n",
    "반대로, 객체에 대한 참조가 사라질 때 마다 카운트는 감소합니다.  \n",
    "카운트가 0이 되면 객체는 메모리에서 사라집니다.  \n",
    "```\n",
    "a = [1, 2, 3]  # 리스트 객체의 참조 카운트는 1\n",
    "b = a          # 리스트 객체의 참조 카운트는 2 (a와 b가 동일 객체 참조)\n",
    "del a          # 리스트 객체의 참조 카운트는 1 (b만 참조)\n",
    "del b          # 리스트 객체의 참조 카운트는 0 (참조 없음, 메모리 해제)\n",
    "```\n",
    "  \n",
    "2. Reference cycles(순환 참조)\n",
    "Reference Counting만으로는 순환 참조를 처리할 수 없습니다. 순환 참조는 자기 자신을 참조하거나 객체들이 서로를 참조하는 경우로, 이 경우 참조 카운트가 0이되지 않아 메모리가 해지되지 않습니다.  \n",
    "이를 해결하기 위해 파이썬의 GC는 주기적으로 객체 그래프를 탐색하여 순환 참조를 감지하고, 이를 해결합니다.  \n",
    "2-1. 자기 자신 참조 경우\n",
    "```\n",
    "l = []\n",
    "l.append(l)\n",
    "del l # 참조 카운트는 1이지만 더이상 접근할 수 없으며 Reference Counting으로 메모리에서 해제할 수 없다.\n",
    "```\n",
    "2-2. 서로 참조하는 경우\n",
    "```\n",
    ">>> a = Foo()  # 0x60\n",
    ">>> b = Foo()  # 0xa8\n",
    ">>> a.x = b  # 0x60의 x는 0xa8를 가리킨다.\n",
    ">>> b.x = a  # 0xa8의 x는 0x60를 가리킨다.\n",
    "# 이 시점에서 0x60의 레퍼런스 카운터는 a와 b.x로 2\n",
    "# 0xa8의 레퍼런스 카운터는 b와 a.x로 2다.\n",
    ">>> del a  # 0x60은 1로 감소한다. 0xa8은 b와 0x60.x로 2다.\n",
    ">>> del b  # 0xa8도 1로 감소한다.\n",
    "```\n",
    "\n",
    "## 가비지컬렉션의 작동 방식\n",
    "### 어떤 기준으로 가비지 컬렉션이 일어나는가?\n",
    "GC는 내부적으로 generation(세대)과 threshold(임계값)으로 객체를 관리한다.  \n",
    "세대는 0세대(최근), 1세대(중간), 2세대(오래)로 구분된다. 한 객체는 하나의 세대에만 속한다.  \n",
    "GC는 0세대 일 수록 더 자주 가비지 컬렉션을 하도록 설계되었다.  \n",
    "- 임계값 확인\n",
    "```\n",
    ">>> gc.get_threshold()\n",
    "(700, 10, 10)\n",
    "```\n",
    "\n",
    "각각 threshold 0, threshold 1, threshold 2을 의미하는데 n 세대에 객체를 할당한 횟수가 threshold n을 초과하면 가비지 컬렉션이 수행되며 이 값은 변경될 수 있다.  \n",
    "  \n",
    "0 세대의 경우 메모리에 객체가 할당된 횟수에서 해제된 횟수를 뺀 값, 즉 객체 수가 threshold 0을 초과하면 실행된다. 다만 그 이후 세대부터는 조금 다른데 0 세대 가비지 컬렉션이 일어난 후 0 세대 객체를 1 세대로 이동시킨 후 카운터를 1 증가시킨다. 이 1 세대 카운터가 threshold 1을 초과하면 그 때 1 세대 가비지 컬렉션이 일어난다. 러프하게 말하자면 0 세대 가비지 컬렉션이 객체 생성 700 번만에 일어난다면 1 세대는 7000 번만에, 2 세대는 7 만번만에 일어난다는 뜻이다.  "
   ]
  },
  {
   "cell_type": "code",
   "execution_count": null,
   "metadata": {},
   "outputs": [],
   "source": []
  },
  {
   "cell_type": "markdown",
   "metadata": {},
   "source": [
    "### PyPy가 CPython보다 빠른 이유\n",
    "CPython은 일반적인 인터프리터인데 반해 PyPy는 실행추적 JIT(Just In Time) 컴파일을 제공하는 인터프리터이기 때문이다.  \n",
    "JIT 컴파일러는 프로그램이 실행되는 동안 자주 사용되는 코드 조각을 기계어로 컴파일하여 실행 속도를 크게 향상시킵니다.  \n",
    "  \n",
    "CPython은 인터프리터 방식으로 작동하며, 파이썬 코드를 바이트코드로 변환하고 이를 인터프리터가 실행합니다. 이 방식은 JIT 컴파일러의 기계어 변환에 비해 속도가 느립니다."
   ]
  },
  {
   "cell_type": "code",
   "execution_count": null,
   "metadata": {},
   "outputs": [],
   "source": []
  },
  {
   "cell_type": "markdown",
   "metadata": {},
   "source": [
    "### DuckTyping(덕 타이핑)\n",
    "DuckTyping은 다른 클래스라도 메소드 명이 같으면 같은 타입으로 인식한다라는 의미다.  \n",
    "서로 다른 클래스의 객체라도 동일한 메서드나 속성을 가지고 있다면 동일한 방식으로 다룰 수 있습니다.\n",
    "```\n",
    "class Dog:\n",
    "    def speak(self):\n",
    "        return \"Woof!\"\n",
    "\n",
    "class Cat:\n",
    "    def speak(self):\n",
    "        return \"Meow!\"\n",
    "\n",
    "def make_animal_speak(animal):\n",
    "    print(animal.speak())\n",
    "\n",
    "dog = Dog()\n",
    "cat = Cat()\n",
    "\n",
    "make_animal_speak(dog)  # 출력: Woof!\n",
    "make_animal_speak(cat)  # 출력: Meow!\n",
    "```\n",
    "위 예제에서 make_animal_speak 함수는 Dog와 Cat 객체의 타입을 확인하지 않고, 단순히 speak 메서드를 호출합니다.  \n",
    "덕 타이핑은 객체의 타입보다는 그 객체의 메소드나 속성의 존재 여부와 그 동작에 의존합니다."
   ]
  },
  {
   "cell_type": "code",
   "execution_count": null,
   "metadata": {},
   "outputs": [],
   "source": []
  }
 ],
 "metadata": {
  "kernelspec": {
   "display_name": "base",
   "language": "python",
   "name": "python3"
  },
  "language_info": {
   "codemirror_mode": {
    "name": "ipython",
    "version": 3
   },
   "file_extension": ".py",
   "mimetype": "text/x-python",
   "name": "python",
   "nbconvert_exporter": "python",
   "pygments_lexer": "ipython3",
   "version": "3.9.-1"
  }
 },
 "nbformat": 4,
 "nbformat_minor": 2
}
