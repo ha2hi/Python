{
 "cells": [
  {
   "cell_type": "code",
   "execution_count": 1,
   "metadata": {},
   "outputs": [
    {
     "name": "stdout",
     "output_type": "stream",
     "text": [
      "3\n"
     ]
    }
   ],
   "source": [
    "from collections import deque\n",
    "def solution(graph):\n",
    "    res = set()\n",
    "    q = deque([(1, 0)])\n",
    "    visited = {1}\n",
    "\n",
    "    while q:\n",
    "        friends, cnt = q.popleft()\n",
    "        if cnt >= 2:\n",
    "            break\n",
    "        for friend in graph[friends]:\n",
    "            if friend not in visited:\n",
    "                res.add(friend)\n",
    "                visited.add(friend)\n",
    "                q.append((friend, cnt+1))\n",
    "    \n",
    "\n",
    "    return len(res)\n",
    "\n",
    "n = int(input())\n",
    "m = int(input())\n",
    "graph = {i:[] for i in range(n+1)}\n",
    "\n",
    "for _ in range(m):\n",
    "    a, b = map(int, input().split())\n",
    "    graph[a].append(b)\n",
    "    graph[b].append(a)\n",
    "\n",
    "print(solution(graph))"
   ]
  },
  {
   "cell_type": "code",
   "execution_count": null,
   "metadata": {},
   "outputs": [],
   "source": []
  }
 ],
 "metadata": {
  "kernelspec": {
   "display_name": "pyflink_38",
   "language": "python",
   "name": "python3"
  },
  "language_info": {
   "codemirror_mode": {
    "name": "ipython",
    "version": 3
   },
   "file_extension": ".py",
   "mimetype": "text/x-python",
   "name": "python",
   "nbconvert_exporter": "python",
   "pygments_lexer": "ipython3",
   "version": "3.8.20"
  }
 },
 "nbformat": 4,
 "nbformat_minor": 2
}
