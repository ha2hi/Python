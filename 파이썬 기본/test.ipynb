{
 "cells": [
  {
   "cell_type": "code",
   "execution_count": 21,
   "metadata": {},
   "outputs": [
    {
     "name": "stdout",
     "output_type": "stream",
     "text": [
      "3\n"
     ]
    }
   ],
   "source": [
    "from collections import deque\n",
    "try:\n",
    "    while True:\n",
    "        n, m = map(int, input().split())\n",
    "        board = [list(map(int, input().split())) for _ in range(n)]\n",
    "        dx = [0,1,1]\n",
    "        dy = [1,1,0]\n",
    "\n",
    "        res = 0\n",
    "        for i in range(n):\n",
    "            for j in range(m):\n",
    "                if board[i][j] == 1:\n",
    "                    q = deque()\n",
    "                    q.append((i,j))\n",
    "                    tmp = 0\n",
    "                    ch = [[False]*m for _ in range(n)]\n",
    "                    while q:\n",
    "                        flag = False\n",
    "                        for _ in range(len(q)):\n",
    "                            x, y = q.popleft()\n",
    "                            for k in range(3):\n",
    "                                xx = x + dx[k]\n",
    "                                yy = y + dy[k]\n",
    "                                if 0<=xx<n and 0<=yy<m and not ch[xx][yy] and board[xx][yy] == 1:\n",
    "                                    ch[xx][yy] = True\n",
    "                                    q.append((xx,yy))\n",
    "                                elif not(0<=xx<n and 0<=yy<m) or board[xx][yy] == 0 :\n",
    "                                    flag = True\n",
    "                                    break\n",
    "                        if flag:\n",
    "                            break\n",
    "                        tmp += 1\n",
    "                    \n",
    "                    if tmp >= 1:\n",
    "                        res = max(res, tmp+1)\n",
    "        print(res)\n",
    "except:\n",
    "    pass"
   ]
  },
  {
   "cell_type": "code",
   "execution_count": null,
   "metadata": {},
   "outputs": [],
   "source": [
    "while True:\n",
    "    n, m = map(int, input().split())\n",
    "    if n == 0 and m == 0:\n",
    "        break\n",
    "    board = [list(map(int, input().split())) for _ in range(n)]\n",
    "    dp = [[0]*(m+1) for _ in range(n+1)]\n",
    "\n",
    "    res = 0\n",
    "    for i in range(1, n+1):\n",
    "        for j in range(1, m+1):\n",
    "            if board[i-1][j-1] == 1:\n",
    "                dp[i][j] = min(dp[i-1][j], dp[i-1][j-1], dp[i][j-1]) + 1\n",
    "                \n",
    "                if dp[i][j] > res:\n",
    "                    res = dp[i][j]\n",
    "    print(res)"
   ]
  }
 ],
 "metadata": {
  "kernelspec": {
   "display_name": "base",
   "language": "python",
   "name": "python3"
  },
  "language_info": {
   "codemirror_mode": {
    "name": "ipython",
    "version": 3
   },
   "file_extension": ".py",
   "mimetype": "text/x-python",
   "name": "python",
   "nbconvert_exporter": "python",
   "pygments_lexer": "ipython3",
   "version": "3.9.7"
  },
  "orig_nbformat": 4
 },
 "nbformat": 4,
 "nbformat_minor": 2
}
