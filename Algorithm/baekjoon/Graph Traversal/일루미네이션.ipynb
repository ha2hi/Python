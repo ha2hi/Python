{
 "cells": [
  {
   "cell_type": "code",
   "execution_count": 6,
   "metadata": {},
   "outputs": [
    {
     "name": "stdout",
     "output_type": "stream",
     "text": [
      "64\n"
     ]
    }
   ],
   "source": [
    "# https://www.acmicpc.net/problem/5547\n",
    "from collections import deque\n",
    "def bfs(x,y):\n",
    "    res = 0\n",
    "    q = deque([])\n",
    "    q.append((x,y))\n",
    "    visited[x][y] = True\n",
    "    while q:\n",
    "        x,y = q.popleft()\n",
    "        for i in range(6):\n",
    "            xx = x + dx[i]\n",
    "            if x % 2 == 1:\n",
    "                yy = y + dy[0][i]\n",
    "            else:\n",
    "                yy = y + dy[1][i]\n",
    "\n",
    "            if 0<=xx<h+2 and 0<=yy<w+2 and board[xx][yy] == 0 and not visited[xx][yy]:\n",
    "                visited[xx][yy] = True\n",
    "                q.append((xx,yy))\n",
    "            elif 0<=xx<h+2 and 0<=yy<w+2 and board[xx][yy] == 1:\n",
    "                res += 1\n",
    "    return res\n",
    "\n",
    "\n",
    "w, h = map(int, input().split())\n",
    "board = [[0]*(w+2) for _ in range(h+2)]\n",
    "visited = [[False] * (w+2) for _ in range(h+2)]\n",
    "for i in range(1,h+1):\n",
    "    board[i][1:w+1] = map(int, input().split())\n",
    "\n",
    "dy = [[-1,0,-1,1,-1,0], [0,1,-1,1,0,1]]\n",
    "dx = [-1,-1,0,0,1,1]\n",
    "res = bfs(0,0)\n",
    "print(res)"
   ]
  },
  {
   "cell_type": "code",
   "execution_count": null,
   "metadata": {},
   "outputs": [],
   "source": [
    "\"\""
   ]
  }
 ],
 "metadata": {
  "kernelspec": {
   "display_name": "base",
   "language": "python",
   "name": "python3"
  },
  "language_info": {
   "codemirror_mode": {
    "name": "ipython",
    "version": 3
   },
   "file_extension": ".py",
   "mimetype": "text/x-python",
   "name": "python",
   "nbconvert_exporter": "python",
   "pygments_lexer": "ipython3",
   "version": "3.9.7"
  }
 },
 "nbformat": 4,
 "nbformat_minor": 2
}
