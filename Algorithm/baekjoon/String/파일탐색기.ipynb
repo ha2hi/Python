{
 "cells": [
  {
   "cell_type": "code",
   "execution_count": 27,
   "metadata": {},
   "outputs": [
    {
     "name": "stdout",
     "output_type": "stream",
     "text": [
      "FOOBAR\n",
      "Fo6Bar\n",
      "Foo1Bar\n",
      "Foo3Bar\n",
      "Foo3bar\n",
      "Foo12Bar\n",
      "Foo00012Bar\n",
      "foo4bar\n"
     ]
    }
   ],
   "source": [
    "# https://www.acmicpc.net/problem/20210\n",
    "from functools import cmp_to_key\n",
    "def to_list(word):\n",
    "    li = list(word)\n",
    "    i = 0\n",
    "    while i < len(li):\n",
    "        if li[i].isdigit():\n",
    "            end = i\n",
    "            while end < len(li) and li[end].isdigit():\n",
    "                end += 1\n",
    "            li[i:end] = [''.join(li[i:end])]\n",
    "            i = end - 1\n",
    "        i+= 1\n",
    "    return li\n",
    "\n",
    "def diff(w1, w2):\n",
    "    w1 = to_list(w1)\n",
    "    w2 = to_list(w2)\n",
    "    i = 0\n",
    "    while i < min(len(w1), len(w2)):\n",
    "        if w1[i] == w2[i]:\n",
    "            i += 1\n",
    "            continue\n",
    "\n",
    "        # 숫자 vs 문자\n",
    "        if w1[i].isdigit() and w2[i].isalpha():\n",
    "            return -1\n",
    "        elif w1[i].isalpha() and w2[i].isdigit():\n",
    "            return 1\n",
    "\n",
    "        # 문자 vs 문자\n",
    "        elif w1[i].isalpha() and w2[i].isalpha():\n",
    "            if w1[i].lower() == w2[i].lower():\n",
    "                return -1 if w1[i] < w2[i] else 1\n",
    "            return -1 if w1[i].lower() < w2[i].lower() else 1\n",
    "\n",
    "        # 숫자 vs 숫자\n",
    "        elif w1[i].isdigit() and w2[i].isdigit():\n",
    "            if int(w1[i]) == int(w2[i]):\n",
    "                z1 = len(w1[i]) - len(w1[i].lstrip('0'))\n",
    "                z2 = len(w2[i]) - len(w2[i].lstrip('0'))\n",
    "                return -1 if z1 < z2 else 1\n",
    "            else:\n",
    "                return -1 if int(w1[i]) < int(w2[i]) else 1\n",
    "        i += 1\n",
    "    return -1 if len(w1) < len(w2) else 1\n",
    "\n",
    "\n",
    "print(*sorted([input() for _ in range(int(input()))], key = cmp_to_key(diff)), sep= '\\n')"
   ]
  },
  {
   "cell_type": "code",
   "execution_count": null,
   "metadata": {},
   "outputs": [],
   "source": []
  }
 ],
 "metadata": {
  "kernelspec": {
   "display_name": "base",
   "language": "python",
   "name": "python3"
  },
  "language_info": {
   "codemirror_mode": {
    "name": "ipython",
    "version": 3
   },
   "file_extension": ".py",
   "mimetype": "text/x-python",
   "name": "python",
   "nbconvert_exporter": "python",
   "pygments_lexer": "ipython3",
   "version": "3.9.7"
  }
 },
 "nbformat": 4,
 "nbformat_minor": 2
}
