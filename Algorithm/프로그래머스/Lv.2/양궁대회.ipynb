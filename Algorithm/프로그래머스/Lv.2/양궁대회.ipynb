{
 "cells": [
  {
   "cell_type": "code",
   "execution_count": 107,
   "metadata": {},
   "outputs": [
    {
     "data": {
      "text/plain": [
       "[0, 2, 2, 0, 1, 0, 0, 0, 0, 0, 0]"
      ]
     },
     "execution_count": 107,
     "metadata": {},
     "output_type": "execute_result"
    }
   ],
   "source": [
    "def solution(n, info):\n",
    "    res  = []\n",
    "    ryan = [0 for _ in range(11)]\n",
    "    diff = 0\n",
    "    def dfs(l, m):\n",
    "        nonlocal res, ryan, diff\n",
    "        if m == n:\n",
    "            r_sum, a_sum = 0, 0\n",
    "            for j in range(11):\n",
    "                if ryan[j] > info[j]:\n",
    "                    r_sum += 10-j\n",
    "                elif 0 != info[j] and info[j] >= ryan[j]:\n",
    "                    a_sum += 10-j\n",
    "            if r_sum <= a_sum:\n",
    "                return\n",
    "            \n",
    "            if r_sum > a_sum:\n",
    "                if r_sum - a_sum > diff:\n",
    "                    diff = r_sum - a_sum\n",
    "                    res = ryan[:]\n",
    "                elif r_sum - a_sum == diff:\n",
    "                    for k in range(10,-1,-1):\n",
    "                        if res[k] < ryan[k]:\n",
    "                            res = ryan[:]\n",
    "                            break\n",
    "                        elif res[k] > ryan[k]:\n",
    "                            break\n",
    "        else:\n",
    "            for i in range(l, 11):\n",
    "                ryan[i] += 1\n",
    "                dfs(i, m+1)\n",
    "                ryan[i] -= 1\n",
    "    dfs(0,0)\n",
    "    return res if res else [-1]\n",
    "\n",
    "\n",
    "n = 5\n",
    "info = [2,1,1,1,0,0,0,0,0,0,0]\n",
    "solution(n, info)"
   ]
  },
  {
   "cell_type": "code",
   "execution_count": null,
   "metadata": {},
   "outputs": [],
   "source": []
  }
 ],
 "metadata": {
  "kernelspec": {
   "display_name": "base",
   "language": "python",
   "name": "python3"
  },
  "language_info": {
   "codemirror_mode": {
    "name": "ipython",
    "version": 3
   },
   "file_extension": ".py",
   "mimetype": "text/x-python",
   "name": "python",
   "nbconvert_exporter": "python",
   "pygments_lexer": "ipython3",
   "version": "3.9.7"
  }
 },
 "nbformat": 4,
 "nbformat_minor": 2
}
