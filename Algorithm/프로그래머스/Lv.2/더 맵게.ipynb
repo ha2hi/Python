{
 "cells": [
  {
   "cell_type": "code",
   "execution_count": 2,
   "metadata": {},
   "outputs": [
    {
     "data": {
      "text/plain": [
       "2"
      ]
     },
     "execution_count": 2,
     "metadata": {},
     "output_type": "execute_result"
    }
   ],
   "source": [
    "# https://school.programmers.co.kr/learn/courses/30/lessons/42626\n",
    "# 시간초과\n",
    "def solution(scoville, K):\n",
    "    answer = 0\n",
    "    scoville.sort(reverse=True)\n",
    "    while scoville[-1] < K:\n",
    "        x = scoville.pop()\n",
    "        y = scoville.pop()\n",
    "        scoville.append(x + (y*2))\n",
    "        answer += 1\n",
    "        scoville.sort(reverse=True)\n",
    "    return answer\n",
    "\n",
    "scoville = [1, 2, 3, 9, 10, 12]\n",
    "K = 7\n",
    "solution(scoville, K)"
   ]
  },
  {
   "cell_type": "code",
   "execution_count": 4,
   "metadata": {},
   "outputs": [
    {
     "data": {
      "text/plain": [
       "2"
      ]
     },
     "execution_count": 4,
     "metadata": {},
     "output_type": "execute_result"
    }
   ],
   "source": [
    "# heap 사용\n",
    "import heapq\n",
    "def solution(scoville, K):\n",
    "    answer = 0\n",
    "    heapq.heapify(scoville)\n",
    "\n",
    "    while scoville[0] < K:\n",
    "        new = heapq.heappop(scoville) + (2*heapq.heappop(scoville))\n",
    "        heapq.heappush(scoville, new)\n",
    "        answer += 1\n",
    "\n",
    "        if scoville[0] < K and len(scoville) == 1:\n",
    "            return -1\n",
    "\n",
    "    return answer\n",
    "\n",
    "scoville = [1, 2, 3, 9, 10, 12]\n",
    "K = 7\n",
    "solution(scoville, K)"
   ]
  },
  {
   "cell_type": "code",
   "execution_count": null,
   "metadata": {},
   "outputs": [],
   "source": []
  }
 ],
 "metadata": {
  "kernelspec": {
   "display_name": "base",
   "language": "python",
   "name": "python3"
  },
  "language_info": {
   "codemirror_mode": {
    "name": "ipython",
    "version": 3
   },
   "file_extension": ".py",
   "mimetype": "text/x-python",
   "name": "python",
   "nbconvert_exporter": "python",
   "pygments_lexer": "ipython3",
   "version": "3.9.7"
  }
 },
 "nbformat": 4,
 "nbformat_minor": 2
}
