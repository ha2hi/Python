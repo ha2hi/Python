{
 "cells": [
  {
   "cell_type": "code",
   "execution_count": 2,
   "metadata": {},
   "outputs": [
    {
     "name": "stdout",
     "output_type": "stream",
     "text": [
      "2명이 생성되었습니다.\n"
     ]
    }
   ],
   "source": [
    "# 클래스 메서드는 다음과 같이 메서드 위에 @classmethod를 붙입니다.\n",
    "# 클래스 메서드는 첫 번째 매개변수에 cls를 지정해야 합니다.\n",
    "class Person:\n",
    "    count = 0\n",
    "    def __init__(self):\n",
    "        Person.count += 1 # 인스턴스가 만들어질 때 클래스 속성 count에 1을 더함\n",
    "    \n",
    "    @classmethod\n",
    "    def print_count(cls):\n",
    "        print('{0}명이 생성되었습니다.'.format(cls.count))\n",
    "\n",
    "james = Person()\n",
    "maria = Person()\n",
    "Person.print_count()\n"
   ]
  },
  {
   "cell_type": "code",
   "execution_count": null,
   "metadata": {},
   "outputs": [],
   "source": [
    "# 클래스 메서드는 정적 메서드처럼 인스턴스 없이 호출할 수 있다는 점은 같습니다.\n",
    "# 하지만 클래스 메서드는 메서드 안에서 클래스 속성, 클래스 메서드에 접근해야 할 때 사용합니다.\n",
    "# cls를 사용하면 메서드 안에서 현재 클래스의 인스턴스를 만들 수도 있습니다.\n",
    "@classmethod\n",
    "def create(cls):\n",
    "    p = cls()\n",
    "    return p"
   ]
  }
 ],
 "metadata": {
  "kernelspec": {
   "display_name": "base",
   "language": "python",
   "name": "python3"
  },
  "language_info": {
   "codemirror_mode": {
    "name": "ipython",
    "version": 3
   },
   "file_extension": ".py",
   "mimetype": "text/x-python",
   "name": "python",
   "nbconvert_exporter": "python",
   "pygments_lexer": "ipython3",
   "version": "3.9.7"
  },
  "orig_nbformat": 4
 },
 "nbformat": 4,
 "nbformat_minor": 2
}
