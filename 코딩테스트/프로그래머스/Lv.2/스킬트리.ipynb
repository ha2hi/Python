{
 "cells": [
  {
   "cell_type": "code",
   "execution_count": 4,
   "metadata": {},
   "outputs": [
    {
     "data": {
      "text/plain": [
       "2"
      ]
     },
     "execution_count": 4,
     "metadata": {},
     "output_type": "execute_result"
    }
   ],
   "source": [
    "def solution(skill, skill_trees):\n",
    "    res = 0\n",
    "    skill_set = set(skill)\n",
    "    for skill_tree in skill_trees:\n",
    "        ch = list(skill[::-1])\n",
    "        flag = True\n",
    "        for s in skill_tree:\n",
    "            if s in skill_set:\n",
    "                if s == ch[-1]:\n",
    "                    ch.pop()\n",
    "                else:\n",
    "                    flag = False\n",
    "                    break\n",
    "        if flag:\n",
    "            res += 1\n",
    "    return res\n",
    "\n",
    "\n",
    "\n",
    "skill = \"CBD\"\n",
    "skill_trees = [\"BACDE\", \"CBADF\", \"AECB\", \"BDA\"]\n",
    "solution(skill, skill_trees)"
   ]
  },
  {
   "cell_type": "code",
   "execution_count": null,
   "metadata": {},
   "outputs": [],
   "source": []
  }
 ],
 "metadata": {
  "kernelspec": {
   "display_name": "base",
   "language": "python",
   "name": "python3"
  },
  "language_info": {
   "codemirror_mode": {
    "name": "ipython",
    "version": 3
   },
   "file_extension": ".py",
   "mimetype": "text/x-python",
   "name": "python",
   "nbconvert_exporter": "python",
   "pygments_lexer": "ipython3",
   "version": "3.9.7"
  }
 },
 "nbformat": 4,
 "nbformat_minor": 2
}
