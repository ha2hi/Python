{
 "cells": [
  {
   "cell_type": "code",
   "execution_count": 2,
   "metadata": {},
   "outputs": [
    {
     "name": "stdout",
     "output_type": "stream",
     "text": [
      ".XX...X\n",
      "XX.....\n"
     ]
    }
   ],
   "source": [
    "# https://www.acmicpc.net/problem/5212\n",
    "R, C = map(int, input().split())\n",
    "board = [list(input()) for _ in range(R)]\n",
    "dx = [-1,0,1,0]\n",
    "dy = [0,1,0,-1]\n",
    "ch = []\n",
    "\n",
    "for i in range(R):\n",
    "    for j in range(C):\n",
    "        if board[i][j] == 'X':\n",
    "            tmp = 0\n",
    "            for k in range(4):\n",
    "                xx = i + dx[k]\n",
    "                yy = j + dy[k]\n",
    "                if xx<0 or xx>=R or yy<0 or yy>=C:\n",
    "                    tmp += 1\n",
    "                if 0<=xx<R and 0<=yy<C and board[xx][yy] == '.':\n",
    "                    tmp += 1\n",
    "            if tmp >= 3:\n",
    "                ch.append((i,j))\n",
    "\n",
    "for x, y in ch:\n",
    "    board[x][y] = '.'\n",
    "\n",
    "r_x = []\n",
    "r_y = []\n",
    "for i in range(R):\n",
    "    if 'X' in board[i]:\n",
    "        r_x.append(i)\n",
    "\n",
    "for j in range(C-1,-1,-1):\n",
    "    for i in range(R):\n",
    "        if 'X' in board[i][j]:\n",
    "            r_y.append(j)\n",
    "\n",
    "for x in range(min(r_x), max(r_x)+1):\n",
    "    for y in range(min(r_y), max(r_y)+1):\n",
    "        print(board[x][y], end=\"\")\n",
    "    print()"
   ]
  },
  {
   "cell_type": "code",
   "execution_count": null,
   "metadata": {},
   "outputs": [],
   "source": []
  }
 ],
 "metadata": {
  "kernelspec": {
   "display_name": "base",
   "language": "python",
   "name": "python3"
  },
  "language_info": {
   "codemirror_mode": {
    "name": "ipython",
    "version": 3
   },
   "file_extension": ".py",
   "mimetype": "text/x-python",
   "name": "python",
   "nbconvert_exporter": "python",
   "pygments_lexer": "ipython3",
   "version": "3.9.7"
  }
 },
 "nbformat": 4,
 "nbformat_minor": 2
}
