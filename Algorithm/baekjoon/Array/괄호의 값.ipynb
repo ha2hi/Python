{
 "cells": [
  {
   "cell_type": "code",
   "execution_count": 69,
   "metadata": {},
   "outputs": [
    {
     "name": "stdout",
     "output_type": "stream",
     "text": [
      "28\n"
     ]
    }
   ],
   "source": [
    "# https://www.acmicpc.net/problem/2504\n",
    "k = list(input())\n",
    "answer = 0\n",
    "stack = []\n",
    "tmp = 1\n",
    "\n",
    "for i in range(len(k)):\n",
    "    if k[i] == '(':\n",
    "        stack.append('(')\n",
    "        tmp *= 2\n",
    "    elif k[i] == '[':\n",
    "        stack.append('[')\n",
    "        tmp *= 3\n",
    "    elif k[i] == ')':\n",
    "        if not stack or stack[-1] == '[':\n",
    "            answer = 0\n",
    "            break\n",
    "        if k[i-1] == '(':\n",
    "            answer += tmp\n",
    "        stack.pop()\n",
    "        tmp //= 2\n",
    "    else:\n",
    "        if not stack or stack[-1] == '(':\n",
    "            answer = 0\n",
    "            break\n",
    "        if k[i-1] == '[':\n",
    "            answer += tmp\n",
    "        \n",
    "        stack.pop()\n",
    "        tmp //= 3\n",
    "\n",
    "if stack:\n",
    "    print(0)\n",
    "else:\n",
    "    print(answer)\n"
   ]
  },
  {
   "cell_type": "code",
   "execution_count": null,
   "metadata": {},
   "outputs": [],
   "source": []
  }
 ],
 "metadata": {
  "kernelspec": {
   "display_name": "base",
   "language": "python",
   "name": "python3"
  },
  "language_info": {
   "codemirror_mode": {
    "name": "ipython",
    "version": 3
   },
   "file_extension": ".py",
   "mimetype": "text/x-python",
   "name": "python",
   "nbconvert_exporter": "python",
   "pygments_lexer": "ipython3",
   "version": "3.9.7"
  }
 },
 "nbformat": 4,
 "nbformat_minor": 2
}
