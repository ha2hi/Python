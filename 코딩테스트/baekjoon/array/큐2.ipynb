{
 "cells": [
  {
   "cell_type": "code",
   "execution_count": 4,
   "metadata": {},
   "outputs": [
    {
     "name": "stdout",
     "output_type": "stream",
     "text": [
      "1\n",
      "2\n",
      "2\n",
      "0\n",
      "1\n",
      "2\n",
      "-1\n",
      "0\n",
      "1\n",
      "-1\n",
      "0\n",
      "3\n"
     ]
    }
   ],
   "source": [
    "# https://www.acmicpc.net/problem/18258\n",
    "from collections import deque\n",
    "import sys\n",
    "\n",
    "def push(x):\n",
    "    q.append(x)\n",
    "\n",
    "def pop():\n",
    "    if not q:\n",
    "        return -1\n",
    "    else:\n",
    "        return q.popleft()\n",
    "\n",
    "def size():\n",
    "    return len(q)\n",
    "\n",
    "def empty():\n",
    "    if not q:\n",
    "        return 1\n",
    "    else:\n",
    "        return 0\n",
    "\n",
    "def front():\n",
    "    if not q:\n",
    "        return -1\n",
    "    else:\n",
    "        return q[0]\n",
    "\n",
    "def back():\n",
    "    if not q:\n",
    "        return -1\n",
    "    else:\n",
    "        return q[-1]\n",
    "\n",
    "q = deque()\n",
    "n = int(sys.stdin.readline())\n",
    "for _ in range(n):\n",
    "    x = sys.stdin.readline().split()\n",
    "    if x[0] == 'push':\n",
    "        push(x[1])\n",
    "    elif x[0] == 'pop':\n",
    "        print(pop())\n",
    "    elif x[0] == 'size':\n",
    "        print(size())\n",
    "    elif x[0] == 'empty':\n",
    "        print(empty())\n",
    "    elif x[0] == 'front':\n",
    "        print(front())\n",
    "    elif x[0] == 'back':\n",
    "        print(back())"
   ]
  },
  {
   "cell_type": "code",
   "execution_count": null,
   "metadata": {},
   "outputs": [],
   "source": []
  },
  {
   "cell_type": "markdown",
   "metadata": {},
   "source": []
  }
 ],
 "metadata": {
  "kernelspec": {
   "display_name": "base",
   "language": "python",
   "name": "python3"
  },
  "language_info": {
   "codemirror_mode": {
    "name": "ipython",
    "version": 3
   },
   "file_extension": ".py",
   "mimetype": "text/x-python",
   "name": "python",
   "nbconvert_exporter": "python",
   "pygments_lexer": "ipython3",
   "version": "3.9.7"
  }
 },
 "nbformat": 4,
 "nbformat_minor": 2
}
