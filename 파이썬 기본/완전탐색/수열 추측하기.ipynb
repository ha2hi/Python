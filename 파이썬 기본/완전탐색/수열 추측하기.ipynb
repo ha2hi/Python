{
 "cells": [
  {
   "cell_type": "code",
   "execution_count": null,
   "metadata": {},
   "outputs": [],
   "source": [
    "\"\"\"\n",
    "수열 추측하기\n",
    "가장 윗줄에 1부터 N까지의 숫자가 한 개씩 적혀 있다. 그리고 둘째 줄부터 차례대로 파스칼 의 삼각형처럼 위의 두개를 더한 값이 저장되게 된다. 예를 들어 N이 4 이고 가장 윗 줄에 3 1 2 4 가 있다고 했을 때, 다음과 같은 삼각형이 그려진다.\n",
    "\n",
    "3 1 2 4 \n",
    " 4 3 6 \n",
    "  7 9 \n",
    "  16\n",
    "\n",
    "N과 가장 밑에 있는 숫자가 주어져 있을 때 가장 윗줄에 있는 숫자를 구하는 프로그램을 작성하 시오. 단, 답이 여러가지가 나오는 경우에는 사전순으로 가장 앞에 오는 것을 출력하여야 한다.\n",
    "\n",
    "\n",
    "\n",
    "▣ 입력설명\n",
    "첫째 줄에 두개의 정수 N(1≤N≤10)과 F가 주어진다. N은 가장 윗줄에 있는 숫자의 개수를 의 미하며 F는 가장 밑에 줄에 있는 수로 1,000,000 이하이다.\n",
    "\n",
    "▣ 출력설명\n",
    "첫째 줄에 삼각형에서 가장 위에 들어갈 N개의 숫자를 빈 칸을 사이에 두고 출력한다. 답이 존재 하지 않는 경우는 입력으로 주어지지 않는다.\n",
    "\n",
    "▣ 입력예제 1 \n",
    "4 16\n",
    "\n",
    "▣ 출력예제 1 \n",
    "3 1 2 4"
   ]
  },
  {
   "cell_type": "code",
   "execution_count": 3,
   "metadata": {},
   "outputs": [
    {
     "name": "stdout",
     "output_type": "stream",
     "text": [
      "3 1 2 4\n"
     ]
    },
    {
     "ename": "SystemExit",
     "evalue": "0",
     "output_type": "error",
     "traceback": [
      "An exception has occurred, use %tb to see the full traceback.\n",
      "\u001b[0;31mSystemExit\u001b[0m\u001b[0;31m:\u001b[0m 0\n"
     ]
    },
    {
     "name": "stderr",
     "output_type": "stream",
     "text": [
      "/Users/mzc01-hyucksangcho/opt/anaconda3/lib/python3.9/site-packages/IPython/core/interactiveshell.py:3452: UserWarning: To exit: use 'exit', 'quit', or Ctrl-D.\n",
      "  warn(\"To exit: use 'exit', 'quit', or Ctrl-D.\", stacklevel=1)\n"
     ]
    }
   ],
   "source": [
    "import sys\n",
    "def DFS(L, sum):\n",
    "    if L == n and sum == f:\n",
    "        print(*p)\n",
    "        sys.exit(0)\n",
    "    else:\n",
    "        for i in range(1, n+1):\n",
    "            if ch[i] == 0:\n",
    "                ch[i] = 1\n",
    "                p[L] = i\n",
    "                DFS(L+1, sum+(p[L] * b[L]))\n",
    "                ch[i] = 0\n",
    "\n",
    "n, f = map(int, input().split())\n",
    "p = [0] * n\n",
    "b = [1] * n #이항 계수\n",
    "ch = [0] * (n+1)\n",
    "for i in range(1,n):\n",
    "    b[i] = b[i-1]*(n-i) // i\n",
    "DFS(0,0)"
   ]
  },
  {
   "cell_type": "code",
   "execution_count": null,
   "metadata": {},
   "outputs": [],
   "source": []
  }
 ],
 "metadata": {
  "kernelspec": {
   "display_name": "base",
   "language": "python",
   "name": "python3"
  },
  "language_info": {
   "codemirror_mode": {
    "name": "ipython",
    "version": 3
   },
   "file_extension": ".py",
   "mimetype": "text/x-python",
   "name": "python",
   "nbconvert_exporter": "python",
   "pygments_lexer": "ipython3",
   "version": "3.9.7"
  },
  "orig_nbformat": 4
 },
 "nbformat": 4,
 "nbformat_minor": 2
}
