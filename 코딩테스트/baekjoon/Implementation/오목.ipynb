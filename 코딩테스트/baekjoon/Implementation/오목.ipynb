{
 "cells": [
  {
   "cell_type": "code",
   "execution_count": 17,
   "metadata": {},
   "outputs": [
    {
     "name": "stdout",
     "output_type": "stream",
     "text": [
      "1\n",
      "3 2\n"
     ]
    },
    {
     "ename": "SystemExit",
     "evalue": "0",
     "output_type": "error",
     "traceback": [
      "An exception has occurred, use %tb to see the full traceback.\n",
      "\u001b[0;31mSystemExit\u001b[0m\u001b[0;31m:\u001b[0m 0\n"
     ]
    },
    {
     "name": "stderr",
     "output_type": "stream",
     "text": [
      "/Users/mzc01-hyucksangcho/opt/anaconda3/lib/python3.9/site-packages/IPython/core/interactiveshell.py:3452: UserWarning: To exit: use 'exit', 'quit', or Ctrl-D.\n",
      "  warn(\"To exit: use 'exit', 'quit', or Ctrl-D.\", stacklevel=1)\n"
     ]
    }
   ],
   "source": [
    "# https://www.acmicpc.net/problem/2615\n",
    "import sys\n",
    "board = [list(map(int, input().split())) for _ in range(19)]\n",
    "\n",
    "dx = [-1, 0, 1,1]\n",
    "dy = [1, 1,1,0]\n",
    "for i in range(19):\n",
    "    for j in range(19):\n",
    "        if board[i][j] == 1 or board[i][j] == 2:\n",
    "            v = board[i][j]\n",
    "\n",
    "            for k in range(4):\n",
    "                cnt = 1\n",
    "                xx = i + dx[k]\n",
    "                yy = j + dy[k]\n",
    "                \n",
    "                while 0<=xx<19 and 0<=yy<19 and board[xx][yy] == v:\n",
    "                    cnt += 1\n",
    "\n",
    "                    if cnt == 5:\n",
    "                        if 0<=i-dx[k]<19 and 0<=j-dy[k]<19 and board[i-dx[k]][j-dy[k]] == v:\n",
    "                            break\n",
    "                        if 0<=xx+dx[k]<19 and 0<=yy+dy[k]<19 and board[xx+dx[k]][yy+dy[k]] == v:\n",
    "                            break\n",
    "                            \n",
    "                        print(v)\n",
    "                        print(i+1, j+1)\n",
    "                        sys.exit(0)\n",
    "\n",
    "                    xx += dx[k]\n",
    "                    yy += dy[k]\n",
    "\n",
    "print(0)"
   ]
  },
  {
   "cell_type": "code",
   "execution_count": null,
   "metadata": {},
   "outputs": [],
   "source": []
  }
 ],
 "metadata": {
  "kernelspec": {
   "display_name": "base",
   "language": "python",
   "name": "python3"
  },
  "language_info": {
   "codemirror_mode": {
    "name": "ipython",
    "version": 3
   },
   "file_extension": ".py",
   "mimetype": "text/x-python",
   "name": "python",
   "nbconvert_exporter": "python",
   "pygments_lexer": "ipython3",
   "version": "3.9.-1"
  }
 },
 "nbformat": 4,
 "nbformat_minor": 2
}
