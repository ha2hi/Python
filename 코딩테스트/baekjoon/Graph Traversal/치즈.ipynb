{
 "cells": [
  {
   "cell_type": "code",
   "execution_count": 8,
   "metadata": {},
   "outputs": [
    {
     "name": "stdout",
     "output_type": "stream",
     "text": [
      "3\n",
      "5\n"
     ]
    }
   ],
   "source": [
    "# https://www.acmicpc.net/problem/2636\n",
    "from collections import deque\n",
    "def bfs():\n",
    "    q = deque([(0,0)])\n",
    "    choice = []\n",
    "    while q:\n",
    "        x, y = q.popleft()\n",
    "        for i in range(4):\n",
    "            xx = x + dx[i]\n",
    "            yy = y + dy[i]\n",
    "            if 0<=xx<n and 0<=yy<m and not visited[xx][yy]:\n",
    "                visited[xx][yy] = True\n",
    "                if board[xx][yy] == 0:\n",
    "                    q.append((xx,yy))\n",
    "                elif board[xx][yy] == 1:\n",
    "                    choice.append((xx,yy))\n",
    "    for x, y in choice:\n",
    "        board[x][y] = 0\n",
    "    return len(choice)\n",
    "\n",
    "\n",
    "n, m = map(int, input().split())\n",
    "board = [list(map(int, input().split())) for _ in range(n)]\n",
    "cz, time = 0, 1\n",
    "for i in range(n):\n",
    "    for j in range(m):\n",
    "        if board[i][j] == 1:\n",
    "            cz += 1\n",
    "dx = [-1,0,1,0]\n",
    "dy = [0,1,0,-1]\n",
    "while True:\n",
    "    visited = [[False] * m for _ in range(n)]\n",
    "    cnt = bfs()\n",
    "    cz -= cnt\n",
    "    if cz == 0:\n",
    "        print(time)\n",
    "        print(cnt)\n",
    "        break\n",
    "    time += 1"
   ]
  },
  {
   "cell_type": "code",
   "execution_count": null,
   "metadata": {},
   "outputs": [],
   "source": []
  }
 ],
 "metadata": {
  "kernelspec": {
   "display_name": "base",
   "language": "python",
   "name": "python3"
  },
  "language_info": {
   "codemirror_mode": {
    "name": "ipython",
    "version": 3
   },
   "file_extension": ".py",
   "mimetype": "text/x-python",
   "name": "python",
   "nbconvert_exporter": "python",
   "pygments_lexer": "ipython3",
   "version": "3.9.7"
  }
 },
 "nbformat": 4,
 "nbformat_minor": 2
}
