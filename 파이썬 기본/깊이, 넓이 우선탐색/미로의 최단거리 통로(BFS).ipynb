{
 "cells": [
  {
   "cell_type": "code",
   "execution_count": 8,
   "metadata": {},
   "outputs": [
    {
     "name": "stdout",
     "output_type": "stream",
     "text": [
      "12\n"
     ]
    }
   ],
   "source": [
    "from collections import deque\n",
    "a = [list(map(int, input().split())) for _ in range(7)]\n",
    "dx = [-1,0,1,0]\n",
    "dy = [0,1,0,-1]\n",
    "q = deque()\n",
    "q.append((0,0))\n",
    "a[0][0] = 1\n",
    "while q:\n",
    "    now_x, now_y = q.popleft()\n",
    "    for i in range(4):\n",
    "        next_x = now_x + dx[i]\n",
    "        next_y = now_y + dy[i]\n",
    "        if 0<=next_x<7 and 0<=next_y < 7 and a[next_x][next_y] == 0:\n",
    "            a[next_x][next_y] = a[now_x][now_y] + 1\n",
    "            q.append((next_x, next_y))\n",
    "if a[6][6] == 0:\n",
    "    print(-1)\n",
    "else:\n",
    "    print(a[6][6]-1)"
   ]
  },
  {
   "cell_type": "code",
   "execution_count": null,
   "metadata": {},
   "outputs": [],
   "source": []
  }
 ],
 "metadata": {
  "kernelspec": {
   "display_name": "base",
   "language": "python",
   "name": "python3"
  },
  "language_info": {
   "codemirror_mode": {
    "name": "ipython",
    "version": 3
   },
   "file_extension": ".py",
   "mimetype": "text/x-python",
   "name": "python",
   "nbconvert_exporter": "python",
   "pygments_lexer": "ipython3",
   "version": "3.9.7"
  },
  "orig_nbformat": 4
 },
 "nbformat": 4,
 "nbformat_minor": 2
}
