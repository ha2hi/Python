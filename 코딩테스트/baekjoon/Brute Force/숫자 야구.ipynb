{
 "cells": [
  {
   "cell_type": "code",
   "execution_count": 7,
   "metadata": {},
   "outputs": [
    {
     "name": "stdout",
     "output_type": "stream",
     "text": [
      "2\n"
     ]
    }
   ],
   "source": [
    "#https://www.acmicpc.net/problem/2503\n",
    "from itertools import permutations\n",
    "n = int(input())\n",
    "q = []\n",
    "for _ in range(n):\n",
    "    x, y, z = map(int, input().split())\n",
    "    q.append((str(x),y,z))\n",
    "\n",
    "res = 0\n",
    "for p in permutations([str(i) for i in range(1,10)], 3):\n",
    "    flag = True\n",
    "    for x, y, z in q:\n",
    "        ball = 3-len(set(x)-set([p[0], p[1], p[2]]))\n",
    "        strike = 0\n",
    "        for i in range(3):\n",
    "            if p[i] == x[i]:\n",
    "                strike += 1\n",
    "        ball -= strike\n",
    "        \n",
    "        if strike != y or ball != z:\n",
    "            flag = False\n",
    "            break\n",
    "    \n",
    "    if flag:\n",
    "        res += 1\n",
    "\n",
    "print(res)"
   ]
  },
  {
   "cell_type": "code",
   "execution_count": null,
   "metadata": {},
   "outputs": [],
   "source": []
  }
 ],
 "metadata": {
  "kernelspec": {
   "display_name": "base",
   "language": "python",
   "name": "python3"
  },
  "language_info": {
   "codemirror_mode": {
    "name": "ipython",
    "version": 3
   },
   "file_extension": ".py",
   "mimetype": "text/x-python",
   "name": "python",
   "nbconvert_exporter": "python",
   "pygments_lexer": "ipython3",
   "version": "3.9.7"
  }
 },
 "nbformat": 4,
 "nbformat_minor": 2
}
