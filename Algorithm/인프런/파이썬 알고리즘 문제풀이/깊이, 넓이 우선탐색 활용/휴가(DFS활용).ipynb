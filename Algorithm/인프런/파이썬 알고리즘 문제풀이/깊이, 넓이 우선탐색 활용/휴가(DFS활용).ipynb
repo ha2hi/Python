{
 "cells": [
  {
   "cell_type": "code",
   "execution_count": 20,
   "metadata": {},
   "outputs": [
    {
     "data": {
      "text/plain": [
       "60"
      ]
     },
     "execution_count": 20,
     "metadata": {},
     "output_type": "execute_result"
    }
   ],
   "source": [
    "def solution(n):\n",
    "    res = float('-inf')\n",
    "    a = []\n",
    "    for _ in range(n):\n",
    "        x, y = map(int, input().split())\n",
    "        a.append((x,y))\n",
    "\n",
    "    def dfs(time, sum):\n",
    "        nonlocal res\n",
    "        if time == n:\n",
    "            res = max(res, sum)\n",
    "        else:\n",
    "            if time + a[time][0] <= n:\n",
    "                dfs(time+a[time][0], sum+a[time][1])\n",
    "            dfs(time+1, sum)\n",
    "    dfs(0, 0)\n",
    "    return res\n",
    "\n",
    "n = int(input())\n",
    "solution(n)"
   ]
  },
  {
   "cell_type": "code",
   "execution_count": null,
   "metadata": {},
   "outputs": [],
   "source": []
  },
  {
   "cell_type": "code",
   "execution_count": null,
   "metadata": {},
   "outputs": [],
   "source": []
  }
 ],
 "metadata": {
  "kernelspec": {
   "display_name": "base",
   "language": "python",
   "name": "python3"
  },
  "language_info": {
   "codemirror_mode": {
    "name": "ipython",
    "version": 3
   },
   "file_extension": ".py",
   "mimetype": "text/x-python",
   "name": "python",
   "nbconvert_exporter": "python",
   "pygments_lexer": "ipython3",
   "version": "3.9.7"
  }
 },
 "nbformat": 4,
 "nbformat_minor": 2
}
