{
 "cells": [
  {
   "cell_type": "code",
   "execution_count": 2,
   "metadata": {},
   "outputs": [
    {
     "name": "stdout",
     "output_type": "stream",
     "text": [
      "3\n"
     ]
    }
   ],
   "source": [
    "\"\"\"\n",
    "K 번째 약수\n",
    "어떤 자연수 p와 q가 있을 때, 만일 p를 q로 나누었을 때 나머지가 0이면 q는 p의 약수이다.\n",
    "6을 예로 들면\n",
    "\n",
    "6÷1=6...0\n",
    "6÷2=3...0\n",
    "6÷3=2...0\n",
    "6÷4=1...2\n",
    "6÷5=1...1\n",
    "6÷6=1...0\n",
    "\n",
    "그래서 6의 약수는 1, 2, 3, 6, 총 네 개이다.\n",
    "두 개의 자연수 N과 K가 주어졌을 때, N의 약수들 중 K번째로 작은 수를 출력하는 프로그램을\n",
    "작성하시오.\n",
    "K번째 약수가 존재하지 않을 경우에는 -1을 출력하시오\n",
    "\n",
    "입력 예제\n",
    "6 3\n",
    "출력 예제\n",
    "3\n",
    "\"\"\"\n",
    "n, k = map(int, input().split())\n",
    "t = 0\n",
    "for val in range(1,n+1):\n",
    "    if n % val == 0:\n",
    "        t += 1\n",
    "    if t == k:\n",
    "        print(val)\n",
    "        break\n",
    "else:\n",
    "    print(1)"
   ]
  },
  {
   "cell_type": "code",
   "execution_count": 5,
   "metadata": {},
   "outputs": [
    {
     "name": "stdout",
     "output_type": "stream",
     "text": [
      "#1 7\n",
      "#2 6\n"
     ]
    }
   ],
   "source": [
    "\"\"\"\n",
    "K 번째 수\n",
    "\n",
    "N개의 숫자로 이루어진 숫자열이 주어지면 해당 숫자열중에서 s번째부터 e번째 까지의 수를 오름 차순 정렬했을 때 k번째로 나타나는 숫자를 출력하는 프로그램을 작성하세요.\n",
    "\n",
    "\n",
    "▣ 입력설명\n",
    "첫 번째 줄에 테스트 케이스 T(1<=T<=10)이 주어집니다.\n",
    "각 케이스별\n",
    "첫 번째 줄은 자연수 N(5<=N<=500), s, e, k가 차례로 주어진다. 두 번째 줄에 N개의 숫자가 차례로 주어진다.\n",
    "▣ 출력설명\n",
    "각 케이스별 k번째 수를 아래 출력예제와 같이 출력하세요.\n",
    "\n",
    "▣ 입력예제 1 2\n",
    "6253 527389 15 3 10 3\n",
    "4 15 8 16 6 6 17 3 10 11 18 7 14 7 15\n",
    "▣ 출력예제 1 #1 7\n",
    "#2 6\n",
    "입력예제1 해설 :\n",
    "case 1 : 2 7 3 8의 숫자 중 오름차순 정렬 했을 때 3번째 숫자는 7이다.\n",
    "case 2 : 8 16 6 6 17 3 10 11의 숫자 중 오름차순 정렬 했을 때 3번째 숫자는 6이다\n",
    "\"\"\"\n",
    "t = int(input())\n",
    "for i in range(t):\n",
    "    n,s,e,k = map(int,input().split())\n",
    "    a = list(map(int, input().split()))\n",
    "    target = sorted(a[s-1:e+1])[k-1]\n",
    "    print(f'#{i+1}', target)\n"
   ]
  },
  {
   "cell_type": "code",
   "execution_count": null,
   "metadata": {},
   "outputs": [],
   "source": []
  }
 ],
 "metadata": {
  "kernelspec": {
   "display_name": "base",
   "language": "python",
   "name": "python3"
  },
  "language_info": {
   "codemirror_mode": {
    "name": "ipython",
    "version": 3
   },
   "file_extension": ".py",
   "mimetype": "text/x-python",
   "name": "python",
   "nbconvert_exporter": "python",
   "pygments_lexer": "ipython3",
   "version": "3.9.7"
  },
  "orig_nbformat": 4
 },
 "nbformat": 4,
 "nbformat_minor": 2
}
