{
 "cells": [
  {
   "cell_type": "code",
   "execution_count": 42,
   "metadata": {},
   "outputs": [
    {
     "name": "stdout",
     "output_type": "stream",
     "text": [
      "title : title_name_1\n",
      "paragraph 1\n",
      "paragraph 2 Italic Tag\n",
      "paragraph 3 <b>Bold Tag</b> end.\n",
      "title : title_name_2\n",
      "paragraph 4\n",
      "paragraph 5 Italic Tag 2 end.\n"
     ]
    }
   ],
   "source": [
    "# https://www.acmicpc.net/problem/22859\n",
    "\n",
    "import re\n",
    "s = input()\n",
    "\n",
    "s = re.findall('<main>(.*?)</main>', s)[0]\n",
    "s = re.findall('<div title=\"(.*?)\">(.*?)</div>', s)\n",
    "\n",
    "for title, remain in s:\n",
    "    print('title :', title)\n",
    "    p_list = re.findall('<p>(.*?)</p>', remain)\n",
    "    for p in p_list:\n",
    "        p = re.sub('<.*?>','',p)\n",
    "        p = ' '.join(p.split())\n",
    "        print(p)"
   ]
  },
  {
   "cell_type": "code",
   "execution_count": null,
   "metadata": {},
   "outputs": [],
   "source": []
  }
 ],
 "metadata": {
  "kernelspec": {
   "display_name": "base",
   "language": "python",
   "name": "python3"
  },
  "language_info": {
   "codemirror_mode": {
    "name": "ipython",
    "version": 3
   },
   "file_extension": ".py",
   "mimetype": "text/x-python",
   "name": "python",
   "nbconvert_exporter": "python",
   "pygments_lexer": "ipython3",
   "version": "3.9.7"
  }
 },
 "nbformat": 4,
 "nbformat_minor": 2
}
