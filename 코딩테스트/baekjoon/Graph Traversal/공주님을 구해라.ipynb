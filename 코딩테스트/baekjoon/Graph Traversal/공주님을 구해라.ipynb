{
 "cells": [
  {
   "cell_type": "code",
   "execution_count": 14,
   "metadata": {},
   "outputs": [
    {
     "name": "stdout",
     "output_type": "stream",
     "text": [
      "10\n"
     ]
    }
   ],
   "source": [
    "# https://www.acmicpc.net/problem/17836\n",
    "from collections import deque\n",
    "def bfs(flag):\n",
    "    ch = [[0] * m for _ in range(n)]\n",
    "    ch[0][0] = 1\n",
    "    q = deque([(0,0, 0)])\n",
    "    while q:\n",
    "        now_x, now_y, now_d = q.popleft()\n",
    "        if flag:\n",
    "            if board[now_x][now_y] == 2:\n",
    "                return now_d + (n+m-now_x-now_y-2)\n",
    "        else:\n",
    "            if now_x == n-1 and now_y == m-1:\n",
    "                return now_d\n",
    "        for i in range(4):\n",
    "            next_x = now_x + dx[i]\n",
    "            next_y = now_y + dy[i]\n",
    "            if 0<=next_x<n and 0<=next_y<m and ch[next_x][next_y] == 0 and board[next_x][next_y] != 1:\n",
    "                ch[next_x][next_y] = 1\n",
    "                q.append((next_x, next_y, now_d+1))\n",
    "    return t + 1\n",
    "\n",
    "\n",
    "n, m, t = map(int, input().split())\n",
    "board = [list(map(int,input().split())) for _ in range(n)]\n",
    "ch = [[0] * m for _ in range(n)]\n",
    "dx, dy = [-1,0,1,0], [0,1,0,-1]\n",
    "\n",
    "use_sord = bfs(True)\n",
    "non_use_sord = bfs(False)\n",
    "\n",
    "res = min(use_sord, non_use_sord)\n",
    "if res <= t:\n",
    "    print(res)\n",
    "else:\n",
    "    print('Fail')\n"
   ]
  },
  {
   "cell_type": "code",
   "execution_count": null,
   "metadata": {},
   "outputs": [],
   "source": []
  }
 ],
 "metadata": {
  "kernelspec": {
   "display_name": "base",
   "language": "python",
   "name": "python3"
  },
  "language_info": {
   "codemirror_mode": {
    "name": "ipython",
    "version": 3
   },
   "file_extension": ".py",
   "mimetype": "text/x-python",
   "name": "python",
   "nbconvert_exporter": "python",
   "pygments_lexer": "ipython3",
   "version": "3.9.7"
  }
 },
 "nbformat": 4,
 "nbformat_minor": 2
}
