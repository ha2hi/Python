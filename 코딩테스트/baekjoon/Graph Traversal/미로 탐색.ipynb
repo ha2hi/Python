{
 "cells": [
  {
   "cell_type": "code",
   "execution_count": 4,
   "metadata": {},
   "outputs": [
    {
     "name": "stdout",
     "output_type": "stream",
     "text": [
      "38\n"
     ]
    }
   ],
   "source": [
    "# https://www.acmicpc.net/problem/2178\n",
    "from collections import deque\n",
    "dx = [-1,0,1,0]\n",
    "dy = [0,1,0,-1]\n",
    "n, m = map(int, input().split())\n",
    "q = deque([(0,0,1)])\n",
    "board = [list(map(int, input())) for _ in range(n)]\n",
    "while q:\n",
    "    now_x, now_y, now_c = q.popleft()\n",
    "    if now_x == n-1 and now_y == m-1:\n",
    "        print(now_c)\n",
    "        break\n",
    "    for i in range(4):\n",
    "        next_x = now_x + dx[i]\n",
    "        next_y = now_y + dy[i]\n",
    "        if 0<=next_x<n and 0<=next_y<m and board[next_x][next_y] == 1:\n",
    "            board[next_x][next_y] = 0\n",
    "            q.append((next_x, next_y, now_c+1))"
   ]
  },
  {
   "cell_type": "code",
   "execution_count": null,
   "metadata": {},
   "outputs": [],
   "source": []
  }
 ],
 "metadata": {
  "kernelspec": {
   "display_name": "base",
   "language": "python",
   "name": "python3"
  },
  "language_info": {
   "codemirror_mode": {
    "name": "ipython",
    "version": 3
   },
   "file_extension": ".py",
   "mimetype": "text/x-python",
   "name": "python",
   "nbconvert_exporter": "python",
   "pygments_lexer": "ipython3",
   "version": "3.9.7"
  }
 },
 "nbformat": 4,
 "nbformat_minor": 2
}
