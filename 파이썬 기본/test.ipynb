{
 "cells": [
  {
   "cell_type": "code",
   "execution_count": 36,
   "metadata": {},
   "outputs": [
    {
     "data": {
      "text/plain": [
       "{'ID': '92fbaee1-bb4f-42bf-87f0-d348b4cbb635',\n",
       " 'TRANSACTION_TYPE': 'CASH',\n",
       " 'AMOUNT': 43,\n",
       " 'DATE': '07/25/2024'}"
      ]
     },
     "execution_count": 36,
     "metadata": {},
     "output_type": "execute_result"
    }
   ],
   "source": [
    "import random\n",
    "import datetime\n",
    "import pytz\n",
    "import uuid\n",
    "\n",
    "def _get_id() -> str:\n",
    "    return str(uuid.uuid4())\n",
    "\n",
    "def _get_time_data() -> str:\n",
    "    utc_now = pytz.utc.localize(datetime.datetime.utcnow())\n",
    "    kst_now = utc_now.astimezone(pytz.timezone('Asia/Seoul'))\n",
    "    d_now = kst_now.strftime('%m/%d/%Y')\n",
    "\n",
    "    return d_now\n",
    "\n",
    "def _get_trax_type() -> str:\n",
    "    return random.choice(['CASH', 'CARD', 'BITCOIN'])\n",
    "\n",
    "def _get_amount() -> int:\n",
    "    return random.randint(0,100)\n",
    "\n",
    "def generate_transaction_data() -> dict:\n",
    "    return {\n",
    "        'ID' : _get_id(),\n",
    "        'TRANSACTION_TYPE' : _get_trax_type(),\n",
    "        'AMOUNT' : _get_amount(),\n",
    "        'DATE' : _get_time_data()\n",
    "    }\n",
    "\n",
    "\n",
    "generate_transaction_data()"
   ]
  },
  {
   "cell_type": "code",
   "execution_count": null,
   "metadata": {},
   "outputs": [],
   "source": []
  }
 ],
 "metadata": {
  "kernelspec": {
   "display_name": "base",
   "language": "python",
   "name": "python3"
  },
  "language_info": {
   "codemirror_mode": {
    "name": "ipython",
    "version": 3
   },
   "file_extension": ".py",
   "mimetype": "text/x-python",
   "name": "python",
   "nbconvert_exporter": "python",
   "pygments_lexer": "ipython3",
   "version": "3.9.7"
  },
  "orig_nbformat": 4
 },
 "nbformat": 4,
 "nbformat_minor": 2
}
