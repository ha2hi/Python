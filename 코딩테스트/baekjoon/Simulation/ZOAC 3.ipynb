{
 "cells": [
  {
   "cell_type": "code",
   "execution_count": 15,
   "metadata": {},
   "outputs": [
    {
     "name": "stdout",
     "output_type": "stream",
     "text": [
      "8\n"
     ]
    }
   ],
   "source": [
    "# https://www.acmicpc.net/problem/20436\n",
    "sl, sr = input().split()\n",
    "board = [['q','w','e','r','t','y','u','i','o','p'], ['a','s','d','f','g','h','j','k','l'], ['z','x','c','v','b','n','m']]\n",
    "mo = set(['y','u','i','o','p','h','j','k','l','b','n','m'])\n",
    "a = input()\n",
    "res = 0\n",
    "\n",
    "for i in range(3):\n",
    "    if sl in board[i]:\n",
    "        l_x = i\n",
    "        l_y = board[i].index(sl)\n",
    "    if sr in board[i]:\n",
    "        r_x = i\n",
    "        r_y = board[i].index(sr)\n",
    "\n",
    "for x in a:\n",
    "    res += 1\n",
    "    for i in range(3):\n",
    "        if x in board[i]:\n",
    "            if x in mo:\n",
    "                if r_x == board[i] and r_y == board[i].index(x):\n",
    "                    break\n",
    "                res += abs(r_x-i) + abs(r_y-board[i].index(x))\n",
    "                r_x = i\n",
    "                r_y = board[i].index(x)\n",
    "            else:\n",
    "                if l_x == board[i] and l_y == board[i].index(x):\n",
    "                    break\n",
    "                res += abs(l_x-i) + abs(l_y-board[i].index(x))\n",
    "                l_x = i\n",
    "                l_y = board[i].index(x)\n",
    "            \n",
    "\n",
    "print(res)"
   ]
  },
  {
   "cell_type": "code",
   "execution_count": null,
   "metadata": {},
   "outputs": [],
   "source": []
  }
 ],
 "metadata": {
  "kernelspec": {
   "display_name": "base",
   "language": "python",
   "name": "python3"
  },
  "language_info": {
   "codemirror_mode": {
    "name": "ipython",
    "version": 3
   },
   "file_extension": ".py",
   "mimetype": "text/x-python",
   "name": "python",
   "nbconvert_exporter": "python",
   "pygments_lexer": "ipython3",
   "version": "3.9.7"
  }
 },
 "nbformat": 4,
 "nbformat_minor": 2
}
