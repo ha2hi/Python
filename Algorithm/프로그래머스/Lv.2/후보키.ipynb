{
 "cells": [
  {
   "cell_type": "code",
   "execution_count": 103,
   "metadata": {},
   "outputs": [
    {
     "data": {
      "text/plain": [
       "2"
      ]
     },
     "execution_count": 103,
     "metadata": {},
     "output_type": "execute_result"
    }
   ],
   "source": [
    "from itertools import combinations\n",
    "def solution(relation):\n",
    "    row_n = len(relation)\n",
    "    col_n = len(relation[0])\n",
    "    unique = []\n",
    "    comb = []\n",
    "    for i in range(1, col_n+1):\n",
    "        comb.extend(combinations(range(col_n), i))\n",
    "\n",
    "    unique = []\n",
    "    for i in comb:\n",
    "        tmp = [tuple([x[j] for j in i]) for x in relation]\n",
    "        flag = True\n",
    "        if len(set(tmp)) != row_n:\n",
    "            flag = False\n",
    "        \n",
    "        for x in unique:\n",
    "            if set(x).issubset(set(i)):\n",
    "                flag = False\n",
    "                break\n",
    "        if flag:\n",
    "            unique.append(i)\n",
    "    return len(unique)\n",
    "\n",
    "relation = [[\"100\",\"ryan\",\"music\",\"2\"],[\"200\",\"apeach\",\"math\",\"2\"],[\"300\",\"tube\",\"computer\",\"3\"],[\"400\",\"con\",\"computer\",\"4\"],[\"500\",\"muzi\",\"music\",\"3\"],[\"600\",\"apeach\",\"music\",\"2\"]]\n",
    "solution(relation)"
   ]
  },
  {
   "cell_type": "code",
   "execution_count": null,
   "metadata": {},
   "outputs": [],
   "source": []
  }
 ],
 "metadata": {
  "kernelspec": {
   "display_name": "base",
   "language": "python",
   "name": "python3"
  },
  "language_info": {
   "codemirror_mode": {
    "name": "ipython",
    "version": 3
   },
   "file_extension": ".py",
   "mimetype": "text/x-python",
   "name": "python",
   "nbconvert_exporter": "python",
   "pygments_lexer": "ipython3",
   "version": "3.9.7"
  }
 },
 "nbformat": 4,
 "nbformat_minor": 2
}
