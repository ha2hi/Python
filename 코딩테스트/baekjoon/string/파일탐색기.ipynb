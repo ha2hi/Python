{
 "cells": [
  {
   "cell_type": "code",
   "execution_count": 16,
   "metadata": {},
   "outputs": [
    {
     "data": {
      "text/plain": [
       "['a', '12', 'b', 'c', '345']"
      ]
     },
     "execution_count": 16,
     "metadata": {},
     "output_type": "execute_result"
    }
   ],
   "source": [
    "# https://www.acmicpc.net/problem/20210\n",
    "def to_list(word):\n",
    "    li = list(word)\n",
    "    i = 0\n",
    "    while i < len(li):\n",
    "        if li[i].isdigit():\n",
    "            end = i\n",
    "            while end < len(li) and li[end].isdigit():\n",
    "                end += 1\n",
    "            li[i:end] = [''.join(li[i:end])]\n",
    "            i = end - 1\n",
    "        i+= 1\n",
    "    return li\n",
    "\n",
    "def diff(w1, w2):\n",
    "    w1 = to_list(w1)\n",
    "    w2 = to_list(w2)\n",
    "    i = 0\n",
    "    while i < min(len(w1, w2)):\n",
    "        if w1[i] == w2[i]:\n",
    "            i += 1\n",
    "            continue\n",
    "        # 숫자 vs 문자\n",
    "        if w1[i].isdigit() and w2.isalpha():\n",
    "            return -1\n",
    "        elif w1[i].isalpha() and w2[i].isdigit():\n",
    "            return 1\n",
    "        # 문자 vs 문자\n",
    "        elif w1[i].isalpha() and w2[i].isalpha():"
   ]
  },
  {
   "cell_type": "code",
   "execution_count": 20,
   "metadata": {},
   "outputs": [
    {
     "data": {
      "text/plain": [
       "True"
      ]
     },
     "execution_count": 20,
     "metadata": {},
     "output_type": "execute_result"
    }
   ],
   "source": [
    "'a' > 'A'"
   ]
  },
  {
   "cell_type": "code",
   "execution_count": null,
   "metadata": {},
   "outputs": [],
   "source": []
  }
 ],
 "metadata": {
  "kernelspec": {
   "display_name": "base",
   "language": "python",
   "name": "python3"
  },
  "language_info": {
   "codemirror_mode": {
    "name": "ipython",
    "version": 3
   },
   "file_extension": ".py",
   "mimetype": "text/x-python",
   "name": "python",
   "nbconvert_exporter": "python",
   "pygments_lexer": "ipython3",
   "version": "3.9.7"
  }
 },
 "nbformat": 4,
 "nbformat_minor": 2
}
