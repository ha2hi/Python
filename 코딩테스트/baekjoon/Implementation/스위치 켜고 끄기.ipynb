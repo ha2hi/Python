{
 "cells": [
  {
   "cell_type": "code",
   "execution_count": 3,
   "metadata": {},
   "outputs": [
    {
     "name": "stdout",
     "output_type": "stream",
     "text": [
      "1 0 0 0 1 1 0 1 "
     ]
    }
   ],
   "source": [
    "# https://www.acmicpc.net/problem/1244\n",
    "n = int(input())\n",
    "a = list(map(int, input().split()))\n",
    "a.insert(0,0)\n",
    "t = int(input())\n",
    "\n",
    "for _ in range(t):\n",
    "    x, y = map(int, input().split())\n",
    "\n",
    "    if x == 1:\n",
    "        for i in range(y,n+1,y):\n",
    "            a[i] = 1 - a[i]\n",
    "    elif x == 2:\n",
    "        lt = y-1\n",
    "        rt = y+1\n",
    "        while lt > 0 and rt < n+1 and a[lt] == a[rt]:\n",
    "            lt -= 1\n",
    "            rt += 1\n",
    "        for k in range(lt+1, rt):\n",
    "            a[k] = 1-a[k]\n",
    "\n",
    "for i in range(1, n+1):\n",
    "    print(a[i], end = \" \")\n",
    "    if i % 20 == 0:\n",
    "        print()"
   ]
  },
  {
   "cell_type": "code",
   "execution_count": null,
   "metadata": {},
   "outputs": [],
   "source": []
  }
 ],
 "metadata": {
  "kernelspec": {
   "display_name": "base",
   "language": "python",
   "name": "python3"
  },
  "language_info": {
   "codemirror_mode": {
    "name": "ipython",
    "version": 3
   },
   "file_extension": ".py",
   "mimetype": "text/x-python",
   "name": "python",
   "nbconvert_exporter": "python",
   "pygments_lexer": "ipython3",
   "version": "3.9.7"
  }
 },
 "nbformat": 4,
 "nbformat_minor": 2
}
