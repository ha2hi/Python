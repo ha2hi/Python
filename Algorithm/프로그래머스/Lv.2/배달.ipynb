{
 "cells": [
  {
   "cell_type": "code",
   "execution_count": 48,
   "metadata": {},
   "outputs": [
    {
     "data": {
      "text/plain": [
       "3"
      ]
     },
     "execution_count": 48,
     "metadata": {},
     "output_type": "execute_result"
    }
   ],
   "source": [
    "import heapq\n",
    "def dijkstra(dist,adj):\n",
    "    heap = []\n",
    "    heapq.heappush(heap, [0,1])\n",
    "    while heap:\n",
    "        cost, node = heapq.heappop(heap)\n",
    "        for c,n in adj[node]:\n",
    "            if cost+c < dist[n]:\n",
    "                dist[n] = cost+c\n",
    "                heapq.heappush(heap, [cost+c,n])\n",
    "\n",
    "def solution(N, road, K):\n",
    "    dist = [float('inf')]*(N+1)\n",
    "    dist[1] = 0\n",
    "    adj = [[] for _ in range(N+1)]\n",
    "    for r in road:\n",
    "        adj[r[0]].append([r[2],r[1]])\n",
    "        adj[r[1]].append([r[2],r[0]])\n",
    "    dijkstra(dist,adj)\n",
    "    return len([i for i in dist if i <=K])\n",
    "\n",
    "n = 6\n",
    "road = [[1,2,1],[1,3,2],[2,3,2],[3,4,3],[3,5,2],[3,5,3],[5,6,1]]\n",
    "k = 3\n",
    "solution(n, road, k)"
   ]
  },
  {
   "cell_type": "code",
   "execution_count": null,
   "metadata": {},
   "outputs": [],
   "source": []
  }
 ],
 "metadata": {
  "kernelspec": {
   "display_name": "base",
   "language": "python",
   "name": "python3"
  },
  "language_info": {
   "codemirror_mode": {
    "name": "ipython",
    "version": 3
   },
   "file_extension": ".py",
   "mimetype": "text/x-python",
   "name": "python",
   "nbconvert_exporter": "python",
   "pygments_lexer": "ipython3",
   "version": "3.9.7"
  }
 },
 "nbformat": 4,
 "nbformat_minor": 2
}
