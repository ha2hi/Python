{
 "cells": [
  {
   "cell_type": "code",
   "execution_count": 4,
   "metadata": {},
   "outputs": [
    {
     "name": "stdout",
     "output_type": "stream",
     "text": [
      "001.....\n",
      "0013....\n",
      "0001....\n",
      "00011...\n",
      "00001...\n",
      "00123...\n",
      "001.....\n",
      "00123...\n"
     ]
    }
   ],
   "source": [
    "# https://www.acmicpc.net/problem/4396\n",
    "n = int(input())\n",
    "dx = [-1,0,1,0,-1,1,-1,1]\n",
    "dy = [0,1,0,-1,1,1,-1,-1]\n",
    "\n",
    "board = [list(input()) for _ in range(n)]        \n",
    "res = [['.'] * n for _ in range(n)]\n",
    "check = [list(input()) for _ in range(n)]\n",
    "flag = False\n",
    "for i in range(n):\n",
    "    for j in range(n):\n",
    "        if check[i][j] == 'x':\n",
    "            if board[i][j] == '.':\n",
    "                tmp = 0\n",
    "                for k in range(8):\n",
    "                    xx = i + dx[k]\n",
    "                    yy = j + dy[k]\n",
    "                    if 0<=xx<n and 0<=yy<n and board[xx][yy] == '*':\n",
    "                        tmp += 1\n",
    "                res[i][j] = tmp\n",
    "            elif board[i][j] == '*':\n",
    "                for a in range(n):\n",
    "                    for b in range(n):\n",
    "                        if board[a][b] == '*':\n",
    "                            res[a][b] = '*'\n",
    "\n",
    "for i in range(n):\n",
    "    for j in range(n):\n",
    "        print(res[i][j], end='')\n",
    "    print()"
   ]
  },
  {
   "cell_type": "code",
   "execution_count": null,
   "metadata": {},
   "outputs": [],
   "source": []
  }
 ],
 "metadata": {
  "kernelspec": {
   "display_name": "base",
   "language": "python",
   "name": "python3"
  },
  "language_info": {
   "codemirror_mode": {
    "name": "ipython",
    "version": 3
   },
   "file_extension": ".py",
   "mimetype": "text/x-python",
   "name": "python",
   "nbconvert_exporter": "python",
   "pygments_lexer": "ipython3",
   "version": "3.9.7"
  }
 },
 "nbformat": 4,
 "nbformat_minor": 2
}
