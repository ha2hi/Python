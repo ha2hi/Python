{
 "cells": [
  {
   "cell_type": "code",
   "execution_count": null,
   "metadata": {},
   "outputs": [],
   "source": [
    "from math import gcd\n",
    "def get_gcd(arr):\n",
    "    g = arr[0]\n",
    "    for i in range(1, len(arr)):\n",
    "        g = gcd(g, arr[i])\n",
    "    return g\n",
    "\n",
    "def solution(arrayA, arrayB):\n",
    "    res = 0\n",
    "    A, B = get_gcd(arrayA), get_gcd(arrayB)\n",
    "    for b in arrayB:\n",
    "        if b % A == 0:\n",
    "            break\n",
    "    else:\n",
    "        res = max(res, A)\n",
    "    for a in arrayA:\n",
    "        if a % B == 0:\n",
    "            break\n",
    "    else:\n",
    "        res = max(res, B)\n",
    "    return res\n",
    "\n",
    "arrayA = [10, 17]  \n",
    "arrayB = [5,20]\n",
    "solution(arrayA, arrayB)"
   ]
  }
 ],
 "metadata": {
  "language_info": {
   "name": "python"
  }
 },
 "nbformat": 4,
 "nbformat_minor": 2
}
