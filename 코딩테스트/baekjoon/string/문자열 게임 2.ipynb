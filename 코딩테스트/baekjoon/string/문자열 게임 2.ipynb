{
 "cells": [
  {
   "cell_type": "code",
   "execution_count": 1,
   "metadata": {},
   "outputs": [
    {
     "name": "stdout",
     "output_type": "stream",
     "text": [
      "4 8\n",
      "-1\n"
     ]
    }
   ],
   "source": [
    "# https://www.acmicpc.net/problem/20437\n",
    "# 내풀이\n",
    "from collections import Counter\n",
    "t = int(input())\n",
    "for _ in range(t):\n",
    "    s = input()\n",
    "    n = int(input())\n",
    "    res1 = float('inf')\n",
    "    res2 = float('-inf')\n",
    "    count_s = Counter(s)\n",
    "\n",
    "    keys = set([k for k, v in count_s.items() if v>= n])\n",
    "\n",
    "    if count_s.most_common()[0][1] < n:\n",
    "        print(-1)\n",
    "        continue\n",
    "\n",
    "    for i, x in enumerate(s):\n",
    "        if x not in keys:\n",
    "            pass      \n",
    "        elif x in keys:\n",
    "            cnt = 1\n",
    "            idx = i + 1\n",
    "\n",
    "            while cnt != n:\n",
    "                if idx > len(s):\n",
    "                    break\n",
    "                if idx < len(s) and s[idx] == x:\n",
    "                    cnt += 1\n",
    "                idx += 1\n",
    "            if idx < len(s):\n",
    "                res1 = min(res1, idx-i)\n",
    "                res2 = max(res2, idx-i)\n",
    "    print(res1, res2)\n",
    "    "
   ]
  },
  {
   "cell_type": "code",
   "execution_count": null,
   "metadata": {},
   "outputs": [],
   "source": []
  },
  {
   "cell_type": "code",
   "execution_count": 20,
   "metadata": {},
   "outputs": [
    {
     "name": "stdout",
     "output_type": "stream",
     "text": [
      "(2, 3)\n"
     ]
    }
   ],
   "source": [
    "# 다른 사람 풀이\n",
    "from collections import defaultdict\n",
    "def check(dic):\n",
    "    min_res = float('inf')\n",
    "    max_res = float('-inf')\n",
    "    for i in dic:\n",
    "        for j in range(len(dic[i])-k + 1):\n",
    "            length = dic[i][j+k-1] - dic[i][j] + 1\n",
    "            min_res = min(min_res, length)\n",
    "            max_res = max(max_res, length)\n",
    "\n",
    "    return (min_res, max_res)\n",
    "\n",
    "t = int(input())\n",
    "for _ in range(t):\n",
    "    word = input()\n",
    "    k = int(input())\n",
    "    dic = defaultdict(list)\n",
    "    for i in range(len(word)):\n",
    "        if word.count(word[i]) >= k:\n",
    "            dic[word[i]].append(i)\n",
    "    if not dic:\n",
    "        print(-1)\n",
    "    else:\n",
    "        print(check(dic))"
   ]
  },
  {
   "cell_type": "code",
   "execution_count": null,
   "metadata": {},
   "outputs": [],
   "source": []
  }
 ],
 "metadata": {
  "kernelspec": {
   "display_name": "base",
   "language": "python",
   "name": "python3"
  },
  "language_info": {
   "codemirror_mode": {
    "name": "ipython",
    "version": 3
   },
   "file_extension": ".py",
   "mimetype": "text/x-python",
   "name": "python",
   "nbconvert_exporter": "python",
   "pygments_lexer": "ipython3",
   "version": "3.9.7"
  }
 },
 "nbformat": 4,
 "nbformat_minor": 2
}
