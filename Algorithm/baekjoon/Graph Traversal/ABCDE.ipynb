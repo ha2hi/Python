{
 "cells": [
  {
   "cell_type": "code",
   "execution_count": 22,
   "metadata": {},
   "outputs": [
    {
     "name": "stdout",
     "output_type": "stream",
     "text": [
      "1\n"
     ]
    }
   ],
   "source": [
    "# https://www.acmicpc.net/problem/13023\n",
    "def dfs(v, d):\n",
    "    global res\n",
    "    visited[v] = True\n",
    "    if d == 5:\n",
    "        res = True\n",
    "        return\n",
    "    for x in relations[v]:\n",
    "        if not visited[x]:\n",
    "            dfs(x, d+1)\n",
    "    visited[v] = False\n",
    "\n",
    "n, m = map(int, input().split())\n",
    "relations = [[] for _ in range(n)]\n",
    "visited = [False] * n\n",
    "res = False\n",
    "for _ in range(m):\n",
    "    x, y = map(int, input().split())\n",
    "    relations[x].append(y)\n",
    "    relations[y].append(x)\n",
    "\n",
    "for i in range(n):\n",
    "    dfs(i, 1)\n",
    "    if res:\n",
    "        break\n",
    "\n",
    "if res:\n",
    "    print(1)\n",
    "else:\n",
    "    print(0)"
   ]
  },
  {
   "cell_type": "code",
   "execution_count": null,
   "metadata": {},
   "outputs": [],
   "source": [
    "|"
   ]
  }
 ],
 "metadata": {
  "kernelspec": {
   "display_name": "base",
   "language": "python",
   "name": "python3"
  },
  "language_info": {
   "codemirror_mode": {
    "name": "ipython",
    "version": 3
   },
   "file_extension": ".py",
   "mimetype": "text/x-python",
   "name": "python",
   "nbconvert_exporter": "python",
   "pygments_lexer": "ipython3",
   "version": "3.9.7"
  }
 },
 "nbformat": 4,
 "nbformat_minor": 2
}
