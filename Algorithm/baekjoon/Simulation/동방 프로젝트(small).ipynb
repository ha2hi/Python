{
 "cells": [
  {
   "cell_type": "code",
   "execution_count": 36,
   "metadata": {},
   "outputs": [
    {
     "name": "stdout",
     "output_type": "stream",
     "text": [
      "2\n"
     ]
    }
   ],
   "source": [
    "n = int(input())\n",
    "m = int(input())\n",
    "room = [1 for _ in range(n)]\n",
    "\n",
    "if m == 0:\n",
    "    print(n)\n",
    "else:\n",
    "    for _ in range(m):\n",
    "        x, y = map(int, input().split())\n",
    "        for i in range(x-1,y):\n",
    "            room[i] = 0\n",
    "\n",
    "    stack = []\n",
    "    res = 1\n",
    "    for x in room:\n",
    "        if stack and stack[-1] != x:\n",
    "            stack = []\n",
    "            res += 1\n",
    "        stack.append(x)\n",
    "\n",
    "    print(res)"
   ]
  },
  {
   "cell_type": "code",
   "execution_count": 40,
   "metadata": {},
   "outputs": [
    {
     "name": "stdout",
     "output_type": "stream",
     "text": [
      "1\n"
     ]
    }
   ],
   "source": [
    "N = int(input())\n",
    "M = int(input())\n",
    "rooms = [0] * (N)\n",
    "for _ in range(M):\n",
    "    x, y = map(int, input().split())\n",
    "    for room in range(x-1, y):\n",
    "        rooms[room] = 1\n",
    "\n",
    "answer = rooms.count(0)\n",
    "print(answer)"
   ]
  },
  {
   "cell_type": "code",
   "execution_count": null,
   "metadata": {},
   "outputs": [],
   "source": []
  }
 ],
 "metadata": {
  "kernelspec": {
   "display_name": "base",
   "language": "python",
   "name": "python3"
  },
  "language_info": {
   "codemirror_mode": {
    "name": "ipython",
    "version": 3
   },
   "file_extension": ".py",
   "mimetype": "text/x-python",
   "name": "python",
   "nbconvert_exporter": "python",
   "pygments_lexer": "ipython3",
   "version": "3.9.7"
  }
 },
 "nbformat": 4,
 "nbformat_minor": 2
}
