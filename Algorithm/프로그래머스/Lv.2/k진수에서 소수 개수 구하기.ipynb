{
 "cells": [
  {
   "cell_type": "code",
   "execution_count": 28,
   "metadata": {},
   "outputs": [
    {
     "name": "stdout",
     "output_type": "stream",
     "text": [
      "3\n"
     ]
    }
   ],
   "source": [
    "# https://school.programmers.co.kr/learn/courses/30/lessons/92335\n",
    "def solution(n, k):\n",
    "    res = 0\n",
    "    convert = ''\n",
    "    while n:\n",
    "        convert += str(n % k)\n",
    "        n //= k\n",
    "    convert = convert[::-1]\n",
    "    convert = convert.split(\"0\")\n",
    "\n",
    "    for x in convert:\n",
    "        if len(x) == 0 or int(x) <= 1:\n",
    "            continue\n",
    "        for i in range(2, int(int(x)**0.5)+1):\n",
    "            if int(x) % i == 0:\n",
    "                break\n",
    "        else:\n",
    "            res += 1\n",
    "    return res\n",
    "\n",
    "\n",
    "n = 110011\n",
    "k = 10\n",
    "print(solution(n, k))"
   ]
  },
  {
   "cell_type": "code",
   "execution_count": null,
   "metadata": {},
   "outputs": [],
   "source": []
  }
 ],
 "metadata": {
  "kernelspec": {
   "display_name": "base",
   "language": "python",
   "name": "python3"
  },
  "language_info": {
   "codemirror_mode": {
    "name": "ipython",
    "version": 3
   },
   "file_extension": ".py",
   "mimetype": "text/x-python",
   "name": "python",
   "nbconvert_exporter": "python",
   "pygments_lexer": "ipython3",
   "version": "3.9.7"
  }
 },
 "nbformat": 4,
 "nbformat_minor": 2
}
