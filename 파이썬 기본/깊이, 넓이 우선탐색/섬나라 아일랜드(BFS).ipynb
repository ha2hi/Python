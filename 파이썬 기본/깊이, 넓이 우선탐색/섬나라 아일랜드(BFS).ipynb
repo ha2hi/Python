{
 "cells": [
  {
   "cell_type": "code",
   "execution_count": 4,
   "metadata": {},
   "outputs": [
    {
     "name": "stdout",
     "output_type": "stream",
     "text": [
      "5\n"
     ]
    }
   ],
   "source": [
    "from collections import deque\n",
    "dx = [-1,0,1,0,-1,1,1,-1]\n",
    "dy = [0,1,0,-1,1,1,-1,-1]\n",
    "n = int(input())\n",
    "a = [list(map(int, input().split())) for _ in range(n)]\n",
    "q = deque()\n",
    "q.append((0,0))\n",
    "cnt = 0\n",
    "for i in range(n):\n",
    "    for j in range(n):\n",
    "        if a[i][j] == 1:\n",
    "            cnt += 1\n",
    "            q = deque()\n",
    "            q.append((i,j))\n",
    "            while q:\n",
    "                now_x, now_y = q.popleft()\n",
    "                for k in range(8):\n",
    "                    next_x = now_x + dx[k]\n",
    "                    next_y = now_y + dy[k]\n",
    "                    if 0<=next_x<n and 0<=next_y<n and a[next_x][next_y] == 1:\n",
    "                        q.append((next_x, next_y))\n",
    "                        a[next_x][next_y] = 0\n",
    "print(cnt)"
   ]
  },
  {
   "cell_type": "code",
   "execution_count": null,
   "metadata": {},
   "outputs": [],
   "source": []
  }
 ],
 "metadata": {
  "kernelspec": {
   "display_name": "base",
   "language": "python",
   "name": "python3"
  },
  "language_info": {
   "codemirror_mode": {
    "name": "ipython",
    "version": 3
   },
   "file_extension": ".py",
   "mimetype": "text/x-python",
   "name": "python",
   "nbconvert_exporter": "python",
   "pygments_lexer": "ipython3",
   "version": "3.9.7"
  },
  "orig_nbformat": 4
 },
 "nbformat": 4,
 "nbformat_minor": 2
}
