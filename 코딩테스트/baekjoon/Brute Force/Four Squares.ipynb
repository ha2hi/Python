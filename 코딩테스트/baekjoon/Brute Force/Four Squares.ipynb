{
 "cells": [
  {
   "cell_type": "code",
   "execution_count": 24,
   "metadata": {},
   "outputs": [
    {
     "name": "stdout",
     "output_type": "stream",
     "text": [
      "4\n"
     ]
    }
   ],
   "source": [
    "# https://www.acmicpc.net/problem/17626\n",
    "n = int(input())\n",
    "dp = [0,1]\n",
    "\n",
    "for i in range(2, n+1):\n",
    "    if (i**0.5)%1 == 0:\n",
    "        dp.append(1)\n",
    "        continue\n",
    "    tmp = 4\n",
    "    j = 1\n",
    "    while (j**2) <= i:\n",
    "        tmp = min(tmp, dp[i-j**2])\n",
    "        j += 1\n",
    "    dp.append(tmp+1)\n",
    "\n",
    "print(dp[n])"
   ]
  },
  {
   "cell_type": "code",
   "execution_count": null,
   "metadata": {},
   "outputs": [],
   "source": []
  }
 ],
 "metadata": {
  "kernelspec": {
   "display_name": "base",
   "language": "python",
   "name": "python3"
  },
  "language_info": {
   "codemirror_mode": {
    "name": "ipython",
    "version": 3
   },
   "file_extension": ".py",
   "mimetype": "text/x-python",
   "name": "python",
   "nbconvert_exporter": "python",
   "pygments_lexer": "ipython3",
   "version": "3.9.7"
  }
 },
 "nbformat": 4,
 "nbformat_minor": 2
}
