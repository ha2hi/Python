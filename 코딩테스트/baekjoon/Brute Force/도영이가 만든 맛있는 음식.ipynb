{
 "cells": [
  {
   "cell_type": "code",
   "execution_count": 14,
   "metadata": {},
   "outputs": [
    {
     "name": "stdout",
     "output_type": "stream",
     "text": [
      "1\n"
     ]
    }
   ],
   "source": [
    "# https://www.acmicpc.net/problem/2961\n",
    "def dfs(l, s_c, b_c):\n",
    "    global res\n",
    "    if l == n:\n",
    "        if s_c == 1 and b_c == 0:\n",
    "            return\n",
    "        res = min(res, abs(s_c-b_c))\n",
    "    else:\n",
    "        dfs(l+1, s_c*foods[l][0], b_c+foods[l][1])\n",
    "        dfs(l+1, s_c, b_c)\n",
    "\n",
    "\n",
    "n = int(input())\n",
    "foods = []\n",
    "\n",
    "for _ in range(n):\n",
    "    s, b = map(int, input().split())\n",
    "    foods.append((s,b))\n",
    "\n",
    "res = float('inf')\n",
    "dfs(0, 1, 0)\n",
    "print(res)"
   ]
  },
  {
   "cell_type": "code",
   "execution_count": null,
   "metadata": {},
   "outputs": [],
   "source": []
  }
 ],
 "metadata": {
  "kernelspec": {
   "display_name": "base",
   "language": "python",
   "name": "python3"
  },
  "language_info": {
   "codemirror_mode": {
    "name": "ipython",
    "version": 3
   },
   "file_extension": ".py",
   "mimetype": "text/x-python",
   "name": "python",
   "nbconvert_exporter": "python",
   "pygments_lexer": "ipython3",
   "version": "3.9.7"
  }
 },
 "nbformat": 4,
 "nbformat_minor": 2
}
