{
 "cells": [
  {
   "cell_type": "code",
   "execution_count": 15,
   "metadata": {},
   "outputs": [
    {
     "name": "stdout",
     "output_type": "stream",
     "text": [
      "3 4 8 12\n",
      "2 11 10 16\n",
      "1 7 6 15\n",
      "5 9 13 14\n"
     ]
    }
   ],
   "source": [
    "# https://www.acmicpc.net/problem/16926\n",
    "from collections import deque\n",
    "n, m, r = map(int, input().split())\n",
    "board = [list(map(int, input().split())) for _ in range(n)]\n",
    "q = deque()\n",
    "answer = [[0] * m for _ in range(n)]\n",
    "\n",
    "loops = min(n,m) // 2\n",
    "for i in range(loops):\n",
    "    q.clear()\n",
    "    q.extend(board[i][i:m-i]) # 위\n",
    "    q.extend([row[m-i-1] for row in board[i+1:n-i-1]]) # 오른쪽\n",
    "    q.extend(board[n-i-1][i:m-i][::-1]) # 아래\n",
    "    q.extend([row[i] for row in board[i+1:n-i-1][::-1]]) # 왼쪽\n",
    "\n",
    "    q.rotate(-r)\n",
    "\n",
    "    for j in range(i, m-i):             # 위\n",
    "        answer[i][j] = q.popleft() \n",
    "    for j in range(i+1, n-i-1):         # 오른쪽\n",
    "        answer[j][m-i-1] = q.popleft()\n",
    "    for j in range(m-i-1, i-1, -1):     # 아래\n",
    "        answer[n-i-1][j] = q.popleft()\n",
    "    for j in range(n-i-2, i, -1):       # 왼쪽\n",
    "        answer[j][i] = q.popleft()\n",
    "\n",
    "for row in answer:\n",
    "    print(*row)"
   ]
  },
  {
   "cell_type": "code",
   "execution_count": null,
   "metadata": {},
   "outputs": [],
   "source": []
  }
 ],
 "metadata": {
  "kernelspec": {
   "display_name": "base",
   "language": "python",
   "name": "python3"
  },
  "language_info": {
   "codemirror_mode": {
    "name": "ipython",
    "version": 3
   },
   "file_extension": ".py",
   "mimetype": "text/x-python",
   "name": "python",
   "nbconvert_exporter": "python",
   "pygments_lexer": "ipython3",
   "version": "3.9.-1"
  }
 },
 "nbformat": 4,
 "nbformat_minor": 2
}
