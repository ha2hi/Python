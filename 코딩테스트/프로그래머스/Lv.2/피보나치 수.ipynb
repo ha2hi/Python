{
 "cells": [
  {
   "cell_type": "code",
   "execution_count": 2,
   "metadata": {},
   "outputs": [
    {
     "data": {
      "text/plain": [
       "5"
      ]
     },
     "execution_count": 2,
     "metadata": {},
     "output_type": "execute_result"
    }
   ],
   "source": [
    "# https://school.programmers.co.kr/learn/courses/30/lessons/12945\n",
    "# 시간 초과 발생\n",
    "def solution(n):\n",
    "    def fibo(n):\n",
    "        if n == 0:\n",
    "            return 0\n",
    "        elif n == 1:\n",
    "            return 1\n",
    "        else:\n",
    "            return fibo(n-1) + fibo(n-2)\n",
    "    return fibo(n)\n",
    "\n",
    "\n",
    "n = 5\n",
    "solution(n)"
   ]
  },
  {
   "cell_type": "code",
   "execution_count": null,
   "metadata": {},
   "outputs": [],
   "source": [
    "def solution(n):\n",
    "    answer = [0,1]\n",
    "    for i in range(2, n+1):\n",
    "        answer.append(answer[i-1] + answer[i-2])\n",
    "\n",
    "    return answer[n]%1234567\n",
    "\n",
    "\n",
    "n = 5\n",
    "solution(n)"
   ]
  },
  {
   "cell_type": "code",
   "execution_count": null,
   "metadata": {},
   "outputs": [],
   "source": []
  }
 ],
 "metadata": {
  "kernelspec": {
   "display_name": "base",
   "language": "python",
   "name": "python3"
  },
  "language_info": {
   "codemirror_mode": {
    "name": "ipython",
    "version": 3
   },
   "file_extension": ".py",
   "mimetype": "text/x-python",
   "name": "python",
   "nbconvert_exporter": "python",
   "pygments_lexer": "ipython3",
   "version": "3.9.7"
  }
 },
 "nbformat": 4,
 "nbformat_minor": 2
}
