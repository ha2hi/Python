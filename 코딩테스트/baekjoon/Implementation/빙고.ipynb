{
 "cells": [
  {
   "cell_type": "code",
   "execution_count": 5,
   "metadata": {},
   "outputs": [
    {
     "name": "stdout",
     "output_type": "stream",
     "text": [
      "15\n"
     ]
    }
   ],
   "source": [
    "# https://www.acmicpc.net/problem/2578\n",
    "def check(ch):\n",
    "    bingo = 0\n",
    "    for i in range(5):\n",
    "        if ch[i].count(1) == 5:\n",
    "            bingo += 1\n",
    "    \n",
    "    for i in range(5):\n",
    "        tmp = 0\n",
    "        for j in range(5):\n",
    "            if ch[j][i] == 1:\n",
    "                tmp += 1\n",
    "        if tmp ==5:\n",
    "            bingo += 1\n",
    "    \n",
    "    tmp_l_c, tmp_r_c = 0, 0\n",
    "    for i in range(5):\n",
    "        if ch[i][i] == 1:\n",
    "            tmp_l_c += 1\n",
    "        if ch[4-i][i] == 1:\n",
    "            tmp_r_c += 1\n",
    "    if tmp_l_c ==5:\n",
    "        bingo += 1\n",
    "    if tmp_r_c ==5:\n",
    "        bingo += 1\n",
    "    \n",
    "    return bingo\n",
    "\n",
    "def solution(board, calls):\n",
    "    ch = [[0]*5 for _ in range(5)]\n",
    "    res = 0\n",
    "\n",
    "    for x in calls:\n",
    "        res += 1\n",
    "        for i in range(5):\n",
    "            for j in range(5):\n",
    "                if board[i][j] == x:\n",
    "                    ch[i][j] = 1\n",
    "        \n",
    "        if res >= 10:\n",
    "            if check(ch) >= 3:\n",
    "                return res\n",
    "\n",
    "\n",
    "board = [list(map(int, input().split())) for _ in range(5)]\n",
    "calls = []\n",
    "for _ in range(5):\n",
    "    a = list(map(int, input().split()))\n",
    "    calls.extend(a)\n",
    "\n",
    "print(solution(board, calls))"
   ]
  },
  {
   "cell_type": "code",
   "execution_count": null,
   "metadata": {},
   "outputs": [],
   "source": []
  }
 ],
 "metadata": {
  "kernelspec": {
   "display_name": "base",
   "language": "python",
   "name": "python3"
  },
  "language_info": {
   "codemirror_mode": {
    "name": "ipython",
    "version": 3
   },
   "file_extension": ".py",
   "mimetype": "text/x-python",
   "name": "python",
   "nbconvert_exporter": "python",
   "pygments_lexer": "ipython3",
   "version": "3.9.-1"
  }
 },
 "nbformat": 4,
 "nbformat_minor": 2
}
